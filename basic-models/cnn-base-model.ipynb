{
 "cells": [
  {
   "cell_type": "code",
   "execution_count": 1,
   "id": "initial_id",
   "metadata": {
    "collapsed": true,
    "ExecuteTime": {
     "end_time": "2024-04-19T12:29:55.120669Z",
     "start_time": "2024-04-19T12:29:33.653062Z"
    }
   },
   "outputs": [],
   "source": [
    "import pandas as pd\n",
    "import numpy as np\n",
    "import os\n",
    "import cv2\n",
    "import tensorflow as tf\n",
    "from sklearn.model_selection import train_test_split\n",
    "import json"
   ]
  },
  {
   "cell_type": "code",
   "execution_count": 5,
   "outputs": [],
   "source": [
    "# Data loading\n",
    "\n",
    "# load json file\n",
    "# load image paths and labels\n",
    "\n"
   ],
   "metadata": {
    "collapsed": false,
    "ExecuteTime": {
     "end_time": "2024-04-19T12:47:06.311187Z",
     "start_time": "2024-04-19T12:47:06.303980Z"
    }
   },
   "id": "7ded92cb9ddc7c06"
  },
  {
   "cell_type": "code",
   "execution_count": 5,
   "outputs": [],
   "source": [
    "# Data preperation\n",
    "\n",
    "# prepare data for training\n",
    "# create tensorflow dataset\n",
    "# map function for loading images\n",
    "# apply mapping and batch data\n",
    "\n"
   ],
   "metadata": {
    "collapsed": false,
    "ExecuteTime": {
     "end_time": "2024-04-19T12:47:09.013366Z",
     "start_time": "2024-04-19T12:47:09.006185Z"
    }
   },
   "id": "250aaa9140f986f6"
  },
  {
   "cell_type": "code",
   "execution_count": 5,
   "outputs": [],
   "source": [
    "# Model definition\n",
    "\n",
    "# define cnn architecture\n",
    "# compile model\n",
    "\n"
   ],
   "metadata": {
    "collapsed": false,
    "ExecuteTime": {
     "end_time": "2024-04-19T12:47:11.493341Z",
     "start_time": "2024-04-19T12:47:11.488723Z"
    }
   },
   "id": "b199e4c30bafdbca"
  },
  {
   "cell_type": "code",
   "execution_count": 5,
   "outputs": [],
   "source": [
    "# Training\n",
    "\n",
    "# train the model\n",
    "# monitor training progress\n",
    "\n"
   ],
   "metadata": {
    "collapsed": false,
    "ExecuteTime": {
     "end_time": "2024-04-19T12:47:13.968644Z",
     "start_time": "2024-04-19T12:47:13.959147Z"
    }
   },
   "id": "7a8955982b842761"
  },
  {
   "cell_type": "code",
   "execution_count": 6,
   "outputs": [],
   "source": [
    "# Evaluate model\n",
    "\n",
    "# evaluate model performance\n"
   ],
   "metadata": {
    "collapsed": false,
    "ExecuteTime": {
     "end_time": "2024-04-19T12:53:06.603139Z",
     "start_time": "2024-04-19T12:53:06.597099Z"
    }
   },
   "id": "a851f34265eb0c32"
  },
  {
   "cell_type": "code",
   "execution_count": 7,
   "outputs": [],
   "source": [
    "# Prediction\n",
    "\n",
    "# make predictions"
   ],
   "metadata": {
    "collapsed": false,
    "ExecuteTime": {
     "end_time": "2024-04-19T12:53:19.000468Z",
     "start_time": "2024-04-19T12:53:18.993770Z"
    }
   },
   "id": "5bcd10c8fe46d314"
  }
 ],
 "metadata": {
  "kernelspec": {
   "display_name": "Python 3",
   "language": "python",
   "name": "python3"
  },
  "language_info": {
   "codemirror_mode": {
    "name": "ipython",
    "version": 2
   },
   "file_extension": ".py",
   "mimetype": "text/x-python",
   "name": "python",
   "nbconvert_exporter": "python",
   "pygments_lexer": "ipython2",
   "version": "2.7.6"
  }
 },
 "nbformat": 4,
 "nbformat_minor": 5
}
