{
 "cells": [
  {
   "cell_type": "code",
   "execution_count": 1,
   "id": "initial_id",
   "metadata": {
    "collapsed": true,
    "ExecuteTime": {
     "end_time": "2024-04-19T11:29:12.888902Z",
     "start_time": "2024-04-19T11:29:08.470820Z"
    }
   },
   "outputs": [],
   "source": [
    "import pandas as pd\n",
    "from PIL import Image\n",
    "import numpy as np\n",
    "import os\n",
    "import cv2\n",
    "import tensorflow as tf\n",
    "from tensorflow.keras import layers, models\n",
    "from sklearn.model_selection import train_test_split"
   ]
  },
  {
   "cell_type": "code",
   "execution_count": 5,
   "outputs": [],
   "source": [
    "### Data loader\n",
    "\n"
   ],
   "metadata": {
    "collapsed": false,
    "ExecuteTime": {
     "end_time": "2024-04-19T11:37:32.460683Z",
     "start_time": "2024-04-19T11:37:32.454887Z"
    }
   },
   "id": "7ded92cb9ddc7c06"
  },
  {
   "cell_type": "code",
   "execution_count": 6,
   "outputs": [
    {
     "ename": "NameError",
     "evalue": "name 'models' is not defined",
     "output_type": "error",
     "traceback": [
      "\u001B[0;31m---------------------------------------------------------------------------\u001B[0m",
      "\u001B[0;31mNameError\u001B[0m                                 Traceback (most recent call last)",
      "Cell \u001B[0;32mIn[6], line 2\u001B[0m\n\u001B[1;32m      1\u001B[0m \u001B[38;5;66;03m# Define CNN architecture\u001B[39;00m\n\u001B[0;32m----> 2\u001B[0m model \u001B[38;5;241m=\u001B[39m \u001B[43mmodels\u001B[49m\u001B[38;5;241m.\u001B[39mSequential([\n\u001B[1;32m      3\u001B[0m     layers\u001B[38;5;241m.\u001B[39mConv2D(\u001B[38;5;241m32\u001B[39m, (\u001B[38;5;241m3\u001B[39m, \u001B[38;5;241m3\u001B[39m), activation\u001B[38;5;241m=\u001B[39m\u001B[38;5;124m'\u001B[39m\u001B[38;5;124mrelu\u001B[39m\u001B[38;5;124m'\u001B[39m, input_shape\u001B[38;5;241m=\u001B[39m(\u001B[38;5;241m100\u001B[39m, \u001B[38;5;241m100\u001B[39m, \u001B[38;5;241m3\u001B[39m)),\n\u001B[1;32m      4\u001B[0m     layers\u001B[38;5;241m.\u001B[39mMaxPooling2D((\u001B[38;5;241m2\u001B[39m, \u001B[38;5;241m2\u001B[39m)),\n\u001B[1;32m      5\u001B[0m     layers\u001B[38;5;241m.\u001B[39mConv2D(\u001B[38;5;241m64\u001B[39m, (\u001B[38;5;241m3\u001B[39m, \u001B[38;5;241m3\u001B[39m), activation\u001B[38;5;241m=\u001B[39m\u001B[38;5;124m'\u001B[39m\u001B[38;5;124mrelu\u001B[39m\u001B[38;5;124m'\u001B[39m),\n\u001B[1;32m      6\u001B[0m     layers\u001B[38;5;241m.\u001B[39mMaxPooling2D((\u001B[38;5;241m2\u001B[39m, \u001B[38;5;241m2\u001B[39m)),\n\u001B[1;32m      7\u001B[0m     layers\u001B[38;5;241m.\u001B[39mConv2D(\u001B[38;5;241m64\u001B[39m, (\u001B[38;5;241m3\u001B[39m, \u001B[38;5;241m3\u001B[39m), activation\u001B[38;5;241m=\u001B[39m\u001B[38;5;124m'\u001B[39m\u001B[38;5;124mrelu\u001B[39m\u001B[38;5;124m'\u001B[39m),\n\u001B[1;32m      8\u001B[0m     layers\u001B[38;5;241m.\u001B[39mFlatten(),\n\u001B[1;32m      9\u001B[0m     layers\u001B[38;5;241m.\u001B[39mDense(\u001B[38;5;241m64\u001B[39m, activation\u001B[38;5;241m=\u001B[39m\u001B[38;5;124m'\u001B[39m\u001B[38;5;124mrelu\u001B[39m\u001B[38;5;124m'\u001B[39m),\n\u001B[1;32m     10\u001B[0m     layers\u001B[38;5;241m.\u001B[39mDense(\u001B[38;5;241m1\u001B[39m)  \u001B[38;5;66;03m# Output layer for regression task\u001B[39;00m\n\u001B[1;32m     11\u001B[0m ])\n\u001B[1;32m     13\u001B[0m \u001B[38;5;66;03m# Compile the model\u001B[39;00m\n\u001B[1;32m     14\u001B[0m model\u001B[38;5;241m.\u001B[39mcompile(optimizer\u001B[38;5;241m=\u001B[39m\u001B[38;5;124m'\u001B[39m\u001B[38;5;124madam\u001B[39m\u001B[38;5;124m'\u001B[39m,\n\u001B[1;32m     15\u001B[0m               loss\u001B[38;5;241m=\u001B[39m\u001B[38;5;124m'\u001B[39m\u001B[38;5;124mmse\u001B[39m\u001B[38;5;124m'\u001B[39m,  \u001B[38;5;66;03m# Mean Squared Error for regression task\u001B[39;00m\n\u001B[1;32m     16\u001B[0m               metrics\u001B[38;5;241m=\u001B[39m[\u001B[38;5;124m'\u001B[39m\u001B[38;5;124mmae\u001B[39m\u001B[38;5;124m'\u001B[39m])  \u001B[38;5;66;03m# Mean Absolute Error for evaluation\u001B[39;00m\n",
      "\u001B[0;31mNameError\u001B[0m: name 'models' is not defined"
     ]
    }
   ],
   "source": [
    "# Define CNN architecture\n",
    "model = models.Sequential([\n",
    "    layers.Conv2D(32, (3, 3), activation='relu', input_shape=(100, 100, 3)),\n",
    "    layers.MaxPooling2D((2, 2)),\n",
    "    layers.Conv2D(64, (3, 3), activation='relu'),\n",
    "    layers.MaxPooling2D((2, 2)),\n",
    "    layers.Conv2D(64, (3, 3), activation='relu'),\n",
    "    layers.Flatten(),\n",
    "    layers.Dense(64, activation='relu'),\n",
    "    layers.Dense(1)  # Output layer for regression task\n",
    "])\n",
    "\n",
    "# Compile the model\n",
    "model.compile(optimizer='adam',\n",
    "              loss='mse',  # Mean Squared Error for regression task\n",
    "              metrics=['mae'])  # Mean Absolute Error for evaluation"
   ],
   "metadata": {
    "collapsed": false,
    "ExecuteTime": {
     "end_time": "2024-04-19T12:21:50.376193Z",
     "start_time": "2024-04-19T12:21:50.364960Z"
    }
   },
   "id": "250aaa9140f986f6"
  },
  {
   "cell_type": "code",
   "execution_count": null,
   "outputs": [],
   "source": [
    "# Split data into training and validation sets\n",
    "X_train, X_val, y_train, y_val = train_test_split(image_paths, labels, test_size=0.2, random_state=42)\n",
    "\n",
    "# Define data generators for loading images in batches\n",
    "# You can use data augmentation techniques here if needed\n",
    "# Example: https://www.tensorflow.org/api_docs/python/tf/keras/preprocessing/image/ImageDataGenerator"
   ],
   "metadata": {
    "collapsed": false
   },
   "id": "b199e4c30bafdbca"
  },
  {
   "cell_type": "code",
   "execution_count": null,
   "outputs": [],
   "source": [
    "# Evaluate the model\n",
    "val_loss, val_mae = model.evaluate(X_val, y_val)\n",
    "\n",
    "# Make predictions on test data\n",
    "# Example: predictions = model.predict(test_data)"
   ],
   "metadata": {
    "collapsed": false
   },
   "id": "7a8955982b842761"
  }
 ],
 "metadata": {
  "kernelspec": {
   "display_name": "Python 3",
   "language": "python",
   "name": "python3"
  },
  "language_info": {
   "codemirror_mode": {
    "name": "ipython",
    "version": 2
   },
   "file_extension": ".py",
   "mimetype": "text/x-python",
   "name": "python",
   "nbconvert_exporter": "python",
   "pygments_lexer": "ipython2",
   "version": "2.7.6"
  }
 },
 "nbformat": 4,
 "nbformat_minor": 5
}
