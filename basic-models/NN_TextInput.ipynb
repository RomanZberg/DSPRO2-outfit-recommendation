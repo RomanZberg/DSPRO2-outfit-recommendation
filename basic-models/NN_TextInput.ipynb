{
 "cells": [
  {
   "cell_type": "code",
   "execution_count": null,
   "id": "initial_id",
   "metadata": {
    "collapsed": true,
    "is_executing": true
   },
   "outputs": [],
   "source": [
    "import numpy as np\n",
    "import pandas as pd\n",
    "from matplotlib import pyplot as plt\n",
    "\n",
    "import sklearn\n",
    "from sklearn.linear_model import Perceptron\n",
    "from sklearn.neural_network import MLPClassifier\n",
    "from sklearn.metrics import accuracy_score, f1_score\n",
    "from sklearn.model_selection import train_test_split\n",
    "from tqdm.notebook import tqdm\n",
    "import seaborn as sns\n",
    "from sklearn.metrics import accuracy_score\n",
    "from tensorflow.keras.models import Sequential\n",
    "from tensorflow.keras.layers import Dense, InputLayer\n",
    "from sklearn.preprocessing import StandardScaler\n",
    "from sklearn.preprocessing import MinMaxScaler\n",
    "import tensorflow\n"
   ]
  },
  {
   "cell_type": "code",
   "execution_count": null,
   "outputs": [],
   "source": [
    "df = pd.read_csv('../datasets/cleaned/Encoded_Dataframe.csv')"
   ],
   "metadata": {
    "collapsed": false,
    "is_executing": true
   },
   "id": "4ad2f0f1e59c82b6"
  },
  {
   "cell_type": "code",
   "execution_count": null,
   "outputs": [],
   "source": [
    "for column in df.columns:\n",
    "    print(f'\"{column}\",')"
   ],
   "metadata": {
    "collapsed": false,
    "is_executing": true
   },
   "id": "6ba26ec0fcb59c61"
  },
  {
   "cell_type": "code",
   "execution_count": null,
   "outputs": [],
   "source": [
    "df"
   ],
   "metadata": {
    "collapsed": false,
    "is_executing": true
   },
   "id": "9f482cfb73917073"
  },
  {
   "cell_type": "code",
   "execution_count": null,
   "outputs": [],
   "source": [
    "columnns_x = [\"Innerwear wearType\", \"Bottomwear wearType\", \"Accessoire wearType\", \"Shoes wearType\", \"Outerwear wearType\"]\n",
    "columnns_y = [\"Good_Outfit\"]"
   ],
   "metadata": {
    "collapsed": false,
    "is_executing": true
   },
   "id": "3e353b69b266aebe"
  },
  {
   "cell_type": "code",
   "execution_count": null,
   "outputs": [],
   "source": [
    "columns_without_NaN = [\"Innerwear 1st Dominant Color Nearest Color_0\",\n",
    "\"Innerwear 1st Dominant Color Nearest Color_1\",\n",
    "\"Innerwear 1st Dominant Color Nearest Color_2\",\n",
    "\"Innerwear 1st Dominant Color Nearest Color_3\",\n",
    "\"Innerwear 1st Dominant Color Nearest Color_4\",\n",
    "\"Innerwear 1st Dominant Color Nearest Color_5\",\n",
    "\"Innerwear 1st Dominant Color Nearest Color_6\",\n",
    "\"Innerwear 1st Dominant Color Nearest Color_7\",\n",
    "\"Innerwear 1st Dominant Color Nearest Color_8\",\n",
    "\"Innerwear 1st Dominant Color Nearest Color_9\",\n",
    "\"Innerwear 2nd Dominant Color Nearest Color_0\",\n",
    "\"Innerwear 2nd Dominant Color Nearest Color_1\",\n",
    "\"Innerwear 2nd Dominant Color Nearest Color_2\",\n",
    "\"Innerwear 2nd Dominant Color Nearest Color_3\",\n",
    "\"Innerwear 2nd Dominant Color Nearest Color_4\",\n",
    "\"Innerwear 2nd Dominant Color Nearest Color_5\",\n",
    "\"Innerwear 2nd Dominant Color Nearest Color_6\",\n",
    "\"Innerwear 2nd Dominant Color Nearest Color_7\",\n",
    "\"Innerwear 2nd Dominant Color Nearest Color_8\",\n",
    "\"Innerwear 2nd Dominant Color Nearest Color_9\",\n",
    "\"Innerwear 3rd Dominant Color Nearest Color_0\",\n",
    "\"Innerwear 3rd Dominant Color Nearest Color_1\",\n",
    "\"Innerwear 3rd Dominant Color Nearest Color_2\",\n",
    "\"Innerwear 3rd Dominant Color Nearest Color_3\",\n",
    "\"Innerwear 3rd Dominant Color Nearest Color_4\",\n",
    "\"Innerwear 3rd Dominant Color Nearest Color_5\",\n",
    "\"Innerwear 3rd Dominant Color Nearest Color_6\",\n",
    "\"Innerwear 3rd Dominant Color Nearest Color_7\",\n",
    "\"Innerwear 3rd Dominant Color Nearest Color_8\",\n",
    "\"Innerwear 3rd Dominant Color Nearest Color_9\",\n",
    "\"Innerwear 4th Dominant Color Nearest Color_0\",\n",
    "\"Innerwear 4th Dominant Color Nearest Color_1\",\n",
    "\"Innerwear 4th Dominant Color Nearest Color_2\",\n",
    "\"Innerwear 4th Dominant Color Nearest Color_3\",\n",
    "\"Innerwear 4th Dominant Color Nearest Color_4\",\n",
    "\"Innerwear 4th Dominant Color Nearest Color_5\",\n",
    "\"Innerwear 4th Dominant Color Nearest Color_6\",\n",
    "\"Innerwear 4th Dominant Color Nearest Color_7\",\n",
    "\"Innerwear 4th Dominant Color Nearest Color_8\",\n",
    "\"Innerwear 4th Dominant Color Nearest Color_9\",\n",
    "\"Bottomwear 1st Dominant Color Nearest Color_0\",\n",
    "\"Bottomwear 1st Dominant Color Nearest Color_1\",\n",
    "\"Bottomwear 1st Dominant Color Nearest Color_2\",\n",
    "\"Bottomwear 1st Dominant Color Nearest Color_3\",\n",
    "\"Bottomwear 1st Dominant Color Nearest Color_4\",\n",
    "\"Bottomwear 1st Dominant Color Nearest Color_5\",\n",
    "\"Bottomwear 1st Dominant Color Nearest Color_6\",\n",
    "\"Bottomwear 1st Dominant Color Nearest Color_7\",\n",
    "\"Bottomwear 1st Dominant Color Nearest Color_8\",\n",
    "\"Bottomwear 1st Dominant Color Nearest Color_9\",\n",
    "\"Bottomwear 2nd Dominant Color Nearest Color_0\",\n",
    "\"Bottomwear 2nd Dominant Color Nearest Color_1\",\n",
    "\"Bottomwear 2nd Dominant Color Nearest Color_2\",\n",
    "\"Bottomwear 2nd Dominant Color Nearest Color_3\",\n",
    "\"Bottomwear 2nd Dominant Color Nearest Color_4\",\n",
    "\"Bottomwear 2nd Dominant Color Nearest Color_5\",\n",
    "\"Bottomwear 2nd Dominant Color Nearest Color_6\",\n",
    "\"Bottomwear 2nd Dominant Color Nearest Color_7\",\n",
    "\"Bottomwear 2nd Dominant Color Nearest Color_8\",\n",
    "\"Bottomwear 2nd Dominant Color Nearest Color_9\",\n",
    "\"Bottomwear 3rd Dominant Color Nearest Color_0\",\n",
    "\"Bottomwear 3rd Dominant Color Nearest Color_1\",\n",
    "\"Bottomwear 3rd Dominant Color Nearest Color_2\",\n",
    "\"Bottomwear 3rd Dominant Color Nearest Color_3\",\n",
    "\"Bottomwear 3rd Dominant Color Nearest Color_4\",\n",
    "\"Bottomwear 3rd Dominant Color Nearest Color_5\",\n",
    "\"Bottomwear 3rd Dominant Color Nearest Color_6\",\n",
    "\"Bottomwear 3rd Dominant Color Nearest Color_7\",\n",
    "\"Bottomwear 3rd Dominant Color Nearest Color_8\",\n",
    "\"Bottomwear 3rd Dominant Color Nearest Color_9\",\n",
    "\"Bottomwear 4th Dominant Color Nearest Color_0\",\n",
    "\"Bottomwear 4th Dominant Color Nearest Color_1\",\n",
    "\"Bottomwear 4th Dominant Color Nearest Color_2\",\n",
    "\"Bottomwear 4th Dominant Color Nearest Color_3\",\n",
    "\"Bottomwear 4th Dominant Color Nearest Color_4\",\n",
    "\"Bottomwear 4th Dominant Color Nearest Color_5\",\n",
    "\"Bottomwear 4th Dominant Color Nearest Color_6\",\n",
    "\"Bottomwear 4th Dominant Color Nearest Color_7\",\n",
    "\"Bottomwear 4th Dominant Color Nearest Color_8\",\n",
    "\"Bottomwear 4th Dominant Color Nearest Color_9\",\n",
    "\"Accessoire 1st Dominant Color Nearest Color_0.0\",\n",
    "\"Accessoire 1st Dominant Color Nearest Color_1.0\",\n",
    "\"Accessoire 1st Dominant Color Nearest Color_2.0\",\n",
    "\"Accessoire 1st Dominant Color Nearest Color_3.0\",\n",
    "\"Accessoire 1st Dominant Color Nearest Color_4.0\",\n",
    "\"Accessoire 1st Dominant Color Nearest Color_5.0\",\n",
    "\"Accessoire 1st Dominant Color Nearest Color_6.0\",\n",
    "\"Accessoire 1st Dominant Color Nearest Color_7.0\",\n",
    "\"Accessoire 1st Dominant Color Nearest Color_8.0\",\n",
    "\"Accessoire 1st Dominant Color Nearest Color_9.0\",\n",
    "\"Accessoire 2nd Dominant Color Nearest Color_0.0\",\n",
    "\"Accessoire 2nd Dominant Color Nearest Color_1.0\",\n",
    "\"Accessoire 2nd Dominant Color Nearest Color_2.0\",\n",
    "\"Accessoire 2nd Dominant Color Nearest Color_3.0\",\n",
    "\"Accessoire 2nd Dominant Color Nearest Color_4.0\",\n",
    "\"Accessoire 2nd Dominant Color Nearest Color_5.0\",\n",
    "\"Accessoire 2nd Dominant Color Nearest Color_6.0\",\n",
    "\"Accessoire 2nd Dominant Color Nearest Color_7.0\",\n",
    "\"Accessoire 2nd Dominant Color Nearest Color_8.0\",\n",
    "\"Accessoire 2nd Dominant Color Nearest Color_9.0\",\n",
    "\"Accessoire 3rd Dominant Color Nearest Color_0.0\",\n",
    "\"Accessoire 3rd Dominant Color Nearest Color_1.0\",\n",
    "\"Accessoire 3rd Dominant Color Nearest Color_2.0\",\n",
    "\"Accessoire 3rd Dominant Color Nearest Color_3.0\",\n",
    "\"Accessoire 3rd Dominant Color Nearest Color_4.0\",\n",
    "\"Accessoire 3rd Dominant Color Nearest Color_5.0\",\n",
    "\"Accessoire 3rd Dominant Color Nearest Color_6.0\",\n",
    "\"Accessoire 3rd Dominant Color Nearest Color_7.0\",\n",
    "\"Accessoire 3rd Dominant Color Nearest Color_8.0\",\n",
    "\"Accessoire 3rd Dominant Color Nearest Color_9.0\",\n",
    "\"Accessoire 4th Dominant Color Nearest Color_0.0\",\n",
    "\"Accessoire 4th Dominant Color Nearest Color_1.0\",\n",
    "\"Accessoire 4th Dominant Color Nearest Color_2.0\",\n",
    "\"Accessoire 4th Dominant Color Nearest Color_3.0\",\n",
    "\"Accessoire 4th Dominant Color Nearest Color_4.0\",\n",
    "\"Accessoire 4th Dominant Color Nearest Color_5.0\",\n",
    "\"Accessoire 4th Dominant Color Nearest Color_6.0\",\n",
    "\"Accessoire 4th Dominant Color Nearest Color_7.0\",\n",
    "\"Accessoire 4th Dominant Color Nearest Color_8.0\",\n",
    "\"Accessoire 4th Dominant Color Nearest Color_9.0\",\n",
    "\"Shoes 1st Dominant Color Nearest Color_0.0\",\n",
    "\"Shoes 1st Dominant Color Nearest Color_1.0\",\n",
    "\"Shoes 1st Dominant Color Nearest Color_2.0\",\n",
    "\"Shoes 1st Dominant Color Nearest Color_3.0\",\n",
    "\"Shoes 1st Dominant Color Nearest Color_4.0\",\n",
    "\"Shoes 1st Dominant Color Nearest Color_5.0\",\n",
    "\"Shoes 1st Dominant Color Nearest Color_6.0\",\n",
    "\"Shoes 1st Dominant Color Nearest Color_7.0\",\n",
    "\"Shoes 1st Dominant Color Nearest Color_8.0\",\n",
    "\"Shoes 1st Dominant Color Nearest Color_9.0\",\n",
    "\"Shoes 2nd Dominant Color Nearest Color_0.0\",\n",
    "\"Shoes 2nd Dominant Color Nearest Color_1.0\",\n",
    "\"Shoes 2nd Dominant Color Nearest Color_2.0\",\n",
    "\"Shoes 2nd Dominant Color Nearest Color_3.0\",\n",
    "\"Shoes 2nd Dominant Color Nearest Color_4.0\",\n",
    "\"Shoes 2nd Dominant Color Nearest Color_5.0\",\n",
    "\"Shoes 2nd Dominant Color Nearest Color_6.0\",\n",
    "\"Shoes 2nd Dominant Color Nearest Color_7.0\",\n",
    "\"Shoes 2nd Dominant Color Nearest Color_8.0\",\n",
    "\"Shoes 2nd Dominant Color Nearest Color_9.0\",\n",
    "\"Shoes 3rd Dominant Color Nearest Color_0.0\",\n",
    "\"Shoes 3rd Dominant Color Nearest Color_1.0\",\n",
    "\"Shoes 3rd Dominant Color Nearest Color_2.0\",\n",
    "\"Shoes 3rd Dominant Color Nearest Color_3.0\",\n",
    "\"Shoes 3rd Dominant Color Nearest Color_4.0\",\n",
    "\"Shoes 3rd Dominant Color Nearest Color_5.0\",\n",
    "\"Shoes 3rd Dominant Color Nearest Color_6.0\",\n",
    "\"Shoes 3rd Dominant Color Nearest Color_7.0\",\n",
    "\"Shoes 3rd Dominant Color Nearest Color_8.0\",\n",
    "\"Shoes 3rd Dominant Color Nearest Color_9.0\",\n",
    "\"Shoes 4th Dominant Color Nearest Color_0.0\",\n",
    "\"Shoes 4th Dominant Color Nearest Color_1.0\",\n",
    "\"Shoes 4th Dominant Color Nearest Color_2.0\",\n",
    "\"Shoes 4th Dominant Color Nearest Color_3.0\",\n",
    "\"Shoes 4th Dominant Color Nearest Color_4.0\",\n",
    "\"Shoes 4th Dominant Color Nearest Color_5.0\",\n",
    "\"Shoes 4th Dominant Color Nearest Color_6.0\",\n",
    "\"Shoes 4th Dominant Color Nearest Color_7.0\",\n",
    "\"Shoes 4th Dominant Color Nearest Color_8.0\",\n",
    "\"Shoes 4th Dominant Color Nearest Color_9.0\",\n",
    "\"Outerwear 1st Dominant Color Nearest Color_0.0\",\n",
    "\"Outerwear 1st Dominant Color Nearest Color_1.0\",\n",
    "\"Outerwear 1st Dominant Color Nearest Color_2.0\",\n",
    "\"Outerwear 1st Dominant Color Nearest Color_3.0\",\n",
    "\"Outerwear 1st Dominant Color Nearest Color_4.0\",\n",
    "\"Outerwear 1st Dominant Color Nearest Color_5.0\",\n",
    "\"Outerwear 1st Dominant Color Nearest Color_6.0\",\n",
    "\"Outerwear 1st Dominant Color Nearest Color_7.0\",\n",
    "\"Outerwear 1st Dominant Color Nearest Color_8.0\",\n",
    "\"Outerwear 1st Dominant Color Nearest Color_9.0\",\n",
    "\"Outerwear 2nd Dominant Color Nearest Color_0.0\",\n",
    "\"Outerwear 2nd Dominant Color Nearest Color_1.0\",\n",
    "\"Outerwear 2nd Dominant Color Nearest Color_2.0\",\n",
    "\"Outerwear 2nd Dominant Color Nearest Color_3.0\",\n",
    "\"Outerwear 2nd Dominant Color Nearest Color_4.0\",\n",
    "\"Outerwear 2nd Dominant Color Nearest Color_5.0\",\n",
    "\"Outerwear 2nd Dominant Color Nearest Color_6.0\",\n",
    "\"Outerwear 2nd Dominant Color Nearest Color_7.0\",\n",
    "\"Outerwear 2nd Dominant Color Nearest Color_8.0\",\n",
    "\"Outerwear 2nd Dominant Color Nearest Color_9.0\",\n",
    "\"Outerwear 3rd Dominant Color Nearest Color_0.0\",\n",
    "\"Outerwear 3rd Dominant Color Nearest Color_1.0\",\n",
    "\"Outerwear 3rd Dominant Color Nearest Color_2.0\",\n",
    "\"Outerwear 3rd Dominant Color Nearest Color_3.0\",\n",
    "\"Outerwear 3rd Dominant Color Nearest Color_4.0\",\n",
    "\"Outerwear 3rd Dominant Color Nearest Color_5.0\",\n",
    "\"Outerwear 3rd Dominant Color Nearest Color_6.0\",\n",
    "\"Outerwear 3rd Dominant Color Nearest Color_7.0\",\n",
    "\"Outerwear 3rd Dominant Color Nearest Color_8.0\",\n",
    "\"Outerwear 3rd Dominant Color Nearest Color_9.0\",\n",
    "\"Outerwear 4th Dominant Color Nearest Color_0.0\",\n",
    "\"Outerwear 4th Dominant Color Nearest Color_1.0\",\n",
    "\"Outerwear 4th Dominant Color Nearest Color_2.0\",\n",
    "\"Outerwear 4th Dominant Color Nearest Color_3.0\",\n",
    "\"Outerwear 4th Dominant Color Nearest Color_4.0\",\n",
    "\"Outerwear 4th Dominant Color Nearest Color_5.0\",\n",
    "\"Outerwear 4th Dominant Color Nearest Color_6.0\",\n",
    "\"Outerwear 4th Dominant Color Nearest Color_7.0\",\n",
    "\"Outerwear 4th Dominant Color Nearest Color_8.0\",\n",
    "\"Outerwear 4th Dominant Color Nearest Color_9.0\"]"
   ],
   "metadata": {
    "collapsed": false,
    "is_executing": true
   },
   "id": "3d95b65bb74e2b7e"
  },
  {
   "cell_type": "code",
   "execution_count": null,
   "outputs": [],
   "source": [
    "columnns_x.extend(columns_without_NaN)"
   ],
   "metadata": {
    "collapsed": false,
    "is_executing": true
   },
   "id": "4a2bd06092a48de3"
  },
  {
   "cell_type": "code",
   "execution_count": null,
   "outputs": [],
   "source": [
    "X = df[columnns_x]\n",
    "X_without_NaN = df[columns_without_NaN]"
   ],
   "metadata": {
    "collapsed": false,
    "is_executing": true
   },
   "id": "9f70e8fac08b8cb4"
  },
  {
   "cell_type": "code",
   "execution_count": null,
   "outputs": [],
   "source": [
    "X.sample(10, random_state=42)"
   ],
   "metadata": {
    "collapsed": false,
    "is_executing": true
   },
   "id": "3ee9c5a362fda86a"
  },
  {
   "cell_type": "code",
   "execution_count": null,
   "outputs": [],
   "source": [
    "#Fill the NaN values with 0\n",
    "X.fillna(0, inplace=True)"
   ],
   "metadata": {
    "collapsed": false,
    "is_executing": true
   },
   "id": "918bd31473deb8a6"
  },
  {
   "cell_type": "code",
   "execution_count": null,
   "outputs": [],
   "source": [
    "X.sample(10, random_state=42)"
   ],
   "metadata": {
    "collapsed": false,
    "is_executing": true
   },
   "id": "36fc3192c0ced6cb"
  },
  {
   "cell_type": "code",
   "execution_count": null,
   "outputs": [],
   "source": [
    "y = df[columnns_y]"
   ],
   "metadata": {
    "collapsed": false,
    "is_executing": true
   },
   "id": "f1c8aa50b15bf477"
  },
  {
   "cell_type": "code",
   "execution_count": null,
   "outputs": [],
   "source": [
    "X_train, X_test, y_train, y_test = train_test_split(X, y, test_size=0.2, random_state=42)"
   ],
   "metadata": {
    "collapsed": false,
    "is_executing": true
   },
   "id": "46a0552013e8becb"
  },
  {
   "cell_type": "code",
   "execution_count": null,
   "outputs": [],
   "source": [
    "scaler = MinMaxScaler()\n",
    "\n",
    "X_train_scaled = scaler.fit_transform(X_train)\n",
    "X_test_scaled = scaler.transform(X_test)"
   ],
   "metadata": {
    "collapsed": false,
    "is_executing": true
   },
   "id": "5c0e9f7dd4589fe9"
  },
  {
   "cell_type": "code",
   "execution_count": null,
   "outputs": [],
   "source": [
    "X_train_scaled"
   ],
   "metadata": {
    "collapsed": false,
    "is_executing": true
   },
   "id": "a018ffb1135f46c0"
  },
  {
   "cell_type": "code",
   "execution_count": null,
   "outputs": [],
   "source": [
    "mlp = MLPClassifier(hidden_layer_sizes=(30,15),\n",
    "                    activation='relu',  # activation function\n",
    "                    solver='adam',  # optimizer\n",
    "                    batch_size=512)"
   ],
   "metadata": {
    "collapsed": false,
    "is_executing": true
   },
   "id": "a8de03a927ff032a"
  },
  {
   "cell_type": "code",
   "execution_count": null,
   "outputs": [],
   "source": [
    "from sklearn.neighbors import KNeighborsClassifier\n",
    "neigh = KNeighborsClassifier(n_neighbors=4)\n",
    "neigh.fit(X_train, y_train)\n",
    "prediction = neigh.predict(X_test)\n",
    "accuracy = accuracy_score(y_test, prediction)\n",
    "accuracy"
   ],
   "metadata": {
    "collapsed": false,
    "is_executing": true
   },
   "id": "fbc890ff6076708f"
  },
  {
   "cell_type": "code",
   "execution_count": null,
   "outputs": [],
   "source": [
    "prediction = neigh.predict(X_test)\n",
    "accuracy = accuracy_score(y_test, prediction)"
   ],
   "metadata": {
    "collapsed": false,
    "is_executing": true
   },
   "id": "9081374cc09c8ee9"
  },
  {
   "cell_type": "code",
   "execution_count": null,
   "outputs": [],
   "source": [
    "accuracy"
   ],
   "metadata": {
    "collapsed": false,
    "is_executing": true
   },
   "id": "31023a4b8a6f4fd"
  },
  {
   "cell_type": "code",
   "execution_count": null,
   "outputs": [],
   "source": [
    "# KNN with scaled data"
   ],
   "metadata": {
    "collapsed": false,
    "is_executing": true
   },
   "id": "f0897a8ed1c17b2b"
  },
  {
   "cell_type": "code",
   "execution_count": null,
   "outputs": [],
   "source": [
    "neigh_scaled = KNeighborsClassifier(n_neighbors=3)\n",
    "neigh_scaled.fit(X_train_scaled, y_train)\n",
    "\n"
   ],
   "metadata": {
    "collapsed": false,
    "is_executing": true
   },
   "id": "e2624f195a7859de"
  },
  {
   "cell_type": "code",
   "execution_count": null,
   "outputs": [],
   "source": [
    "prediction_scaled = neigh_scaled.predict(X_test_scaled)\n",
    "accuracy_scaled = accuracy_score(y_test, prediction_scaled)\n",
    "print(accuracy_scaled)"
   ],
   "metadata": {
    "collapsed": false,
    "is_executing": true
   },
   "id": "9513d480d2cbb0ea"
  },
  {
   "cell_type": "markdown",
   "source": [
    "# Neural Network"
   ],
   "metadata": {
    "collapsed": false
   },
   "id": "7c03f7a521097bc"
  },
  {
   "cell_type": "code",
   "execution_count": null,
   "outputs": [],
   "source": [
    "NN = Sequential()\n",
    "#NN.add(Dense(128, input_dim=X_train.shape[1], activation='relu'))\n",
    "NN.add(InputLayer(shape=(X_train.shape[1],)))\n",
    "NN.add(Dense(32, activation='relu'))\n",
    "NN.add(Dense(1, activation='sigmoid'))\n",
    "NN.compile(loss='binary_crossentropy', optimizer='adam', metrics=['accuracy'])\n"
   ],
   "metadata": {
    "collapsed": false,
    "is_executing": true
   },
   "id": "b8d6c6b1de89d8ae"
  },
  {
   "cell_type": "code",
   "execution_count": null,
   "outputs": [],
   "source": [
    "NN.summary()"
   ],
   "metadata": {
    "collapsed": false,
    "is_executing": true
   },
   "id": "8ec6d55f092eb602"
  },
  {
   "cell_type": "code",
   "execution_count": null,
   "outputs": [],
   "source": [
    "#NN.fit(X_train_scaled, y_train, epochs=10, batch_size=512, verbose=1)"
   ],
   "metadata": {
    "collapsed": false,
    "is_executing": true
   },
   "id": "e0f751c5a16adb44"
  },
  {
   "cell_type": "code",
   "execution_count": null,
   "outputs": [],
   "source": [
    "mlp = MLPClassifier(hidden_layer_sizes=(30,15),\n",
    "                    activation='relu',  # activation function\n",
    "                    solver='adam',  # optimizer\n",
    "                    batch_size=32)  # size of minibatches"
   ],
   "metadata": {
    "collapsed": false,
    "is_executing": true
   },
   "id": "c3f3e45745b66e37"
  },
  {
   "cell_type": "code",
   "execution_count": null,
   "outputs": [],
   "source": [
    "mlp.fit(X_train_scaled, y_train)\n",
    "y_pred_scikit = mlp.predict(X_test)\n",
    "f1 = f1_score(y_test, y_pred_scikit)\n",
    "f1"
   ],
   "metadata": {
    "collapsed": false,
    "is_executing": true
   },
   "id": "4694793fc78fcbda"
  },
  {
   "cell_type": "code",
   "execution_count": null,
   "outputs": [],
   "source": [
    "from tensorflow.keras.models import Sequential\n",
    "from tensorflow.keras.layers import Dense\n",
    "\n",
    "# Define the model\n",
    "model = Sequential()\n",
    "\n",
    "# Add an input layer with 32 nodes\n",
    "model.add(Dense(32, input_dim=X_train.shape[1], activation='relu'))\n",
    "\n",
    "# Add a hidden layer with 16 nodes\n",
    "#model.add(Dense(16, activation='relu'))\n",
    "\n",
    "# Add an output layer with 1 node (for binary classification)\n",
    "model.add(Dense(1, activation='sigmoid'))\n",
    "\n",
    "# Compile the model\n",
    "model.compile(loss='binary_crossentropy', optimizer='adam', metrics=['accuracy'])\n",
    "\n",
    "# Train the model"
   ],
   "metadata": {
    "collapsed": false,
    "is_executing": true
   },
   "id": "2a077f1a57ff00cc"
  },
  {
   "cell_type": "code",
   "execution_count": null,
   "outputs": [],
   "source": [
    "from keras import backend as K\n",
    "from keras.models import Sequential\n",
    "from keras.layers import Dense\n",
    "\n",
    "gpus = tensorflow.config.experimental.list_physical_devices('GPU')\n",
    "print(gpus)\n",
    "\n",
    "# Check if GPU is available\n",
    "if gpus:\n",
    "    device = '/gpu:0'\n",
    "else:\n",
    "    device = '/cpu:0'\n",
    "\n",
    "# Set the device for training\n",
    "with tensorflow.device(device):\n",
    "    # Train your model\n",
    "    model.fit(X_train, y_train, epochs=10, batch_size=32, verbose=1)\n"
   ],
   "metadata": {
    "collapsed": false,
    "is_executing": true
   },
   "id": "41c8fccd2ec84665"
  },
  {
   "cell_type": "code",
   "execution_count": null,
   "outputs": [],
   "source": [],
   "metadata": {
    "collapsed": false,
    "is_executing": true
   },
   "id": "12c545611f308c2e"
  }
 ],
 "metadata": {
  "kernelspec": {
   "display_name": "Python 3",
   "language": "python",
   "name": "python3"
  },
  "language_info": {
   "codemirror_mode": {
    "name": "ipython",
    "version": 2
   },
   "file_extension": ".py",
   "mimetype": "text/x-python",
   "name": "python",
   "nbconvert_exporter": "python",
   "pygments_lexer": "ipython2",
   "version": "2.7.6"
  }
 },
 "nbformat": 4,
 "nbformat_minor": 5
}
