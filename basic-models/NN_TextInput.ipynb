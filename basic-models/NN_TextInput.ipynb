{
 "cells": [
  {
   "cell_type": "code",
   "execution_count": 1,
   "id": "initial_id",
   "metadata": {
    "collapsed": true,
    "ExecuteTime": {
     "end_time": "2024-05-16T17:09:01.063956Z",
     "start_time": "2024-05-16T17:08:57.463515Z"
    }
   },
   "outputs": [],
   "source": [
    "import numpy as np\n",
    "import pandas as pd\n",
    "from matplotlib import pyplot as plt\n",
    "\n",
    "import sklearn\n",
    "from sklearn.linear_model import Perceptron\n",
    "from sklearn.neural_network import MLPClassifier\n",
    "from sklearn.metrics import accuracy_score, f1_score\n",
    "from sklearn.model_selection import train_test_split\n",
    "from tqdm.notebook import tqdm\n",
    "import seaborn as sns\n",
    "from sklearn.metrics import accuracy_score\n",
    "from tensorflow.keras.models import Sequential\n",
    "from tensorflow.keras.layers import Dense, InputLayer\n",
    "from sklearn.preprocessing import StandardScaler\n",
    "from sklearn.preprocessing import MinMaxScaler\n",
    "import tensorflow\n"
   ]
  },
  {
   "cell_type": "code",
   "execution_count": 2,
   "outputs": [],
   "source": [
    "df = pd.read_csv('../datasets/cleaned/Encoded_Dataframe.csv')"
   ],
   "metadata": {
    "collapsed": false,
    "ExecuteTime": {
     "end_time": "2024-05-16T17:09:01.341483Z",
     "start_time": "2024-05-16T17:09:01.064267Z"
    }
   },
   "id": "4ad2f0f1e59c82b6"
  },
  {
   "cell_type": "code",
   "execution_count": 3,
   "outputs": [
    {
     "name": "stdout",
     "output_type": "stream",
     "text": [
      "\"Unnamed: 0\",\n",
      "\"setID\",\n",
      "\"OutfitName\",\n",
      "\"outfitDesc\",\n",
      "\"outfitViews\",\n",
      "\"outfitLikes\",\n",
      "\"Ratio\",\n",
      "\"Innerwear ClothingItemName\",\n",
      "\"Innerwear wearType\",\n",
      "\"Innerwear ImagePath\",\n",
      "\"Innerwear ImagePath 256x256\",\n",
      "\"Innerwear ImagePath BG Removed\",\n",
      "\"Innerwear 1st Dominant Color\",\n",
      "\"Innerwear 1st Dominant Hex Code\",\n",
      "\"Innerwear 1st Dominant Color Name\",\n",
      "\"Innerwear 2nd Dominant Color\",\n",
      "\"Innerwear 2nd Dominant Hex Code\",\n",
      "\"Innerwear 2nd Dominant Color Name\",\n",
      "\"Innerwear 3rd Dominant Color\",\n",
      "\"Innerwear 3rd Dominant Hex Code\",\n",
      "\"Innerwear 3rd Dominant Color Name\",\n",
      "\"Innerwear 4th Dominant Color\",\n",
      "\"Innerwear 4th Dominant Hex Code\",\n",
      "\"Innerwear 4th Dominant Color Name\",\n",
      "\"Bottomwear ClothingItemName\",\n",
      "\"Bottomwear wearType\",\n",
      "\"Bottomwear ImagePath\",\n",
      "\"Bottomwear ImagePath 256x256\",\n",
      "\"Bottomwear ImagePath BG Removed\",\n",
      "\"Bottomwear 1st Dominant Color\",\n",
      "\"Bottomwear 1st Dominant Hex Code\",\n",
      "\"Bottomwear 1st Dominant Color Name\",\n",
      "\"Bottomwear 2nd Dominant Color\",\n",
      "\"Bottomwear 2nd Dominant Hex Code\",\n",
      "\"Bottomwear 2nd Dominant Color Name\",\n",
      "\"Bottomwear 3rd Dominant Color\",\n",
      "\"Bottomwear 3rd Dominant Hex Code\",\n",
      "\"Bottomwear 3rd Dominant Color Name\",\n",
      "\"Bottomwear 4th Dominant Color\",\n",
      "\"Bottomwear 4th Dominant Hex Code\",\n",
      "\"Bottomwear 4th Dominant Color Name\",\n",
      "\"Accessoire ClothingItemName\",\n",
      "\"Accessoire wearType\",\n",
      "\"Accessoire ImagePath\",\n",
      "\"Accessoire ImagePath 256x256\",\n",
      "\"Accessoire ImagePath BG Removed\",\n",
      "\"Accessoire 1st Dominant Color\",\n",
      "\"Accessoire 1st Dominant Hex Code\",\n",
      "\"Accessoire 1st Dominant Color Name\",\n",
      "\"Accessoire 2nd Dominant Color\",\n",
      "\"Accessoire 2nd Dominant Hex Code\",\n",
      "\"Accessoire 2nd Dominant Color Name\",\n",
      "\"Accessoire 3rd Dominant Color\",\n",
      "\"Accessoire 3rd Dominant Hex Code\",\n",
      "\"Accessoire 3rd Dominant Color Name\",\n",
      "\"Accessoire 4th Dominant Color\",\n",
      "\"Accessoire 4th Dominant Hex Code\",\n",
      "\"Accessoire 4th Dominant Color Name\",\n",
      "\"Shoes ClothingItemName\",\n",
      "\"Shoes wearType\",\n",
      "\"Shoes ImagePath\",\n",
      "\"Shoes ImagePath 256x256\",\n",
      "\"Shoes ImagePath BG Removed\",\n",
      "\"Shoes 1st Dominant Color\",\n",
      "\"Shoes 1st Dominant Hex Code\",\n",
      "\"Shoes 1st Dominant Color Name\",\n",
      "\"Shoes 2nd Dominant Color\",\n",
      "\"Shoes 2nd Dominant Hex Code\",\n",
      "\"Shoes 2nd Dominant Color Name\",\n",
      "\"Shoes 3rd Dominant Color\",\n",
      "\"Shoes 3rd Dominant Hex Code\",\n",
      "\"Shoes 3rd Dominant Color Name\",\n",
      "\"Shoes 4th Dominant Color\",\n",
      "\"Shoes 4th Dominant Hex Code\",\n",
      "\"Shoes 4th Dominant Color Name\",\n",
      "\"Outerwear ClothingItemName\",\n",
      "\"Outerwear wearType\",\n",
      "\"Outerwear ImagePath\",\n",
      "\"Outerwear ImagePath 256x256\",\n",
      "\"Outerwear ImagePath BG Removed\",\n",
      "\"Outerwear 1st Dominant Color\",\n",
      "\"Outerwear 1st Dominant Hex Code\",\n",
      "\"Outerwear 1st Dominant Color Name\",\n",
      "\"Outerwear 2nd Dominant Color\",\n",
      "\"Outerwear 2nd Dominant Hex Code\",\n",
      "\"Outerwear 2nd Dominant Color Name\",\n",
      "\"Outerwear 3rd Dominant Color\",\n",
      "\"Outerwear 3rd Dominant Hex Code\",\n",
      "\"Outerwear 3rd Dominant Color Name\",\n",
      "\"Outerwear 4th Dominant Color\",\n",
      "\"Outerwear 4th Dominant Hex Code\",\n",
      "\"Outerwear 4th Dominant Color Name\",\n",
      "\"Good_Outfit\",\n",
      "\"Innerwear 1st Dominant Color Nearest Color\",\n",
      "\"Innerwear 2nd Dominant Color Nearest Color\",\n",
      "\"Innerwear 3rd Dominant Color Nearest Color\",\n",
      "\"Innerwear 4th Dominant Color Nearest Color\",\n",
      "\"Bottomwear 1st Dominant Color Nearest Color\",\n",
      "\"Bottomwear 2nd Dominant Color Nearest Color\",\n",
      "\"Bottomwear 3rd Dominant Color Nearest Color\",\n",
      "\"Bottomwear 4th Dominant Color Nearest Color\",\n",
      "\"Accessoire 1st Dominant Color Nearest Color\",\n",
      "\"Accessoire 2nd Dominant Color Nearest Color\",\n",
      "\"Accessoire 3rd Dominant Color Nearest Color\",\n",
      "\"Accessoire 4th Dominant Color Nearest Color\",\n",
      "\"Shoes 1st Dominant Color Nearest Color\",\n",
      "\"Shoes 2nd Dominant Color Nearest Color\",\n",
      "\"Shoes 3rd Dominant Color Nearest Color\",\n",
      "\"Shoes 4th Dominant Color Nearest Color\",\n",
      "\"Outerwear 1st Dominant Color Nearest Color\",\n",
      "\"Outerwear 2nd Dominant Color Nearest Color\",\n",
      "\"Outerwear 3rd Dominant Color Nearest Color\",\n",
      "\"Outerwear 4th Dominant Color Nearest Color\",\n",
      "\"Innerwear 1st Dominant Color Nearest Color_0\",\n",
      "\"Innerwear 1st Dominant Color Nearest Color_1\",\n",
      "\"Innerwear 1st Dominant Color Nearest Color_2\",\n",
      "\"Innerwear 1st Dominant Color Nearest Color_3\",\n",
      "\"Innerwear 1st Dominant Color Nearest Color_4\",\n",
      "\"Innerwear 1st Dominant Color Nearest Color_5\",\n",
      "\"Innerwear 1st Dominant Color Nearest Color_6\",\n",
      "\"Innerwear 1st Dominant Color Nearest Color_7\",\n",
      "\"Innerwear 1st Dominant Color Nearest Color_8\",\n",
      "\"Innerwear 1st Dominant Color Nearest Color_9\",\n",
      "\"Innerwear 2nd Dominant Color Nearest Color_0\",\n",
      "\"Innerwear 2nd Dominant Color Nearest Color_1\",\n",
      "\"Innerwear 2nd Dominant Color Nearest Color_2\",\n",
      "\"Innerwear 2nd Dominant Color Nearest Color_3\",\n",
      "\"Innerwear 2nd Dominant Color Nearest Color_4\",\n",
      "\"Innerwear 2nd Dominant Color Nearest Color_5\",\n",
      "\"Innerwear 2nd Dominant Color Nearest Color_6\",\n",
      "\"Innerwear 2nd Dominant Color Nearest Color_7\",\n",
      "\"Innerwear 2nd Dominant Color Nearest Color_8\",\n",
      "\"Innerwear 2nd Dominant Color Nearest Color_9\",\n",
      "\"Innerwear 3rd Dominant Color Nearest Color_0\",\n",
      "\"Innerwear 3rd Dominant Color Nearest Color_1\",\n",
      "\"Innerwear 3rd Dominant Color Nearest Color_2\",\n",
      "\"Innerwear 3rd Dominant Color Nearest Color_3\",\n",
      "\"Innerwear 3rd Dominant Color Nearest Color_4\",\n",
      "\"Innerwear 3rd Dominant Color Nearest Color_5\",\n",
      "\"Innerwear 3rd Dominant Color Nearest Color_6\",\n",
      "\"Innerwear 3rd Dominant Color Nearest Color_7\",\n",
      "\"Innerwear 3rd Dominant Color Nearest Color_8\",\n",
      "\"Innerwear 3rd Dominant Color Nearest Color_9\",\n",
      "\"Innerwear 4th Dominant Color Nearest Color_0\",\n",
      "\"Innerwear 4th Dominant Color Nearest Color_1\",\n",
      "\"Innerwear 4th Dominant Color Nearest Color_2\",\n",
      "\"Innerwear 4th Dominant Color Nearest Color_3\",\n",
      "\"Innerwear 4th Dominant Color Nearest Color_4\",\n",
      "\"Innerwear 4th Dominant Color Nearest Color_5\",\n",
      "\"Innerwear 4th Dominant Color Nearest Color_6\",\n",
      "\"Innerwear 4th Dominant Color Nearest Color_7\",\n",
      "\"Innerwear 4th Dominant Color Nearest Color_8\",\n",
      "\"Innerwear 4th Dominant Color Nearest Color_9\",\n",
      "\"Bottomwear 1st Dominant Color Nearest Color_0\",\n",
      "\"Bottomwear 1st Dominant Color Nearest Color_1\",\n",
      "\"Bottomwear 1st Dominant Color Nearest Color_2\",\n",
      "\"Bottomwear 1st Dominant Color Nearest Color_3\",\n",
      "\"Bottomwear 1st Dominant Color Nearest Color_4\",\n",
      "\"Bottomwear 1st Dominant Color Nearest Color_5\",\n",
      "\"Bottomwear 1st Dominant Color Nearest Color_6\",\n",
      "\"Bottomwear 1st Dominant Color Nearest Color_7\",\n",
      "\"Bottomwear 1st Dominant Color Nearest Color_8\",\n",
      "\"Bottomwear 1st Dominant Color Nearest Color_9\",\n",
      "\"Bottomwear 2nd Dominant Color Nearest Color_0\",\n",
      "\"Bottomwear 2nd Dominant Color Nearest Color_1\",\n",
      "\"Bottomwear 2nd Dominant Color Nearest Color_2\",\n",
      "\"Bottomwear 2nd Dominant Color Nearest Color_3\",\n",
      "\"Bottomwear 2nd Dominant Color Nearest Color_4\",\n",
      "\"Bottomwear 2nd Dominant Color Nearest Color_5\",\n",
      "\"Bottomwear 2nd Dominant Color Nearest Color_6\",\n",
      "\"Bottomwear 2nd Dominant Color Nearest Color_7\",\n",
      "\"Bottomwear 2nd Dominant Color Nearest Color_8\",\n",
      "\"Bottomwear 2nd Dominant Color Nearest Color_9\",\n",
      "\"Bottomwear 3rd Dominant Color Nearest Color_0\",\n",
      "\"Bottomwear 3rd Dominant Color Nearest Color_1\",\n",
      "\"Bottomwear 3rd Dominant Color Nearest Color_2\",\n",
      "\"Bottomwear 3rd Dominant Color Nearest Color_3\",\n",
      "\"Bottomwear 3rd Dominant Color Nearest Color_4\",\n",
      "\"Bottomwear 3rd Dominant Color Nearest Color_5\",\n",
      "\"Bottomwear 3rd Dominant Color Nearest Color_6\",\n",
      "\"Bottomwear 3rd Dominant Color Nearest Color_7\",\n",
      "\"Bottomwear 3rd Dominant Color Nearest Color_8\",\n",
      "\"Bottomwear 3rd Dominant Color Nearest Color_9\",\n",
      "\"Bottomwear 4th Dominant Color Nearest Color_0\",\n",
      "\"Bottomwear 4th Dominant Color Nearest Color_1\",\n",
      "\"Bottomwear 4th Dominant Color Nearest Color_2\",\n",
      "\"Bottomwear 4th Dominant Color Nearest Color_3\",\n",
      "\"Bottomwear 4th Dominant Color Nearest Color_4\",\n",
      "\"Bottomwear 4th Dominant Color Nearest Color_5\",\n",
      "\"Bottomwear 4th Dominant Color Nearest Color_6\",\n",
      "\"Bottomwear 4th Dominant Color Nearest Color_7\",\n",
      "\"Bottomwear 4th Dominant Color Nearest Color_8\",\n",
      "\"Bottomwear 4th Dominant Color Nearest Color_9\",\n",
      "\"Accessoire 1st Dominant Color Nearest Color_0.0\",\n",
      "\"Accessoire 1st Dominant Color Nearest Color_1.0\",\n",
      "\"Accessoire 1st Dominant Color Nearest Color_2.0\",\n",
      "\"Accessoire 1st Dominant Color Nearest Color_3.0\",\n",
      "\"Accessoire 1st Dominant Color Nearest Color_4.0\",\n",
      "\"Accessoire 1st Dominant Color Nearest Color_5.0\",\n",
      "\"Accessoire 1st Dominant Color Nearest Color_6.0\",\n",
      "\"Accessoire 1st Dominant Color Nearest Color_7.0\",\n",
      "\"Accessoire 1st Dominant Color Nearest Color_8.0\",\n",
      "\"Accessoire 1st Dominant Color Nearest Color_9.0\",\n",
      "\"Accessoire 2nd Dominant Color Nearest Color_0.0\",\n",
      "\"Accessoire 2nd Dominant Color Nearest Color_1.0\",\n",
      "\"Accessoire 2nd Dominant Color Nearest Color_2.0\",\n",
      "\"Accessoire 2nd Dominant Color Nearest Color_3.0\",\n",
      "\"Accessoire 2nd Dominant Color Nearest Color_4.0\",\n",
      "\"Accessoire 2nd Dominant Color Nearest Color_5.0\",\n",
      "\"Accessoire 2nd Dominant Color Nearest Color_6.0\",\n",
      "\"Accessoire 2nd Dominant Color Nearest Color_7.0\",\n",
      "\"Accessoire 2nd Dominant Color Nearest Color_8.0\",\n",
      "\"Accessoire 2nd Dominant Color Nearest Color_9.0\",\n",
      "\"Accessoire 3rd Dominant Color Nearest Color_0.0\",\n",
      "\"Accessoire 3rd Dominant Color Nearest Color_1.0\",\n",
      "\"Accessoire 3rd Dominant Color Nearest Color_2.0\",\n",
      "\"Accessoire 3rd Dominant Color Nearest Color_3.0\",\n",
      "\"Accessoire 3rd Dominant Color Nearest Color_4.0\",\n",
      "\"Accessoire 3rd Dominant Color Nearest Color_5.0\",\n",
      "\"Accessoire 3rd Dominant Color Nearest Color_6.0\",\n",
      "\"Accessoire 3rd Dominant Color Nearest Color_7.0\",\n",
      "\"Accessoire 3rd Dominant Color Nearest Color_8.0\",\n",
      "\"Accessoire 3rd Dominant Color Nearest Color_9.0\",\n",
      "\"Accessoire 4th Dominant Color Nearest Color_0.0\",\n",
      "\"Accessoire 4th Dominant Color Nearest Color_1.0\",\n",
      "\"Accessoire 4th Dominant Color Nearest Color_2.0\",\n",
      "\"Accessoire 4th Dominant Color Nearest Color_3.0\",\n",
      "\"Accessoire 4th Dominant Color Nearest Color_4.0\",\n",
      "\"Accessoire 4th Dominant Color Nearest Color_5.0\",\n",
      "\"Accessoire 4th Dominant Color Nearest Color_6.0\",\n",
      "\"Accessoire 4th Dominant Color Nearest Color_7.0\",\n",
      "\"Accessoire 4th Dominant Color Nearest Color_8.0\",\n",
      "\"Accessoire 4th Dominant Color Nearest Color_9.0\",\n",
      "\"Shoes 1st Dominant Color Nearest Color_0.0\",\n",
      "\"Shoes 1st Dominant Color Nearest Color_1.0\",\n",
      "\"Shoes 1st Dominant Color Nearest Color_2.0\",\n",
      "\"Shoes 1st Dominant Color Nearest Color_3.0\",\n",
      "\"Shoes 1st Dominant Color Nearest Color_4.0\",\n",
      "\"Shoes 1st Dominant Color Nearest Color_5.0\",\n",
      "\"Shoes 1st Dominant Color Nearest Color_6.0\",\n",
      "\"Shoes 1st Dominant Color Nearest Color_7.0\",\n",
      "\"Shoes 1st Dominant Color Nearest Color_8.0\",\n",
      "\"Shoes 1st Dominant Color Nearest Color_9.0\",\n",
      "\"Shoes 2nd Dominant Color Nearest Color_0.0\",\n",
      "\"Shoes 2nd Dominant Color Nearest Color_1.0\",\n",
      "\"Shoes 2nd Dominant Color Nearest Color_2.0\",\n",
      "\"Shoes 2nd Dominant Color Nearest Color_3.0\",\n",
      "\"Shoes 2nd Dominant Color Nearest Color_4.0\",\n",
      "\"Shoes 2nd Dominant Color Nearest Color_5.0\",\n",
      "\"Shoes 2nd Dominant Color Nearest Color_6.0\",\n",
      "\"Shoes 2nd Dominant Color Nearest Color_7.0\",\n",
      "\"Shoes 2nd Dominant Color Nearest Color_8.0\",\n",
      "\"Shoes 2nd Dominant Color Nearest Color_9.0\",\n",
      "\"Shoes 3rd Dominant Color Nearest Color_0.0\",\n",
      "\"Shoes 3rd Dominant Color Nearest Color_1.0\",\n",
      "\"Shoes 3rd Dominant Color Nearest Color_2.0\",\n",
      "\"Shoes 3rd Dominant Color Nearest Color_3.0\",\n",
      "\"Shoes 3rd Dominant Color Nearest Color_4.0\",\n",
      "\"Shoes 3rd Dominant Color Nearest Color_5.0\",\n",
      "\"Shoes 3rd Dominant Color Nearest Color_6.0\",\n",
      "\"Shoes 3rd Dominant Color Nearest Color_7.0\",\n",
      "\"Shoes 3rd Dominant Color Nearest Color_8.0\",\n",
      "\"Shoes 3rd Dominant Color Nearest Color_9.0\",\n",
      "\"Shoes 4th Dominant Color Nearest Color_0.0\",\n",
      "\"Shoes 4th Dominant Color Nearest Color_1.0\",\n",
      "\"Shoes 4th Dominant Color Nearest Color_2.0\",\n",
      "\"Shoes 4th Dominant Color Nearest Color_3.0\",\n",
      "\"Shoes 4th Dominant Color Nearest Color_4.0\",\n",
      "\"Shoes 4th Dominant Color Nearest Color_5.0\",\n",
      "\"Shoes 4th Dominant Color Nearest Color_6.0\",\n",
      "\"Shoes 4th Dominant Color Nearest Color_7.0\",\n",
      "\"Shoes 4th Dominant Color Nearest Color_8.0\",\n",
      "\"Shoes 4th Dominant Color Nearest Color_9.0\",\n",
      "\"Outerwear 1st Dominant Color Nearest Color_0.0\",\n",
      "\"Outerwear 1st Dominant Color Nearest Color_1.0\",\n",
      "\"Outerwear 1st Dominant Color Nearest Color_2.0\",\n",
      "\"Outerwear 1st Dominant Color Nearest Color_3.0\",\n",
      "\"Outerwear 1st Dominant Color Nearest Color_4.0\",\n",
      "\"Outerwear 1st Dominant Color Nearest Color_5.0\",\n",
      "\"Outerwear 1st Dominant Color Nearest Color_6.0\",\n",
      "\"Outerwear 1st Dominant Color Nearest Color_7.0\",\n",
      "\"Outerwear 1st Dominant Color Nearest Color_8.0\",\n",
      "\"Outerwear 1st Dominant Color Nearest Color_9.0\",\n",
      "\"Outerwear 2nd Dominant Color Nearest Color_0.0\",\n",
      "\"Outerwear 2nd Dominant Color Nearest Color_1.0\",\n",
      "\"Outerwear 2nd Dominant Color Nearest Color_2.0\",\n",
      "\"Outerwear 2nd Dominant Color Nearest Color_3.0\",\n",
      "\"Outerwear 2nd Dominant Color Nearest Color_4.0\",\n",
      "\"Outerwear 2nd Dominant Color Nearest Color_5.0\",\n",
      "\"Outerwear 2nd Dominant Color Nearest Color_6.0\",\n",
      "\"Outerwear 2nd Dominant Color Nearest Color_7.0\",\n",
      "\"Outerwear 2nd Dominant Color Nearest Color_8.0\",\n",
      "\"Outerwear 2nd Dominant Color Nearest Color_9.0\",\n",
      "\"Outerwear 3rd Dominant Color Nearest Color_0.0\",\n",
      "\"Outerwear 3rd Dominant Color Nearest Color_1.0\",\n",
      "\"Outerwear 3rd Dominant Color Nearest Color_2.0\",\n",
      "\"Outerwear 3rd Dominant Color Nearest Color_3.0\",\n",
      "\"Outerwear 3rd Dominant Color Nearest Color_4.0\",\n",
      "\"Outerwear 3rd Dominant Color Nearest Color_5.0\",\n",
      "\"Outerwear 3rd Dominant Color Nearest Color_6.0\",\n",
      "\"Outerwear 3rd Dominant Color Nearest Color_7.0\",\n",
      "\"Outerwear 3rd Dominant Color Nearest Color_8.0\",\n",
      "\"Outerwear 3rd Dominant Color Nearest Color_9.0\",\n",
      "\"Outerwear 4th Dominant Color Nearest Color_0.0\",\n",
      "\"Outerwear 4th Dominant Color Nearest Color_1.0\",\n",
      "\"Outerwear 4th Dominant Color Nearest Color_2.0\",\n",
      "\"Outerwear 4th Dominant Color Nearest Color_3.0\",\n",
      "\"Outerwear 4th Dominant Color Nearest Color_4.0\",\n",
      "\"Outerwear 4th Dominant Color Nearest Color_5.0\",\n",
      "\"Outerwear 4th Dominant Color Nearest Color_6.0\",\n",
      "\"Outerwear 4th Dominant Color Nearest Color_7.0\",\n",
      "\"Outerwear 4th Dominant Color Nearest Color_8.0\",\n",
      "\"Outerwear 4th Dominant Color Nearest Color_9.0\",\n"
     ]
    }
   ],
   "source": [
    "for column in df.columns:\n",
    "    print(f'\"{column}\",')"
   ],
   "metadata": {
    "collapsed": false,
    "ExecuteTime": {
     "end_time": "2024-05-16T17:09:01.347573Z",
     "start_time": "2024-05-16T17:09:01.342933Z"
    }
   },
   "id": "6ba26ec0fcb59c61"
  },
  {
   "cell_type": "code",
   "execution_count": 4,
   "outputs": [
    {
     "data": {
      "text/plain": "   Unnamed: 0      setID                                         OutfitName  \\\n0           0  120161271  Being a Vans shoe model with Luke. Idk about t...   \n1           1  143656996                These Chanel bags is a bad habit .x   \n2           2  216470135  the people i choose never choose me and my hea...   \n3           3  216220312                                          Be happy!   \n4           4  192203629                                        yellow grey   \n\n                                          outfitDesc  outfitViews  \\\n0  A fashion look from April 2014 featuring destr...        188.0   \n1                                           12.19.14        562.0   \n2  A fashion look from February 2017 by exco feat...       1580.0   \n3  A fashion look from February 2017 by rasa-j fe...        591.0   \n4  A fashion look from February 2016 by lifestyle...       1122.0   \n\n   outfitLikes     Ratio                Innerwear ClothingItemName  \\\n0          9.0  0.047872                nirvana distressed t-shirt   \n1         32.0  0.056940                             monki singlet   \n2        395.0  0.250000         isabel marant alpaca blend jumper   \n3        233.0  0.394247               oasis shadow bird knit pink   \n4        153.0  0.136364  white cute animal printed ladies t-shirt   \n\n   Innerwear wearType         Innerwear ImagePath  ...  \\\n0                 2.0  raw/images/120161271/1.jpg  ...   \n1                 2.0  raw/images/143656996/1.jpg  ...   \n2                 2.0  raw/images/216470135/1.jpg  ...   \n3                 2.0  raw/images/216220312/1.jpg  ...   \n4                 2.0  raw/images/192203629/2.jpg  ...   \n\n  Outerwear 4th Dominant Color Nearest Color_0.0  \\\n0                                            0.0   \n1                                            0.0   \n2                                            0.0   \n3                                            0.0   \n4                                            0.0   \n\n  Outerwear 4th Dominant Color Nearest Color_1.0  \\\n0                                            0.0   \n1                                            0.0   \n2                                            0.0   \n3                                            0.0   \n4                                            0.0   \n\n  Outerwear 4th Dominant Color Nearest Color_2.0  \\\n0                                            0.0   \n1                                            0.0   \n2                                            0.0   \n3                                            0.0   \n4                                            0.0   \n\n  Outerwear 4th Dominant Color Nearest Color_3.0  \\\n0                                            0.0   \n1                                            0.0   \n2                                            0.0   \n3                                            0.0   \n4                                            0.0   \n\n  Outerwear 4th Dominant Color Nearest Color_4.0  \\\n0                                            0.0   \n1                                            0.0   \n2                                            0.0   \n3                                            0.0   \n4                                            0.0   \n\n  Outerwear 4th Dominant Color Nearest Color_5.0  \\\n0                                            0.0   \n1                                            0.0   \n2                                            0.0   \n3                                            0.0   \n4                                            0.0   \n\n  Outerwear 4th Dominant Color Nearest Color_6.0  \\\n0                                            0.0   \n1                                            0.0   \n2                                            0.0   \n3                                            0.0   \n4                                            1.0   \n\n  Outerwear 4th Dominant Color Nearest Color_7.0  \\\n0                                            0.0   \n1                                            0.0   \n2                                            0.0   \n3                                            0.0   \n4                                            0.0   \n\n  Outerwear 4th Dominant Color Nearest Color_8.0  \\\n0                                            0.0   \n1                                            0.0   \n2                                            0.0   \n3                                            0.0   \n4                                            0.0   \n\n  Outerwear 4th Dominant Color Nearest Color_9.0  \n0                                            0.0  \n1                                            0.0  \n2                                            0.0  \n3                                            0.0  \n4                                            0.0  \n\n[5 rows x 313 columns]",
      "text/html": "<div>\n<style scoped>\n    .dataframe tbody tr th:only-of-type {\n        vertical-align: middle;\n    }\n\n    .dataframe tbody tr th {\n        vertical-align: top;\n    }\n\n    .dataframe thead th {\n        text-align: right;\n    }\n</style>\n<table border=\"1\" class=\"dataframe\">\n  <thead>\n    <tr style=\"text-align: right;\">\n      <th></th>\n      <th>Unnamed: 0</th>\n      <th>setID</th>\n      <th>OutfitName</th>\n      <th>outfitDesc</th>\n      <th>outfitViews</th>\n      <th>outfitLikes</th>\n      <th>Ratio</th>\n      <th>Innerwear ClothingItemName</th>\n      <th>Innerwear wearType</th>\n      <th>Innerwear ImagePath</th>\n      <th>...</th>\n      <th>Outerwear 4th Dominant Color Nearest Color_0.0</th>\n      <th>Outerwear 4th Dominant Color Nearest Color_1.0</th>\n      <th>Outerwear 4th Dominant Color Nearest Color_2.0</th>\n      <th>Outerwear 4th Dominant Color Nearest Color_3.0</th>\n      <th>Outerwear 4th Dominant Color Nearest Color_4.0</th>\n      <th>Outerwear 4th Dominant Color Nearest Color_5.0</th>\n      <th>Outerwear 4th Dominant Color Nearest Color_6.0</th>\n      <th>Outerwear 4th Dominant Color Nearest Color_7.0</th>\n      <th>Outerwear 4th Dominant Color Nearest Color_8.0</th>\n      <th>Outerwear 4th Dominant Color Nearest Color_9.0</th>\n    </tr>\n  </thead>\n  <tbody>\n    <tr>\n      <th>0</th>\n      <td>0</td>\n      <td>120161271</td>\n      <td>Being a Vans shoe model with Luke. Idk about t...</td>\n      <td>A fashion look from April 2014 featuring destr...</td>\n      <td>188.0</td>\n      <td>9.0</td>\n      <td>0.047872</td>\n      <td>nirvana distressed t-shirt</td>\n      <td>2.0</td>\n      <td>raw/images/120161271/1.jpg</td>\n      <td>...</td>\n      <td>0.0</td>\n      <td>0.0</td>\n      <td>0.0</td>\n      <td>0.0</td>\n      <td>0.0</td>\n      <td>0.0</td>\n      <td>0.0</td>\n      <td>0.0</td>\n      <td>0.0</td>\n      <td>0.0</td>\n    </tr>\n    <tr>\n      <th>1</th>\n      <td>1</td>\n      <td>143656996</td>\n      <td>These Chanel bags is a bad habit .x</td>\n      <td>12.19.14</td>\n      <td>562.0</td>\n      <td>32.0</td>\n      <td>0.056940</td>\n      <td>monki singlet</td>\n      <td>2.0</td>\n      <td>raw/images/143656996/1.jpg</td>\n      <td>...</td>\n      <td>0.0</td>\n      <td>0.0</td>\n      <td>0.0</td>\n      <td>0.0</td>\n      <td>0.0</td>\n      <td>0.0</td>\n      <td>0.0</td>\n      <td>0.0</td>\n      <td>0.0</td>\n      <td>0.0</td>\n    </tr>\n    <tr>\n      <th>2</th>\n      <td>2</td>\n      <td>216470135</td>\n      <td>the people i choose never choose me and my hea...</td>\n      <td>A fashion look from February 2017 by exco feat...</td>\n      <td>1580.0</td>\n      <td>395.0</td>\n      <td>0.250000</td>\n      <td>isabel marant alpaca blend jumper</td>\n      <td>2.0</td>\n      <td>raw/images/216470135/1.jpg</td>\n      <td>...</td>\n      <td>0.0</td>\n      <td>0.0</td>\n      <td>0.0</td>\n      <td>0.0</td>\n      <td>0.0</td>\n      <td>0.0</td>\n      <td>0.0</td>\n      <td>0.0</td>\n      <td>0.0</td>\n      <td>0.0</td>\n    </tr>\n    <tr>\n      <th>3</th>\n      <td>3</td>\n      <td>216220312</td>\n      <td>Be happy!</td>\n      <td>A fashion look from February 2017 by rasa-j fe...</td>\n      <td>591.0</td>\n      <td>233.0</td>\n      <td>0.394247</td>\n      <td>oasis shadow bird knit pink</td>\n      <td>2.0</td>\n      <td>raw/images/216220312/1.jpg</td>\n      <td>...</td>\n      <td>0.0</td>\n      <td>0.0</td>\n      <td>0.0</td>\n      <td>0.0</td>\n      <td>0.0</td>\n      <td>0.0</td>\n      <td>0.0</td>\n      <td>0.0</td>\n      <td>0.0</td>\n      <td>0.0</td>\n    </tr>\n    <tr>\n      <th>4</th>\n      <td>4</td>\n      <td>192203629</td>\n      <td>yellow grey</td>\n      <td>A fashion look from February 2016 by lifestyle...</td>\n      <td>1122.0</td>\n      <td>153.0</td>\n      <td>0.136364</td>\n      <td>white cute animal printed ladies t-shirt</td>\n      <td>2.0</td>\n      <td>raw/images/192203629/2.jpg</td>\n      <td>...</td>\n      <td>0.0</td>\n      <td>0.0</td>\n      <td>0.0</td>\n      <td>0.0</td>\n      <td>0.0</td>\n      <td>0.0</td>\n      <td>1.0</td>\n      <td>0.0</td>\n      <td>0.0</td>\n      <td>0.0</td>\n    </tr>\n  </tbody>\n</table>\n<p>5 rows × 313 columns</p>\n</div>"
     },
     "execution_count": 4,
     "metadata": {},
     "output_type": "execute_result"
    }
   ],
   "source": [
    "df.head()"
   ],
   "metadata": {
    "collapsed": false,
    "ExecuteTime": {
     "end_time": "2024-05-16T17:09:01.383205Z",
     "start_time": "2024-05-16T17:09:01.349573Z"
    }
   },
   "id": "9f482cfb73917073"
  },
  {
   "cell_type": "code",
   "execution_count": 5,
   "outputs": [],
   "source": [
    "columnns_x = [\"Innerwear wearType\", \"Bottomwear wearType\", \"Accessoire wearType\", \"Shoes wearType\", \"Outerwear wearType\"]\n",
    "columnns_y = [\"Good_Outfit\"]"
   ],
   "metadata": {
    "collapsed": false,
    "ExecuteTime": {
     "end_time": "2024-05-16T17:09:01.392185Z",
     "start_time": "2024-05-16T17:09:01.364643Z"
    }
   },
   "id": "3e353b69b266aebe"
  },
  {
   "cell_type": "code",
   "execution_count": 6,
   "outputs": [],
   "source": [
    "columns_without_NaN = [\"Innerwear 1st Dominant Color Nearest Color_0\",\n",
    "\"Innerwear 1st Dominant Color Nearest Color_1\",\n",
    "\"Innerwear 1st Dominant Color Nearest Color_2\",\n",
    "\"Innerwear 1st Dominant Color Nearest Color_3\",\n",
    "\"Innerwear 1st Dominant Color Nearest Color_4\",\n",
    "\"Innerwear 1st Dominant Color Nearest Color_5\",\n",
    "\"Innerwear 1st Dominant Color Nearest Color_6\",\n",
    "\"Innerwear 1st Dominant Color Nearest Color_7\",\n",
    "\"Innerwear 1st Dominant Color Nearest Color_8\",\n",
    "\"Innerwear 1st Dominant Color Nearest Color_9\",\n",
    "\"Innerwear 2nd Dominant Color Nearest Color_0\",\n",
    "\"Innerwear 2nd Dominant Color Nearest Color_1\",\n",
    "\"Innerwear 2nd Dominant Color Nearest Color_2\",\n",
    "\"Innerwear 2nd Dominant Color Nearest Color_3\",\n",
    "\"Innerwear 2nd Dominant Color Nearest Color_4\",\n",
    "\"Innerwear 2nd Dominant Color Nearest Color_5\",\n",
    "\"Innerwear 2nd Dominant Color Nearest Color_6\",\n",
    "\"Innerwear 2nd Dominant Color Nearest Color_7\",\n",
    "\"Innerwear 2nd Dominant Color Nearest Color_8\",\n",
    "\"Innerwear 2nd Dominant Color Nearest Color_9\",\n",
    "\"Innerwear 3rd Dominant Color Nearest Color_0\",\n",
    "\"Innerwear 3rd Dominant Color Nearest Color_1\",\n",
    "\"Innerwear 3rd Dominant Color Nearest Color_2\",\n",
    "\"Innerwear 3rd Dominant Color Nearest Color_3\",\n",
    "\"Innerwear 3rd Dominant Color Nearest Color_4\",\n",
    "\"Innerwear 3rd Dominant Color Nearest Color_5\",\n",
    "\"Innerwear 3rd Dominant Color Nearest Color_6\",\n",
    "\"Innerwear 3rd Dominant Color Nearest Color_7\",\n",
    "\"Innerwear 3rd Dominant Color Nearest Color_8\",\n",
    "\"Innerwear 3rd Dominant Color Nearest Color_9\",\n",
    "\"Innerwear 4th Dominant Color Nearest Color_0\",\n",
    "\"Innerwear 4th Dominant Color Nearest Color_1\",\n",
    "\"Innerwear 4th Dominant Color Nearest Color_2\",\n",
    "\"Innerwear 4th Dominant Color Nearest Color_3\",\n",
    "\"Innerwear 4th Dominant Color Nearest Color_4\",\n",
    "\"Innerwear 4th Dominant Color Nearest Color_5\",\n",
    "\"Innerwear 4th Dominant Color Nearest Color_6\",\n",
    "\"Innerwear 4th Dominant Color Nearest Color_7\",\n",
    "\"Innerwear 4th Dominant Color Nearest Color_8\",\n",
    "\"Innerwear 4th Dominant Color Nearest Color_9\",\n",
    "\"Bottomwear 1st Dominant Color Nearest Color_0\",\n",
    "\"Bottomwear 1st Dominant Color Nearest Color_1\",\n",
    "\"Bottomwear 1st Dominant Color Nearest Color_2\",\n",
    "\"Bottomwear 1st Dominant Color Nearest Color_3\",\n",
    "\"Bottomwear 1st Dominant Color Nearest Color_4\",\n",
    "\"Bottomwear 1st Dominant Color Nearest Color_5\",\n",
    "\"Bottomwear 1st Dominant Color Nearest Color_6\",\n",
    "\"Bottomwear 1st Dominant Color Nearest Color_7\",\n",
    "\"Bottomwear 1st Dominant Color Nearest Color_8\",\n",
    "\"Bottomwear 1st Dominant Color Nearest Color_9\",\n",
    "\"Bottomwear 2nd Dominant Color Nearest Color_0\",\n",
    "\"Bottomwear 2nd Dominant Color Nearest Color_1\",\n",
    "\"Bottomwear 2nd Dominant Color Nearest Color_2\",\n",
    "\"Bottomwear 2nd Dominant Color Nearest Color_3\",\n",
    "\"Bottomwear 2nd Dominant Color Nearest Color_4\",\n",
    "\"Bottomwear 2nd Dominant Color Nearest Color_5\",\n",
    "\"Bottomwear 2nd Dominant Color Nearest Color_6\",\n",
    "\"Bottomwear 2nd Dominant Color Nearest Color_7\",\n",
    "\"Bottomwear 2nd Dominant Color Nearest Color_8\",\n",
    "\"Bottomwear 2nd Dominant Color Nearest Color_9\",\n",
    "\"Bottomwear 3rd Dominant Color Nearest Color_0\",\n",
    "\"Bottomwear 3rd Dominant Color Nearest Color_1\",\n",
    "\"Bottomwear 3rd Dominant Color Nearest Color_2\",\n",
    "\"Bottomwear 3rd Dominant Color Nearest Color_3\",\n",
    "\"Bottomwear 3rd Dominant Color Nearest Color_4\",\n",
    "\"Bottomwear 3rd Dominant Color Nearest Color_5\",\n",
    "\"Bottomwear 3rd Dominant Color Nearest Color_6\",\n",
    "\"Bottomwear 3rd Dominant Color Nearest Color_7\",\n",
    "\"Bottomwear 3rd Dominant Color Nearest Color_8\",\n",
    "\"Bottomwear 3rd Dominant Color Nearest Color_9\",\n",
    "\"Bottomwear 4th Dominant Color Nearest Color_0\",\n",
    "\"Bottomwear 4th Dominant Color Nearest Color_1\",\n",
    "\"Bottomwear 4th Dominant Color Nearest Color_2\",\n",
    "\"Bottomwear 4th Dominant Color Nearest Color_3\",\n",
    "\"Bottomwear 4th Dominant Color Nearest Color_4\",\n",
    "\"Bottomwear 4th Dominant Color Nearest Color_5\",\n",
    "\"Bottomwear 4th Dominant Color Nearest Color_6\",\n",
    "\"Bottomwear 4th Dominant Color Nearest Color_7\",\n",
    "\"Bottomwear 4th Dominant Color Nearest Color_8\",\n",
    "\"Bottomwear 4th Dominant Color Nearest Color_9\",\n",
    "\"Accessoire 1st Dominant Color Nearest Color_0.0\",\n",
    "\"Accessoire 1st Dominant Color Nearest Color_1.0\",\n",
    "\"Accessoire 1st Dominant Color Nearest Color_2.0\",\n",
    "\"Accessoire 1st Dominant Color Nearest Color_3.0\",\n",
    "\"Accessoire 1st Dominant Color Nearest Color_4.0\",\n",
    "\"Accessoire 1st Dominant Color Nearest Color_5.0\",\n",
    "\"Accessoire 1st Dominant Color Nearest Color_6.0\",\n",
    "\"Accessoire 1st Dominant Color Nearest Color_7.0\",\n",
    "\"Accessoire 1st Dominant Color Nearest Color_8.0\",\n",
    "\"Accessoire 1st Dominant Color Nearest Color_9.0\",\n",
    "\"Accessoire 2nd Dominant Color Nearest Color_0.0\",\n",
    "\"Accessoire 2nd Dominant Color Nearest Color_1.0\",\n",
    "\"Accessoire 2nd Dominant Color Nearest Color_2.0\",\n",
    "\"Accessoire 2nd Dominant Color Nearest Color_3.0\",\n",
    "\"Accessoire 2nd Dominant Color Nearest Color_4.0\",\n",
    "\"Accessoire 2nd Dominant Color Nearest Color_5.0\",\n",
    "\"Accessoire 2nd Dominant Color Nearest Color_6.0\",\n",
    "\"Accessoire 2nd Dominant Color Nearest Color_7.0\",\n",
    "\"Accessoire 2nd Dominant Color Nearest Color_8.0\",\n",
    "\"Accessoire 2nd Dominant Color Nearest Color_9.0\",\n",
    "\"Accessoire 3rd Dominant Color Nearest Color_0.0\",\n",
    "\"Accessoire 3rd Dominant Color Nearest Color_1.0\",\n",
    "\"Accessoire 3rd Dominant Color Nearest Color_2.0\",\n",
    "\"Accessoire 3rd Dominant Color Nearest Color_3.0\",\n",
    "\"Accessoire 3rd Dominant Color Nearest Color_4.0\",\n",
    "\"Accessoire 3rd Dominant Color Nearest Color_5.0\",\n",
    "\"Accessoire 3rd Dominant Color Nearest Color_6.0\",\n",
    "\"Accessoire 3rd Dominant Color Nearest Color_7.0\",\n",
    "\"Accessoire 3rd Dominant Color Nearest Color_8.0\",\n",
    "\"Accessoire 3rd Dominant Color Nearest Color_9.0\",\n",
    "\"Accessoire 4th Dominant Color Nearest Color_0.0\",\n",
    "\"Accessoire 4th Dominant Color Nearest Color_1.0\",\n",
    "\"Accessoire 4th Dominant Color Nearest Color_2.0\",\n",
    "\"Accessoire 4th Dominant Color Nearest Color_3.0\",\n",
    "\"Accessoire 4th Dominant Color Nearest Color_4.0\",\n",
    "\"Accessoire 4th Dominant Color Nearest Color_5.0\",\n",
    "\"Accessoire 4th Dominant Color Nearest Color_6.0\",\n",
    "\"Accessoire 4th Dominant Color Nearest Color_7.0\",\n",
    "\"Accessoire 4th Dominant Color Nearest Color_8.0\",\n",
    "\"Accessoire 4th Dominant Color Nearest Color_9.0\",\n",
    "\"Shoes 1st Dominant Color Nearest Color_0.0\",\n",
    "\"Shoes 1st Dominant Color Nearest Color_1.0\",\n",
    "\"Shoes 1st Dominant Color Nearest Color_2.0\",\n",
    "\"Shoes 1st Dominant Color Nearest Color_3.0\",\n",
    "\"Shoes 1st Dominant Color Nearest Color_4.0\",\n",
    "\"Shoes 1st Dominant Color Nearest Color_5.0\",\n",
    "\"Shoes 1st Dominant Color Nearest Color_6.0\",\n",
    "\"Shoes 1st Dominant Color Nearest Color_7.0\",\n",
    "\"Shoes 1st Dominant Color Nearest Color_8.0\",\n",
    "\"Shoes 1st Dominant Color Nearest Color_9.0\",\n",
    "\"Shoes 2nd Dominant Color Nearest Color_0.0\",\n",
    "\"Shoes 2nd Dominant Color Nearest Color_1.0\",\n",
    "\"Shoes 2nd Dominant Color Nearest Color_2.0\",\n",
    "\"Shoes 2nd Dominant Color Nearest Color_3.0\",\n",
    "\"Shoes 2nd Dominant Color Nearest Color_4.0\",\n",
    "\"Shoes 2nd Dominant Color Nearest Color_5.0\",\n",
    "\"Shoes 2nd Dominant Color Nearest Color_6.0\",\n",
    "\"Shoes 2nd Dominant Color Nearest Color_7.0\",\n",
    "\"Shoes 2nd Dominant Color Nearest Color_8.0\",\n",
    "\"Shoes 2nd Dominant Color Nearest Color_9.0\",\n",
    "\"Shoes 3rd Dominant Color Nearest Color_0.0\",\n",
    "\"Shoes 3rd Dominant Color Nearest Color_1.0\",\n",
    "\"Shoes 3rd Dominant Color Nearest Color_2.0\",\n",
    "\"Shoes 3rd Dominant Color Nearest Color_3.0\",\n",
    "\"Shoes 3rd Dominant Color Nearest Color_4.0\",\n",
    "\"Shoes 3rd Dominant Color Nearest Color_5.0\",\n",
    "\"Shoes 3rd Dominant Color Nearest Color_6.0\",\n",
    "\"Shoes 3rd Dominant Color Nearest Color_7.0\",\n",
    "\"Shoes 3rd Dominant Color Nearest Color_8.0\",\n",
    "\"Shoes 3rd Dominant Color Nearest Color_9.0\",\n",
    "\"Shoes 4th Dominant Color Nearest Color_0.0\",\n",
    "\"Shoes 4th Dominant Color Nearest Color_1.0\",\n",
    "\"Shoes 4th Dominant Color Nearest Color_2.0\",\n",
    "\"Shoes 4th Dominant Color Nearest Color_3.0\",\n",
    "\"Shoes 4th Dominant Color Nearest Color_4.0\",\n",
    "\"Shoes 4th Dominant Color Nearest Color_5.0\",\n",
    "\"Shoes 4th Dominant Color Nearest Color_6.0\",\n",
    "\"Shoes 4th Dominant Color Nearest Color_7.0\",\n",
    "\"Shoes 4th Dominant Color Nearest Color_8.0\",\n",
    "\"Shoes 4th Dominant Color Nearest Color_9.0\",\n",
    "\"Outerwear 1st Dominant Color Nearest Color_0.0\",\n",
    "\"Outerwear 1st Dominant Color Nearest Color_1.0\",\n",
    "\"Outerwear 1st Dominant Color Nearest Color_2.0\",\n",
    "\"Outerwear 1st Dominant Color Nearest Color_3.0\",\n",
    "\"Outerwear 1st Dominant Color Nearest Color_4.0\",\n",
    "\"Outerwear 1st Dominant Color Nearest Color_5.0\",\n",
    "\"Outerwear 1st Dominant Color Nearest Color_6.0\",\n",
    "\"Outerwear 1st Dominant Color Nearest Color_7.0\",\n",
    "\"Outerwear 1st Dominant Color Nearest Color_8.0\",\n",
    "\"Outerwear 1st Dominant Color Nearest Color_9.0\",\n",
    "\"Outerwear 2nd Dominant Color Nearest Color_0.0\",\n",
    "\"Outerwear 2nd Dominant Color Nearest Color_1.0\",\n",
    "\"Outerwear 2nd Dominant Color Nearest Color_2.0\",\n",
    "\"Outerwear 2nd Dominant Color Nearest Color_3.0\",\n",
    "\"Outerwear 2nd Dominant Color Nearest Color_4.0\",\n",
    "\"Outerwear 2nd Dominant Color Nearest Color_5.0\",\n",
    "\"Outerwear 2nd Dominant Color Nearest Color_6.0\",\n",
    "\"Outerwear 2nd Dominant Color Nearest Color_7.0\",\n",
    "\"Outerwear 2nd Dominant Color Nearest Color_8.0\",\n",
    "\"Outerwear 2nd Dominant Color Nearest Color_9.0\",\n",
    "\"Outerwear 3rd Dominant Color Nearest Color_0.0\",\n",
    "\"Outerwear 3rd Dominant Color Nearest Color_1.0\",\n",
    "\"Outerwear 3rd Dominant Color Nearest Color_2.0\",\n",
    "\"Outerwear 3rd Dominant Color Nearest Color_3.0\",\n",
    "\"Outerwear 3rd Dominant Color Nearest Color_4.0\",\n",
    "\"Outerwear 3rd Dominant Color Nearest Color_5.0\",\n",
    "\"Outerwear 3rd Dominant Color Nearest Color_6.0\",\n",
    "\"Outerwear 3rd Dominant Color Nearest Color_7.0\",\n",
    "\"Outerwear 3rd Dominant Color Nearest Color_8.0\",\n",
    "\"Outerwear 3rd Dominant Color Nearest Color_9.0\",\n",
    "\"Outerwear 4th Dominant Color Nearest Color_0.0\",\n",
    "\"Outerwear 4th Dominant Color Nearest Color_1.0\",\n",
    "\"Outerwear 4th Dominant Color Nearest Color_2.0\",\n",
    "\"Outerwear 4th Dominant Color Nearest Color_3.0\",\n",
    "\"Outerwear 4th Dominant Color Nearest Color_4.0\",\n",
    "\"Outerwear 4th Dominant Color Nearest Color_5.0\",\n",
    "\"Outerwear 4th Dominant Color Nearest Color_6.0\",\n",
    "\"Outerwear 4th Dominant Color Nearest Color_7.0\",\n",
    "\"Outerwear 4th Dominant Color Nearest Color_8.0\",\n",
    "\"Outerwear 4th Dominant Color Nearest Color_9.0\"]"
   ],
   "metadata": {
    "collapsed": false,
    "ExecuteTime": {
     "end_time": "2024-05-16T17:09:01.410430Z",
     "start_time": "2024-05-16T17:09:01.374957Z"
    }
   },
   "id": "3d95b65bb74e2b7e"
  },
  {
   "cell_type": "code",
   "execution_count": 7,
   "outputs": [],
   "source": [
    "columnns_x.extend(columns_without_NaN)"
   ],
   "metadata": {
    "collapsed": false,
    "ExecuteTime": {
     "end_time": "2024-05-16T17:09:01.431362Z",
     "start_time": "2024-05-16T17:09:01.377749Z"
    }
   },
   "id": "4a2bd06092a48de3"
  },
  {
   "cell_type": "code",
   "execution_count": 8,
   "outputs": [],
   "source": [
    "X = df[columnns_x]\n",
    "X_without_NaN = df[columns_without_NaN]"
   ],
   "metadata": {
    "collapsed": false,
    "ExecuteTime": {
     "end_time": "2024-05-16T17:09:01.433166Z",
     "start_time": "2024-05-16T17:09:01.380863Z"
    }
   },
   "id": "9f70e8fac08b8cb4"
  },
  {
   "cell_type": "code",
   "execution_count": 9,
   "outputs": [
    {
     "data": {
      "text/plain": "      Innerwear wearType  Bottomwear wearType  Accessoire wearType  \\\n5668                 2.0                  4.0                  1.0   \n3455                 2.0                  4.0                  NaN   \n4032                 2.0                  4.0                  1.0   \n2642                 2.0                  4.0                  1.0   \n1882                 2.0                  4.0                  NaN   \n534                  2.0                  4.0                  NaN   \n544                  2.0                  4.0                  1.0   \n1379                 2.0                  4.0                  1.0   \n6720                 2.0                  4.0                  1.0   \n5429                 2.0                  4.0                  1.0   \n\n      Shoes wearType  Outerwear wearType  \\\n5668             5.0                 NaN   \n3455             5.0                 NaN   \n4032             5.0                 NaN   \n2642             NaN                 NaN   \n1882             NaN                 NaN   \n534              5.0                 NaN   \n544              NaN                 NaN   \n1379             NaN                 3.0   \n6720             NaN                 3.0   \n5429             NaN                 NaN   \n\n      Innerwear 1st Dominant Color Nearest Color_0  \\\n5668                                           0.0   \n3455                                           0.0   \n4032                                           1.0   \n2642                                           0.0   \n1882                                           0.0   \n534                                            0.0   \n544                                            0.0   \n1379                                           0.0   \n6720                                           0.0   \n5429                                           0.0   \n\n      Innerwear 1st Dominant Color Nearest Color_1  \\\n5668                                           0.0   \n3455                                           0.0   \n4032                                           0.0   \n2642                                           0.0   \n1882                                           0.0   \n534                                            0.0   \n544                                            0.0   \n1379                                           0.0   \n6720                                           0.0   \n5429                                           0.0   \n\n      Innerwear 1st Dominant Color Nearest Color_2  \\\n5668                                           0.0   \n3455                                           0.0   \n4032                                           0.0   \n2642                                           0.0   \n1882                                           0.0   \n534                                            0.0   \n544                                            0.0   \n1379                                           0.0   \n6720                                           0.0   \n5429                                           0.0   \n\n      Innerwear 1st Dominant Color Nearest Color_3  \\\n5668                                           0.0   \n3455                                           1.0   \n4032                                           0.0   \n2642                                           0.0   \n1882                                           0.0   \n534                                            1.0   \n544                                            0.0   \n1379                                           0.0   \n6720                                           0.0   \n5429                                           1.0   \n\n      Innerwear 1st Dominant Color Nearest Color_4  ...  \\\n5668                                           0.0  ...   \n3455                                           0.0  ...   \n4032                                           0.0  ...   \n2642                                           1.0  ...   \n1882                                           1.0  ...   \n534                                            0.0  ...   \n544                                            0.0  ...   \n1379                                           0.0  ...   \n6720                                           0.0  ...   \n5429                                           0.0  ...   \n\n      Outerwear 4th Dominant Color Nearest Color_0.0  \\\n5668                                             0.0   \n3455                                             0.0   \n4032                                             0.0   \n2642                                             0.0   \n1882                                             0.0   \n534                                              0.0   \n544                                              0.0   \n1379                                             0.0   \n6720                                             0.0   \n5429                                             0.0   \n\n      Outerwear 4th Dominant Color Nearest Color_1.0  \\\n5668                                             0.0   \n3455                                             0.0   \n4032                                             0.0   \n2642                                             0.0   \n1882                                             0.0   \n534                                              0.0   \n544                                              0.0   \n1379                                             0.0   \n6720                                             1.0   \n5429                                             0.0   \n\n      Outerwear 4th Dominant Color Nearest Color_2.0  \\\n5668                                             0.0   \n3455                                             0.0   \n4032                                             0.0   \n2642                                             0.0   \n1882                                             0.0   \n534                                              0.0   \n544                                              0.0   \n1379                                             0.0   \n6720                                             0.0   \n5429                                             0.0   \n\n      Outerwear 4th Dominant Color Nearest Color_3.0  \\\n5668                                             0.0   \n3455                                             0.0   \n4032                                             0.0   \n2642                                             0.0   \n1882                                             0.0   \n534                                              0.0   \n544                                              0.0   \n1379                                             0.0   \n6720                                             0.0   \n5429                                             0.0   \n\n      Outerwear 4th Dominant Color Nearest Color_4.0  \\\n5668                                             0.0   \n3455                                             0.0   \n4032                                             0.0   \n2642                                             0.0   \n1882                                             0.0   \n534                                              0.0   \n544                                              0.0   \n1379                                             0.0   \n6720                                             0.0   \n5429                                             0.0   \n\n      Outerwear 4th Dominant Color Nearest Color_5.0  \\\n5668                                             0.0   \n3455                                             0.0   \n4032                                             0.0   \n2642                                             0.0   \n1882                                             0.0   \n534                                              0.0   \n544                                              0.0   \n1379                                             0.0   \n6720                                             0.0   \n5429                                             0.0   \n\n      Outerwear 4th Dominant Color Nearest Color_6.0  \\\n5668                                             0.0   \n3455                                             0.0   \n4032                                             0.0   \n2642                                             0.0   \n1882                                             0.0   \n534                                              0.0   \n544                                              0.0   \n1379                                             1.0   \n6720                                             0.0   \n5429                                             0.0   \n\n      Outerwear 4th Dominant Color Nearest Color_7.0  \\\n5668                                             0.0   \n3455                                             0.0   \n4032                                             0.0   \n2642                                             0.0   \n1882                                             0.0   \n534                                              0.0   \n544                                              0.0   \n1379                                             0.0   \n6720                                             0.0   \n5429                                             0.0   \n\n      Outerwear 4th Dominant Color Nearest Color_8.0  \\\n5668                                             0.0   \n3455                                             0.0   \n4032                                             0.0   \n2642                                             0.0   \n1882                                             0.0   \n534                                              0.0   \n544                                              0.0   \n1379                                             0.0   \n6720                                             0.0   \n5429                                             0.0   \n\n      Outerwear 4th Dominant Color Nearest Color_9.0  \n5668                                             0.0  \n3455                                             0.0  \n4032                                             0.0  \n2642                                             0.0  \n1882                                             0.0  \n534                                              0.0  \n544                                              0.0  \n1379                                             0.0  \n6720                                             0.0  \n5429                                             0.0  \n\n[10 rows x 205 columns]",
      "text/html": "<div>\n<style scoped>\n    .dataframe tbody tr th:only-of-type {\n        vertical-align: middle;\n    }\n\n    .dataframe tbody tr th {\n        vertical-align: top;\n    }\n\n    .dataframe thead th {\n        text-align: right;\n    }\n</style>\n<table border=\"1\" class=\"dataframe\">\n  <thead>\n    <tr style=\"text-align: right;\">\n      <th></th>\n      <th>Innerwear wearType</th>\n      <th>Bottomwear wearType</th>\n      <th>Accessoire wearType</th>\n      <th>Shoes wearType</th>\n      <th>Outerwear wearType</th>\n      <th>Innerwear 1st Dominant Color Nearest Color_0</th>\n      <th>Innerwear 1st Dominant Color Nearest Color_1</th>\n      <th>Innerwear 1st Dominant Color Nearest Color_2</th>\n      <th>Innerwear 1st Dominant Color Nearest Color_3</th>\n      <th>Innerwear 1st Dominant Color Nearest Color_4</th>\n      <th>...</th>\n      <th>Outerwear 4th Dominant Color Nearest Color_0.0</th>\n      <th>Outerwear 4th Dominant Color Nearest Color_1.0</th>\n      <th>Outerwear 4th Dominant Color Nearest Color_2.0</th>\n      <th>Outerwear 4th Dominant Color Nearest Color_3.0</th>\n      <th>Outerwear 4th Dominant Color Nearest Color_4.0</th>\n      <th>Outerwear 4th Dominant Color Nearest Color_5.0</th>\n      <th>Outerwear 4th Dominant Color Nearest Color_6.0</th>\n      <th>Outerwear 4th Dominant Color Nearest Color_7.0</th>\n      <th>Outerwear 4th Dominant Color Nearest Color_8.0</th>\n      <th>Outerwear 4th Dominant Color Nearest Color_9.0</th>\n    </tr>\n  </thead>\n  <tbody>\n    <tr>\n      <th>5668</th>\n      <td>2.0</td>\n      <td>4.0</td>\n      <td>1.0</td>\n      <td>5.0</td>\n      <td>NaN</td>\n      <td>0.0</td>\n      <td>0.0</td>\n      <td>0.0</td>\n      <td>0.0</td>\n      <td>0.0</td>\n      <td>...</td>\n      <td>0.0</td>\n      <td>0.0</td>\n      <td>0.0</td>\n      <td>0.0</td>\n      <td>0.0</td>\n      <td>0.0</td>\n      <td>0.0</td>\n      <td>0.0</td>\n      <td>0.0</td>\n      <td>0.0</td>\n    </tr>\n    <tr>\n      <th>3455</th>\n      <td>2.0</td>\n      <td>4.0</td>\n      <td>NaN</td>\n      <td>5.0</td>\n      <td>NaN</td>\n      <td>0.0</td>\n      <td>0.0</td>\n      <td>0.0</td>\n      <td>1.0</td>\n      <td>0.0</td>\n      <td>...</td>\n      <td>0.0</td>\n      <td>0.0</td>\n      <td>0.0</td>\n      <td>0.0</td>\n      <td>0.0</td>\n      <td>0.0</td>\n      <td>0.0</td>\n      <td>0.0</td>\n      <td>0.0</td>\n      <td>0.0</td>\n    </tr>\n    <tr>\n      <th>4032</th>\n      <td>2.0</td>\n      <td>4.0</td>\n      <td>1.0</td>\n      <td>5.0</td>\n      <td>NaN</td>\n      <td>1.0</td>\n      <td>0.0</td>\n      <td>0.0</td>\n      <td>0.0</td>\n      <td>0.0</td>\n      <td>...</td>\n      <td>0.0</td>\n      <td>0.0</td>\n      <td>0.0</td>\n      <td>0.0</td>\n      <td>0.0</td>\n      <td>0.0</td>\n      <td>0.0</td>\n      <td>0.0</td>\n      <td>0.0</td>\n      <td>0.0</td>\n    </tr>\n    <tr>\n      <th>2642</th>\n      <td>2.0</td>\n      <td>4.0</td>\n      <td>1.0</td>\n      <td>NaN</td>\n      <td>NaN</td>\n      <td>0.0</td>\n      <td>0.0</td>\n      <td>0.0</td>\n      <td>0.0</td>\n      <td>1.0</td>\n      <td>...</td>\n      <td>0.0</td>\n      <td>0.0</td>\n      <td>0.0</td>\n      <td>0.0</td>\n      <td>0.0</td>\n      <td>0.0</td>\n      <td>0.0</td>\n      <td>0.0</td>\n      <td>0.0</td>\n      <td>0.0</td>\n    </tr>\n    <tr>\n      <th>1882</th>\n      <td>2.0</td>\n      <td>4.0</td>\n      <td>NaN</td>\n      <td>NaN</td>\n      <td>NaN</td>\n      <td>0.0</td>\n      <td>0.0</td>\n      <td>0.0</td>\n      <td>0.0</td>\n      <td>1.0</td>\n      <td>...</td>\n      <td>0.0</td>\n      <td>0.0</td>\n      <td>0.0</td>\n      <td>0.0</td>\n      <td>0.0</td>\n      <td>0.0</td>\n      <td>0.0</td>\n      <td>0.0</td>\n      <td>0.0</td>\n      <td>0.0</td>\n    </tr>\n    <tr>\n      <th>534</th>\n      <td>2.0</td>\n      <td>4.0</td>\n      <td>NaN</td>\n      <td>5.0</td>\n      <td>NaN</td>\n      <td>0.0</td>\n      <td>0.0</td>\n      <td>0.0</td>\n      <td>1.0</td>\n      <td>0.0</td>\n      <td>...</td>\n      <td>0.0</td>\n      <td>0.0</td>\n      <td>0.0</td>\n      <td>0.0</td>\n      <td>0.0</td>\n      <td>0.0</td>\n      <td>0.0</td>\n      <td>0.0</td>\n      <td>0.0</td>\n      <td>0.0</td>\n    </tr>\n    <tr>\n      <th>544</th>\n      <td>2.0</td>\n      <td>4.0</td>\n      <td>1.0</td>\n      <td>NaN</td>\n      <td>NaN</td>\n      <td>0.0</td>\n      <td>0.0</td>\n      <td>0.0</td>\n      <td>0.0</td>\n      <td>0.0</td>\n      <td>...</td>\n      <td>0.0</td>\n      <td>0.0</td>\n      <td>0.0</td>\n      <td>0.0</td>\n      <td>0.0</td>\n      <td>0.0</td>\n      <td>0.0</td>\n      <td>0.0</td>\n      <td>0.0</td>\n      <td>0.0</td>\n    </tr>\n    <tr>\n      <th>1379</th>\n      <td>2.0</td>\n      <td>4.0</td>\n      <td>1.0</td>\n      <td>NaN</td>\n      <td>3.0</td>\n      <td>0.0</td>\n      <td>0.0</td>\n      <td>0.0</td>\n      <td>0.0</td>\n      <td>0.0</td>\n      <td>...</td>\n      <td>0.0</td>\n      <td>0.0</td>\n      <td>0.0</td>\n      <td>0.0</td>\n      <td>0.0</td>\n      <td>0.0</td>\n      <td>1.0</td>\n      <td>0.0</td>\n      <td>0.0</td>\n      <td>0.0</td>\n    </tr>\n    <tr>\n      <th>6720</th>\n      <td>2.0</td>\n      <td>4.0</td>\n      <td>1.0</td>\n      <td>NaN</td>\n      <td>3.0</td>\n      <td>0.0</td>\n      <td>0.0</td>\n      <td>0.0</td>\n      <td>0.0</td>\n      <td>0.0</td>\n      <td>...</td>\n      <td>0.0</td>\n      <td>1.0</td>\n      <td>0.0</td>\n      <td>0.0</td>\n      <td>0.0</td>\n      <td>0.0</td>\n      <td>0.0</td>\n      <td>0.0</td>\n      <td>0.0</td>\n      <td>0.0</td>\n    </tr>\n    <tr>\n      <th>5429</th>\n      <td>2.0</td>\n      <td>4.0</td>\n      <td>1.0</td>\n      <td>NaN</td>\n      <td>NaN</td>\n      <td>0.0</td>\n      <td>0.0</td>\n      <td>0.0</td>\n      <td>1.0</td>\n      <td>0.0</td>\n      <td>...</td>\n      <td>0.0</td>\n      <td>0.0</td>\n      <td>0.0</td>\n      <td>0.0</td>\n      <td>0.0</td>\n      <td>0.0</td>\n      <td>0.0</td>\n      <td>0.0</td>\n      <td>0.0</td>\n      <td>0.0</td>\n    </tr>\n  </tbody>\n</table>\n<p>10 rows × 205 columns</p>\n</div>"
     },
     "execution_count": 9,
     "metadata": {},
     "output_type": "execute_result"
    }
   ],
   "source": [
    "X.sample(10, random_state=42)"
   ],
   "metadata": {
    "collapsed": false,
    "ExecuteTime": {
     "end_time": "2024-05-16T17:09:01.484381Z",
     "start_time": "2024-05-16T17:09:01.385745Z"
    }
   },
   "id": "3ee9c5a362fda86a"
  },
  {
   "cell_type": "code",
   "execution_count": 10,
   "outputs": [
    {
     "name": "stderr",
     "output_type": "stream",
     "text": [
      "/var/folders/m7/5s5bxk114536vng3qz49rmdh0000gn/T/ipykernel_15438/626636962.py:2: SettingWithCopyWarning: \n",
      "A value is trying to be set on a copy of a slice from a DataFrame\n",
      "\n",
      "See the caveats in the documentation: https://pandas.pydata.org/pandas-docs/stable/user_guide/indexing.html#returning-a-view-versus-a-copy\n",
      "  X.fillna(0, inplace=True)\n"
     ]
    }
   ],
   "source": [
    "#Fill the NaN values with 0\n",
    "X.fillna(0, inplace=True)"
   ],
   "metadata": {
    "collapsed": false,
    "ExecuteTime": {
     "end_time": "2024-05-16T17:09:01.486358Z",
     "start_time": "2024-05-16T17:09:01.405301Z"
    }
   },
   "id": "918bd31473deb8a6"
  },
  {
   "cell_type": "code",
   "execution_count": 11,
   "outputs": [
    {
     "data": {
      "text/plain": "      Innerwear wearType  Bottomwear wearType  Accessoire wearType  \\\n5668                 2.0                  4.0                  1.0   \n3455                 2.0                  4.0                  0.0   \n4032                 2.0                  4.0                  1.0   \n2642                 2.0                  4.0                  1.0   \n1882                 2.0                  4.0                  0.0   \n534                  2.0                  4.0                  0.0   \n544                  2.0                  4.0                  1.0   \n1379                 2.0                  4.0                  1.0   \n6720                 2.0                  4.0                  1.0   \n5429                 2.0                  4.0                  1.0   \n\n      Shoes wearType  Outerwear wearType  \\\n5668             5.0                 0.0   \n3455             5.0                 0.0   \n4032             5.0                 0.0   \n2642             0.0                 0.0   \n1882             0.0                 0.0   \n534              5.0                 0.0   \n544              0.0                 0.0   \n1379             0.0                 3.0   \n6720             0.0                 3.0   \n5429             0.0                 0.0   \n\n      Innerwear 1st Dominant Color Nearest Color_0  \\\n5668                                           0.0   \n3455                                           0.0   \n4032                                           1.0   \n2642                                           0.0   \n1882                                           0.0   \n534                                            0.0   \n544                                            0.0   \n1379                                           0.0   \n6720                                           0.0   \n5429                                           0.0   \n\n      Innerwear 1st Dominant Color Nearest Color_1  \\\n5668                                           0.0   \n3455                                           0.0   \n4032                                           0.0   \n2642                                           0.0   \n1882                                           0.0   \n534                                            0.0   \n544                                            0.0   \n1379                                           0.0   \n6720                                           0.0   \n5429                                           0.0   \n\n      Innerwear 1st Dominant Color Nearest Color_2  \\\n5668                                           0.0   \n3455                                           0.0   \n4032                                           0.0   \n2642                                           0.0   \n1882                                           0.0   \n534                                            0.0   \n544                                            0.0   \n1379                                           0.0   \n6720                                           0.0   \n5429                                           0.0   \n\n      Innerwear 1st Dominant Color Nearest Color_3  \\\n5668                                           0.0   \n3455                                           1.0   \n4032                                           0.0   \n2642                                           0.0   \n1882                                           0.0   \n534                                            1.0   \n544                                            0.0   \n1379                                           0.0   \n6720                                           0.0   \n5429                                           1.0   \n\n      Innerwear 1st Dominant Color Nearest Color_4  ...  \\\n5668                                           0.0  ...   \n3455                                           0.0  ...   \n4032                                           0.0  ...   \n2642                                           1.0  ...   \n1882                                           1.0  ...   \n534                                            0.0  ...   \n544                                            0.0  ...   \n1379                                           0.0  ...   \n6720                                           0.0  ...   \n5429                                           0.0  ...   \n\n      Outerwear 4th Dominant Color Nearest Color_0.0  \\\n5668                                             0.0   \n3455                                             0.0   \n4032                                             0.0   \n2642                                             0.0   \n1882                                             0.0   \n534                                              0.0   \n544                                              0.0   \n1379                                             0.0   \n6720                                             0.0   \n5429                                             0.0   \n\n      Outerwear 4th Dominant Color Nearest Color_1.0  \\\n5668                                             0.0   \n3455                                             0.0   \n4032                                             0.0   \n2642                                             0.0   \n1882                                             0.0   \n534                                              0.0   \n544                                              0.0   \n1379                                             0.0   \n6720                                             1.0   \n5429                                             0.0   \n\n      Outerwear 4th Dominant Color Nearest Color_2.0  \\\n5668                                             0.0   \n3455                                             0.0   \n4032                                             0.0   \n2642                                             0.0   \n1882                                             0.0   \n534                                              0.0   \n544                                              0.0   \n1379                                             0.0   \n6720                                             0.0   \n5429                                             0.0   \n\n      Outerwear 4th Dominant Color Nearest Color_3.0  \\\n5668                                             0.0   \n3455                                             0.0   \n4032                                             0.0   \n2642                                             0.0   \n1882                                             0.0   \n534                                              0.0   \n544                                              0.0   \n1379                                             0.0   \n6720                                             0.0   \n5429                                             0.0   \n\n      Outerwear 4th Dominant Color Nearest Color_4.0  \\\n5668                                             0.0   \n3455                                             0.0   \n4032                                             0.0   \n2642                                             0.0   \n1882                                             0.0   \n534                                              0.0   \n544                                              0.0   \n1379                                             0.0   \n6720                                             0.0   \n5429                                             0.0   \n\n      Outerwear 4th Dominant Color Nearest Color_5.0  \\\n5668                                             0.0   \n3455                                             0.0   \n4032                                             0.0   \n2642                                             0.0   \n1882                                             0.0   \n534                                              0.0   \n544                                              0.0   \n1379                                             0.0   \n6720                                             0.0   \n5429                                             0.0   \n\n      Outerwear 4th Dominant Color Nearest Color_6.0  \\\n5668                                             0.0   \n3455                                             0.0   \n4032                                             0.0   \n2642                                             0.0   \n1882                                             0.0   \n534                                              0.0   \n544                                              0.0   \n1379                                             1.0   \n6720                                             0.0   \n5429                                             0.0   \n\n      Outerwear 4th Dominant Color Nearest Color_7.0  \\\n5668                                             0.0   \n3455                                             0.0   \n4032                                             0.0   \n2642                                             0.0   \n1882                                             0.0   \n534                                              0.0   \n544                                              0.0   \n1379                                             0.0   \n6720                                             0.0   \n5429                                             0.0   \n\n      Outerwear 4th Dominant Color Nearest Color_8.0  \\\n5668                                             0.0   \n3455                                             0.0   \n4032                                             0.0   \n2642                                             0.0   \n1882                                             0.0   \n534                                              0.0   \n544                                              0.0   \n1379                                             0.0   \n6720                                             0.0   \n5429                                             0.0   \n\n      Outerwear 4th Dominant Color Nearest Color_9.0  \n5668                                             0.0  \n3455                                             0.0  \n4032                                             0.0  \n2642                                             0.0  \n1882                                             0.0  \n534                                              0.0  \n544                                              0.0  \n1379                                             0.0  \n6720                                             0.0  \n5429                                             0.0  \n\n[10 rows x 205 columns]",
      "text/html": "<div>\n<style scoped>\n    .dataframe tbody tr th:only-of-type {\n        vertical-align: middle;\n    }\n\n    .dataframe tbody tr th {\n        vertical-align: top;\n    }\n\n    .dataframe thead th {\n        text-align: right;\n    }\n</style>\n<table border=\"1\" class=\"dataframe\">\n  <thead>\n    <tr style=\"text-align: right;\">\n      <th></th>\n      <th>Innerwear wearType</th>\n      <th>Bottomwear wearType</th>\n      <th>Accessoire wearType</th>\n      <th>Shoes wearType</th>\n      <th>Outerwear wearType</th>\n      <th>Innerwear 1st Dominant Color Nearest Color_0</th>\n      <th>Innerwear 1st Dominant Color Nearest Color_1</th>\n      <th>Innerwear 1st Dominant Color Nearest Color_2</th>\n      <th>Innerwear 1st Dominant Color Nearest Color_3</th>\n      <th>Innerwear 1st Dominant Color Nearest Color_4</th>\n      <th>...</th>\n      <th>Outerwear 4th Dominant Color Nearest Color_0.0</th>\n      <th>Outerwear 4th Dominant Color Nearest Color_1.0</th>\n      <th>Outerwear 4th Dominant Color Nearest Color_2.0</th>\n      <th>Outerwear 4th Dominant Color Nearest Color_3.0</th>\n      <th>Outerwear 4th Dominant Color Nearest Color_4.0</th>\n      <th>Outerwear 4th Dominant Color Nearest Color_5.0</th>\n      <th>Outerwear 4th Dominant Color Nearest Color_6.0</th>\n      <th>Outerwear 4th Dominant Color Nearest Color_7.0</th>\n      <th>Outerwear 4th Dominant Color Nearest Color_8.0</th>\n      <th>Outerwear 4th Dominant Color Nearest Color_9.0</th>\n    </tr>\n  </thead>\n  <tbody>\n    <tr>\n      <th>5668</th>\n      <td>2.0</td>\n      <td>4.0</td>\n      <td>1.0</td>\n      <td>5.0</td>\n      <td>0.0</td>\n      <td>0.0</td>\n      <td>0.0</td>\n      <td>0.0</td>\n      <td>0.0</td>\n      <td>0.0</td>\n      <td>...</td>\n      <td>0.0</td>\n      <td>0.0</td>\n      <td>0.0</td>\n      <td>0.0</td>\n      <td>0.0</td>\n      <td>0.0</td>\n      <td>0.0</td>\n      <td>0.0</td>\n      <td>0.0</td>\n      <td>0.0</td>\n    </tr>\n    <tr>\n      <th>3455</th>\n      <td>2.0</td>\n      <td>4.0</td>\n      <td>0.0</td>\n      <td>5.0</td>\n      <td>0.0</td>\n      <td>0.0</td>\n      <td>0.0</td>\n      <td>0.0</td>\n      <td>1.0</td>\n      <td>0.0</td>\n      <td>...</td>\n      <td>0.0</td>\n      <td>0.0</td>\n      <td>0.0</td>\n      <td>0.0</td>\n      <td>0.0</td>\n      <td>0.0</td>\n      <td>0.0</td>\n      <td>0.0</td>\n      <td>0.0</td>\n      <td>0.0</td>\n    </tr>\n    <tr>\n      <th>4032</th>\n      <td>2.0</td>\n      <td>4.0</td>\n      <td>1.0</td>\n      <td>5.0</td>\n      <td>0.0</td>\n      <td>1.0</td>\n      <td>0.0</td>\n      <td>0.0</td>\n      <td>0.0</td>\n      <td>0.0</td>\n      <td>...</td>\n      <td>0.0</td>\n      <td>0.0</td>\n      <td>0.0</td>\n      <td>0.0</td>\n      <td>0.0</td>\n      <td>0.0</td>\n      <td>0.0</td>\n      <td>0.0</td>\n      <td>0.0</td>\n      <td>0.0</td>\n    </tr>\n    <tr>\n      <th>2642</th>\n      <td>2.0</td>\n      <td>4.0</td>\n      <td>1.0</td>\n      <td>0.0</td>\n      <td>0.0</td>\n      <td>0.0</td>\n      <td>0.0</td>\n      <td>0.0</td>\n      <td>0.0</td>\n      <td>1.0</td>\n      <td>...</td>\n      <td>0.0</td>\n      <td>0.0</td>\n      <td>0.0</td>\n      <td>0.0</td>\n      <td>0.0</td>\n      <td>0.0</td>\n      <td>0.0</td>\n      <td>0.0</td>\n      <td>0.0</td>\n      <td>0.0</td>\n    </tr>\n    <tr>\n      <th>1882</th>\n      <td>2.0</td>\n      <td>4.0</td>\n      <td>0.0</td>\n      <td>0.0</td>\n      <td>0.0</td>\n      <td>0.0</td>\n      <td>0.0</td>\n      <td>0.0</td>\n      <td>0.0</td>\n      <td>1.0</td>\n      <td>...</td>\n      <td>0.0</td>\n      <td>0.0</td>\n      <td>0.0</td>\n      <td>0.0</td>\n      <td>0.0</td>\n      <td>0.0</td>\n      <td>0.0</td>\n      <td>0.0</td>\n      <td>0.0</td>\n      <td>0.0</td>\n    </tr>\n    <tr>\n      <th>534</th>\n      <td>2.0</td>\n      <td>4.0</td>\n      <td>0.0</td>\n      <td>5.0</td>\n      <td>0.0</td>\n      <td>0.0</td>\n      <td>0.0</td>\n      <td>0.0</td>\n      <td>1.0</td>\n      <td>0.0</td>\n      <td>...</td>\n      <td>0.0</td>\n      <td>0.0</td>\n      <td>0.0</td>\n      <td>0.0</td>\n      <td>0.0</td>\n      <td>0.0</td>\n      <td>0.0</td>\n      <td>0.0</td>\n      <td>0.0</td>\n      <td>0.0</td>\n    </tr>\n    <tr>\n      <th>544</th>\n      <td>2.0</td>\n      <td>4.0</td>\n      <td>1.0</td>\n      <td>0.0</td>\n      <td>0.0</td>\n      <td>0.0</td>\n      <td>0.0</td>\n      <td>0.0</td>\n      <td>0.0</td>\n      <td>0.0</td>\n      <td>...</td>\n      <td>0.0</td>\n      <td>0.0</td>\n      <td>0.0</td>\n      <td>0.0</td>\n      <td>0.0</td>\n      <td>0.0</td>\n      <td>0.0</td>\n      <td>0.0</td>\n      <td>0.0</td>\n      <td>0.0</td>\n    </tr>\n    <tr>\n      <th>1379</th>\n      <td>2.0</td>\n      <td>4.0</td>\n      <td>1.0</td>\n      <td>0.0</td>\n      <td>3.0</td>\n      <td>0.0</td>\n      <td>0.0</td>\n      <td>0.0</td>\n      <td>0.0</td>\n      <td>0.0</td>\n      <td>...</td>\n      <td>0.0</td>\n      <td>0.0</td>\n      <td>0.0</td>\n      <td>0.0</td>\n      <td>0.0</td>\n      <td>0.0</td>\n      <td>1.0</td>\n      <td>0.0</td>\n      <td>0.0</td>\n      <td>0.0</td>\n    </tr>\n    <tr>\n      <th>6720</th>\n      <td>2.0</td>\n      <td>4.0</td>\n      <td>1.0</td>\n      <td>0.0</td>\n      <td>3.0</td>\n      <td>0.0</td>\n      <td>0.0</td>\n      <td>0.0</td>\n      <td>0.0</td>\n      <td>0.0</td>\n      <td>...</td>\n      <td>0.0</td>\n      <td>1.0</td>\n      <td>0.0</td>\n      <td>0.0</td>\n      <td>0.0</td>\n      <td>0.0</td>\n      <td>0.0</td>\n      <td>0.0</td>\n      <td>0.0</td>\n      <td>0.0</td>\n    </tr>\n    <tr>\n      <th>5429</th>\n      <td>2.0</td>\n      <td>4.0</td>\n      <td>1.0</td>\n      <td>0.0</td>\n      <td>0.0</td>\n      <td>0.0</td>\n      <td>0.0</td>\n      <td>0.0</td>\n      <td>1.0</td>\n      <td>0.0</td>\n      <td>...</td>\n      <td>0.0</td>\n      <td>0.0</td>\n      <td>0.0</td>\n      <td>0.0</td>\n      <td>0.0</td>\n      <td>0.0</td>\n      <td>0.0</td>\n      <td>0.0</td>\n      <td>0.0</td>\n      <td>0.0</td>\n    </tr>\n  </tbody>\n</table>\n<p>10 rows × 205 columns</p>\n</div>"
     },
     "execution_count": 11,
     "metadata": {},
     "output_type": "execute_result"
    }
   ],
   "source": [
    "X.sample(10, random_state=42)"
   ],
   "metadata": {
    "collapsed": false,
    "ExecuteTime": {
     "end_time": "2024-05-16T17:09:01.499461Z",
     "start_time": "2024-05-16T17:09:01.416754Z"
    }
   },
   "id": "36fc3192c0ced6cb"
  },
  {
   "cell_type": "code",
   "execution_count": 12,
   "outputs": [],
   "source": [
    "y = df[columnns_y]"
   ],
   "metadata": {
    "collapsed": false,
    "ExecuteTime": {
     "end_time": "2024-05-16T17:09:01.499595Z",
     "start_time": "2024-05-16T17:09:01.437382Z"
    }
   },
   "id": "f1c8aa50b15bf477"
  },
  {
   "cell_type": "code",
   "execution_count": 13,
   "outputs": [],
   "source": [
    "X_train, X_test, y_train, y_test = train_test_split(X, y, test_size=0.2, random_state=42)"
   ],
   "metadata": {
    "collapsed": false,
    "ExecuteTime": {
     "end_time": "2024-05-16T17:09:01.499671Z",
     "start_time": "2024-05-16T17:09:01.441293Z"
    }
   },
   "id": "46a0552013e8becb"
  },
  {
   "cell_type": "code",
   "execution_count": 14,
   "outputs": [],
   "source": [
    "scaler = MinMaxScaler()\n",
    "\n",
    "X_train_scaled = scaler.fit_transform(X_train)\n",
    "X_test_scaled = scaler.transform(X_test)"
   ],
   "metadata": {
    "collapsed": false,
    "ExecuteTime": {
     "end_time": "2024-05-16T17:09:01.511063Z",
     "start_time": "2024-05-16T17:09:01.451942Z"
    }
   },
   "id": "5c0e9f7dd4589fe9"
  },
  {
   "cell_type": "code",
   "execution_count": 15,
   "outputs": [
    {
     "data": {
      "text/plain": "array([[0., 0., 1., ..., 0., 0., 0.],\n       [0., 0., 1., ..., 0., 0., 0.],\n       [0., 0., 1., ..., 0., 0., 0.],\n       ...,\n       [0., 0., 1., ..., 0., 0., 0.],\n       [0., 0., 1., ..., 0., 0., 0.],\n       [0., 0., 1., ..., 0., 0., 0.]])"
     },
     "execution_count": 15,
     "metadata": {},
     "output_type": "execute_result"
    }
   ],
   "source": [
    "X_train_scaled"
   ],
   "metadata": {
    "collapsed": false,
    "ExecuteTime": {
     "end_time": "2024-05-16T17:09:01.511633Z",
     "start_time": "2024-05-16T17:09:01.462878Z"
    }
   },
   "id": "a018ffb1135f46c0"
  },
  {
   "cell_type": "code",
   "execution_count": 16,
   "outputs": [],
   "source": [
    "mlp = MLPClassifier(hidden_layer_sizes=(30,15),\n",
    "                    activation='relu',  # activation function\n",
    "                    solver='adam',  # optimizer\n",
    "                    batch_size=512)"
   ],
   "metadata": {
    "collapsed": false,
    "ExecuteTime": {
     "end_time": "2024-05-16T17:09:01.511724Z",
     "start_time": "2024-05-16T17:09:01.466961Z"
    }
   },
   "id": "a8de03a927ff032a"
  },
  {
   "cell_type": "code",
   "execution_count": 17,
   "outputs": [
    {
     "name": "stderr",
     "output_type": "stream",
     "text": [
      "/Users/luca/.local/share/virtualenvs/DSPRO2-outfit-recommendation-etrui0aa/lib/python3.10/site-packages/sklearn/neighbors/_classification.py:238: DataConversionWarning: A column-vector y was passed when a 1d array was expected. Please change the shape of y to (n_samples,), for example using ravel().\n",
      "  return self._fit(X, y)\n"
     ]
    },
    {
     "data": {
      "text/plain": "KNeighborsClassifier(n_neighbors=3)",
      "text/html": "<style>#sk-container-id-1 {\n  /* Definition of color scheme common for light and dark mode */\n  --sklearn-color-text: black;\n  --sklearn-color-line: gray;\n  /* Definition of color scheme for unfitted estimators */\n  --sklearn-color-unfitted-level-0: #fff5e6;\n  --sklearn-color-unfitted-level-1: #f6e4d2;\n  --sklearn-color-unfitted-level-2: #ffe0b3;\n  --sklearn-color-unfitted-level-3: chocolate;\n  /* Definition of color scheme for fitted estimators */\n  --sklearn-color-fitted-level-0: #f0f8ff;\n  --sklearn-color-fitted-level-1: #d4ebff;\n  --sklearn-color-fitted-level-2: #b3dbfd;\n  --sklearn-color-fitted-level-3: cornflowerblue;\n\n  /* Specific color for light theme */\n  --sklearn-color-text-on-default-background: var(--sg-text-color, var(--theme-code-foreground, var(--jp-content-font-color1, black)));\n  --sklearn-color-background: var(--sg-background-color, var(--theme-background, var(--jp-layout-color0, white)));\n  --sklearn-color-border-box: var(--sg-text-color, var(--theme-code-foreground, var(--jp-content-font-color1, black)));\n  --sklearn-color-icon: #696969;\n\n  @media (prefers-color-scheme: dark) {\n    /* Redefinition of color scheme for dark theme */\n    --sklearn-color-text-on-default-background: var(--sg-text-color, var(--theme-code-foreground, var(--jp-content-font-color1, white)));\n    --sklearn-color-background: var(--sg-background-color, var(--theme-background, var(--jp-layout-color0, #111)));\n    --sklearn-color-border-box: var(--sg-text-color, var(--theme-code-foreground, var(--jp-content-font-color1, white)));\n    --sklearn-color-icon: #878787;\n  }\n}\n\n#sk-container-id-1 {\n  color: var(--sklearn-color-text);\n}\n\n#sk-container-id-1 pre {\n  padding: 0;\n}\n\n#sk-container-id-1 input.sk-hidden--visually {\n  border: 0;\n  clip: rect(1px 1px 1px 1px);\n  clip: rect(1px, 1px, 1px, 1px);\n  height: 1px;\n  margin: -1px;\n  overflow: hidden;\n  padding: 0;\n  position: absolute;\n  width: 1px;\n}\n\n#sk-container-id-1 div.sk-dashed-wrapped {\n  border: 1px dashed var(--sklearn-color-line);\n  margin: 0 0.4em 0.5em 0.4em;\n  box-sizing: border-box;\n  padding-bottom: 0.4em;\n  background-color: var(--sklearn-color-background);\n}\n\n#sk-container-id-1 div.sk-container {\n  /* jupyter's `normalize.less` sets `[hidden] { display: none; }`\n     but bootstrap.min.css set `[hidden] { display: none !important; }`\n     so we also need the `!important` here to be able to override the\n     default hidden behavior on the sphinx rendered scikit-learn.org.\n     See: https://github.com/scikit-learn/scikit-learn/issues/21755 */\n  display: inline-block !important;\n  position: relative;\n}\n\n#sk-container-id-1 div.sk-text-repr-fallback {\n  display: none;\n}\n\ndiv.sk-parallel-item,\ndiv.sk-serial,\ndiv.sk-item {\n  /* draw centered vertical line to link estimators */\n  background-image: linear-gradient(var(--sklearn-color-text-on-default-background), var(--sklearn-color-text-on-default-background));\n  background-size: 2px 100%;\n  background-repeat: no-repeat;\n  background-position: center center;\n}\n\n/* Parallel-specific style estimator block */\n\n#sk-container-id-1 div.sk-parallel-item::after {\n  content: \"\";\n  width: 100%;\n  border-bottom: 2px solid var(--sklearn-color-text-on-default-background);\n  flex-grow: 1;\n}\n\n#sk-container-id-1 div.sk-parallel {\n  display: flex;\n  align-items: stretch;\n  justify-content: center;\n  background-color: var(--sklearn-color-background);\n  position: relative;\n}\n\n#sk-container-id-1 div.sk-parallel-item {\n  display: flex;\n  flex-direction: column;\n}\n\n#sk-container-id-1 div.sk-parallel-item:first-child::after {\n  align-self: flex-end;\n  width: 50%;\n}\n\n#sk-container-id-1 div.sk-parallel-item:last-child::after {\n  align-self: flex-start;\n  width: 50%;\n}\n\n#sk-container-id-1 div.sk-parallel-item:only-child::after {\n  width: 0;\n}\n\n/* Serial-specific style estimator block */\n\n#sk-container-id-1 div.sk-serial {\n  display: flex;\n  flex-direction: column;\n  align-items: center;\n  background-color: var(--sklearn-color-background);\n  padding-right: 1em;\n  padding-left: 1em;\n}\n\n\n/* Toggleable style: style used for estimator/Pipeline/ColumnTransformer box that is\nclickable and can be expanded/collapsed.\n- Pipeline and ColumnTransformer use this feature and define the default style\n- Estimators will overwrite some part of the style using the `sk-estimator` class\n*/\n\n/* Pipeline and ColumnTransformer style (default) */\n\n#sk-container-id-1 div.sk-toggleable {\n  /* Default theme specific background. It is overwritten whether we have a\n  specific estimator or a Pipeline/ColumnTransformer */\n  background-color: var(--sklearn-color-background);\n}\n\n/* Toggleable label */\n#sk-container-id-1 label.sk-toggleable__label {\n  cursor: pointer;\n  display: block;\n  width: 100%;\n  margin-bottom: 0;\n  padding: 0.5em;\n  box-sizing: border-box;\n  text-align: center;\n}\n\n#sk-container-id-1 label.sk-toggleable__label-arrow:before {\n  /* Arrow on the left of the label */\n  content: \"▸\";\n  float: left;\n  margin-right: 0.25em;\n  color: var(--sklearn-color-icon);\n}\n\n#sk-container-id-1 label.sk-toggleable__label-arrow:hover:before {\n  color: var(--sklearn-color-text);\n}\n\n/* Toggleable content - dropdown */\n\n#sk-container-id-1 div.sk-toggleable__content {\n  max-height: 0;\n  max-width: 0;\n  overflow: hidden;\n  text-align: left;\n  /* unfitted */\n  background-color: var(--sklearn-color-unfitted-level-0);\n}\n\n#sk-container-id-1 div.sk-toggleable__content.fitted {\n  /* fitted */\n  background-color: var(--sklearn-color-fitted-level-0);\n}\n\n#sk-container-id-1 div.sk-toggleable__content pre {\n  margin: 0.2em;\n  border-radius: 0.25em;\n  color: var(--sklearn-color-text);\n  /* unfitted */\n  background-color: var(--sklearn-color-unfitted-level-0);\n}\n\n#sk-container-id-1 div.sk-toggleable__content.fitted pre {\n  /* unfitted */\n  background-color: var(--sklearn-color-fitted-level-0);\n}\n\n#sk-container-id-1 input.sk-toggleable__control:checked~div.sk-toggleable__content {\n  /* Expand drop-down */\n  max-height: 200px;\n  max-width: 100%;\n  overflow: auto;\n}\n\n#sk-container-id-1 input.sk-toggleable__control:checked~label.sk-toggleable__label-arrow:before {\n  content: \"▾\";\n}\n\n/* Pipeline/ColumnTransformer-specific style */\n\n#sk-container-id-1 div.sk-label input.sk-toggleable__control:checked~label.sk-toggleable__label {\n  color: var(--sklearn-color-text);\n  background-color: var(--sklearn-color-unfitted-level-2);\n}\n\n#sk-container-id-1 div.sk-label.fitted input.sk-toggleable__control:checked~label.sk-toggleable__label {\n  background-color: var(--sklearn-color-fitted-level-2);\n}\n\n/* Estimator-specific style */\n\n/* Colorize estimator box */\n#sk-container-id-1 div.sk-estimator input.sk-toggleable__control:checked~label.sk-toggleable__label {\n  /* unfitted */\n  background-color: var(--sklearn-color-unfitted-level-2);\n}\n\n#sk-container-id-1 div.sk-estimator.fitted input.sk-toggleable__control:checked~label.sk-toggleable__label {\n  /* fitted */\n  background-color: var(--sklearn-color-fitted-level-2);\n}\n\n#sk-container-id-1 div.sk-label label.sk-toggleable__label,\n#sk-container-id-1 div.sk-label label {\n  /* The background is the default theme color */\n  color: var(--sklearn-color-text-on-default-background);\n}\n\n/* On hover, darken the color of the background */\n#sk-container-id-1 div.sk-label:hover label.sk-toggleable__label {\n  color: var(--sklearn-color-text);\n  background-color: var(--sklearn-color-unfitted-level-2);\n}\n\n/* Label box, darken color on hover, fitted */\n#sk-container-id-1 div.sk-label.fitted:hover label.sk-toggleable__label.fitted {\n  color: var(--sklearn-color-text);\n  background-color: var(--sklearn-color-fitted-level-2);\n}\n\n/* Estimator label */\n\n#sk-container-id-1 div.sk-label label {\n  font-family: monospace;\n  font-weight: bold;\n  display: inline-block;\n  line-height: 1.2em;\n}\n\n#sk-container-id-1 div.sk-label-container {\n  text-align: center;\n}\n\n/* Estimator-specific */\n#sk-container-id-1 div.sk-estimator {\n  font-family: monospace;\n  border: 1px dotted var(--sklearn-color-border-box);\n  border-radius: 0.25em;\n  box-sizing: border-box;\n  margin-bottom: 0.5em;\n  /* unfitted */\n  background-color: var(--sklearn-color-unfitted-level-0);\n}\n\n#sk-container-id-1 div.sk-estimator.fitted {\n  /* fitted */\n  background-color: var(--sklearn-color-fitted-level-0);\n}\n\n/* on hover */\n#sk-container-id-1 div.sk-estimator:hover {\n  /* unfitted */\n  background-color: var(--sklearn-color-unfitted-level-2);\n}\n\n#sk-container-id-1 div.sk-estimator.fitted:hover {\n  /* fitted */\n  background-color: var(--sklearn-color-fitted-level-2);\n}\n\n/* Specification for estimator info (e.g. \"i\" and \"?\") */\n\n/* Common style for \"i\" and \"?\" */\n\n.sk-estimator-doc-link,\na:link.sk-estimator-doc-link,\na:visited.sk-estimator-doc-link {\n  float: right;\n  font-size: smaller;\n  line-height: 1em;\n  font-family: monospace;\n  background-color: var(--sklearn-color-background);\n  border-radius: 1em;\n  height: 1em;\n  width: 1em;\n  text-decoration: none !important;\n  margin-left: 1ex;\n  /* unfitted */\n  border: var(--sklearn-color-unfitted-level-1) 1pt solid;\n  color: var(--sklearn-color-unfitted-level-1);\n}\n\n.sk-estimator-doc-link.fitted,\na:link.sk-estimator-doc-link.fitted,\na:visited.sk-estimator-doc-link.fitted {\n  /* fitted */\n  border: var(--sklearn-color-fitted-level-1) 1pt solid;\n  color: var(--sklearn-color-fitted-level-1);\n}\n\n/* On hover */\ndiv.sk-estimator:hover .sk-estimator-doc-link:hover,\n.sk-estimator-doc-link:hover,\ndiv.sk-label-container:hover .sk-estimator-doc-link:hover,\n.sk-estimator-doc-link:hover {\n  /* unfitted */\n  background-color: var(--sklearn-color-unfitted-level-3);\n  color: var(--sklearn-color-background);\n  text-decoration: none;\n}\n\ndiv.sk-estimator.fitted:hover .sk-estimator-doc-link.fitted:hover,\n.sk-estimator-doc-link.fitted:hover,\ndiv.sk-label-container:hover .sk-estimator-doc-link.fitted:hover,\n.sk-estimator-doc-link.fitted:hover {\n  /* fitted */\n  background-color: var(--sklearn-color-fitted-level-3);\n  color: var(--sklearn-color-background);\n  text-decoration: none;\n}\n\n/* Span, style for the box shown on hovering the info icon */\n.sk-estimator-doc-link span {\n  display: none;\n  z-index: 9999;\n  position: relative;\n  font-weight: normal;\n  right: .2ex;\n  padding: .5ex;\n  margin: .5ex;\n  width: min-content;\n  min-width: 20ex;\n  max-width: 50ex;\n  color: var(--sklearn-color-text);\n  box-shadow: 2pt 2pt 4pt #999;\n  /* unfitted */\n  background: var(--sklearn-color-unfitted-level-0);\n  border: .5pt solid var(--sklearn-color-unfitted-level-3);\n}\n\n.sk-estimator-doc-link.fitted span {\n  /* fitted */\n  background: var(--sklearn-color-fitted-level-0);\n  border: var(--sklearn-color-fitted-level-3);\n}\n\n.sk-estimator-doc-link:hover span {\n  display: block;\n}\n\n/* \"?\"-specific style due to the `<a>` HTML tag */\n\n#sk-container-id-1 a.estimator_doc_link {\n  float: right;\n  font-size: 1rem;\n  line-height: 1em;\n  font-family: monospace;\n  background-color: var(--sklearn-color-background);\n  border-radius: 1rem;\n  height: 1rem;\n  width: 1rem;\n  text-decoration: none;\n  /* unfitted */\n  color: var(--sklearn-color-unfitted-level-1);\n  border: var(--sklearn-color-unfitted-level-1) 1pt solid;\n}\n\n#sk-container-id-1 a.estimator_doc_link.fitted {\n  /* fitted */\n  border: var(--sklearn-color-fitted-level-1) 1pt solid;\n  color: var(--sklearn-color-fitted-level-1);\n}\n\n/* On hover */\n#sk-container-id-1 a.estimator_doc_link:hover {\n  /* unfitted */\n  background-color: var(--sklearn-color-unfitted-level-3);\n  color: var(--sklearn-color-background);\n  text-decoration: none;\n}\n\n#sk-container-id-1 a.estimator_doc_link.fitted:hover {\n  /* fitted */\n  background-color: var(--sklearn-color-fitted-level-3);\n}\n</style><div id=\"sk-container-id-1\" class=\"sk-top-container\"><div class=\"sk-text-repr-fallback\"><pre>KNeighborsClassifier(n_neighbors=3)</pre><b>In a Jupyter environment, please rerun this cell to show the HTML representation or trust the notebook. <br />On GitHub, the HTML representation is unable to render, please try loading this page with nbviewer.org.</b></div><div class=\"sk-container\" hidden><div class=\"sk-item\"><div class=\"sk-estimator fitted sk-toggleable\"><input class=\"sk-toggleable__control sk-hidden--visually\" id=\"sk-estimator-id-1\" type=\"checkbox\" checked><label for=\"sk-estimator-id-1\" class=\"sk-toggleable__label fitted sk-toggleable__label-arrow fitted\">&nbsp;&nbsp;KNeighborsClassifier<a class=\"sk-estimator-doc-link fitted\" rel=\"noreferrer\" target=\"_blank\" href=\"https://scikit-learn.org/1.4/modules/generated/sklearn.neighbors.KNeighborsClassifier.html\">?<span>Documentation for KNeighborsClassifier</span></a><span class=\"sk-estimator-doc-link fitted\">i<span>Fitted</span></span></label><div class=\"sk-toggleable__content fitted\"><pre>KNeighborsClassifier(n_neighbors=3)</pre></div> </div></div></div></div>"
     },
     "execution_count": 17,
     "metadata": {},
     "output_type": "execute_result"
    }
   ],
   "source": [
    "from sklearn.neighbors import KNeighborsClassifier\n",
    "neigh = KNeighborsClassifier(n_neighbors=3)\n",
    "neigh.fit(X_train, y_train)"
   ],
   "metadata": {
    "collapsed": false,
    "ExecuteTime": {
     "end_time": "2024-05-16T17:09:01.814903Z",
     "start_time": "2024-05-16T17:09:01.470386Z"
    }
   },
   "id": "fbc890ff6076708f"
  },
  {
   "cell_type": "code",
   "execution_count": 18,
   "outputs": [],
   "source": [
    "prediction = neigh.predict(X_test)\n",
    "accuracy = accuracy_score(y_test, prediction)"
   ],
   "metadata": {
    "collapsed": false,
    "ExecuteTime": {
     "end_time": "2024-05-16T17:09:01.918340Z",
     "start_time": "2024-05-16T17:09:01.517655Z"
    }
   },
   "id": "9081374cc09c8ee9"
  },
  {
   "cell_type": "code",
   "execution_count": 19,
   "outputs": [
    {
     "data": {
      "text/plain": "0.5048327137546469"
     },
     "execution_count": 19,
     "metadata": {},
     "output_type": "execute_result"
    }
   ],
   "source": [
    "accuracy"
   ],
   "metadata": {
    "collapsed": false,
    "ExecuteTime": {
     "end_time": "2024-05-16T17:09:01.933074Z",
     "start_time": "2024-05-16T17:09:01.842513Z"
    }
   },
   "id": "31023a4b8a6f4fd"
  },
  {
   "cell_type": "code",
   "execution_count": 20,
   "outputs": [],
   "source": [
    "# KNN with scaled data"
   ],
   "metadata": {
    "collapsed": false,
    "ExecuteTime": {
     "end_time": "2024-05-16T17:09:01.934696Z",
     "start_time": "2024-05-16T17:09:01.846658Z"
    }
   },
   "id": "f0897a8ed1c17b2b"
  },
  {
   "cell_type": "code",
   "execution_count": 21,
   "outputs": [
    {
     "name": "stderr",
     "output_type": "stream",
     "text": [
      "/Users/luca/.local/share/virtualenvs/DSPRO2-outfit-recommendation-etrui0aa/lib/python3.10/site-packages/sklearn/neighbors/_classification.py:238: DataConversionWarning: A column-vector y was passed when a 1d array was expected. Please change the shape of y to (n_samples,), for example using ravel().\n",
      "  return self._fit(X, y)\n"
     ]
    },
    {
     "data": {
      "text/plain": "KNeighborsClassifier(n_neighbors=3)",
      "text/html": "<style>#sk-container-id-2 {\n  /* Definition of color scheme common for light and dark mode */\n  --sklearn-color-text: black;\n  --sklearn-color-line: gray;\n  /* Definition of color scheme for unfitted estimators */\n  --sklearn-color-unfitted-level-0: #fff5e6;\n  --sklearn-color-unfitted-level-1: #f6e4d2;\n  --sklearn-color-unfitted-level-2: #ffe0b3;\n  --sklearn-color-unfitted-level-3: chocolate;\n  /* Definition of color scheme for fitted estimators */\n  --sklearn-color-fitted-level-0: #f0f8ff;\n  --sklearn-color-fitted-level-1: #d4ebff;\n  --sklearn-color-fitted-level-2: #b3dbfd;\n  --sklearn-color-fitted-level-3: cornflowerblue;\n\n  /* Specific color for light theme */\n  --sklearn-color-text-on-default-background: var(--sg-text-color, var(--theme-code-foreground, var(--jp-content-font-color1, black)));\n  --sklearn-color-background: var(--sg-background-color, var(--theme-background, var(--jp-layout-color0, white)));\n  --sklearn-color-border-box: var(--sg-text-color, var(--theme-code-foreground, var(--jp-content-font-color1, black)));\n  --sklearn-color-icon: #696969;\n\n  @media (prefers-color-scheme: dark) {\n    /* Redefinition of color scheme for dark theme */\n    --sklearn-color-text-on-default-background: var(--sg-text-color, var(--theme-code-foreground, var(--jp-content-font-color1, white)));\n    --sklearn-color-background: var(--sg-background-color, var(--theme-background, var(--jp-layout-color0, #111)));\n    --sklearn-color-border-box: var(--sg-text-color, var(--theme-code-foreground, var(--jp-content-font-color1, white)));\n    --sklearn-color-icon: #878787;\n  }\n}\n\n#sk-container-id-2 {\n  color: var(--sklearn-color-text);\n}\n\n#sk-container-id-2 pre {\n  padding: 0;\n}\n\n#sk-container-id-2 input.sk-hidden--visually {\n  border: 0;\n  clip: rect(1px 1px 1px 1px);\n  clip: rect(1px, 1px, 1px, 1px);\n  height: 1px;\n  margin: -1px;\n  overflow: hidden;\n  padding: 0;\n  position: absolute;\n  width: 1px;\n}\n\n#sk-container-id-2 div.sk-dashed-wrapped {\n  border: 1px dashed var(--sklearn-color-line);\n  margin: 0 0.4em 0.5em 0.4em;\n  box-sizing: border-box;\n  padding-bottom: 0.4em;\n  background-color: var(--sklearn-color-background);\n}\n\n#sk-container-id-2 div.sk-container {\n  /* jupyter's `normalize.less` sets `[hidden] { display: none; }`\n     but bootstrap.min.css set `[hidden] { display: none !important; }`\n     so we also need the `!important` here to be able to override the\n     default hidden behavior on the sphinx rendered scikit-learn.org.\n     See: https://github.com/scikit-learn/scikit-learn/issues/21755 */\n  display: inline-block !important;\n  position: relative;\n}\n\n#sk-container-id-2 div.sk-text-repr-fallback {\n  display: none;\n}\n\ndiv.sk-parallel-item,\ndiv.sk-serial,\ndiv.sk-item {\n  /* draw centered vertical line to link estimators */\n  background-image: linear-gradient(var(--sklearn-color-text-on-default-background), var(--sklearn-color-text-on-default-background));\n  background-size: 2px 100%;\n  background-repeat: no-repeat;\n  background-position: center center;\n}\n\n/* Parallel-specific style estimator block */\n\n#sk-container-id-2 div.sk-parallel-item::after {\n  content: \"\";\n  width: 100%;\n  border-bottom: 2px solid var(--sklearn-color-text-on-default-background);\n  flex-grow: 1;\n}\n\n#sk-container-id-2 div.sk-parallel {\n  display: flex;\n  align-items: stretch;\n  justify-content: center;\n  background-color: var(--sklearn-color-background);\n  position: relative;\n}\n\n#sk-container-id-2 div.sk-parallel-item {\n  display: flex;\n  flex-direction: column;\n}\n\n#sk-container-id-2 div.sk-parallel-item:first-child::after {\n  align-self: flex-end;\n  width: 50%;\n}\n\n#sk-container-id-2 div.sk-parallel-item:last-child::after {\n  align-self: flex-start;\n  width: 50%;\n}\n\n#sk-container-id-2 div.sk-parallel-item:only-child::after {\n  width: 0;\n}\n\n/* Serial-specific style estimator block */\n\n#sk-container-id-2 div.sk-serial {\n  display: flex;\n  flex-direction: column;\n  align-items: center;\n  background-color: var(--sklearn-color-background);\n  padding-right: 1em;\n  padding-left: 1em;\n}\n\n\n/* Toggleable style: style used for estimator/Pipeline/ColumnTransformer box that is\nclickable and can be expanded/collapsed.\n- Pipeline and ColumnTransformer use this feature and define the default style\n- Estimators will overwrite some part of the style using the `sk-estimator` class\n*/\n\n/* Pipeline and ColumnTransformer style (default) */\n\n#sk-container-id-2 div.sk-toggleable {\n  /* Default theme specific background. It is overwritten whether we have a\n  specific estimator or a Pipeline/ColumnTransformer */\n  background-color: var(--sklearn-color-background);\n}\n\n/* Toggleable label */\n#sk-container-id-2 label.sk-toggleable__label {\n  cursor: pointer;\n  display: block;\n  width: 100%;\n  margin-bottom: 0;\n  padding: 0.5em;\n  box-sizing: border-box;\n  text-align: center;\n}\n\n#sk-container-id-2 label.sk-toggleable__label-arrow:before {\n  /* Arrow on the left of the label */\n  content: \"▸\";\n  float: left;\n  margin-right: 0.25em;\n  color: var(--sklearn-color-icon);\n}\n\n#sk-container-id-2 label.sk-toggleable__label-arrow:hover:before {\n  color: var(--sklearn-color-text);\n}\n\n/* Toggleable content - dropdown */\n\n#sk-container-id-2 div.sk-toggleable__content {\n  max-height: 0;\n  max-width: 0;\n  overflow: hidden;\n  text-align: left;\n  /* unfitted */\n  background-color: var(--sklearn-color-unfitted-level-0);\n}\n\n#sk-container-id-2 div.sk-toggleable__content.fitted {\n  /* fitted */\n  background-color: var(--sklearn-color-fitted-level-0);\n}\n\n#sk-container-id-2 div.sk-toggleable__content pre {\n  margin: 0.2em;\n  border-radius: 0.25em;\n  color: var(--sklearn-color-text);\n  /* unfitted */\n  background-color: var(--sklearn-color-unfitted-level-0);\n}\n\n#sk-container-id-2 div.sk-toggleable__content.fitted pre {\n  /* unfitted */\n  background-color: var(--sklearn-color-fitted-level-0);\n}\n\n#sk-container-id-2 input.sk-toggleable__control:checked~div.sk-toggleable__content {\n  /* Expand drop-down */\n  max-height: 200px;\n  max-width: 100%;\n  overflow: auto;\n}\n\n#sk-container-id-2 input.sk-toggleable__control:checked~label.sk-toggleable__label-arrow:before {\n  content: \"▾\";\n}\n\n/* Pipeline/ColumnTransformer-specific style */\n\n#sk-container-id-2 div.sk-label input.sk-toggleable__control:checked~label.sk-toggleable__label {\n  color: var(--sklearn-color-text);\n  background-color: var(--sklearn-color-unfitted-level-2);\n}\n\n#sk-container-id-2 div.sk-label.fitted input.sk-toggleable__control:checked~label.sk-toggleable__label {\n  background-color: var(--sklearn-color-fitted-level-2);\n}\n\n/* Estimator-specific style */\n\n/* Colorize estimator box */\n#sk-container-id-2 div.sk-estimator input.sk-toggleable__control:checked~label.sk-toggleable__label {\n  /* unfitted */\n  background-color: var(--sklearn-color-unfitted-level-2);\n}\n\n#sk-container-id-2 div.sk-estimator.fitted input.sk-toggleable__control:checked~label.sk-toggleable__label {\n  /* fitted */\n  background-color: var(--sklearn-color-fitted-level-2);\n}\n\n#sk-container-id-2 div.sk-label label.sk-toggleable__label,\n#sk-container-id-2 div.sk-label label {\n  /* The background is the default theme color */\n  color: var(--sklearn-color-text-on-default-background);\n}\n\n/* On hover, darken the color of the background */\n#sk-container-id-2 div.sk-label:hover label.sk-toggleable__label {\n  color: var(--sklearn-color-text);\n  background-color: var(--sklearn-color-unfitted-level-2);\n}\n\n/* Label box, darken color on hover, fitted */\n#sk-container-id-2 div.sk-label.fitted:hover label.sk-toggleable__label.fitted {\n  color: var(--sklearn-color-text);\n  background-color: var(--sklearn-color-fitted-level-2);\n}\n\n/* Estimator label */\n\n#sk-container-id-2 div.sk-label label {\n  font-family: monospace;\n  font-weight: bold;\n  display: inline-block;\n  line-height: 1.2em;\n}\n\n#sk-container-id-2 div.sk-label-container {\n  text-align: center;\n}\n\n/* Estimator-specific */\n#sk-container-id-2 div.sk-estimator {\n  font-family: monospace;\n  border: 1px dotted var(--sklearn-color-border-box);\n  border-radius: 0.25em;\n  box-sizing: border-box;\n  margin-bottom: 0.5em;\n  /* unfitted */\n  background-color: var(--sklearn-color-unfitted-level-0);\n}\n\n#sk-container-id-2 div.sk-estimator.fitted {\n  /* fitted */\n  background-color: var(--sklearn-color-fitted-level-0);\n}\n\n/* on hover */\n#sk-container-id-2 div.sk-estimator:hover {\n  /* unfitted */\n  background-color: var(--sklearn-color-unfitted-level-2);\n}\n\n#sk-container-id-2 div.sk-estimator.fitted:hover {\n  /* fitted */\n  background-color: var(--sklearn-color-fitted-level-2);\n}\n\n/* Specification for estimator info (e.g. \"i\" and \"?\") */\n\n/* Common style for \"i\" and \"?\" */\n\n.sk-estimator-doc-link,\na:link.sk-estimator-doc-link,\na:visited.sk-estimator-doc-link {\n  float: right;\n  font-size: smaller;\n  line-height: 1em;\n  font-family: monospace;\n  background-color: var(--sklearn-color-background);\n  border-radius: 1em;\n  height: 1em;\n  width: 1em;\n  text-decoration: none !important;\n  margin-left: 1ex;\n  /* unfitted */\n  border: var(--sklearn-color-unfitted-level-1) 1pt solid;\n  color: var(--sklearn-color-unfitted-level-1);\n}\n\n.sk-estimator-doc-link.fitted,\na:link.sk-estimator-doc-link.fitted,\na:visited.sk-estimator-doc-link.fitted {\n  /* fitted */\n  border: var(--sklearn-color-fitted-level-1) 1pt solid;\n  color: var(--sklearn-color-fitted-level-1);\n}\n\n/* On hover */\ndiv.sk-estimator:hover .sk-estimator-doc-link:hover,\n.sk-estimator-doc-link:hover,\ndiv.sk-label-container:hover .sk-estimator-doc-link:hover,\n.sk-estimator-doc-link:hover {\n  /* unfitted */\n  background-color: var(--sklearn-color-unfitted-level-3);\n  color: var(--sklearn-color-background);\n  text-decoration: none;\n}\n\ndiv.sk-estimator.fitted:hover .sk-estimator-doc-link.fitted:hover,\n.sk-estimator-doc-link.fitted:hover,\ndiv.sk-label-container:hover .sk-estimator-doc-link.fitted:hover,\n.sk-estimator-doc-link.fitted:hover {\n  /* fitted */\n  background-color: var(--sklearn-color-fitted-level-3);\n  color: var(--sklearn-color-background);\n  text-decoration: none;\n}\n\n/* Span, style for the box shown on hovering the info icon */\n.sk-estimator-doc-link span {\n  display: none;\n  z-index: 9999;\n  position: relative;\n  font-weight: normal;\n  right: .2ex;\n  padding: .5ex;\n  margin: .5ex;\n  width: min-content;\n  min-width: 20ex;\n  max-width: 50ex;\n  color: var(--sklearn-color-text);\n  box-shadow: 2pt 2pt 4pt #999;\n  /* unfitted */\n  background: var(--sklearn-color-unfitted-level-0);\n  border: .5pt solid var(--sklearn-color-unfitted-level-3);\n}\n\n.sk-estimator-doc-link.fitted span {\n  /* fitted */\n  background: var(--sklearn-color-fitted-level-0);\n  border: var(--sklearn-color-fitted-level-3);\n}\n\n.sk-estimator-doc-link:hover span {\n  display: block;\n}\n\n/* \"?\"-specific style due to the `<a>` HTML tag */\n\n#sk-container-id-2 a.estimator_doc_link {\n  float: right;\n  font-size: 1rem;\n  line-height: 1em;\n  font-family: monospace;\n  background-color: var(--sklearn-color-background);\n  border-radius: 1rem;\n  height: 1rem;\n  width: 1rem;\n  text-decoration: none;\n  /* unfitted */\n  color: var(--sklearn-color-unfitted-level-1);\n  border: var(--sklearn-color-unfitted-level-1) 1pt solid;\n}\n\n#sk-container-id-2 a.estimator_doc_link.fitted {\n  /* fitted */\n  border: var(--sklearn-color-fitted-level-1) 1pt solid;\n  color: var(--sklearn-color-fitted-level-1);\n}\n\n/* On hover */\n#sk-container-id-2 a.estimator_doc_link:hover {\n  /* unfitted */\n  background-color: var(--sklearn-color-unfitted-level-3);\n  color: var(--sklearn-color-background);\n  text-decoration: none;\n}\n\n#sk-container-id-2 a.estimator_doc_link.fitted:hover {\n  /* fitted */\n  background-color: var(--sklearn-color-fitted-level-3);\n}\n</style><div id=\"sk-container-id-2\" class=\"sk-top-container\"><div class=\"sk-text-repr-fallback\"><pre>KNeighborsClassifier(n_neighbors=3)</pre><b>In a Jupyter environment, please rerun this cell to show the HTML representation or trust the notebook. <br />On GitHub, the HTML representation is unable to render, please try loading this page with nbviewer.org.</b></div><div class=\"sk-container\" hidden><div class=\"sk-item\"><div class=\"sk-estimator fitted sk-toggleable\"><input class=\"sk-toggleable__control sk-hidden--visually\" id=\"sk-estimator-id-2\" type=\"checkbox\" checked><label for=\"sk-estimator-id-2\" class=\"sk-toggleable__label fitted sk-toggleable__label-arrow fitted\">&nbsp;&nbsp;KNeighborsClassifier<a class=\"sk-estimator-doc-link fitted\" rel=\"noreferrer\" target=\"_blank\" href=\"https://scikit-learn.org/1.4/modules/generated/sklearn.neighbors.KNeighborsClassifier.html\">?<span>Documentation for KNeighborsClassifier</span></a><span class=\"sk-estimator-doc-link fitted\">i<span>Fitted</span></span></label><div class=\"sk-toggleable__content fitted\"><pre>KNeighborsClassifier(n_neighbors=3)</pre></div> </div></div></div></div>"
     },
     "execution_count": 21,
     "metadata": {},
     "output_type": "execute_result"
    }
   ],
   "source": [
    "neigh_scaled = KNeighborsClassifier(n_neighbors=3)\n",
    "neigh_scaled.fit(X_train_scaled, y_train)\n",
    "\n"
   ],
   "metadata": {
    "collapsed": false,
    "ExecuteTime": {
     "end_time": "2024-05-16T17:09:01.935545Z",
     "start_time": "2024-05-16T17:09:01.851113Z"
    }
   },
   "id": "e2624f195a7859de"
  },
  {
   "cell_type": "code",
   "execution_count": 22,
   "outputs": [
    {
     "name": "stdout",
     "output_type": "stream",
     "text": [
      "0.49814126394052044\n"
     ]
    }
   ],
   "source": [
    "prediction_scaled = neigh_scaled.predict(X_test_scaled)\n",
    "accuracy_scaled = accuracy_score(y_test, prediction_scaled)\n",
    "print(accuracy_scaled)"
   ],
   "metadata": {
    "collapsed": false,
    "ExecuteTime": {
     "end_time": "2024-05-16T17:09:01.958863Z",
     "start_time": "2024-05-16T17:09:01.864610Z"
    }
   },
   "id": "9513d480d2cbb0ea"
  },
  {
   "cell_type": "markdown",
   "source": [
    "# Neural Network"
   ],
   "metadata": {
    "collapsed": false
   },
   "id": "7c03f7a521097bc"
  },
  {
   "cell_type": "code",
   "execution_count": 23,
   "outputs": [],
   "source": [
    "NN = Sequential()\n",
    "#NN.add(Dense(128, input_dim=X_train.shape[1], activation='relu'))\n",
    "NN.add(InputLayer(shape=(X_train.shape[1],)))\n",
    "NN.add(Dense(32, activation='relu'))\n",
    "NN.add(Dense(1, activation='sigmoid'))\n",
    "NN.compile(loss='binary_crossentropy', optimizer='adam', metrics=['accuracy'])\n"
   ],
   "metadata": {
    "collapsed": false,
    "ExecuteTime": {
     "end_time": "2024-05-16T17:09:01.995451Z",
     "start_time": "2024-05-16T17:09:01.944446Z"
    }
   },
   "id": "b8d6c6b1de89d8ae"
  },
  {
   "cell_type": "code",
   "execution_count": 24,
   "outputs": [
    {
     "data": {
      "text/plain": "\u001B[1mModel: \"sequential\"\u001B[0m\n",
      "text/html": "<pre style=\"white-space:pre;overflow-x:auto;line-height:normal;font-family:Menlo,'DejaVu Sans Mono',consolas,'Courier New',monospace\"><span style=\"font-weight: bold\">Model: \"sequential\"</span>\n</pre>\n"
     },
     "metadata": {},
     "output_type": "display_data"
    },
    {
     "data": {
      "text/plain": "┏━━━━━━━━━━━━━━━━━━━━━━━━━━━━━━━━━┳━━━━━━━━━━━━━━━━━━━━━━━━┳━━━━━━━━━━━━━━━┓\n┃\u001B[1m \u001B[0m\u001B[1mLayer (type)                   \u001B[0m\u001B[1m \u001B[0m┃\u001B[1m \u001B[0m\u001B[1mOutput Shape          \u001B[0m\u001B[1m \u001B[0m┃\u001B[1m \u001B[0m\u001B[1m      Param #\u001B[0m\u001B[1m \u001B[0m┃\n┡━━━━━━━━━━━━━━━━━━━━━━━━━━━━━━━━━╇━━━━━━━━━━━━━━━━━━━━━━━━╇━━━━━━━━━━━━━━━┩\n│ dense (\u001B[38;5;33mDense\u001B[0m)                   │ (\u001B[38;5;45mNone\u001B[0m, \u001B[38;5;34m32\u001B[0m)             │         \u001B[38;5;34m6,592\u001B[0m │\n├─────────────────────────────────┼────────────────────────┼───────────────┤\n│ dense_1 (\u001B[38;5;33mDense\u001B[0m)                 │ (\u001B[38;5;45mNone\u001B[0m, \u001B[38;5;34m1\u001B[0m)              │            \u001B[38;5;34m33\u001B[0m │\n└─────────────────────────────────┴────────────────────────┴───────────────┘\n",
      "text/html": "<pre style=\"white-space:pre;overflow-x:auto;line-height:normal;font-family:Menlo,'DejaVu Sans Mono',consolas,'Courier New',monospace\">┏━━━━━━━━━━━━━━━━━━━━━━━━━━━━━━━━━┳━━━━━━━━━━━━━━━━━━━━━━━━┳━━━━━━━━━━━━━━━┓\n┃<span style=\"font-weight: bold\"> Layer (type)                    </span>┃<span style=\"font-weight: bold\"> Output Shape           </span>┃<span style=\"font-weight: bold\">       Param # </span>┃\n┡━━━━━━━━━━━━━━━━━━━━━━━━━━━━━━━━━╇━━━━━━━━━━━━━━━━━━━━━━━━╇━━━━━━━━━━━━━━━┩\n│ dense (<span style=\"color: #0087ff; text-decoration-color: #0087ff\">Dense</span>)                   │ (<span style=\"color: #00d7ff; text-decoration-color: #00d7ff\">None</span>, <span style=\"color: #00af00; text-decoration-color: #00af00\">32</span>)             │         <span style=\"color: #00af00; text-decoration-color: #00af00\">6,592</span> │\n├─────────────────────────────────┼────────────────────────┼───────────────┤\n│ dense_1 (<span style=\"color: #0087ff; text-decoration-color: #0087ff\">Dense</span>)                 │ (<span style=\"color: #00d7ff; text-decoration-color: #00d7ff\">None</span>, <span style=\"color: #00af00; text-decoration-color: #00af00\">1</span>)              │            <span style=\"color: #00af00; text-decoration-color: #00af00\">33</span> │\n└─────────────────────────────────┴────────────────────────┴───────────────┘\n</pre>\n"
     },
     "metadata": {},
     "output_type": "display_data"
    },
    {
     "data": {
      "text/plain": "\u001B[1m Total params: \u001B[0m\u001B[38;5;34m6,625\u001B[0m (25.88 KB)\n",
      "text/html": "<pre style=\"white-space:pre;overflow-x:auto;line-height:normal;font-family:Menlo,'DejaVu Sans Mono',consolas,'Courier New',monospace\"><span style=\"font-weight: bold\"> Total params: </span><span style=\"color: #00af00; text-decoration-color: #00af00\">6,625</span> (25.88 KB)\n</pre>\n"
     },
     "metadata": {},
     "output_type": "display_data"
    },
    {
     "data": {
      "text/plain": "\u001B[1m Trainable params: \u001B[0m\u001B[38;5;34m6,625\u001B[0m (25.88 KB)\n",
      "text/html": "<pre style=\"white-space:pre;overflow-x:auto;line-height:normal;font-family:Menlo,'DejaVu Sans Mono',consolas,'Courier New',monospace\"><span style=\"font-weight: bold\"> Trainable params: </span><span style=\"color: #00af00; text-decoration-color: #00af00\">6,625</span> (25.88 KB)\n</pre>\n"
     },
     "metadata": {},
     "output_type": "display_data"
    },
    {
     "data": {
      "text/plain": "\u001B[1m Non-trainable params: \u001B[0m\u001B[38;5;34m0\u001B[0m (0.00 B)\n",
      "text/html": "<pre style=\"white-space:pre;overflow-x:auto;line-height:normal;font-family:Menlo,'DejaVu Sans Mono',consolas,'Courier New',monospace\"><span style=\"font-weight: bold\"> Non-trainable params: </span><span style=\"color: #00af00; text-decoration-color: #00af00\">0</span> (0.00 B)\n</pre>\n"
     },
     "metadata": {},
     "output_type": "display_data"
    }
   ],
   "source": [
    "NN.summary()"
   ],
   "metadata": {
    "collapsed": false,
    "ExecuteTime": {
     "end_time": "2024-05-16T17:09:02.059118Z",
     "start_time": "2024-05-16T17:09:01.977362Z"
    }
   },
   "id": "8ec6d55f092eb602"
  },
  {
   "cell_type": "code",
   "execution_count": 25,
   "outputs": [],
   "source": [
    "#NN.fit(X_train_scaled, y_train, epochs=10, batch_size=512, verbose=1)"
   ],
   "metadata": {
    "collapsed": false,
    "ExecuteTime": {
     "end_time": "2024-05-16T17:09:02.061488Z",
     "start_time": "2024-05-16T17:09:01.986647Z"
    }
   },
   "id": "e0f751c5a16adb44"
  },
  {
   "cell_type": "code",
   "execution_count": 26,
   "outputs": [],
   "source": [
    "mlp = MLPClassifier(hidden_layer_sizes=(30,15),\n",
    "                    activation='relu',  # activation function\n",
    "                    solver='adam',  # optimizer\n",
    "                    batch_size=1024)  # size of minibatches"
   ],
   "metadata": {
    "collapsed": false,
    "ExecuteTime": {
     "end_time": "2024-05-16T17:09:02.072909Z",
     "start_time": "2024-05-16T17:09:01.989968Z"
    }
   },
   "id": "c3f3e45745b66e37"
  },
  {
   "cell_type": "code",
   "execution_count": 27,
   "outputs": [
    {
     "name": "stderr",
     "output_type": "stream",
     "text": [
      "/Users/luca/.local/share/virtualenvs/DSPRO2-outfit-recommendation-etrui0aa/lib/python3.10/site-packages/sklearn/neural_network/_multilayer_perceptron.py:1101: DataConversionWarning: A column-vector y was passed when a 1d array was expected. Please change the shape of y to (n_samples, ), for example using ravel().\n",
      "  y = column_or_1d(y, warn=True)\n",
      "/Users/luca/.local/share/virtualenvs/DSPRO2-outfit-recommendation-etrui0aa/lib/python3.10/site-packages/sklearn/neural_network/_multilayer_perceptron.py:691: ConvergenceWarning: Stochastic Optimizer: Maximum iterations (200) reached and the optimization hasn't converged yet.\n",
      "  warnings.warn(\n",
      "/Users/luca/.local/share/virtualenvs/DSPRO2-outfit-recommendation-etrui0aa/lib/python3.10/site-packages/sklearn/base.py:486: UserWarning: X has feature names, but MLPClassifier was fitted without feature names\n",
      "  warnings.warn(\n"
     ]
    },
    {
     "data": {
      "text/plain": "0.40384615384615385"
     },
     "execution_count": 27,
     "metadata": {},
     "output_type": "execute_result"
    }
   ],
   "source": [
    "mlp.fit(X_train_scaled, y_train)\n",
    "y_pred_scikit = mlp.predict(X_test)\n",
    "f1 = f1_score(y_test, y_pred_scikit)\n",
    "f1"
   ],
   "metadata": {
    "collapsed": false,
    "ExecuteTime": {
     "end_time": "2024-05-16T17:09:11.120846Z",
     "start_time": "2024-05-16T17:09:01.993654Z"
    }
   },
   "id": "4694793fc78fcbda"
  },
  {
   "cell_type": "code",
   "execution_count": 28,
   "outputs": [
    {
     "name": "stderr",
     "output_type": "stream",
     "text": [
      "/Users/luca/.local/share/virtualenvs/DSPRO2-outfit-recommendation-etrui0aa/lib/python3.10/site-packages/keras/src/layers/core/dense.py:87: UserWarning: Do not pass an `input_shape`/`input_dim` argument to a layer. When using Sequential models, prefer using an `Input(shape)` object as the first layer in the model instead.\n",
      "  super().__init__(activity_regularizer=activity_regularizer, **kwargs)\n"
     ]
    }
   ],
   "source": [
    "from tensorflow.keras.models import Sequential\n",
    "from tensorflow.keras.layers import Dense\n",
    "\n",
    "# Define the model\n",
    "model = Sequential()\n",
    "\n",
    "# Add an input layer with 32 nodes\n",
    "model.add(Dense(32, input_dim=X_train.shape[1], activation='relu'))\n",
    "\n",
    "# Add a hidden layer with 16 nodes\n",
    "#model.add(Dense(16, activation='relu'))\n",
    "\n",
    "# Add an output layer with 1 node (for binary classification)\n",
    "model.add(Dense(1, activation='sigmoid'))\n",
    "\n",
    "# Compile the model\n",
    "model.compile(loss='binary_crossentropy', optimizer='adam', metrics=['accuracy'])\n",
    "\n",
    "# Train the model"
   ],
   "metadata": {
    "collapsed": false,
    "ExecuteTime": {
     "end_time": "2024-05-16T17:09:11.178823Z",
     "start_time": "2024-05-16T17:09:11.119296Z"
    }
   },
   "id": "2a077f1a57ff00cc"
  },
  {
   "cell_type": "code",
   "execution_count": null,
   "outputs": [
    {
     "name": "stdout",
     "output_type": "stream",
     "text": [
      "[]\n",
      "Epoch 1/10\n"
     ]
    }
   ],
   "source": [
    "from keras import backend as K\n",
    "from keras.models import Sequential\n",
    "from keras.layers import Dense\n",
    "\n",
    "gpus = tensorflow.config.experimental.list_physical_devices('GPU')\n",
    "print(gpus)\n",
    "\n",
    "# Check if GPU is available\n",
    "if gpus:\n",
    "    device = '/gpu:0'\n",
    "else:\n",
    "    device = '/cpu:0'\n",
    "\n",
    "# Set the device for training\n",
    "with tensorflow.device(device):\n",
    "    # Train your model\n",
    "    model.fit(X_train, y_train, epochs=10, batch_size=32, verbose=1)\n"
   ],
   "metadata": {
    "collapsed": false,
    "is_executing": true,
    "ExecuteTime": {
     "start_time": "2024-05-16T17:09:11.142407Z"
    }
   },
   "id": "41c8fccd2ec84665"
  },
  {
   "cell_type": "code",
   "execution_count": null,
   "outputs": [],
   "source": [],
   "metadata": {
    "collapsed": false,
    "is_executing": true
   },
   "id": "12c545611f308c2e"
  }
 ],
 "metadata": {
  "kernelspec": {
   "display_name": "Python 3",
   "language": "python",
   "name": "python3"
  },
  "language_info": {
   "codemirror_mode": {
    "name": "ipython",
    "version": 2
   },
   "file_extension": ".py",
   "mimetype": "text/x-python",
   "name": "python",
   "nbconvert_exporter": "python",
   "pygments_lexer": "ipython2",
   "version": "2.7.6"
  }
 },
 "nbformat": 4,
 "nbformat_minor": 5
}
