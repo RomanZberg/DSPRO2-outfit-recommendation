{
 "cells": [
  {
   "cell_type": "code",
   "execution_count": 118,
   "id": "initial_id",
   "metadata": {
    "collapsed": true,
    "ExecuteTime": {
     "end_time": "2024-05-17T14:35:51.625309Z",
     "start_time": "2024-05-17T14:35:51.614204Z"
    }
   },
   "outputs": [],
   "source": [
    "import os\n",
    "import ssl\n",
    "ssl._create_default_https_context = ssl._create_unverified_context\n",
    "from torch.utils.data import DataLoader\n",
    "from torch import nn\n",
    "from torchvision.io import read_image\n",
    "from torchvision.transforms import v2\n",
    "from torchvision import transforms\n",
    "import torch\n",
    "import torchvision.transforms as T\n",
    "import json\n",
    "import urllib\n",
    "import requests\n",
    "from PIL import Image\n",
    "import tqdm\n",
    "from io import BytesIO\n",
    "import numpy as np\n",
    "import pandas as pd\n",
    "from sklearn.model_selection import train_test_split\n",
    "import matplotlib.pyplot as plt"
   ]
  },
  {
   "cell_type": "code",
   "execution_count": 97,
   "outputs": [
    {
     "data": {
      "text/plain": "device(type='cpu')"
     },
     "execution_count": 97,
     "metadata": {},
     "output_type": "execute_result"
    }
   ],
   "source": [
    "device = torch.device(\"cuda\" if torch.cuda.is_available() else \"cpu\")\n",
    "device"
   ],
   "metadata": {
    "collapsed": false,
    "ExecuteTime": {
     "end_time": "2024-05-17T14:08:35.185955Z",
     "start_time": "2024-05-17T14:08:35.127688Z"
    }
   },
   "id": "89a5c4a1fadef423"
  },
  {
   "cell_type": "markdown",
   "source": [
    "# Seeds"
   ],
   "metadata": {
    "collapsed": false
   },
   "id": "6e0b75837d84ca0d"
  },
  {
   "cell_type": "code",
   "execution_count": 98,
   "outputs": [],
   "source": [
    "def fix_random_seeds(seed=12345):\n",
    "    torch.manual_seed(seed)\n",
    "    torch.cuda.manual_seed_all(seed)\n",
    "    np.random.seed(seed)\n",
    "\n",
    "\n",
    "fix_random_seeds()"
   ],
   "metadata": {
    "collapsed": false,
    "ExecuteTime": {
     "end_time": "2024-05-17T14:08:35.281447Z",
     "start_time": "2024-05-17T14:08:35.133359Z"
    }
   },
   "id": "a0ed2d276a8a5d88"
  },
  {
   "cell_type": "markdown",
   "source": [
    "# Configuration"
   ],
   "metadata": {
    "collapsed": false
   },
   "id": "8d5b4f029f3247a1"
  },
  {
   "cell_type": "code",
   "execution_count": 99,
   "outputs": [],
   "source": [
    "model_config = {\n",
    "    'init_lr': 0.01,\n",
    "    'batch_size': 32,\n",
    "    'epochs': 25,\n",
    "    'empty_image_representation': 'zero_matrix',  #  zero_matrix, torch_empty\n",
    "    'dino_architecture': 'small',\n",
    "    'dataset': 'polyvore_63eb50dc58d97415384467bef7b3c9e1bd6c96e06ad19571b6bc15e9dd5af262.parquet',\n",
    "    # 'output_logistics_thresholds': [0.8, 0.7, 0.6, 0.5, 0.4, 0.3],\n",
    "    'model_forward_version': 'fast',  # slow, fast\n",
    "    'hidden_layer_neuron_count': 64\n",
    "}\n",
    "\n",
    "dataset_folder_root_path = '../datasets'\n",
    "dataset_path = f'{dataset_folder_root_path}/imageBasedModel/polyvore/{model_config[\"dataset\"]}'"
   ],
   "metadata": {
    "collapsed": false,
    "ExecuteTime": {
     "end_time": "2024-05-17T14:08:35.297101Z",
     "start_time": "2024-05-17T14:08:35.139348Z"
    }
   },
   "id": "9473aa3234417a86"
  },
  {
   "cell_type": "markdown",
   "source": [
    "# Load the dataset and DINO model"
   ],
   "metadata": {
    "collapsed": false
   },
   "id": "8345033c6c320db1"
  },
  {
   "cell_type": "code",
   "execution_count": 100,
   "outputs": [],
   "source": [
    "Train_df = pd.read_parquet('../datasets/imageBasedModel/polyvore/polyvore_train_eb26e630100b98397deda54fa4a0bb95929479bc30e83cbfa72424b7c1e6e178.parquet')\n",
    "Test_df = pd.read_parquet('../datasets/imageBasedModel/polyvore/polyvore_test_eb26e630100b98397deda54fa4a0bb95929479bc30e83cbfa72424b7c1e6e178.parquet')"
   ],
   "metadata": {
    "collapsed": false,
    "ExecuteTime": {
     "end_time": "2024-05-17T14:08:35.301527Z",
     "start_time": "2024-05-17T14:08:35.144993Z"
    }
   },
   "id": "c482c6da333faaf3"
  },
  {
   "cell_type": "code",
   "execution_count": 101,
   "outputs": [],
   "source": [
    "df = pd.concat([Train_df, Test_df])"
   ],
   "metadata": {
    "collapsed": false,
    "ExecuteTime": {
     "end_time": "2024-05-17T14:08:35.302798Z",
     "start_time": "2024-05-17T14:08:35.162691Z"
    }
   },
   "id": "d6730e1946edbcf1"
  },
  {
   "cell_type": "code",
   "execution_count": 102,
   "outputs": [
    {
     "name": "stdout",
     "output_type": "stream",
     "text": [
      "<class 'pandas.core.frame.DataFrame'>\n",
      "Index: 6723 entries, 213424314 to 209490988\n",
      "Data columns (total 11 columns):\n",
      " #   Column                        Non-Null Count  Dtype \n",
      "---  ------                        --------------  ----- \n",
      " 0   Innerwear_imagePath           6723 non-null   object\n",
      " 1   Bottomwear_imagePath          6723 non-null   object\n",
      " 2   Accessoire_imagePath          5631 non-null   object\n",
      " 3   Shoes_imagePath               3984 non-null   object\n",
      " 4   Outerwear_imagePath           2179 non-null   object\n",
      " 5   Innerwear_imagePath 256x256   6723 non-null   object\n",
      " 6   Bottomwear_imagePath 256x256  6723 non-null   object\n",
      " 7   Accessoire_imagePath 256x256  5631 non-null   object\n",
      " 8   Shoes_imagePath 256x256       3984 non-null   object\n",
      " 9   Outerwear_imagePath 256x256   2179 non-null   object\n",
      " 10  valid_outfit                  6723 non-null   int64 \n",
      "dtypes: int64(1), object(10)\n",
      "memory usage: 630.3+ KB\n"
     ]
    }
   ],
   "source": [
    "df.info()"
   ],
   "metadata": {
    "collapsed": false,
    "ExecuteTime": {
     "end_time": "2024-05-17T14:08:35.314136Z",
     "start_time": "2024-05-17T14:08:35.170755Z"
    }
   },
   "id": "3531eb9e5f895c7e"
  },
  {
   "cell_type": "code",
   "execution_count": 103,
   "outputs": [
    {
     "name": "stderr",
     "output_type": "stream",
     "text": [
      "Using cache found in /Users/luca/.cache/torch/hub/facebookresearch_dinov2_main\n"
     ]
    }
   ],
   "source": [
    "# DINOv2\n",
    "dinov2 = torch.hub.load('facebookresearch/dinov2', 'dinov2_vits14')\n",
    "dinov2 = dinov2.eval().to(device)\n",
    "#dinov2_vitb14 = torch.hub.load('facebookresearch/dinov2', 'dinov2_vitb14')\n",
    "#dinov2_vitl14 = torch.hub.load('facebookresearch/dinov2', 'dinov2_vitl14')\n",
    "#dinov2_vitg14 = torch.hub.load('facebookresearch/dinov2', 'dinov2_vitg14')"
   ],
   "metadata": {
    "collapsed": false,
    "ExecuteTime": {
     "end_time": "2024-05-17T14:08:36.839562Z",
     "start_time": "2024-05-17T14:08:35.174767Z"
    }
   },
   "id": "80a714f809bc8d1"
  },
  {
   "cell_type": "code",
   "execution_count": 104,
   "outputs": [],
   "source": [
    "dinov2 = dinov2.eval().to(device)"
   ],
   "metadata": {
    "collapsed": false,
    "ExecuteTime": {
     "end_time": "2024-05-17T14:08:36.846120Z",
     "start_time": "2024-05-17T14:08:36.834457Z"
    }
   },
   "id": "feabd945e4c1a3e9"
  },
  {
   "cell_type": "markdown",
   "source": [
    "# Load a test image"
   ],
   "metadata": {
    "collapsed": false
   },
   "id": "2108eb6b3e75841e"
  },
  {
   "cell_type": "code",
   "execution_count": 105,
   "outputs": [],
   "source": [
    "image_path = '../datasets/images_256x256/100119331/1.jpg'\n",
    "input_image = Image.open(image_path)\n",
    "\n",
    "transform = T.Compose([\n",
    "    T.Resize(256, interpolation=T.InterpolationMode.BICUBIC),\n",
    "    T.CenterCrop(224),\n",
    "    T.ToTensor(),\n",
    "    T.Normalize(mean=(0.485, 0.456, 0.406), std=(0.229, 0.224, 0.225)),\n",
    "])\n",
    "\n",
    "image = transform(input_image).to(device)"
   ],
   "metadata": {
    "collapsed": false,
    "ExecuteTime": {
     "end_time": "2024-05-17T14:08:36.865325Z",
     "start_time": "2024-05-17T14:08:36.847894Z"
    }
   },
   "id": "f6de2240e07e4232"
  },
  {
   "cell_type": "code",
   "execution_count": 106,
   "outputs": [
    {
     "name": "stdout",
     "output_type": "stream",
     "text": [
      "tensor([[ 3.4772,  1.7773,  1.4635,  2.2478, -3.1532, -1.9697,  0.0358, -1.5149,\n",
      "          3.5743, -2.1269,  1.0779, -0.3922, -1.1458, -1.3456,  5.0471,  3.7748,\n",
      "          2.0318, -2.5745,  0.3614,  0.1399,  0.0674,  0.7749, -1.2847,  2.1297,\n",
      "          1.2446, -2.6839,  1.5353,  2.9477,  0.8563,  2.3525, -2.8953,  0.0990,\n",
      "         -0.4088, -2.4031, -0.5959,  3.5995,  2.6785, -2.3534, -1.0936, -2.2574,\n",
      "          1.4675, -1.6633,  3.9569,  1.5211, -1.5145, -0.2431, -1.5367, -1.5053,\n",
      "         -2.2562, -1.8115,  4.4599,  2.6838, -3.3050, -1.4802,  2.6929, -3.9444,\n",
      "          2.6213, -1.5817, -4.5009, -1.3996,  0.9181,  2.2265, -1.0144, -2.1989,\n",
      "         -0.7569,  5.8527,  3.9435, -4.7644,  0.4165,  1.5716,  0.8196,  1.1729,\n",
      "          0.3606, -1.8431, -4.0229,  0.3466, -2.0093,  3.5627, -1.9622, -0.2825,\n",
      "         -1.1377, -1.6338, -0.5705,  3.9196, -0.2342, -4.9130, -0.5169, -0.4783,\n",
      "         -1.2212,  2.1530,  1.5316,  3.2916,  1.2449, -0.1067,  0.0386,  1.4902,\n",
      "         -1.3760, -0.9201, -1.5105,  3.2183,  2.4665,  6.3881,  1.8291, -0.8002,\n",
      "          0.5860, -1.9429, -0.5425, -1.0888, -0.0105, -1.9901,  2.2769, -4.1838,\n",
      "         -2.4713,  1.7866, -2.3675,  1.9481,  2.0414,  0.0601,  0.4730,  1.0500,\n",
      "          4.5078, -0.7500, -0.4446, -1.3046,  5.0974,  3.9296,  2.6110, -1.4839,\n",
      "          2.2571,  0.9045,  1.8206,  2.3095, -2.4301, -0.0540, -1.1581,  2.0587,\n",
      "         -2.0555,  0.5386,  0.5694,  1.3614, -2.1226,  3.9528,  0.4374,  2.3089,\n",
      "         -2.3750,  1.5855,  2.4255,  2.0457,  1.3579,  1.2557,  1.8387, -0.5222,\n",
      "          3.8662, -4.0003, -0.5835, -2.2571,  3.9728,  3.0687, -4.0258,  1.4465,\n",
      "         -1.6191,  0.1949, -1.1468, -2.4434, -1.7952,  1.0482,  1.9835,  3.5052,\n",
      "          1.0246,  5.1498, -2.7391,  2.1358, -2.1071,  0.9557,  1.5700,  6.2746,\n",
      "          1.2182, -1.6520, -0.9545,  4.4472, -0.6086,  1.3726, -1.9330, -1.6944,\n",
      "         -1.4423,  3.7364, -0.6700, -1.6551,  0.3297,  4.4200, -1.5649, -0.6711,\n",
      "          4.8333,  1.5876,  2.4679, -1.2259,  7.0876,  0.7621, -3.8195, -1.1487,\n",
      "          5.2616,  0.9837,  3.0000, -0.0505, -0.7425, -1.0977, -4.4702,  2.8512,\n",
      "         -4.6638, -2.4388, -3.3724,  0.4466,  3.3955,  4.9736, -0.9269, -0.9723,\n",
      "          4.1274,  3.1725,  0.2564, -3.7060,  0.5780, -0.5807, -4.1991,  1.4958,\n",
      "         -0.8122,  1.4311,  5.0475, -0.9859, -5.3403, -2.6631,  0.1391, -2.1883,\n",
      "          1.0482,  2.4577, -3.5340, -3.5847, -1.3971, -3.2531, -1.6477,  0.2551,\n",
      "         -0.9973,  0.4333, -2.0450, -1.5480,  3.5850, -0.3427,  0.6748,  0.3263,\n",
      "         -4.3399,  0.1926,  2.1169, -1.3120, -0.7789, -1.3989, -1.2242, -6.7389,\n",
      "         -0.7684,  1.9949,  0.7043,  2.5384,  2.1758, -1.4163,  0.4802,  1.5420,\n",
      "          1.9490, -2.2399,  1.0200,  3.5440, -0.8996, -1.1042, -1.0939,  1.4478,\n",
      "         -3.8070,  1.0581, -3.8757, -1.4556,  2.4169,  2.5494, -0.0769, -0.9109,\n",
      "         -3.2016, -0.1921,  0.7224,  1.0633,  2.5761,  0.9968, -0.9733, -0.5453,\n",
      "          1.6808,  1.3644, -4.4529,  1.2134, -1.7076, -0.4670, -2.5350,  8.5288,\n",
      "         -0.6760, -2.8173, -1.2159,  2.1533,  2.0446,  1.2065, -3.3962, -3.8433,\n",
      "          1.4712,  6.3817,  2.2206, -0.3779,  0.2107, -2.4753, -8.6209, -0.1559,\n",
      "          2.3756,  0.5719, -2.4378,  1.4231,  2.0884,  0.9091, -0.9093, -4.7919,\n",
      "          0.2614,  1.0572, -1.5826,  2.0341,  1.9011, -0.3014,  0.8622, -0.6644,\n",
      "          0.5570, -1.7988, -6.1176, -2.8449,  0.4038, -0.4276,  1.3741, -1.9264,\n",
      "          1.7068,  1.1197, -0.6945, -1.5310,  1.5448,  1.0070,  0.8007,  0.1211,\n",
      "          0.7075, -2.6274,  1.1358,  1.0519, -1.1010,  1.2391, -1.6756, -3.9530,\n",
      "         -3.4364, -3.4248,  1.2127, -0.7194,  0.0465, -1.6337,  2.6058, -1.7868,\n",
      "         -0.5327,  0.7467, -1.3033, -1.9139, -2.2999, -0.2227, -0.4814,  2.7386,\n",
      "         -0.9550,  1.9043,  0.0293, -2.3060, -0.4946, -3.3299, -5.4254, -2.3942,\n",
      "          1.0803, -1.9747,  0.5457, -1.2159, -1.4366, -1.6790, -2.4604,  2.8118]])\n",
      "torch.Size([1, 384])\n"
     ]
    }
   ],
   "source": [
    "with torch.no_grad():\n",
    "    features = dinov2(image.unsqueeze(0))\n",
    "\n",
    "print(features)\n",
    "print(features.shape)"
   ],
   "metadata": {
    "collapsed": false,
    "ExecuteTime": {
     "end_time": "2024-05-17T14:08:37.269340Z",
     "start_time": "2024-05-17T14:08:36.865223Z"
    }
   },
   "id": "6064c8efbcc40670"
  },
  {
   "cell_type": "code",
   "execution_count": 107,
   "outputs": [],
   "source": [
    "def dinov2_classifier(img_url):\n",
    "    \n",
    "    if img_url is None:\n",
    "        if model_config[\"empty_image_representation\"] == \"zero_matrix\":\n",
    "            return torch.zeros(3, 224, 224)\n",
    "        elif model_config[\"empty_image_representation\"] == \"torch_empty\":\n",
    "            return torch.empty(3, 224, 224)\n",
    "    \n",
    "    image = Image.open(img_url)\n",
    "\n",
    "    # Preprocess the image\n",
    "    transform = T.Compose([\n",
    "        T.Resize(256, interpolation=T.InterpolationMode.BICUBIC),\n",
    "        T.CenterCrop(224),\n",
    "        T.ToTensor(),\n",
    "        T.Normalize(mean=(0.485, 0.456, 0.406), std=(0.229, 0.224, 0.225)),\n",
    "    ])\n",
    "    image = transform(image)\n",
    "\n",
    "    # Move the image to the GPU if available\n",
    "    image = image.to(device)\n",
    "\n",
    "    # Extract the features\n",
    "    with torch.no_grad():\n",
    "        features = dinov2(image.unsqueeze(0)) #\n",
    "        #features = torch.squeeze(feature_extraction_model(image.unsqueeze(0)))\n",
    "\n",
    "    # Print the features\n",
    "    return features"
   ],
   "metadata": {
    "collapsed": false,
    "ExecuteTime": {
     "end_time": "2024-05-17T14:08:37.318688Z",
     "start_time": "2024-05-17T14:08:37.267122Z"
    }
   },
   "id": "b02c215bc91d74b3"
  },
  {
   "cell_type": "code",
   "execution_count": 108,
   "outputs": [
    {
     "data": {
      "text/plain": "tensor([[ 3.4772,  1.7773,  1.4635,  2.2478, -3.1532, -1.9697,  0.0358, -1.5149,\n          3.5743, -2.1269,  1.0779, -0.3922, -1.1458, -1.3456,  5.0471,  3.7748,\n          2.0318, -2.5745,  0.3614,  0.1399,  0.0674,  0.7749, -1.2847,  2.1297,\n          1.2446, -2.6839,  1.5353,  2.9477,  0.8563,  2.3525, -2.8953,  0.0990,\n         -0.4088, -2.4031, -0.5959,  3.5995,  2.6785, -2.3534, -1.0936, -2.2574,\n          1.4675, -1.6633,  3.9569,  1.5211, -1.5145, -0.2431, -1.5367, -1.5053,\n         -2.2562, -1.8115,  4.4599,  2.6838, -3.3050, -1.4802,  2.6929, -3.9444,\n          2.6213, -1.5817, -4.5009, -1.3996,  0.9181,  2.2265, -1.0144, -2.1989,\n         -0.7569,  5.8527,  3.9435, -4.7644,  0.4165,  1.5716,  0.8196,  1.1729,\n          0.3606, -1.8431, -4.0229,  0.3466, -2.0093,  3.5627, -1.9622, -0.2825,\n         -1.1377, -1.6338, -0.5705,  3.9196, -0.2342, -4.9130, -0.5169, -0.4783,\n         -1.2212,  2.1530,  1.5316,  3.2916,  1.2449, -0.1067,  0.0386,  1.4902,\n         -1.3760, -0.9201, -1.5105,  3.2183,  2.4665,  6.3881,  1.8291, -0.8002,\n          0.5860, -1.9429, -0.5425, -1.0888, -0.0105, -1.9901,  2.2769, -4.1838,\n         -2.4713,  1.7866, -2.3675,  1.9481,  2.0414,  0.0601,  0.4730,  1.0500,\n          4.5078, -0.7500, -0.4446, -1.3046,  5.0974,  3.9296,  2.6110, -1.4839,\n          2.2571,  0.9045,  1.8206,  2.3095, -2.4301, -0.0540, -1.1581,  2.0587,\n         -2.0555,  0.5386,  0.5694,  1.3614, -2.1226,  3.9528,  0.4374,  2.3089,\n         -2.3750,  1.5855,  2.4255,  2.0457,  1.3579,  1.2557,  1.8387, -0.5222,\n          3.8662, -4.0003, -0.5835, -2.2571,  3.9728,  3.0687, -4.0258,  1.4465,\n         -1.6191,  0.1949, -1.1468, -2.4434, -1.7952,  1.0482,  1.9835,  3.5052,\n          1.0246,  5.1498, -2.7391,  2.1358, -2.1071,  0.9557,  1.5700,  6.2746,\n          1.2182, -1.6520, -0.9545,  4.4472, -0.6086,  1.3726, -1.9330, -1.6944,\n         -1.4423,  3.7364, -0.6700, -1.6551,  0.3297,  4.4200, -1.5649, -0.6711,\n          4.8333,  1.5876,  2.4679, -1.2259,  7.0876,  0.7621, -3.8195, -1.1487,\n          5.2616,  0.9837,  3.0000, -0.0505, -0.7425, -1.0977, -4.4702,  2.8512,\n         -4.6638, -2.4388, -3.3724,  0.4466,  3.3955,  4.9736, -0.9269, -0.9723,\n          4.1274,  3.1725,  0.2564, -3.7060,  0.5780, -0.5807, -4.1991,  1.4958,\n         -0.8122,  1.4311,  5.0475, -0.9859, -5.3403, -2.6631,  0.1391, -2.1883,\n          1.0482,  2.4577, -3.5340, -3.5847, -1.3971, -3.2531, -1.6477,  0.2551,\n         -0.9973,  0.4333, -2.0450, -1.5480,  3.5850, -0.3427,  0.6748,  0.3263,\n         -4.3399,  0.1926,  2.1169, -1.3120, -0.7789, -1.3989, -1.2242, -6.7389,\n         -0.7684,  1.9949,  0.7043,  2.5384,  2.1758, -1.4163,  0.4802,  1.5420,\n          1.9490, -2.2399,  1.0200,  3.5440, -0.8996, -1.1042, -1.0939,  1.4478,\n         -3.8070,  1.0581, -3.8757, -1.4556,  2.4169,  2.5494, -0.0769, -0.9109,\n         -3.2016, -0.1921,  0.7224,  1.0633,  2.5761,  0.9968, -0.9733, -0.5453,\n          1.6808,  1.3644, -4.4529,  1.2134, -1.7076, -0.4670, -2.5350,  8.5288,\n         -0.6760, -2.8173, -1.2159,  2.1533,  2.0446,  1.2065, -3.3962, -3.8433,\n          1.4712,  6.3817,  2.2206, -0.3779,  0.2107, -2.4753, -8.6209, -0.1559,\n          2.3756,  0.5719, -2.4378,  1.4231,  2.0884,  0.9091, -0.9093, -4.7919,\n          0.2614,  1.0572, -1.5826,  2.0341,  1.9011, -0.3014,  0.8622, -0.6644,\n          0.5570, -1.7988, -6.1176, -2.8449,  0.4038, -0.4276,  1.3741, -1.9264,\n          1.7068,  1.1197, -0.6945, -1.5310,  1.5448,  1.0070,  0.8007,  0.1211,\n          0.7075, -2.6274,  1.1358,  1.0519, -1.1010,  1.2391, -1.6756, -3.9530,\n         -3.4364, -3.4248,  1.2127, -0.7194,  0.0465, -1.6337,  2.6058, -1.7868,\n         -0.5327,  0.7467, -1.3033, -1.9139, -2.2999, -0.2227, -0.4814,  2.7386,\n         -0.9550,  1.9043,  0.0293, -2.3060, -0.4946, -3.3299, -5.4254, -2.3942,\n          1.0803, -1.9747,  0.5457, -1.2159, -1.4366, -1.6790, -2.4604,  2.8118]])"
     },
     "execution_count": 108,
     "metadata": {},
     "output_type": "execute_result"
    }
   ],
   "source": [
    "dinov2_classifier(image_path)"
   ],
   "metadata": {
    "collapsed": false,
    "ExecuteTime": {
     "end_time": "2024-05-17T14:08:37.548764Z",
     "start_time": "2024-05-17T14:08:37.277362Z"
    }
   },
   "id": "bc6ee11ad4b6152b"
  },
  {
   "cell_type": "code",
   "execution_count": 109,
   "outputs": [],
   "source": [
    "Columns_to_embed = ['Innerwear_imagePath 256x256', 'Bottomwear_imagePath 256x256', 'Accessoire_imagePath 256x256',\n",
    "       'Shoes_imagePath 256x256', 'Outerwear_imagePath 256x256']"
   ],
   "metadata": {
    "collapsed": false,
    "ExecuteTime": {
     "end_time": "2024-05-17T14:08:37.552600Z",
     "start_time": "2024-05-17T14:08:37.547822Z"
    }
   },
   "id": "8126ed955c2f5d82"
  },
  {
   "cell_type": "code",
   "execution_count": 110,
   "outputs": [
    {
     "data": {
      "text/plain": "Index(['Innerwear_imagePath', 'Bottomwear_imagePath', 'Accessoire_imagePath',\n       'Shoes_imagePath', 'Outerwear_imagePath', 'Innerwear_imagePath 256x256',\n       'Bottomwear_imagePath 256x256', 'Accessoire_imagePath 256x256',\n       'Shoes_imagePath 256x256', 'Outerwear_imagePath 256x256',\n       'valid_outfit'],\n      dtype='object')"
     },
     "execution_count": 110,
     "metadata": {},
     "output_type": "execute_result"
    }
   ],
   "source": [
    "df.columns"
   ],
   "metadata": {
    "collapsed": false,
    "ExecuteTime": {
     "end_time": "2024-05-17T14:08:37.569512Z",
     "start_time": "2024-05-17T14:08:37.553238Z"
    }
   },
   "id": "a2939e22380b8c2c"
  },
  {
   "cell_type": "code",
   "execution_count": null,
   "outputs": [],
   "source": [
    "for col in Columns_to_embed:\n",
    "    df[f'{col}_Embedded'] = df[col].apply(lambda x: dinov2_classifier(f'../{x}'))"
   ],
   "metadata": {
    "collapsed": false,
    "is_executing": true,
    "ExecuteTime": {
     "start_time": "2024-05-17T14:37:43.341909Z"
    }
   },
   "id": "68043c3b3bd94979"
  },
  {
   "cell_type": "code",
   "execution_count": 116,
   "outputs": [
    {
     "ename": "KeyError",
     "evalue": "'../None'",
     "output_type": "error",
     "traceback": [
      "\u001B[0;31m---------------------------------------------------------------------------\u001B[0m",
      "\u001B[0;31mKeyError\u001B[0m                                  Traceback (most recent call last)",
      "File \u001B[0;32m~/.local/share/virtualenvs/DSPRO2-outfit-recommendation-etrui0aa/lib/python3.10/site-packages/pandas/core/indexes/base.py:3805\u001B[0m, in \u001B[0;36mIndex.get_loc\u001B[0;34m(self, key)\u001B[0m\n\u001B[1;32m   3804\u001B[0m \u001B[38;5;28;01mtry\u001B[39;00m:\n\u001B[0;32m-> 3805\u001B[0m     \u001B[38;5;28;01mreturn\u001B[39;00m \u001B[38;5;28;43mself\u001B[39;49m\u001B[38;5;241;43m.\u001B[39;49m\u001B[43m_engine\u001B[49m\u001B[38;5;241;43m.\u001B[39;49m\u001B[43mget_loc\u001B[49m\u001B[43m(\u001B[49m\u001B[43mcasted_key\u001B[49m\u001B[43m)\u001B[49m\n\u001B[1;32m   3806\u001B[0m \u001B[38;5;28;01mexcept\u001B[39;00m \u001B[38;5;167;01mKeyError\u001B[39;00m \u001B[38;5;28;01mas\u001B[39;00m err:\n",
      "File \u001B[0;32mindex.pyx:167\u001B[0m, in \u001B[0;36mpandas._libs.index.IndexEngine.get_loc\u001B[0;34m()\u001B[0m\n",
      "File \u001B[0;32mindex.pyx:175\u001B[0m, in \u001B[0;36mpandas._libs.index.IndexEngine.get_loc\u001B[0;34m()\u001B[0m\n",
      "File \u001B[0;32mpandas/_libs/index_class_helper.pxi:70\u001B[0m, in \u001B[0;36mpandas._libs.index.Int64Engine._check_type\u001B[0;34m()\u001B[0m\n",
      "\u001B[0;31mKeyError\u001B[0m: '../None'",
      "\nThe above exception was the direct cause of the following exception:\n",
      "\u001B[0;31mKeyError\u001B[0m                                  Traceback (most recent call last)",
      "Cell \u001B[0;32mIn[116], line 1\u001B[0m\n\u001B[0;32m----> 1\u001B[0m result \u001B[38;5;241m=\u001B[39m \u001B[43mdf\u001B[49m\u001B[38;5;241;43m.\u001B[39;49m\u001B[43mloc\u001B[49m\u001B[43m[\u001B[49m\u001B[38;5;124;43m'\u001B[39;49m\u001B[38;5;124;43m../None\u001B[39;49m\u001B[38;5;124;43m'\u001B[39;49m\u001B[43m]\u001B[49m\n\u001B[1;32m      2\u001B[0m result\n",
      "File \u001B[0;32m~/.local/share/virtualenvs/DSPRO2-outfit-recommendation-etrui0aa/lib/python3.10/site-packages/pandas/core/indexing.py:1191\u001B[0m, in \u001B[0;36m_LocationIndexer.__getitem__\u001B[0;34m(self, key)\u001B[0m\n\u001B[1;32m   1189\u001B[0m maybe_callable \u001B[38;5;241m=\u001B[39m com\u001B[38;5;241m.\u001B[39mapply_if_callable(key, \u001B[38;5;28mself\u001B[39m\u001B[38;5;241m.\u001B[39mobj)\n\u001B[1;32m   1190\u001B[0m maybe_callable \u001B[38;5;241m=\u001B[39m \u001B[38;5;28mself\u001B[39m\u001B[38;5;241m.\u001B[39m_check_deprecated_callable_usage(key, maybe_callable)\n\u001B[0;32m-> 1191\u001B[0m \u001B[38;5;28;01mreturn\u001B[39;00m \u001B[38;5;28;43mself\u001B[39;49m\u001B[38;5;241;43m.\u001B[39;49m\u001B[43m_getitem_axis\u001B[49m\u001B[43m(\u001B[49m\u001B[43mmaybe_callable\u001B[49m\u001B[43m,\u001B[49m\u001B[43m \u001B[49m\u001B[43maxis\u001B[49m\u001B[38;5;241;43m=\u001B[39;49m\u001B[43maxis\u001B[49m\u001B[43m)\u001B[49m\n",
      "File \u001B[0;32m~/.local/share/virtualenvs/DSPRO2-outfit-recommendation-etrui0aa/lib/python3.10/site-packages/pandas/core/indexing.py:1431\u001B[0m, in \u001B[0;36m_LocIndexer._getitem_axis\u001B[0;34m(self, key, axis)\u001B[0m\n\u001B[1;32m   1429\u001B[0m \u001B[38;5;66;03m# fall thru to straight lookup\u001B[39;00m\n\u001B[1;32m   1430\u001B[0m \u001B[38;5;28mself\u001B[39m\u001B[38;5;241m.\u001B[39m_validate_key(key, axis)\n\u001B[0;32m-> 1431\u001B[0m \u001B[38;5;28;01mreturn\u001B[39;00m \u001B[38;5;28;43mself\u001B[39;49m\u001B[38;5;241;43m.\u001B[39;49m\u001B[43m_get_label\u001B[49m\u001B[43m(\u001B[49m\u001B[43mkey\u001B[49m\u001B[43m,\u001B[49m\u001B[43m \u001B[49m\u001B[43maxis\u001B[49m\u001B[38;5;241;43m=\u001B[39;49m\u001B[43maxis\u001B[49m\u001B[43m)\u001B[49m\n",
      "File \u001B[0;32m~/.local/share/virtualenvs/DSPRO2-outfit-recommendation-etrui0aa/lib/python3.10/site-packages/pandas/core/indexing.py:1381\u001B[0m, in \u001B[0;36m_LocIndexer._get_label\u001B[0;34m(self, label, axis)\u001B[0m\n\u001B[1;32m   1379\u001B[0m \u001B[38;5;28;01mdef\u001B[39;00m \u001B[38;5;21m_get_label\u001B[39m(\u001B[38;5;28mself\u001B[39m, label, axis: AxisInt):\n\u001B[1;32m   1380\u001B[0m     \u001B[38;5;66;03m# GH#5567 this will fail if the label is not present in the axis.\u001B[39;00m\n\u001B[0;32m-> 1381\u001B[0m     \u001B[38;5;28;01mreturn\u001B[39;00m \u001B[38;5;28;43mself\u001B[39;49m\u001B[38;5;241;43m.\u001B[39;49m\u001B[43mobj\u001B[49m\u001B[38;5;241;43m.\u001B[39;49m\u001B[43mxs\u001B[49m\u001B[43m(\u001B[49m\u001B[43mlabel\u001B[49m\u001B[43m,\u001B[49m\u001B[43m \u001B[49m\u001B[43maxis\u001B[49m\u001B[38;5;241;43m=\u001B[39;49m\u001B[43maxis\u001B[49m\u001B[43m)\u001B[49m\n",
      "File \u001B[0;32m~/.local/share/virtualenvs/DSPRO2-outfit-recommendation-etrui0aa/lib/python3.10/site-packages/pandas/core/generic.py:4301\u001B[0m, in \u001B[0;36mNDFrame.xs\u001B[0;34m(self, key, axis, level, drop_level)\u001B[0m\n\u001B[1;32m   4299\u001B[0m             new_index \u001B[38;5;241m=\u001B[39m index[loc]\n\u001B[1;32m   4300\u001B[0m \u001B[38;5;28;01melse\u001B[39;00m:\n\u001B[0;32m-> 4301\u001B[0m     loc \u001B[38;5;241m=\u001B[39m \u001B[43mindex\u001B[49m\u001B[38;5;241;43m.\u001B[39;49m\u001B[43mget_loc\u001B[49m\u001B[43m(\u001B[49m\u001B[43mkey\u001B[49m\u001B[43m)\u001B[49m\n\u001B[1;32m   4303\u001B[0m     \u001B[38;5;28;01mif\u001B[39;00m \u001B[38;5;28misinstance\u001B[39m(loc, np\u001B[38;5;241m.\u001B[39mndarray):\n\u001B[1;32m   4304\u001B[0m         \u001B[38;5;28;01mif\u001B[39;00m loc\u001B[38;5;241m.\u001B[39mdtype \u001B[38;5;241m==\u001B[39m np\u001B[38;5;241m.\u001B[39mbool_:\n",
      "File \u001B[0;32m~/.local/share/virtualenvs/DSPRO2-outfit-recommendation-etrui0aa/lib/python3.10/site-packages/pandas/core/indexes/base.py:3812\u001B[0m, in \u001B[0;36mIndex.get_loc\u001B[0;34m(self, key)\u001B[0m\n\u001B[1;32m   3807\u001B[0m     \u001B[38;5;28;01mif\u001B[39;00m \u001B[38;5;28misinstance\u001B[39m(casted_key, \u001B[38;5;28mslice\u001B[39m) \u001B[38;5;129;01mor\u001B[39;00m (\n\u001B[1;32m   3808\u001B[0m         \u001B[38;5;28misinstance\u001B[39m(casted_key, abc\u001B[38;5;241m.\u001B[39mIterable)\n\u001B[1;32m   3809\u001B[0m         \u001B[38;5;129;01mand\u001B[39;00m \u001B[38;5;28many\u001B[39m(\u001B[38;5;28misinstance\u001B[39m(x, \u001B[38;5;28mslice\u001B[39m) \u001B[38;5;28;01mfor\u001B[39;00m x \u001B[38;5;129;01min\u001B[39;00m casted_key)\n\u001B[1;32m   3810\u001B[0m     ):\n\u001B[1;32m   3811\u001B[0m         \u001B[38;5;28;01mraise\u001B[39;00m InvalidIndexError(key)\n\u001B[0;32m-> 3812\u001B[0m     \u001B[38;5;28;01mraise\u001B[39;00m \u001B[38;5;167;01mKeyError\u001B[39;00m(key) \u001B[38;5;28;01mfrom\u001B[39;00m \u001B[38;5;21;01merr\u001B[39;00m\n\u001B[1;32m   3813\u001B[0m \u001B[38;5;28;01mexcept\u001B[39;00m \u001B[38;5;167;01mTypeError\u001B[39;00m:\n\u001B[1;32m   3814\u001B[0m     \u001B[38;5;66;03m# If we have a listlike key, _check_indexing_error will raise\u001B[39;00m\n\u001B[1;32m   3815\u001B[0m     \u001B[38;5;66;03m#  InvalidIndexError. Otherwise we fall through and re-raise\u001B[39;00m\n\u001B[1;32m   3816\u001B[0m     \u001B[38;5;66;03m#  the TypeError.\u001B[39;00m\n\u001B[1;32m   3817\u001B[0m     \u001B[38;5;28mself\u001B[39m\u001B[38;5;241m.\u001B[39m_check_indexing_error(key)\n",
      "\u001B[0;31mKeyError\u001B[0m: '../None'"
     ]
    }
   ],
   "source": [
    "result = df.loc['../None']\n",
    "result"
   ],
   "metadata": {
    "collapsed": false,
    "ExecuteTime": {
     "end_time": "2024-05-17T14:32:10.828804Z",
     "start_time": "2024-05-17T14:32:10.734332Z"
    }
   },
   "id": "bf55cc36bfdc14ed"
  },
  {
   "cell_type": "code",
   "execution_count": null,
   "outputs": [],
   "source": [],
   "metadata": {
    "collapsed": false,
    "ExecuteTime": {
     "start_time": "2024-05-17T14:29:06.924452Z"
    }
   },
   "id": "48a41cb28020de15"
  }
 ],
 "metadata": {
  "kernelspec": {
   "display_name": "Python 3",
   "language": "python",
   "name": "python3"
  },
  "language_info": {
   "codemirror_mode": {
    "name": "ipython",
    "version": 2
   },
   "file_extension": ".py",
   "mimetype": "text/x-python",
   "name": "python",
   "nbconvert_exporter": "python",
   "pygments_lexer": "ipython2",
   "version": "2.7.6"
  }
 },
 "nbformat": 4,
 "nbformat_minor": 5
}
