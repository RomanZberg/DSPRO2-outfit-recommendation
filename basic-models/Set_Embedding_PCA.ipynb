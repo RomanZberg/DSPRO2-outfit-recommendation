{
 "cells": [
  {
   "cell_type": "code",
   "execution_count": 2,
   "outputs": [
    {
     "data": {
      "text/plain": "device(type='cpu')"
     },
     "execution_count": 2,
     "metadata": {},
     "output_type": "execute_result"
    }
   ],
   "source": [
    "device = torch.device(\"cuda\" if torch.cuda.is_available() else \"cpu\")\n",
    "device"
   ],
   "metadata": {
    "collapsed": false,
    "ExecuteTime": {
     "end_time": "2024-05-22T18:13:09.958815Z",
     "start_time": "2024-05-22T18:13:09.954886Z"
    }
   },
   "id": "89a5c4a1fadef423"
  },
  {
   "cell_type": "markdown",
   "source": [
    "# Seeds"
   ],
   "metadata": {
    "collapsed": false
   },
   "id": "6e0b75837d84ca0d"
  },
  {
   "cell_type": "code",
   "execution_count": 3,
   "outputs": [],
   "source": [
    "def fix_random_seeds(seed=12345):\n",
    "    torch.manual_seed(seed)\n",
    "    torch.cuda.manual_seed_all(seed)\n",
    "    np.random.seed(seed)\n",
    "\n",
    "\n",
    "fix_random_seeds()"
   ],
   "metadata": {
    "collapsed": false,
    "ExecuteTime": {
     "end_time": "2024-05-22T18:13:09.967267Z",
     "start_time": "2024-05-22T18:13:09.959133Z"
    }
   },
   "id": "a0ed2d276a8a5d88"
  },
  {
   "cell_type": "markdown",
   "source": [
    "# Configuration"
   ],
   "metadata": {
    "collapsed": false
   },
   "id": "8d5b4f029f3247a1"
  },
  {
   "cell_type": "code",
   "execution_count": 4,
   "outputs": [],
   "source": [
    "model_config = {\n",
    "    'init_lr': 0.01,\n",
    "    'batch_size': 32,\n",
    "    'epochs': 25,\n",
    "    'empty_image_representation': 'zero_matrix',  #  zero_matrix, torch_empty\n",
    "    'dino_architecture': 'small',\n",
    "    'dataset': 'polyvore_63eb50dc58d97415384467bef7b3c9e1bd6c96e06ad19571b6bc15e9dd5af262.parquet',\n",
    "    # 'output_logistics_thresholds': [0.8, 0.7, 0.6, 0.5, 0.4, 0.3],\n",
    "    'model_forward_version': 'fast',  # slow, fast\n",
    "    'hidden_layer_neuron_count': 64\n",
    "}\n",
    "\n",
    "dataset_folder_root_path = '../datasets'\n",
    "dataset_path = f'{dataset_folder_root_path}/imageBasedModel/polyvore/{model_config[\"dataset\"]}'"
   ],
   "metadata": {
    "collapsed": false,
    "ExecuteTime": {
     "end_time": "2024-05-22T18:13:09.969152Z",
     "start_time": "2024-05-22T18:13:09.964858Z"
    }
   },
   "id": "9473aa3234417a86"
  },
  {
   "cell_type": "markdown",
   "source": [
    "# Load the dataset and DINO model"
   ],
   "metadata": {
    "collapsed": false
   },
   "id": "8345033c6c320db1"
  },
  {
   "cell_type": "code",
   "execution_count": 5,
   "outputs": [],
   "source": [
    "Train_df = pd.read_parquet('../datasets/imageBasedModel/polyvore/polyvore_train_eb26e630100b98397deda54fa4a0bb95929479bc30e83cbfa72424b7c1e6e178.parquet')\n",
    "Test_df = pd.read_parquet('../datasets/imageBasedModel/polyvore/polyvore_test_eb26e630100b98397deda54fa4a0bb95929479bc30e83cbfa72424b7c1e6e178.parquet')"
   ],
   "metadata": {
    "collapsed": false,
    "ExecuteTime": {
     "end_time": "2024-05-22T18:13:10.031670Z",
     "start_time": "2024-05-22T18:13:09.969030Z"
    }
   },
   "id": "c482c6da333faaf3"
  },
  {
   "cell_type": "code",
   "execution_count": 6,
   "outputs": [],
   "source": [
    "df = pd.concat([Train_df, Test_df])"
   ],
   "metadata": {
    "collapsed": false,
    "ExecuteTime": {
     "end_time": "2024-05-22T18:13:10.039320Z",
     "start_time": "2024-05-22T18:13:10.032948Z"
    }
   },
   "id": "d6730e1946edbcf1"
  },
  {
   "cell_type": "code",
   "execution_count": 7,
   "outputs": [
    {
     "name": "stdout",
     "output_type": "stream",
     "text": [
      "<class 'pandas.core.frame.DataFrame'>\n",
      "Index: 6723 entries, 214761192 to 208373269\n",
      "Data columns (total 11 columns):\n",
      " #   Column                        Non-Null Count  Dtype \n",
      "---  ------                        --------------  ----- \n",
      " 0   Innerwear_imagePath           6723 non-null   object\n",
      " 1   Bottomwear_imagePath          6723 non-null   object\n",
      " 2   Accessoire_imagePath          5631 non-null   object\n",
      " 3   Shoes_imagePath               3984 non-null   object\n",
      " 4   Outerwear_imagePath           2179 non-null   object\n",
      " 5   Innerwear_imagePath 256x256   6723 non-null   object\n",
      " 6   Bottomwear_imagePath 256x256  6723 non-null   object\n",
      " 7   Accessoire_imagePath 256x256  5631 non-null   object\n",
      " 8   Shoes_imagePath 256x256       3984 non-null   object\n",
      " 9   Outerwear_imagePath 256x256   2179 non-null   object\n",
      " 10  valid_outfit                  6723 non-null   int64 \n",
      "dtypes: int64(1), object(10)\n",
      "memory usage: 630.3+ KB\n"
     ]
    }
   ],
   "source": [
    "df.info()"
   ],
   "metadata": {
    "collapsed": false,
    "ExecuteTime": {
     "end_time": "2024-05-22T18:13:10.046823Z",
     "start_time": "2024-05-22T18:13:10.039976Z"
    }
   },
   "id": "3531eb9e5f895c7e"
  },
  {
   "cell_type": "code",
   "execution_count": 8,
   "outputs": [
    {
     "name": "stderr",
     "output_type": "stream",
     "text": [
      "Using cache found in /Users/luca/.cache/torch/hub/facebookresearch_dinov2_main\n",
      "/Users/luca/.cache/torch/hub/facebookresearch_dinov2_main/dinov2/layers/swiglu_ffn.py:51: UserWarning: xFormers is not available (SwiGLU)\n",
      "  warnings.warn(\"xFormers is not available (SwiGLU)\")\n",
      "/Users/luca/.cache/torch/hub/facebookresearch_dinov2_main/dinov2/layers/attention.py:33: UserWarning: xFormers is not available (Attention)\n",
      "  warnings.warn(\"xFormers is not available (Attention)\")\n",
      "/Users/luca/.cache/torch/hub/facebookresearch_dinov2_main/dinov2/layers/block.py:40: UserWarning: xFormers is not available (Block)\n",
      "  warnings.warn(\"xFormers is not available (Block)\")\n"
     ]
    }
   ],
   "source": [
    "# DINOv2\n",
    "dinov2 = torch.hub.load('facebookresearch/dinov2', 'dinov2_vits14')\n",
    "dinov2 = dinov2.eval().to(device)\n",
    "#dinov2_vitb14 = torch.hub.load('facebookresearch/dinov2', 'dinov2_vitb14')\n",
    "#dinov2_vitl14 = torch.hub.load('facebookresearch/dinov2', 'dinov2_vitl14')\n",
    "#dinov2_vitg14 = torch.hub.load('facebookresearch/dinov2', 'dinov2_vitg14')"
   ],
   "metadata": {
    "collapsed": false,
    "ExecuteTime": {
     "end_time": "2024-05-22T18:13:11.268268Z",
     "start_time": "2024-05-22T18:13:10.046725Z"
    }
   },
   "id": "80a714f809bc8d1"
  },
  {
   "cell_type": "code",
   "execution_count": 9,
   "outputs": [],
   "source": [
    "dinov2 = dinov2.eval().to(device)"
   ],
   "metadata": {
    "collapsed": false,
    "ExecuteTime": {
     "end_time": "2024-05-22T18:13:11.276338Z",
     "start_time": "2024-05-22T18:13:11.271285Z"
    }
   },
   "id": "feabd945e4c1a3e9"
  },
  {
   "cell_type": "markdown",
   "source": [
    "# Load a test image"
   ],
   "metadata": {
    "collapsed": false
   },
   "id": "2108eb6b3e75841e"
  },
  {
   "cell_type": "code",
   "execution_count": 10,
   "outputs": [],
   "source": [
    "image_path = '../datasets/images_256x256/100119331/1.jpg'\n",
    "input_image = Image.open(image_path)\n",
    "\n",
    "transform = T.Compose([\n",
    "    T.Resize(256, interpolation=T.InterpolationMode.BICUBIC),\n",
    "    T.CenterCrop(224),\n",
    "    T.ToTensor(),\n",
    "    T.Normalize(mean=(0.485, 0.456, 0.406), std=(0.229, 0.224, 0.225)),\n",
    "])\n",
    "\n",
    "image = transform(input_image).to(device)"
   ],
   "metadata": {
    "collapsed": false,
    "ExecuteTime": {
     "end_time": "2024-05-22T18:13:11.285231Z",
     "start_time": "2024-05-22T18:13:11.276586Z"
    }
   },
   "id": "f6de2240e07e4232"
  },
  {
   "cell_type": "code",
   "execution_count": 11,
   "outputs": [
    {
     "name": "stdout",
     "output_type": "stream",
     "text": [
      "tensor([[ 3.4772,  1.7773,  1.4635,  2.2478, -3.1532, -1.9697,  0.0358, -1.5149,\n",
      "          3.5743, -2.1269,  1.0779, -0.3922, -1.1458, -1.3456,  5.0471,  3.7748,\n",
      "          2.0318, -2.5745,  0.3614,  0.1399,  0.0674,  0.7749, -1.2847,  2.1297,\n",
      "          1.2446, -2.6839,  1.5353,  2.9477,  0.8563,  2.3525, -2.8953,  0.0990,\n",
      "         -0.4088, -2.4031, -0.5959,  3.5995,  2.6785, -2.3534, -1.0936, -2.2574,\n",
      "          1.4675, -1.6633,  3.9569,  1.5211, -1.5145, -0.2431, -1.5367, -1.5053,\n",
      "         -2.2562, -1.8115,  4.4599,  2.6838, -3.3050, -1.4802,  2.6929, -3.9444,\n",
      "          2.6213, -1.5817, -4.5009, -1.3996,  0.9181,  2.2265, -1.0144, -2.1989,\n",
      "         -0.7569,  5.8527,  3.9435, -4.7644,  0.4165,  1.5716,  0.8196,  1.1729,\n",
      "          0.3606, -1.8431, -4.0229,  0.3466, -2.0093,  3.5627, -1.9622, -0.2825,\n",
      "         -1.1377, -1.6338, -0.5705,  3.9196, -0.2342, -4.9130, -0.5169, -0.4783,\n",
      "         -1.2212,  2.1530,  1.5316,  3.2916,  1.2449, -0.1067,  0.0386,  1.4902,\n",
      "         -1.3760, -0.9201, -1.5105,  3.2183,  2.4665,  6.3881,  1.8291, -0.8002,\n",
      "          0.5860, -1.9429, -0.5425, -1.0888, -0.0105, -1.9901,  2.2769, -4.1838,\n",
      "         -2.4713,  1.7866, -2.3675,  1.9481,  2.0414,  0.0601,  0.4730,  1.0500,\n",
      "          4.5078, -0.7500, -0.4446, -1.3046,  5.0974,  3.9296,  2.6110, -1.4839,\n",
      "          2.2571,  0.9045,  1.8206,  2.3095, -2.4301, -0.0540, -1.1581,  2.0587,\n",
      "         -2.0555,  0.5386,  0.5694,  1.3614, -2.1226,  3.9528,  0.4374,  2.3089,\n",
      "         -2.3750,  1.5855,  2.4255,  2.0457,  1.3579,  1.2557,  1.8387, -0.5222,\n",
      "          3.8662, -4.0003, -0.5835, -2.2571,  3.9728,  3.0687, -4.0258,  1.4465,\n",
      "         -1.6191,  0.1949, -1.1468, -2.4434, -1.7952,  1.0482,  1.9835,  3.5052,\n",
      "          1.0246,  5.1498, -2.7391,  2.1358, -2.1071,  0.9557,  1.5700,  6.2746,\n",
      "          1.2182, -1.6520, -0.9545,  4.4472, -0.6086,  1.3726, -1.9330, -1.6944,\n",
      "         -1.4423,  3.7364, -0.6700, -1.6551,  0.3297,  4.4200, -1.5649, -0.6711,\n",
      "          4.8333,  1.5876,  2.4679, -1.2259,  7.0876,  0.7621, -3.8195, -1.1487,\n",
      "          5.2616,  0.9837,  3.0000, -0.0505, -0.7425, -1.0977, -4.4702,  2.8512,\n",
      "         -4.6638, -2.4388, -3.3724,  0.4466,  3.3955,  4.9736, -0.9269, -0.9723,\n",
      "          4.1274,  3.1725,  0.2564, -3.7060,  0.5780, -0.5807, -4.1991,  1.4958,\n",
      "         -0.8122,  1.4311,  5.0475, -0.9859, -5.3403, -2.6631,  0.1391, -2.1883,\n",
      "          1.0482,  2.4577, -3.5340, -3.5847, -1.3971, -3.2531, -1.6477,  0.2551,\n",
      "         -0.9973,  0.4333, -2.0450, -1.5480,  3.5850, -0.3427,  0.6748,  0.3263,\n",
      "         -4.3399,  0.1926,  2.1169, -1.3120, -0.7789, -1.3989, -1.2242, -6.7389,\n",
      "         -0.7684,  1.9949,  0.7043,  2.5384,  2.1758, -1.4163,  0.4802,  1.5420,\n",
      "          1.9490, -2.2399,  1.0200,  3.5440, -0.8996, -1.1042, -1.0939,  1.4478,\n",
      "         -3.8070,  1.0581, -3.8757, -1.4556,  2.4169,  2.5494, -0.0769, -0.9109,\n",
      "         -3.2016, -0.1921,  0.7224,  1.0633,  2.5761,  0.9968, -0.9733, -0.5453,\n",
      "          1.6808,  1.3644, -4.4529,  1.2134, -1.7076, -0.4670, -2.5350,  8.5288,\n",
      "         -0.6760, -2.8173, -1.2159,  2.1533,  2.0446,  1.2065, -3.3962, -3.8433,\n",
      "          1.4712,  6.3817,  2.2206, -0.3779,  0.2107, -2.4753, -8.6209, -0.1559,\n",
      "          2.3756,  0.5719, -2.4378,  1.4231,  2.0884,  0.9091, -0.9093, -4.7919,\n",
      "          0.2614,  1.0572, -1.5826,  2.0341,  1.9011, -0.3014,  0.8622, -0.6644,\n",
      "          0.5570, -1.7988, -6.1176, -2.8449,  0.4038, -0.4276,  1.3741, -1.9264,\n",
      "          1.7068,  1.1197, -0.6945, -1.5310,  1.5448,  1.0070,  0.8007,  0.1211,\n",
      "          0.7075, -2.6274,  1.1358,  1.0519, -1.1010,  1.2391, -1.6756, -3.9530,\n",
      "         -3.4364, -3.4248,  1.2127, -0.7194,  0.0465, -1.6337,  2.6058, -1.7868,\n",
      "         -0.5327,  0.7467, -1.3033, -1.9139, -2.2999, -0.2227, -0.4814,  2.7386,\n",
      "         -0.9550,  1.9043,  0.0293, -2.3060, -0.4946, -3.3299, -5.4254, -2.3942,\n",
      "          1.0803, -1.9747,  0.5457, -1.2159, -1.4366, -1.6790, -2.4604,  2.8118]])\n",
      "torch.Size([1, 384])\n"
     ]
    }
   ],
   "source": [
    "with torch.no_grad():\n",
    "    features = dinov2(image.unsqueeze(0))\n",
    "\n",
    "print(features)\n",
    "print(features.shape)"
   ],
   "metadata": {
    "collapsed": false,
    "ExecuteTime": {
     "end_time": "2024-05-22T18:13:11.350935Z",
     "start_time": "2024-05-22T18:13:11.286379Z"
    }
   },
   "id": "6064c8efbcc40670"
  },
  {
   "cell_type": "code",
   "execution_count": 12,
   "outputs": [],
   "source": [
    "def dinov2_classifier(img_url):\n",
    "    \n",
    "    if img_url is None:\n",
    "        if model_config[\"empty_image_representation\"] == \"zero_matrix\":\n",
    "            return torch.zeros(3, 224, 224)\n",
    "        elif model_config[\"empty_image_representation\"] == \"torch_empty\":\n",
    "            return torch.empty(3, 224, 224)\n",
    "    \n",
    "    image = Image.open(img_url)\n",
    "\n",
    "    # Preprocess the image\n",
    "    transform = T.Compose([\n",
    "        T.Resize(256, interpolation=T.InterpolationMode.BICUBIC),\n",
    "        T.CenterCrop(224),\n",
    "        T.ToTensor(),\n",
    "        T.Normalize(mean=(0.485, 0.456, 0.406), std=(0.229, 0.224, 0.225)),\n",
    "    ])\n",
    "    image = transform(image)\n",
    "\n",
    "    # Move the image to the GPU if available\n",
    "    image = image.to(device)\n",
    "\n",
    "    # Extract the features\n",
    "    with torch.no_grad():\n",
    "        features = dinov2(image.unsqueeze(0)) #\n",
    "        #features = torch.squeeze(feature_extraction_model(image.unsqueeze(0)))\n",
    "\n",
    "    # Print the features\n",
    "    return features"
   ],
   "metadata": {
    "collapsed": false,
    "ExecuteTime": {
     "end_time": "2024-05-22T18:13:11.359631Z",
     "start_time": "2024-05-22T18:13:11.352824Z"
    }
   },
   "id": "b02c215bc91d74b3"
  },
  {
   "cell_type": "code",
   "execution_count": 13,
   "outputs": [
    {
     "data": {
      "text/plain": "tensor([[ 3.4772,  1.7773,  1.4635,  2.2478, -3.1532, -1.9697,  0.0358, -1.5149,\n          3.5743, -2.1269,  1.0779, -0.3922, -1.1458, -1.3456,  5.0471,  3.7748,\n          2.0318, -2.5745,  0.3614,  0.1399,  0.0674,  0.7749, -1.2847,  2.1297,\n          1.2446, -2.6839,  1.5353,  2.9477,  0.8563,  2.3525, -2.8953,  0.0990,\n         -0.4088, -2.4031, -0.5959,  3.5995,  2.6785, -2.3534, -1.0936, -2.2574,\n          1.4675, -1.6633,  3.9569,  1.5211, -1.5145, -0.2431, -1.5367, -1.5053,\n         -2.2562, -1.8115,  4.4599,  2.6838, -3.3050, -1.4802,  2.6929, -3.9444,\n          2.6213, -1.5817, -4.5009, -1.3996,  0.9181,  2.2265, -1.0144, -2.1989,\n         -0.7569,  5.8527,  3.9435, -4.7644,  0.4165,  1.5716,  0.8196,  1.1729,\n          0.3606, -1.8431, -4.0229,  0.3466, -2.0093,  3.5627, -1.9622, -0.2825,\n         -1.1377, -1.6338, -0.5705,  3.9196, -0.2342, -4.9130, -0.5169, -0.4783,\n         -1.2212,  2.1530,  1.5316,  3.2916,  1.2449, -0.1067,  0.0386,  1.4902,\n         -1.3760, -0.9201, -1.5105,  3.2183,  2.4665,  6.3881,  1.8291, -0.8002,\n          0.5860, -1.9429, -0.5425, -1.0888, -0.0105, -1.9901,  2.2769, -4.1838,\n         -2.4713,  1.7866, -2.3675,  1.9481,  2.0414,  0.0601,  0.4730,  1.0500,\n          4.5078, -0.7500, -0.4446, -1.3046,  5.0974,  3.9296,  2.6110, -1.4839,\n          2.2571,  0.9045,  1.8206,  2.3095, -2.4301, -0.0540, -1.1581,  2.0587,\n         -2.0555,  0.5386,  0.5694,  1.3614, -2.1226,  3.9528,  0.4374,  2.3089,\n         -2.3750,  1.5855,  2.4255,  2.0457,  1.3579,  1.2557,  1.8387, -0.5222,\n          3.8662, -4.0003, -0.5835, -2.2571,  3.9728,  3.0687, -4.0258,  1.4465,\n         -1.6191,  0.1949, -1.1468, -2.4434, -1.7952,  1.0482,  1.9835,  3.5052,\n          1.0246,  5.1498, -2.7391,  2.1358, -2.1071,  0.9557,  1.5700,  6.2746,\n          1.2182, -1.6520, -0.9545,  4.4472, -0.6086,  1.3726, -1.9330, -1.6944,\n         -1.4423,  3.7364, -0.6700, -1.6551,  0.3297,  4.4200, -1.5649, -0.6711,\n          4.8333,  1.5876,  2.4679, -1.2259,  7.0876,  0.7621, -3.8195, -1.1487,\n          5.2616,  0.9837,  3.0000, -0.0505, -0.7425, -1.0977, -4.4702,  2.8512,\n         -4.6638, -2.4388, -3.3724,  0.4466,  3.3955,  4.9736, -0.9269, -0.9723,\n          4.1274,  3.1725,  0.2564, -3.7060,  0.5780, -0.5807, -4.1991,  1.4958,\n         -0.8122,  1.4311,  5.0475, -0.9859, -5.3403, -2.6631,  0.1391, -2.1883,\n          1.0482,  2.4577, -3.5340, -3.5847, -1.3971, -3.2531, -1.6477,  0.2551,\n         -0.9973,  0.4333, -2.0450, -1.5480,  3.5850, -0.3427,  0.6748,  0.3263,\n         -4.3399,  0.1926,  2.1169, -1.3120, -0.7789, -1.3989, -1.2242, -6.7389,\n         -0.7684,  1.9949,  0.7043,  2.5384,  2.1758, -1.4163,  0.4802,  1.5420,\n          1.9490, -2.2399,  1.0200,  3.5440, -0.8996, -1.1042, -1.0939,  1.4478,\n         -3.8070,  1.0581, -3.8757, -1.4556,  2.4169,  2.5494, -0.0769, -0.9109,\n         -3.2016, -0.1921,  0.7224,  1.0633,  2.5761,  0.9968, -0.9733, -0.5453,\n          1.6808,  1.3644, -4.4529,  1.2134, -1.7076, -0.4670, -2.5350,  8.5288,\n         -0.6760, -2.8173, -1.2159,  2.1533,  2.0446,  1.2065, -3.3962, -3.8433,\n          1.4712,  6.3817,  2.2206, -0.3779,  0.2107, -2.4753, -8.6209, -0.1559,\n          2.3756,  0.5719, -2.4378,  1.4231,  2.0884,  0.9091, -0.9093, -4.7919,\n          0.2614,  1.0572, -1.5826,  2.0341,  1.9011, -0.3014,  0.8622, -0.6644,\n          0.5570, -1.7988, -6.1176, -2.8449,  0.4038, -0.4276,  1.3741, -1.9264,\n          1.7068,  1.1197, -0.6945, -1.5310,  1.5448,  1.0070,  0.8007,  0.1211,\n          0.7075, -2.6274,  1.1358,  1.0519, -1.1010,  1.2391, -1.6756, -3.9530,\n         -3.4364, -3.4248,  1.2127, -0.7194,  0.0465, -1.6337,  2.6058, -1.7868,\n         -0.5327,  0.7467, -1.3033, -1.9139, -2.2999, -0.2227, -0.4814,  2.7386,\n         -0.9550,  1.9043,  0.0293, -2.3060, -0.4946, -3.3299, -5.4254, -2.3942,\n          1.0803, -1.9747,  0.5457, -1.2159, -1.4366, -1.6790, -2.4604,  2.8118]])"
     },
     "execution_count": 13,
     "metadata": {},
     "output_type": "execute_result"
    }
   ],
   "source": [
    "dinov2_classifier(image_path)"
   ],
   "metadata": {
    "collapsed": false,
    "ExecuteTime": {
     "end_time": "2024-05-22T18:13:11.430962Z",
     "start_time": "2024-05-22T18:13:11.356412Z"
    }
   },
   "id": "bc6ee11ad4b6152b"
  },
  {
   "cell_type": "code",
   "execution_count": 14,
   "outputs": [],
   "source": [
    "Columns_to_embed = ['Innerwear_imagePath 256x256', 'Bottomwear_imagePath 256x256', 'Accessoire_imagePath 256x256',\n",
    "       'Shoes_imagePath 256x256', 'Outerwear_imagePath 256x256']"
   ],
   "metadata": {
    "collapsed": false,
    "ExecuteTime": {
     "end_time": "2024-05-22T18:13:11.433117Z",
     "start_time": "2024-05-22T18:13:11.431239Z"
    }
   },
   "id": "8126ed955c2f5d82"
  },
  {
   "cell_type": "code",
   "execution_count": 15,
   "outputs": [
    {
     "data": {
      "text/plain": "Index(['Innerwear_imagePath', 'Bottomwear_imagePath', 'Accessoire_imagePath',\n       'Shoes_imagePath', 'Outerwear_imagePath', 'Innerwear_imagePath 256x256',\n       'Bottomwear_imagePath 256x256', 'Accessoire_imagePath 256x256',\n       'Shoes_imagePath 256x256', 'Outerwear_imagePath 256x256',\n       'valid_outfit'],\n      dtype='object')"
     },
     "execution_count": 15,
     "metadata": {},
     "output_type": "execute_result"
    }
   ],
   "source": [
    "df.columns"
   ],
   "metadata": {
    "collapsed": false,
    "ExecuteTime": {
     "end_time": "2024-05-22T18:13:11.437142Z",
     "start_time": "2024-05-22T18:13:11.434400Z"
    }
   },
   "id": "a2939e22380b8c2c"
  },
  {
   "cell_type": "code",
   "execution_count": 16,
   "outputs": [
    {
     "name": "stdout",
     "output_type": "stream",
     "text": [
      "<class 'pandas.core.frame.DataFrame'>\n",
      "Index: 6723 entries, 214761192 to 208373269\n",
      "Data columns (total 11 columns):\n",
      " #   Column                        Non-Null Count  Dtype \n",
      "---  ------                        --------------  ----- \n",
      " 0   Innerwear_imagePath           6723 non-null   object\n",
      " 1   Bottomwear_imagePath          6723 non-null   object\n",
      " 2   Accessoire_imagePath          5631 non-null   object\n",
      " 3   Shoes_imagePath               3984 non-null   object\n",
      " 4   Outerwear_imagePath           2179 non-null   object\n",
      " 5   Innerwear_imagePath 256x256   6723 non-null   object\n",
      " 6   Bottomwear_imagePath 256x256  6723 non-null   object\n",
      " 7   Accessoire_imagePath 256x256  5631 non-null   object\n",
      " 8   Shoes_imagePath 256x256       3984 non-null   object\n",
      " 9   Outerwear_imagePath 256x256   2179 non-null   object\n",
      " 10  valid_outfit                  6723 non-null   int64 \n",
      "dtypes: int64(1), object(10)\n",
      "memory usage: 630.3+ KB\n"
     ]
    }
   ],
   "source": [
    "df.info()"
   ],
   "metadata": {
    "collapsed": false,
    "ExecuteTime": {
     "end_time": "2024-05-22T18:13:11.445370Z",
     "start_time": "2024-05-22T18:13:11.442052Z"
    }
   },
   "id": "bf55cc36bfdc14ed"
  },
  {
   "cell_type": "code",
   "execution_count": 17,
   "outputs": [],
   "source": [
    "for col in Columns_to_embed:\n",
    "    df_not_none = df[df[col].notna()]\n",
    "    df_not_none = df_not_none.head(10) #TODO: remove this line\n",
    "    df.loc[df_not_none.index, f'{col}_Embedded'] = df_not_none[col].apply(lambda x: dinov2_classifier(f'../{x}'))"
   ],
   "metadata": {
    "collapsed": false,
    "ExecuteTime": {
     "end_time": "2024-05-22T18:13:14.285705Z",
     "start_time": "2024-05-22T18:13:11.446646Z"
    }
   },
   "id": "68043c3b3bd94979"
  },
  {
   "cell_type": "code",
   "execution_count": 18,
   "outputs": [
    {
     "data": {
      "text/plain": "                  Innerwear_imagePath        Bottomwear_imagePath  \\\n216019820  raw/images/216019820/1.jpg  raw/images/216019820/2.jpg   \n188190830  raw/images/188190830/1.jpg  raw/images/188190830/2.jpg   \n215503296  raw/images/215503296/1.jpg  raw/images/215503296/2.jpg   \n191188526  raw/images/191188526/1.jpg  raw/images/191188526/3.jpg   \n210919469  raw/images/210919469/1.jpg  raw/images/210919469/3.jpg   \n183020457  raw/images/183020457/1.jpg  raw/images/183020457/3.jpg   \n148802243  raw/images/148802243/1.jpg  raw/images/148802243/2.jpg   \n173948288  raw/images/173948288/1.jpg  raw/images/173948288/2.jpg   \n216783127  raw/images/216783127/1.jpg  raw/images/216783127/2.jpg   \n125368926  raw/images/125368926/1.jpg  raw/images/125368926/2.jpg   \n\n                 Accessoire_imagePath             Shoes_imagePath  \\\n216019820  raw/images/216019820/4.jpg  raw/images/216019820/3.jpg   \n188190830  raw/images/188190830/4.jpg                        None   \n215503296  raw/images/215503296/4.jpg  raw/images/215503296/3.jpg   \n191188526  raw/images/191188526/4.jpg                        None   \n210919469                        None                        None   \n183020457  raw/images/183020457/5.jpg                        None   \n148802243  raw/images/148802243/5.jpg                        None   \n173948288  raw/images/173948288/3.jpg                        None   \n216783127  raw/images/216783127/4.jpg                        None   \n125368926  raw/images/125368926/4.jpg  raw/images/125368926/3.jpg   \n\n                  Outerwear_imagePath  \\\n216019820                        None   \n188190830                        None   \n215503296                        None   \n191188526  raw/images/191188526/2.jpg   \n210919469  raw/images/210919469/2.jpg   \n183020457  raw/images/183020457/2.jpg   \n148802243                        None   \n173948288                        None   \n216783127                        None   \n125368926                        None   \n\n                       Innerwear_imagePath 256x256  \\\n216019820  datasets/images_256x256/216019820/1.jpg   \n188190830  datasets/images_256x256/188190830/1.jpg   \n215503296  datasets/images_256x256/215503296/1.jpg   \n191188526  datasets/images_256x256/191188526/1.jpg   \n210919469  datasets/images_256x256/210919469/1.jpg   \n183020457  datasets/images_256x256/183020457/1.jpg   \n148802243  datasets/images_256x256/148802243/1.jpg   \n173948288  datasets/images_256x256/173948288/1.jpg   \n216783127  datasets/images_256x256/216783127/1.jpg   \n125368926  datasets/images_256x256/125368926/1.jpg   \n\n                      Bottomwear_imagePath 256x256  \\\n216019820  datasets/images_256x256/216019820/2.jpg   \n188190830  datasets/images_256x256/188190830/2.jpg   \n215503296  datasets/images_256x256/215503296/2.jpg   \n191188526  datasets/images_256x256/191188526/3.jpg   \n210919469  datasets/images_256x256/210919469/3.jpg   \n183020457  datasets/images_256x256/183020457/3.jpg   \n148802243  datasets/images_256x256/148802243/2.jpg   \n173948288  datasets/images_256x256/173948288/2.jpg   \n216783127  datasets/images_256x256/216783127/2.jpg   \n125368926  datasets/images_256x256/125368926/2.jpg   \n\n                      Accessoire_imagePath 256x256  \\\n216019820  datasets/images_256x256/216019820/4.jpg   \n188190830  datasets/images_256x256/188190830/4.jpg   \n215503296  datasets/images_256x256/215503296/4.jpg   \n191188526  datasets/images_256x256/191188526/4.jpg   \n210919469                                     None   \n183020457  datasets/images_256x256/183020457/5.jpg   \n148802243  datasets/images_256x256/148802243/5.jpg   \n173948288  datasets/images_256x256/173948288/3.jpg   \n216783127  datasets/images_256x256/216783127/4.jpg   \n125368926  datasets/images_256x256/125368926/4.jpg   \n\n                           Shoes_imagePath 256x256  \\\n216019820  datasets/images_256x256/216019820/3.jpg   \n188190830                                     None   \n215503296  datasets/images_256x256/215503296/3.jpg   \n191188526                                     None   \n210919469                                     None   \n183020457                                     None   \n148802243                                     None   \n173948288                                     None   \n216783127                                     None   \n125368926  datasets/images_256x256/125368926/3.jpg   \n\n                       Outerwear_imagePath 256x256  valid_outfit  \\\n216019820                                     None             1   \n188190830                                     None             0   \n215503296                                     None             1   \n191188526  datasets/images_256x256/191188526/2.jpg             1   \n210919469  datasets/images_256x256/210919469/2.jpg             1   \n183020457  datasets/images_256x256/183020457/2.jpg             0   \n148802243                                     None             0   \n173948288                                     None             0   \n216783127                                     None             1   \n125368926                                     None             0   \n\n          Innerwear_imagePath 256x256_Embedded  \\\n216019820                                  NaN   \n188190830                                  NaN   \n215503296                                  NaN   \n191188526                                  NaN   \n210919469                                  NaN   \n183020457                                  NaN   \n148802243                                  NaN   \n173948288                                  NaN   \n216783127                                  NaN   \n125368926                                  NaN   \n\n          Bottomwear_imagePath 256x256_Embedded  \\\n216019820                                   NaN   \n188190830                                   NaN   \n215503296                                   NaN   \n191188526                                   NaN   \n210919469                                   NaN   \n183020457                                   NaN   \n148802243                                   NaN   \n173948288                                   NaN   \n216783127                                   NaN   \n125368926                                   NaN   \n\n          Accessoire_imagePath 256x256_Embedded  \\\n216019820                                   NaN   \n188190830                                   NaN   \n215503296                                   NaN   \n191188526                                   NaN   \n210919469                                   NaN   \n183020457                                   NaN   \n148802243                                   NaN   \n173948288                                   NaN   \n216783127                                   NaN   \n125368926                                   NaN   \n\n          Shoes_imagePath 256x256_Embedded  \\\n216019820                              NaN   \n188190830                              NaN   \n215503296                              NaN   \n191188526                              NaN   \n210919469                              NaN   \n183020457                              NaN   \n148802243                              NaN   \n173948288                              NaN   \n216783127                              NaN   \n125368926                              NaN   \n\n          Outerwear_imagePath 256x256_Embedded  \n216019820                                  NaN  \n188190830                                  NaN  \n215503296                                  NaN  \n191188526                                  NaN  \n210919469                                  NaN  \n183020457                                  NaN  \n148802243                                  NaN  \n173948288                                  NaN  \n216783127                                  NaN  \n125368926                                  NaN  ",
      "text/html": "<div>\n<style scoped>\n    .dataframe tbody tr th:only-of-type {\n        vertical-align: middle;\n    }\n\n    .dataframe tbody tr th {\n        vertical-align: top;\n    }\n\n    .dataframe thead th {\n        text-align: right;\n    }\n</style>\n<table border=\"1\" class=\"dataframe\">\n  <thead>\n    <tr style=\"text-align: right;\">\n      <th></th>\n      <th>Innerwear_imagePath</th>\n      <th>Bottomwear_imagePath</th>\n      <th>Accessoire_imagePath</th>\n      <th>Shoes_imagePath</th>\n      <th>Outerwear_imagePath</th>\n      <th>Innerwear_imagePath 256x256</th>\n      <th>Bottomwear_imagePath 256x256</th>\n      <th>Accessoire_imagePath 256x256</th>\n      <th>Shoes_imagePath 256x256</th>\n      <th>Outerwear_imagePath 256x256</th>\n      <th>valid_outfit</th>\n      <th>Innerwear_imagePath 256x256_Embedded</th>\n      <th>Bottomwear_imagePath 256x256_Embedded</th>\n      <th>Accessoire_imagePath 256x256_Embedded</th>\n      <th>Shoes_imagePath 256x256_Embedded</th>\n      <th>Outerwear_imagePath 256x256_Embedded</th>\n    </tr>\n  </thead>\n  <tbody>\n    <tr>\n      <th>216019820</th>\n      <td>raw/images/216019820/1.jpg</td>\n      <td>raw/images/216019820/2.jpg</td>\n      <td>raw/images/216019820/4.jpg</td>\n      <td>raw/images/216019820/3.jpg</td>\n      <td>None</td>\n      <td>datasets/images_256x256/216019820/1.jpg</td>\n      <td>datasets/images_256x256/216019820/2.jpg</td>\n      <td>datasets/images_256x256/216019820/4.jpg</td>\n      <td>datasets/images_256x256/216019820/3.jpg</td>\n      <td>None</td>\n      <td>1</td>\n      <td>NaN</td>\n      <td>NaN</td>\n      <td>NaN</td>\n      <td>NaN</td>\n      <td>NaN</td>\n    </tr>\n    <tr>\n      <th>188190830</th>\n      <td>raw/images/188190830/1.jpg</td>\n      <td>raw/images/188190830/2.jpg</td>\n      <td>raw/images/188190830/4.jpg</td>\n      <td>None</td>\n      <td>None</td>\n      <td>datasets/images_256x256/188190830/1.jpg</td>\n      <td>datasets/images_256x256/188190830/2.jpg</td>\n      <td>datasets/images_256x256/188190830/4.jpg</td>\n      <td>None</td>\n      <td>None</td>\n      <td>0</td>\n      <td>NaN</td>\n      <td>NaN</td>\n      <td>NaN</td>\n      <td>NaN</td>\n      <td>NaN</td>\n    </tr>\n    <tr>\n      <th>215503296</th>\n      <td>raw/images/215503296/1.jpg</td>\n      <td>raw/images/215503296/2.jpg</td>\n      <td>raw/images/215503296/4.jpg</td>\n      <td>raw/images/215503296/3.jpg</td>\n      <td>None</td>\n      <td>datasets/images_256x256/215503296/1.jpg</td>\n      <td>datasets/images_256x256/215503296/2.jpg</td>\n      <td>datasets/images_256x256/215503296/4.jpg</td>\n      <td>datasets/images_256x256/215503296/3.jpg</td>\n      <td>None</td>\n      <td>1</td>\n      <td>NaN</td>\n      <td>NaN</td>\n      <td>NaN</td>\n      <td>NaN</td>\n      <td>NaN</td>\n    </tr>\n    <tr>\n      <th>191188526</th>\n      <td>raw/images/191188526/1.jpg</td>\n      <td>raw/images/191188526/3.jpg</td>\n      <td>raw/images/191188526/4.jpg</td>\n      <td>None</td>\n      <td>raw/images/191188526/2.jpg</td>\n      <td>datasets/images_256x256/191188526/1.jpg</td>\n      <td>datasets/images_256x256/191188526/3.jpg</td>\n      <td>datasets/images_256x256/191188526/4.jpg</td>\n      <td>None</td>\n      <td>datasets/images_256x256/191188526/2.jpg</td>\n      <td>1</td>\n      <td>NaN</td>\n      <td>NaN</td>\n      <td>NaN</td>\n      <td>NaN</td>\n      <td>NaN</td>\n    </tr>\n    <tr>\n      <th>210919469</th>\n      <td>raw/images/210919469/1.jpg</td>\n      <td>raw/images/210919469/3.jpg</td>\n      <td>None</td>\n      <td>None</td>\n      <td>raw/images/210919469/2.jpg</td>\n      <td>datasets/images_256x256/210919469/1.jpg</td>\n      <td>datasets/images_256x256/210919469/3.jpg</td>\n      <td>None</td>\n      <td>None</td>\n      <td>datasets/images_256x256/210919469/2.jpg</td>\n      <td>1</td>\n      <td>NaN</td>\n      <td>NaN</td>\n      <td>NaN</td>\n      <td>NaN</td>\n      <td>NaN</td>\n    </tr>\n    <tr>\n      <th>183020457</th>\n      <td>raw/images/183020457/1.jpg</td>\n      <td>raw/images/183020457/3.jpg</td>\n      <td>raw/images/183020457/5.jpg</td>\n      <td>None</td>\n      <td>raw/images/183020457/2.jpg</td>\n      <td>datasets/images_256x256/183020457/1.jpg</td>\n      <td>datasets/images_256x256/183020457/3.jpg</td>\n      <td>datasets/images_256x256/183020457/5.jpg</td>\n      <td>None</td>\n      <td>datasets/images_256x256/183020457/2.jpg</td>\n      <td>0</td>\n      <td>NaN</td>\n      <td>NaN</td>\n      <td>NaN</td>\n      <td>NaN</td>\n      <td>NaN</td>\n    </tr>\n    <tr>\n      <th>148802243</th>\n      <td>raw/images/148802243/1.jpg</td>\n      <td>raw/images/148802243/2.jpg</td>\n      <td>raw/images/148802243/5.jpg</td>\n      <td>None</td>\n      <td>None</td>\n      <td>datasets/images_256x256/148802243/1.jpg</td>\n      <td>datasets/images_256x256/148802243/2.jpg</td>\n      <td>datasets/images_256x256/148802243/5.jpg</td>\n      <td>None</td>\n      <td>None</td>\n      <td>0</td>\n      <td>NaN</td>\n      <td>NaN</td>\n      <td>NaN</td>\n      <td>NaN</td>\n      <td>NaN</td>\n    </tr>\n    <tr>\n      <th>173948288</th>\n      <td>raw/images/173948288/1.jpg</td>\n      <td>raw/images/173948288/2.jpg</td>\n      <td>raw/images/173948288/3.jpg</td>\n      <td>None</td>\n      <td>None</td>\n      <td>datasets/images_256x256/173948288/1.jpg</td>\n      <td>datasets/images_256x256/173948288/2.jpg</td>\n      <td>datasets/images_256x256/173948288/3.jpg</td>\n      <td>None</td>\n      <td>None</td>\n      <td>0</td>\n      <td>NaN</td>\n      <td>NaN</td>\n      <td>NaN</td>\n      <td>NaN</td>\n      <td>NaN</td>\n    </tr>\n    <tr>\n      <th>216783127</th>\n      <td>raw/images/216783127/1.jpg</td>\n      <td>raw/images/216783127/2.jpg</td>\n      <td>raw/images/216783127/4.jpg</td>\n      <td>None</td>\n      <td>None</td>\n      <td>datasets/images_256x256/216783127/1.jpg</td>\n      <td>datasets/images_256x256/216783127/2.jpg</td>\n      <td>datasets/images_256x256/216783127/4.jpg</td>\n      <td>None</td>\n      <td>None</td>\n      <td>1</td>\n      <td>NaN</td>\n      <td>NaN</td>\n      <td>NaN</td>\n      <td>NaN</td>\n      <td>NaN</td>\n    </tr>\n    <tr>\n      <th>125368926</th>\n      <td>raw/images/125368926/1.jpg</td>\n      <td>raw/images/125368926/2.jpg</td>\n      <td>raw/images/125368926/4.jpg</td>\n      <td>raw/images/125368926/3.jpg</td>\n      <td>None</td>\n      <td>datasets/images_256x256/125368926/1.jpg</td>\n      <td>datasets/images_256x256/125368926/2.jpg</td>\n      <td>datasets/images_256x256/125368926/4.jpg</td>\n      <td>datasets/images_256x256/125368926/3.jpg</td>\n      <td>None</td>\n      <td>0</td>\n      <td>NaN</td>\n      <td>NaN</td>\n      <td>NaN</td>\n      <td>NaN</td>\n      <td>NaN</td>\n    </tr>\n  </tbody>\n</table>\n</div>"
     },
     "execution_count": 18,
     "metadata": {},
     "output_type": "execute_result"
    }
   ],
   "source": [
    "df.sample(10)"
   ],
   "metadata": {
    "collapsed": false,
    "ExecuteTime": {
     "end_time": "2024-05-22T18:13:14.298651Z",
     "start_time": "2024-05-22T18:13:14.287563Z"
    }
   },
   "id": "48a41cb28020de15"
  },
  {
   "cell_type": "code",
   "execution_count": 19,
   "outputs": [
    {
     "data": {
      "text/plain": "Index(['Innerwear_imagePath', 'Bottomwear_imagePath', 'Accessoire_imagePath',\n       'Shoes_imagePath', 'Outerwear_imagePath', 'Innerwear_imagePath 256x256',\n       'Bottomwear_imagePath 256x256', 'Accessoire_imagePath 256x256',\n       'Shoes_imagePath 256x256', 'Outerwear_imagePath 256x256',\n       'valid_outfit', 'Innerwear_imagePath 256x256_Embedded',\n       'Bottomwear_imagePath 256x256_Embedded',\n       'Accessoire_imagePath 256x256_Embedded',\n       'Shoes_imagePath 256x256_Embedded',\n       'Outerwear_imagePath 256x256_Embedded'],\n      dtype='object')"
     },
     "execution_count": 19,
     "metadata": {},
     "output_type": "execute_result"
    }
   ],
   "source": [
    "df.columns"
   ],
   "metadata": {
    "collapsed": false,
    "ExecuteTime": {
     "end_time": "2024-05-22T18:13:14.302823Z",
     "start_time": "2024-05-22T18:13:14.298759Z"
    }
   },
   "id": "68dbb44bb6304ee3"
  },
  {
   "cell_type": "code",
   "execution_count": 20,
   "outputs": [],
   "source": [
    "dfEmbedded = df[['Innerwear_imagePath 256x256_Embedded', 'Bottomwear_imagePath 256x256_Embedded', 'Accessoire_imagePath 256x256_Embedded',\n",
    "       'Shoes_imagePath 256x256_Embedded', 'Outerwear_imagePath 256x256_Embedded', \"valid_outfit\"]]"
   ],
   "metadata": {
    "collapsed": false,
    "ExecuteTime": {
     "end_time": "2024-05-22T18:13:14.310968Z",
     "start_time": "2024-05-22T18:13:14.303791Z"
    }
   },
   "id": "73cb4eb8178885c6"
  },
  {
   "cell_type": "code",
   "execution_count": 21,
   "outputs": [
    {
     "name": "stdout",
     "output_type": "stream",
     "text": [
      "<class 'pandas.core.frame.DataFrame'>\n",
      "Index: 6723 entries, 214761192 to 208373269\n",
      "Data columns (total 6 columns):\n",
      " #   Column                                 Non-Null Count  Dtype \n",
      "---  ------                                 --------------  ----- \n",
      " 0   Innerwear_imagePath 256x256_Embedded   10 non-null     object\n",
      " 1   Bottomwear_imagePath 256x256_Embedded  10 non-null     object\n",
      " 2   Accessoire_imagePath 256x256_Embedded  10 non-null     object\n",
      " 3   Shoes_imagePath 256x256_Embedded       10 non-null     object\n",
      " 4   Outerwear_imagePath 256x256_Embedded   10 non-null     object\n",
      " 5   valid_outfit                           6723 non-null   int64 \n",
      "dtypes: int64(1), object(5)\n",
      "memory usage: 625.7+ KB\n"
     ]
    }
   ],
   "source": [
    "dfEmbedded.info()"
   ],
   "metadata": {
    "collapsed": false,
    "ExecuteTime": {
     "end_time": "2024-05-22T18:13:14.323918Z",
     "start_time": "2024-05-22T18:13:14.310399Z"
    }
   },
   "id": "7df98ba2f97f35d"
  },
  {
   "cell_type": "code",
   "execution_count": 22,
   "outputs": [
    {
     "data": {
      "text/plain": "tensor([[-2.6804e-01,  1.8234e+00, -2.2911e-01,  2.5499e-01, -5.1269e+00,\n         -2.6285e+00,  3.0815e-01, -3.1752e-01,  1.6644e+00,  1.6564e-01,\n         -3.9223e-01,  2.4706e+00, -1.8322e+00,  2.3808e+00,  2.6750e+00,\n          3.2331e+00,  9.8081e-01,  1.4576e+00,  5.4274e-01,  1.5695e+00,\n         -5.9082e+00,  3.4384e+00,  2.7994e+00,  2.0053e+00, -1.5767e-01,\n         -1.7529e+00, -4.9040e+00, -3.0555e-01, -8.4262e-02,  1.3014e+00,\n         -3.6643e+00,  2.1681e-01, -1.9534e+00,  3.4836e+00, -8.2483e-01,\n         -2.1847e+00,  2.6351e+00,  1.7316e+00,  3.3321e+00, -3.4122e+00,\n         -6.1502e-01, -2.5803e-01, -2.8648e-01,  1.8518e+00, -5.2887e-02,\n         -4.8509e-01, -2.1267e+00,  1.0014e+00,  1.9856e+00,  4.8047e+00,\n          4.3354e+00,  2.2833e+00, -4.5096e+00, -8.1596e-02,  1.8166e+00,\n          4.8219e+00,  3.3528e+00,  2.3925e+00,  2.6814e+00,  1.4379e+00,\n          7.1504e-01,  1.9095e+00, -1.4072e+00, -2.5064e+00, -3.7175e+00,\n         -4.4862e+00, -4.6084e-01, -1.2613e+00,  3.7415e-01, -2.4680e-01,\n          5.0598e+00, -1.1205e+00, -1.0763e+00, -5.8708e-01, -1.6394e+00,\n         -2.4721e+00,  4.5193e-01, -2.6306e+00, -3.0158e+00,  5.9239e-01,\n         -2.3684e+00,  1.6100e+00, -1.8648e+00,  2.8124e+00,  2.4861e+00,\n          6.2376e-01, -2.2504e+00, -3.9042e+00,  1.6008e+00,  2.6735e-01,\n          5.2940e+00, -6.5130e-01, -7.2876e-01,  1.6747e+00,  2.8010e-01,\n          6.0646e+00,  1.1807e+00, -1.3989e+00, -1.1831e+00,  3.7601e+00,\n         -2.3712e+00,  1.7505e-01,  1.4426e+00, -1.7149e+00, -3.7877e+00,\n         -1.8472e+00, -4.6570e-01, -6.4035e+00,  3.5069e+00,  1.1024e+00,\n         -8.5680e-01, -2.7769e+00, -2.5344e-01, -4.3506e-02, -7.3121e-02,\n          2.3260e+00,  3.4766e+00, -1.4415e+00,  8.1785e-01,  2.2492e+00,\n         -2.3405e-01,  6.3517e-01, -3.3803e+00, -8.7873e-01, -2.0433e+00,\n         -1.1432e+00,  1.1863e+00, -2.3705e+00, -5.6820e+00,  4.9372e+00,\n         -7.5083e-01,  9.6058e-02, -2.5904e+00, -1.9091e+00,  1.3705e+00,\n         -2.4168e+00, -3.2255e+00,  1.6513e+00, -1.9452e-01, -2.7657e+00,\n         -4.4162e-01,  1.5903e+00, -2.6477e+00, -2.4464e+00, -1.4261e+00,\n          3.4245e+00, -1.1972e+00,  1.1596e+00,  4.5160e+00, -4.9605e-02,\n          1.9479e+00, -1.2456e+00,  3.6014e-01, -4.0152e-02,  3.8811e+00,\n          6.8869e-01,  5.7754e+00,  1.1964e-01,  3.2709e+00,  3.6984e-02,\n          6.5418e+00, -4.0603e-01,  8.1669e-01, -3.3291e+00, -4.1568e+00,\n          8.9074e+00,  5.5848e+00,  1.0881e+00,  4.2484e-01,  1.3591e+00,\n         -1.7452e-01, -6.9497e-01, -2.6026e+00,  5.1909e+00,  2.9252e+00,\n          3.1114e-01, -1.8496e+00,  2.6758e-01, -1.6595e+00,  4.7159e+00,\n         -1.0075e+00,  2.8074e+00, -3.1310e+00,  7.6563e-01,  2.2616e-01,\n          6.4231e-01,  7.2084e-01, -3.2024e+00,  4.2489e-01, -2.8834e-01,\n         -3.8503e+00, -4.3394e+00,  1.6370e+00,  2.4462e+00, -8.0021e-01,\n          5.0080e-02,  5.3883e+00, -4.1485e+00,  1.4971e+00,  2.3239e-01,\n          9.5885e-01, -2.6832e+00,  2.3066e+00,  3.0153e+00,  2.8562e+00,\n         -2.0357e+00, -1.1221e+00, -1.7511e+00, -1.1204e+00,  5.4363e-01,\n         -5.1262e-01, -1.8297e+00,  2.6862e+00,  2.2657e+00, -8.3505e-01,\n         -1.6548e+00,  2.8820e+00, -1.8716e+00, -3.7797e+00, -3.2189e+00,\n          1.2290e-01,  2.0637e+00,  1.0507e+00,  1.0226e+00, -5.4448e-01,\n          4.6000e+00,  2.0046e+00, -6.8309e-01, -3.3926e+00, -1.5339e+00,\n         -6.3534e-01, -2.1572e+00,  3.0846e+00, -3.8081e+00, -3.7368e+00,\n         -1.6780e+00,  1.0871e+00, -4.6603e+00,  4.0935e+00,  1.1226e+00,\n          1.3452e+00, -1.1786e+00, -1.3880e+00, -1.2244e+00,  3.1395e-01,\n         -1.1738e+00, -2.0712e+00, -5.3316e-01,  2.4155e+00, -2.6927e+00,\n         -5.1575e-01,  9.5525e-01, -1.5408e+00, -3.7726e+00, -4.4587e+00,\n         -1.2630e+00, -1.1148e-01, -7.7935e-01,  1.9380e+00, -6.3136e-01,\n          6.6748e-01, -1.4138e+00,  3.4839e+00, -5.3290e-02,  1.5998e+00,\n          1.2585e+00, -6.9865e-01,  4.2313e+00,  4.6581e-01, -1.0268e-01,\n          4.1270e-01, -2.7448e+00, -5.2607e+00, -1.8590e+00, -1.8256e+00,\n          4.2494e+00, -4.2523e+00, -1.7643e+00, -4.2730e-01,  3.2085e+00,\n         -3.6557e+00,  4.8075e-01, -1.6150e+00,  2.4001e+00,  7.2571e+00,\n         -2.1154e+00, -8.6756e-01, -3.2453e-03,  2.3629e+00,  5.3341e-01,\n         -3.3390e+00, -1.8771e+00,  2.4428e-01, -1.8601e+00, -3.6460e+00,\n          5.2927e+00,  1.4523e+00,  8.7022e-01, -1.3993e+00,  5.6897e-02,\n          2.9194e+00,  1.4646e+00, -3.3714e+00, -9.3667e-01,  3.7389e+00,\n          2.4052e+00, -9.6441e-01, -9.8416e-01, -5.2877e+00, -9.1413e-02,\n         -2.7368e+00, -2.0978e+00, -1.8777e+00,  3.2420e+00,  1.3262e+00,\n         -6.1830e-01,  4.1716e+00,  4.0936e+00, -2.3369e+00,  2.3834e+00,\n          1.2119e+00,  1.6689e+00,  1.4654e+00,  4.8258e+00,  2.7806e+00,\n         -2.2413e+00,  2.1437e-01, -3.6815e-01,  2.7813e+00, -9.6530e-01,\n          9.1566e-01,  3.0066e+00,  2.6463e+00, -2.0124e+00, -3.6920e-01,\n          9.1723e-01, -2.5019e+00, -1.2614e+00, -1.6622e-02,  2.8656e+00,\n          1.5629e+00,  1.1122e+00, -2.7524e+00,  2.0605e+00, -3.4169e+00,\n         -1.1251e+00,  1.0134e+00, -3.4857e-01, -1.3683e+00, -3.4696e+00,\n         -3.6070e+00,  1.6072e+00, -2.5870e+00,  1.2069e+00,  4.3403e-01,\n         -4.0326e+00, -2.8513e-01, -7.1684e+00,  1.7317e+00, -2.5233e+00,\n         -2.8195e+00,  3.7182e+00,  3.1735e+00,  2.8611e+00, -5.0136e+00,\n          1.8673e+00, -6.7292e+00, -6.9154e-02,  1.5467e+00, -1.4885e+00,\n          1.1345e+00,  3.2022e-01, -2.7554e-02, -7.1106e-01,  9.4215e-01,\n         -7.7226e-01, -1.2342e+00, -9.1064e-01, -4.8981e-02, -4.5367e-01,\n          2.6923e+00, -6.7875e-01,  5.4201e-01, -2.5085e-01]])"
     },
     "execution_count": 22,
     "metadata": {},
     "output_type": "execute_result"
    }
   ],
   "source": [
    "dfEmbedded[\"Innerwear_imagePath 256x256_Embedded\"].iloc[0]"
   ],
   "metadata": {
    "collapsed": false,
    "ExecuteTime": {
     "end_time": "2024-05-22T18:13:14.363551Z",
     "start_time": "2024-05-22T18:13:14.313878Z"
    }
   },
   "id": "fd3e90359a71003b"
  },
  {
   "cell_type": "code",
   "execution_count": 73,
   "outputs": [
    {
     "data": {
      "text/plain": "                        Innerwear_imagePath 256x256_Embedded  \\\n214761192  [[tensor(-0.2680), tensor(1.8234), tensor(-0.2...   \n115479644  [[tensor(3.1535), tensor(2.5599), tensor(1.474...   \n161222052  [[tensor(1.1999), tensor(1.9961), tensor(2.264...   \n213330841  [[tensor(3.1407), tensor(0.9145), tensor(1.569...   \n193320238  [[tensor(2.1109), tensor(2.7435), tensor(-1.17...   \n\n                       Bottomwear_imagePath 256x256_Embedded  \\\n214761192  [[tensor(-4.1725), tensor(3.4410), tensor(-0.7...   \n115479644  [[tensor(-1.8509), tensor(2.1373), tensor(2.63...   \n161222052  [[tensor(1.4631), tensor(-0.3849), tensor(0.61...   \n213330841  [[tensor(-4.0414), tensor(0.1743), tensor(3.40...   \n193320238  [[tensor(-3.0450), tensor(0.7070), tensor(1.37...   \n\n                       Accessoire_imagePath 256x256_Embedded  \\\n214761192  [[tensor(4.5869), tensor(0.8271), tensor(-1.44...   \n115479644  [[tensor(0.4958), tensor(-0.1515), tensor(1.71...   \n161222052  [[tensor(4.6151), tensor(1.2956), tensor(-6.35...   \n213330841  [[tensor(7.7586), tensor(1.5065), tensor(-3.12...   \n193320238  [[tensor(1.6532), tensor(-0.6183), tensor(2.31...   \n\n                            Shoes_imagePath 256x256_Embedded  \\\n214761192  [[tensor(-1.1128), tensor(0.3236), tensor(-1.5...   \n115479644                                                NaN   \n161222052                                                NaN   \n213330841  [[tensor(4.1571), tensor(1.6499), tensor(-2.21...   \n193320238                                                NaN   \n\n                        Outerwear_imagePath 256x256_Embedded  valid_outfit  \n214761192  [[tensor(1.5601), tensor(1.9414), tensor(0.289...             1  \n115479644  [[tensor(-1.4221), tensor(2.7036), tensor(-1.1...             0  \n161222052                                                NaN             0  \n213330841                                                NaN             0  \n193320238  [[tensor(-1.3367), tensor(3.5270), tensor(2.12...             0  ",
      "text/html": "<div>\n<style scoped>\n    .dataframe tbody tr th:only-of-type {\n        vertical-align: middle;\n    }\n\n    .dataframe tbody tr th {\n        vertical-align: top;\n    }\n\n    .dataframe thead th {\n        text-align: right;\n    }\n</style>\n<table border=\"1\" class=\"dataframe\">\n  <thead>\n    <tr style=\"text-align: right;\">\n      <th></th>\n      <th>Innerwear_imagePath 256x256_Embedded</th>\n      <th>Bottomwear_imagePath 256x256_Embedded</th>\n      <th>Accessoire_imagePath 256x256_Embedded</th>\n      <th>Shoes_imagePath 256x256_Embedded</th>\n      <th>Outerwear_imagePath 256x256_Embedded</th>\n      <th>valid_outfit</th>\n    </tr>\n  </thead>\n  <tbody>\n    <tr>\n      <th>214761192</th>\n      <td>[[tensor(-0.2680), tensor(1.8234), tensor(-0.2...</td>\n      <td>[[tensor(-4.1725), tensor(3.4410), tensor(-0.7...</td>\n      <td>[[tensor(4.5869), tensor(0.8271), tensor(-1.44...</td>\n      <td>[[tensor(-1.1128), tensor(0.3236), tensor(-1.5...</td>\n      <td>[[tensor(1.5601), tensor(1.9414), tensor(0.289...</td>\n      <td>1</td>\n    </tr>\n    <tr>\n      <th>115479644</th>\n      <td>[[tensor(3.1535), tensor(2.5599), tensor(1.474...</td>\n      <td>[[tensor(-1.8509), tensor(2.1373), tensor(2.63...</td>\n      <td>[[tensor(0.4958), tensor(-0.1515), tensor(1.71...</td>\n      <td>NaN</td>\n      <td>[[tensor(-1.4221), tensor(2.7036), tensor(-1.1...</td>\n      <td>0</td>\n    </tr>\n    <tr>\n      <th>161222052</th>\n      <td>[[tensor(1.1999), tensor(1.9961), tensor(2.264...</td>\n      <td>[[tensor(1.4631), tensor(-0.3849), tensor(0.61...</td>\n      <td>[[tensor(4.6151), tensor(1.2956), tensor(-6.35...</td>\n      <td>NaN</td>\n      <td>NaN</td>\n      <td>0</td>\n    </tr>\n    <tr>\n      <th>213330841</th>\n      <td>[[tensor(3.1407), tensor(0.9145), tensor(1.569...</td>\n      <td>[[tensor(-4.0414), tensor(0.1743), tensor(3.40...</td>\n      <td>[[tensor(7.7586), tensor(1.5065), tensor(-3.12...</td>\n      <td>[[tensor(4.1571), tensor(1.6499), tensor(-2.21...</td>\n      <td>NaN</td>\n      <td>0</td>\n    </tr>\n    <tr>\n      <th>193320238</th>\n      <td>[[tensor(2.1109), tensor(2.7435), tensor(-1.17...</td>\n      <td>[[tensor(-3.0450), tensor(0.7070), tensor(1.37...</td>\n      <td>[[tensor(1.6532), tensor(-0.6183), tensor(2.31...</td>\n      <td>NaN</td>\n      <td>[[tensor(-1.3367), tensor(3.5270), tensor(2.12...</td>\n      <td>0</td>\n    </tr>\n  </tbody>\n</table>\n</div>"
     },
     "execution_count": 73,
     "metadata": {},
     "output_type": "execute_result"
    }
   ],
   "source": [
    "dfEmbedded.head()"
   ],
   "metadata": {
    "collapsed": false,
    "ExecuteTime": {
     "end_time": "2024-05-23T10:02:36.312960Z",
     "start_time": "2024-05-23T10:02:36.014650Z"
    }
   },
   "id": "86de19a2d2d7f8e"
  },
  {
   "cell_type": "markdown",
   "source": [
    "# Second Try with RENKU LAB"
   ],
   "metadata": {
    "collapsed": false
   },
   "id": "e882959b7424786"
  },
  {
   "cell_type": "code",
   "execution_count": 75,
   "outputs": [],
   "source": [
    "renkuDF = dfEmbedded.head()"
   ],
   "metadata": {
    "collapsed": false,
    "ExecuteTime": {
     "end_time": "2024-05-23T10:06:39.330883Z",
     "start_time": "2024-05-23T10:06:39.314620Z"
    }
   },
   "id": "518e95195d7225e3"
  },
  {
   "cell_type": "code",
   "execution_count": 76,
   "outputs": [
    {
     "data": {
      "text/plain": "                        Innerwear_imagePath 256x256_Embedded  \\\n214761192  [[tensor(-0.2680), tensor(1.8234), tensor(-0.2...   \n115479644  [[tensor(3.1535), tensor(2.5599), tensor(1.474...   \n161222052  [[tensor(1.1999), tensor(1.9961), tensor(2.264...   \n213330841  [[tensor(3.1407), tensor(0.9145), tensor(1.569...   \n193320238  [[tensor(2.1109), tensor(2.7435), tensor(-1.17...   \n\n                       Bottomwear_imagePath 256x256_Embedded  \\\n214761192  [[tensor(-4.1725), tensor(3.4410), tensor(-0.7...   \n115479644  [[tensor(-1.8509), tensor(2.1373), tensor(2.63...   \n161222052  [[tensor(1.4631), tensor(-0.3849), tensor(0.61...   \n213330841  [[tensor(-4.0414), tensor(0.1743), tensor(3.40...   \n193320238  [[tensor(-3.0450), tensor(0.7070), tensor(1.37...   \n\n                       Accessoire_imagePath 256x256_Embedded  \\\n214761192  [[tensor(4.5869), tensor(0.8271), tensor(-1.44...   \n115479644  [[tensor(0.4958), tensor(-0.1515), tensor(1.71...   \n161222052  [[tensor(4.6151), tensor(1.2956), tensor(-6.35...   \n213330841  [[tensor(7.7586), tensor(1.5065), tensor(-3.12...   \n193320238  [[tensor(1.6532), tensor(-0.6183), tensor(2.31...   \n\n                            Shoes_imagePath 256x256_Embedded  \\\n214761192  [[tensor(-1.1128), tensor(0.3236), tensor(-1.5...   \n115479644                                                NaN   \n161222052                                                NaN   \n213330841  [[tensor(4.1571), tensor(1.6499), tensor(-2.21...   \n193320238                                                NaN   \n\n                        Outerwear_imagePath 256x256_Embedded  valid_outfit  \n214761192  [[tensor(1.5601), tensor(1.9414), tensor(0.289...             1  \n115479644  [[tensor(-1.4221), tensor(2.7036), tensor(-1.1...             0  \n161222052                                                NaN             0  \n213330841                                                NaN             0  \n193320238  [[tensor(-1.3367), tensor(3.5270), tensor(2.12...             0  ",
      "text/html": "<div>\n<style scoped>\n    .dataframe tbody tr th:only-of-type {\n        vertical-align: middle;\n    }\n\n    .dataframe tbody tr th {\n        vertical-align: top;\n    }\n\n    .dataframe thead th {\n        text-align: right;\n    }\n</style>\n<table border=\"1\" class=\"dataframe\">\n  <thead>\n    <tr style=\"text-align: right;\">\n      <th></th>\n      <th>Innerwear_imagePath 256x256_Embedded</th>\n      <th>Bottomwear_imagePath 256x256_Embedded</th>\n      <th>Accessoire_imagePath 256x256_Embedded</th>\n      <th>Shoes_imagePath 256x256_Embedded</th>\n      <th>Outerwear_imagePath 256x256_Embedded</th>\n      <th>valid_outfit</th>\n    </tr>\n  </thead>\n  <tbody>\n    <tr>\n      <th>214761192</th>\n      <td>[[tensor(-0.2680), tensor(1.8234), tensor(-0.2...</td>\n      <td>[[tensor(-4.1725), tensor(3.4410), tensor(-0.7...</td>\n      <td>[[tensor(4.5869), tensor(0.8271), tensor(-1.44...</td>\n      <td>[[tensor(-1.1128), tensor(0.3236), tensor(-1.5...</td>\n      <td>[[tensor(1.5601), tensor(1.9414), tensor(0.289...</td>\n      <td>1</td>\n    </tr>\n    <tr>\n      <th>115479644</th>\n      <td>[[tensor(3.1535), tensor(2.5599), tensor(1.474...</td>\n      <td>[[tensor(-1.8509), tensor(2.1373), tensor(2.63...</td>\n      <td>[[tensor(0.4958), tensor(-0.1515), tensor(1.71...</td>\n      <td>NaN</td>\n      <td>[[tensor(-1.4221), tensor(2.7036), tensor(-1.1...</td>\n      <td>0</td>\n    </tr>\n    <tr>\n      <th>161222052</th>\n      <td>[[tensor(1.1999), tensor(1.9961), tensor(2.264...</td>\n      <td>[[tensor(1.4631), tensor(-0.3849), tensor(0.61...</td>\n      <td>[[tensor(4.6151), tensor(1.2956), tensor(-6.35...</td>\n      <td>NaN</td>\n      <td>NaN</td>\n      <td>0</td>\n    </tr>\n    <tr>\n      <th>213330841</th>\n      <td>[[tensor(3.1407), tensor(0.9145), tensor(1.569...</td>\n      <td>[[tensor(-4.0414), tensor(0.1743), tensor(3.40...</td>\n      <td>[[tensor(7.7586), tensor(1.5065), tensor(-3.12...</td>\n      <td>[[tensor(4.1571), tensor(1.6499), tensor(-2.21...</td>\n      <td>NaN</td>\n      <td>0</td>\n    </tr>\n    <tr>\n      <th>193320238</th>\n      <td>[[tensor(2.1109), tensor(2.7435), tensor(-1.17...</td>\n      <td>[[tensor(-3.0450), tensor(0.7070), tensor(1.37...</td>\n      <td>[[tensor(1.6532), tensor(-0.6183), tensor(2.31...</td>\n      <td>NaN</td>\n      <td>[[tensor(-1.3367), tensor(3.5270), tensor(2.12...</td>\n      <td>0</td>\n    </tr>\n  </tbody>\n</table>\n</div>"
     },
     "execution_count": 76,
     "metadata": {},
     "output_type": "execute_result"
    }
   ],
   "source": [
    "renkuDF"
   ],
   "metadata": {
    "collapsed": false,
    "ExecuteTime": {
     "end_time": "2024-05-23T10:06:47.679518Z",
     "start_time": "2024-05-23T10:06:47.384341Z"
    }
   },
   "id": "67a7c7fdfa5f1ad6"
  },
  {
   "cell_type": "code",
   "execution_count": 77,
   "outputs": [],
   "source": [
    "X_wine = renkuDF.drop(columns=[\"valid_outfit\"]).values\n",
    "y_wine = renkuDF[\"valid_outfit\"].values"
   ],
   "metadata": {
    "collapsed": false,
    "ExecuteTime": {
     "end_time": "2024-05-23T10:08:27.393181Z",
     "start_time": "2024-05-23T10:08:27.376549Z"
    }
   },
   "id": "c453396fabc8ba51"
  },
  {
   "cell_type": "code",
   "execution_count": 79,
   "outputs": [
    {
     "ename": "ValueError",
     "evalue": "only one element tensors can be converted to Python scalars",
     "output_type": "error",
     "traceback": [
      "\u001B[0;31m---------------------------------------------------------------------------\u001B[0m",
      "\u001B[0;31mValueError\u001B[0m                                Traceback (most recent call last)",
      "Cell \u001B[0;32mIn[79], line 1\u001B[0m\n\u001B[0;32m----> 1\u001B[0m pca \u001B[38;5;241m=\u001B[39m \u001B[43mPCA\u001B[49m\u001B[43m(\u001B[49m\u001B[43m)\u001B[49m\u001B[38;5;241;43m.\u001B[39;49m\u001B[43mfit\u001B[49m\u001B[43m(\u001B[49m\u001B[43mX_wine\u001B[49m\u001B[43m)\u001B[49m\n\u001B[1;32m      2\u001B[0m v_ratio \u001B[38;5;241m=\u001B[39m pca\u001B[38;5;241m.\u001B[39mexplained_variance_ratio_\n\u001B[1;32m      4\u001B[0m data \u001B[38;5;241m=\u001B[39m pd\u001B[38;5;241m.\u001B[39mDataFrame({\u001B[38;5;124m'\u001B[39m\u001B[38;5;124m# of Features\u001B[39m\u001B[38;5;124m'\u001B[39m:\u001B[38;5;28mrange\u001B[39m(\u001B[38;5;241m1\u001B[39m, \u001B[38;5;28mlen\u001B[39m(v_ratio)\u001B[38;5;241m+\u001B[39m\u001B[38;5;241m1\u001B[39m), \u001B[38;5;124m'\u001B[39m\u001B[38;5;124m%\u001B[39m\u001B[38;5;124m Variance explained\u001B[39m\u001B[38;5;124m'\u001B[39m:np\u001B[38;5;241m.\u001B[39mcumsum(v_ratio\u001B[38;5;241m*\u001B[39m\u001B[38;5;241m100\u001B[39m)})\n",
      "File \u001B[0;32m~/.local/share/virtualenvs/DSPRO2-outfit-recommendation-etrui0aa/lib/python3.10/site-packages/sklearn/base.py:1474\u001B[0m, in \u001B[0;36m_fit_context.<locals>.decorator.<locals>.wrapper\u001B[0;34m(estimator, *args, **kwargs)\u001B[0m\n\u001B[1;32m   1467\u001B[0m     estimator\u001B[38;5;241m.\u001B[39m_validate_params()\n\u001B[1;32m   1469\u001B[0m \u001B[38;5;28;01mwith\u001B[39;00m config_context(\n\u001B[1;32m   1470\u001B[0m     skip_parameter_validation\u001B[38;5;241m=\u001B[39m(\n\u001B[1;32m   1471\u001B[0m         prefer_skip_nested_validation \u001B[38;5;129;01mor\u001B[39;00m global_skip_validation\n\u001B[1;32m   1472\u001B[0m     )\n\u001B[1;32m   1473\u001B[0m ):\n\u001B[0;32m-> 1474\u001B[0m     \u001B[38;5;28;01mreturn\u001B[39;00m \u001B[43mfit_method\u001B[49m\u001B[43m(\u001B[49m\u001B[43mestimator\u001B[49m\u001B[43m,\u001B[49m\u001B[43m \u001B[49m\u001B[38;5;241;43m*\u001B[39;49m\u001B[43margs\u001B[49m\u001B[43m,\u001B[49m\u001B[43m \u001B[49m\u001B[38;5;241;43m*\u001B[39;49m\u001B[38;5;241;43m*\u001B[39;49m\u001B[43mkwargs\u001B[49m\u001B[43m)\u001B[49m\n",
      "File \u001B[0;32m~/.local/share/virtualenvs/DSPRO2-outfit-recommendation-etrui0aa/lib/python3.10/site-packages/sklearn/decomposition/_pca.py:428\u001B[0m, in \u001B[0;36mPCA.fit\u001B[0;34m(self, X, y)\u001B[0m\n\u001B[1;32m    410\u001B[0m \u001B[38;5;129m@_fit_context\u001B[39m(prefer_skip_nested_validation\u001B[38;5;241m=\u001B[39m\u001B[38;5;28;01mTrue\u001B[39;00m)\n\u001B[1;32m    411\u001B[0m \u001B[38;5;28;01mdef\u001B[39;00m \u001B[38;5;21mfit\u001B[39m(\u001B[38;5;28mself\u001B[39m, X, y\u001B[38;5;241m=\u001B[39m\u001B[38;5;28;01mNone\u001B[39;00m):\n\u001B[1;32m    412\u001B[0m \u001B[38;5;250m    \u001B[39m\u001B[38;5;124;03m\"\"\"Fit the model with X.\u001B[39;00m\n\u001B[1;32m    413\u001B[0m \n\u001B[1;32m    414\u001B[0m \u001B[38;5;124;03m    Parameters\u001B[39;00m\n\u001B[0;32m   (...)\u001B[0m\n\u001B[1;32m    426\u001B[0m \u001B[38;5;124;03m        Returns the instance itself.\u001B[39;00m\n\u001B[1;32m    427\u001B[0m \u001B[38;5;124;03m    \"\"\"\u001B[39;00m\n\u001B[0;32m--> 428\u001B[0m     \u001B[38;5;28;43mself\u001B[39;49m\u001B[38;5;241;43m.\u001B[39;49m\u001B[43m_fit\u001B[49m\u001B[43m(\u001B[49m\u001B[43mX\u001B[49m\u001B[43m)\u001B[49m\n\u001B[1;32m    429\u001B[0m     \u001B[38;5;28;01mreturn\u001B[39;00m \u001B[38;5;28mself\u001B[39m\n",
      "File \u001B[0;32m~/.local/share/virtualenvs/DSPRO2-outfit-recommendation-etrui0aa/lib/python3.10/site-packages/sklearn/decomposition/_pca.py:483\u001B[0m, in \u001B[0;36mPCA._fit\u001B[0;34m(self, X)\u001B[0m\n\u001B[1;32m    478\u001B[0m \u001B[38;5;28;01mif\u001B[39;00m \u001B[38;5;28mself\u001B[39m\u001B[38;5;241m.\u001B[39msvd_solver \u001B[38;5;241m==\u001B[39m \u001B[38;5;124m\"\u001B[39m\u001B[38;5;124marpack\u001B[39m\u001B[38;5;124m\"\u001B[39m \u001B[38;5;129;01mand\u001B[39;00m is_array_api_compliant:\n\u001B[1;32m    479\u001B[0m     \u001B[38;5;28;01mraise\u001B[39;00m \u001B[38;5;167;01mValueError\u001B[39;00m(\n\u001B[1;32m    480\u001B[0m         \u001B[38;5;124m\"\u001B[39m\u001B[38;5;124mPCA with svd_solver=\u001B[39m\u001B[38;5;124m'\u001B[39m\u001B[38;5;124marpack\u001B[39m\u001B[38;5;124m'\u001B[39m\u001B[38;5;124m is not supported for Array API inputs.\u001B[39m\u001B[38;5;124m\"\u001B[39m\n\u001B[1;32m    481\u001B[0m     )\n\u001B[0;32m--> 483\u001B[0m X \u001B[38;5;241m=\u001B[39m \u001B[38;5;28;43mself\u001B[39;49m\u001B[38;5;241;43m.\u001B[39;49m\u001B[43m_validate_data\u001B[49m\u001B[43m(\u001B[49m\n\u001B[1;32m    484\u001B[0m \u001B[43m    \u001B[49m\u001B[43mX\u001B[49m\u001B[43m,\u001B[49m\n\u001B[1;32m    485\u001B[0m \u001B[43m    \u001B[49m\u001B[43mdtype\u001B[49m\u001B[38;5;241;43m=\u001B[39;49m\u001B[43m[\u001B[49m\u001B[43mxp\u001B[49m\u001B[38;5;241;43m.\u001B[39;49m\u001B[43mfloat64\u001B[49m\u001B[43m,\u001B[49m\u001B[43m \u001B[49m\u001B[43mxp\u001B[49m\u001B[38;5;241;43m.\u001B[39;49m\u001B[43mfloat32\u001B[49m\u001B[43m]\u001B[49m\u001B[43m,\u001B[49m\n\u001B[1;32m    486\u001B[0m \u001B[43m    \u001B[49m\u001B[43maccept_sparse\u001B[49m\u001B[38;5;241;43m=\u001B[39;49m\u001B[43m(\u001B[49m\u001B[38;5;124;43m\"\u001B[39;49m\u001B[38;5;124;43mcsr\u001B[39;49m\u001B[38;5;124;43m\"\u001B[39;49m\u001B[43m,\u001B[49m\u001B[43m \u001B[49m\u001B[38;5;124;43m\"\u001B[39;49m\u001B[38;5;124;43mcsc\u001B[39;49m\u001B[38;5;124;43m\"\u001B[39;49m\u001B[43m)\u001B[49m\u001B[43m,\u001B[49m\n\u001B[1;32m    487\u001B[0m \u001B[43m    \u001B[49m\u001B[43mensure_2d\u001B[49m\u001B[38;5;241;43m=\u001B[39;49m\u001B[38;5;28;43;01mTrue\u001B[39;49;00m\u001B[43m,\u001B[49m\n\u001B[1;32m    488\u001B[0m \u001B[43m    \u001B[49m\u001B[43mcopy\u001B[49m\u001B[38;5;241;43m=\u001B[39;49m\u001B[38;5;28;43mself\u001B[39;49m\u001B[38;5;241;43m.\u001B[39;49m\u001B[43mcopy\u001B[49m\u001B[43m,\u001B[49m\n\u001B[1;32m    489\u001B[0m \u001B[43m\u001B[49m\u001B[43m)\u001B[49m\n\u001B[1;32m    491\u001B[0m \u001B[38;5;66;03m# Handle n_components==None\u001B[39;00m\n\u001B[1;32m    492\u001B[0m \u001B[38;5;28;01mif\u001B[39;00m \u001B[38;5;28mself\u001B[39m\u001B[38;5;241m.\u001B[39mn_components \u001B[38;5;129;01mis\u001B[39;00m \u001B[38;5;28;01mNone\u001B[39;00m:\n",
      "File \u001B[0;32m~/.local/share/virtualenvs/DSPRO2-outfit-recommendation-etrui0aa/lib/python3.10/site-packages/sklearn/base.py:633\u001B[0m, in \u001B[0;36mBaseEstimator._validate_data\u001B[0;34m(self, X, y, reset, validate_separately, cast_to_ndarray, **check_params)\u001B[0m\n\u001B[1;32m    631\u001B[0m         out \u001B[38;5;241m=\u001B[39m X, y\n\u001B[1;32m    632\u001B[0m \u001B[38;5;28;01melif\u001B[39;00m \u001B[38;5;129;01mnot\u001B[39;00m no_val_X \u001B[38;5;129;01mand\u001B[39;00m no_val_y:\n\u001B[0;32m--> 633\u001B[0m     out \u001B[38;5;241m=\u001B[39m \u001B[43mcheck_array\u001B[49m\u001B[43m(\u001B[49m\u001B[43mX\u001B[49m\u001B[43m,\u001B[49m\u001B[43m \u001B[49m\u001B[43minput_name\u001B[49m\u001B[38;5;241;43m=\u001B[39;49m\u001B[38;5;124;43m\"\u001B[39;49m\u001B[38;5;124;43mX\u001B[39;49m\u001B[38;5;124;43m\"\u001B[39;49m\u001B[43m,\u001B[49m\u001B[43m \u001B[49m\u001B[38;5;241;43m*\u001B[39;49m\u001B[38;5;241;43m*\u001B[39;49m\u001B[43mcheck_params\u001B[49m\u001B[43m)\u001B[49m\n\u001B[1;32m    634\u001B[0m \u001B[38;5;28;01melif\u001B[39;00m no_val_X \u001B[38;5;129;01mand\u001B[39;00m \u001B[38;5;129;01mnot\u001B[39;00m no_val_y:\n\u001B[1;32m    635\u001B[0m     out \u001B[38;5;241m=\u001B[39m _check_y(y, \u001B[38;5;241m*\u001B[39m\u001B[38;5;241m*\u001B[39mcheck_params)\n",
      "File \u001B[0;32m~/.local/share/virtualenvs/DSPRO2-outfit-recommendation-etrui0aa/lib/python3.10/site-packages/sklearn/utils/validation.py:997\u001B[0m, in \u001B[0;36mcheck_array\u001B[0;34m(array, accept_sparse, accept_large_sparse, dtype, order, copy, force_all_finite, ensure_2d, allow_nd, ensure_min_samples, ensure_min_features, estimator, input_name)\u001B[0m\n\u001B[1;32m    995\u001B[0m         array \u001B[38;5;241m=\u001B[39m xp\u001B[38;5;241m.\u001B[39mastype(array, dtype, copy\u001B[38;5;241m=\u001B[39m\u001B[38;5;28;01mFalse\u001B[39;00m)\n\u001B[1;32m    996\u001B[0m     \u001B[38;5;28;01melse\u001B[39;00m:\n\u001B[0;32m--> 997\u001B[0m         array \u001B[38;5;241m=\u001B[39m \u001B[43m_asarray_with_order\u001B[49m\u001B[43m(\u001B[49m\u001B[43marray\u001B[49m\u001B[43m,\u001B[49m\u001B[43m \u001B[49m\u001B[43morder\u001B[49m\u001B[38;5;241;43m=\u001B[39;49m\u001B[43morder\u001B[49m\u001B[43m,\u001B[49m\u001B[43m \u001B[49m\u001B[43mdtype\u001B[49m\u001B[38;5;241;43m=\u001B[39;49m\u001B[43mdtype\u001B[49m\u001B[43m,\u001B[49m\u001B[43m \u001B[49m\u001B[43mxp\u001B[49m\u001B[38;5;241;43m=\u001B[39;49m\u001B[43mxp\u001B[49m\u001B[43m)\u001B[49m\n\u001B[1;32m    998\u001B[0m \u001B[38;5;28;01mexcept\u001B[39;00m ComplexWarning \u001B[38;5;28;01mas\u001B[39;00m complex_warning:\n\u001B[1;32m    999\u001B[0m     \u001B[38;5;28;01mraise\u001B[39;00m \u001B[38;5;167;01mValueError\u001B[39;00m(\n\u001B[1;32m   1000\u001B[0m         \u001B[38;5;124m\"\u001B[39m\u001B[38;5;124mComplex data not supported\u001B[39m\u001B[38;5;130;01m\\n\u001B[39;00m\u001B[38;5;132;01m{}\u001B[39;00m\u001B[38;5;130;01m\\n\u001B[39;00m\u001B[38;5;124m\"\u001B[39m\u001B[38;5;241m.\u001B[39mformat(array)\n\u001B[1;32m   1001\u001B[0m     ) \u001B[38;5;28;01mfrom\u001B[39;00m \u001B[38;5;21;01mcomplex_warning\u001B[39;00m\n",
      "File \u001B[0;32m~/.local/share/virtualenvs/DSPRO2-outfit-recommendation-etrui0aa/lib/python3.10/site-packages/sklearn/utils/_array_api.py:521\u001B[0m, in \u001B[0;36m_asarray_with_order\u001B[0;34m(array, dtype, order, copy, xp)\u001B[0m\n\u001B[1;32m    519\u001B[0m     array \u001B[38;5;241m=\u001B[39m numpy\u001B[38;5;241m.\u001B[39marray(array, order\u001B[38;5;241m=\u001B[39morder, dtype\u001B[38;5;241m=\u001B[39mdtype)\n\u001B[1;32m    520\u001B[0m \u001B[38;5;28;01melse\u001B[39;00m:\n\u001B[0;32m--> 521\u001B[0m     array \u001B[38;5;241m=\u001B[39m \u001B[43mnumpy\u001B[49m\u001B[38;5;241;43m.\u001B[39;49m\u001B[43masarray\u001B[49m\u001B[43m(\u001B[49m\u001B[43marray\u001B[49m\u001B[43m,\u001B[49m\u001B[43m \u001B[49m\u001B[43morder\u001B[49m\u001B[38;5;241;43m=\u001B[39;49m\u001B[43morder\u001B[49m\u001B[43m,\u001B[49m\u001B[43m \u001B[49m\u001B[43mdtype\u001B[49m\u001B[38;5;241;43m=\u001B[39;49m\u001B[43mdtype\u001B[49m\u001B[43m)\u001B[49m\n\u001B[1;32m    523\u001B[0m \u001B[38;5;66;03m# At this point array is a NumPy ndarray. We convert it to an array\u001B[39;00m\n\u001B[1;32m    524\u001B[0m \u001B[38;5;66;03m# container that is consistent with the input's namespace.\u001B[39;00m\n\u001B[1;32m    525\u001B[0m \u001B[38;5;28;01mreturn\u001B[39;00m xp\u001B[38;5;241m.\u001B[39masarray(array)\n",
      "\u001B[0;31mValueError\u001B[0m: only one element tensors can be converted to Python scalars"
     ]
    }
   ],
   "source": [
    "pca = PCA().fit(X_wine)\n",
    "v_ratio = pca.explained_variance_ratio_\n",
    "\n",
    "data = pd.DataFrame({'# of Features':range(1, len(v_ratio)+1), '% Variance explained':np.cumsum(v_ratio*100)})\n",
    "data.plot(x=0, y=1, xticks=range(1, len(v_ratio)+1), grid=True, figsize=(10,8))"
   ],
   "metadata": {
    "collapsed": false,
    "ExecuteTime": {
     "end_time": "2024-05-23T10:08:57.327962Z",
     "start_time": "2024-05-23T10:08:57.268104Z"
    }
   },
   "id": "7a7e3b82e542ef5e"
  },
  {
   "cell_type": "code",
   "execution_count": 80,
   "outputs": [
    {
     "data": {
      "text/plain": "array([[tensor([[-2.6804e-01,  1.8234e+00, -2.2911e-01,  2.5499e-01, -5.1269e+00,\n                 -2.6285e+00,  3.0815e-01, -3.1752e-01,  1.6644e+00,  1.6564e-01,\n                 -3.9223e-01,  2.4706e+00, -1.8322e+00,  2.3808e+00,  2.6750e+00,\n                  3.2331e+00,  9.8081e-01,  1.4576e+00,  5.4274e-01,  1.5695e+00,\n                 -5.9082e+00,  3.4384e+00,  2.7994e+00,  2.0053e+00, -1.5767e-01,\n                 -1.7529e+00, -4.9040e+00, -3.0555e-01, -8.4262e-02,  1.3014e+00,\n                 -3.6643e+00,  2.1681e-01, -1.9534e+00,  3.4836e+00, -8.2483e-01,\n                 -2.1847e+00,  2.6351e+00,  1.7316e+00,  3.3321e+00, -3.4122e+00,\n                 -6.1502e-01, -2.5803e-01, -2.8648e-01,  1.8518e+00, -5.2887e-02,\n                 -4.8509e-01, -2.1267e+00,  1.0014e+00,  1.9856e+00,  4.8047e+00,\n                  4.3354e+00,  2.2833e+00, -4.5096e+00, -8.1596e-02,  1.8166e+00,\n                  4.8219e+00,  3.3528e+00,  2.3925e+00,  2.6814e+00,  1.4379e+00,\n                  7.1504e-01,  1.9095e+00, -1.4072e+00, -2.5064e+00, -3.7175e+00,\n                 -4.4862e+00, -4.6084e-01, -1.2613e+00,  3.7415e-01, -2.4680e-01,\n                  5.0598e+00, -1.1205e+00, -1.0763e+00, -5.8708e-01, -1.6394e+00,\n                 -2.4721e+00,  4.5193e-01, -2.6306e+00, -3.0158e+00,  5.9239e-01,\n                 -2.3684e+00,  1.6100e+00, -1.8648e+00,  2.8124e+00,  2.4861e+00,\n                  6.2376e-01, -2.2504e+00, -3.9042e+00,  1.6008e+00,  2.6735e-01,\n                  5.2940e+00, -6.5130e-01, -7.2876e-01,  1.6747e+00,  2.8010e-01,\n                  6.0646e+00,  1.1807e+00, -1.3989e+00, -1.1831e+00,  3.7601e+00,\n                 -2.3712e+00,  1.7505e-01,  1.4426e+00, -1.7149e+00, -3.7877e+00,\n                 -1.8472e+00, -4.6570e-01, -6.4035e+00,  3.5069e+00,  1.1024e+00,\n                 -8.5680e-01, -2.7769e+00, -2.5344e-01, -4.3506e-02, -7.3121e-02,\n                  2.3260e+00,  3.4766e+00, -1.4415e+00,  8.1785e-01,  2.2492e+00,\n                 -2.3405e-01,  6.3517e-01, -3.3803e+00, -8.7873e-01, -2.0433e+00,\n                 -1.1432e+00,  1.1863e+00, -2.3705e+00, -5.6820e+00,  4.9372e+00,\n                 -7.5083e-01,  9.6058e-02, -2.5904e+00, -1.9091e+00,  1.3705e+00,\n                 -2.4168e+00, -3.2255e+00,  1.6513e+00, -1.9452e-01, -2.7657e+00,\n                 -4.4162e-01,  1.5903e+00, -2.6477e+00, -2.4464e+00, -1.4261e+00,\n                  3.4245e+00, -1.1972e+00,  1.1596e+00,  4.5160e+00, -4.9605e-02,\n                  1.9479e+00, -1.2456e+00,  3.6014e-01, -4.0152e-02,  3.8811e+00,\n                  6.8869e-01,  5.7754e+00,  1.1964e-01,  3.2709e+00,  3.6984e-02,\n                  6.5418e+00, -4.0603e-01,  8.1669e-01, -3.3291e+00, -4.1568e+00,\n                  8.9074e+00,  5.5848e+00,  1.0881e+00,  4.2484e-01,  1.3591e+00,\n                 -1.7452e-01, -6.9497e-01, -2.6026e+00,  5.1909e+00,  2.9252e+00,\n                  3.1114e-01, -1.8496e+00,  2.6758e-01, -1.6595e+00,  4.7159e+00,\n                 -1.0075e+00,  2.8074e+00, -3.1310e+00,  7.6563e-01,  2.2616e-01,\n                  6.4231e-01,  7.2084e-01, -3.2024e+00,  4.2489e-01, -2.8834e-01,\n                 -3.8503e+00, -4.3394e+00,  1.6370e+00,  2.4462e+00, -8.0021e-01,\n                  5.0080e-02,  5.3883e+00, -4.1485e+00,  1.4971e+00,  2.3239e-01,\n                  9.5885e-01, -2.6832e+00,  2.3066e+00,  3.0153e+00,  2.8562e+00,\n                 -2.0357e+00, -1.1221e+00, -1.7511e+00, -1.1204e+00,  5.4363e-01,\n                 -5.1262e-01, -1.8297e+00,  2.6862e+00,  2.2657e+00, -8.3505e-01,\n                 -1.6548e+00,  2.8820e+00, -1.8716e+00, -3.7797e+00, -3.2189e+00,\n                  1.2290e-01,  2.0637e+00,  1.0507e+00,  1.0226e+00, -5.4448e-01,\n                  4.6000e+00,  2.0046e+00, -6.8309e-01, -3.3926e+00, -1.5339e+00,\n                 -6.3534e-01, -2.1572e+00,  3.0846e+00, -3.8081e+00, -3.7368e+00,\n                 -1.6780e+00,  1.0871e+00, -4.6603e+00,  4.0935e+00,  1.1226e+00,\n                  1.3452e+00, -1.1786e+00, -1.3880e+00, -1.2244e+00,  3.1395e-01,\n                 -1.1738e+00, -2.0712e+00, -5.3316e-01,  2.4155e+00, -2.6927e+00,\n                 -5.1575e-01,  9.5525e-01, -1.5408e+00, -3.7726e+00, -4.4587e+00,\n                 -1.2630e+00, -1.1148e-01, -7.7935e-01,  1.9380e+00, -6.3136e-01,\n                  6.6748e-01, -1.4138e+00,  3.4839e+00, -5.3290e-02,  1.5998e+00,\n                  1.2585e+00, -6.9865e-01,  4.2313e+00,  4.6581e-01, -1.0268e-01,\n                  4.1270e-01, -2.7448e+00, -5.2607e+00, -1.8590e+00, -1.8256e+00,\n                  4.2494e+00, -4.2523e+00, -1.7643e+00, -4.2730e-01,  3.2085e+00,\n                 -3.6557e+00,  4.8075e-01, -1.6150e+00,  2.4001e+00,  7.2571e+00,\n                 -2.1154e+00, -8.6756e-01, -3.2453e-03,  2.3629e+00,  5.3341e-01,\n                 -3.3390e+00, -1.8771e+00,  2.4428e-01, -1.8601e+00, -3.6460e+00,\n                  5.2927e+00,  1.4523e+00,  8.7022e-01, -1.3993e+00,  5.6897e-02,\n                  2.9194e+00,  1.4646e+00, -3.3714e+00, -9.3667e-01,  3.7389e+00,\n                  2.4052e+00, -9.6441e-01, -9.8416e-01, -5.2877e+00, -9.1413e-02,\n                 -2.7368e+00, -2.0978e+00, -1.8777e+00,  3.2420e+00,  1.3262e+00,\n                 -6.1830e-01,  4.1716e+00,  4.0936e+00, -2.3369e+00,  2.3834e+00,\n                  1.2119e+00,  1.6689e+00,  1.4654e+00,  4.8258e+00,  2.7806e+00,\n                 -2.2413e+00,  2.1437e-01, -3.6815e-01,  2.7813e+00, -9.6530e-01,\n                  9.1566e-01,  3.0066e+00,  2.6463e+00, -2.0124e+00, -3.6920e-01,\n                  9.1723e-01, -2.5019e+00, -1.2614e+00, -1.6622e-02,  2.8656e+00,\n                  1.5629e+00,  1.1122e+00, -2.7524e+00,  2.0605e+00, -3.4169e+00,\n                 -1.1251e+00,  1.0134e+00, -3.4857e-01, -1.3683e+00, -3.4696e+00,\n                 -3.6070e+00,  1.6072e+00, -2.5870e+00,  1.2069e+00,  4.3403e-01,\n                 -4.0326e+00, -2.8513e-01, -7.1684e+00,  1.7317e+00, -2.5233e+00,\n                 -2.8195e+00,  3.7182e+00,  3.1735e+00,  2.8611e+00, -5.0136e+00,\n                  1.8673e+00, -6.7292e+00, -6.9154e-02,  1.5467e+00, -1.4885e+00,\n                  1.1345e+00,  3.2022e-01, -2.7554e-02, -7.1106e-01,  9.4215e-01,\n                 -7.7226e-01, -1.2342e+00, -9.1064e-01, -4.8981e-02, -4.5367e-01,\n                  2.6923e+00, -6.7875e-01,  5.4201e-01, -2.5085e-01]])           ,\n        tensor([[-4.1725,  3.4410, -0.7894,  3.0257, -1.8767, -0.5031,  1.2168, -3.0503,\n                 -4.5014, -6.2951, -2.6201, -2.1167, -1.5940, -2.7558,  1.0280, -1.2053,\n                 -3.4122,  0.2565,  5.0573, -2.1478,  0.3638,  0.4022,  2.9162,  3.7924,\n                 -0.9976, -5.6917, -1.7248, -0.8736,  1.6462,  0.4166, -2.6931, -1.0169,\n                 -0.6216, -1.1079, -6.3441,  1.8570, -2.8174,  0.8155,  0.1235,  0.4593,\n                 -2.5745, -0.3949,  2.2821, -3.2580, -3.2284, -2.2211, -3.2503,  5.2559,\n                  2.0679,  0.5817, -1.5544,  4.4517, -1.5747, -0.6039,  1.2878,  0.5424,\n                  2.6717, -1.3196, -0.9659,  2.4012,  2.6913,  4.5566, -1.6653, -1.2335,\n                 -1.1991, -6.6880,  3.2806,  1.7032,  1.7990,  3.7869, -0.3429,  0.9664,\n                 -1.0532,  3.6365, -1.2226,  4.0637,  0.4442,  0.3225, -3.3435,  0.1279,\n                 -0.4996,  4.8844, -0.5141,  3.0000, -0.4572, -4.4285,  0.6470, -4.1105,\n                  0.0387, -2.0652,  2.1088, -0.7177,  2.0484, -3.1401,  0.9888,  4.1132,\n                 -1.8559,  1.1367, -1.5706, -1.7955,  2.3093,  1.6024,  2.8846, -4.1703,\n                 -3.4410, -1.2803, -1.4080,  1.0624,  2.6192,  1.1471, -1.4706,  4.0674,\n                  1.1772, -2.9185, -0.8776,  0.7846,  4.9372,  1.0307, -1.8182,  1.3309,\n                 -2.1904,  1.5953, -1.3502, -0.3696,  1.0713,  1.2573,  1.7688, -0.5340,\n                 -3.5978,  1.7719, -1.3433,  2.6334,  5.7567,  1.3334,  1.1629,  0.2463,\n                 -3.5065, -0.5608, -2.1589, -1.5074, -0.1601,  0.7076, -2.8609, -1.2209,\n                 -0.0370,  2.1786,  1.0834, -1.2329,  0.5903,  3.7995,  0.4135, -3.8157,\n                  0.5098,  1.2106,  1.0323,  0.0505,  0.5172,  0.0971,  5.8434, -1.0414,\n                  3.3048,  0.9352,  1.5325, -2.2156, -1.5177,  3.6217, -0.0634,  0.9906,\n                  2.1735, -2.5260,  4.3631,  2.3148, -1.8681, -1.1414,  2.4211, -3.3053,\n                 -2.9460,  1.4497,  0.0913,  3.7664,  2.6747,  2.2817, -0.2410,  3.6091,\n                 -3.5087,  0.9740,  0.9722, -2.0018,  0.8961,  1.0438,  1.5375, -2.8460,\n                 -1.0602, -0.8507, -0.7559, -0.3453,  2.4625,  0.3654,  1.8164, -1.7911,\n                 -1.7690, -0.3449, -1.5607, -0.5776,  0.0931,  0.6124, -1.5319, -0.2707,\n                  0.6818,  5.0653, -1.6766, -3.3847,  1.3268,  4.3460, -0.6249,  3.6494,\n                 -4.6955,  2.3499, -1.4851, -3.8359, -0.4397,  1.8363, -1.1885, -1.5211,\n                  2.1492,  1.2079,  5.7264, -3.0056,  1.2529,  0.0640,  2.7097,  3.8605,\n                  0.6381, -5.0970,  3.1492, -3.2577, -0.9594,  1.1377, -3.3971,  0.4977,\n                 -0.5923, -0.0962,  4.3076, -4.7708,  3.5900, -1.0233,  1.1488,  4.5404,\n                  2.2700, -4.3776, -2.6071,  2.6946, -0.4927, -0.4425, -1.6058,  0.6037,\n                  0.3956,  1.1597,  0.0389, -1.8195, -1.4402, -0.2180,  1.8949,  1.9559,\n                  3.5605,  3.3373,  1.7346,  0.3411,  2.6548,  2.3468,  2.4534, -3.5565,\n                 -1.3967, -1.8346,  1.6545,  1.1422, -0.4369, -0.1264, -0.2456,  3.5862,\n                 -3.8816,  1.3710, -2.0911,  1.4270,  3.4815,  1.2851,  1.7013, -4.9964,\n                  2.3803, -2.2237, -3.4772, -3.6070,  2.5465, -3.5704, -0.9446, -2.0418,\n                  3.9560, -1.3268,  0.8421, -1.4801, -0.9443,  5.1588, -4.8419,  3.9666,\n                  0.6046, -0.3207, -2.6589, -1.5502, -2.8361,  0.5371,  4.3141, -3.6971,\n                 -1.5069,  5.4639,  1.8070, -6.1259,  3.1619,  1.7719,  2.6621, -2.0186,\n                 -0.9511,  1.1831,  2.5144,  0.9812, -2.9616,  0.5550,  0.2536,  0.9838,\n                 -0.7790, -0.9255,  0.4346,  0.4237,  3.1264, -2.6825, -0.9764, -4.1547,\n                  2.1932, -0.5316,  0.6098,  2.4658,  0.2193, -2.9661, -2.8020,  0.1457,\n                 -0.2660,  2.6252, -1.2046,  3.1821,  0.1555,  0.4664,  4.0047,  1.9323,\n                 -5.3168, -2.1785,  1.6119, -5.1380, -3.4043,  1.9676,  3.9013, -2.0257,\n                 -2.1444,  5.0059,  0.3485,  0.3151, -0.8702,  0.0631, -1.2717, -5.2531,\n                  0.3907,  1.0696,  3.5508, -3.0888, -0.0628,  0.2724, -0.0395,  1.8336,\n                  0.5864,  1.8255, -2.7544,  0.0956,  0.1544,  0.0406, -1.0161, -0.7989]]),\n        tensor([[ 4.5869e+00,  8.2713e-01, -1.4428e+00,  2.8210e+00, -2.3022e+00,\n                 -2.3275e+00,  5.0789e-01, -3.0854e+00, -3.1464e+00,  2.6779e+00,\n                 -9.2458e-01,  1.6383e+00,  6.0703e+00,  2.4247e+00, -1.3782e+00,\n                 -3.1680e-01,  4.1630e+00, -1.1118e+00,  2.4366e+00,  2.4775e-01,\n                  7.8157e-01,  8.9048e-01,  4.1594e+00, -8.8746e-01, -3.7779e+00,\n                  1.1553e+00, -2.5593e+00, -7.6043e-01, -8.3826e-01, -4.9975e-01,\n                 -1.3461e-01,  8.5137e-01,  1.1950e+00,  8.4673e-01,  7.0314e-01,\n                  3.6770e-02,  8.4777e-01, -1.9780e-01, -3.3125e+00,  2.9268e+00,\n                 -2.9058e+00, -1.7169e+00,  2.4788e-01,  5.3868e-02,  2.9616e+00,\n                 -1.3972e+00, -5.4878e+00,  1.4365e+00,  2.2692e+00, -2.9801e+00,\n                 -4.3018e-01, -6.5310e-01, -6.2304e-01, -1.2969e+00, -1.7111e+00,\n                 -3.3501e+00, -5.2651e+00, -2.4274e+00,  2.7898e+00, -1.1246e+00,\n                 -1.2717e-02,  1.4131e+00, -3.2540e+00,  2.4085e+00, -2.4519e+00,\n                 -4.4623e+00,  5.5919e-02, -1.1418e+00,  2.1193e+00, -1.5074e-01,\n                  2.7540e+00, -1.3367e+00,  4.4940e+00,  1.9358e+00, -3.0388e-01,\n                 -3.7849e+00,  9.2416e-01, -1.3963e+00, -5.8891e+00,  9.4129e-01,\n                 -1.6808e+00, -2.8502e-01, -2.1452e-01, -6.6792e-01, -1.1396e-01,\n                  3.6301e+00,  5.3537e+00,  1.4179e+00, -6.7973e-01, -4.1571e+00,\n                 -3.4176e+00,  2.3565e+00, -1.8009e+00, -2.9551e-01,  6.2460e-01,\n                 -5.4247e+00,  6.3628e-03,  2.0484e+00, -1.3456e+00, -2.7778e-01,\n                 -1.7964e+00, -2.9569e+00,  1.2188e+00,  1.7974e+00, -6.3725e-01,\n                 -1.8916e+00, -8.1490e-02, -2.9433e+00,  1.5178e+00, -2.8199e+00,\n                  4.0747e+00,  2.7865e+00,  1.5180e+00, -1.2340e+00,  1.2963e+00,\n                 -1.5294e+00, -8.5575e-01,  3.4911e+00, -3.1610e-01, -3.8619e+00,\n                  6.5280e-01, -1.2284e+00, -1.1865e-01, -2.0219e-01,  3.7863e+00,\n                 -7.2802e-01,  5.1086e+00, -4.2605e+00,  1.6054e+00,  6.9856e+00,\n                  2.0929e+00, -1.7813e+00,  3.9656e-01, -2.6208e+00,  4.3043e-01,\n                  1.0266e-01,  2.3087e+00,  3.7134e-01,  7.0560e-01,  3.3787e+00,\n                  2.1449e-01, -2.0857e+00,  1.2102e+00, -2.3008e+00,  3.0006e+00,\n                 -1.4550e+00,  1.1022e+00, -4.2180e+00,  5.5830e-01,  6.5707e-01,\n                 -2.8348e+00, -6.1749e-01,  3.8857e+00,  2.0561e+00,  8.4836e-01,\n                  1.1802e-01,  1.7923e+00,  1.6886e+00,  2.7567e+00,  1.7604e-01,\n                 -2.5218e+00, -1.8170e+00,  1.1569e+00, -2.2447e+00, -9.3401e-01,\n                 -4.3343e+00,  2.5049e+00,  1.6063e+00,  1.9482e+00,  2.7144e+00,\n                 -4.0442e+00,  2.1793e+00,  8.8421e-01,  2.5390e+00, -7.4544e-01,\n                 -4.3774e+00, -4.2862e+00,  2.6836e-01,  2.9160e+00,  6.1122e-01,\n                  5.1244e+00, -1.9589e+00,  1.9006e+00,  1.3889e+00,  8.0410e-01,\n                 -2.9918e-01, -3.1854e-01,  5.6937e+00,  1.9130e+00, -1.8147e+00,\n                  8.5878e-01,  8.7347e-01,  4.6978e+00, -5.0565e-01, -1.0474e+00,\n                  2.5339e+00,  1.4471e+00,  1.3505e+00,  3.0968e+00, -2.3585e+00,\n                 -2.7107e+00,  2.7492e-01, -1.1699e+00,  7.0602e+00,  1.5933e+00,\n                 -4.5451e+00, -9.7525e-01,  4.3542e-01,  1.5269e+00,  1.4534e+00,\n                 -5.3999e+00, -2.9317e-02, -1.1024e+00,  1.9488e+00, -3.9890e+00,\n                 -3.0636e+00,  3.2409e+00,  3.3164e+00,  3.5744e+00, -3.6367e+00,\n                  3.0218e+00, -2.9508e+00,  1.8097e+00,  1.1645e+00, -2.1807e+00,\n                 -3.9410e+00, -1.0232e+00, -1.5011e+00, -3.7337e+00,  2.0357e+00,\n                 -5.6155e-01, -5.4992e+00,  1.1502e+00, -9.4874e-01, -2.3040e+00,\n                 -7.6297e-01, -3.7994e+00, -6.8891e+00, -1.3889e+00, -2.2552e+00,\n                 -6.6077e-01, -3.1435e+00,  1.2858e+00,  4.0226e-01,  3.1534e+00,\n                 -6.6946e-01,  6.5520e-01,  2.8144e-01, -1.3321e+00,  1.7709e+00,\n                  8.1355e-01,  1.0032e+00,  2.8058e+00, -1.8557e+00, -3.3679e+00,\n                  2.2789e-01, -2.8877e+00,  1.1503e+00, -1.1558e+00,  1.9004e+00,\n                  5.2319e-01, -4.2886e-01, -9.6992e-01, -1.7769e+00,  1.7125e+00,\n                  5.5192e+00,  1.9382e-01,  3.7615e+00,  6.3471e-01,  2.1844e-01,\n                  3.0916e+00, -4.2521e+00,  2.6169e-01,  4.0664e-01, -1.9394e+00,\n                 -1.9930e+00, -4.0997e+00,  6.8029e-01,  7.5378e-02, -1.2772e+00,\n                 -6.8811e-02, -8.3065e-01, -1.6263e+00,  5.4468e-01,  1.9711e+00,\n                 -2.2860e+00, -8.3257e-01,  1.1202e+00,  2.5768e+00, -1.4545e+00,\n                  2.4314e+00, -5.1305e+00,  1.4423e+00, -4.7520e+00, -1.2191e+00,\n                 -3.2918e+00, -1.1234e+00, -1.8826e-01, -1.6600e+00,  1.9434e+00,\n                 -1.5770e+00,  4.9059e+00,  1.9872e+00,  1.0311e+00, -9.5225e-01,\n                 -1.7732e+00,  1.5593e+00, -2.6839e+00,  2.1143e+00, -7.7374e-01,\n                 -1.3888e+00, -2.5975e+00,  4.0813e+00, -3.7566e-02,  1.0639e+00,\n                  1.0847e+00,  1.5949e+00, -4.0887e+00,  4.8901e-01, -1.9209e+00,\n                  5.2859e+00, -3.4552e+00, -4.1124e+00, -1.7209e-01, -1.4607e+00,\n                 -1.5231e+00, -3.6909e-01,  1.7279e+00, -2.3951e+00, -7.2809e-01,\n                 -3.1575e+00,  2.4742e+00,  4.5332e+00,  2.3279e+00, -2.2202e-01,\n                 -2.8705e+00,  9.4756e-01, -3.4212e-01,  1.2040e+00, -1.8486e+00,\n                 -2.6162e+00,  5.7605e-01,  2.8660e+00, -4.1954e-01,  2.9854e+00,\n                  2.4204e+00,  2.0743e+00,  2.8701e+00,  3.6679e+00,  2.1177e+00,\n                  1.6422e+00, -4.5589e+00, -1.6968e+00,  5.3052e-01, -3.5281e+00,\n                  1.0417e+00,  2.5805e+00,  1.1435e+00,  3.6953e-01, -3.5667e+00,\n                 -9.6792e-01,  3.0534e+00, -1.1931e+00,  1.1998e-01, -1.1903e+00,\n                  3.2650e+00,  6.6636e-01,  1.1523e+00, -4.5849e+00,  4.6864e+00,\n                 -2.7415e+00, -1.7865e+00, -5.4780e-01,  1.8712e+00,  2.4824e+00,\n                 -2.8030e+00, -1.1834e+00, -2.2155e+00, -2.1991e-01,  9.3279e-01,\n                 -1.3666e+00,  1.2363e+00,  2.9276e+00, -1.6241e+00]])           ,\n        tensor([[-1.1128e+00,  3.2363e-01, -1.5675e+00,  7.4018e-01,  1.7511e+00,\n                 -8.6186e-01, -4.3091e+00, -1.9926e+00,  2.9587e+00, -1.7692e+00,\n                 -1.1562e+00,  2.3632e+00,  3.2738e+00,  7.3668e-01, -2.0824e+00,\n                  5.5787e-02,  6.7195e+00, -1.8475e-01,  3.9796e-01,  2.0292e+00,\n                  4.8910e+00,  1.4796e+00,  3.1852e+00,  5.5335e-01, -4.5494e-01,\n                 -6.6627e+00, -6.5402e+00, -4.3507e+00,  3.6742e+00,  1.2449e+00,\n                 -3.3795e+00, -1.0998e+00, -2.8210e+00,  7.1881e+00, -1.2764e+00,\n                  4.9510e-01,  1.4038e+00,  3.1897e+00,  5.9962e-01, -7.9129e-01,\n                  3.0356e+00, -2.3316e+00, -3.7357e-01, -6.5947e+00, -7.0436e-01,\n                  5.2966e-01,  7.1323e-01, -2.2983e+00, -2.0849e+00,  7.5425e-01,\n                 -4.7122e-01, -8.9281e-02,  7.2627e-01,  2.1578e+00,  4.2671e+00,\n                 -4.0324e-01, -3.2271e+00,  2.4011e+00, -7.4132e-01, -2.3922e+00,\n                 -1.4458e+00,  1.8589e+00, -1.1460e+00,  1.7310e-01, -4.3002e+00,\n                 -3.1060e-01,  4.1500e+00, -2.8117e+00, -3.6080e-03,  3.7437e+00,\n                  3.9578e+00,  1.0348e+00, -1.9647e+00,  1.7229e+00,  9.4913e-01,\n                 -3.1323e-01, -3.0800e+00,  5.3454e+00,  4.2566e-01,  1.1543e+00,\n                 -2.5077e+00, -1.8674e-01, -1.5268e+00, -1.4508e+00, -1.0038e+00,\n                 -5.4441e+00, -1.6762e+00, -1.1111e+00,  1.0007e+00, -6.3484e-01,\n                  1.4606e+00, -3.8292e+00,  2.3698e+00,  1.3318e-01,  1.4707e+00,\n                 -9.3524e-01, -1.8122e+00, -4.6058e+00,  2.8606e-01, -1.2758e+00,\n                  2.2790e+00, -7.3003e-01, -2.8133e-01,  2.6022e+00,  3.4178e+00,\n                 -2.3503e+00,  1.3461e+00, -2.2341e+00, -2.7764e+00, -2.1981e+00,\n                 -3.0417e+00,  3.4425e+00,  4.1738e-01, -2.7708e+00, -1.6135e+00,\n                 -3.2195e+00,  3.6899e-01,  4.3977e+00,  2.6391e+00, -8.4569e-01,\n                 -4.4042e+00,  5.6421e-01, -2.9928e-01, -1.7104e-01,  4.0348e+00,\n                 -2.0787e+00,  1.8044e+00,  1.2081e+00,  8.7785e-01, -1.9883e+00,\n                 -2.8275e+00, -2.7833e+00,  1.9909e+00, -4.6294e-01,  3.8559e+00,\n                 -2.4981e+00, -3.4335e-01,  2.2870e+00,  2.1985e+00, -5.2521e+00,\n                  2.6740e+00, -7.1204e-01, -1.3455e+00, -2.2687e+00,  1.9103e+00,\n                  1.5673e+00,  2.1318e+00, -3.5865e-01, -1.2092e+00, -1.3160e+00,\n                 -1.4178e+00, -1.5935e+00, -1.8827e+00,  2.2048e+00, -1.8408e+00,\n                  1.2107e+00,  1.8207e+00,  2.7861e+00,  1.2780e+00,  1.5967e+00,\n                  2.6661e+00,  1.4382e-01,  6.5801e-02,  1.5982e+00, -3.4851e-01,\n                  4.9005e+00,  1.4425e+00,  1.9678e+00, -4.5939e+00,  1.6872e+00,\n                  2.3139e+00,  4.2969e+00,  4.5957e+00,  3.4195e+00, -1.7043e+00,\n                 -2.2393e+00, -1.6786e+00, -3.4985e+00, -3.9610e+00,  1.5171e+00,\n                 -3.9989e+00, -8.5049e-01, -4.8637e-02,  1.3069e+00,  3.5051e+00,\n                 -1.0059e+00, -5.6090e-01,  3.0483e+00,  3.2798e+00,  1.5223e+00,\n                 -1.5924e+00,  2.1631e-01, -1.3630e-01, -1.1506e+00,  4.2313e-02,\n                  8.3411e-01, -5.1912e-01, -5.5189e+00,  4.6867e-01, -4.7997e-01,\n                 -7.5523e-01, -1.0021e+00, -2.0066e+00,  4.2060e+00, -2.0440e+00,\n                 -3.3710e-01, -1.9631e+00, -1.6645e+00,  4.7934e+00, -3.6367e-01,\n                  6.2063e-01, -7.0697e-01, -3.8334e+00, -7.2942e-01, -1.7756e+00,\n                 -1.9251e-01, -4.7797e-01, -4.7569e-01,  2.6021e+00,  2.9061e+00,\n                  7.5714e-02,  4.0231e+00,  1.6412e+00,  2.3136e+00,  1.5052e+00,\n                  1.2654e+00,  4.1715e-02, -8.0846e-01,  3.8348e+00,  2.4172e-01,\n                 -4.0382e+00, -2.2961e+00,  1.3438e+00,  1.0037e+00,  2.9916e+00,\n                 -2.0368e+00, -3.6500e-01, -1.0914e-01, -2.9257e-01,  3.7034e-01,\n                 -1.3489e+00, -4.7225e+00, -3.2444e-01,  6.1270e-01, -1.0915e+00,\n                 -3.2944e+00,  7.0977e-01, -5.4612e+00, -2.7399e+00,  2.7096e+00,\n                 -2.1277e-01,  1.3531e+00,  1.1051e+00, -1.0333e+00,  2.4166e+00,\n                 -1.5237e+00, -1.7585e+00, -1.1019e+00, -1.6129e+00, -5.4694e-01,\n                  3.4093e+00, -9.3477e-01,  1.8217e+00,  1.8456e+00,  8.4591e-01,\n                 -1.3740e+00,  9.5535e-01, -1.5816e+00,  4.8811e+00,  6.4111e-01,\n                  1.9135e+00, -4.5779e+00,  2.5152e+00,  3.2728e-01, -3.5367e+00,\n                 -1.0897e+00, -2.2577e+00,  1.9629e+00,  1.7582e+00, -3.9390e+00,\n                 -4.4225e+00, -2.1114e+00, -4.1345e+00, -1.9957e+00,  1.0743e+00,\n                 -5.9612e+00,  1.1161e+00, -2.5778e-01,  4.2120e+00,  7.3993e-02,\n                  1.6396e+00, -3.7437e+00,  4.3945e-01, -1.7450e+00,  1.3305e+00,\n                 -3.1270e+00, -2.1981e+00,  1.1255e-01,  2.3549e+00,  3.1713e+00,\n                 -3.0913e+00,  2.0796e-01, -1.3012e+00,  3.7565e-01,  7.2170e-01,\n                 -4.3529e+00, -1.9308e+00,  5.3488e+00, -1.4671e-01, -2.2201e+00,\n                 -3.0533e+00,  1.0905e+00, -9.0687e-01,  2.4922e+00,  2.8388e+00,\n                  1.3105e+00, -2.0731e-01, -1.0774e+00,  4.2880e-01, -5.5350e-02,\n                 -1.6005e+00,  3.0861e+00, -1.9036e+00,  2.3394e-01,  2.9814e+00,\n                  2.0347e-01,  5.8776e-02,  1.0695e+00,  2.0699e+00,  7.8020e-01,\n                  2.5995e-01, -1.2562e+00, -5.4376e-01,  3.3962e-01, -1.2423e+00,\n                 -3.9346e+00,  2.2518e-01,  2.8735e-01, -1.2426e+00,  1.9960e+00,\n                 -2.6163e+00, -1.3435e+00,  7.9733e-01, -6.0168e-01,  4.5635e+00,\n                 -1.8219e+00,  3.1963e+00, -1.5287e+00,  3.0702e+00,  1.6672e+00,\n                  1.5633e-01,  3.1161e+00,  3.3567e+00, -3.3837e+00, -1.3108e+00,\n                  3.1980e-01, -2.5168e+00, -1.6496e+00,  3.4379e+00, -1.6412e+00,\n                 -2.5270e+00, -1.6284e-01, -3.2195e+00, -3.5904e+00, -1.5043e+00,\n                 -1.9964e+00, -5.3550e+00, -1.8260e+00,  1.7143e+00,  9.9620e-01,\n                  1.0022e+00,  4.8891e-01,  1.9364e+00,  7.7598e+00, -1.7929e+00,\n                  2.7158e+00, -2.0875e+00,  2.1633e+00,  4.6807e-01,  2.0466e+00,\n                  1.6986e+00,  2.2191e+00,  2.7173e+00,  4.3452e+00]])           ,\n        tensor([[ 1.5601e+00,  1.9414e+00,  2.8914e-01, -2.0399e+00, -7.8062e-01,\n                 -1.8335e+00,  1.8950e+00, -2.6251e+00,  2.2568e+00,  1.2359e+00,\n                  1.4049e-02, -1.2623e+00, -2.3616e+00, -6.3584e-01,  2.4461e+00,\n                 -1.2300e+00, -4.9067e-01,  1.4165e+00, -1.3866e+00, -3.2475e+00,\n                 -2.3171e+00, -2.3579e+00, -3.9163e-01,  3.6811e-01,  3.4191e+00,\n                 -2.5024e+00, -2.8969e+00, -1.0189e+00, -1.9457e-01, -4.3648e+00,\n                 -1.6223e+00,  2.8972e+00,  2.4649e+00,  2.3885e+00, -1.5752e+00,\n                 -2.4817e+00,  2.5801e-01,  9.0521e-01,  1.8043e+00, -2.3578e+00,\n                  4.7872e+00, -3.2502e-01, -1.0156e+00, -6.2920e-01, -2.2144e+00,\n                 -1.1946e+00, -1.9074e+00, -7.0225e-01,  2.9596e+00,  2.9969e+00,\n                 -5.3659e-01, -4.2626e-02,  1.5893e-01, -1.4992e+00,  2.7769e+00,\n                  6.1711e+00,  1.8905e+00,  1.7651e+00,  1.3270e+00, -2.8336e-01,\n                  4.6317e+00,  1.1020e+00, -3.9048e-01, -4.2819e+00, -1.7333e+00,\n                 -1.3382e+00, -1.9078e+00,  1.3690e+00,  1.8939e+00,  9.1297e-01,\n                 -1.0326e+00,  2.4299e+00,  3.2791e-01,  2.1849e+00, -4.5459e+00,\n                  5.9017e-01, -1.3925e+00,  2.3622e-01, -1.1482e+00, -4.7761e-01,\n                 -7.4124e-01, -2.3509e+00, -1.4046e+00,  1.9663e+00,  3.3688e+00,\n                  2.8947e+00, -3.9100e+00, -3.7761e+00, -4.5652e+00, -1.2090e-01,\n                  5.8496e+00,  4.3480e-01, -2.8717e+00, -6.8632e-02,  2.4956e+00,\n                  1.7817e+00,  4.1822e-01, -4.3623e-03, -4.2792e+00,  3.7325e+00,\n                 -2.7350e+00,  4.5685e+00, -5.2341e-01, -1.2562e+00, -1.0601e+00,\n                  5.0605e-01,  1.8139e+00, -5.4323e+00,  2.7085e-01, -5.6169e-01,\n                 -7.8120e-01,  4.8053e+00, -4.1369e+00,  3.0720e+00,  3.2544e-01,\n                  6.0983e+00,  5.7894e+00, -1.8380e+00,  1.4869e+00, -5.7566e-01,\n                 -1.4749e+00,  4.4663e-01, -2.7464e+00,  1.2613e+00,  1.5722e+00,\n                  6.8180e-01,  1.7639e+00,  2.4491e+00, -3.2180e-01,  2.7458e+00,\n                  2.0768e+00,  2.0502e+00, -1.5189e-01,  7.0569e-01, -2.2033e+00,\n                  4.5780e-01, -3.5347e-01, -9.7220e-01,  1.6382e+00, -1.9063e+00,\n                 -2.1560e+00,  2.1157e+00, -1.4020e+00,  8.9608e-01, -3.9795e+00,\n                  1.4755e+00, -1.1406e+00,  2.9936e+00,  4.2624e+00,  2.0766e+00,\n                 -2.8906e+00, -2.5069e+00, -1.5183e+00,  1.1067e+00,  1.9878e+00,\n                 -3.7478e+00,  3.1896e+00, -2.0525e-01,  1.1974e+00,  7.9133e-01,\n                  2.9428e+00, -2.9664e+00,  1.6919e+00, -3.4402e+00, -3.2601e+00,\n                  2.7925e+00,  2.5123e+00, -6.9565e-01,  3.3592e+00,  3.0097e+00,\n                  5.8882e-01, -4.7333e-01,  2.5699e+00,  2.1908e+00,  1.7085e+00,\n                 -1.2118e+00,  1.6095e+00, -3.4233e-02, -8.6693e-01,  1.6057e+00,\n                  1.7144e+00,  1.3999e+00, -2.1299e-01,  2.8757e+00, -2.3708e+00,\n                  6.5087e+00,  7.2092e-01,  2.7513e+00, -1.1029e+00,  1.7801e+00,\n                 -4.1641e+00, -2.9037e+00,  2.9647e-01,  3.2083e+00,  2.1944e+00,\n                 -1.4515e+00,  1.0266e+01, -1.7222e+00, -1.2815e+00, -1.7194e+00,\n                  8.3283e-01,  7.4668e-01,  1.4488e+00,  2.3374e+00, -6.9373e-01,\n                  4.9151e-01, -3.7570e-01, -1.2802e+00,  1.1545e+00,  6.0847e-01,\n                  2.0692e+00, -7.7226e-01,  1.4445e+00,  2.6644e+00,  1.0491e+00,\n                 -3.7435e+00,  3.4813e+00,  3.2399e+00, -8.4891e-01, -4.8152e+00,\n                  2.6051e+00, -2.5455e+00, -2.9940e+00,  9.8532e-01, -2.5894e-01,\n                  7.4405e-01, -1.6992e+00, -8.5248e-01, -4.4696e+00, -3.0470e+00,\n                  1.4018e+00, -9.5936e-01,  2.2028e+00, -3.4423e+00,  9.5064e-01,\n                 -2.7285e+00, -2.2288e+00, -5.2722e+00,  1.7872e+00,  2.8127e+00,\n                 -1.1222e+00,  4.5294e+00, -2.4421e+00,  6.4452e-01,  2.6465e+00,\n                 -5.1448e+00,  1.3283e+00, -1.4765e+00, -1.1105e+00, -1.6964e+00,\n                  3.0269e+00, -1.1703e+00,  2.7987e+00,  1.4505e+00, -7.9935e+00,\n                  1.1106e+00, -9.8085e-01,  1.9718e+00,  1.0913e+00, -5.0197e+00,\n                  2.3906e+00,  1.6359e+00,  3.4037e-02, -3.4073e-01,  9.2091e-01,\n                 -1.6371e+00, -4.0201e-02, -4.1205e-02, -3.8512e+00,  7.7003e-01,\n                  2.1982e+00, -1.7627e+00, -5.7100e-01,  8.0032e-02, -4.0723e+00,\n                  3.2181e+00,  2.4893e+00, -1.1313e+00, -9.3279e-02,  3.3935e-01,\n                 -4.8914e+00,  1.4626e+00, -2.5996e-01, -2.9113e+00,  3.2415e+00,\n                 -2.4481e+00, -9.5561e-01,  2.6672e-01,  2.1916e+00,  2.3795e+00,\n                 -5.1855e+00, -1.7796e+00,  4.6378e-01,  9.5801e-01,  1.2591e+00,\n                  1.3882e+00,  2.1118e+00, -1.7926e+00, -1.4237e+00, -5.0455e-01,\n                 -2.5318e+00,  1.3292e+00, -1.1394e+00,  4.6860e-01,  3.8072e+00,\n                  1.6011e+00, -1.8648e+00, -1.0840e+00,  1.2800e+00, -5.1209e+00,\n                 -4.1543e+00,  3.0705e+00,  1.5335e+00,  4.0774e+00,  2.3490e+00,\n                 -3.2624e+00,  8.5993e-01,  1.9327e+00, -4.7564e-01,  2.9610e+00,\n                  1.3437e+00, -5.9791e-01,  2.8165e+00,  1.0260e-01,  4.3743e+00,\n                 -4.3395e-01, -3.7767e+00, -3.0745e-01,  5.7123e+00, -1.5673e+00,\n                 -4.5375e+00,  2.2986e+00, -1.5017e-01, -1.2760e+00,  2.5573e+00,\n                  1.2894e+00, -4.8952e-01,  2.3041e-01, -1.2964e+00, -4.2921e-01,\n                  4.3649e-01, -4.6170e-01, -1.2538e+00, -3.8353e-01,  1.9487e+00,\n                  9.8813e-01,  8.6883e-01, -2.2196e+00, -1.1038e+00, -5.3317e+00,\n                 -1.2987e+00, -1.6257e+00,  2.3563e+00, -6.2841e-02,  7.6281e-01,\n                 -4.8096e+00,  3.9789e-03, -1.5837e+00,  5.0470e-01, -1.0752e-01,\n                 -1.1292e+00, -1.0476e+00,  1.8074e+00,  2.1812e+00,  1.2856e-01,\n                 -8.2980e-03, -3.7244e+00, -3.7782e-02,  1.2539e-01, -3.1814e+00,\n                  4.5273e-02, -8.6574e-01,  1.7379e+00, -1.2338e-01, -4.2788e+00,\n                  3.2030e-01, -4.8238e+00, -8.1606e-01, -1.2130e+00,  6.7981e-02,\n                  2.9314e-01,  1.9453e-03,  2.3705e+00, -1.6797e+00]])           ],\n       [tensor([[ 3.1535e+00,  2.5599e+00,  1.4747e+00,  3.9870e+00, -3.1836e+00,\n                 -1.7895e+00,  4.4777e-01, -3.3424e+00,  4.0190e+00, -1.1753e+00,\n                 -2.5160e-01, -2.3911e+00, -3.4368e+00,  1.5585e-01,  5.0989e+00,\n                  3.5931e+00, -7.0795e-01,  2.5884e-01,  3.2601e-01,  1.9822e+00,\n                 -1.5811e+00,  2.8296e+00, -1.6372e+00,  1.8949e+00,  1.0778e+00,\n                 -1.2063e+00,  1.2372e+00,  7.2443e-01, -8.1625e-01, -4.8026e-01,\n                 -4.0046e+00, -8.0664e-02, -2.6687e-01,  2.2389e+00,  2.1004e+00,\n                  4.3120e+00,  1.3376e+00,  4.8378e-01,  2.4424e+00,  2.1921e+00,\n                 -1.9338e+00, -1.2966e+00, -1.2738e+00, -7.7587e-01,  1.7776e+00,\n                  3.4051e+00, -1.6338e+00, -2.4393e+00,  4.8909e-01,  3.3068e+00,\n                  1.7658e+00,  9.5225e-02, -3.4398e+00, -2.7508e+00, -1.2400e+00,\n                  1.7419e+00,  5.7277e-01,  1.9176e-01, -6.6309e+00, -1.6423e+00,\n                 -1.5082e+00,  6.9288e-01, -4.1856e+00,  3.1480e+00, -6.8419e-01,\n                  6.1155e+00,  3.7809e+00, -1.5539e+00,  7.6546e-01, -2.1544e-01,\n                  2.8970e-01,  3.6730e+00, -3.3134e-01, -1.1205e+00, -4.3191e+00,\n                 -1.7363e-01,  4.3836e-01, -1.6991e+00, -1.1026e-01,  2.8689e-01,\n                 -5.3697e+00,  6.1960e-01,  2.2244e+00,  3.0174e+00,  3.2114e-01,\n                 -2.0723e+00, -3.2348e-01, -2.3639e+00, -4.1075e-01,  1.7014e+00,\n                  1.1120e+00,  1.7178e+00, -5.4503e-02, -2.5592e-02,  8.9141e-01,\n                 -1.1293e+00, -4.5923e+00, -2.6854e+00,  2.8022e+00, -7.9485e-01,\n                 -2.5105e+00,  2.4447e+00,  1.7826e+00, -1.8558e+00, -1.8354e+00,\n                  2.9726e+00, -1.5851e+00, -2.0716e+00,  2.8632e+00, -6.8915e-02,\n                  2.1932e+00, -1.1565e+00, -4.6540e+00,  8.6045e-01,  1.1319e-01,\n                  3.1479e+00,  4.0801e+00,  3.4064e-01, -2.1652e+00,  5.9342e+00,\n                 -7.3989e-01, -7.8126e-01, -7.2913e-01,  1.8454e+00, -5.6654e-01,\n                 -7.2549e-01,  2.8108e-01,  2.3678e-01,  2.3548e+00,  1.9493e+00,\n                  1.9022e+00,  1.8206e+00, -1.7607e+00,  3.1962e+00, -2.1595e+00,\n                 -2.0942e+00, -2.3445e+00, -2.3747e+00, -2.9557e+00, -1.9401e+00,\n                 -1.1012e+00,  2.5040e+00, -2.3532e+00,  2.9501e+00,  1.4911e+00,\n                  1.9461e+00, -9.3636e-01,  6.4212e+00,  3.4249e+00,  2.0854e+00,\n                  4.2437e+00, -6.0179e-01,  1.6314e+00, -2.3059e+00, -4.0311e+00,\n                  1.6639e+00,  5.0068e+00, -1.2133e+00, -3.0829e-01,  2.4313e+00,\n                  8.1007e-01,  3.0940e+00,  3.6732e-01, -8.2109e-01, -8.0945e-01,\n                 -2.7309e+00,  4.6341e-02,  4.3463e+00,  3.9516e+00,  1.3595e+00,\n                  1.8201e+00,  2.4021e+00,  1.7723e-01,  2.1621e+00,  3.1137e+00,\n                  2.9279e+00, -7.3510e-01, -1.8041e+00, -4.1698e+00,  2.8387e+00,\n                 -1.4892e+00,  9.0464e-01, -6.3803e+00,  1.0228e+00, -4.7375e+00,\n                  7.3348e+00, -1.6468e+00,  1.0091e+00,  6.3554e-01,  4.0503e+00,\n                 -4.1904e+00, -6.0910e+00, -9.8031e-01,  1.2984e+00, -1.2266e+00,\n                 -1.3960e+00,  4.8400e+00,  1.1602e+00, -8.7254e-01, -4.7006e-01,\n                  4.2110e+00,  3.1505e+00, -6.3331e-02, -1.3474e+00,  1.6003e+00,\n                 -1.4124e+00, -2.2104e+00, -3.1962e+00, -1.2901e+00, -4.5859e+00,\n                 -1.5157e+00, -3.3787e-02,  1.5945e+00,  1.1935e+00, -1.4676e+00,\n                 -4.0743e-01,  5.3185e+00,  1.7424e+00, -8.8611e-01, -3.7271e+00,\n                  3.0997e+00, -7.1650e-01, -1.6218e+00,  3.0285e+00, -6.0245e-01,\n                  1.8396e+00,  3.0473e+00, -3.3977e+00, -6.4439e+00, -1.0256e+00,\n                 -3.4871e+00, -3.4708e-01,  5.4003e-02,  2.1317e+00, -1.5145e+00,\n                  2.4879e-01, -1.9677e+00, -5.7122e-01, -4.3899e+00,  1.1468e+00,\n                  5.2546e-01,  4.7105e-01, -2.6086e+00, -3.2000e+00,  1.4701e+00,\n                 -2.2526e+00, -2.2550e+00,  3.5211e+00, -4.7142e+00, -7.8764e-01,\n                  6.7349e+00, -1.6413e+00,  2.0591e+00, -4.3385e-01, -4.0824e+00,\n                  4.0910e-01, -3.5099e-01, -3.0438e-02,  1.8661e+00, -7.6812e-01,\n                  1.0681e+00,  1.3799e+00,  1.2837e+00,  9.0210e-01, -1.4290e+00,\n                 -1.8577e+00, -2.6390e-01,  3.6982e+00, -3.2973e+00,  3.5225e+00,\n                  6.3103e-01, -6.9410e-01, -3.3878e+00,  1.2853e+00, -2.4508e+00,\n                 -1.7760e+00,  3.7600e+00, -1.3415e+00, -6.7215e-01, -6.0270e-01,\n                 -2.7239e+00,  5.1796e-02,  1.7951e+00, -1.5534e+00,  1.2642e+00,\n                  5.0334e-01, -2.1152e+00,  2.8941e-01,  1.6283e-01,  1.5464e+00,\n                 -5.8900e+00, -1.5440e+00, -2.9356e+00, -1.7434e+00, -2.9165e+00,\n                  3.0465e+00,  1.9836e+00, -2.2256e+00,  3.0689e+00, -2.8356e+00,\n                 -1.2917e+00, -1.3811e+00, -1.4397e+00, -3.6801e+00,  3.8526e+00,\n                  2.7650e+00,  2.9395e+00,  1.6111e-01,  1.4176e+00, -6.1657e-01,\n                 -6.4533e+00, -1.3594e+00,  2.2245e+00,  3.9698e+00, -1.6551e+00,\n                  3.0938e+00,  2.2283e+00, -2.3471e+00, -1.3564e+00, -2.7363e+00,\n                  1.6714e+00,  1.6808e+00,  2.1338e+00,  2.1920e+00,  4.7198e+00,\n                  2.9251e-01, -6.9281e-01,  1.2068e+00, -3.8123e-03, -1.0066e+00,\n                 -4.3682e+00,  2.1653e+00,  8.9304e-03, -1.7790e+00,  8.9563e-01,\n                  2.3447e+00, -2.6957e-01,  2.3868e+00,  7.2128e-01, -1.3089e+00,\n                  1.7298e+00, -4.3969e-01,  1.6374e+00,  6.4421e+00, -1.7181e+00,\n                 -1.2396e+00,  3.5074e+00,  2.1570e+00,  6.3516e-01,  9.3187e-01,\n                  8.4316e-01, -1.6852e+00, -5.9762e-01, -1.9585e+00, -1.5731e+00,\n                 -2.0894e+00,  5.0350e-01,  3.5547e+00,  2.1894e+00, -1.2730e+00,\n                 -4.5461e-01, -1.4147e-01,  3.6381e-03, -1.8576e+00, -4.0433e+00,\n                 -1.2779e+00, -5.8846e+00, -5.4017e-01, -1.7503e-01, -6.3229e-01,\n                  1.5286e+00, -2.4875e+00, -1.7226e+00,  2.7926e+00, -1.6698e+00,\n                 -1.3744e+00, -2.9384e+00, -1.9606e+00, -3.9796e+00, -1.7160e+00,\n                 -7.5558e-01, -3.5601e-01, -2.7310e+00,  5.0903e-01]])           ,\n        tensor([[-1.8509,  2.1373,  2.6393, -0.3842, -3.5270, -3.0958, -0.7624, -2.5519,\n                  1.2349, -4.7081, -2.6636, -3.1798, -3.2734, -6.7469,  4.0089,  3.1449,\n                 -0.3906, -4.3011, -0.6414, -3.2368,  1.3654,  3.6545, -0.5785,  0.8932,\n                 -2.5853, -3.4357,  0.7607, -2.4340, -1.1581,  0.6592, -3.2989, -0.8978,\n                 -1.4691, -1.4705, -2.8611,  0.1147,  2.4865, -3.0961, -1.1090,  3.1792,\n                 -1.3389, -2.3655, -3.3078, -2.6635,  5.1540,  1.0852, -3.2976,  2.3720,\n                  1.1867,  3.2055,  0.6018, -0.6543, -1.7549, -2.9197, -2.3084, -0.9882,\n                 -2.4098,  2.9756, -0.1835, -2.3469,  1.5742, -0.0710, -1.5059,  3.0918,\n                 -2.8332,  0.6191,  3.1340,  5.8895,  2.2559,  4.3323,  0.7639,  2.9183,\n                  3.0623, -1.6349, -4.6594, -3.2538,  2.3490, -0.7118, -2.9020,  0.2588,\n                 -4.7653,  1.7811, -1.6220,  2.4366, -2.7323, -2.1098,  0.2367, -2.1802,\n                  1.9804, -0.3028, -5.3849, -0.2022, -0.5584,  1.8898,  3.0487, -0.6567,\n                 -1.1911,  1.0718, -1.0912, -1.5535,  0.5117,  0.8779,  0.4659,  0.4375,\n                 -1.0498,  1.2576, -1.6036, -1.3532,  4.6577, -0.7863,  0.8712,  3.6042,\n                 -1.8619,  1.1891, -1.8776,  0.6170,  1.6212,  3.7259, -1.1752,  1.4166,\n                  1.4596, -1.1499, -0.1316, -0.1260,  2.7835,  0.1643,  1.4040, -1.7149,\n                 -0.8759,  3.6382,  1.3107,  2.1491,  4.2119,  1.0874,  2.7149, -1.1840,\n                 -0.8738, -1.7442, -0.6460,  0.4323, -2.8158,  4.8856, -3.2628,  0.6220,\n                  0.2484,  3.2296,  1.2957,  1.6249,  4.5162,  0.1192,  4.1210, -2.9193,\n                 -0.2718,  3.3135, -1.4331,  1.3615,  5.0931, -2.0759,  2.4744,  1.6766,\n                  1.0986, -4.6397,  1.2592,  4.2103, -1.0181, -1.9573,  1.6949,  2.1768,\n                 -1.4838, -3.3392, -1.0020,  2.7315,  1.6664,  3.1843,  0.1814, -2.4568,\n                 -4.3462,  2.2182,  1.2725,  6.8558,  3.0110, -0.0447, -7.4017,  1.8625,\n                  0.0482,  5.4980, -2.5609,  2.6674,  1.4717,  1.0551, -1.9829, -4.6911,\n                  3.4123,  2.5766,  1.7524, -1.6125,  2.2920,  1.2183,  6.6636,  0.6423,\n                  0.9374,  2.2393, -2.1516,  2.1931, -4.0106, -1.6756,  2.6367, -0.1810,\n                 -0.6854, -0.3113, -2.3207, -4.5935,  1.2596,  2.3522, -0.7941,  0.5394,\n                 -0.3759,  0.5297,  1.9753, -1.9405, -0.0907,  1.5626, -1.4839, -0.9292,\n                  3.2920, -0.1285,  0.3831, -2.1415, -5.5506, -1.6580, -3.5195,  0.8547,\n                 -1.5367, -1.3305, -2.9652, -2.0521,  0.7175,  4.7829, -2.8863,  0.5831,\n                 -0.4929, -0.7847,  4.5982, -1.1348,  2.7389, -2.5383, -2.2041,  6.4750,\n                 -2.8974, -1.4378,  6.3345, -4.3625, -2.4773,  0.1155, -2.5863,  1.3455,\n                  1.4169,  0.3612,  0.5358,  1.1913,  0.6594, -2.6524, -1.4709,  1.8171,\n                 -0.8470, -0.8098,  1.4153,  3.0779,  2.5017,  1.2059,  2.2390, -5.7968,\n                 -1.4150, -2.7034,  1.3394, -0.8051, -2.2486, -7.1499,  0.3927,  1.6117,\n                 -2.1775,  0.3851, -2.1563,  1.5125,  3.6529,  3.6244, -2.9812, -1.2373,\n                  0.8326,  0.3971,  0.0282, -2.5858, -1.5606, -3.9862, -2.4799, -0.8201,\n                  1.2146, -0.3118,  2.7791, -0.8881, -3.8364, -1.2948,  1.1464,  0.2481,\n                 -2.0605,  1.6834,  0.4995, -0.0480, -3.8101, -2.4759, -0.1796,  1.1378,\n                  0.8896,  6.4669,  0.8263,  1.8057,  2.3662, -1.4848,  2.6057, -3.1462,\n                  0.7600,  0.4925, -1.8760, -1.4055,  1.4479, -3.5608,  0.2341,  4.2515,\n                 -3.3195, -0.5867, -3.8314, -2.8250,  0.2571, -3.7850, -2.1054, -2.0605,\n                 -2.3762,  1.0644,  0.5184,  1.8724,  2.2952, -0.1702,  4.1222,  3.1671,\n                 -1.2600, -0.9151,  2.2492,  1.2118, -1.7585, -1.0279, -2.3056,  3.5151,\n                 -1.2990, -1.5582,  3.5685, -2.9828,  1.6270, -0.3791,  1.7335, -0.0178,\n                 -1.6440, -1.9393,  3.3449,  0.5451,  0.1145,  0.6858, -0.5434, -2.0798,\n                  0.7118, -1.9655,  4.9454, -0.6650, -1.0299,  5.2748, -0.8919,  2.2966,\n                 -0.8220, -0.5488, -0.3382, -1.6988, -0.6890, -0.6489, -3.3100,  0.3502]]),\n        tensor([[ 4.9583e-01, -1.5152e-01,  1.7114e+00, -4.2994e-01, -5.3696e+00,\n                  2.6240e-01, -9.1740e-01, -8.0291e-01, -5.2667e+00, -4.6017e-01,\n                 -1.3236e+00, -4.8235e-01,  5.7277e+00,  1.3177e+00, -3.2946e+00,\n                  6.6078e-01,  3.6899e+00,  2.2182e+00,  1.0950e+00,  3.4115e-01,\n                  2.4848e+00,  1.9375e+00,  9.2692e-01, -2.5210e+00, -1.6496e+00,\n                 -1.4694e+00, -6.2541e+00,  2.7914e-01, -2.3274e-02,  2.4700e+00,\n                  3.4638e+00,  7.1008e-01, -4.2822e-01,  2.0238e+00,  4.4070e-01,\n                  4.1927e-01,  2.7668e+00, -2.6213e+00, -2.3399e+00,  2.2269e+00,\n                 -1.1961e-01, -6.2867e-01, -3.1964e+00,  2.0423e+00,  8.2991e-01,\n                 -5.3962e-01, -6.5724e-01, -6.3749e-01,  4.2118e+00, -1.1032e+00,\n                 -3.6995e+00,  8.8628e-01, -2.3456e+00, -3.1119e+00, -2.0903e+00,\n                 -4.3382e+00, -2.4733e+00, -2.9435e-01, -8.7032e-01, -1.3206e+00,\n                 -5.6652e-01,  1.8322e+00,  5.2649e-01,  3.5304e+00,  8.2230e-01,\n                 -6.9687e+00,  5.0157e-01, -9.2328e-01,  6.8960e-01,  2.2978e+00,\n                  5.3974e-01,  2.8928e+00,  2.2540e+00,  1.9789e+00,  2.6366e+00,\n                 -4.6571e+00, -1.8849e+00,  5.1493e-01, -6.5770e+00,  2.6914e-02,\n                 -1.2544e+00, -2.9014e+00, -1.4625e+00, -1.9207e-01, -2.3530e+00,\n                  3.5325e+00,  3.4083e+00,  3.0740e+00, -1.9726e+00, -4.2391e+00,\n                 -8.7907e-01,  1.3266e+00, -9.8787e-01, -5.0953e+00,  1.9893e+00,\n                 -2.4284e+00,  1.3269e+00, -4.5425e+00, -1.1997e+00,  2.4320e+00,\n                  1.0857e-01, -4.7809e-01, -7.8940e-01,  2.7967e+00, -8.9363e-01,\n                 -3.4225e+00,  2.6662e+00, -1.0839e+00,  3.1879e+00, -5.0644e+00,\n                  2.3421e+00,  3.0606e+00,  1.1000e+00,  2.0891e+00,  1.2732e+00,\n                 -2.1580e+00,  1.8674e+00,  8.8427e-02,  1.5725e+00, -4.7390e+00,\n                  1.8948e+00, -5.5342e-01,  2.5923e+00, -1.4661e+00,  1.8185e+00,\n                 -4.1885e-01,  4.2070e+00, -5.6678e+00, -4.0441e+00,  5.2138e+00,\n                 -1.1883e+00, -2.1172e-01, -7.3836e-01, -4.9986e+00, -1.3017e+00,\n                  7.2559e-01,  2.9401e+00,  1.5598e+00,  3.5997e+00, -2.9605e+00,\n                 -6.5884e-01, -1.3036e+00,  2.2000e+00, -1.1120e+00,  2.6672e+00,\n                 -2.1595e+00,  1.6438e+00, -2.8942e+00,  8.4395e-01,  7.1116e-01,\n                  1.6365e+00,  9.3608e-01,  3.8688e+00, -9.2920e-01,  3.6147e+00,\n                  1.3375e+00,  6.5488e-01,  3.6370e-01,  3.2554e+00,  1.5026e+00,\n                 -3.4023e+00, -2.9266e+00,  6.0184e-01, -5.1740e+00,  2.5490e+00,\n                 -1.1727e+00, -9.5613e-01,  4.4682e+00,  1.9728e+00,  4.5642e+00,\n                 -6.2604e-01,  4.5765e-01,  4.7066e-01, -1.5562e+00,  3.2403e-01,\n                 -2.8609e-01, -1.5896e+00, -1.8392e+00,  1.8069e+00,  3.5646e+00,\n                  3.0991e+00, -4.9090e-01, -2.1453e+00,  9.9763e-01, -1.2102e+00,\n                  5.5478e-01,  6.1833e-01,  6.3488e+00,  1.7291e+00,  1.4280e-01,\n                  2.8412e-01, -1.1721e+00,  5.7771e+00,  1.1537e-01, -2.5796e+00,\n                 -7.2265e-01,  1.1436e-01, -1.0078e-01,  3.2230e+00,  1.8684e+00,\n                 -3.4032e-03,  1.0668e+00, -9.3148e-02,  2.8284e+00,  5.0348e-01,\n                 -2.0270e+00, -1.4751e+00,  3.1269e-01,  1.2877e+00,  3.8696e+00,\n                 -5.5735e+00,  6.8859e-01, -1.3477e-01,  1.4115e+00, -2.6505e+00,\n                  8.7355e-01,  1.4229e+00,  1.4743e+00,  2.7944e+00,  1.0628e+00,\n                 -1.4332e+00, -3.0805e+00, -3.1206e-01, -3.1950e+00, -6.3144e-01,\n                  1.6356e+00, -1.8892e+00,  3.8004e-01, -1.4777e+00,  3.1500e+00,\n                 -3.9729e+00, -4.8191e+00,  1.0531e+00,  1.2187e+00, -1.1578e+00,\n                 -2.4567e+00, -1.4728e-01, -2.0757e+00,  6.7982e-03,  3.6185e+00,\n                 -2.0362e+00,  6.6821e-01, -3.8816e+00,  4.6456e+00,  5.8815e+00,\n                 -9.7157e-01,  1.1622e-01, -3.2253e-01, -1.2355e+00, -3.4270e+00,\n                 -3.2277e+00, -2.5506e+00, -1.3673e+00, -4.7521e+00, -4.1109e-02,\n                  1.7901e+00,  4.6612e-01, -6.6238e-01,  1.6655e+00,  8.9063e-01,\n                  1.5828e+00,  2.1714e-01, -1.4229e+00,  7.0304e-01,  2.2194e+00,\n                  2.0909e+00,  1.7485e-01,  2.6757e+00,  2.2745e+00,  2.7498e-02,\n                  2.1080e+00, -3.9997e+00, -4.3386e+00, -1.4955e+00, -9.6984e-01,\n                 -3.5561e+00, -2.1901e+00, -2.1390e-02, -8.0877e-02,  6.9221e-01,\n                 -2.6941e+00, -1.2396e+00,  6.5215e-01, -2.3580e+00,  4.3076e+00,\n                 -6.1064e-01, -4.5523e-02,  2.9184e-01,  2.9716e+00,  1.6062e+00,\n                  3.6384e-01, -1.9955e+00,  2.8446e+00, -3.8843e+00, -2.8781e-01,\n                 -3.9017e+00, -1.0410e+00,  2.2061e+00,  9.4573e-01,  1.8005e+00,\n                  1.4734e+00,  2.3177e+00,  5.5834e-01, -1.4499e+00,  5.0265e+00,\n                 -1.6890e+00, -3.6160e+00, -4.2512e+00,  3.7245e+00,  3.3681e+00,\n                  1.7671e+00, -4.3703e+00,  3.9977e+00, -2.0678e+00, -2.0642e+00,\n                  3.1202e+00, -1.0560e+00, -4.9679e+00,  5.2882e-01, -4.0160e+00,\n                  4.9405e+00, -1.5909e+00, -2.4992e+00, -2.1615e+00,  2.7477e-01,\n                 -4.5800e-01, -2.5082e+00,  7.7533e-01, -3.2447e+00, -9.3459e-01,\n                 -5.5880e+00,  1.9418e+00,  1.9136e+00,  2.3293e+00, -2.6017e+00,\n                  4.2027e-02,  2.9171e-01, -1.4890e+00,  1.2132e+00,  1.4427e-01,\n                  4.2293e-01, -1.3378e-01,  3.4244e-02,  2.1075e+00,  1.0041e-01,\n                  3.1910e+00, -2.1191e-01,  4.7861e+00,  2.8974e+00,  4.6055e-01,\n                 -6.3148e-01, -2.6274e+00, -7.6356e-01,  5.3194e-01,  8.0723e-01,\n                  1.6666e+00,  3.4692e+00,  1.4749e+00, -1.7007e+00, -1.3502e+00,\n                  5.8824e-01,  2.5829e+00, -3.6680e+00,  3.3187e+00,  3.8330e-01,\n                  2.6527e+00,  1.1162e+00, -2.0209e+00, -5.6392e-01,  3.6208e+00,\n                 -7.9765e-02, -1.4518e+00,  6.6031e-01,  1.3649e+00,  2.4770e+00,\n                 -1.7007e+00,  1.2545e+00,  1.9546e+00, -1.8372e-01, -5.4925e-01,\n                  1.7253e-01, -2.0561e+00, -1.1922e+00, -1.8779e+00]])           ,\n        nan,\n        tensor([[-1.4221e+00,  2.7036e+00, -1.1581e+00, -9.0774e-01, -2.8508e-01,\n                 -6.8136e-01,  1.6336e+00, -2.5735e+00,  2.8997e+00,  4.3535e-01,\n                  1.1274e+00, -6.8586e+00,  2.2528e-01,  5.4104e-01,  2.7765e+00,\n                  2.7103e+00,  5.6174e-01,  2.8922e+00,  8.6495e-01, -1.0527e-01,\n                 -9.2539e-01,  1.2048e+00, -2.2791e+00,  1.5654e+00,  5.4926e+00,\n                  2.5925e+00,  8.5367e-01, -3.3497e+00, -1.3298e+00, -1.4661e+00,\n                 -3.2368e+00,  2.5095e+00, -2.6385e+00,  2.9565e+00,  6.4016e-01,\n                 -8.7009e-01,  2.5264e+00,  3.3039e+00,  1.1219e+00, -9.9358e-01,\n                  3.3452e+00, -4.6314e-01, -2.5434e+00, -5.1110e-01, -1.0303e+00,\n                  7.3992e-01, -1.2864e+00, -2.2447e+00,  1.3415e+00,  2.2595e+00,\n                  2.0457e+00, -1.7922e+00, -8.8784e-01, -1.1086e-01,  3.8482e+00,\n                  2.5119e+00, -1.2912e+00, -1.6320e+00, -2.8396e+00, -3.4132e+00,\n                  6.5772e-01,  2.6528e+00,  2.1364e+00, -3.9286e+00, -1.7231e+00,\n                  8.2566e-01, -3.5655e+00,  3.2163e-01,  2.1234e-01,  1.4625e+00,\n                 -1.6636e+00,  4.0739e+00,  1.6165e+00, -1.5139e+00, -1.3567e+00,\n                 -3.3645e+00,  2.6515e+00, -2.6404e+00, -3.4013e+00,  1.4439e+00,\n                 -2.3247e+00, -3.1985e+00,  1.3350e+00,  3.2127e+00,  3.5044e+00,\n                 -6.7134e-01, -2.5177e+00, -3.2695e+00, -1.1574e+00, -2.2476e+00,\n                  1.4654e+00, -6.8216e-01, -7.0091e-02, -2.2744e+00,  1.6973e+00,\n                  1.9340e+00, -8.8775e-01, -1.5809e+00,  3.5471e-01,  2.9096e+00,\n                 -4.0590e+00,  3.0644e+00,  8.2332e-01, -7.4587e-01, -4.1772e+00,\n                  2.4188e+00,  2.8779e+00, -5.8415e+00,  6.1697e-01,  6.1948e-01,\n                  1.6690e+00,  4.0963e+00,  1.2444e-01,  1.8688e+00,  2.0186e+00,\n                  6.5652e+00,  5.0480e+00, -1.2673e+00, -1.9405e+00,  2.0129e+00,\n                 -3.9880e-01, -1.5595e+00,  1.3916e-01, -3.2017e+00, -2.8659e+00,\n                 -1.7272e-01, -7.9805e-01,  6.3889e-01,  1.7257e+00,  3.7888e-01,\n                  1.7851e+00,  3.0201e+00, -1.7037e+00, -1.6753e-01, -4.9666e+00,\n                  3.0796e-01, -2.1348e+00, -4.2785e+00, -5.3388e-01, -3.5430e+00,\n                  1.1856e+00,  2.7431e+00, -4.4881e+00,  9.0765e-02, -1.1128e+00,\n                  4.0979e+00,  1.8734e+00,  9.9028e-01,  2.9005e+00,  8.3568e-01,\n                  2.6730e+00,  1.7898e+00, -7.9441e-01, -5.7124e-01, -3.8247e-01,\n                 -4.0682e+00,  6.0848e+00,  2.6445e-01,  1.8930e+00,  4.3986e+00,\n                  1.0473e+00, -1.2692e+00, -8.9844e-01, -8.7393e-01, -2.7547e+00,\n                 -3.2643e+00,  4.2794e+00,  2.2538e+00,  4.4736e+00,  2.1911e+00,\n                 -5.3233e+00,  2.6319e-01, -5.6784e-01,  3.3423e+00,  2.8914e-01,\n                 -3.5741e+00, -3.9721e+00, -2.9343e+00,  1.6523e+00,  2.6285e+00,\n                  1.0745e+00,  1.7892e+00, -4.9250e+00,  2.2077e+00, -2.7256e+00,\n                  5.6618e+00, -3.6441e-01,  5.5923e+00, -1.1067e+00,  4.1779e+00,\n                 -1.6008e+00, -3.9802e+00, -1.1412e+00,  1.1410e+00,  9.3635e-01,\n                 -2.9252e-01,  8.6291e+00, -1.5072e+00, -1.5688e+00, -5.3221e-01,\n                  3.1868e+00,  4.3401e-01,  3.8005e+00,  1.9850e-01,  1.3092e-02,\n                 -1.0499e+00, -6.7049e-01, -5.3613e-01, -8.0624e-01, -5.7563e-05,\n                  1.5143e+00,  2.3400e-01, -9.3788e-01,  2.8502e+00,  4.0147e-01,\n                  7.8178e-01,  5.4103e+00,  2.9325e+00, -3.4096e+00, -5.3106e+00,\n                  2.5063e+00,  1.5006e+00, -1.8096e+00,  2.4886e+00,  5.9451e-01,\n                  1.2452e+00, -2.1920e-01, -1.4003e+00, -4.2494e+00, -2.3734e+00,\n                 -2.7619e+00,  2.4787e+00,  4.5723e+00, -2.1126e+00,  1.5732e-01,\n                 -5.8894e-01,  1.7302e-01, -6.2317e+00,  5.7089e-01,  4.5006e+00,\n                  2.1735e+00,  3.1032e-01, -3.6286e+00,  6.6620e-01,  4.1195e+00,\n                 -3.7782e+00, -3.0724e+00, -1.4180e-01, -4.9195e+00, -4.9796e+00,\n                  5.0121e+00,  1.1918e+00, -2.4631e+00, -5.2364e-01, -1.1578e+00,\n                 -1.4707e-01,  9.8213e-01,  2.5429e+00,  1.3439e+00, -2.3586e+00,\n                  2.8851e+00, -1.8026e+00,  2.2319e+00, -1.1161e-01,  2.0061e-01,\n                 -4.8731e+00, -2.3447e-01,  1.8699e+00, -5.2363e+00,  3.1462e+00,\n                 -8.6290e-01, -5.9532e+00, -3.5024e+00,  1.7747e+00,  1.1274e+00,\n                  9.8309e-01,  2.3752e+00, -1.6742e+00, -2.4435e-01, -2.5981e+00,\n                 -1.2041e+00,  2.2155e+00, -2.7249e-01,  1.9817e+00,  4.8310e+00,\n                 -5.7471e-01, -1.6873e+00,  1.4090e+00,  1.9898e+00,  2.3216e+00,\n                 -5.0486e+00, -8.1620e-01, -2.0674e+00,  7.1913e-01, -3.1153e+00,\n                 -5.8366e-01,  5.9110e-01,  1.0503e+00, -2.1255e+00, -2.2781e+00,\n                 -2.6751e+00,  2.8411e+00, -5.1489e-01, -4.0309e+00,  1.1497e+00,\n                  1.1018e+00,  1.0642e+00, -1.9700e+00,  8.6214e-01, -1.7458e+00,\n                 -3.5029e+00,  3.1522e-01,  2.7837e-01, -3.9736e-01, -1.8118e+00,\n                 -1.3915e+00,  3.8848e+00, -2.2942e+00,  3.5021e-01,  5.6998e-01,\n                  5.2814e-01,  6.7737e-01,  9.7478e-01,  1.0121e-01,  6.4881e+00,\n                  5.4488e-01, -4.5747e-01,  1.0008e+00,  2.5726e+00, -2.2180e+00,\n                  1.6048e-01,  2.3777e+00,  7.5631e-01, -1.0776e+00,  8.4083e-01,\n                 -2.1490e-01,  2.8937e+00,  6.5153e-01,  7.2346e-01, -7.1529e-01,\n                  1.4797e+00,  1.3538e+00,  3.1690e+00,  4.0995e+00, -3.4413e+00,\n                  2.8601e+00, -5.7026e-01,  2.9442e-01, -1.6221e+00, -5.1040e-01,\n                 -3.4316e+00, -2.9165e+00, -1.9734e+00,  8.6525e-01, -6.3827e-01,\n                 -3.4176e+00,  3.6332e+00,  1.2314e+00, -1.0220e+00,  3.8241e-01,\n                 -7.9270e-01, -1.4465e+00,  1.2346e+00,  2.1883e+00, -2.0479e+00,\n                  7.3600e-01, -1.1524e+00,  4.9254e-01,  6.8220e-01, -7.0282e-01,\n                  1.3064e+00, -1.2200e+00, -1.2317e+00, -3.6809e-01, -1.1355e+00,\n                  1.4528e+00, -2.8931e+00,  1.5649e+00, -1.3415e-01,  1.3739e+00,\n                 -1.0012e+00, -2.9266e+00, -7.0011e-01, -3.6892e-01]])           ],\n       [tensor([[ 1.1999e+00,  1.9961e+00,  2.2646e+00,  2.4017e+00,  1.1765e+00,\n                 -3.3317e+00,  3.2247e+00, -1.5111e+00,  4.5087e+00, -1.8951e+00,\n                  2.0738e+00,  2.0325e+00, -3.6422e+00, -2.6656e+00,  3.2932e+00,\n                  1.9363e+00, -5.3303e-02, -2.4966e-01,  6.7580e-02,  1.0070e+00,\n                 -6.7976e+00,  3.9475e+00, -1.9009e+00,  2.4477e+00,  1.5174e+00,\n                 -1.2947e+00, -2.0689e+00, -6.0174e-01,  2.2063e-01,  1.5190e+00,\n                 -2.7648e+00,  4.2800e+00,  3.2939e-01, -1.3424e+00, -4.2816e+00,\n                 -9.4445e-01, -3.1148e-01, -4.8362e-03, -8.1648e-01, -9.8186e-01,\n                  7.2956e-02, -2.0592e+00, -1.7784e+00,  4.2883e+00,  3.3217e-01,\n                 -2.4388e+00, -2.6009e+00, -1.7533e+00,  2.8902e+00,  3.0566e+00,\n                  4.0417e+00,  3.1376e+00, -7.7238e-01, -2.3917e+00,  1.1689e+00,\n                  4.0093e+00,  2.1728e-01, -8.2358e-01, -3.3155e+00, -3.7855e-01,\n                  3.1581e+00, -1.0436e+00, -5.0397e-01, -2.8965e+00, -8.3171e-01,\n                  2.8493e-01,  2.3799e+00, -4.1375e+00,  1.6782e+00,  7.7954e-02,\n                 -3.3494e-01,  1.5377e+00,  2.1346e+00, -5.2083e-01, -3.1662e+00,\n                  6.2882e-01, -1.2246e+00, -2.8495e+00, -2.5130e+00, -5.3634e-02,\n                 -3.1698e+00,  2.7073e-01, -3.8881e+00, -6.2687e-01, -2.6092e+00,\n                 -2.5577e+00,  3.2572e+00, -2.3887e+00,  2.6696e+00,  2.0979e+00,\n                  3.9152e+00,  3.4934e+00,  5.6493e+00,  1.4367e+00, -1.4017e+00,\n                  1.3929e+00, -2.3824e+00, -3.1896e+00,  1.5390e+00,  2.3451e+00,\n                 -1.1881e+00,  3.9262e+00,  2.2385e-01, -3.6165e+00,  1.6670e-01,\n                 -2.6773e+00, -2.2392e+00, -2.8665e+00,  4.7807e+00, -1.6880e+00,\n                  8.8946e-01, -5.0704e+00, -1.5597e+00,  1.4186e+00, -1.1054e+00,\n                  1.4311e+00, -1.2423e+00,  1.5521e+00,  1.6947e+00,  2.9188e+00,\n                  2.7876e+00, -5.6355e-01,  1.2693e-01,  1.2517e-02,  3.9550e+00,\n                 -1.9664e+00,  2.8020e+00, -2.8898e-01, -1.2542e+00,  2.1093e+00,\n                  3.4402e-01,  1.7225e+00, -1.0995e+00, -4.3268e+00, -1.9208e+00,\n                 -1.7713e+00, -7.3692e-01,  1.0815e+00, -8.0346e-01, -2.2126e-01,\n                 -7.2515e-01,  3.5938e+00, -5.4788e-02,  9.8869e-01, -5.7349e+00,\n                  5.4593e+00,  9.9443e-01,  3.9146e+00,  4.3679e+00,  1.2313e+00,\n                  1.4882e+00, -2.3311e+00,  1.8588e+00,  6.6531e-01,  1.0534e+00,\n                 -3.2492e+00,  2.8878e+00, -8.8932e-01, -1.8236e+00, -1.1229e+00,\n                  3.2834e-01,  7.0438e-01,  5.3229e-01, -3.0150e+00, -3.9473e+00,\n                  9.3614e-01,  2.1363e+00,  3.0884e+00,  2.7036e+00,  1.4298e+00,\n                 -8.2229e-01,  2.4830e+00, -3.1317e+00,  3.7064e+00, -1.8593e-01,\n                  1.4042e+00,  2.6508e+00,  1.2133e+00, -1.1290e+00,  5.4579e+00,\n                  1.9737e+00,  1.1812e+00, -5.4325e+00,  1.7654e+00, -3.5802e-02,\n                  1.6716e+00, -7.2318e-01, -7.5229e-01, -7.4299e-01,  4.8694e-01,\n                 -4.4784e+00, -3.9857e+00,  4.9280e+00,  2.4620e+00,  6.4833e-01,\n                  1.4106e+00,  6.2909e+00, -1.9680e+00, -1.3121e+00, -1.1769e-01,\n                  1.0156e+00,  1.5727e+00, -2.2985e-02,  1.9860e+00, -2.3537e+00,\n                 -1.0267e+00, -3.7793e+00, -2.2319e+00, -2.9376e-01, -4.3143e+00,\n                 -2.5533e+00, -2.2737e+00, -5.4362e-01,  3.3165e+00, -2.2113e+00,\n                  7.8588e-01,  2.3234e+00, -2.3912e+00, -1.6406e+00, -1.7741e+00,\n                  9.6351e-01, -3.3168e+00,  2.8674e-01, -1.2603e+00, -3.2477e-01,\n                  3.0825e+00,  2.1101e+00, -1.3997e+00, -6.2588e+00, -2.3898e+00,\n                 -1.2149e-01,  3.8324e-01, -2.1770e+00, -1.8087e+00, -6.6881e+00,\n                  2.3205e-01,  5.5179e-01, -1.6651e+00, -3.8485e+00,  5.3340e-01,\n                 -6.7801e-01,  5.2292e-02,  4.8074e-01, -4.5962e+00, -1.2769e+00,\n                 -1.9818e+00,  1.8895e+00, -1.0408e+00, -1.9349e+00, -3.5650e+00,\n                  1.5265e+00,  1.1975e+00, -5.7087e-01, -2.0941e+00, -2.0472e+00,\n                 -1.6871e+00, -7.4659e-01,  4.6555e+00,  7.9248e-01,  4.4460e+00,\n                  1.1349e+00, -1.5291e+00,  2.4938e+00,  1.3446e+00, -8.0963e-01,\n                 -2.0041e+00,  1.5264e+00,  4.2014e+00,  2.0551e+00,  1.4474e+00,\n                 -1.7108e+00,  3.7515e+00, -3.2207e+00,  2.1813e+00, -1.1968e+00,\n                  1.2613e+00, -3.7738e-01, -2.4650e-01, -1.7114e+00,  3.3559e+00,\n                 -4.0426e+00,  1.5049e+00, -2.0542e+00,  2.1371e+00,  5.1715e+00,\n                 -6.6185e-01, -2.3885e+00,  1.8804e-01,  1.6681e+00, -9.1949e-01,\n                 -6.6921e-01, -3.1862e+00, -2.7458e+00, -3.6057e-01, -6.6895e+00,\n                  4.9751e+00,  1.8397e+00, -2.4948e+00, -3.6010e+00,  1.2026e+00,\n                 -6.2282e-01, -9.5541e-01,  4.5992e-01, -1.6421e+00,  1.5733e+00,\n                  6.5520e+00,  3.2866e+00,  5.1596e-01, -2.1273e+00, -2.0976e+00,\n                 -3.1549e+00, -1.5045e+00, -4.6972e+00,  4.8392e+00,  1.2005e+00,\n                 -1.6620e+00,  5.4104e+00,  2.8058e+00, -2.7778e+00,  9.7722e-01,\n                  1.5192e+00,  5.0190e+00, -1.6512e+00,  5.5070e+00,  3.1439e+00,\n                 -1.9055e+00,  5.2760e-01, -7.2858e-01,  3.3773e+00, -9.5972e-02,\n                 -3.6970e+00,  5.4929e+00,  2.1780e+00,  1.9788e+00,  1.7201e-01,\n                 -2.0136e+00,  6.0889e-01, -2.9949e-02,  1.1377e+00, -1.8186e+00,\n                 -4.7411e-01,  1.6967e+00,  5.6594e-01,  2.6239e-01,  1.8414e+00,\n                 -2.5277e+00,  9.7660e-01, -3.6075e+00,  2.2415e+00, -1.3588e+00,\n                 -3.0203e+00, -4.4522e+00, -1.3356e+00,  1.8365e-01,  1.1041e+00,\n                 -6.1230e-02,  1.5809e+00, -4.3929e+00,  4.5057e+00, -1.8860e+00,\n                 -1.5463e+00,  5.0566e-01,  1.9366e+00,  4.3373e+00, -3.1254e+00,\n                 -2.6662e+00, -1.1614e+00,  3.4006e+00, -8.7338e-01, -1.2596e+00,\n                 -1.2304e+00, -4.6890e+00, -1.9466e+00,  3.1379e-01, -1.5406e+00,\n                 -1.1775e+00, -1.2876e+00,  9.4325e-01,  7.2696e-01, -2.3803e+00,\n                 -6.3987e-01,  1.6100e+00,  6.0342e-01,  3.8130e+00]])           ,\n        tensor([[ 1.4631e+00, -3.8489e-01,  6.1723e-01,  3.0572e-01, -2.2659e-01,\n                  1.8081e+00,  3.7896e+00, -3.1556e+00, -2.8959e+00, -3.9465e-02,\n                 -2.8873e+00, -1.0144e+00, -4.6479e+00, -8.4419e-02,  4.3445e+00,\n                 -2.3094e+00, -2.0493e+00, -1.6647e+00,  7.7079e-01,  7.2864e-01,\n                 -5.8305e+00,  3.3333e+00,  1.4366e+00, -1.9444e-01, -9.5958e-01,\n                 -3.7927e+00,  4.8531e-01,  3.9075e-01, -1.7155e+00,  4.0637e+00,\n                  4.2533e-01,  2.5411e+00, -7.5548e-01,  4.5682e+00,  2.4129e-01,\n                 -6.7845e-01,  1.9839e+00, -2.2227e+00,  2.9302e+00,  2.2696e-01,\n                 -1.6029e+00, -4.8126e+00, -1.4180e+00, -3.7171e+00, -3.1001e+00,\n                 -1.4439e+00,  2.4228e+00,  2.9074e+00,  8.7022e-01, -2.1056e+00,\n                 -2.2638e+00,  6.9054e-01,  2.5480e+00,  1.7248e+00,  2.8863e+00,\n                  2.2721e+00, -2.7481e-01, -7.2793e-01, -7.7802e-01, -2.4384e+00,\n                 -5.1537e-02,  6.6309e-02, -5.2113e+00, -1.2778e+00, -3.3036e+00,\n                  2.4198e+00,  3.7226e+00,  2.9798e+00, -1.6313e-01,  3.5467e+00,\n                  4.0047e+00,  1.8799e+00,  9.2867e-01, -3.2783e-01, -1.7587e+00,\n                  2.0135e+00,  1.1260e+00,  6.8794e-01, -2.0973e+00,  6.2655e-01,\n                  8.1825e-02,  3.2598e-01, -1.7826e+00, -1.2034e-01, -9.4479e-01,\n                 -3.0116e+00, -7.8684e-01, -9.8827e-01, -7.6439e-01, -4.3740e+00,\n                  2.2383e+00,  2.9586e+00, -2.3864e+00,  8.0036e+00, -5.0833e-01,\n                 -9.1203e-01,  2.9888e+00,  3.4653e-01, -3.4657e+00,  1.6635e+00,\n                 -3.1369e+00,  2.9087e+00, -3.2095e-01, -1.9846e-01, -1.9290e+00,\n                 -1.8728e+00,  1.6183e+00, -2.8370e+00, -1.8719e+00, -3.6925e+00,\n                  1.7037e+00, -3.6207e+00, -4.3171e+00,  1.1329e+00, -4.0171e+00,\n                  1.2450e+00,  2.1557e+00, -5.3722e+00,  1.1222e+00,  4.5896e+00,\n                 -3.5866e+00,  1.5861e+00, -6.7357e-01, -2.4810e+00,  1.9178e+00,\n                  1.0322e+00,  4.2476e+00, -1.6949e+00, -1.8361e+00,  8.5838e-01,\n                  1.2745e-01,  1.6218e+00,  2.8910e+00,  1.3264e+00,  9.4147e-01,\n                  7.8339e-01,  8.1588e-01,  1.2173e+00,  2.7689e+00, -7.4212e-01,\n                 -2.0512e+00, -3.6194e+00,  1.0461e+00, -3.7867e+00, -3.5573e-01,\n                  9.0946e-02,  1.9781e+00,  2.4554e+00,  1.9537e+00,  3.1433e-01,\n                  3.6248e-01, -1.4893e+00, -3.6661e-01,  1.5392e+00,  4.0033e-01,\n                 -6.9399e-01,  2.2655e+00,  3.1510e+00,  6.3474e-01, -2.2360e+00,\n                  3.5561e+00,  2.6294e+00,  2.0993e+00, -2.0022e+00, -2.2157e+00,\n                  3.1713e-01, -1.7754e-01, -3.8944e+00,  7.2631e+00, -3.5967e+00,\n                 -2.2976e-01,  1.9144e+00, -2.1659e+00, -2.6031e-01,  1.0265e+00,\n                 -1.5544e+00, -2.1393e+00, -2.7418e+00,  1.2569e+00,  2.1721e+00,\n                  1.5530e-01, -1.2297e+00, -3.6724e+00,  3.0269e+00, -1.5308e-01,\n                 -5.6960e-01, -3.3432e-01, -2.2640e+00, -1.8654e+00,  1.8136e+00,\n                 -2.2272e+00, -4.8899e+00,  3.9350e+00, -1.9847e+00, -4.2727e-01,\n                  4.4481e-01,  6.4327e+00, -2.8036e+00, -1.2869e+00,  2.9421e+00,\n                  1.4076e+00,  4.5374e-01, -2.0421e+00,  2.6860e+00,  2.7872e+00,\n                 -8.3305e-02, -1.7799e+00,  1.7687e-01, -3.3555e-02,  1.0881e+00,\n                 -3.2141e+00,  4.5033e-01,  2.0731e-01,  3.7324e+00,  2.3753e-01,\n                 -1.7749e-01,  7.1122e-01,  5.6363e+00,  2.1648e+00, -2.7349e+00,\n                  2.7357e+00,  2.8275e+00,  3.0180e+00,  1.3731e+00,  3.4188e-01,\n                 -2.3129e+00,  1.3568e+00,  8.4310e-01, -2.8964e+00,  2.2008e+00,\n                 -1.0714e+00, -1.1732e+00, -3.6775e-01,  1.7995e+00,  4.3604e+00,\n                 -3.4633e+00, -1.4837e+00,  1.5493e+00,  6.1521e+00,  1.4222e+00,\n                 -1.0641e-01,  4.6695e+00, -2.7630e+00, -2.2237e+00,  1.3428e+00,\n                 -5.0402e+00, -2.1436e+00, -1.1155e+00,  1.1506e+00, -5.0496e+00,\n                  2.4330e+00, -7.0146e-01,  2.5162e+00, -1.5842e+00, -4.4726e+00,\n                  9.6577e-02,  1.8260e-01,  1.9158e+00,  1.6565e-01,  5.4866e-01,\n                  2.1990e+00, -2.4702e+00,  9.6395e-01,  1.4870e+00,  1.7777e+00,\n                  1.9008e+00,  1.7800e+00, -2.2300e+00, -3.6264e+00,  6.4911e-01,\n                 -1.0936e-01, -4.0616e+00,  4.1969e-01,  1.0349e+00,  1.1377e-03,\n                 -9.4748e-01, -1.1378e+00, -2.1968e+00, -5.4015e-01,  4.0946e+00,\n                 -3.5114e+00,  2.8096e+00,  2.0783e+00, -3.4173e+00, -1.4142e+00,\n                  2.8344e+00,  1.7409e+00, -2.1287e+00,  8.8124e-01,  1.2702e+00,\n                 -6.5056e+00,  7.5592e-01,  1.8504e+00,  1.5864e-01,  6.5681e-02,\n                  2.3383e+00,  9.1322e-01, -4.0431e+00,  4.1735e+00, -9.2269e-01,\n                 -8.0844e-01, -1.9213e+00, -6.1508e-01, -1.1152e-01,  2.2412e+00,\n                 -3.0205e+00, -2.5362e+00, -9.0304e-01,  3.0094e+00, -1.1167e+00,\n                 -2.5552e+00, -1.2783e+00,  1.9232e+00, -1.9437e+00,  5.9525e-01,\n                 -7.4558e-01,  4.2048e+00,  1.8437e+00, -8.0433e-01, -2.6316e+00,\n                 -2.2398e+00, -6.5458e-01, -1.4658e+00, -8.7596e-01, -2.3065e+00,\n                  1.0098e+00,  4.6351e-01, -1.0328e+00, -9.4691e-01, -1.8262e+00,\n                 -3.8161e+00,  2.7200e+00, -5.5931e-01,  1.2650e+00,  3.1777e+00,\n                 -2.9570e+00,  3.5837e+00, -2.6582e+00,  1.7814e+00,  2.3314e+00,\n                  2.1712e-01,  2.2737e+00, -6.8113e-01,  1.6357e+00,  1.1140e+00,\n                 -3.2362e+00,  8.6498e-01,  2.2011e+00,  6.1005e-01, -7.6673e-01,\n                 -1.9177e-01,  4.6407e+00, -1.6975e+00, -1.3366e+00, -2.7303e+00,\n                 -2.4575e+00,  3.2917e+00,  2.0804e+00,  1.9946e+00,  7.0700e-01,\n                 -3.4952e+00, -2.0914e+00, -6.2795e-02, -4.4795e+00, -2.9134e+00,\n                 -5.9896e-01,  3.7351e+00, -1.4588e+00, -4.8856e-02, -2.1535e+00,\n                  1.9669e+00,  3.7399e+00, -2.5740e+00,  3.9006e+00,  5.1761e-01,\n                 -5.0041e-01, -4.7217e+00, -1.8569e+00,  2.6841e+00, -4.0556e-03,\n                 -1.5941e-01,  3.5725e-01, -3.0672e+00, -6.2747e-02]])           ,\n        tensor([[ 4.6151e+00,  1.2956e+00, -6.3589e+00, -2.4220e+00, -1.6835e-01,\n                  1.7827e-01,  3.3470e+00, -3.2067e+00, -1.5320e+00,  9.0990e-01,\n                 -5.3077e-01, -1.0723e+00,  1.1132e+00,  8.0417e-01, -1.4376e+00,\n                 -5.9819e-01,  7.9306e-02, -1.8312e+00,  3.0239e+00,  1.5811e+00,\n                  3.1357e-01, -2.3322e+00,  3.0972e+00,  1.1438e+00,  4.6710e+00,\n                 -1.4342e+00, -1.2333e+00,  8.0280e-01,  8.3683e-01, -9.2432e-01,\n                  1.1231e-01,  2.9185e-01, -6.6425e+00, -1.2281e+00,  4.0185e+00,\n                 -1.2450e+00, -1.8439e-01,  2.3278e+00,  5.8922e-01,  3.3628e+00,\n                 -1.1665e+00,  1.6623e+00,  2.6664e-01, -2.7953e+00, -8.5822e-01,\n                  2.4163e-01, -1.2184e+00, -3.8197e-01,  3.2313e+00,  1.5153e-01,\n                  1.5232e+00,  4.5265e+00, -1.2698e+00, -9.9708e-01,  1.0119e+00,\n                 -2.8533e-02, -3.2386e+00, -9.9690e-01,  1.2979e+00,  9.3717e-01,\n                  8.3382e-01, -2.8212e+00, -4.4536e+00,  3.2310e+00,  7.9445e-01,\n                 -2.8712e+00,  1.1169e+00, -3.6033e+00,  5.2933e+00,  6.8630e-01,\n                 -1.5404e+00,  3.2309e-02,  8.8261e-01,  2.4158e+00, -3.5270e+00,\n                 -1.5678e-01,  5.1790e+00,  2.2696e+00, -3.0216e+00,  8.7195e-01,\n                  1.2956e+00, -6.6578e-01,  3.4370e+00,  3.0996e+00,  1.4814e+00,\n                  5.2182e+00,  3.8982e+00,  1.9014e-01,  3.9444e+00, -5.0419e+00,\n                 -1.0294e+00,  2.1748e+00, -3.7739e+00, -2.1423e+00,  3.9999e+00,\n                  2.7961e+00, -5.5664e-01,  1.5323e-01, -1.0282e+00,  5.6252e+00,\n                 -2.5946e+00, -2.5308e+00,  4.1612e+00, -1.7110e+00, -2.2066e+00,\n                 -1.6624e+00, -4.0545e+00, -2.9903e+00,  5.2408e+00,  1.2007e+00,\n                  1.0337e+00, -4.2583e-02,  2.6969e+00, -1.5977e+00, -5.7632e-03,\n                 -1.0874e+00,  2.0387e+00,  1.1747e+00, -3.9128e-01, -2.7939e+00,\n                 -4.1173e-01, -1.0614e+00,  7.4488e-01, -3.3118e+00,  4.0582e-01,\n                  2.2772e+00,  2.3394e+00, -1.4982e+00, -3.8726e+00,  4.7977e+00,\n                  3.1457e+00, -5.1494e+00, -3.4974e+00, -3.9744e+00, -4.3446e-01,\n                  4.7877e-01, -2.5946e+00, -2.4805e+00,  2.0433e+00,  1.4956e+00,\n                  9.5959e-01, -1.5413e+00,  1.9282e+00, -1.1314e+00,  8.4308e-01,\n                 -1.5037e+00,  1.1284e+00, -2.7390e+00, -2.4043e+00,  1.6987e+00,\n                 -7.1380e-01,  1.5697e+00,  5.6211e+00,  1.8493e+00, -6.5792e-01,\n                 -5.8991e-01,  1.2852e-01,  1.7791e+00,  5.8143e+00,  4.4790e+00,\n                  7.9898e-01, -4.4667e+00,  3.4697e+00, -4.3384e+00, -3.2527e+00,\n                 -3.4823e+00,  5.4424e+00,  7.2630e-01,  3.3728e+00,  2.1489e+00,\n                 -2.9668e+00, -2.1023e-01,  1.4953e+00,  2.0862e+00,  7.6751e-01,\n                 -2.0242e+00, -1.8681e-01, -3.3092e+00, -2.4253e+00,  3.7235e+00,\n                 -1.1848e-01,  2.7676e+00,  6.0215e-01,  6.3570e-01, -2.3942e+00,\n                  1.1924e+00,  1.8288e+00,  4.2314e+00, -2.8164e+00, -4.4834e-01,\n                 -1.3658e+00,  5.6010e-01,  7.2999e-01,  1.3468e+00, -3.0356e+00,\n                  1.7244e+00, -1.6966e+00,  4.1994e+00,  1.2970e+00, -2.3089e-01,\n                  5.3989e-01,  1.8490e+00,  2.3311e+00,  2.6438e+00,  1.3278e-01,\n                 -4.2075e-01, -1.8850e+00,  1.2913e+00, -3.2681e+00,  1.9936e+00,\n                 -3.8126e+00, -3.2229e-01, -2.1505e+00,  2.3902e-02, -4.2499e+00,\n                  7.6684e-01,  2.8051e+00,  1.6763e+00, -3.3457e-01, -2.1580e+00,\n                 -1.1248e+00, -2.4220e+00,  3.0356e+00,  1.1941e+00, -5.8853e+00,\n                 -5.4022e+00, -9.6939e-01, -1.9534e-01,  1.0180e+00,  1.4219e+00,\n                  1.6441e+00, -7.1821e+00,  4.3853e+00, -2.0596e+00, -6.2975e-01,\n                 -1.1775e+00, -1.6681e+00, -5.8787e+00, -1.3645e+00, -2.4999e+00,\n                 -7.8397e-01, -7.6299e-01,  2.4820e+00, -3.2612e+00, -1.4125e+00,\n                  1.3382e+00,  1.3625e+00,  6.6537e-01, -4.4891e-01,  4.9232e-03,\n                 -1.1097e-01,  1.7985e+00,  1.4103e+00, -1.0943e-01, -1.8272e-01,\n                 -7.3595e-01, -3.4812e-01,  3.4474e+00, -2.7463e-01, -5.9209e-01,\n                 -2.0429e-01,  2.1748e-01,  2.0961e+00, -2.9971e+00,  7.8167e-01,\n                  4.9699e-01,  3.5455e+00,  7.4536e-01,  5.2088e+00, -3.0475e-01,\n                  2.8562e+00, -6.5972e+00, -4.0358e+00,  9.5790e-01,  1.7156e+00,\n                 -8.7852e-01, -1.5693e+00,  1.6822e+00,  6.4021e-01, -1.2134e+00,\n                  1.3150e+00,  2.7213e+00, -1.7992e+00,  1.8687e+00,  1.3490e+00,\n                 -4.5813e-01, -1.3893e+00, -3.3151e+00,  3.3438e-02, -3.8108e+00,\n                  3.9917e+00, -2.2687e+00,  1.1184e+00, -3.7708e+00,  3.0455e+00,\n                 -3.2055e+00, -2.7135e+00, -3.7917e+00, -6.9773e-02,  2.5339e+00,\n                 -1.1251e+00,  8.2170e+00,  5.6277e-01,  2.1302e+00,  3.8150e-01,\n                 -7.4839e-01, -6.7273e-01, -4.5505e+00,  1.4406e+00,  3.5351e-01,\n                 -3.2059e+00, -3.4748e+00,  1.3376e+00, -1.4128e+00,  1.0712e+00,\n                  9.4827e-01,  2.1393e+00, -4.2923e+00, -1.2051e+00, -1.8507e+00,\n                  3.9285e+00, -3.4129e-01, -2.1801e-01,  5.5913e+00, -1.6282e+00,\n                 -3.1373e+00,  1.8147e+00, -4.0982e-01,  1.8947e-01,  8.3352e-01,\n                  5.6992e-01,  5.2713e+00,  2.4596e+00,  2.1346e+00, -1.4926e+00,\n                 -2.7044e-01, -1.6891e+00,  1.5868e+00, -1.1348e-01, -1.8315e+00,\n                 -3.6861e+00, -1.6808e+00, -4.8525e-01,  1.3313e+00,  2.5064e+00,\n                  3.3072e+00,  9.2993e-01, -7.8198e-01, -2.7157e+00,  5.2403e+00,\n                  9.9540e-01, -3.2493e+00, -2.5953e+00,  1.3281e+00, -2.6469e+00,\n                  3.1519e+00,  2.6082e+00, -1.8688e+00, -5.8513e-02, -4.2729e+00,\n                 -9.2750e-01,  1.2614e-01, -4.0518e-01,  2.7849e+00, -2.9595e-01,\n                  2.3765e+00, -3.3714e+00, -3.3182e+00, -2.4415e+00,  1.4732e+00,\n                  6.2338e-01, -2.1016e-01, -1.9673e+00,  2.2930e+00, -1.3167e+00,\n                 -3.8170e+00,  3.9309e-01, -1.5359e+00, -2.2888e+00, -7.1776e-01,\n                  8.1607e-01, -1.4972e+00,  3.7845e+00, -1.9487e-03]])           ,\n        nan, nan],\n       [tensor([[ 3.1407e+00,  9.1453e-01,  1.5692e+00,  2.0380e+00, -1.5629e+00,\n                 -1.5009e+00,  2.3099e-01, -2.8971e+00,  4.5771e+00, -2.7024e+00,\n                  2.3919e+00,  1.5742e-01, -3.2476e+00,  1.1581e+00,  6.7399e+00,\n                  5.3144e+00, -1.6948e-01, -3.0961e+00,  7.3942e-01,  3.6175e+00,\n                 -2.2533e+00,  1.1232e+00, -1.3623e+00,  5.1540e-01,  1.4321e+00,\n                 -1.9798e+00, -3.6974e-01, -1.1747e-01,  6.4401e-01,  1.0243e+00,\n                 -5.2655e-01,  1.0676e+00,  2.6622e+00,  1.2387e+00,  1.1550e+00,\n                  7.7168e-01, -1.5677e+00,  8.5966e-01,  2.1495e+00,  6.9837e-01,\n                  7.3471e-01, -3.3168e+00,  1.1533e+00,  2.9380e+00,  7.1798e-01,\n                 -3.0331e+00, -2.8182e+00, -1.2439e+00, -1.9531e+00, -1.6606e+00,\n                  2.5722e+00,  6.0186e+00, -4.0391e+00, -3.3635e+00,  3.9331e+00,\n                  1.3358e-01,  4.3738e+00, -1.6589e+00, -3.6442e+00, -2.9245e+00,\n                  5.5431e-01,  2.1944e+00, -2.7568e+00, -1.8815e+00, -9.1788e-01,\n                  4.4812e+00,  1.2423e+00, -3.7506e+00, -1.2310e-01, -3.9907e-01,\n                 -5.1463e-01,  5.2061e-01, -1.2556e+00, -2.2090e+00,  1.8875e-01,\n                 -1.7483e-01,  3.4747e+00,  3.4206e-01,  2.7093e+00, -6.8448e-01,\n                 -3.9424e+00,  6.3414e-01, -1.5871e-01,  3.7517e+00,  3.1444e-01,\n                 -5.6137e+00, -1.5305e+00, -1.7742e+00, -1.7793e+00,  2.3673e+00,\n                  2.9975e+00, -8.4595e-01,  1.8324e+00,  3.6043e+00, -1.5502e+00,\n                 -3.3169e+00, -3.8673e+00, -1.2121e+00, -4.9487e-01,  1.6232e+00,\n                  4.8359e-01,  4.7607e+00,  1.1280e+00, -1.1895e+00, -1.3260e+00,\n                 -2.3832e+00, -5.8855e+00, -2.0430e+00,  2.7727e+00, -2.9547e-01,\n                  1.1701e+00, -1.4799e+00, -1.1644e+00,  1.6609e+00, -7.3800e-01,\n                  2.7387e+00,  2.0872e+00,  1.5989e+00, -1.7591e+00,  4.5199e+00,\n                  1.5661e+00, -2.9703e-03, -1.9883e+00,  1.8853e+00, -2.3461e+00,\n                  4.9733e-03,  9.8635e-01,  1.9136e-01,  1.2587e+00,  6.0910e-01,\n                  9.3580e-01, -5.2507e-02, -1.1697e+00,  1.0320e-01, -1.6845e+00,\n                 -4.0054e-01, -5.5667e-01, -1.0134e+00, -3.2067e-01,  8.9496e-01,\n                  2.1541e-01,  4.1684e+00, -1.0156e+00,  3.4572e+00, -1.9316e+00,\n                  3.5130e+00,  1.7899e+00,  1.2095e+00,  3.0862e+00, -1.6917e-01,\n                  1.8562e+00,  1.6270e-01,  4.9352e+00, -1.7437e+00, -9.0148e-01,\n                 -2.1393e+00,  4.8265e+00,  6.4720e-01, -8.9856e-01,  6.8115e-01,\n                 -1.7417e+00, -1.0327e+00,  1.2477e+00,  1.2767e+00, -2.2756e+00,\n                 -1.0347e+00,  1.3685e-01,  5.7777e+00,  1.2963e+00,  2.6776e+00,\n                  7.0970e-01,  2.1826e+00,  5.4349e-01, -5.8209e-01, -1.3431e+00,\n                  4.1620e+00,  2.1835e+00, -1.0311e+00, -1.5097e+00,  4.1464e+00,\n                 -3.5763e-06,  1.8433e+00, -3.8811e+00, -2.1216e+00, -4.8118e+00,\n                  5.7024e+00, -2.3853e+00, -2.3519e+00, -1.8114e+00,  1.1124e+00,\n                 -3.8295e+00, -1.7490e+00,  2.4017e+00,  7.0484e-01, -4.2782e-01,\n                  7.3596e-01,  7.9864e+00, -6.6332e-01, -3.1026e+00, -3.7681e-01,\n                  4.1064e+00,  2.2539e+00,  2.2038e+00, -1.8723e+00, -1.5768e-01,\n                 -2.0297e+00, -5.3122e+00, -3.2392e+00, -2.5445e+00, -3.8111e+00,\n                 -1.5599e+00, -1.3162e-01, -2.6755e-02,  3.8423e+00, -2.4103e+00,\n                  1.1384e+00,  4.5436e+00,  7.8528e-01, -2.4375e+00, -2.1370e+00,\n                  2.3855e+00, -4.7971e-01, -2.6676e+00, -2.0161e-01, -1.4972e-01,\n                  3.3021e+00,  3.2113e+00, -1.8101e+00, -5.1430e+00, -2.5936e+00,\n                  6.1168e-01, -3.1003e+00, -1.4061e-02, -2.7580e-01, -5.7781e+00,\n                 -2.3167e+00, -1.0854e+00, -3.0686e-01, -2.9183e+00,  2.1226e+00,\n                 -1.0059e+00, -2.1979e+00,  1.0137e+00, -2.8669e+00,  1.2313e+00,\n                 -6.3794e-01,  4.3036e-01,  2.3179e+00, -3.2079e+00, -1.4735e+00,\n                  1.6728e+00,  1.3217e+00, -2.9731e-01, -4.1005e-01, -1.2853e+00,\n                 -4.8366e+00, -9.0279e-01,  2.3630e+00, -1.1788e+00,  4.0953e-01,\n                  6.1796e-01,  1.4224e+00,  5.7293e-01,  1.2221e+00,  1.1179e+00,\n                 -2.7356e+00,  1.7139e+00,  5.5560e+00, -4.0546e+00,  1.5258e-01,\n                  4.5566e-01, -1.5817e-01, -1.8977e+00,  2.1409e+00, -1.9608e+00,\n                 -3.4304e-02,  5.7376e+00,  2.0161e-01, -1.0731e+00, -1.0715e+00,\n                 -3.1290e+00,  2.2763e+00,  1.1993e+00,  3.9491e+00,  1.1838e+00,\n                  2.5205e+00,  4.1351e-01,  1.1656e+00,  1.1153e+00,  5.8463e-01,\n                 -3.8196e+00, -6.9358e-01, -5.1517e+00,  9.7429e-01, -4.2273e+00,\n                  3.6583e+00,  1.2293e+00, -1.9019e+00,  2.9179e-01,  3.6677e+00,\n                  3.1469e-01,  1.9011e-01, -2.4577e+00, -2.6724e+00,  1.5893e-01,\n                  5.0070e+00,  3.6808e+00, -2.4270e+00,  7.7788e-01, -1.0561e+00,\n                 -5.9619e+00, -1.2627e+00,  2.9933e+00,  2.6395e+00, -1.0389e+00,\n                  1.3168e+00,  6.4696e+00, -6.0010e-01, -5.4322e-01, -2.5937e+00,\n                  6.1315e-01,  2.3839e+00, -1.4677e+00,  2.8433e+00,  5.2492e+00,\n                 -5.0191e-01, -4.1774e-01,  1.1353e-01,  8.8252e-01, -2.5469e+00,\n                 -5.9055e+00, -2.8331e-01,  1.0572e+00,  4.2494e-01,  5.0032e-02,\n                  2.4274e+00,  2.0324e+00,  4.2752e-01,  1.1579e+00,  6.9403e-02,\n                  6.8385e-01,  2.4081e+00,  3.7750e+00,  1.9827e+00, -1.7126e-02,\n                  2.6966e-01,  1.0560e+00,  3.7180e-01, -5.9198e-01,  4.4032e-01,\n                  5.1933e-01, -4.4020e+00,  8.0959e-02, -7.4277e-02,  2.0479e-01,\n                 -8.4019e-01, -8.1614e-02, -4.3750e-01,  2.5224e+00,  1.5003e+00,\n                 -1.1158e+00, -1.9463e+00, -2.5864e-01, -3.0425e+00, -3.7083e+00,\n                 -2.3815e+00, -1.4180e+00,  9.7271e-01,  7.5645e-01, -1.2183e+00,\n                  1.0698e+00, -6.7384e+00, -4.1129e-01, -6.2367e-01, -3.4651e+00,\n                  5.7710e-01, -2.5843e+00,  2.6240e+00,  8.2131e-01, -2.8392e+00,\n                 -7.3041e-01, -1.8553e+00, -1.2170e+00,  1.2532e+00]])           ,\n        tensor([[-4.0414e+00,  1.7433e-01,  3.4029e+00, -1.1334e+00, -9.0398e-01,\n                 -3.0613e+00, -4.0097e-02,  1.7888e+00,  1.6310e+00, -2.0163e+00,\n                 -3.0021e+00,  1.6583e+00, -2.0227e+00, -5.7462e+00,  2.0307e+00,\n                 -1.1136e+00,  1.0201e+00, -4.6556e+00, -8.1443e-01, -2.6756e+00,\n                 -1.7191e+00, -6.9362e-01,  2.4277e+00,  5.4999e-01, -1.9836e+00,\n                 -3.8704e+00,  1.6744e+00, -3.3727e+00,  2.5673e+00,  4.9188e-02,\n                 -4.1979e+00, -6.7894e-01, -1.3562e+00, -1.6043e+00, -5.0039e+00,\n                 -1.6178e+00,  1.7521e+00, -5.6685e+00, -1.9038e+00,  1.1249e+00,\n                 -1.3713e+00, -6.2138e+00, -3.2327e+00,  8.2988e-02,  4.7039e+00,\n                 -4.7773e-01, -2.0180e+00,  2.4589e+00,  4.8056e-01,  1.8559e+00,\n                  2.6575e+00, -1.1169e+00, -1.4602e+00, -4.3723e-01,  3.2492e-01,\n                 -4.7134e-01,  9.9633e-01,  1.0661e+00, -1.1355e+00, -5.5286e+00,\n                  3.6420e+00,  7.8693e-01, -2.2062e+00,  3.7715e+00, -2.8980e+00,\n                 -2.6253e+00,  5.4676e+00, -3.0590e-01,  1.7098e+00,  2.0730e+00,\n                 -1.2304e-01,  1.5937e+00,  1.3258e+00,  5.4411e-01,  8.3062e-01,\n                 -1.1029e+00,  1.5943e+00,  1.6947e+00, -5.7161e-01,  1.3181e+00,\n                 -2.8745e+00, -1.7797e+00, -5.8360e+00,  1.0228e+00, -3.2123e+00,\n                 -3.1887e+00,  2.0564e+00,  1.9138e-01,  3.8517e+00,  2.3204e+00,\n                 -1.3458e+00, -1.3833e+00,  1.0931e-01,  5.6135e-01,  1.3479e+00,\n                  2.0074e+00, -1.0070e+00,  2.4312e+00,  6.6523e-01,  3.4172e-01,\n                 -2.0298e-01, -5.4400e-01,  3.8829e-01, -2.2481e+00,  2.5262e+00,\n                 -1.5339e+00, -1.7368e+00,  2.0602e+00,  6.2420e+00, -1.0869e+00,\n                 -1.6354e+00,  4.1546e+00, -1.8876e+00, -5.6944e-01, -2.1773e+00,\n                 -6.0192e-01, -6.3828e-01,  3.3910e+00, -1.2196e+00,  3.5922e+00,\n                 -1.3750e+00,  5.3313e-01,  3.5544e+00, -2.0414e+00,  2.0123e+00,\n                  7.3290e-01,  2.0025e+00, -8.8028e-01,  1.0982e+00,  3.7625e-01,\n                  2.0668e+00, -3.2667e-03,  3.2789e+00, -2.3540e+00,  2.3596e+00,\n                 -1.8339e+00,  1.0245e+00, -1.9637e+00,  1.4394e+00,  2.3519e+00,\n                 -1.9216e+00,  3.6769e+00, -3.9065e+00,  2.4606e+00, -4.4470e+00,\n                  2.4178e+00,  3.3605e+00, -1.4237e-01,  4.1576e+00,  1.1296e+00,\n                  1.9058e-01, -2.8558e+00,  2.6810e+00,  5.9289e+00, -1.6928e+00,\n                 -3.8279e+00,  4.7963e+00, -1.8798e+00,  2.7031e+00,  3.0882e-01,\n                  1.0254e+00, -7.9335e-01, -1.8358e-01,  2.0673e+00,  1.1639e+00,\n                 -1.7179e-01,  1.6614e+00, -2.8213e-01, -1.9327e+00, -5.6652e+00,\n                 -2.5370e+00,  9.1398e-01, -2.1908e+00, -2.5655e-01,  9.1400e-01,\n                 -2.2454e+00,  2.2395e-01,  2.9108e-01, -8.0397e-01,  8.1836e+00,\n                  2.5400e+00, -9.2135e-01, -1.6559e+00,  1.7475e+00, -7.7440e-01,\n                  3.4963e-01, -9.8968e-01,  1.6739e+00,  3.6838e+00, -1.2863e+00,\n                 -2.7928e+00, -8.5209e-01,  3.9477e+00,  8.9584e-01,  5.0260e+00,\n                  1.6034e+00,  3.9686e+00,  8.9531e-01,  2.9706e+00,  2.9510e-01,\n                 -5.1760e-01, -8.0429e-01, -2.8554e+00,  9.8951e-01, -4.5275e+00,\n                 -4.9982e-01, -6.8139e-01,  8.4224e-01, -9.2754e-02, -1.7512e+00,\n                  3.1793e-01, -6.1917e+00,  1.5744e+00,  4.3022e-01, -1.0376e-02,\n                 -3.8192e+00,  5.5322e-02,  1.4465e-01,  2.8932e+00,  1.0934e+00,\n                  1.6511e+00, -3.1285e+00,  3.4281e-01, -1.8633e+00,  6.4518e+00,\n                  9.5078e-01,  1.1240e+00, -9.6234e-01,  3.7427e-01, -2.1650e+00,\n                  1.7252e-01,  8.2855e-01, -2.5661e+00, -2.4114e+00, -1.8803e+00,\n                 -1.8086e+00,  8.3488e-01,  5.5662e+00, -2.5987e+00, -1.7688e+00,\n                 -5.8464e-01,  7.1725e-01,  6.7073e+00,  1.1281e+00,  3.2738e+00,\n                 -3.7381e+00,  8.5327e-01,  3.5402e+00, -1.6414e+00, -1.6580e+00,\n                  2.2012e+00, -2.6752e+00, -7.9351e-01, -1.3943e+00, -4.1203e+00,\n                  1.0403e+00,  1.4578e+00,  6.4737e-01, -1.5957e+00,  2.1084e+00,\n                  4.6605e+00, -2.2148e+00, -1.2948e-01,  1.1809e+00, -1.5177e+00,\n                  2.0024e+00,  2.1621e+00,  3.2030e+00,  1.4857e+00,  7.6789e-01,\n                  8.7367e-01, -2.1700e+00,  4.3575e-01, -2.1270e+00,  3.3250e-01,\n                 -2.0847e+00, -2.8933e+00, -4.5022e+00, -1.2261e-01,  8.3089e-01,\n                 -1.3365e+00, -2.2097e-01, -5.8257e+00,  2.9029e+00,  5.0229e+00,\n                  8.7229e-01, -1.2984e+00, -5.2871e-01, -1.4678e+00, -2.6669e-01,\n                 -6.7811e-01, -5.1900e+00, -4.0990e+00, -5.4526e+00, -2.2142e+00,\n                  5.1532e-02,  8.4176e-02, -1.0685e-01, -1.1603e+00,  1.6751e-01,\n                 -3.5221e+00, -1.1546e+00,  9.0794e-01, -1.4453e-01, -3.4850e+00,\n                 -9.5494e-01,  1.6027e-01, -2.8441e+00, -5.9975e-01, -3.0435e+00,\n                  2.8674e+00,  2.6050e+00, -1.3699e+00,  5.1940e+00,  2.6491e+00,\n                  1.9387e+00,  2.4337e+00,  2.2180e+00, -3.7999e-01, -8.2830e-01,\n                  8.3411e-01, -4.8030e-01,  1.4792e+00, -1.7959e+00,  4.1077e+00,\n                 -1.7518e+00, -3.1340e-01,  5.3044e+00,  3.2557e-01,  1.6486e-01,\n                 -3.9609e+00, -8.6422e-01,  4.0871e+00, -2.1525e+00, -2.6131e+00,\n                 -5.2794e+00, -3.3694e+00,  1.1129e+00,  2.7818e+00,  3.6019e-01,\n                  1.0815e+00,  3.0684e+00,  4.0470e+00,  1.8784e+00,  1.2514e+00,\n                  2.9273e+00,  2.6673e-01, -3.8559e+00, -3.5374e+00, -4.2597e+00,\n                 -2.2070e+00,  3.9079e-02, -1.6973e+00, -7.6479e-01,  3.3545e+00,\n                 -1.5074e+00,  1.9081e+00, -6.5491e-01, -4.6429e-01,  1.4044e+00,\n                 -3.2168e-01,  1.7036e-01,  5.2489e+00,  3.2643e+00,  1.5353e+00,\n                  2.0987e+00, -4.8563e-02, -2.0973e+00,  1.0229e+00, -5.9245e+00,\n                  1.1104e+00, -1.2712e+00, -1.0780e+00,  2.9564e+00, -1.6729e+00,\n                 -2.4899e+00, -1.4626e+00,  1.3288e+00,  1.1867e+00, -1.9619e+00,\n                  1.1375e+00,  4.0354e+00, -3.0671e+00, -4.1234e-02]])           ,\n        tensor([[ 7.7586,  1.5065, -3.1287, -0.5012, -2.6903, -1.9139,  0.9911, -5.1361,\n                 -5.4535,  1.7047,  1.9665,  0.2715,  3.0602,  3.6464, -0.3409, -3.2708,\n                  1.2557, -0.1189,  1.6769, -0.2505, -1.5680, -1.6294,  1.7792, -1.8844,\n                  1.2693,  0.5536, -3.7750,  1.3954, -1.4682,  1.0764,  0.4515,  2.0728,\n                  2.0551, -3.1464,  2.9661, -1.9494,  2.4804,  1.7867,  0.5785, -0.0361,\n                 -1.9463, -0.0761,  0.2087, -0.2968, -2.3715, -0.4681,  0.4667, -1.1508,\n                  3.3924, -0.4094, -0.3762, -1.9650, -2.2441, -5.6337,  0.1693,  0.4094,\n                 -2.2859, -1.1159,  1.0264,  0.8619, -0.1714, -3.6186, -2.4446,  0.8965,\n                  2.0792, -5.4136, -1.3052, -3.0559,  2.8461,  1.0218, -2.2875, -0.2943,\n                  1.1654,  2.7103,  1.1196, -0.9583,  1.3272,  3.1973, -5.2847,  1.0406,\n                 -1.8835, -0.9043,  1.3905,  1.7947, -0.6828,  4.2380,  2.9767,  2.4848,\n                  1.7213, -2.7654, -1.5968,  2.4763, -3.6773, -1.7184,  1.0962,  0.8098,\n                  4.4511, -1.8839,  3.2956,  4.2127, -3.6111, -1.7715,  2.2372,  2.7392,\n                  0.5671,  0.1610, -2.8823,  1.0528,  1.4226, -0.1501,  1.2945,  1.8258,\n                  3.7382,  3.0610, -0.9576,  1.3255,  0.9798,  1.7196,  2.4737, -3.5482,\n                  1.1098,  1.2778,  1.0524, -2.3205, -1.1389,  1.0946,  2.7461, -5.2808,\n                  0.6453,  5.6616,  3.4858, -1.8277, -2.8103, -4.7390, -0.1189,  0.1265,\n                 -4.8306, -2.6818,  2.5400,  0.2975,  0.4891, -3.6966,  2.1438, -3.6807,\n                  3.4426, -4.0862,  0.3463, -2.4774, -1.5772,  2.8333, -1.8146,  2.6755,\n                  4.8965,  0.0235,  1.4684,  4.1044,  1.3501, -0.2150,  4.4592,  3.2234,\n                 -2.3379, -2.9413,  1.8133, -4.1712, -0.9572, -1.0449,  4.2834, -2.0597,\n                 -1.2871,  1.2374, -2.6347, -0.7653,  2.3777, -2.3932, -2.1268, -2.9860,\n                 -0.6032,  0.3342, -3.4802,  1.3995, -0.1001, -0.0535, -2.1007,  1.3661,\n                 -1.0327, -0.5456,  1.2332,  4.4485,  0.2245,  0.2234,  0.1404, -0.8151,\n                  4.4978, -0.8174, -1.2154,  1.5765,  3.8751,  7.7497,  2.6042,  0.4719,\n                 -1.3068,  1.1728,  1.5229,  4.1499,  1.4793, -0.4769, -1.5378, -0.2130,\n                 -1.2653,  2.7867, -5.5529,  0.1531,  0.8465, -2.8792, -1.3947,  4.2321,\n                  3.0184,  2.1460,  3.8595, -0.2075, -0.1317, -3.3850, -1.4001,  1.5050,\n                 -3.7754, -3.5901,  0.2570, -1.0608, -0.1921,  4.9741, -1.0827, -6.7549,\n                  0.0732,  0.5523, -2.3438, -1.9019, -2.7186, -5.9376, -2.4517, -4.5602,\n                 -1.5297,  0.1160,  1.8703, -0.1094,  2.9240, -0.8567,  0.4814,  0.8963,\n                 -1.5150,  0.7843, -0.5079, -0.2701,  0.0257, -0.3776, -1.7183, -0.9256,\n                 -0.2150,  2.0781, -0.2368, -0.4870, -0.0827, -0.8326, -0.1971, -1.6794,\n                  1.3787,  0.6098,  1.6962,  1.6960,  1.0546, -0.2701,  2.0855, -6.3339,\n                 -0.3039,  0.9514, -0.1805, -2.5266,  1.8608,  0.9564,  0.6890, -2.5882,\n                 -1.1798,  3.2218, -1.2641, -1.2450,  2.9329,  3.1509,  1.1849, -2.0531,\n                  0.6843,  0.8714, -0.7423, -3.7900,  3.5209, -1.9587,  0.7358, -4.6182,\n                 -4.4683, -1.0904,  2.6499, -2.4621, -1.6932,  6.3089, -0.1810,  5.0017,\n                  1.7526, -1.5545, -2.1288, -2.0147,  1.9787, -0.3325, -2.9601, -0.6954,\n                  4.5243, -0.1673,  3.8944,  4.6758, -1.2542, -5.1253,  0.0740,  0.6838,\n                  3.7558, -3.8741,  1.3298, -0.3464, -1.1610, -2.8823,  1.1925,  1.2254,\n                  1.9269, -0.0966, -1.6215,  2.0841,  3.6116,  2.9864, -0.1348, -0.9224,\n                  1.8353, -0.5370,  1.5375, -1.2352, -0.4289, -1.4190, -2.8053, -1.5283,\n                  1.1254,  4.1270,  3.0884,  2.4777, -1.7787, -0.4325,  0.3276, -5.7232,\n                 -0.2109,  0.9672, -3.8136, -0.0227,  2.6114,  1.2463, -3.0797,  0.6375,\n                 -1.0901, -1.8134,  0.6551,  1.7853,  0.6586,  2.0914,  1.5988, -6.5373,\n                 -2.0357, -0.1312, -2.2230, -0.3536,  0.4809,  3.0052, -0.2145, -1.7967,\n                 -0.8914, -0.7945, -1.4613, -0.5510, -1.3830, -0.6042,  2.5590, -1.8264]]),\n        tensor([[ 4.1571e+00,  1.6499e+00, -2.2178e+00, -2.4170e-01,  1.5153e+00,\n                  3.6466e-01, -3.2927e+00, -8.7538e-01, -1.6754e+00, -2.7726e+00,\n                 -2.6388e+00, -3.3248e+00, -5.7060e+00, -1.1956e+00,  1.4784e+00,\n                 -5.2870e+00, -1.8431e+00,  1.2934e+00,  2.6834e+00, -4.0988e+00,\n                 -1.6899e+00,  2.4721e+00,  1.4146e+00, -3.3761e-01,  6.1171e-01,\n                  6.2578e+00,  1.2696e+00, -3.4855e+00,  9.7912e-01, -5.1302e-01,\n                  2.9799e-01,  3.1627e-01, -1.0405e+00, -1.3805e+00, -1.5240e+00,\n                  1.9772e+00, -5.4936e-01, -1.8215e+00, -2.4395e+00, -8.5296e-01,\n                 -3.8544e+00, -1.1117e+00,  1.4328e+00,  6.1733e-01,  5.4338e-01,\n                  1.1978e+00, -1.8393e-01,  5.1493e+00, -1.4182e+00, -2.9846e+00,\n                  1.4592e+00,  1.3858e+00, -9.4714e-02,  1.4118e+00, -3.2767e-01,\n                 -1.4272e+00, -3.6689e-01,  1.6641e+00, -4.0736e+00,  4.4438e-01,\n                  3.3309e+00, -8.4697e-01, -4.1769e+00, -4.6453e+00,  1.7775e+00,\n                  4.4705e-02,  5.8070e+00, -8.2176e-01, -7.4316e-01,  4.6349e+00,\n                 -2.1081e+00, -2.4981e+00, -5.0800e+00, -3.1791e+00, -3.3987e-01,\n                  5.6299e-01, -5.3522e+00, -2.7877e+00,  2.9420e-01,  1.4239e+00,\n                 -1.0056e+00,  1.7710e+00, -2.6179e+00,  3.1666e-02,  1.2156e+00,\n                  2.4472e-01,  2.1767e+00, -1.8898e+00,  6.1570e+00, -6.1645e+00,\n                 -1.5863e-01,  4.4402e+00, -4.8479e+00, -7.3860e-01, -5.4777e+00,\n                  3.3878e+00,  1.9900e+00, -5.0681e+00,  1.7891e-01, -2.4318e+00,\n                  2.3453e+00,  3.2501e+00,  1.5734e+00, -1.2342e+00, -7.1644e+00,\n                  1.8007e+00,  4.7166e+00, -2.0472e+00, -3.4837e+00, -1.5420e+00,\n                  3.9174e+00,  5.0945e+00, -3.6104e-01,  2.7621e+00,  3.4325e+00,\n                 -2.2399e+00,  1.6921e+00,  9.1911e-01, -2.1827e+00, -4.3890e+00,\n                 -1.0398e+00,  2.3839e+00, -3.4039e+00,  5.2558e+00,  6.0829e+00,\n                 -2.5256e+00,  6.2114e-01,  3.7308e+00, -3.8567e+00,  3.1554e+00,\n                 -2.5443e+00, -6.5094e-01,  3.5786e+00,  2.2200e+00,  1.7967e+00,\n                  1.3583e+00, -4.5558e+00,  6.4026e-01, -3.7051e+00, -4.6169e+00,\n                 -3.1266e-01, -2.5385e-01,  1.0039e+00, -2.2283e+00,  2.1554e+00,\n                  1.6861e+00,  1.5335e+00,  1.0784e+00,  1.6203e+00, -3.6334e-01,\n                  5.9397e-01, -2.1695e+00, -1.6597e+00,  3.2303e-01,  3.6360e+00,\n                 -1.0349e+00,  1.8178e+00, -1.1717e-01, -2.8843e+00,  1.4946e+00,\n                  4.4251e+00, -2.6197e+00,  8.7124e-01, -3.4028e-01, -1.5014e-01,\n                  1.5636e-01, -2.5035e-01,  2.3765e+00, -6.4198e+00, -2.2886e+00,\n                 -1.6926e+00, -1.8452e-01, -1.4833e+00,  7.6738e-01,  3.6528e-01,\n                  3.6822e-01, -1.1375e+00,  6.0608e+00,  2.4137e+00,  8.8259e-01,\n                  3.9525e+00, -9.7263e-01,  1.6885e+00,  2.1226e+00,  9.4765e-04,\n                  6.5880e+00, -6.0683e-01,  2.8055e+00, -4.9215e-01,  2.8926e+00,\n                  6.8622e-01,  1.5416e+00,  6.6916e-02, -2.2790e-01, -1.3697e+00,\n                  1.7405e+00,  3.2856e+00,  1.4844e-01, -1.8324e+00,  2.0005e+00,\n                  3.1335e+00,  1.1404e+00,  9.4351e-01,  2.6680e-01, -1.4823e+00,\n                  2.4034e-01, -7.8134e-01, -3.7083e+00,  1.5592e+00,  1.8295e+00,\n                 -3.4835e+00, -1.0175e+00, -1.5605e-01,  3.8151e+00, -1.4297e+00,\n                  2.4697e+00, -1.4624e+00,  2.1835e+00, -4.5828e+00,  2.0448e+00,\n                  1.0333e+00,  3.4699e+00, -9.4982e-01, -4.2975e-01, -7.9063e-01,\n                 -5.7942e-01, -3.7677e+00, -8.3611e-01,  6.4268e-01,  2.2790e-01,\n                 -1.3565e+00, -2.1687e-01,  1.9573e+00, -3.7179e+00,  1.6354e+00,\n                 -4.4597e+00, -1.2373e+00, -3.2442e+00,  1.2072e+00,  4.8633e+00,\n                  4.3856e-01, -1.7718e+00, -1.7021e+00,  1.7073e-01,  6.5179e-01,\n                  3.2246e-01,  2.6487e+00, -1.7101e-01,  8.7151e-01, -2.8302e+00,\n                 -1.3338e+00,  1.3232e+00,  7.6418e-01,  3.6868e-01,  4.2359e+00,\n                 -2.8714e+00, -2.4766e+00,  7.9211e-01, -3.1745e+00, -1.4696e-01,\n                  2.0479e+00, -1.5542e+00,  1.2436e+00,  3.7389e-01,  5.1765e-01,\n                 -1.2292e+00,  1.0490e+00,  4.2446e-02,  3.6048e+00, -3.1248e-01,\n                  1.0685e+00,  4.1675e-01,  1.5970e-01,  1.6337e+00,  1.1806e+00,\n                 -5.1476e+00,  1.9445e+00,  2.3290e+00,  7.5838e-01, -1.1441e+00,\n                  1.3916e+00,  3.9710e-01, -3.0066e+00, -2.1482e+00, -1.9249e+00,\n                 -7.7697e-01,  1.5010e+00, -2.3253e+00,  3.4128e+00, -3.9288e-01,\n                 -1.3537e+00,  2.3096e-01,  7.5326e-01,  1.3816e+00,  5.8581e+00,\n                 -1.7382e+00, -1.6304e+00, -5.6408e-01,  8.9548e-01,  2.0064e+00,\n                 -7.6812e-01,  5.3907e+00,  4.6968e+00, -1.0211e-01, -3.2275e+00,\n                  4.3231e+00, -5.8245e-01, -9.2131e-01,  9.7872e-01, -4.0926e+00,\n                 -3.1350e-01, -1.2942e+00,  6.5931e-02,  4.7784e-01,  2.5435e+00,\n                 -2.4717e+00,  2.0408e+00,  1.1630e+00,  1.2540e+00,  1.2672e+00,\n                  1.9805e+00,  3.4984e+00, -1.2641e+00,  5.0356e-01,  1.4393e+00,\n                  1.6420e+00,  1.8923e+00, -8.8570e-03, -1.2695e+00, -9.9865e-01,\n                 -2.4759e+00,  8.1179e-01, -2.8377e+00, -1.4110e+00,  5.5384e-01,\n                 -5.3825e+00, -1.6294e+00,  5.2068e-01,  1.9842e+00, -5.3581e-01,\n                  2.6241e+00,  2.1042e+00,  1.5855e+00,  2.4130e+00,  2.0964e+00,\n                  2.2714e-01,  2.6704e+00, -2.9661e+00, -8.4246e-01, -1.3940e+00,\n                 -3.0717e+00, -2.3293e-01, -9.2182e-01,  4.8881e+00, -7.3017e-01,\n                  8.3053e-01, -2.0172e-01, -1.3310e-01, -1.3405e+00,  3.8699e+00,\n                 -2.5974e+00,  5.3961e+00,  3.2346e-01, -2.2177e+00,  6.0011e-01,\n                  1.7321e+00, -3.1562e+00, -8.4858e-02, -2.5801e+00,  2.1783e-01,\n                 -9.6250e-01,  1.1966e-01, -1.1639e+00,  6.5047e-01,  1.9441e+00,\n                  7.6429e-01, -1.0675e+00, -2.3695e+00,  1.4543e+00,  2.4953e+00,\n                 -1.0288e+00,  2.0853e+00, -3.7793e+00,  4.5868e+00]])           ,\n        nan],\n       [tensor([[ 2.1109,  2.7435, -1.1726,  2.0871, -0.3773, -1.7499,  3.2540, -0.7064,\n                  3.5585, -2.1610, -0.2779, -2.6685, -1.4219,  1.5817,  3.4850,  3.7410,\n                  1.9565, -0.0118,  1.3451,  1.9026, -5.3977,  4.3205,  1.7746,  1.1139,\n                  1.8952, -1.2476, -0.1097, -0.0823,  0.5401,  0.7839, -5.5150, -3.1917,\n                 -3.3200,  1.0470, -0.2613,  1.1094,  1.1326,  0.4485,  1.0011, -1.1756,\n                 -0.2282, -2.9994, -3.1061,  1.6293,  1.1336,  0.6382, -2.4556, -0.9138,\n                  2.5726,  2.9554,  3.7776, -0.9404, -0.0388, -2.6545, -0.2201, -0.5439,\n                 -0.0686, -0.6109, -0.6798, -1.7069,  1.1737,  2.2950,  1.4430, -0.0165,\n                 -2.7795, -0.4063,  0.3479, -4.7889, -0.6878,  2.3594,  2.6298,  0.2237,\n                  0.8243, -1.2985, -0.8523, -2.8678,  0.6517, -1.4587, -0.4922, -0.6726,\n                 -7.2651, -1.4130,  3.2841,  6.8467,  1.4033, -2.1882, -0.0714, -5.3924,\n                  0.3987,  2.2324,  3.4540, -2.1844, -1.5893,  0.4534,  2.5560,  2.7812,\n                 -2.3711, -2.7309, -2.5658,  4.6434, -2.7876,  0.7192,  1.0045, -5.2795,\n                  0.8840,  1.2986, -2.5880, -2.4627,  0.1741, -2.8779, -0.9359, -1.4169,\n                 -2.8600, -1.3510, -1.3861,  5.1414,  4.7566,  1.8235, -2.1817,  4.7927,\n                  0.4231,  0.7803, -1.5356, -2.3236, -0.7519, -0.4294, -0.6045,  2.5054,\n                  1.1029,  1.2406,  0.1371, -1.7551, -1.0371,  1.4609, -3.0290, -1.2022,\n                 -2.7114, -2.0126,  0.8729, -0.9461, -0.5940,  3.2500, -1.9185, -1.5069,\n                  0.3031,  5.0760,  0.0147,  4.7264,  3.1527,  2.4531,  2.4216, -0.2555,\n                  0.4259,  1.0788, -2.7105,  0.0881,  4.9947,  1.2517,  0.8033,  3.6762,\n                  3.4340,  0.9830,  0.6550,  0.0494, -2.3689,  3.7739,  2.3466,  4.1049,\n                  3.9013,  4.5922, -2.2874,  0.2928, -1.0996,  2.9654,  4.2665,  2.9341,\n                  1.7113,  0.7070, -3.1848,  3.1333, -1.2110,  2.2733, -3.2828,  0.6713,\n                 -1.8924,  5.5494,  2.4378, -2.4629,  1.7955,  1.0186, -6.5843, -2.6770,\n                  0.7015,  0.4994, -0.6685,  1.3494,  7.3746, -1.4808,  0.0462,  0.4606,\n                  4.6062,  2.0126,  0.3910,  0.0774,  2.4880, -1.3096,  0.1495, -2.3071,\n                  0.5119, -3.4735,  0.4559,  0.3910, -0.1030,  1.2339, -3.0547, -4.7751,\n                  2.7523, -0.0211, -3.1795, -1.5845,  3.5884,  1.1774, -0.7021, -1.1826,\n                  1.6463, -0.0095,  2.1523, -0.9353, -2.4514, -5.7775, -1.6498, -2.5662,\n                  2.0564, -0.2849, -0.9331, -2.0101, -0.4631, -3.3994,  1.7024,  3.4830,\n                 -0.9237, -1.7741, -2.4108,  0.0335,  0.7068, -1.5362, -1.1884,  0.3163,\n                 -4.2223,  1.4226,  4.0276, -2.3349,  1.0851, -2.3227, -3.8886, -2.4912,\n                  3.0328,  3.7492,  2.0707, -4.1987,  0.2384,  0.5989,  1.3267,  1.6495,\n                 -3.3351, -3.1878,  2.1165,  2.9635, -4.3921,  1.5573, -0.7023, -2.1801,\n                 -7.0495, -0.9669, -5.3069,  0.0314,  0.7419, -2.1712, -1.3546, -2.4208,\n                 -2.0524, -2.7370,  0.0395,  1.7449,  1.2805, -0.2852, -1.4720,  2.6563,\n                  0.7124,  1.1733, -1.7989, -1.5688, -1.6040, -1.3179, -4.3558,  4.5688,\n                 -0.3393, -3.5700, -1.2278, -1.3923, -0.2187,  0.8274, -1.5520, -3.8942,\n                 -1.4946,  4.3869,  2.0895,  0.2756,  1.4720,  0.4447, -4.8869,  0.8546,\n                 -0.3976,  3.3522,  0.1361,  3.2094,  4.3767,  2.1458, -1.4903,  0.4841,\n                  0.4540,  2.2996,  1.9732,  3.7827,  1.7482,  1.2735,  2.7925,  1.1098,\n                  3.4788, -1.0898, -1.7926,  0.7582,  1.9004, -1.4350,  1.9290,  4.2642,\n                 -1.7177, -1.4256, -1.6463, -0.9139,  2.2210, -0.7397,  0.9280,  3.2180,\n                 -1.3552,  0.8294,  3.1540,  1.5437, -3.7875, -4.0625, -0.7618, -1.2946,\n                 -6.1765,  2.2527,  0.4471, -0.2562,  2.3641,  0.3276,  1.1725, -0.1496,\n                 -4.6327,  1.0543, -0.5527,  3.1887, -4.6308, -2.3270, -4.0334,  0.0203,\n                  1.4436, -0.2087,  3.1728, -3.3741,  0.4645, -0.2173,  0.5502,  0.6467,\n                 -2.9036,  0.5877,  1.2479, -0.7685,  1.5414,  1.6640,  0.2742,  0.1258]]),\n        tensor([[-3.0450e+00,  7.0699e-01,  1.3796e+00,  8.7654e-01, -3.0101e+00,\n                 -6.4223e-01,  1.1461e+00, -9.6232e-01, -2.4009e-01, -3.1668e+00,\n                 -8.9413e-01,  1.3025e+00, -2.8428e+00, -4.4415e+00,  1.8252e+00,\n                 -5.4905e-01,  1.8152e+00, -2.3498e+00,  2.1867e+00, -3.6043e+00,\n                 -1.9742e+00,  3.6197e+00,  2.4420e+00,  1.1651e+00, -2.8744e+00,\n                 -3.8625e+00, -1.2567e+00, -1.4154e+00, -1.0577e+00,  2.1697e-02,\n                 -2.9154e+00,  1.0610e+00, -1.1922e+00, -1.5973e+00, -4.5424e+00,\n                 -2.1403e+00, -3.0133e-01, -3.6373e+00, -8.5076e-01,  1.3838e+00,\n                 -3.4168e+00, -1.3367e+00, -1.6938e+00, -2.5016e+00,  3.2314e+00,\n                  1.0134e+00, -3.1873e+00, -6.2690e-01,  2.7135e+00,  2.9246e+00,\n                  5.0593e-01,  6.2043e-01, -2.5100e+00, -8.9719e-01, -3.1153e+00,\n                  1.8989e+00, -2.1769e+00,  2.2671e+00,  7.2463e-01, -3.8626e+00,\n                  8.2321e-01,  1.1359e+00, -1.9525e+00,  5.0311e+00, -2.5069e+00,\n                  9.4336e-01,  5.3323e+00,  5.1729e+00,  1.5953e+00,  1.8374e+00,\n                 -2.0252e+00,  2.0965e+00,  1.3174e+00,  4.2266e-02, -5.4079e+00,\n                 -1.4175e+00,  7.9730e-02, -1.1596e+00, -8.9110e-02,  7.0276e-01,\n                 -3.9882e+00, -7.3278e-01, -4.2411e+00,  1.7583e+00, -2.9948e+00,\n                 -2.1486e+00,  2.5916e+00,  7.0094e-01,  9.2831e-01,  8.8881e-01,\n                 -1.5477e+00,  3.4120e+00, -1.9127e-01,  1.4782e+00,  3.2582e+00,\n                  1.8312e+00, -4.4360e-01, -3.4548e-01, -9.4089e-01, -1.4727e+00,\n                  3.1228e-01, -6.9108e-02,  3.4639e+00, -1.2538e+00,  4.3838e-01,\n                  1.1054e+00, -2.3119e+00, -1.5974e+00,  6.3003e+00, -2.6893e+00,\n                 -8.8275e-01,  1.6048e+00, -4.6057e+00, -1.1756e+00, -1.2439e+00,\n                 -1.2939e+00,  1.5249e+00,  2.8208e+00, -3.1194e+00,  1.7563e+00,\n                  8.1114e-01, -3.7106e+00,  1.7470e+00,  1.4521e+00, -1.9655e-01,\n                 -4.4901e-01,  3.1736e+00, -1.5197e-01,  4.8928e-01,  4.2561e+00,\n                  1.3500e+00,  1.2485e+00,  4.5988e+00, -1.9142e+00,  3.3727e+00,\n                 -9.0100e-01,  1.9572e+00, -1.2369e+00, -3.4172e+00, -1.1980e-01,\n                 -4.2054e+00,  3.2995e+00, -3.1815e+00,  1.8421e+00, -3.8073e+00,\n                  2.7182e+00, -3.8054e-01,  3.0898e+00,  3.6300e+00,  1.4172e+00,\n                  4.1447e+00, -3.8480e+00,  3.0268e+00,  3.3250e+00,  2.6065e+00,\n                  3.5276e-01,  6.0355e+00, -2.0138e+00,  1.7997e+00, -1.1245e+00,\n                  5.5153e-01, -2.5476e+00,  6.3214e-01,  2.3985e-01,  4.8398e-01,\n                  1.2268e-01,  1.7420e+00,  9.5244e-01,  6.4732e-02, -5.7241e+00,\n                 -3.7421e-01,  1.8935e+00, -5.1796e-01,  1.1986e+00,  1.0304e+00,\n                 -3.5554e+00, -2.4010e+00, -8.5985e-01, -1.3546e+00,  4.8618e+00,\n                  2.0972e+00,  1.2193e+00, -5.3739e+00,  3.0057e+00, -9.7940e-02,\n                  2.0843e+00, -7.8134e-01,  4.1540e-01,  1.6746e+00,  6.2325e-01,\n                 -1.3063e+00, -3.5532e+00,  3.3373e+00,  1.2393e+00,  2.1965e+00,\n                 -4.4419e-01,  4.3914e+00,  2.6379e+00,  4.6302e+00, -1.3940e+00,\n                 -2.0413e+00,  2.6058e+00, -1.6127e+00,  2.4766e-01, -3.9568e+00,\n                 -4.1948e+00,  7.0348e-01, -2.5349e+00, -1.6510e+00,  5.0934e-01,\n                 -1.3363e+00, -3.9554e+00,  1.9924e-01,  3.9133e+00, -9.2776e-01,\n                 -9.6694e-01, -3.8277e-02,  4.1443e-01,  4.5390e+00, -3.5603e+00,\n                  1.2139e+00, -6.2621e-01, -4.9366e-01, -1.7517e+00,  3.7564e+00,\n                  1.1752e-01,  1.3947e+00,  1.1092e+00, -5.4684e+00,  4.3960e-01,\n                 -8.7818e-01,  5.6484e-01, -3.0800e+00, -9.3164e-01,  2.0811e-01,\n                  6.9136e-02,  3.5430e-03,  3.6004e+00, -9.2043e-01, -2.2320e+00,\n                 -1.3440e+00,  1.0675e+00,  4.3667e+00, -9.8484e-01,  2.1634e+00,\n                 -1.9569e+00, -1.1398e+00,  5.3677e+00, -2.1617e+00, -1.9907e+00,\n                  2.7434e+00, -3.7228e+00, -1.9391e+00, -2.8508e-01, -5.4717e+00,\n                  4.7984e+00,  1.8872e+00, -7.0483e-01,  1.8667e+00,  4.3857e+00,\n                  1.7767e+00, -6.2413e-02, -1.3538e+00,  1.5592e+00,  2.7262e-01,\n                  1.8190e+00,  9.1562e-01,  2.3821e+00,  1.7303e+00,  1.2043e+00,\n                  3.5277e+00, -2.6948e+00,  1.3586e+00,  8.7407e-01, -1.7807e+00,\n                 -4.1403e-01, -3.3972e+00, -4.9713e+00,  2.1507e-01,  2.3978e+00,\n                 -3.2042e+00,  2.4814e-01, -3.1784e+00,  6.1314e-02,  2.8281e+00,\n                  2.4497e+00, -2.5334e+00, -1.1299e+00,  3.6107e-01,  5.5541e-01,\n                  1.1801e+00, -5.0865e+00, -2.6923e+00, -4.2637e+00, -4.0346e+00,\n                  5.3861e-01,  1.2684e+00, -5.3424e-01,  2.6945e+00,  1.0173e-01,\n                 -4.5615e+00, -1.4046e-01,  8.9814e-01, -3.2379e-03, -2.8819e+00,\n                  9.7736e-01,  1.5413e+00, -1.8159e-01, -2.7591e+00, -2.1505e+00,\n                  2.0071e+00,  1.9569e+00, -1.9767e+00,  9.9962e+00,  1.3462e+00,\n                  4.1945e+00,  2.3486e+00,  3.6605e+00, -5.8207e-01, -1.9027e+00,\n                 -4.6569e-02,  3.9878e-01, -1.9553e+00,  1.1306e+00,  8.1438e-01,\n                 -6.5802e-01,  8.8203e-01,  3.6610e+00, -3.3013e-02,  3.0845e-01,\n                 -4.2691e+00, -4.5543e-01,  2.4816e+00, -4.4932e+00, -6.8380e-01,\n                 -4.3350e+00, -3.9985e+00,  8.2631e-01,  1.5705e+00,  7.8814e-01,\n                  1.2777e+00,  2.1116e+00,  3.8998e+00,  2.5133e+00, -2.7023e+00,\n                  7.9439e-02,  2.5569e+00, -7.0803e-01, -1.8538e+00, -4.4326e+00,\n                 -1.4545e+00,  4.3686e+00, -3.0025e+00, -1.8374e+00,  1.1916e+00,\n                 -3.7312e+00,  8.3436e-01, -1.9969e+00,  1.4615e+00, -1.0394e+00,\n                 -3.0124e+00, -8.0594e-01,  6.6467e+00,  2.4484e+00,  1.9803e+00,\n                  7.2587e-01, -3.6100e+00, -1.3625e+00,  7.1294e-01, -4.0604e+00,\n                  2.7197e+00, -9.3391e-01, -1.4080e+00,  3.6012e+00, -3.4394e+00,\n                 -7.5937e-01, -1.5991e+00,  8.3265e-01, -2.1843e+00, -9.8876e-01,\n                  2.2147e+00,  2.1033e+00, -9.9181e-01, -1.3063e+00]])           ,\n        tensor([[ 1.6532e+00, -6.1829e-01,  2.3180e+00,  1.1033e-01, -3.1984e+00,\n                 -1.1543e-02, -1.4755e+00, -2.3857e+00, -4.9675e+00, -1.8118e-01,\n                  1.3224e-01,  4.7115e-01,  3.4810e+00,  2.8651e+00, -4.7910e+00,\n                 -1.7689e+00,  4.1144e+00,  1.2771e+00,  5.8305e-01,  1.4044e+00,\n                  2.1176e+00,  4.8384e-01,  2.2857e+00, -2.4243e+00,  3.5584e-01,\n                 -4.4031e+00, -5.4968e+00,  4.1119e-01,  3.9452e-01,  2.3108e+00,\n                  5.9505e-01,  9.1903e-01,  2.7114e-01,  9.1286e-01,  1.7672e+00,\n                  6.7465e-02,  2.2505e+00, -1.3060e-01, -2.6677e+00,  2.3882e-01,\n                 -2.5989e-01, -1.2123e+00, -3.6282e+00,  1.8209e+00, -7.3246e-01,\n                  8.2962e-01, -2.2712e+00, -9.6669e-03,  4.3266e+00, -1.0813e+00,\n                 -1.5943e+00,  1.0640e+00, -1.6973e+00, -3.6208e+00, -1.7501e+00,\n                 -2.8237e+00, -4.5613e+00,  3.4712e-02, -1.1097e+00, -2.0651e+00,\n                 -5.3111e-01,  7.2558e-01, -7.5528e-01,  3.3552e+00,  1.5961e-01,\n                 -3.9193e+00,  1.4574e+00, -1.9105e+00,  1.5600e+00,  2.7045e+00,\n                  3.1696e+00,  3.3634e+00,  2.6423e+00,  1.1700e+00,  3.7027e-01,\n                 -2.7355e+00, -1.9972e+00,  2.7383e+00, -6.5986e+00,  1.6283e+00,\n                 -2.6064e+00, -1.8294e+00, -3.8644e-01, -1.0968e+00, -2.5870e+00,\n                  2.1192e+00,  3.5898e+00,  1.1084e+00, -1.8896e+00, -3.3333e+00,\n                 -3.2071e-01,  2.2104e+00, -2.2387e+00, -5.8616e+00,  1.9938e+00,\n                 -8.1747e-01,  3.9127e+00, -4.5955e+00,  4.3865e-01, -2.4470e+00,\n                 -7.3542e-01, -1.0991e+00, -2.5376e-01,  3.7167e+00, -6.9844e-01,\n                 -2.8548e+00,  1.0267e+00,  2.5124e-01,  4.5279e+00, -2.7270e+00,\n                  2.1694e+00,  2.5610e+00,  1.2276e+00,  1.1691e+00,  8.1414e-01,\n                 -3.6005e-01,  2.9775e+00,  2.0128e+00,  1.0597e+00, -5.6193e+00,\n                 -4.1753e-01,  4.8576e-01,  1.2580e+00,  1.7624e+00, -3.9025e-01,\n                 -6.5995e-01,  4.0224e+00, -5.2887e+00, -1.9334e+00,  5.4050e+00,\n                  1.1100e+00,  9.1656e-01, -9.7509e-01, -4.0724e+00, -2.5971e+00,\n                 -3.8111e-01,  2.7314e+00,  1.4478e+00,  2.2693e+00, -1.8524e+00,\n                  6.3918e-01, -6.9840e-01,  1.6156e+00, -7.7790e-01,  3.6275e+00,\n                 -1.6632e+00,  1.3970e+00, -4.1608e+00, -5.8604e-01,  2.4954e+00,\n                  7.3390e-01,  1.9056e+00,  3.4599e+00,  1.3329e-01,  3.5157e+00,\n                  2.1629e+00, -3.2981e-01,  1.8335e+00,  3.7911e+00,  1.5235e+00,\n                 -4.1848e+00, -2.0165e+00,  2.4045e-01, -6.6152e+00,  1.7532e+00,\n                 -7.4518e-01,  1.9057e-01,  1.1852e+00,  3.2091e+00,  2.0307e+00,\n                  1.1170e-01,  2.9369e-01, -2.3863e-01, -8.8526e-01,  7.0150e-01,\n                 -1.7489e+00, -1.1995e+00, -4.2076e-01,  2.1816e+00,  2.8007e+00,\n                  2.5967e+00,  4.8849e-01, -3.0389e+00,  2.2106e+00, -6.5092e-01,\n                  7.0031e-01, -2.8579e-01,  6.3057e+00,  1.8525e+00,  5.5080e-01,\n                  1.2161e+00, -1.2580e+00,  6.0187e+00, -5.4675e-02, -3.5829e+00,\n                  1.8946e-01, -1.3683e+00,  2.9631e-01,  1.8561e+00,  3.6295e-01,\n                 -5.9899e-01,  1.6127e+00, -8.6023e-01,  3.6001e+00, -1.2672e+00,\n                 -2.3234e+00, -1.4778e+00, -3.8897e-02, -3.1654e+00,  3.0466e+00,\n                 -4.2684e+00, -2.4026e-01,  3.0509e-01, -1.3398e+00, -3.3455e+00,\n                  1.6896e+00,  1.8764e+00,  1.0127e+00,  2.7290e+00,  1.7387e+00,\n                 -1.5191e-01, -1.7462e+00, -8.6125e-01, -8.3793e-01, -3.9504e+00,\n                 -7.4879e-01, -1.7901e+00, -1.3577e+00, -3.0959e-01,  3.4223e+00,\n                 -4.3435e+00, -5.1162e+00, -1.2890e+00, -3.3461e-01, -2.7140e+00,\n                 -2.1012e+00, -4.2980e-01, -3.1126e+00, -1.5121e+00,  4.8377e+00,\n                 -1.9301e+00,  2.1154e+00, -3.4597e+00,  3.1267e+00,  5.0998e+00,\n                 -2.0956e+00,  9.6911e-01,  2.5201e+00, -7.5963e-01, -1.8974e+00,\n                 -1.7006e+00, -1.1625e+00,  1.4095e+00, -4.3505e+00, -1.1136e+00,\n                  1.5907e+00,  2.4526e-01,  8.9767e-01,  5.6731e-01,  5.1519e-01,\n                 -9.0762e-01, -1.6945e+00, -1.6523e+00,  2.8598e-01,  2.8490e+00,\n                  5.3934e-01, -5.8923e-01,  2.5287e+00,  2.6242e+00,  1.3883e-03,\n                  2.2263e+00, -5.3892e+00, -3.3420e+00, -7.4687e-01, -1.9385e+00,\n                 -2.0453e+00,  8.5717e-01,  6.6089e-01,  3.0350e-01,  1.7375e+00,\n                 -2.2934e+00, -2.1174e+00, -2.4864e-01, -2.8497e+00,  5.1961e+00,\n                  9.8457e-02, -1.1912e+00, -1.0775e+00,  2.1500e+00,  1.0856e+00,\n                  1.5541e+00, -2.5389e+00,  4.4923e+00, -3.7690e+00,  1.8677e+00,\n                 -4.4698e+00, -1.9427e+00,  6.5298e-01,  1.0545e+00,  2.7523e+00,\n                  7.6309e-01,  5.9968e+00, -4.7318e-01,  2.4204e+00,  3.5023e+00,\n                 -2.8805e-01, -2.5727e+00, -2.8520e+00,  2.2665e+00,  2.0709e+00,\n                  1.5227e+00, -4.4873e+00,  4.9548e+00, -9.9311e-01, -3.2480e-01,\n                  2.5671e+00, -1.1341e+00, -5.2103e+00, -7.2843e-02, -3.7259e+00,\n                  6.3782e+00, -2.9142e+00, -2.2572e+00, -3.0404e+00,  1.9214e+00,\n                 -2.1626e+00, -1.3407e+00,  5.0078e-01, -1.5184e+00,  1.1644e-01,\n                 -5.5298e+00,  2.2616e+00,  4.3894e+00,  4.1165e+00, -3.6752e+00,\n                 -6.9694e-01, -5.0665e-01, -1.5860e+00,  2.1335e+00, -1.0360e+00,\n                 -1.3066e+00, -1.8562e+00, -8.8157e-01,  3.4413e+00, -3.3736e-01,\n                  3.0377e+00, -9.2104e-01,  4.7280e+00,  1.9440e+00, -1.1164e+00,\n                  5.8265e-01, -4.7534e+00,  8.7951e-01,  3.3247e+00,  9.8327e-01,\n                  1.9295e+00,  4.1052e-01,  1.8299e+00, -2.4891e+00, -3.1650e+00,\n                  3.4184e-01,  9.4006e-01, -4.2290e+00,  4.0286e+00,  1.1842e+00,\n                  1.8744e+00,  6.0616e-01, -2.8882e+00, -2.5051e+00,  4.8256e+00,\n                 -6.2039e-01, -1.2561e+00,  1.8985e+00,  6.0372e-01,  1.0221e+00,\n                 -3.0826e+00,  1.1372e+00, -3.5587e-01, -2.1097e+00, -5.5695e-01,\n                 -1.1614e+00, -8.4127e-01,  4.2669e-01, -1.1666e+00]])           ,\n        nan,\n        tensor([[-1.3367,  3.5270,  2.1279, -0.2644, -2.4686, -1.7504,  1.9474,  0.4374,\n                 -0.0921, -3.2530, -1.6814, -2.3484,  4.1254,  0.9108,  3.1230, -0.1221,\n                  1.7209,  1.5705, -0.2093, -1.4996, -4.3151, -0.1695, -0.3850,  2.1389,\n                 -2.3050,  0.6892, -2.9248,  1.3019,  1.2873, -2.1410, -5.1422,  2.9760,\n                 -0.9532,  0.4384, -2.1521, -1.0850, -0.3346, -0.5870,  4.9364, -0.0472,\n                  1.4869, -0.7026, -2.5709,  6.7478,  0.8974,  2.4094, -1.5516,  0.1534,\n                  2.9447,  4.3260,  5.0825,  0.2818, -2.7496,  2.3941, -2.2517,  4.6768,\n                  1.2414,  0.9235, -1.0779,  0.6515,  2.8457,  0.2275, -2.9374, -2.1616,\n                 -2.9146, -2.9438,  1.8742,  0.5488,  0.5364,  1.4964, -0.9092,  0.3752,\n                 -0.4632,  0.8470, -4.8940, -0.9878, -1.6646, -1.6373, -2.8977,  0.1266,\n                 -3.7709,  1.9576, -0.8615,  2.9139,  1.9505,  2.1342, -0.6121, -1.5478,\n                 -3.1398,  2.0654,  1.8233,  2.0435, -5.3027, -3.2964,  2.6153,  4.5880,\n                 -0.9081,  0.2701,  1.9491, -0.9109, -2.2042,  0.6186,  1.1972, -0.5815,\n                 -2.5111, -0.9227, -0.2427, -2.5264,  5.9219, -0.5624, -2.0558,  4.4674,\n                 -2.8136,  2.4996,  2.0423,  3.0104,  2.9740,  0.7370,  0.3413, -0.5767,\n                 -1.1715, -0.2559, -1.8888, -1.8574,  1.5361,  2.0839,  0.5233, -0.3740,\n                 -2.1913,  5.2139,  2.0514, -0.0772, -0.8820,  1.2108,  1.5166, -3.4852,\n                 -1.5744, -2.1852, -1.8313, -0.5525, -2.2646, -0.0118, -0.8519, -2.5896,\n                  0.2918,  1.3950, -0.9623,  3.8424,  3.7419,  4.0961,  3.1406, -3.9806,\n                 -1.8997,  2.7800,  3.9314, -4.0326,  5.2635, -0.8208,  3.6151,  1.7107,\n                  0.4196,  2.2500,  0.9607, -2.5214, -4.5758, -0.4808,  2.9259,  2.2066,\n                  1.2268,  0.4684, -1.3606,  1.9942, -1.4575,  5.9848,  1.8239, -0.5429,\n                  1.2910,  0.1808,  0.9242,  3.4478, -1.9905,  1.2169, -1.5739,  3.2040,\n                 -1.1852,  1.6650, -1.6759, -0.6438,  1.0309, -0.5994, -2.8176, -3.2052,\n                  1.0298,  3.4752,  4.2369, -0.7889,  7.6528, -1.5112,  0.2945, -1.0723,\n                 -0.8101, -0.9849, -0.0926,  5.5845,  1.7112, -0.9182, -1.3448, -1.7174,\n                 -1.8196, -1.4067, -1.6210, -1.9113, -0.1872,  1.6659,  1.3346,  3.2709,\n                  2.3984, -2.5407, -3.1953, -0.5680,  0.7386,  1.7723, -0.4615,  0.1784,\n                 -0.6027,  3.9105,  3.3813, -2.0684, -2.7415, -1.5610,  0.1404, -1.0172,\n                 -2.4712, -2.2851,  1.7808,  0.2168,  1.4860, -2.5826,  2.3965,  2.4653,\n                  2.3395,  0.5457,  1.7225, -0.2069,  2.8541, -2.1847, -2.3856, -0.8993,\n                 -2.5135, -4.4802,  2.7718, -1.8242,  0.5319, -3.3034, -7.5832, -0.1408,\n                 -1.9561,  0.2322,  2.0002, -1.9476, -0.4629,  0.8216,  4.0294, -0.1750,\n                  1.0658,  0.0176,  1.1597,  2.8446, -2.3231,  0.4934,  3.2063, -2.7747,\n                 -1.5200, -2.5973, -2.1087,  1.1055, -0.6570, -2.5443,  0.3574,  0.4430,\n                 -4.2960,  1.5657, -3.8473, -1.9891,  3.2432, -2.0594, -0.4708,  1.2524,\n                  1.5215, -0.3310, -4.3090, -0.7717,  1.0118,  0.2760, -1.9337,  0.8296,\n                 -1.6156, -1.0484, -5.3062, -0.5000, -2.0944, -2.1782,  0.5017, -3.7225,\n                  1.0405,  2.2948, -1.2419, -0.1412, -4.0024, -4.2214, -1.6901, -1.1474,\n                  0.6237,  5.4597,  4.9349, -0.4002,  2.3879,  2.0969, -0.6810, -1.6618,\n                  1.5051, -3.6744, -0.5029,  0.8760,  3.4468,  0.6471,  2.1481,  2.1234,\n                  3.2542,  2.7814, -0.2566,  4.6648,  2.4145, -4.5644, -1.0827,  3.3718,\n                 -2.5506, -1.5254,  0.5608,  1.5144,  1.8435,  0.4351,  2.9086,  5.8972,\n                 -3.6553, -0.9984, -0.2259, -2.3824,  5.3773, -3.3551, -3.9628, -3.5298,\n                 -1.9167,  1.2245, -0.5456, -4.3131, -1.1589, -1.8150, -1.7158, -1.4538,\n                 -1.0445, -2.6826,  3.5974,  2.8999, -2.2704, -0.5176, -3.2970, -4.6991,\n                  0.2391, -2.5257, -1.9463, -0.6512,  0.7898, -2.4105, -1.0072, -1.0471,\n                 -6.5541,  4.2925,  2.8020,  1.3794,  1.8986,  3.8265,  4.9357,  2.5415]])]],\n      dtype=object)"
     },
     "execution_count": 80,
     "metadata": {},
     "output_type": "execute_result"
    }
   ],
   "source": [
    "X_wine"
   ],
   "metadata": {
    "collapsed": false,
    "ExecuteTime": {
     "end_time": "2024-05-23T10:09:04.551392Z",
     "start_time": "2024-05-23T10:09:04.498531Z"
    }
   },
   "id": "88391d44b323b577"
  },
  {
   "cell_type": "markdown",
   "source": [
    "# FIRST Try with Online Help"
   ],
   "metadata": {
    "collapsed": false
   },
   "id": "304b2c0701b9498a"
  },
  {
   "cell_type": "code",
   "execution_count": 24,
   "outputs": [],
   "source": [
    "#Combine everything into a single tensor\n",
    "\n",
    "#Replace NaN with an Empty tensor\n",
    "correct_size = torch.Size([1, 384])\n",
    "\n",
    "zero_tensor = torch.zeros(correct_size)\n",
    "empty_tensor = torch.empty(correct_size)\n",
    "def replace_nan_with_tensor(x):\n",
    "    return empty_tensor if pd.isna(x) else x\n",
    "\n",
    "# Apply the function to the DataFrame\n",
    "dfEmptyTensor = dfEmbedded.map(replace_nan_with_tensor)\n",
    "dfZeroTensor = dfEmbedded.map(replace_nan_with_tensor)"
   ],
   "metadata": {
    "collapsed": false,
    "ExecuteTime": {
     "end_time": "2024-05-22T18:13:14.700107Z",
     "start_time": "2024-05-22T18:13:14.665922Z"
    }
   },
   "id": "4da48e93ba9bb737"
  },
  {
   "cell_type": "code",
   "execution_count": 25,
   "outputs": [],
   "source": [
    "dfEmptyTensor['Combined'] = dfEmptyTensor.apply(lambda row: torch.cat([row['Innerwear_imagePath 256x256_Embedded'], \n",
    "                                                         row['Bottomwear_imagePath 256x256_Embedded'], \n",
    "                                                         row['Accessoire_imagePath 256x256_Embedded'], \n",
    "                                                         row['Shoes_imagePath 256x256_Embedded'], \n",
    "                                                         row['Outerwear_imagePath 256x256_Embedded']]), axis=1)"
   ],
   "metadata": {
    "collapsed": false,
    "ExecuteTime": {
     "end_time": "2024-05-22T18:13:15.139790Z",
     "start_time": "2024-05-22T18:13:14.670299Z"
    }
   },
   "id": "3fed6fa70ed08879"
  },
  {
   "cell_type": "code",
   "execution_count": 26,
   "outputs": [],
   "source": [
    "dfZeroTensor['Combined'] = dfZeroTensor.apply(lambda row: torch.cat([row['Innerwear_imagePath 256x256_Embedded'], \n",
    "                                                         row['Bottomwear_imagePath 256x256_Embedded'], \n",
    "                                                         row['Accessoire_imagePath 256x256_Embedded'], \n",
    "                                                         row['Shoes_imagePath 256x256_Embedded'], \n",
    "                                                         row['Outerwear_imagePath 256x256_Embedded']]), axis=1)"
   ],
   "metadata": {
    "collapsed": false,
    "ExecuteTime": {
     "end_time": "2024-05-22T18:13:15.569102Z",
     "start_time": "2024-05-22T18:13:15.139659Z"
    }
   },
   "id": "c6adf46de568bb7"
  },
  {
   "cell_type": "code",
   "execution_count": 27,
   "outputs": [],
   "source": [
    "# Either work with the Zero Tensor or Empty Tensor\n",
    "df = dfZeroTensor[[\"Combined\", \"valid_outfit\"]]"
   ],
   "metadata": {
    "collapsed": false,
    "ExecuteTime": {
     "end_time": "2024-05-22T18:13:15.576622Z",
     "start_time": "2024-05-22T18:13:15.570517Z"
    }
   },
   "id": "39d024a3316134dc"
  },
  {
   "cell_type": "code",
   "execution_count": 35,
   "outputs": [],
   "source": [
    "df = df.head(10)"
   ],
   "metadata": {
    "collapsed": false,
    "ExecuteTime": {
     "end_time": "2024-05-22T18:16:06.726464Z",
     "start_time": "2024-05-22T18:16:06.709084Z"
    }
   },
   "id": "3192179228a5b0bd"
  },
  {
   "cell_type": "code",
   "execution_count": 43,
   "outputs": [
    {
     "data": {
      "text/plain": "                                                    Combined  valid_outfit\n214761192  [[tensor(-0.2680), tensor(1.8234), tensor(-0.2...             1\n115479644  [[tensor(3.1535), tensor(2.5599), tensor(1.474...             0\n161222052  [[tensor(1.1999), tensor(1.9961), tensor(2.264...             0\n213330841  [[tensor(3.1407), tensor(0.9145), tensor(1.569...             0\n193320238  [[tensor(2.1109), tensor(2.7435), tensor(-1.17...             0",
      "text/html": "<div>\n<style scoped>\n    .dataframe tbody tr th:only-of-type {\n        vertical-align: middle;\n    }\n\n    .dataframe tbody tr th {\n        vertical-align: top;\n    }\n\n    .dataframe thead th {\n        text-align: right;\n    }\n</style>\n<table border=\"1\" class=\"dataframe\">\n  <thead>\n    <tr style=\"text-align: right;\">\n      <th></th>\n      <th>Combined</th>\n      <th>valid_outfit</th>\n    </tr>\n  </thead>\n  <tbody>\n    <tr>\n      <th>214761192</th>\n      <td>[[tensor(-0.2680), tensor(1.8234), tensor(-0.2...</td>\n      <td>1</td>\n    </tr>\n    <tr>\n      <th>115479644</th>\n      <td>[[tensor(3.1535), tensor(2.5599), tensor(1.474...</td>\n      <td>0</td>\n    </tr>\n    <tr>\n      <th>161222052</th>\n      <td>[[tensor(1.1999), tensor(1.9961), tensor(2.264...</td>\n      <td>0</td>\n    </tr>\n    <tr>\n      <th>213330841</th>\n      <td>[[tensor(3.1407), tensor(0.9145), tensor(1.569...</td>\n      <td>0</td>\n    </tr>\n    <tr>\n      <th>193320238</th>\n      <td>[[tensor(2.1109), tensor(2.7435), tensor(-1.17...</td>\n      <td>0</td>\n    </tr>\n  </tbody>\n</table>\n</div>"
     },
     "execution_count": 43,
     "metadata": {},
     "output_type": "execute_result"
    }
   ],
   "source": [
    "df"
   ],
   "metadata": {
    "collapsed": false,
    "ExecuteTime": {
     "end_time": "2024-05-22T18:47:39.625586Z",
     "start_time": "2024-05-22T18:47:39.209435Z"
    }
   },
   "id": "edc63c065db19d5b"
  },
  {
   "cell_type": "code",
   "execution_count": 50,
   "outputs": [
    {
     "data": {
      "text/plain": "214761192    [[tensor(-0.2680), tensor(1.8234), tensor(-0.2...\n115479644    [[tensor(3.1535), tensor(2.5599), tensor(1.474...\n161222052    [[tensor(1.1999), tensor(1.9961), tensor(2.264...\n213330841    [[tensor(3.1407), tensor(0.9145), tensor(1.569...\n193320238    [[tensor(2.1109), tensor(2.7435), tensor(-1.17...\nName: Combined, dtype: object"
     },
     "execution_count": 50,
     "metadata": {},
     "output_type": "execute_result"
    }
   ],
   "source": [
    "df['Combined']"
   ],
   "metadata": {
    "collapsed": false,
    "ExecuteTime": {
     "end_time": "2024-05-22T18:55:52.545418Z",
     "start_time": "2024-05-22T18:55:52.346583Z"
    }
   },
   "id": "472fcca45d04360e"
  },
  {
   "cell_type": "code",
   "execution_count": 51,
   "outputs": [],
   "source": [
    "#Convert the tensor to a numpy array\n",
    "df['Combined'] = df['Combined'].apply(lambda x: x.cpu().numpy())"
   ],
   "metadata": {
    "collapsed": false,
    "ExecuteTime": {
     "end_time": "2024-05-22T18:56:07.955700Z",
     "start_time": "2024-05-22T18:56:07.928461Z"
    }
   },
   "id": "f4e5b8d84364276d"
  },
  {
   "cell_type": "code",
   "execution_count": 56,
   "outputs": [
    {
     "name": "stdout",
     "output_type": "stream",
     "text": [
      "[[-2.6803797e-01  1.8233917e+00 -2.2910976e-01 ... -6.7875081e-01\n",
      "   5.4200560e-01 -2.5084805e-01]\n",
      " [-4.1724701e+00  3.4410243e+00 -7.8943664e-01 ...  4.0577907e-02\n",
      "  -1.0160577e+00 -7.9886001e-01]\n",
      " [ 4.5868959e+00  8.2713240e-01 -1.4427762e+00 ...  1.2363329e+00\n",
      "   2.9275560e+00 -1.6240718e+00]\n",
      " [-1.1128410e+00  3.2362920e-01 -1.5675240e+00 ...  2.2190554e+00\n",
      "   2.7173033e+00  4.3451619e+00]\n",
      " [ 1.5601174e+00  1.9414332e+00  2.8913701e-01 ...  1.9452944e-03\n",
      "   2.3705287e+00 -1.6797342e+00]]\n"
     ]
    }
   ],
   "source": [
    "print(df[\"Combined\"].iloc[0])\n"
   ],
   "metadata": {
    "collapsed": false,
    "ExecuteTime": {
     "end_time": "2024-05-23T09:18:01.897986Z",
     "start_time": "2024-05-23T09:18:01.881658Z"
    }
   },
   "id": "4f1eeaff9fe8f856"
  },
  {
   "cell_type": "code",
   "execution_count": 63,
   "outputs": [
    {
     "data": {
      "text/plain": "(5, 384)"
     },
     "execution_count": 63,
     "metadata": {},
     "output_type": "execute_result"
    }
   ],
   "source": [
    "df[\"Combined\"].iloc[4].shape"
   ],
   "metadata": {
    "collapsed": false,
    "ExecuteTime": {
     "end_time": "2024-05-23T09:19:22.785062Z",
     "start_time": "2024-05-23T09:19:22.771899Z"
    }
   },
   "id": "2b48bd6e62f8a26"
  },
  {
   "cell_type": "code",
   "execution_count": 1,
   "outputs": [
    {
     "ename": "NameError",
     "evalue": "name 'df' is not defined",
     "output_type": "error",
     "traceback": [
      "\u001B[0;31m---------------------------------------------------------------------------\u001B[0m",
      "\u001B[0;31mNameError\u001B[0m                                 Traceback (most recent call last)",
      "Cell \u001B[0;32mIn[1], line 1\u001B[0m\n\u001B[0;32m----> 1\u001B[0m \u001B[43mdf\u001B[49m\n",
      "\u001B[0;31mNameError\u001B[0m: name 'df' is not defined"
     ]
    }
   ],
   "source": [
    "df"
   ],
   "metadata": {
    "collapsed": false,
    "ExecuteTime": {
     "end_time": "2024-05-24T08:33:46.637283Z",
     "start_time": "2024-05-24T08:33:46.389958Z"
    }
   },
   "id": "b9b8a3890755be25"
  },
  {
   "cell_type": "code",
   "execution_count": null,
   "outputs": [],
   "source": [],
   "metadata": {
    "collapsed": false
   },
   "id": "dec273324ab07d5c"
  }
 ],
 "metadata": {
  "kernelspec": {
   "display_name": "Python 3",
   "language": "python",
   "name": "python3"
  },
  "language_info": {
   "codemirror_mode": {
    "name": "ipython",
    "version": 2
   },
   "file_extension": ".py",
   "mimetype": "text/x-python",
   "name": "python",
   "nbconvert_exporter": "python",
   "pygments_lexer": "ipython2",
   "version": "2.7.6"
  }
 },
 "nbformat": 4,
 "nbformat_minor": 5
}
