{
 "cells": [
  {
   "cell_type": "code",
   "execution_count": 9,
   "metadata": {
    "collapsed": true,
    "ExecuteTime": {
     "end_time": "2024-03-27T17:26:57.062527Z",
     "start_time": "2024-03-27T17:26:56.942678Z"
    }
   },
   "outputs": [
    {
     "data": {
      "text/plain": "       Unnamed: 0                                   outfit_url  \\\n0               0  https://www.zalando.ch/outfits/5Bay-ErCSwa/   \n1               1  https://www.zalando.ch/outfits/5Bay-ErCSwa/   \n2               2  https://www.zalando.ch/outfits/5Bay-ErCSwa/   \n3               3  https://www.zalando.ch/outfits/5Bay-ErCSwa/   \n4               4  https://www.zalando.ch/outfits/5Bay-ErCSwa/   \n...           ...                                          ...   \n24546       24546  https://www.zalando.ch/outfits/FOmLRaT0Rnu/   \n24547       24547  https://www.zalando.ch/outfits/FOmLRaT0Rnu/   \n24548       24548  https://www.zalando.ch/outfits/IMi9cMhhTSm/   \n24549       24549  https://www.zalando.ch/outfits/tUljaAGSTG6/   \n24550       24550  https://www.zalando.ch/outfits/tUljaAGSTG6/   \n\n                                        clothingItemName clothingItemBrand  \\\n0                            PADDED VEST - Weste - black              Puma   \n1      SLFMY PERFECT TEE BOX CUT - T-Shirt basic - br...    Selected Femme   \n2          MOM A LINE SHORT - Jeans Shorts - flash black           Levi's®   \n3                       530 UNISEX - Sneaker low - white       New Balance   \n4                                   Sonnenbrille - brown         Swarovski   \n...                                                  ...               ...   \n24546                  SLFEMMA LOAFER  - Slipper - black    Selected Femme   \n24547                TABBY SHOULDER - Handtasche - black             Coach   \n24548                            High Heel Pumps - black          Even&Odd   \n24549          BASIC HOODED JACKET - Daunenjacke - black       Tommy Jeans   \n24550                   WX452 - Sneaker low - white/grey       New Balance   \n\n                                   clothingItemDetailUrl  \\\n0      https://www.zalando.ch/puma-ess-trainingsjacke...   \n1      https://www.zalando.ch/selected-femme-sfmy-t-s...   \n2      https://www.zalando.ch/levisr-mom-a-line-short...   \n3      https://www.zalando.ch/new-balance-mr530-sneak...   \n4      https://www.zalando.ch/swarovski-sonnenbrille-...   \n...                                                  ...   \n24546  https://www.zalando.ch/selected-femme-schnuere...   \n24547  https://www.zalando.ch/coach-polished-pebble-s...   \n24548  https://www.zalando.ch/evenandodd-pumps-black-...   \n24549  https://www.zalando.ch/tommy-jeans-basic-hoode...   \n24550  https://www.zalando.ch/new-balance-wx452-sneak...   \n\n                             clothingItemPreviewImageUrl  \n0      https://img01.ztat.net/article/spp-media-p1/f0...  \n1      https://img01.ztat.net/article/spp-media-p1/3b...  \n2      https://img01.ztat.net/article/spp-media-p1/eb...  \n3      https://img01.ztat.net/article/spp-media-p1/7f...  \n4      https://img01.ztat.net/article/spp-media-p1/03...  \n...                                                  ...  \n24546  https://img01.ztat.net/article/spp-media-p1/c4...  \n24547  https://img01.ztat.net/article/spp-media-p1/89...  \n24548  https://img01.ztat.net/article/spp-media-p1/f2...  \n24549  https://img01.ztat.net/article/spp-media-p1/0f...  \n24550  https://img01.ztat.net/article/spp-media-p1/57...  \n\n[24551 rows x 6 columns]",
      "text/html": "<div>\n<style scoped>\n    .dataframe tbody tr th:only-of-type {\n        vertical-align: middle;\n    }\n\n    .dataframe tbody tr th {\n        vertical-align: top;\n    }\n\n    .dataframe thead th {\n        text-align: right;\n    }\n</style>\n<table border=\"1\" class=\"dataframe\">\n  <thead>\n    <tr style=\"text-align: right;\">\n      <th></th>\n      <th>Unnamed: 0</th>\n      <th>outfit_url</th>\n      <th>clothingItemName</th>\n      <th>clothingItemBrand</th>\n      <th>clothingItemDetailUrl</th>\n      <th>clothingItemPreviewImageUrl</th>\n    </tr>\n  </thead>\n  <tbody>\n    <tr>\n      <th>0</th>\n      <td>0</td>\n      <td>https://www.zalando.ch/outfits/5Bay-ErCSwa/</td>\n      <td>PADDED VEST - Weste - black</td>\n      <td>Puma</td>\n      <td>https://www.zalando.ch/puma-ess-trainingsjacke...</td>\n      <td>https://img01.ztat.net/article/spp-media-p1/f0...</td>\n    </tr>\n    <tr>\n      <th>1</th>\n      <td>1</td>\n      <td>https://www.zalando.ch/outfits/5Bay-ErCSwa/</td>\n      <td>SLFMY PERFECT TEE BOX CUT - T-Shirt basic - br...</td>\n      <td>Selected Femme</td>\n      <td>https://www.zalando.ch/selected-femme-sfmy-t-s...</td>\n      <td>https://img01.ztat.net/article/spp-media-p1/3b...</td>\n    </tr>\n    <tr>\n      <th>2</th>\n      <td>2</td>\n      <td>https://www.zalando.ch/outfits/5Bay-ErCSwa/</td>\n      <td>MOM A LINE SHORT - Jeans Shorts - flash black</td>\n      <td>Levi's®</td>\n      <td>https://www.zalando.ch/levisr-mom-a-line-short...</td>\n      <td>https://img01.ztat.net/article/spp-media-p1/eb...</td>\n    </tr>\n    <tr>\n      <th>3</th>\n      <td>3</td>\n      <td>https://www.zalando.ch/outfits/5Bay-ErCSwa/</td>\n      <td>530 UNISEX - Sneaker low - white</td>\n      <td>New Balance</td>\n      <td>https://www.zalando.ch/new-balance-mr530-sneak...</td>\n      <td>https://img01.ztat.net/article/spp-media-p1/7f...</td>\n    </tr>\n    <tr>\n      <th>4</th>\n      <td>4</td>\n      <td>https://www.zalando.ch/outfits/5Bay-ErCSwa/</td>\n      <td>Sonnenbrille - brown</td>\n      <td>Swarovski</td>\n      <td>https://www.zalando.ch/swarovski-sonnenbrille-...</td>\n      <td>https://img01.ztat.net/article/spp-media-p1/03...</td>\n    </tr>\n    <tr>\n      <th>...</th>\n      <td>...</td>\n      <td>...</td>\n      <td>...</td>\n      <td>...</td>\n      <td>...</td>\n      <td>...</td>\n    </tr>\n    <tr>\n      <th>24546</th>\n      <td>24546</td>\n      <td>https://www.zalando.ch/outfits/FOmLRaT0Rnu/</td>\n      <td>SLFEMMA LOAFER  - Slipper - black</td>\n      <td>Selected Femme</td>\n      <td>https://www.zalando.ch/selected-femme-schnuere...</td>\n      <td>https://img01.ztat.net/article/spp-media-p1/c4...</td>\n    </tr>\n    <tr>\n      <th>24547</th>\n      <td>24547</td>\n      <td>https://www.zalando.ch/outfits/FOmLRaT0Rnu/</td>\n      <td>TABBY SHOULDER - Handtasche - black</td>\n      <td>Coach</td>\n      <td>https://www.zalando.ch/coach-polished-pebble-s...</td>\n      <td>https://img01.ztat.net/article/spp-media-p1/89...</td>\n    </tr>\n    <tr>\n      <th>24548</th>\n      <td>24548</td>\n      <td>https://www.zalando.ch/outfits/IMi9cMhhTSm/</td>\n      <td>High Heel Pumps - black</td>\n      <td>Even&amp;Odd</td>\n      <td>https://www.zalando.ch/evenandodd-pumps-black-...</td>\n      <td>https://img01.ztat.net/article/spp-media-p1/f2...</td>\n    </tr>\n    <tr>\n      <th>24549</th>\n      <td>24549</td>\n      <td>https://www.zalando.ch/outfits/tUljaAGSTG6/</td>\n      <td>BASIC HOODED JACKET - Daunenjacke - black</td>\n      <td>Tommy Jeans</td>\n      <td>https://www.zalando.ch/tommy-jeans-basic-hoode...</td>\n      <td>https://img01.ztat.net/article/spp-media-p1/0f...</td>\n    </tr>\n    <tr>\n      <th>24550</th>\n      <td>24550</td>\n      <td>https://www.zalando.ch/outfits/tUljaAGSTG6/</td>\n      <td>WX452 - Sneaker low - white/grey</td>\n      <td>New Balance</td>\n      <td>https://www.zalando.ch/new-balance-wx452-sneak...</td>\n      <td>https://img01.ztat.net/article/spp-media-p1/57...</td>\n    </tr>\n  </tbody>\n</table>\n<p>24551 rows × 6 columns</p>\n</div>"
     },
     "execution_count": 9,
     "metadata": {},
     "output_type": "execute_result"
    }
   ],
   "source": [
    "import pandas as pd\n",
    "import os\n",
    "import requests\n",
    "from bs4 import BeautifulSoup\n",
    "from pathlib import Path\n",
    "\n",
    "df = pd.read_csv(os.path.join(*'../../datasets/zalando_outfit_clothes/woman/woman_outfit_clothes.csv'.split('/')))\n",
    "df"
   ]
  },
  {
   "cell_type": "code",
   "execution_count": 10,
   "outputs": [
    {
     "data": {
      "text/plain": "34.09861111111111"
     },
     "execution_count": 10,
     "metadata": {},
     "output_type": "execute_result"
    }
   ],
   "source": [
    "(df.shape[0] * 5) / 60 / 60"
   ],
   "metadata": {
    "collapsed": false,
    "ExecuteTime": {
     "end_time": "2024-03-27T17:26:58.801303Z",
     "start_time": "2024-03-27T17:26:58.787418Z"
    }
   }
  },
  {
   "cell_type": "code",
   "execution_count": 11,
   "outputs": [
    {
     "data": {
      "text/plain": "6746"
     },
     "execution_count": 11,
     "metadata": {},
     "output_type": "execute_result"
    }
   ],
   "source": [
    "len(list(set(df['outfit_url'])))"
   ],
   "metadata": {
    "collapsed": false,
    "ExecuteTime": {
     "end_time": "2024-03-27T17:27:00.187487Z",
     "start_time": "2024-03-27T17:27:00.167034Z"
    }
   }
  },
  {
   "cell_type": "markdown",
   "source": [
    "## Extract outfit ids from url"
   ],
   "metadata": {
    "collapsed": false
   }
  },
  {
   "cell_type": "code",
   "execution_count": 12,
   "outputs": [
    {
     "name": "stdout",
     "output_type": "stream",
     "text": [
      "Extracted ID: 5Bay-ErCSwa\n"
     ]
    }
   ],
   "source": [
    "import re\n",
    "\n",
    "\n",
    "def extract_id_from_url(url):\n",
    "    # Regular expression pattern to extract the ID from the URL\n",
    "    pattern = r'/outfits/([\\w-]+)/?$'\n",
    "\n",
    "    # Using regex to find the ID\n",
    "    match = re.search(pattern, url)\n",
    "\n",
    "    # Check if a match is found\n",
    "    if match:\n",
    "        return match.group(1)  # Extract the matched ID\n",
    "    else:\n",
    "        return None  # Return None if no match is found\n",
    "\n",
    "\n",
    "# Example URL\n",
    "url = \"https://www.zalando.ch/outfits/5Bay-ErCSwa/\"\n",
    "\n",
    "# Extracting ID from the URL\n",
    "outfit_id = extract_id_from_url(url)\n",
    "\n",
    "# Displaying the extracted ID\n",
    "print(\"Extracted ID:\", outfit_id)\n"
   ],
   "metadata": {
    "collapsed": false,
    "ExecuteTime": {
     "end_time": "2024-03-27T17:27:03.520757Z",
     "start_time": "2024-03-27T17:27:03.509081Z"
    }
   }
  },
  {
   "cell_type": "markdown",
   "source": [
    "## Remove query parameters from image url to get full quality image"
   ],
   "metadata": {
    "collapsed": false
   }
  },
  {
   "cell_type": "code",
   "execution_count": 13,
   "outputs": [
    {
     "data": {
      "text/plain": "       Unnamed: 0                                   outfit_url  \\\n0               0  https://www.zalando.ch/outfits/5Bay-ErCSwa/   \n1               1  https://www.zalando.ch/outfits/5Bay-ErCSwa/   \n2               2  https://www.zalando.ch/outfits/5Bay-ErCSwa/   \n3               3  https://www.zalando.ch/outfits/5Bay-ErCSwa/   \n4               4  https://www.zalando.ch/outfits/5Bay-ErCSwa/   \n...           ...                                          ...   \n24546       24546  https://www.zalando.ch/outfits/FOmLRaT0Rnu/   \n24547       24547  https://www.zalando.ch/outfits/FOmLRaT0Rnu/   \n24548       24548  https://www.zalando.ch/outfits/IMi9cMhhTSm/   \n24549       24549  https://www.zalando.ch/outfits/tUljaAGSTG6/   \n24550       24550  https://www.zalando.ch/outfits/tUljaAGSTG6/   \n\n                                        clothingItemName clothingItemBrand  \\\n0                            PADDED VEST - Weste - black              Puma   \n1      SLFMY PERFECT TEE BOX CUT - T-Shirt basic - br...    Selected Femme   \n2          MOM A LINE SHORT - Jeans Shorts - flash black           Levi's®   \n3                       530 UNISEX - Sneaker low - white       New Balance   \n4                                   Sonnenbrille - brown         Swarovski   \n...                                                  ...               ...   \n24546                  SLFEMMA LOAFER  - Slipper - black    Selected Femme   \n24547                TABBY SHOULDER - Handtasche - black             Coach   \n24548                            High Heel Pumps - black          Even&Odd   \n24549          BASIC HOODED JACKET - Daunenjacke - black       Tommy Jeans   \n24550                   WX452 - Sneaker low - white/grey       New Balance   \n\n                                   clothingItemDetailUrl  \\\n0      https://www.zalando.ch/puma-ess-trainingsjacke...   \n1      https://www.zalando.ch/selected-femme-sfmy-t-s...   \n2      https://www.zalando.ch/levisr-mom-a-line-short...   \n3      https://www.zalando.ch/new-balance-mr530-sneak...   \n4      https://www.zalando.ch/swarovski-sonnenbrille-...   \n...                                                  ...   \n24546  https://www.zalando.ch/selected-femme-schnuere...   \n24547  https://www.zalando.ch/coach-polished-pebble-s...   \n24548  https://www.zalando.ch/evenandodd-pumps-black-...   \n24549  https://www.zalando.ch/tommy-jeans-basic-hoode...   \n24550  https://www.zalando.ch/new-balance-wx452-sneak...   \n\n                             clothingItemPreviewImageUrl           id  \n0      https://img01.ztat.net/article/spp-media-p1/f0...  5Bay-ErCSwa  \n1      https://img01.ztat.net/article/spp-media-p1/3b...  5Bay-ErCSwa  \n2      https://img01.ztat.net/article/spp-media-p1/eb...  5Bay-ErCSwa  \n3      https://img01.ztat.net/article/spp-media-p1/7f...  5Bay-ErCSwa  \n4      https://img01.ztat.net/article/spp-media-p1/03...  5Bay-ErCSwa  \n...                                                  ...          ...  \n24546  https://img01.ztat.net/article/spp-media-p1/c4...  FOmLRaT0Rnu  \n24547  https://img01.ztat.net/article/spp-media-p1/89...  FOmLRaT0Rnu  \n24548  https://img01.ztat.net/article/spp-media-p1/f2...  IMi9cMhhTSm  \n24549  https://img01.ztat.net/article/spp-media-p1/0f...  tUljaAGSTG6  \n24550  https://img01.ztat.net/article/spp-media-p1/57...  tUljaAGSTG6  \n\n[24551 rows x 7 columns]",
      "text/html": "<div>\n<style scoped>\n    .dataframe tbody tr th:only-of-type {\n        vertical-align: middle;\n    }\n\n    .dataframe tbody tr th {\n        vertical-align: top;\n    }\n\n    .dataframe thead th {\n        text-align: right;\n    }\n</style>\n<table border=\"1\" class=\"dataframe\">\n  <thead>\n    <tr style=\"text-align: right;\">\n      <th></th>\n      <th>Unnamed: 0</th>\n      <th>outfit_url</th>\n      <th>clothingItemName</th>\n      <th>clothingItemBrand</th>\n      <th>clothingItemDetailUrl</th>\n      <th>clothingItemPreviewImageUrl</th>\n      <th>id</th>\n    </tr>\n  </thead>\n  <tbody>\n    <tr>\n      <th>0</th>\n      <td>0</td>\n      <td>https://www.zalando.ch/outfits/5Bay-ErCSwa/</td>\n      <td>PADDED VEST - Weste - black</td>\n      <td>Puma</td>\n      <td>https://www.zalando.ch/puma-ess-trainingsjacke...</td>\n      <td>https://img01.ztat.net/article/spp-media-p1/f0...</td>\n      <td>5Bay-ErCSwa</td>\n    </tr>\n    <tr>\n      <th>1</th>\n      <td>1</td>\n      <td>https://www.zalando.ch/outfits/5Bay-ErCSwa/</td>\n      <td>SLFMY PERFECT TEE BOX CUT - T-Shirt basic - br...</td>\n      <td>Selected Femme</td>\n      <td>https://www.zalando.ch/selected-femme-sfmy-t-s...</td>\n      <td>https://img01.ztat.net/article/spp-media-p1/3b...</td>\n      <td>5Bay-ErCSwa</td>\n    </tr>\n    <tr>\n      <th>2</th>\n      <td>2</td>\n      <td>https://www.zalando.ch/outfits/5Bay-ErCSwa/</td>\n      <td>MOM A LINE SHORT - Jeans Shorts - flash black</td>\n      <td>Levi's®</td>\n      <td>https://www.zalando.ch/levisr-mom-a-line-short...</td>\n      <td>https://img01.ztat.net/article/spp-media-p1/eb...</td>\n      <td>5Bay-ErCSwa</td>\n    </tr>\n    <tr>\n      <th>3</th>\n      <td>3</td>\n      <td>https://www.zalando.ch/outfits/5Bay-ErCSwa/</td>\n      <td>530 UNISEX - Sneaker low - white</td>\n      <td>New Balance</td>\n      <td>https://www.zalando.ch/new-balance-mr530-sneak...</td>\n      <td>https://img01.ztat.net/article/spp-media-p1/7f...</td>\n      <td>5Bay-ErCSwa</td>\n    </tr>\n    <tr>\n      <th>4</th>\n      <td>4</td>\n      <td>https://www.zalando.ch/outfits/5Bay-ErCSwa/</td>\n      <td>Sonnenbrille - brown</td>\n      <td>Swarovski</td>\n      <td>https://www.zalando.ch/swarovski-sonnenbrille-...</td>\n      <td>https://img01.ztat.net/article/spp-media-p1/03...</td>\n      <td>5Bay-ErCSwa</td>\n    </tr>\n    <tr>\n      <th>...</th>\n      <td>...</td>\n      <td>...</td>\n      <td>...</td>\n      <td>...</td>\n      <td>...</td>\n      <td>...</td>\n      <td>...</td>\n    </tr>\n    <tr>\n      <th>24546</th>\n      <td>24546</td>\n      <td>https://www.zalando.ch/outfits/FOmLRaT0Rnu/</td>\n      <td>SLFEMMA LOAFER  - Slipper - black</td>\n      <td>Selected Femme</td>\n      <td>https://www.zalando.ch/selected-femme-schnuere...</td>\n      <td>https://img01.ztat.net/article/spp-media-p1/c4...</td>\n      <td>FOmLRaT0Rnu</td>\n    </tr>\n    <tr>\n      <th>24547</th>\n      <td>24547</td>\n      <td>https://www.zalando.ch/outfits/FOmLRaT0Rnu/</td>\n      <td>TABBY SHOULDER - Handtasche - black</td>\n      <td>Coach</td>\n      <td>https://www.zalando.ch/coach-polished-pebble-s...</td>\n      <td>https://img01.ztat.net/article/spp-media-p1/89...</td>\n      <td>FOmLRaT0Rnu</td>\n    </tr>\n    <tr>\n      <th>24548</th>\n      <td>24548</td>\n      <td>https://www.zalando.ch/outfits/IMi9cMhhTSm/</td>\n      <td>High Heel Pumps - black</td>\n      <td>Even&amp;Odd</td>\n      <td>https://www.zalando.ch/evenandodd-pumps-black-...</td>\n      <td>https://img01.ztat.net/article/spp-media-p1/f2...</td>\n      <td>IMi9cMhhTSm</td>\n    </tr>\n    <tr>\n      <th>24549</th>\n      <td>24549</td>\n      <td>https://www.zalando.ch/outfits/tUljaAGSTG6/</td>\n      <td>BASIC HOODED JACKET - Daunenjacke - black</td>\n      <td>Tommy Jeans</td>\n      <td>https://www.zalando.ch/tommy-jeans-basic-hoode...</td>\n      <td>https://img01.ztat.net/article/spp-media-p1/0f...</td>\n      <td>tUljaAGSTG6</td>\n    </tr>\n    <tr>\n      <th>24550</th>\n      <td>24550</td>\n      <td>https://www.zalando.ch/outfits/tUljaAGSTG6/</td>\n      <td>WX452 - Sneaker low - white/grey</td>\n      <td>New Balance</td>\n      <td>https://www.zalando.ch/new-balance-wx452-sneak...</td>\n      <td>https://img01.ztat.net/article/spp-media-p1/57...</td>\n      <td>tUljaAGSTG6</td>\n    </tr>\n  </tbody>\n</table>\n<p>24551 rows × 7 columns</p>\n</div>"
     },
     "execution_count": 13,
     "metadata": {},
     "output_type": "execute_result"
    }
   ],
   "source": [
    "df['id'] = df['outfit_url'].apply(extract_id_from_url)\n",
    "df['clothingItemPreviewImageUrl'] = df['clothingItemPreviewImageUrl'].apply(lambda x: x.split('?')[0])\n",
    "df"
   ],
   "metadata": {
    "collapsed": false,
    "ExecuteTime": {
     "end_time": "2024-03-27T17:27:05.547577Z",
     "start_time": "2024-03-27T17:27:05.490827Z"
    }
   }
  },
  {
   "cell_type": "markdown",
   "source": [
    "## Define Methods to save images and get color of clothing item from webpage"
   ],
   "metadata": {
    "collapsed": false
   }
  },
  {
   "cell_type": "code",
   "execution_count": 14,
   "outputs": [],
   "source": [
    "\n",
    "def save_clothing_item_image_from_dataframe_record(data_frame_record, item_index):\n",
    "    outfit_dir = f'woman_outfits/{data_frame_record.id}'\n",
    "\n",
    "    Path(f'{outfit_dir}').mkdir(parents=True, exist_ok=True)\n",
    "\n",
    "    img_data = requests.get(\n",
    "        data_frame_record.clothingItemPreviewImageUrl\n",
    "    ).content\n",
    "\n",
    "    image_path = os.path.join(*f'{outfit_dir}/{item_index}.jpg'.split('/'))\n",
    "\n",
    "    with open(image_path, 'wb') as handler:\n",
    "        handler.write(img_data)\n",
    "\n",
    "    return image_path\n",
    "\n",
    "\n",
    "def get_color_of_clothing_item_from_detail_page_url(url):\n",
    "    clothing_item_detail_page = requests.get(\n",
    "        url\n",
    "    )\n",
    "    soup = BeautifulSoup(clothing_item_detail_page.content, \"html.parser\")\n",
    "    colorLabel = [element for element in soup.select('.sDq_FX.lystZ1.FxZV-M.HlZ_Tf') if element.get_text() == 'Farbe:'][\n",
    "        0]\n",
    "    return colorLabel.parent.parent.select_one('.sDq_FX.lystZ1.dgII7d.HlZ_Tf.zN9KaA').get_text()"
   ],
   "metadata": {
    "collapsed": false,
    "ExecuteTime": {
     "end_time": "2024-03-27T17:27:09.436878Z",
     "start_time": "2024-03-27T17:27:09.415308Z"
    }
   }
  },
  {
   "cell_type": "markdown",
   "source": [
    "# Start Crawling"
   ],
   "metadata": {
    "collapsed": false
   }
  },
  {
   "cell_type": "code",
   "execution_count": 15,
   "outputs": [
    {
     "data": {
      "text/plain": "       Unnamed: 0                                   outfit_url  \\\n0               0  https://www.zalando.ch/outfits/5Bay-ErCSwa/   \n1               1  https://www.zalando.ch/outfits/5Bay-ErCSwa/   \n2               2  https://www.zalando.ch/outfits/5Bay-ErCSwa/   \n3               3  https://www.zalando.ch/outfits/5Bay-ErCSwa/   \n4               4  https://www.zalando.ch/outfits/5Bay-ErCSwa/   \n...           ...                                          ...   \n24546       24546  https://www.zalando.ch/outfits/FOmLRaT0Rnu/   \n24547       24547  https://www.zalando.ch/outfits/FOmLRaT0Rnu/   \n24548       24548  https://www.zalando.ch/outfits/IMi9cMhhTSm/   \n24549       24549  https://www.zalando.ch/outfits/tUljaAGSTG6/   \n24550       24550  https://www.zalando.ch/outfits/tUljaAGSTG6/   \n\n                                        clothingItemName clothingItemBrand  \\\n0                            PADDED VEST - Weste - black              Puma   \n1      SLFMY PERFECT TEE BOX CUT - T-Shirt basic - br...    Selected Femme   \n2          MOM A LINE SHORT - Jeans Shorts - flash black           Levi's®   \n3                       530 UNISEX - Sneaker low - white       New Balance   \n4                                   Sonnenbrille - brown         Swarovski   \n...                                                  ...               ...   \n24546                  SLFEMMA LOAFER  - Slipper - black    Selected Femme   \n24547                TABBY SHOULDER - Handtasche - black             Coach   \n24548                            High Heel Pumps - black          Even&Odd   \n24549          BASIC HOODED JACKET - Daunenjacke - black       Tommy Jeans   \n24550                   WX452 - Sneaker low - white/grey       New Balance   \n\n                                   clothingItemDetailUrl  \\\n0      https://www.zalando.ch/puma-ess-trainingsjacke...   \n1      https://www.zalando.ch/selected-femme-sfmy-t-s...   \n2      https://www.zalando.ch/levisr-mom-a-line-short...   \n3      https://www.zalando.ch/new-balance-mr530-sneak...   \n4      https://www.zalando.ch/swarovski-sonnenbrille-...   \n...                                                  ...   \n24546  https://www.zalando.ch/selected-femme-schnuere...   \n24547  https://www.zalando.ch/coach-polished-pebble-s...   \n24548  https://www.zalando.ch/evenandodd-pumps-black-...   \n24549  https://www.zalando.ch/tommy-jeans-basic-hoode...   \n24550  https://www.zalando.ch/new-balance-wx452-sneak...   \n\n                             clothingItemPreviewImageUrl           id  \\\n0      https://img01.ztat.net/article/spp-media-p1/f0...  5Bay-ErCSwa   \n1      https://img01.ztat.net/article/spp-media-p1/3b...  5Bay-ErCSwa   \n2      https://img01.ztat.net/article/spp-media-p1/eb...  5Bay-ErCSwa   \n3      https://img01.ztat.net/article/spp-media-p1/7f...  5Bay-ErCSwa   \n4      https://img01.ztat.net/article/spp-media-p1/03...  5Bay-ErCSwa   \n...                                                  ...          ...   \n24546  https://img01.ztat.net/article/spp-media-p1/c4...  FOmLRaT0Rnu   \n24547  https://img01.ztat.net/article/spp-media-p1/89...  FOmLRaT0Rnu   \n24548  https://img01.ztat.net/article/spp-media-p1/f2...  IMi9cMhhTSm   \n24549  https://img01.ztat.net/article/spp-media-p1/0f...  tUljaAGSTG6   \n24550  https://img01.ztat.net/article/spp-media-p1/57...  tUljaAGSTG6   \n\n      clothingItemColor image_path  \n0                   nan        nan  \n1                   nan        nan  \n2                   nan        nan  \n3                   nan        nan  \n4                   nan        nan  \n...                 ...        ...  \n24546               nan        nan  \n24547               nan        nan  \n24548               nan        nan  \n24549               nan        nan  \n24550               nan        nan  \n\n[24551 rows x 9 columns]",
      "text/html": "<div>\n<style scoped>\n    .dataframe tbody tr th:only-of-type {\n        vertical-align: middle;\n    }\n\n    .dataframe tbody tr th {\n        vertical-align: top;\n    }\n\n    .dataframe thead th {\n        text-align: right;\n    }\n</style>\n<table border=\"1\" class=\"dataframe\">\n  <thead>\n    <tr style=\"text-align: right;\">\n      <th></th>\n      <th>Unnamed: 0</th>\n      <th>outfit_url</th>\n      <th>clothingItemName</th>\n      <th>clothingItemBrand</th>\n      <th>clothingItemDetailUrl</th>\n      <th>clothingItemPreviewImageUrl</th>\n      <th>id</th>\n      <th>clothingItemColor</th>\n      <th>image_path</th>\n    </tr>\n  </thead>\n  <tbody>\n    <tr>\n      <th>0</th>\n      <td>0</td>\n      <td>https://www.zalando.ch/outfits/5Bay-ErCSwa/</td>\n      <td>PADDED VEST - Weste - black</td>\n      <td>Puma</td>\n      <td>https://www.zalando.ch/puma-ess-trainingsjacke...</td>\n      <td>https://img01.ztat.net/article/spp-media-p1/f0...</td>\n      <td>5Bay-ErCSwa</td>\n      <td>nan</td>\n      <td>nan</td>\n    </tr>\n    <tr>\n      <th>1</th>\n      <td>1</td>\n      <td>https://www.zalando.ch/outfits/5Bay-ErCSwa/</td>\n      <td>SLFMY PERFECT TEE BOX CUT - T-Shirt basic - br...</td>\n      <td>Selected Femme</td>\n      <td>https://www.zalando.ch/selected-femme-sfmy-t-s...</td>\n      <td>https://img01.ztat.net/article/spp-media-p1/3b...</td>\n      <td>5Bay-ErCSwa</td>\n      <td>nan</td>\n      <td>nan</td>\n    </tr>\n    <tr>\n      <th>2</th>\n      <td>2</td>\n      <td>https://www.zalando.ch/outfits/5Bay-ErCSwa/</td>\n      <td>MOM A LINE SHORT - Jeans Shorts - flash black</td>\n      <td>Levi's®</td>\n      <td>https://www.zalando.ch/levisr-mom-a-line-short...</td>\n      <td>https://img01.ztat.net/article/spp-media-p1/eb...</td>\n      <td>5Bay-ErCSwa</td>\n      <td>nan</td>\n      <td>nan</td>\n    </tr>\n    <tr>\n      <th>3</th>\n      <td>3</td>\n      <td>https://www.zalando.ch/outfits/5Bay-ErCSwa/</td>\n      <td>530 UNISEX - Sneaker low - white</td>\n      <td>New Balance</td>\n      <td>https://www.zalando.ch/new-balance-mr530-sneak...</td>\n      <td>https://img01.ztat.net/article/spp-media-p1/7f...</td>\n      <td>5Bay-ErCSwa</td>\n      <td>nan</td>\n      <td>nan</td>\n    </tr>\n    <tr>\n      <th>4</th>\n      <td>4</td>\n      <td>https://www.zalando.ch/outfits/5Bay-ErCSwa/</td>\n      <td>Sonnenbrille - brown</td>\n      <td>Swarovski</td>\n      <td>https://www.zalando.ch/swarovski-sonnenbrille-...</td>\n      <td>https://img01.ztat.net/article/spp-media-p1/03...</td>\n      <td>5Bay-ErCSwa</td>\n      <td>nan</td>\n      <td>nan</td>\n    </tr>\n    <tr>\n      <th>...</th>\n      <td>...</td>\n      <td>...</td>\n      <td>...</td>\n      <td>...</td>\n      <td>...</td>\n      <td>...</td>\n      <td>...</td>\n      <td>...</td>\n      <td>...</td>\n    </tr>\n    <tr>\n      <th>24546</th>\n      <td>24546</td>\n      <td>https://www.zalando.ch/outfits/FOmLRaT0Rnu/</td>\n      <td>SLFEMMA LOAFER  - Slipper - black</td>\n      <td>Selected Femme</td>\n      <td>https://www.zalando.ch/selected-femme-schnuere...</td>\n      <td>https://img01.ztat.net/article/spp-media-p1/c4...</td>\n      <td>FOmLRaT0Rnu</td>\n      <td>nan</td>\n      <td>nan</td>\n    </tr>\n    <tr>\n      <th>24547</th>\n      <td>24547</td>\n      <td>https://www.zalando.ch/outfits/FOmLRaT0Rnu/</td>\n      <td>TABBY SHOULDER - Handtasche - black</td>\n      <td>Coach</td>\n      <td>https://www.zalando.ch/coach-polished-pebble-s...</td>\n      <td>https://img01.ztat.net/article/spp-media-p1/89...</td>\n      <td>FOmLRaT0Rnu</td>\n      <td>nan</td>\n      <td>nan</td>\n    </tr>\n    <tr>\n      <th>24548</th>\n      <td>24548</td>\n      <td>https://www.zalando.ch/outfits/IMi9cMhhTSm/</td>\n      <td>High Heel Pumps - black</td>\n      <td>Even&amp;Odd</td>\n      <td>https://www.zalando.ch/evenandodd-pumps-black-...</td>\n      <td>https://img01.ztat.net/article/spp-media-p1/f2...</td>\n      <td>IMi9cMhhTSm</td>\n      <td>nan</td>\n      <td>nan</td>\n    </tr>\n    <tr>\n      <th>24549</th>\n      <td>24549</td>\n      <td>https://www.zalando.ch/outfits/tUljaAGSTG6/</td>\n      <td>BASIC HOODED JACKET - Daunenjacke - black</td>\n      <td>Tommy Jeans</td>\n      <td>https://www.zalando.ch/tommy-jeans-basic-hoode...</td>\n      <td>https://img01.ztat.net/article/spp-media-p1/0f...</td>\n      <td>tUljaAGSTG6</td>\n      <td>nan</td>\n      <td>nan</td>\n    </tr>\n    <tr>\n      <th>24550</th>\n      <td>24550</td>\n      <td>https://www.zalando.ch/outfits/tUljaAGSTG6/</td>\n      <td>WX452 - Sneaker low - white/grey</td>\n      <td>New Balance</td>\n      <td>https://www.zalando.ch/new-balance-wx452-sneak...</td>\n      <td>https://img01.ztat.net/article/spp-media-p1/57...</td>\n      <td>tUljaAGSTG6</td>\n      <td>nan</td>\n      <td>nan</td>\n    </tr>\n  </tbody>\n</table>\n<p>24551 rows × 9 columns</p>\n</div>"
     },
     "execution_count": 15,
     "metadata": {},
     "output_type": "execute_result"
    }
   ],
   "source": [
    "import numpy as np\n",
    "\n",
    "df[\"clothingItemColor\"] = np.nan\n",
    "df[\"clothingItemColor\"] = df[\"clothingItemColor\"].astype(str)\n",
    "df[\"image_path\"] = np.nan\n",
    "df[\"image_path\"] = df[\"image_path\"].astype(str)\n",
    "df"
   ],
   "metadata": {
    "collapsed": false,
    "ExecuteTime": {
     "end_time": "2024-03-27T17:27:10.956508Z",
     "start_time": "2024-03-27T17:27:10.898297Z"
    }
   }
  },
  {
   "cell_type": "code",
   "execution_count": 16,
   "outputs": [
    {
     "name": "stdout",
     "output_type": "stream",
     "text": [
      "Start crawling clothes info and images\n"
     ]
    },
    {
     "name": "stderr",
     "output_type": "stream",
     "text": [
      "  0%|          | 13/6746 [04:27<38:39:54, 20.67s/it]"
     ]
    },
    {
     "name": "stdout",
     "output_type": "stream",
     "text": [
      "Error getting color: for outfit pgR9mSrVRY6 item: 0\n"
     ]
    },
    {
     "name": "stderr",
     "output_type": "stream",
     "text": [
      "  0%|          | 27/6746 [10:49<55:06:54, 29.53s/it]"
     ]
    },
    {
     "name": "stdout",
     "output_type": "stream",
     "text": [
      "Error getting color: for outfit tcv_XKojRza item: 0\n"
     ]
    },
    {
     "name": "stderr",
     "output_type": "stream",
     "text": [
      "  0%|          | 31/6746 [12:46<56:28:10, 30.27s/it]"
     ]
    },
    {
     "name": "stdout",
     "output_type": "stream",
     "text": [
      "Error getting color: for outfit adJEFCCcQ12 item: 0\n"
     ]
    },
    {
     "name": "stderr",
     "output_type": "stream",
     "text": [
      "  1%|          | 76/6746 [33:15<60:20:18, 32.57s/it]"
     ]
    },
    {
     "name": "stdout",
     "output_type": "stream",
     "text": [
      "Error getting color: for outfit 5sDgYc51RfC item: 1\n"
     ]
    },
    {
     "name": "stderr",
     "output_type": "stream",
     "text": [
      "  2%|▏         | 130/6746 [58:54<63:35:00, 34.60s/it]"
     ]
    },
    {
     "name": "stdout",
     "output_type": "stream",
     "text": [
      "Error getting color: for outfit MX5hTc4ESLu item: 0\n"
     ]
    },
    {
     "name": "stderr",
     "output_type": "stream",
     "text": [
      "  3%|▎         | 175/6746 [1:19:41<54:56:22, 30.10s/it]"
     ]
    },
    {
     "name": "stdout",
     "output_type": "stream",
     "text": [
      "Error getting color: for outfit At5CQAyfSiG item: 0\n"
     ]
    },
    {
     "name": "stderr",
     "output_type": "stream",
     "text": [
      "  3%|▎         | 199/6746 [1:30:27<46:21:43, 25.49s/it]"
     ]
    },
    {
     "name": "stdout",
     "output_type": "stream",
     "text": [
      "Error getting color: for outfit lqdK4s45SB2 item: 0\n",
      "Error getting color: for outfit lqdK4s45SB2 item: 1\n",
      "Error getting color: for outfit lqdK4s45SB2 item: 2\n"
     ]
    },
    {
     "name": "stderr",
     "output_type": "stream",
     "text": [
      "  3%|▎         | 201/6746 [1:31:30<50:52:39, 27.98s/it]"
     ]
    },
    {
     "name": "stdout",
     "output_type": "stream",
     "text": [
      "Error getting color: for outfit H90a1uW6Sy6 item: 4\n"
     ]
    },
    {
     "name": "stderr",
     "output_type": "stream",
     "text": [
      "  3%|▎         | 205/6746 [1:33:34<49:25:31, 27.20s/it]"
     ]
    },
    {
     "name": "stdout",
     "output_type": "stream",
     "text": [
      "Error getting color: for outfit r4E4h3jIR5G item: 0\n",
      "Error getting color: for outfit r4E4h3jIR5G item: 1\n"
     ]
    },
    {
     "name": "stderr",
     "output_type": "stream",
     "text": [
      "  4%|▍         | 256/6746 [1:57:01<42:52:11, 23.78s/it]"
     ]
    },
    {
     "name": "stdout",
     "output_type": "stream",
     "text": [
      "Error getting color: for outfit Tx9K5oCSSxu item: 1\n"
     ]
    },
    {
     "name": "stderr",
     "output_type": "stream",
     "text": [
      "  5%|▍         | 304/6746 [2:21:10<52:12:06, 29.17s/it]"
     ]
    },
    {
     "name": "stdout",
     "output_type": "stream",
     "text": [
      "Error getting color: for outfit L5KmU50MRL6 item: 0\n"
     ]
    },
    {
     "name": "stderr",
     "output_type": "stream",
     "text": [
      "  5%|▍         | 309/6746 [2:22:47<36:29:46, 20.41s/it]"
     ]
    },
    {
     "name": "stdout",
     "output_type": "stream",
     "text": [
      "Error getting color: for outfit rkZ5kVAlQNO item: 0\n"
     ]
    },
    {
     "name": "stderr",
     "output_type": "stream",
     "text": [
      "  5%|▍         | 330/6746 [2:32:14<45:08:32, 25.33s/it]"
     ]
    },
    {
     "name": "stdout",
     "output_type": "stream",
     "text": [
      "Error getting color: for outfit kJUvlqNSQHu item: 0\n"
     ]
    },
    {
     "name": "stderr",
     "output_type": "stream",
     "text": [
      "  6%|▌         | 378/6746 [2:54:31<58:11:52, 32.90s/it]"
     ]
    },
    {
     "name": "stdout",
     "output_type": "stream",
     "text": [
      "Error getting color: for outfit PayDLlEHQ5i item: 0\n",
      "Error getting color: for outfit PayDLlEHQ5i item: 1\n"
     ]
    },
    {
     "name": "stderr",
     "output_type": "stream",
     "text": [
      "  6%|▌         | 390/6746 [3:00:31<51:44:50, 29.31s/it]"
     ]
    },
    {
     "name": "stdout",
     "output_type": "stream",
     "text": [
      "Error getting color: for outfit jVGUfVEdS82 item: 0\n"
     ]
    },
    {
     "name": "stderr",
     "output_type": "stream",
     "text": [
      "  6%|▌         | 394/6746 [3:01:55<32:41:53, 18.53s/it]"
     ]
    },
    {
     "name": "stdout",
     "output_type": "stream",
     "text": [
      "Error getting color: for outfit dhrLr57LQuS item: 0\n"
     ]
    },
    {
     "name": "stderr",
     "output_type": "stream",
     "text": [
      "  6%|▌         | 404/6746 [3:06:29<44:22:53, 25.19s/it]"
     ]
    },
    {
     "name": "stdout",
     "output_type": "stream",
     "text": [
      "Error getting color: for outfit GXg3MS42QYS item: 0\n"
     ]
    },
    {
     "name": "stderr",
     "output_type": "stream",
     "text": [
      "  6%|▌         | 417/6746 [3:11:04<35:54:45, 20.43s/it]"
     ]
    },
    {
     "name": "stdout",
     "output_type": "stream",
     "text": [
      "Error getting color: for outfit AyYN-e6FQ1C item: 3\n"
     ]
    },
    {
     "name": "stderr",
     "output_type": "stream",
     "text": [
      "  7%|▋         | 476/6746 [3:37:23<50:27:58, 28.98s/it]"
     ]
    },
    {
     "name": "stdout",
     "output_type": "stream",
     "text": [
      "Error getting color: for outfit KCmMQrJwRvC item: 0\n"
     ]
    },
    {
     "name": "stderr",
     "output_type": "stream",
     "text": [
      "  8%|▊         | 535/6746 [4:03:27<57:48:11, 33.50s/it]"
     ]
    },
    {
     "name": "stdout",
     "output_type": "stream",
     "text": [
      "Error getting color: for outfit 6D75Uz5KSiW item: 1\n"
     ]
    },
    {
     "name": "stderr",
     "output_type": "stream",
     "text": [
      "  8%|▊         | 536/6746 [4:03:46<50:32:33, 29.30s/it]"
     ]
    },
    {
     "name": "stdout",
     "output_type": "stream",
     "text": [
      "Error getting color: for outfit tACKzvCiSmK item: 0\n"
     ]
    },
    {
     "name": "stderr",
     "output_type": "stream",
     "text": [
      "  8%|▊         | 555/6746 [4:10:55<28:05:04, 16.33s/it]"
     ]
    },
    {
     "name": "stdout",
     "output_type": "stream",
     "text": [
      "Error getting color: for outfit PJz1EX_iSq- item: 0\n"
     ]
    },
    {
     "name": "stderr",
     "output_type": "stream",
     "text": [
      "  9%|▉         | 602/6746 [4:30:50<32:54:43, 19.28s/it]"
     ]
    },
    {
     "name": "stdout",
     "output_type": "stream",
     "text": [
      "Error getting color: for outfit zpf2ZCrPQCe item: 0\n"
     ]
    },
    {
     "name": "stderr",
     "output_type": "stream",
     "text": [
      " 10%|▉         | 650/6746 [4:50:47<46:57:52, 27.73s/it]"
     ]
    },
    {
     "name": "stdout",
     "output_type": "stream",
     "text": [
      "Error getting color: for outfit JHYGMLMgS0e item: 0\n"
     ]
    },
    {
     "name": "stderr",
     "output_type": "stream",
     "text": [
      " 10%|▉         | 664/6746 [4:56:55<49:03:44, 29.04s/it]"
     ]
    },
    {
     "name": "stdout",
     "output_type": "stream",
     "text": [
      "Error getting color: for outfit PNZUneTcQFy item: 0\n"
     ]
    },
    {
     "name": "stderr",
     "output_type": "stream",
     "text": [
      " 11%|█         | 741/6746 [5:32:07<38:04:24, 22.83s/it]"
     ]
    },
    {
     "name": "stdout",
     "output_type": "stream",
     "text": [
      "Error getting color: for outfit udBGKCxeSca item: 2\n",
      "Error getting color: for outfit udBGKCxeSca item: 6\n"
     ]
    },
    {
     "name": "stderr",
     "output_type": "stream",
     "text": [
      " 15%|█▌        | 1030/6746 [7:40:42<32:11:14, 20.27s/it]"
     ]
    },
    {
     "name": "stdout",
     "output_type": "stream",
     "text": [
      "Error getting color: for outfit Pz8gqftdRki item: 0\n"
     ]
    },
    {
     "name": "stderr",
     "output_type": "stream",
     "text": [
      " 16%|█▌        | 1086/6746 [8:03:57<41:37:31, 26.48s/it]"
     ]
    },
    {
     "name": "stdout",
     "output_type": "stream",
     "text": [
      "Error getting color: for outfit gYAf9DxETGG item: 0\n"
     ]
    },
    {
     "name": "stderr",
     "output_type": "stream",
     "text": [
      " 16%|█▌        | 1089/6746 [8:05:32<45:54:17, 29.21s/it]"
     ]
    },
    {
     "name": "stdout",
     "output_type": "stream",
     "text": [
      "Error getting color: for outfit uUhi_YR-Rna item: 0\n"
     ]
    },
    {
     "name": "stderr",
     "output_type": "stream",
     "text": [
      " 17%|█▋        | 1115/6746 [8:15:43<30:31:06, 19.51s/it]"
     ]
    },
    {
     "name": "stdout",
     "output_type": "stream",
     "text": [
      "Error getting color: for outfit 04WdtXYkTGi item: 1\n"
     ]
    },
    {
     "name": "stderr",
     "output_type": "stream",
     "text": [
      " 17%|█▋        | 1137/6746 [8:24:58<33:54:41, 21.77s/it]"
     ]
    },
    {
     "name": "stdout",
     "output_type": "stream",
     "text": [
      "Error getting color: for outfit qscfzp7ETTa item: 3\n"
     ]
    },
    {
     "name": "stderr",
     "output_type": "stream",
     "text": [
      " 17%|█▋        | 1143/6746 [8:27:31<42:31:17, 27.32s/it]"
     ]
    },
    {
     "name": "stdout",
     "output_type": "stream",
     "text": [
      "Error getting color: for outfit LF1K34jmRUm item: 0\n",
      "Error getting color: for outfit LF1K34jmRUm item: 1\n"
     ]
    },
    {
     "name": "stderr",
     "output_type": "stream",
     "text": [
      " 19%|█▉        | 1285/6746 [9:30:53<43:10:09, 28.46s/it]"
     ]
    },
    {
     "name": "stdout",
     "output_type": "stream",
     "text": [
      "Error getting color: for outfit NlcgvkWaTLi item: 1\n"
     ]
    },
    {
     "name": "stderr",
     "output_type": "stream",
     "text": [
      " 20%|█▉        | 1330/6746 [9:50:46<36:23:32, 24.19s/it]"
     ]
    },
    {
     "name": "stdout",
     "output_type": "stream",
     "text": [
      "Error getting color: for outfit nCoogsjLSuS item: 1\n"
     ]
    },
    {
     "name": "stderr",
     "output_type": "stream",
     "text": [
      " 22%|██▏       | 1470/6746 [10:50:13<47:02:25, 32.10s/it]"
     ]
    },
    {
     "name": "stdout",
     "output_type": "stream",
     "text": [
      "Error getting color: for outfit PPuJO5uEQN- item: 0\n"
     ]
    },
    {
     "name": "stderr",
     "output_type": "stream",
     "text": [
      " 22%|██▏       | 1499/6746 [11:01:43<34:02:12, 23.35s/it]"
     ]
    },
    {
     "name": "stdout",
     "output_type": "stream",
     "text": [
      "Error getting color: for outfit ZBWwId5CQdy item: 3\n"
     ]
    },
    {
     "name": "stderr",
     "output_type": "stream",
     "text": [
      " 23%|██▎       | 1561/6746 [11:32:42<46:21:38, 32.19s/it]"
     ]
    },
    {
     "name": "stdout",
     "output_type": "stream",
     "text": [
      "Error getting color: for outfit f0TEyGeWS_S item: 1\n"
     ]
    },
    {
     "name": "stderr",
     "output_type": "stream",
     "text": [
      " 23%|██▎       | 1584/6746 [11:42:09<34:55:48, 24.36s/it]"
     ]
    },
    {
     "name": "stdout",
     "output_type": "stream",
     "text": [
      "Error getting color: for outfit KVp2TJLCRKK item: 3\n"
     ]
    },
    {
     "name": "stderr",
     "output_type": "stream",
     "text": [
      " 24%|██▍       | 1632/6746 [12:05:00<43:16:08, 30.46s/it]"
     ]
    },
    {
     "name": "stdout",
     "output_type": "stream",
     "text": [
      "Error getting color: for outfit OIWTCx7RSYq item: 0\n"
     ]
    },
    {
     "name": "stderr",
     "output_type": "stream",
     "text": [
      " 24%|██▍       | 1645/6746 [12:09:37<25:36:09, 18.07s/it]"
     ]
    },
    {
     "name": "stdout",
     "output_type": "stream",
     "text": [
      "Error getting color: for outfit F0xI1tssT-q item: 0\n",
      "Error getting color: for outfit F0xI1tssT-q item: 1\n",
      "Error getting color: for outfit F0xI1tssT-q item: 2\n",
      "Error getting color: for outfit F0xI1tssT-q item: 4\n"
     ]
    },
    {
     "name": "stderr",
     "output_type": "stream",
     "text": [
      " 26%|██▌       | 1722/6746 [12:43:46<33:52:24, 24.27s/it]"
     ]
    },
    {
     "name": "stdout",
     "output_type": "stream",
     "text": [
      "Error getting color: for outfit W2r5qbEpQKO item: 0\n"
     ]
    },
    {
     "name": "stderr",
     "output_type": "stream",
     "text": [
      " 28%|██▊       | 1876/6746 [13:51:13<36:48:42, 27.21s/it]"
     ]
    },
    {
     "name": "stdout",
     "output_type": "stream",
     "text": [
      "Error getting color: for outfit lxp0iAvyQQC item: 0\n"
     ]
    },
    {
     "name": "stderr",
     "output_type": "stream",
     "text": [
      " 28%|██▊       | 1888/6746 [13:56:04<37:27:48, 27.76s/it]"
     ]
    },
    {
     "name": "stdout",
     "output_type": "stream",
     "text": [
      "Error getting color: for outfit GPJq2rv3R1K item: 0\n"
     ]
    },
    {
     "name": "stderr",
     "output_type": "stream",
     "text": [
      " 29%|██▉       | 1952/6746 [14:23:45<33:01:04, 24.79s/it]"
     ]
    },
    {
     "name": "stdout",
     "output_type": "stream",
     "text": [
      "Error getting color: for outfit tFikglAxTuS item: 0\n"
     ]
    },
    {
     "name": "stderr",
     "output_type": "stream",
     "text": [
      " 29%|██▉       | 1967/6746 [14:29:09<21:44:57, 16.38s/it]"
     ]
    },
    {
     "name": "stdout",
     "output_type": "stream",
     "text": [
      "Error getting color: for outfit -AY-ttjDStu item: 0\n"
     ]
    },
    {
     "name": "stderr",
     "output_type": "stream",
     "text": [
      " 30%|██▉       | 2008/6746 [14:44:20<23:47:49, 18.08s/it]"
     ]
    },
    {
     "name": "stdout",
     "output_type": "stream",
     "text": [
      "Error getting color: for outfit QoY6jwsQT1- item: 0\n"
     ]
    },
    {
     "name": "stderr",
     "output_type": "stream",
     "text": [
      " 30%|██▉       | 2014/6746 [14:47:32<36:07:12, 27.48s/it]"
     ]
    },
    {
     "name": "stdout",
     "output_type": "stream",
     "text": [
      "Error getting color: for outfit PauWAsHwQ9y item: 0\n"
     ]
    },
    {
     "name": "stderr",
     "output_type": "stream",
     "text": [
      " 30%|██▉       | 2021/6746 [14:51:20<49:16:02, 37.54s/it]"
     ]
    },
    {
     "name": "stdout",
     "output_type": "stream",
     "text": [
      "Error getting color: for outfit l8t8O1UKQBG item: 0\n"
     ]
    },
    {
     "name": "stderr",
     "output_type": "stream",
     "text": [
      " 31%|███       | 2086/6746 [15:18:17<17:17:41, 13.36s/it]"
     ]
    },
    {
     "name": "stdout",
     "output_type": "stream",
     "text": [
      "Error getting color: for outfit _x_xYl3yS62 item: 0\n"
     ]
    },
    {
     "name": "stderr",
     "output_type": "stream",
     "text": [
      " 32%|███▏      | 2132/6746 [15:38:42<38:47:54, 30.27s/it]"
     ]
    },
    {
     "name": "stdout",
     "output_type": "stream",
     "text": [
      "Error getting color: for outfit zfy6FtLDTxG item: 1\n"
     ]
    },
    {
     "name": "stderr",
     "output_type": "stream",
     "text": [
      " 32%|███▏      | 2160/6746 [15:50:43<44:09:49, 34.67s/it]"
     ]
    },
    {
     "name": "stdout",
     "output_type": "stream",
     "text": [
      "Error getting color: for outfit Yurc1umeSf2 item: 0\n"
     ]
    },
    {
     "name": "stderr",
     "output_type": "stream",
     "text": [
      " 33%|███▎      | 2257/6746 [16:30:23<36:05:50, 28.95s/it]"
     ]
    },
    {
     "name": "stdout",
     "output_type": "stream",
     "text": [
      "Error getting color: for outfit bMsAu1DWR72 item: 0\n",
      "Error getting color: for outfit bMsAu1DWR72 item: 1\n"
     ]
    },
    {
     "name": "stderr",
     "output_type": "stream",
     "text": [
      " 34%|███▎      | 2261/6746 [16:32:43<39:48:45, 31.96s/it]"
     ]
    },
    {
     "name": "stdout",
     "output_type": "stream",
     "text": [
      "Error getting color: for outfit 5zYNd40TTW- item: 1\n"
     ]
    },
    {
     "name": "stderr",
     "output_type": "stream",
     "text": [
      " 35%|███▍      | 2328/6746 [17:02:47<33:13:14, 27.07s/it]"
     ]
    },
    {
     "name": "stdout",
     "output_type": "stream",
     "text": [
      "Error getting color: for outfit q9FzK5boSfu item: 0\n"
     ]
    },
    {
     "name": "stderr",
     "output_type": "stream",
     "text": [
      " 35%|███▍      | 2357/6746 [17:15:03<37:54:54, 31.10s/it]"
     ]
    },
    {
     "name": "stdout",
     "output_type": "stream",
     "text": [
      "Error getting color: for outfit qwWX5C9PR9i item: 1\n"
     ]
    },
    {
     "name": "stderr",
     "output_type": "stream",
     "text": [
      " 35%|███▌      | 2373/6746 [17:25:41<38:07:35, 31.39s/it]"
     ]
    },
    {
     "name": "stdout",
     "output_type": "stream",
     "text": [
      "Error getting color: for outfit lI1_rG7TSNG item: 0\n",
      "Error getting color: for outfit lI1_rG7TSNG item: 3\n"
     ]
    },
    {
     "name": "stderr",
     "output_type": "stream",
     "text": [
      " 35%|███▌      | 2382/6746 [17:30:49<39:55:35, 32.94s/it]"
     ]
    },
    {
     "name": "stdout",
     "output_type": "stream",
     "text": [
      "Error getting color: for outfit 03q-0vgbT1O item: 0\n"
     ]
    },
    {
     "name": "stderr",
     "output_type": "stream",
     "text": [
      " 36%|███▌      | 2408/6746 [17:42:23<33:11:05, 27.54s/it]"
     ]
    },
    {
     "name": "stdout",
     "output_type": "stream",
     "text": [
      "Error getting color: for outfit FG0xeD6kT7W item: 0\n"
     ]
    },
    {
     "name": "stderr",
     "output_type": "stream",
     "text": [
      " 36%|███▋      | 2447/6746 [17:59:25<32:04:52, 26.86s/it]"
     ]
    },
    {
     "name": "stdout",
     "output_type": "stream",
     "text": [
      "Error getting color: for outfit QlhHSl3lRmK item: 2\n"
     ]
    },
    {
     "name": "stderr",
     "output_type": "stream",
     "text": [
      " 38%|███▊      | 2537/6746 [18:42:23<35:24:09, 30.28s/it]"
     ]
    },
    {
     "name": "stdout",
     "output_type": "stream",
     "text": [
      "Error getting color: for outfit 9eKplVF1Rm6 item: 0\n"
     ]
    },
    {
     "name": "stderr",
     "output_type": "stream",
     "text": [
      " 38%|███▊      | 2549/6746 [18:47:25<34:03:14, 29.21s/it]"
     ]
    },
    {
     "name": "stdout",
     "output_type": "stream",
     "text": [
      "Error getting color: for outfit k5Vlj8bqTzy item: 1\n"
     ]
    },
    {
     "name": "stderr",
     "output_type": "stream",
     "text": [
      " 40%|████      | 2699/6746 [19:53:35<19:52:25, 17.68s/it]"
     ]
    },
    {
     "name": "stdout",
     "output_type": "stream",
     "text": [
      "Error getting color: for outfit 1qaRT3nmRDm item: 1\n"
     ]
    },
    {
     "name": "stderr",
     "output_type": "stream",
     "text": [
      " 40%|████      | 2708/6746 [19:57:28<32:29:09, 28.96s/it]"
     ]
    },
    {
     "name": "stdout",
     "output_type": "stream",
     "text": [
      "Error getting color: for outfit CGpgkLPIRUu item: 0\n"
     ]
    },
    {
     "name": "stderr",
     "output_type": "stream",
     "text": [
      " 41%|████      | 2738/6746 [20:11:50<38:56:03, 34.97s/it]"
     ]
    },
    {
     "name": "stdout",
     "output_type": "stream",
     "text": [
      "Error getting color: for outfit JQiW9edeQ3C item: 0\n"
     ]
    },
    {
     "name": "stderr",
     "output_type": "stream",
     "text": [
      " 41%|████      | 2750/6746 [20:17:52<39:52:49, 35.93s/it]"
     ]
    },
    {
     "name": "stdout",
     "output_type": "stream",
     "text": [
      "Error getting color: for outfit 8dOtBPTQT-m item: 0\n"
     ]
    },
    {
     "name": "stderr",
     "output_type": "stream",
     "text": [
      " 43%|████▎     | 2874/6746 [21:12:53<42:02:26, 39.09s/it]"
     ]
    },
    {
     "name": "stdout",
     "output_type": "stream",
     "text": [
      "Error getting color: for outfit fvHH9t3tSSS item: 0\n",
      "Error getting color: for outfit fvHH9t3tSSS item: 2\n",
      "Error getting color: for outfit fvHH9t3tSSS item: 4\n"
     ]
    },
    {
     "name": "stderr",
     "output_type": "stream",
     "text": [
      " 44%|████▎     | 2944/6746 [21:45:35<31:02:32, 29.39s/it]"
     ]
    },
    {
     "name": "stdout",
     "output_type": "stream",
     "text": [
      "Error getting color: for outfit 7MyYs6MRRie item: 0\n"
     ]
    },
    {
     "name": "stderr",
     "output_type": "stream",
     "text": [
      " 46%|████▌     | 3093/6746 [22:53:02<30:11:08, 29.75s/it]"
     ]
    },
    {
     "name": "stdout",
     "output_type": "stream",
     "text": [
      "Error getting color: for outfit pMwI-cbNTxa item: 0\n"
     ]
    },
    {
     "name": "stderr",
     "output_type": "stream",
     "text": [
      " 46%|████▌     | 3097/6746 [22:54:42<26:19:42, 25.97s/it]"
     ]
    },
    {
     "name": "stdout",
     "output_type": "stream",
     "text": [
      "Error getting color: for outfit ykk3lw8PRIK item: 0\n"
     ]
    },
    {
     "name": "stderr",
     "output_type": "stream",
     "text": [
      " 46%|████▌     | 3103/6746 [22:57:31<33:08:46, 32.75s/it]"
     ]
    },
    {
     "name": "stdout",
     "output_type": "stream",
     "text": [
      "Error getting color: for outfit P91MdNxcTC- item: 0\n"
     ]
    },
    {
     "name": "stderr",
     "output_type": "stream",
     "text": [
      " 46%|████▋     | 3128/6746 [23:08:53<28:09:20, 28.02s/it]"
     ]
    },
    {
     "name": "stdout",
     "output_type": "stream",
     "text": [
      "Error getting color: for outfit Z_oY76XwT16 item: 0\n"
     ]
    },
    {
     "name": "stderr",
     "output_type": "stream",
     "text": [
      " 49%|████▉     | 3296/6746 [24:23:56<28:13:47, 29.46s/it]"
     ]
    },
    {
     "name": "stdout",
     "output_type": "stream",
     "text": [
      "Error getting color: for outfit AxE7X-YIQnW item: 0\n"
     ]
    },
    {
     "name": "stderr",
     "output_type": "stream",
     "text": [
      " 49%|████▉     | 3316/6746 [24:32:02<21:37:59, 22.71s/it]"
     ]
    },
    {
     "name": "stdout",
     "output_type": "stream",
     "text": [
      "Error getting color: for outfit NY8dHp1XT42 item: 2\n"
     ]
    },
    {
     "name": "stderr",
     "output_type": "stream",
     "text": [
      " 50%|████▉     | 3358/6746 [24:50:47<29:43:12, 31.58s/it]"
     ]
    },
    {
     "name": "stdout",
     "output_type": "stream",
     "text": [
      "Error getting color: for outfit o2Gsg7PoRWe item: 2\n"
     ]
    },
    {
     "name": "stderr",
     "output_type": "stream",
     "text": [
      " 50%|█████     | 3396/6746 [25:09:22<24:53:48, 26.75s/it]"
     ]
    },
    {
     "name": "stdout",
     "output_type": "stream",
     "text": [
      "Error getting color: for outfit iirGN1h5SFa item: 0\n"
     ]
    },
    {
     "name": "stderr",
     "output_type": "stream",
     "text": [
      " 52%|█████▏    | 3479/6746 [25:44:30<14:40:04, 16.16s/it]"
     ]
    },
    {
     "name": "stdout",
     "output_type": "stream",
     "text": [
      "Error getting color: for outfit RuzyEy6dRKW item: 0\n"
     ]
    },
    {
     "name": "stderr",
     "output_type": "stream",
     "text": [
      " 53%|█████▎    | 3564/6746 [26:22:41<24:27:10, 27.67s/it]"
     ]
    },
    {
     "name": "stdout",
     "output_type": "stream",
     "text": [
      "Error getting color: for outfit 1e05ARh4Ru6 item: 0\n",
      "Error getting color: for outfit 1e05ARh4Ru6 item: 1\n"
     ]
    },
    {
     "name": "stderr",
     "output_type": "stream",
     "text": [
      " 53%|█████▎    | 3582/6746 [26:31:18<28:28:58, 32.41s/it]"
     ]
    },
    {
     "name": "stdout",
     "output_type": "stream",
     "text": [
      "Error getting color: for outfit CWGgX-C7SFe item: 2\n"
     ]
    },
    {
     "name": "stderr",
     "output_type": "stream",
     "text": [
      " 53%|█████▎    | 3606/6746 [26:42:43<21:51:28, 25.06s/it]"
     ]
    },
    {
     "name": "stdout",
     "output_type": "stream",
     "text": [
      "Error getting color: for outfit vquTQ6WSQjG item: 0\n"
     ]
    },
    {
     "name": "stderr",
     "output_type": "stream",
     "text": [
      " 54%|█████▍    | 3670/6746 [27:11:43<21:26:51, 25.10s/it]"
     ]
    },
    {
     "name": "stdout",
     "output_type": "stream",
     "text": [
      "Error getting color: for outfit kvjn0XEGR4y item: 1\n"
     ]
    },
    {
     "name": "stderr",
     "output_type": "stream",
     "text": [
      " 55%|█████▍    | 3690/6746 [27:20:39<16:26:52, 19.38s/it]"
     ]
    },
    {
     "name": "stdout",
     "output_type": "stream",
     "text": [
      "Error getting color: for outfit 8rQf5e0NQHe item: 1\n"
     ]
    },
    {
     "name": "stderr",
     "output_type": "stream",
     "text": [
      " 55%|█████▌    | 3712/6746 [27:29:19<19:09:58, 22.74s/it]"
     ]
    },
    {
     "name": "stdout",
     "output_type": "stream",
     "text": [
      "Error getting color: for outfit V4iqp4s5TbW item: 0\n"
     ]
    },
    {
     "name": "stderr",
     "output_type": "stream",
     "text": [
      " 55%|█████▌    | 3739/6746 [27:41:53<22:14:29, 26.63s/it]"
     ]
    },
    {
     "name": "stdout",
     "output_type": "stream",
     "text": [
      "Error getting color: for outfit 4DVEeavfQuq item: 0\n"
     ]
    },
    {
     "name": "stderr",
     "output_type": "stream",
     "text": [
      " 55%|█████▌    | 3744/6746 [27:43:20<16:12:56, 19.45s/it]"
     ]
    },
    {
     "name": "stdout",
     "output_type": "stream",
     "text": [
      "Error getting color: for outfit pAVuv8W7SmG item: 3\n"
     ]
    },
    {
     "name": "stderr",
     "output_type": "stream",
     "text": [
      " 56%|█████▌    | 3751/6746 [27:46:44<18:37:04, 22.38s/it]"
     ]
    },
    {
     "name": "stdout",
     "output_type": "stream",
     "text": [
      "Error getting color: for outfit txsoGZp5QXe item: 5\n"
     ]
    },
    {
     "name": "stderr",
     "output_type": "stream",
     "text": [
      " 56%|█████▋    | 3806/6746 [28:11:58<16:27:45, 20.16s/it]"
     ]
    },
    {
     "name": "stdout",
     "output_type": "stream",
     "text": [
      "Error getting color: for outfit bSXaVD5LRmO item: 1\n"
     ]
    },
    {
     "name": "stderr",
     "output_type": "stream",
     "text": [
      " 57%|█████▋    | 3818/6746 [28:17:11<18:04:24, 22.22s/it]"
     ]
    },
    {
     "name": "stdout",
     "output_type": "stream",
     "text": [
      "Error getting color: for outfit K5ds_nR7RXi item: 0\n",
      "Error getting color: for outfit K5ds_nR7RXi item: 4\n"
     ]
    },
    {
     "name": "stderr",
     "output_type": "stream",
     "text": [
      " 59%|█████▊    | 3963/6746 [29:24:19<19:56:05, 25.79s/it]"
     ]
    },
    {
     "name": "stdout",
     "output_type": "stream",
     "text": [
      "Error getting color: for outfit BOLi_V0VTRG item: 0\n",
      "Error getting color: for outfit BOLi_V0VTRG item: 1\n"
     ]
    },
    {
     "name": "stderr",
     "output_type": "stream",
     "text": [
      " 59%|█████▉    | 3976/6746 [29:28:54<16:48:24, 21.84s/it]"
     ]
    },
    {
     "name": "stdout",
     "output_type": "stream",
     "text": [
      "Error getting color: for outfit tt_YmO0ORQC item: 0\n"
     ]
    },
    {
     "name": "stderr",
     "output_type": "stream",
     "text": [
      " 59%|█████▉    | 4004/6746 [29:41:40<19:40:43, 25.84s/it]"
     ]
    },
    {
     "name": "stdout",
     "output_type": "stream",
     "text": [
      "Error getting color: for outfit QhR9qssuS6O item: 3\n"
     ]
    },
    {
     "name": "stderr",
     "output_type": "stream",
     "text": [
      " 60%|█████▉    | 4016/6746 [29:46:44<11:54:25, 15.70s/it]"
     ]
    },
    {
     "name": "stdout",
     "output_type": "stream",
     "text": [
      "Error getting color: for outfit BHn2LT3qQr2 item: 0\n"
     ]
    },
    {
     "name": "stderr",
     "output_type": "stream",
     "text": [
      " 60%|█████▉    | 4021/6746 [29:49:47<25:26:08, 33.60s/it]"
     ]
    },
    {
     "name": "stdout",
     "output_type": "stream",
     "text": [
      "Error getting color: for outfit jAcGpVI8Q0e item: 0\n"
     ]
    },
    {
     "name": "stderr",
     "output_type": "stream",
     "text": [
      " 60%|█████▉    | 4031/6746 [29:55:02<23:11:31, 30.75s/it]"
     ]
    },
    {
     "name": "stdout",
     "output_type": "stream",
     "text": [
      "Error getting color: for outfit qMXQnuDxSc2 item: 0\n",
      "Error getting color: for outfit qMXQnuDxSc2 item: 1\n"
     ]
    },
    {
     "name": "stderr",
     "output_type": "stream",
     "text": [
      " 60%|██████    | 4049/6746 [30:03:28<17:40:09, 23.59s/it]"
     ]
    },
    {
     "name": "stdout",
     "output_type": "stream",
     "text": [
      "Error getting color: for outfit zKCY3uNjRTO item: 0\n"
     ]
    },
    {
     "name": "stderr",
     "output_type": "stream",
     "text": [
      " 60%|██████    | 4068/6746 [30:11:11<11:14:09, 15.10s/it]"
     ]
    },
    {
     "name": "stdout",
     "output_type": "stream",
     "text": [
      "Error getting color: for outfit cbYzBZxYRGG item: 0\n"
     ]
    },
    {
     "name": "stderr",
     "output_type": "stream",
     "text": [
      " 61%|██████    | 4096/6746 [30:23:19<21:06:43, 28.68s/it]"
     ]
    },
    {
     "name": "stdout",
     "output_type": "stream",
     "text": [
      "Error getting color: for outfit E3ZVxzxrRwG item: 2\n"
     ]
    },
    {
     "name": "stderr",
     "output_type": "stream",
     "text": [
      " 61%|██████    | 4131/6746 [30:39:05<16:12:49, 22.32s/it]"
     ]
    },
    {
     "name": "stdout",
     "output_type": "stream",
     "text": [
      "Error getting color: for outfit VM2Jkq0JRji item: 0\n"
     ]
    },
    {
     "name": "stderr",
     "output_type": "stream",
     "text": [
      " 62%|██████▏   | 4156/6746 [30:49:55<18:28:00, 25.67s/it]"
     ]
    },
    {
     "name": "stdout",
     "output_type": "stream",
     "text": [
      "Error getting color: for outfit B2uGGtsIRue item: 1\n"
     ]
    },
    {
     "name": "stderr",
     "output_type": "stream",
     "text": [
      " 62%|██████▏   | 4166/6746 [30:54:26<19:22:29, 27.03s/it]"
     ]
    },
    {
     "name": "stdout",
     "output_type": "stream",
     "text": [
      "Error getting color: for outfit mFUBcegPT4O item: 0\n"
     ]
    },
    {
     "name": "stderr",
     "output_type": "stream",
     "text": [
      " 62%|██████▏   | 4177/6746 [30:58:51<18:30:52, 25.94s/it]"
     ]
    },
    {
     "name": "stdout",
     "output_type": "stream",
     "text": [
      "Error getting color: for outfit UABbCyHiS4e item: 2\n"
     ]
    },
    {
     "name": "stderr",
     "output_type": "stream",
     "text": [
      " 63%|██████▎   | 4261/6746 [31:38:21<13:53:48, 20.13s/it]"
     ]
    },
    {
     "name": "stdout",
     "output_type": "stream",
     "text": [
      "Error getting color: for outfit rPyHArK2QDq item: 1\n"
     ]
    },
    {
     "name": "stderr",
     "output_type": "stream",
     "text": [
      " 64%|██████▍   | 4342/6746 [32:13:41<15:24:29, 23.07s/it]"
     ]
    },
    {
     "name": "stdout",
     "output_type": "stream",
     "text": [
      "Error getting color: for outfit Z3hIQHz-RV- item: 3\n"
     ]
    },
    {
     "name": "stderr",
     "output_type": "stream",
     "text": [
      " 64%|██████▍   | 4349/6746 [32:17:17<18:26:49, 27.71s/it]"
     ]
    },
    {
     "name": "stdout",
     "output_type": "stream",
     "text": [
      "Error getting color: for outfit ENlVG0vrTaC item: 0\n",
      "Error getting color: for outfit ENlVG0vrTaC item: 1\n",
      "Error getting color: for outfit ENlVG0vrTaC item: 2\n"
     ]
    },
    {
     "name": "stderr",
     "output_type": "stream",
     "text": [
      " 65%|██████▌   | 4407/6746 [32:41:13<16:42:25, 25.71s/it]"
     ]
    },
    {
     "name": "stdout",
     "output_type": "stream",
     "text": [
      "Error getting color: for outfit yjwm2l7oRJS item: 0\n"
     ]
    },
    {
     "name": "stderr",
     "output_type": "stream",
     "text": [
      " 66%|██████▋   | 4470/6746 [33:08:19<12:31:41, 19.82s/it]"
     ]
    },
    {
     "name": "stdout",
     "output_type": "stream",
     "text": [
      "Error getting color: for outfit ZJ6v_bEhQGi item: 0\n",
      "Error getting color: for outfit ZJ6v_bEhQGi item: 1\n"
     ]
    },
    {
     "name": "stderr",
     "output_type": "stream",
     "text": [
      " 67%|██████▋   | 4523/6746 [33:34:06<18:42:15, 30.29s/it]"
     ]
    },
    {
     "name": "stdout",
     "output_type": "stream",
     "text": [
      "Error getting color: for outfit EZGVgcnZQqi item: 1\n"
     ]
    },
    {
     "name": "stderr",
     "output_type": "stream",
     "text": [
      " 69%|██████▊   | 4634/6746 [34:24:33<16:29:52, 28.12s/it]"
     ]
    },
    {
     "name": "stdout",
     "output_type": "stream",
     "text": [
      "Error getting color: for outfit mvhKeQvRSdq item: 1\n"
     ]
    },
    {
     "name": "stderr",
     "output_type": "stream",
     "text": [
      " 69%|██████▉   | 4638/6746 [34:27:01<18:38:46, 31.84s/it]"
     ]
    },
    {
     "name": "stdout",
     "output_type": "stream",
     "text": [
      "Error getting color: for outfit lVrelDeJSJm item: 1\n"
     ]
    },
    {
     "name": "stderr",
     "output_type": "stream",
     "text": [
      " 69%|██████▉   | 4686/6746 [34:49:59<17:46:14, 31.06s/it]"
     ]
    },
    {
     "name": "stdout",
     "output_type": "stream",
     "text": [
      "Error getting color: for outfit XwxelOmBSN6 item: 4\n"
     ]
    },
    {
     "name": "stderr",
     "output_type": "stream",
     "text": [
      " 70%|███████   | 4755/6746 [35:20:53<13:06:01, 23.69s/it]"
     ]
    },
    {
     "name": "stdout",
     "output_type": "stream",
     "text": [
      "Error getting color: for outfit 3b0N7XUmQ2O item: 0\n"
     ]
    },
    {
     "name": "stderr",
     "output_type": "stream",
     "text": [
      " 71%|███████   | 4794/6746 [35:40:25<16:03:46, 29.62s/it]"
     ]
    },
    {
     "name": "stdout",
     "output_type": "stream",
     "text": [
      "Error getting color: for outfit R-tbSN0GT0u item: 4\n"
     ]
    },
    {
     "name": "stderr",
     "output_type": "stream",
     "text": [
      " 72%|███████▏  | 4837/6746 [35:58:28<15:50:11, 29.86s/it]"
     ]
    },
    {
     "name": "stdout",
     "output_type": "stream",
     "text": [
      "Error getting color: for outfit eZz-CpmjQ2i item: 1\n"
     ]
    },
    {
     "name": "stderr",
     "output_type": "stream",
     "text": [
      " 72%|███████▏  | 4848/6746 [36:05:51<20:46:46, 39.41s/it]"
     ]
    },
    {
     "name": "stdout",
     "output_type": "stream",
     "text": [
      "Error getting color: for outfit 7P8uvZURS9C item: 3\n"
     ]
    },
    {
     "name": "stderr",
     "output_type": "stream",
     "text": [
      " 72%|███████▏  | 4863/6746 [36:12:55<15:55:34, 30.45s/it]"
     ]
    },
    {
     "name": "stdout",
     "output_type": "stream",
     "text": [
      "Error getting color: for outfit lsWiMuR5SlK item: 0\n"
     ]
    },
    {
     "name": "stderr",
     "output_type": "stream",
     "text": [
      " 72%|███████▏  | 4881/6746 [36:20:30<11:48:23, 22.79s/it]"
     ]
    },
    {
     "name": "stdout",
     "output_type": "stream",
     "text": [
      "Error getting color: for outfit VHw2Xb_DRfS item: 0\n"
     ]
    },
    {
     "name": "stderr",
     "output_type": "stream",
     "text": [
      " 72%|███████▏  | 4886/6746 [36:22:50<15:08:24, 29.30s/it]"
     ]
    },
    {
     "name": "stdout",
     "output_type": "stream",
     "text": [
      "Error getting color: for outfit yt-pUW05TWG item: 0\n",
      "Error getting color: for outfit yt-pUW05TWG item: 1\n",
      "Error getting color: for outfit yt-pUW05TWG item: 2\n",
      "Error getting color: for outfit yt-pUW05TWG item: 3\n",
      "Error getting color: for outfit yt-pUW05TWG item: 5\n"
     ]
    },
    {
     "name": "stderr",
     "output_type": "stream",
     "text": [
      " 73%|███████▎  | 4903/6746 [36:31:09<14:32:13, 28.40s/it]"
     ]
    },
    {
     "name": "stdout",
     "output_type": "stream",
     "text": [
      "Error getting color: for outfit _2JzD1TFTw- item: 0\n",
      "Error getting color: for outfit _2JzD1TFTw- item: 1\n"
     ]
    },
    {
     "name": "stderr",
     "output_type": "stream",
     "text": [
      " 73%|███████▎  | 4916/6746 [36:37:30<13:59:45, 27.53s/it]"
     ]
    },
    {
     "name": "stdout",
     "output_type": "stream",
     "text": [
      "Error getting color: for outfit 8MosKMtISJG item: 0\n"
     ]
    },
    {
     "name": "stderr",
     "output_type": "stream",
     "text": [
      " 73%|███████▎  | 4933/6746 [36:45:11<11:57:39, 23.75s/it]"
     ]
    },
    {
     "name": "stdout",
     "output_type": "stream",
     "text": [
      "Error getting color: for outfit 7t2KvRG4QvG item: 0\n"
     ]
    },
    {
     "name": "stderr",
     "output_type": "stream",
     "text": [
      " 73%|███████▎  | 4955/6746 [36:55:07<13:05:03, 26.30s/it]"
     ]
    },
    {
     "name": "stdout",
     "output_type": "stream",
     "text": [
      "Error getting color: for outfit IgrK4zYbTEy item: 0\n",
      "Error getting color: for outfit IgrK4zYbTEy item: 1\n"
     ]
    },
    {
     "name": "stderr",
     "output_type": "stream",
     "text": [
      " 74%|███████▍  | 5022/6746 [37:26:49<14:01:58, 29.30s/it]"
     ]
    },
    {
     "name": "stdout",
     "output_type": "stream",
     "text": [
      "Error getting color: for outfit TB02Gdb2QDy item: 1\n"
     ]
    },
    {
     "name": "stderr",
     "output_type": "stream",
     "text": [
      " 75%|███████▌  | 5090/6746 [37:54:34<12:54:36, 28.07s/it]"
     ]
    },
    {
     "name": "stdout",
     "output_type": "stream",
     "text": [
      "Error getting color: for outfit NSRcLyiuTX6 item: 0\n"
     ]
    },
    {
     "name": "stderr",
     "output_type": "stream",
     "text": [
      " 76%|███████▌  | 5134/6746 [38:15:13<14:02:22, 31.35s/it]"
     ]
    },
    {
     "name": "stdout",
     "output_type": "stream",
     "text": [
      "Error getting color: for outfit vZyCdqDbQP- item: 0\n"
     ]
    },
    {
     "name": "stderr",
     "output_type": "stream",
     "text": [
      " 77%|███████▋  | 5169/6746 [38:30:09<10:26:51, 23.85s/it]"
     ]
    },
    {
     "name": "stdout",
     "output_type": "stream",
     "text": [
      "Error getting color: for outfit 9au-bSY8SKy item: 3\n"
     ]
    },
    {
     "name": "stderr",
     "output_type": "stream",
     "text": [
      " 77%|███████▋  | 5193/6746 [38:40:45<11:34:49, 26.84s/it]"
     ]
    },
    {
     "name": "stdout",
     "output_type": "stream",
     "text": [
      "Error getting color: for outfit PQDEbni9S6i item: 0\n"
     ]
    },
    {
     "name": "stderr",
     "output_type": "stream",
     "text": [
      " 77%|███████▋  | 5225/6746 [38:55:20<10:57:42, 25.95s/it]"
     ]
    },
    {
     "name": "stdout",
     "output_type": "stream",
     "text": [
      "Error getting color: for outfit LHH3V-BCQaa item: 0\n"
     ]
    },
    {
     "name": "stderr",
     "output_type": "stream",
     "text": [
      " 78%|███████▊  | 5242/6746 [39:03:49<10:08:23, 24.27s/it]"
     ]
    },
    {
     "name": "stdout",
     "output_type": "stream",
     "text": [
      "Error getting color: for outfit MUNHbngNRmq item: 5\n"
     ]
    },
    {
     "name": "stderr",
     "output_type": "stream",
     "text": [
      " 78%|███████▊  | 5265/6746 [39:13:50<9:31:35, 23.16s/it] "
     ]
    },
    {
     "name": "stdout",
     "output_type": "stream",
     "text": [
      "Error getting color: for outfit zh62eQPySta item: 0\n",
      "Error getting color: for outfit zh62eQPySta item: 2\n"
     ]
    },
    {
     "name": "stderr",
     "output_type": "stream",
     "text": [
      " 78%|███████▊  | 5278/6746 [39:19:38<10:07:45, 24.84s/it]"
     ]
    },
    {
     "name": "stdout",
     "output_type": "stream",
     "text": [
      "Error getting color: for outfit sXIiuNQCSPq item: 0\n"
     ]
    },
    {
     "name": "stderr",
     "output_type": "stream",
     "text": [
      " 78%|███████▊  | 5283/6746 [39:21:36<9:15:05, 22.76s/it] "
     ]
    },
    {
     "name": "stdout",
     "output_type": "stream",
     "text": [
      "Error getting color: for outfit OD4L7kqkRza item: 1\n"
     ]
    },
    {
     "name": "stderr",
     "output_type": "stream",
     "text": [
      " 78%|███████▊  | 5292/6746 [39:25:12<9:19:24, 23.08s/it] "
     ]
    },
    {
     "name": "stdout",
     "output_type": "stream",
     "text": [
      "Error getting color: for outfit 9vjlK9xMSvC item: 3\n"
     ]
    },
    {
     "name": "stderr",
     "output_type": "stream",
     "text": [
      " 79%|███████▊  | 5306/6746 [39:32:53<15:26:59, 38.62s/it]"
     ]
    },
    {
     "name": "stdout",
     "output_type": "stream",
     "text": [
      "Error getting color: for outfit 5Bay-ErCSwa item: 1\n"
     ]
    },
    {
     "name": "stderr",
     "output_type": "stream",
     "text": [
      " 79%|███████▉  | 5326/6746 [39:42:19<8:47:10, 22.28s/it] "
     ]
    },
    {
     "name": "stdout",
     "output_type": "stream",
     "text": [
      "Error getting color: for outfit VzqO_uqzQQ- item: 0\n"
     ]
    },
    {
     "name": "stderr",
     "output_type": "stream",
     "text": [
      " 79%|███████▉  | 5334/6746 [39:44:59<8:35:59, 21.93s/it] "
     ]
    },
    {
     "name": "stdout",
     "output_type": "stream",
     "text": [
      "Error getting color: for outfit t4CjTNtRRX- item: 0\n"
     ]
    },
    {
     "name": "stderr",
     "output_type": "stream",
     "text": [
      " 79%|███████▉  | 5345/6746 [39:50:06<12:21:45, 31.77s/it]"
     ]
    },
    {
     "name": "stdout",
     "output_type": "stream",
     "text": [
      "Error getting color: for outfit H12MS3PgQjO item: 0\n"
     ]
    },
    {
     "name": "stderr",
     "output_type": "stream",
     "text": [
      " 79%|███████▉  | 5360/6746 [39:56:55<8:54:46, 23.15s/it] "
     ]
    },
    {
     "name": "stdout",
     "output_type": "stream",
     "text": [
      "Error getting color: for outfit 9Q_Aj74OQJG item: 0\n",
      "Error getting color: for outfit 9Q_Aj74OQJG item: 1\n",
      "Error getting color: for outfit 9Q_Aj74OQJG item: 3\n"
     ]
    },
    {
     "name": "stderr",
     "output_type": "stream",
     "text": [
      " 80%|████████  | 5424/6746 [40:24:56<7:06:19, 19.35s/it] "
     ]
    },
    {
     "name": "stdout",
     "output_type": "stream",
     "text": [
      "Error getting color: for outfit NXIisTxlQC- item: 0\n"
     ]
    },
    {
     "name": "stderr",
     "output_type": "stream",
     "text": [
      " 81%|████████  | 5462/6746 [40:42:13<9:30:26, 26.66s/it] "
     ]
    },
    {
     "name": "stdout",
     "output_type": "stream",
     "text": [
      "Error getting color: for outfit Iy8RyFO7TNq item: 4\n"
     ]
    },
    {
     "name": "stderr",
     "output_type": "stream",
     "text": [
      " 83%|████████▎ | 5608/6746 [41:46:01<7:46:42, 24.61s/it] "
     ]
    },
    {
     "name": "stdout",
     "output_type": "stream",
     "text": [
      "Error getting color: for outfit 33hRLe7nQyC item: 1\n"
     ]
    },
    {
     "name": "stderr",
     "output_type": "stream",
     "text": [
      " 85%|████████▍ | 5713/6746 [42:38:10<8:49:21, 30.75s/it] "
     ]
    },
    {
     "name": "stdout",
     "output_type": "stream",
     "text": [
      "Error getting color: for outfit spaNnPKMRPC item: 0\n",
      "Error getting color: for outfit spaNnPKMRPC item: 1\n"
     ]
    },
    {
     "name": "stderr",
     "output_type": "stream",
     "text": [
      " 87%|████████▋ | 5850/6746 [43:39:04<7:30:27, 30.16s/it] "
     ]
    },
    {
     "name": "stdout",
     "output_type": "stream",
     "text": [
      "Error getting color: for outfit brhzPWmwQfu item: 1\n",
      "Error getting color: for outfit brhzPWmwQfu item: 2\n"
     ]
    },
    {
     "name": "stderr",
     "output_type": "stream",
     "text": [
      " 87%|████████▋ | 5882/6746 [43:53:09<6:02:38, 25.18s/it]"
     ]
    },
    {
     "name": "stdout",
     "output_type": "stream",
     "text": [
      "Error getting color: for outfit CX-zpqEoSzu item: 0\n"
     ]
    },
    {
     "name": "stderr",
     "output_type": "stream",
     "text": [
      " 87%|████████▋ | 5887/6746 [43:56:06<7:52:12, 32.98s/it]"
     ]
    },
    {
     "name": "stdout",
     "output_type": "stream",
     "text": [
      "Error getting color: for outfit eX0N511lSmi item: 4\n"
     ]
    },
    {
     "name": "stderr",
     "output_type": "stream",
     "text": [
      " 89%|████████▉ | 6011/6746 [44:52:21<4:37:14, 22.63s/it]"
     ]
    },
    {
     "name": "stdout",
     "output_type": "stream",
     "text": [
      "Error getting color: for outfit XWvdYmFCQtO item: 0\n",
      "Error getting color: for outfit XWvdYmFCQtO item: 1\n"
     ]
    },
    {
     "name": "stderr",
     "output_type": "stream",
     "text": [
      " 90%|█████████ | 6084/6746 [45:24:52<4:02:10, 21.95s/it]"
     ]
    },
    {
     "name": "stdout",
     "output_type": "stream",
     "text": [
      "Error getting color: for outfit 8Dal5cSGTrO item: 0\n"
     ]
    },
    {
     "name": "stderr",
     "output_type": "stream",
     "text": [
      " 93%|█████████▎| 6252/6746 [46:43:17<4:54:45, 35.80s/it]"
     ]
    },
    {
     "name": "stdout",
     "output_type": "stream",
     "text": [
      "Error getting color: for outfit ljFIOwrsS4q item: 1\n"
     ]
    },
    {
     "name": "stderr",
     "output_type": "stream",
     "text": [
      " 93%|█████████▎| 6299/6746 [47:06:04<5:10:55, 41.73s/it]"
     ]
    },
    {
     "name": "stdout",
     "output_type": "stream",
     "text": [
      "Error getting color: for outfit y5uii9zKTiC item: 0\n"
     ]
    },
    {
     "name": "stderr",
     "output_type": "stream",
     "text": [
      " 94%|█████████▍| 6330/6746 [47:21:31<2:40:43, 23.18s/it]"
     ]
    },
    {
     "name": "stdout",
     "output_type": "stream",
     "text": [
      "Error getting color: for outfit QnzZfIULQgm item: 2\n"
     ]
    },
    {
     "name": "stderr",
     "output_type": "stream",
     "text": [
      " 94%|█████████▍| 6336/6746 [47:24:49<3:29:00, 30.59s/it]"
     ]
    },
    {
     "name": "stdout",
     "output_type": "stream",
     "text": [
      "Error getting color: for outfit SFExsEe6QaG item: 1\n"
     ]
    },
    {
     "name": "stderr",
     "output_type": "stream",
     "text": [
      " 95%|█████████▍| 6398/6746 [47:49:13<2:35:11, 26.76s/it]"
     ]
    },
    {
     "name": "stdout",
     "output_type": "stream",
     "text": [
      "Error getting color: for outfit 3HgtHODDR-i item: 0\n"
     ]
    },
    {
     "name": "stderr",
     "output_type": "stream",
     "text": [
      " 95%|█████████▌| 6421/6746 [47:58:27<1:42:06, 18.85s/it]"
     ]
    },
    {
     "name": "stdout",
     "output_type": "stream",
     "text": [
      "Error getting color: for outfit xIFejBL4TF6 item: 0\n"
     ]
    },
    {
     "name": "stderr",
     "output_type": "stream",
     "text": [
      " 96%|█████████▌| 6482/6746 [48:25:40<1:51:34, 25.36s/it]"
     ]
    },
    {
     "name": "stdout",
     "output_type": "stream",
     "text": [
      "Error getting color: for outfit 3GLbMokkR1W item: 0\n"
     ]
    },
    {
     "name": "stderr",
     "output_type": "stream",
     "text": [
      " 97%|█████████▋| 6515/6746 [48:40:48<1:43:03, 26.77s/it]"
     ]
    },
    {
     "name": "stdout",
     "output_type": "stream",
     "text": [
      "Error getting color: for outfit Wyx6e3QsS8S item: 0\n"
     ]
    },
    {
     "name": "stderr",
     "output_type": "stream",
     "text": [
      " 97%|█████████▋| 6517/6746 [48:41:40<1:37:52, 25.65s/it]"
     ]
    },
    {
     "name": "stdout",
     "output_type": "stream",
     "text": [
      "Error getting color: for outfit H9DFMBFHQAO item: 0\n"
     ]
    },
    {
     "name": "stderr",
     "output_type": "stream",
     "text": [
      " 97%|█████████▋| 6574/6746 [49:07:17<1:21:18, 28.37s/it]"
     ]
    },
    {
     "name": "stdout",
     "output_type": "stream",
     "text": [
      "Error getting color: for outfit 2caAAAi-QDK item: 1\n"
     ]
    },
    {
     "name": "stderr",
     "output_type": "stream",
     "text": [
      " 99%|█████████▊| 6658/6746 [49:38:41<21:28, 14.64s/it]  "
     ]
    },
    {
     "name": "stdout",
     "output_type": "stream",
     "text": [
      "Error getting color: for outfit n-2OR4nJQzK item: 0\n"
     ]
    },
    {
     "name": "stderr",
     "output_type": "stream",
     "text": [
      "100%|██████████| 6746/6746 [50:15:48<00:00, 26.82s/it]\n"
     ]
    },
    {
     "name": "stdout",
     "output_type": "stream",
     "text": [
      "Finished crawling, wrote csv file\n"
     ]
    }
   ],
   "source": [
    "from time import sleep\n",
    "from tqdm import tqdm\n",
    "import random\n",
    "\n",
    "number_of_clothes = df.shape[0]\n",
    "\n",
    "clothing_items_for_df = []\n",
    "\n",
    "print(\"Start crawling clothes info and images\")\n",
    "\n",
    "outfit_ids = list(set(df['id']))\n",
    "\n",
    "for i in tqdm(range(len(outfit_ids))):\n",
    "#for i in tqdm(range(3)):\n",
    "    outfit_id = outfit_ids[i]\n",
    "    clothes = df[df['id'] == outfit_id]\n",
    "    item_index = 0\n",
    "\n",
    "    for index, row in clothes.iterrows():\n",
    "        try:\n",
    "            image_path = save_clothing_item_image_from_dataframe_record(row, item_index)\n",
    "            df.loc[index, 'image_path'] = image_path\n",
    "        except Exception as err:\n",
    "            print(f\"Error saving image: for outfit {outfit_id} item: {item_index}\")\n",
    "\n",
    "        sleep(random.uniform(0.5, 1))\n",
    "        \n",
    "        try:\n",
    "            df.loc[index, 'clothingItemColor'] = get_color_of_clothing_item_from_detail_page_url(\n",
    "            row['clothingItemDetailUrl'])\n",
    "        except Exception as err:\n",
    "            print(f\"Error getting color: for outfit {outfit_id} item: {item_index}\")\n",
    "\n",
    "        sleep(random.uniform(3, 8))\n",
    "        item_index += 1\n",
    "\n",
    "df.to_csv('woman_outfit_clothes_with_img_file_path_and_color.csv')\n",
    "print(\"Finished crawling, wrote csv file\")"
   ],
   "metadata": {
    "collapsed": false,
    "ExecuteTime": {
     "end_time": "2024-03-29T19:43:01.292246Z",
     "start_time": "2024-03-27T17:27:12.081753Z"
    }
   }
  },
  {
   "cell_type": "code",
   "execution_count": 82,
   "outputs": [
    {
     "data": {
      "text/plain": "       Unnamed: 0                                   outfit_url  \\\n15697       15697  https://www.zalando.ch/outfits/YKUbP7mNRky/   \n15698       15698  https://www.zalando.ch/outfits/YKUbP7mNRky/   \n15699       15699  https://www.zalando.ch/outfits/YKUbP7mNRky/   \n15700       15700  https://www.zalando.ch/outfits/YKUbP7mNRky/   \n15701       15701  https://www.zalando.ch/outfits/YKUbP7mNRky/   \n\n                                       clothingItemName clothingItemBrand  \\\n15697    GRAPHIC RICKIE TEE - T-Shirt basic - lilac/red           Levi's®   \n15698                       LONG - Maxirock - dark blue         PULL&BEAR   \n15699  CLUB C GROUNDS UNISEX - Sneaker low - navy/chalk    Reebok Classic   \n15700      KOTTI UNISEX - Sonnenbrille - black/gradient              CHPO   \n15701                                 Handtasche - gold          Even&Odd   \n\n                                   clothingItemDetailUrl  \\\n15697  https://www.zalando.ch/levis-graphic-rickie-te...   \n15698  https://www.zalando.ch/pullandbear-jeansrock-d...   \n15699  https://www.zalando.ch/reebok-classic-club-gro...   \n15700  https://www.zalando.ch/chpo-kotti-unisex-sonne...   \n15701  https://www.zalando.ch/evenandodd-handtasche-g...   \n\n                             clothingItemPreviewImageUrl           id  \\\n15697  https://img01.ztat.net/article/spp-media-p1/18...  YKUbP7mNRky   \n15698  https://img01.ztat.net/article/spp-media-p1/21...  YKUbP7mNRky   \n15699  https://img01.ztat.net/article/spp-media-p1/06...  YKUbP7mNRky   \n15700  https://img01.ztat.net/article/spp-media-p1/a2...  YKUbP7mNRky   \n15701  https://img01.ztat.net/article/spp-media-p1/f9...  YKUbP7mNRky   \n\n      clothingItemColor                       image_path  \n15697         lilac/red  woman_outfits/YKUbP7mNRky/0.jpg  \n15698         dark blue  woman_outfits/YKUbP7mNRky/1.jpg  \n15699        navy/chalk  woman_outfits/YKUbP7mNRky/2.jpg  \n15700    black/gradient  woman_outfits/YKUbP7mNRky/3.jpg  \n15701              gold  woman_outfits/YKUbP7mNRky/4.jpg  ",
      "text/html": "<div>\n<style scoped>\n    .dataframe tbody tr th:only-of-type {\n        vertical-align: middle;\n    }\n\n    .dataframe tbody tr th {\n        vertical-align: top;\n    }\n\n    .dataframe thead th {\n        text-align: right;\n    }\n</style>\n<table border=\"1\" class=\"dataframe\">\n  <thead>\n    <tr style=\"text-align: right;\">\n      <th></th>\n      <th>Unnamed: 0</th>\n      <th>outfit_url</th>\n      <th>clothingItemName</th>\n      <th>clothingItemBrand</th>\n      <th>clothingItemDetailUrl</th>\n      <th>clothingItemPreviewImageUrl</th>\n      <th>id</th>\n      <th>clothingItemColor</th>\n      <th>image_path</th>\n    </tr>\n  </thead>\n  <tbody>\n    <tr>\n      <th>15697</th>\n      <td>15697</td>\n      <td>https://www.zalando.ch/outfits/YKUbP7mNRky/</td>\n      <td>GRAPHIC RICKIE TEE - T-Shirt basic - lilac/red</td>\n      <td>Levi's®</td>\n      <td>https://www.zalando.ch/levis-graphic-rickie-te...</td>\n      <td>https://img01.ztat.net/article/spp-media-p1/18...</td>\n      <td>YKUbP7mNRky</td>\n      <td>lilac/red</td>\n      <td>woman_outfits/YKUbP7mNRky/0.jpg</td>\n    </tr>\n    <tr>\n      <th>15698</th>\n      <td>15698</td>\n      <td>https://www.zalando.ch/outfits/YKUbP7mNRky/</td>\n      <td>LONG - Maxirock - dark blue</td>\n      <td>PULL&amp;BEAR</td>\n      <td>https://www.zalando.ch/pullandbear-jeansrock-d...</td>\n      <td>https://img01.ztat.net/article/spp-media-p1/21...</td>\n      <td>YKUbP7mNRky</td>\n      <td>dark blue</td>\n      <td>woman_outfits/YKUbP7mNRky/1.jpg</td>\n    </tr>\n    <tr>\n      <th>15699</th>\n      <td>15699</td>\n      <td>https://www.zalando.ch/outfits/YKUbP7mNRky/</td>\n      <td>CLUB C GROUNDS UNISEX - Sneaker low - navy/chalk</td>\n      <td>Reebok Classic</td>\n      <td>https://www.zalando.ch/reebok-classic-club-gro...</td>\n      <td>https://img01.ztat.net/article/spp-media-p1/06...</td>\n      <td>YKUbP7mNRky</td>\n      <td>navy/chalk</td>\n      <td>woman_outfits/YKUbP7mNRky/2.jpg</td>\n    </tr>\n    <tr>\n      <th>15700</th>\n      <td>15700</td>\n      <td>https://www.zalando.ch/outfits/YKUbP7mNRky/</td>\n      <td>KOTTI UNISEX - Sonnenbrille - black/gradient</td>\n      <td>CHPO</td>\n      <td>https://www.zalando.ch/chpo-kotti-unisex-sonne...</td>\n      <td>https://img01.ztat.net/article/spp-media-p1/a2...</td>\n      <td>YKUbP7mNRky</td>\n      <td>black/gradient</td>\n      <td>woman_outfits/YKUbP7mNRky/3.jpg</td>\n    </tr>\n    <tr>\n      <th>15701</th>\n      <td>15701</td>\n      <td>https://www.zalando.ch/outfits/YKUbP7mNRky/</td>\n      <td>Handtasche - gold</td>\n      <td>Even&amp;Odd</td>\n      <td>https://www.zalando.ch/evenandodd-handtasche-g...</td>\n      <td>https://img01.ztat.net/article/spp-media-p1/f9...</td>\n      <td>YKUbP7mNRky</td>\n      <td>gold</td>\n      <td>woman_outfits/YKUbP7mNRky/4.jpg</td>\n    </tr>\n  </tbody>\n</table>\n</div>"
     },
     "execution_count": 82,
     "metadata": {},
     "output_type": "execute_result"
    }
   ],
   "source": [
    "df[df['id'] == 'YKUbP7mNRky']"
   ],
   "metadata": {
    "collapsed": false
   }
  },
  {
   "cell_type": "code",
   "execution_count": null,
   "outputs": [],
   "source": [],
   "metadata": {
    "collapsed": false
   }
  }
 ],
 "metadata": {
  "kernelspec": {
   "display_name": "Python 3",
   "language": "python",
   "name": "python3"
  },
  "language_info": {
   "codemirror_mode": {
    "name": "ipython",
    "version": 2
   },
   "file_extension": ".py",
   "mimetype": "text/x-python",
   "name": "python",
   "nbconvert_exporter": "python",
   "pygments_lexer": "ipython2",
   "version": "2.7.6"
  }
 },
 "nbformat": 4,
 "nbformat_minor": 0
}
