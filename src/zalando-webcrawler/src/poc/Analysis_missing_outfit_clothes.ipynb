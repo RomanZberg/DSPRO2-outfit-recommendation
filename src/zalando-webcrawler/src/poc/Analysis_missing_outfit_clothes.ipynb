{
 "cells": [
  {
   "cell_type": "code",
   "execution_count": 6,
   "metadata": {
    "collapsed": true
   },
   "outputs": [],
   "source": [
    "import pandas as pd\n",
    "\n",
    "df_outfit_details = pd.read_csv('../../datasets/zalando_outfit_detail_pages/woman/20240310-142422.csv')\n",
    "df_clothes = pd.read_csv('../../datasets/zalando_outfit_clothes/woman/woman_outfit_clothes.csv')"
   ]
  },
  {
   "cell_type": "code",
   "execution_count": 15,
   "outputs": [
    {
     "data": {
      "text/plain": "{'https://www.zalando.ch/outfits/1DgyGHs4Rgy/',\n 'https://www.zalando.ch/outfits/2Frqey0IS5W/',\n 'https://www.zalando.ch/outfits/2yu0zsEvQsC/',\n 'https://www.zalando.ch/outfits/31vOrTkQTDS/',\n 'https://www.zalando.ch/outfits/3OCuz0NeSti/',\n 'https://www.zalando.ch/outfits/3y6-1FBCQyS/',\n 'https://www.zalando.ch/outfits/4DQaMCVVS3y/',\n 'https://www.zalando.ch/outfits/5ATovE7XS5a/',\n 'https://www.zalando.ch/outfits/6pp6UfhRQD-/',\n 'https://www.zalando.ch/outfits/6qgvW9Y3QH-/',\n 'https://www.zalando.ch/outfits/6t0833RiTg2/',\n 'https://www.zalando.ch/outfits/78LF3ej8Svq/',\n 'https://www.zalando.ch/outfits/79nDDsEsQc2/',\n 'https://www.zalando.ch/outfits/7DWRk375Tv6/',\n 'https://www.zalando.ch/outfits/7_ogeEdWQLm/',\n 'https://www.zalando.ch/outfits/8cWaD8L3RX2/',\n 'https://www.zalando.ch/outfits/8eGf5xXmSCm/',\n 'https://www.zalando.ch/outfits/8esk7d-XR5y/',\n 'https://www.zalando.ch/outfits/8sP-iI12QaO/',\n 'https://www.zalando.ch/outfits/9BTXElqOS-G/',\n 'https://www.zalando.ch/outfits/9HpM_01uQTu/',\n 'https://www.zalando.ch/outfits/A9fJMlnOQcu/',\n 'https://www.zalando.ch/outfits/BaEZ7C3lQkK/',\n 'https://www.zalando.ch/outfits/BjZYYnjdSBC/',\n 'https://www.zalando.ch/outfits/CFlMdlf8Rt6/',\n 'https://www.zalando.ch/outfits/CfJpmH2cQye/',\n 'https://www.zalando.ch/outfits/CkuBNHe9Qji/',\n 'https://www.zalando.ch/outfits/Cu2uj1TyTx2/',\n 'https://www.zalando.ch/outfits/EB7y-2D8RJG/',\n 'https://www.zalando.ch/outfits/EJ54eWpZRja/',\n 'https://www.zalando.ch/outfits/EOHt03Y5ST2/',\n 'https://www.zalando.ch/outfits/EeCwC4shS3a/',\n 'https://www.zalando.ch/outfits/Etlhg8_kRNy/',\n 'https://www.zalando.ch/outfits/EwZRnu4nTN2/',\n 'https://www.zalando.ch/outfits/FDXifQN8RjC/',\n 'https://www.zalando.ch/outfits/GdO8_ijzSAq/',\n 'https://www.zalando.ch/outfits/IJdoggxuQ0u/',\n 'https://www.zalando.ch/outfits/ISUlTNk5T9-/',\n 'https://www.zalando.ch/outfits/ITvaX38hTvW/',\n 'https://www.zalando.ch/outfits/IZL0x8GYQTe/',\n 'https://www.zalando.ch/outfits/J3Nfa35bTOC/',\n 'https://www.zalando.ch/outfits/JPkxXHvJRq6/',\n 'https://www.zalando.ch/outfits/Jpsnioo3TwC/',\n 'https://www.zalando.ch/outfits/JyIEtEgYRS2/',\n 'https://www.zalando.ch/outfits/KQrD6GRSQ2K/',\n 'https://www.zalando.ch/outfits/LjHtBpfPRm-/',\n 'https://www.zalando.ch/outfits/MN6BQ1BJSxS/',\n 'https://www.zalando.ch/outfits/NCm_4sCsQVa/',\n 'https://www.zalando.ch/outfits/NDjUuGPHQ26/',\n 'https://www.zalando.ch/outfits/NOElzzU0Rce/',\n 'https://www.zalando.ch/outfits/O21vjsZ0Q1q/',\n 'https://www.zalando.ch/outfits/OYx6WUIVSbu/',\n 'https://www.zalando.ch/outfits/OgxNyn0kREW/',\n 'https://www.zalando.ch/outfits/PA84iRSxQqu/',\n 'https://www.zalando.ch/outfits/PXPSAkN7SgK/',\n 'https://www.zalando.ch/outfits/QEHgWzv_S-C/',\n 'https://www.zalando.ch/outfits/QG30WLVIToK/',\n 'https://www.zalando.ch/outfits/QNN_EeEdQ1i/',\n 'https://www.zalando.ch/outfits/QxgkVqqdQU2/',\n 'https://www.zalando.ch/outfits/RDSZ3k0bT5S/',\n 'https://www.zalando.ch/outfits/RgQk7JgYRy-/',\n 'https://www.zalando.ch/outfits/Rj0kjboTQGO/',\n 'https://www.zalando.ch/outfits/Rw5uQTRdQRW/',\n 'https://www.zalando.ch/outfits/S2Oo5GqxRBu/',\n 'https://www.zalando.ch/outfits/SabI5avhTHe/',\n 'https://www.zalando.ch/outfits/Sl20ekwhR8e/',\n 'https://www.zalando.ch/outfits/SxI_5t0_T_a/',\n 'https://www.zalando.ch/outfits/U5RtxXDESqK/',\n 'https://www.zalando.ch/outfits/UEgviQEXSQy/',\n 'https://www.zalando.ch/outfits/UZ6MuTzGQ7a/',\n 'https://www.zalando.ch/outfits/Ub2VfdilRhm/',\n 'https://www.zalando.ch/outfits/UrsC4A9mROi/',\n 'https://www.zalando.ch/outfits/VNOwE-oOTUu/',\n 'https://www.zalando.ch/outfits/VSmYdalTRIu/',\n 'https://www.zalando.ch/outfits/VpfvQMubQ0q/',\n 'https://www.zalando.ch/outfits/W_dwqaj4ROK/',\n 'https://www.zalando.ch/outfits/WqUK2eszScG/',\n 'https://www.zalando.ch/outfits/Wxx-i0GjQ-a/',\n 'https://www.zalando.ch/outfits/XvSBn6uQQ_G/',\n 'https://www.zalando.ch/outfits/Yn6OXeSGQuW/',\n 'https://www.zalando.ch/outfits/YpUiCXITTjG/',\n 'https://www.zalando.ch/outfits/ZYTHvPgQQXq/',\n 'https://www.zalando.ch/outfits/ZzCJMr25TeC/',\n 'https://www.zalando.ch/outfits/_RjZgWXbSr2/',\n 'https://www.zalando.ch/outfits/_nFzkDIkSYy/',\n 'https://www.zalando.ch/outfits/aRdWDYJXQpi/',\n 'https://www.zalando.ch/outfits/acOS-_JQS_K/',\n 'https://www.zalando.ch/outfits/ayRhsTArQWy/',\n 'https://www.zalando.ch/outfits/bTKEbkiOR3u/',\n 'https://www.zalando.ch/outfits/baLlEpH0S92/',\n 'https://www.zalando.ch/outfits/c1AC_4yZQjO/',\n 'https://www.zalando.ch/outfits/ceI0vs2zSLW/',\n 'https://www.zalando.ch/outfits/dP6qg52IT7i/',\n 'https://www.zalando.ch/outfits/dqujuv8jScy/',\n 'https://www.zalando.ch/outfits/dwgiBZdJQIi/',\n 'https://www.zalando.ch/outfits/e493orNsR4m/',\n 'https://www.zalando.ch/outfits/eZ0jTXFaThO/',\n 'https://www.zalando.ch/outfits/ef1eN-LOTpG/',\n 'https://www.zalando.ch/outfits/ezL7_z0BS0W/',\n 'https://www.zalando.ch/outfits/gLSF80qbRDm/',\n 'https://www.zalando.ch/outfits/gLbSiZaHRWy/',\n 'https://www.zalando.ch/outfits/gO9J7teAToy/',\n 'https://www.zalando.ch/outfits/gPmcFbakQX6/',\n 'https://www.zalando.ch/outfits/hduWkM5hQlW/',\n 'https://www.zalando.ch/outfits/jL-jGsdTRbW/',\n 'https://www.zalando.ch/outfits/jP14HANjRqK/',\n 'https://www.zalando.ch/outfits/jsvt9DH9Tt2/',\n 'https://www.zalando.ch/outfits/juoRvOQvTqS/',\n 'https://www.zalando.ch/outfits/jz0A1ChYT8K/',\n 'https://www.zalando.ch/outfits/kZUdNlvSQVa/',\n 'https://www.zalando.ch/outfits/lAxLjtIWT26/',\n 'https://www.zalando.ch/outfits/letFgpKfRVS/',\n 'https://www.zalando.ch/outfits/lhYOPvgZSFO/',\n 'https://www.zalando.ch/outfits/mat48pDRSCS/',\n 'https://www.zalando.ch/outfits/mg7eJeJUQiO/',\n 'https://www.zalando.ch/outfits/mnY7IbQFR22/',\n 'https://www.zalando.ch/outfits/nONcE21cTiS/',\n 'https://www.zalando.ch/outfits/oRJkABYWQEW/',\n 'https://www.zalando.ch/outfits/opCMreOuR7a/',\n 'https://www.zalando.ch/outfits/ot87L3w_TJS/',\n 'https://www.zalando.ch/outfits/p40nGlonQnC/',\n 'https://www.zalando.ch/outfits/pTOcxDRhS9C/',\n 'https://www.zalando.ch/outfits/pg09p9vASwu/',\n 'https://www.zalando.ch/outfits/qElmNtKgRR6/',\n 'https://www.zalando.ch/outfits/qWttycRYTYi/',\n 'https://www.zalando.ch/outfits/qb9v1qmrTWq/',\n 'https://www.zalando.ch/outfits/qtx-9q_KTGK/',\n 'https://www.zalando.ch/outfits/quHIwjQtQ9m/',\n 'https://www.zalando.ch/outfits/rMwDYiPRRai/',\n 'https://www.zalando.ch/outfits/rRqr0yVDQD2/',\n 'https://www.zalando.ch/outfits/sR95o6PuQ3O/',\n 'https://www.zalando.ch/outfits/tJuhOkCBSNe/',\n 'https://www.zalando.ch/outfits/tjjT38VsThG/',\n 'https://www.zalando.ch/outfits/tnhPUbgwRV6/',\n 'https://www.zalando.ch/outfits/tvVX19QDTyq/',\n 'https://www.zalando.ch/outfits/uCx8edM3RmO/',\n 'https://www.zalando.ch/outfits/vS1vb60hSJK/',\n 'https://www.zalando.ch/outfits/w-bXmThHRpO/',\n 'https://www.zalando.ch/outfits/whXexW45SHG/',\n 'https://www.zalando.ch/outfits/xCkGJN2lTqi/',\n 'https://www.zalando.ch/outfits/xq1JGWX-TPu/',\n 'https://www.zalando.ch/outfits/yCC94-KGQmO/',\n 'https://www.zalando.ch/outfits/yGhjTR2aTbW/',\n 'https://www.zalando.ch/outfits/yxgLIo7ERq6/',\n 'https://www.zalando.ch/outfits/zSqtMaqAQay/',\n 'https://www.zalando.ch/outfits/zbyItndgRY6/'}"
     },
     "execution_count": 15,
     "metadata": {},
     "output_type": "execute_result"
    }
   ],
   "source": [
    "set(df_outfit_details['outfit_detail_url']) - set(df_clothes['outfit_url'])\n"
   ],
   "metadata": {
    "collapsed": false
   }
  },
  {
   "cell_type": "code",
   "execution_count": 10,
   "outputs": [
    {
     "data": {
      "text/plain": "6746"
     },
     "execution_count": 10,
     "metadata": {},
     "output_type": "execute_result"
    }
   ],
   "source": [
    "\n"
   ],
   "metadata": {
    "collapsed": false
   }
  },
  {
   "cell_type": "code",
   "execution_count": null,
   "outputs": [],
   "source": [],
   "metadata": {
    "collapsed": false
   }
  }
 ],
 "metadata": {
  "kernelspec": {
   "display_name": "Python 3",
   "language": "python",
   "name": "python3"
  },
  "language_info": {
   "codemirror_mode": {
    "name": "ipython",
    "version": 2
   },
   "file_extension": ".py",
   "mimetype": "text/x-python",
   "name": "python",
   "nbconvert_exporter": "python",
   "pygments_lexer": "ipython2",
   "version": "2.7.6"
  }
 },
 "nbformat": 4,
 "nbformat_minor": 0
}
