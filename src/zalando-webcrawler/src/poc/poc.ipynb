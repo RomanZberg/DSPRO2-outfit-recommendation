{
 "cells": [
  {
   "cell_type": "code",
   "execution_count": 1,
   "metadata": {
    "collapsed": true
   },
   "outputs": [],
   "source": [
    "from selenium import webdriver\n",
    "from selenium.webdriver.common.keys import Keys\n",
    "from selenium.webdriver.common.by import By\n",
    "from time import sleep\n",
    "import random\n",
    "import subprocess\n",
    "\n",
    "driver = None\n",
    "\n",
    "cService = webdriver.ChromeService(executable_path='./chromedriver-mac-x64/chromedriver')"
   ]
  },
  {
   "cell_type": "code",
   "execution_count": 2,
   "outputs": [],
   "source": [
    "driver = webdriver.Chrome(service=cService)\n",
    "driver.get(\"https://www.zalando.ch/get-the-look-damen/?style=style_all\")"
   ],
   "metadata": {
    "collapsed": false
   }
  },
  {
   "cell_type": "code",
   "execution_count": 20,
   "outputs": [],
   "source": [
    "def get_outfit_html_items(url):\n",
    "    global driver\n",
    "\n",
    "    if driver is not None:\n",
    "        driver.close()\n",
    "        pass\n",
    "\n",
    "    driver = webdriver.Chrome(service=cService)\n",
    "\n",
    "    def get_body_height():\n",
    "        return driver.find_element(By.CSS_SELECTOR, 'body').size[\"height\"]\n",
    "\n",
    "    driver.get(url)\n",
    "    sleep(7)\n",
    "    driver.find_element(By.CSS_SELECTOR, '#uc-btn-accept-banner').click()\n",
    "    #driver.minimize_window()\n",
    "\n",
    "    last_height = 0\n",
    "\n",
    "    while last_height != get_body_height():\n",
    "        last_height = get_body_height()\n",
    "        driver.execute_script(f\"window.scrollTo(0, document.body.scrollHeight - {random.uniform(1400, 1700)});\")\n",
    "        sleep(random.uniform(2, 10))\n",
    "        driver.execute_script(\n",
    "            f\"document.querySelectorAll('._2Pvyxl')[document.querySelectorAll('._2Pvyxl').length - 1].scrollIntoView();\")\n",
    "        sleep(random.uniform(2, 10))\n",
    "\n",
    "    return driver.find_elements(By.CSS_SELECTOR, '._LM.JT3_zV.CKDt_l.CKDt_l.LyRfpJ')\n"
   ],
   "metadata": {
    "collapsed": false
   }
  },
  {
   "cell_type": "code",
   "execution_count": 21,
   "outputs": [],
   "source": [
    "subprocess.Popen('caffeinate')\n",
    "outfits_sporty = get_outfit_html_items(\"https://www.zalando.ch/get-the-look-damen/?style=style_sporty\")\n",
    "outfits_extravagant = get_outfit_html_items(\"https://www.zalando.ch/get-the-look-damen/?style=style_extravagant\")\n",
    "outfits_party = get_outfit_html_items(\"https://www.zalando.ch/get-the-look-damen/?style=style_party\")\n",
    "outfits_urban = get_outfit_html_items(\"https://www.zalando.ch/get-the-look-damen/?style=style_urban\")\n",
    "outfits_casual = get_outfit_html_items(\"https://www.zalando.ch/get-the-look-damen/?style=style_casual\")\n",
    "outfits_classic = get_outfit_html_items(\"https://www.zalando.ch/get-the-look-damen/?style=style_classic\")\n"
   ],
   "metadata": {
    "collapsed": false
   }
  },
  {
   "cell_type": "code",
   "execution_count": 22,
   "outputs": [
    {
     "data": {
      "text/plain": "6725"
     },
     "execution_count": 22,
     "metadata": {},
     "output_type": "execute_result"
    }
   ],
   "source": [],
   "metadata": {
    "collapsed": false
   }
  },
  {
   "cell_type": "code",
   "execution_count": 23,
   "outputs": [
    {
     "ename": "AttributeError",
     "evalue": "'str' object has no attribute 'get_attribute'",
     "output_type": "error",
     "traceback": [
      "\u001B[0;31m---------------------------------------------------------------------------\u001B[0m",
      "\u001B[0;31mAttributeError\u001B[0m                            Traceback (most recent call last)",
      "Cell \u001B[0;32mIn[23], line 1\u001B[0m\n\u001B[0;32m----> 1\u001B[0m links \u001B[38;5;241m=\u001B[39m \u001B[38;5;28;43mlist\u001B[39;49m\u001B[43m(\u001B[49m\u001B[38;5;28;43mmap\u001B[39;49m\u001B[43m(\u001B[49m\u001B[38;5;28;43;01mlambda\u001B[39;49;00m\u001B[43m \u001B[49m\u001B[43mx\u001B[49m\u001B[43m:\u001B[49m\u001B[43m \u001B[49m\u001B[43mx\u001B[49m\u001B[38;5;241;43m.\u001B[39;49m\u001B[43mget_attribute\u001B[49m\u001B[43m(\u001B[49m\u001B[38;5;124;43m'\u001B[39;49m\u001B[38;5;124;43mhref\u001B[39;49m\u001B[38;5;124;43m'\u001B[39;49m\u001B[43m)\u001B[49m\u001B[43m,\u001B[49m\u001B[43m \u001B[49m\u001B[43moutfits\u001B[49m\u001B[43m)\u001B[49m\u001B[43m)\u001B[49m\n\u001B[1;32m      2\u001B[0m links\n",
      "Cell \u001B[0;32mIn[23], line 1\u001B[0m, in \u001B[0;36m<lambda>\u001B[0;34m(x)\u001B[0m\n\u001B[0;32m----> 1\u001B[0m links \u001B[38;5;241m=\u001B[39m \u001B[38;5;28mlist\u001B[39m(\u001B[38;5;28mmap\u001B[39m(\u001B[38;5;28;01mlambda\u001B[39;00m x: \u001B[43mx\u001B[49m\u001B[38;5;241;43m.\u001B[39;49m\u001B[43mget_attribute\u001B[49m(\u001B[38;5;124m'\u001B[39m\u001B[38;5;124mhref\u001B[39m\u001B[38;5;124m'\u001B[39m), outfits))\n\u001B[1;32m      2\u001B[0m links\n",
      "\u001B[0;31mAttributeError\u001B[0m: 'str' object has no attribute 'get_attribute'"
     ]
    }
   ],
   "source": [
    "records_sporty = list(map(lambda x: (x.get_attribute('href'), 'sporty'), outfits_sporty))\n",
    "records_extravagant = list(map(lambda x: (x.get_attribute('href'), 'extravagant'), outfits_extravagant))\n",
    "records_party = list(map(lambda x: (x.get_attribute('href'), 'party'), outfits_party))\n",
    "records_urban = list(map(lambda x: (x.get_attribute('href'), 'urban'), outfits_urban))\n",
    "records_casual = list(map(lambda x: (x.get_attribute('href'), 'casual'), outfits_casual))\n",
    "records_classic = list(map(lambda x: (x.get_attribute('href'), 'classic'), outfits_classic))\n",
    "\n",
    "all_records = []\n",
    "all_records.extend(records_sporty)\n",
    "all_records.extend(records_extravagant)\n",
    "all_records.extend(records_party)\n",
    "all_records.extend(records_urban)\n",
    "all_records.extend(records_casual)\n",
    "all_records.extend(records_classic)\n",
    "\n",
    "df = pd.DataFrame(all_records, columns=['outfit_detail_url', 'outfit_type'])\n"
   ],
   "metadata": {
    "collapsed": false
   }
  },
  {
   "cell_type": "code",
   "execution_count": 9,
   "outputs": [
    {
     "data": {
      "text/plain": "                                              url\n0     https://www.zalando.ch/outfits/6pp6UfhRQD-/\n1     https://www.zalando.ch/outfits/5Bay-ErCSwa/\n2     https://www.zalando.ch/outfits/lqdPJ6bSSvi/\n3     https://www.zalando.ch/outfits/8m6Lxu5DRm-/\n4     https://www.zalando.ch/outfits/p_pBMObnSJC/\n...                                           ...\n6477  https://www.zalando.ch/outfits/c9rWpGGcRRu/\n6478  https://www.zalando.ch/outfits/ywabM2KNSPK/\n6479  https://www.zalando.ch/outfits/FOmLRaT0Rnu/\n6480  https://www.zalando.ch/outfits/IMi9cMhhTSm/\n6481  https://www.zalando.ch/outfits/tUljaAGSTG6/\n\n[6482 rows x 1 columns]",
      "text/html": "<div>\n<style scoped>\n    .dataframe tbody tr th:only-of-type {\n        vertical-align: middle;\n    }\n\n    .dataframe tbody tr th {\n        vertical-align: top;\n    }\n\n    .dataframe thead th {\n        text-align: right;\n    }\n</style>\n<table border=\"1\" class=\"dataframe\">\n  <thead>\n    <tr style=\"text-align: right;\">\n      <th></th>\n      <th>url</th>\n    </tr>\n  </thead>\n  <tbody>\n    <tr>\n      <th>0</th>\n      <td>https://www.zalando.ch/outfits/6pp6UfhRQD-/</td>\n    </tr>\n    <tr>\n      <th>1</th>\n      <td>https://www.zalando.ch/outfits/5Bay-ErCSwa/</td>\n    </tr>\n    <tr>\n      <th>2</th>\n      <td>https://www.zalando.ch/outfits/lqdPJ6bSSvi/</td>\n    </tr>\n    <tr>\n      <th>3</th>\n      <td>https://www.zalando.ch/outfits/8m6Lxu5DRm-/</td>\n    </tr>\n    <tr>\n      <th>4</th>\n      <td>https://www.zalando.ch/outfits/p_pBMObnSJC/</td>\n    </tr>\n    <tr>\n      <th>...</th>\n      <td>...</td>\n    </tr>\n    <tr>\n      <th>6477</th>\n      <td>https://www.zalando.ch/outfits/c9rWpGGcRRu/</td>\n    </tr>\n    <tr>\n      <th>6478</th>\n      <td>https://www.zalando.ch/outfits/ywabM2KNSPK/</td>\n    </tr>\n    <tr>\n      <th>6479</th>\n      <td>https://www.zalando.ch/outfits/FOmLRaT0Rnu/</td>\n    </tr>\n    <tr>\n      <th>6480</th>\n      <td>https://www.zalando.ch/outfits/IMi9cMhhTSm/</td>\n    </tr>\n    <tr>\n      <th>6481</th>\n      <td>https://www.zalando.ch/outfits/tUljaAGSTG6/</td>\n    </tr>\n  </tbody>\n</table>\n<p>6482 rows × 1 columns</p>\n</div>"
     },
     "execution_count": 9,
     "metadata": {},
     "output_type": "execute_result"
    }
   ],
   "source": [
    "import datetime\n",
    "import pandas as pd\n",
    "\n",
    "filename1 = f'{datetime.datetime.now().strftime(\"%Y%m%d-%H%M%S\")}.csv'\n",
    "df"
   ],
   "metadata": {
    "collapsed": false
   }
  },
  {
   "cell_type": "code",
   "execution_count": 11,
   "outputs": [],
   "source": [
    "import os\n",
    "\n",
    "zalando_dir_path = '../datasets/zalando_outfit_detail_pages'\n",
    "if not os.path.exists(zalando_dir_path):\n",
    "    os.makedirs(zalando_dir_path)\n",
    "df.to_csv(f'{zalando_dir_path}/{filename1}')"
   ],
   "metadata": {
    "collapsed": false
   }
  }
 ],
 "metadata": {
  "kernelspec": {
   "display_name": "Python 3",
   "language": "python",
   "name": "python3"
  },
  "language_info": {
   "codemirror_mode": {
    "name": "ipython",
    "version": 2
   },
   "file_extension": ".py",
   "mimetype": "text/x-python",
   "name": "python",
   "nbconvert_exporter": "python",
   "pygments_lexer": "ipython2",
   "version": "2.7.6"
  }
 },
 "nbformat": 4,
 "nbformat_minor": 0
}
