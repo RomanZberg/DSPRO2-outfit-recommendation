{
 "cells": [
  {
   "cell_type": "code",
   "execution_count": 45,
   "metadata": {
    "collapsed": true
   },
   "outputs": [],
   "source": [
    "import ssl\n",
    "import pandas as pd\n",
    "import wandb\n",
    "\n",
    "ssl._create_default_https_context = ssl._create_unverified_context\n",
    "import os\n",
    "from torch.utils.data import DataLoader\n",
    "from torch import nn\n",
    "from torchvision.io import read_image\n",
    "from torchvision.transforms import v2\n",
    "import torch\n",
    "import torchvision.transforms as T\n",
    "import json\n",
    "import urllib\n",
    "import requests\n",
    "from PIL import Image\n",
    "from io import BytesIO\n",
    "import numpy as np\n",
    "from sklearn.model_selection import train_test_split"
   ]
  },
  {
   "cell_type": "code",
   "execution_count": 46,
   "outputs": [
    {
     "data": {
      "text/plain": "            image1          image2          image3          image4  \\\n0    image 1 row 0   image 2 row 0   image 3 row 0   image 4 row 0   \n1    image 1 row 1   image 2 row 1   image 3 row 1   image 4 row 1   \n2    image 1 row 2   image 2 row 2   image 3 row 2   image 4 row 2   \n3    image 1 row 3   image 2 row 3   image 3 row 3   image 4 row 3   \n4    image 1 row 4   image 2 row 4   image 3 row 4   image 4 row 4   \n5    image 1 row 5   image 2 row 5   image 3 row 5   image 4 row 5   \n6    image 1 row 6   image 2 row 6   image 3 row 6   image 4 row 6   \n7    image 1 row 7   image 2 row 7   image 3 row 7   image 4 row 7   \n8    image 1 row 8   image 2 row 8   image 3 row 8   image 4 row 8   \n9    image 1 row 9   image 2 row 9   image 3 row 9   image 4 row 9   \n10  image 1 row 10  image 2 row 10  image 3 row 10  image 4 row 10   \n11  image 1 row 11  image 2 row 11  image 3 row 11  image 4 row 11   \n12  image 1 row 12  image 2 row 12  image 3 row 12  image 4 row 12   \n13  image 1 row 13  image 2 row 13  image 3 row 13  image 4 row 13   \n14  image 1 row 14  image 2 row 14  image 3 row 14  image 4 row 14   \n15  image 1 row 15  image 2 row 15  image 3 row 15  image 4 row 15   \n16  image 1 row 16  image 2 row 16  image 3 row 16  image 4 row 16   \n17  image 1 row 17  image 2 row 17  image 3 row 17  image 4 row 17   \n18  image 1 row 18  image 2 row 18  image 3 row 18  image 4 row 18   \n19  image 1 row 19  image 2 row 19  image 3 row 19  image 4 row 19   \n\n            image5           target  \n0    image 5 row 0   target 5 row 0  \n1    image 5 row 1   target 5 row 1  \n2    image 5 row 2   target 5 row 2  \n3    image 5 row 3   target 5 row 3  \n4    image 5 row 4   target 5 row 4  \n5    image 5 row 5   target 5 row 5  \n6    image 5 row 6   target 5 row 6  \n7    image 5 row 7   target 5 row 7  \n8    image 5 row 8   target 5 row 8  \n9    image 5 row 9   target 5 row 9  \n10  image 5 row 10  target 5 row 10  \n11  image 5 row 11  target 5 row 11  \n12  image 5 row 12  target 5 row 12  \n13  image 5 row 13  target 5 row 13  \n14  image 5 row 14  target 5 row 14  \n15  image 5 row 15  target 5 row 15  \n16  image 5 row 16  target 5 row 16  \n17  image 5 row 17  target 5 row 17  \n18  image 5 row 18  target 5 row 18  \n19  image 5 row 19  target 5 row 19  ",
      "text/html": "<div>\n<style scoped>\n    .dataframe tbody tr th:only-of-type {\n        vertical-align: middle;\n    }\n\n    .dataframe tbody tr th {\n        vertical-align: top;\n    }\n\n    .dataframe thead th {\n        text-align: right;\n    }\n</style>\n<table border=\"1\" class=\"dataframe\">\n  <thead>\n    <tr style=\"text-align: right;\">\n      <th></th>\n      <th>image1</th>\n      <th>image2</th>\n      <th>image3</th>\n      <th>image4</th>\n      <th>image5</th>\n      <th>target</th>\n    </tr>\n  </thead>\n  <tbody>\n    <tr>\n      <th>0</th>\n      <td>image 1 row 0</td>\n      <td>image 2 row 0</td>\n      <td>image 3 row 0</td>\n      <td>image 4 row 0</td>\n      <td>image 5 row 0</td>\n      <td>target 5 row 0</td>\n    </tr>\n    <tr>\n      <th>1</th>\n      <td>image 1 row 1</td>\n      <td>image 2 row 1</td>\n      <td>image 3 row 1</td>\n      <td>image 4 row 1</td>\n      <td>image 5 row 1</td>\n      <td>target 5 row 1</td>\n    </tr>\n    <tr>\n      <th>2</th>\n      <td>image 1 row 2</td>\n      <td>image 2 row 2</td>\n      <td>image 3 row 2</td>\n      <td>image 4 row 2</td>\n      <td>image 5 row 2</td>\n      <td>target 5 row 2</td>\n    </tr>\n    <tr>\n      <th>3</th>\n      <td>image 1 row 3</td>\n      <td>image 2 row 3</td>\n      <td>image 3 row 3</td>\n      <td>image 4 row 3</td>\n      <td>image 5 row 3</td>\n      <td>target 5 row 3</td>\n    </tr>\n    <tr>\n      <th>4</th>\n      <td>image 1 row 4</td>\n      <td>image 2 row 4</td>\n      <td>image 3 row 4</td>\n      <td>image 4 row 4</td>\n      <td>image 5 row 4</td>\n      <td>target 5 row 4</td>\n    </tr>\n    <tr>\n      <th>5</th>\n      <td>image 1 row 5</td>\n      <td>image 2 row 5</td>\n      <td>image 3 row 5</td>\n      <td>image 4 row 5</td>\n      <td>image 5 row 5</td>\n      <td>target 5 row 5</td>\n    </tr>\n    <tr>\n      <th>6</th>\n      <td>image 1 row 6</td>\n      <td>image 2 row 6</td>\n      <td>image 3 row 6</td>\n      <td>image 4 row 6</td>\n      <td>image 5 row 6</td>\n      <td>target 5 row 6</td>\n    </tr>\n    <tr>\n      <th>7</th>\n      <td>image 1 row 7</td>\n      <td>image 2 row 7</td>\n      <td>image 3 row 7</td>\n      <td>image 4 row 7</td>\n      <td>image 5 row 7</td>\n      <td>target 5 row 7</td>\n    </tr>\n    <tr>\n      <th>8</th>\n      <td>image 1 row 8</td>\n      <td>image 2 row 8</td>\n      <td>image 3 row 8</td>\n      <td>image 4 row 8</td>\n      <td>image 5 row 8</td>\n      <td>target 5 row 8</td>\n    </tr>\n    <tr>\n      <th>9</th>\n      <td>image 1 row 9</td>\n      <td>image 2 row 9</td>\n      <td>image 3 row 9</td>\n      <td>image 4 row 9</td>\n      <td>image 5 row 9</td>\n      <td>target 5 row 9</td>\n    </tr>\n    <tr>\n      <th>10</th>\n      <td>image 1 row 10</td>\n      <td>image 2 row 10</td>\n      <td>image 3 row 10</td>\n      <td>image 4 row 10</td>\n      <td>image 5 row 10</td>\n      <td>target 5 row 10</td>\n    </tr>\n    <tr>\n      <th>11</th>\n      <td>image 1 row 11</td>\n      <td>image 2 row 11</td>\n      <td>image 3 row 11</td>\n      <td>image 4 row 11</td>\n      <td>image 5 row 11</td>\n      <td>target 5 row 11</td>\n    </tr>\n    <tr>\n      <th>12</th>\n      <td>image 1 row 12</td>\n      <td>image 2 row 12</td>\n      <td>image 3 row 12</td>\n      <td>image 4 row 12</td>\n      <td>image 5 row 12</td>\n      <td>target 5 row 12</td>\n    </tr>\n    <tr>\n      <th>13</th>\n      <td>image 1 row 13</td>\n      <td>image 2 row 13</td>\n      <td>image 3 row 13</td>\n      <td>image 4 row 13</td>\n      <td>image 5 row 13</td>\n      <td>target 5 row 13</td>\n    </tr>\n    <tr>\n      <th>14</th>\n      <td>image 1 row 14</td>\n      <td>image 2 row 14</td>\n      <td>image 3 row 14</td>\n      <td>image 4 row 14</td>\n      <td>image 5 row 14</td>\n      <td>target 5 row 14</td>\n    </tr>\n    <tr>\n      <th>15</th>\n      <td>image 1 row 15</td>\n      <td>image 2 row 15</td>\n      <td>image 3 row 15</td>\n      <td>image 4 row 15</td>\n      <td>image 5 row 15</td>\n      <td>target 5 row 15</td>\n    </tr>\n    <tr>\n      <th>16</th>\n      <td>image 1 row 16</td>\n      <td>image 2 row 16</td>\n      <td>image 3 row 16</td>\n      <td>image 4 row 16</td>\n      <td>image 5 row 16</td>\n      <td>target 5 row 16</td>\n    </tr>\n    <tr>\n      <th>17</th>\n      <td>image 1 row 17</td>\n      <td>image 2 row 17</td>\n      <td>image 3 row 17</td>\n      <td>image 4 row 17</td>\n      <td>image 5 row 17</td>\n      <td>target 5 row 17</td>\n    </tr>\n    <tr>\n      <th>18</th>\n      <td>image 1 row 18</td>\n      <td>image 2 row 18</td>\n      <td>image 3 row 18</td>\n      <td>image 4 row 18</td>\n      <td>image 5 row 18</td>\n      <td>target 5 row 18</td>\n    </tr>\n    <tr>\n      <th>19</th>\n      <td>image 1 row 19</td>\n      <td>image 2 row 19</td>\n      <td>image 3 row 19</td>\n      <td>image 4 row 19</td>\n      <td>image 5 row 19</td>\n      <td>target 5 row 19</td>\n    </tr>\n  </tbody>\n</table>\n</div>"
     },
     "execution_count": 46,
     "metadata": {},
     "output_type": "execute_result"
    }
   ],
   "source": [
    "dataframe = pd.DataFrame()\n",
    "dataframe['image1'] = [f'image 1 row {i}' for i in range(20)]\n",
    "dataframe['image2'] = [f'image 2 row {i}' for i in range(20)]\n",
    "dataframe['image3'] = [f'image 3 row {i}' for i in range(20)]\n",
    "dataframe['image4'] = [f'image 4 row {i}' for i in range(20)]\n",
    "dataframe['image5'] = [f'image 5 row {i}' for i in range(20)]\n",
    "dataframe['target'] = [f'target 5 row {i}' for i in range(20)]\n",
    "dataframe"
   ],
   "metadata": {
    "collapsed": false
   }
  },
  {
   "cell_type": "code",
   "execution_count": 47,
   "outputs": [
    {
     "data": {
      "text/plain": "device(type='cpu')"
     },
     "execution_count": 47,
     "metadata": {},
     "output_type": "execute_result"
    }
   ],
   "source": [
    "device = torch.device(\"cuda\" if torch.cuda.is_available() else \"cpu\")\n",
    "device"
   ],
   "metadata": {
    "collapsed": false
   }
  },
  {
   "cell_type": "markdown",
   "source": [
    "# Input"
   ],
   "metadata": {
    "collapsed": false
   }
  },
  {
   "cell_type": "code",
   "execution_count": 48,
   "outputs": [],
   "source": [
    "class CustomDataset(torch.utils.data.Dataset):\n",
    "    def __init__(self, data_frame):\n",
    "        self.df = data_frame\n",
    "\n",
    "    def __getitem__(self, index):\n",
    "        outfit = self.df.iloc[index]\n",
    "        # print(f'accessoire shape: {img_accessoire.shape}; path={outfit[\"Accessoire_imagePath\"]}')\n",
    "        # print(f'innerwear shape: {img_innerwear.shape}; path={outfit[\"Innerwear_imagePath\"]}')\n",
    "        return torch.cat([\n",
    "            torch.tensor(range(index * 100 + 0 + 1, index * 100 + 0 + 11)),\n",
    "            torch.tensor(range(index * 100 + 10 + 1, index * 100 + 10 + 11)),\n",
    "            torch.tensor(range(index * 100 + 20 + 1, index * 100 + 20 + 11)),\n",
    "            torch.tensor(range(index * 100 + 30 + 1, index * 100 + 30 + 11)),\n",
    "            torch.tensor(range(index * 100 + 40 + 1, index * 100 + 40 + 11)),\n",
    "        ]), outfit['target']\n",
    "\n",
    "    def __len__(self):\n",
    "        return self.df.shape[0]"
   ],
   "metadata": {
    "collapsed": false
   }
  },
  {
   "cell_type": "code",
   "execution_count": 49,
   "outputs": [
    {
     "name": "stdout",
     "output_type": "stream",
     "text": [
      "torch.Size([7, 50])\n",
      "tensor([[ 101,  102,  103,  104,  105,  106,  107,  108,  109,  110],\n",
      "        [ 111,  112,  113,  114,  115,  116,  117,  118,  119,  120],\n",
      "        [ 121,  122,  123,  124,  125,  126,  127,  128,  129,  130],\n",
      "        [ 131,  132,  133,  134,  135,  136,  137,  138,  139,  140],\n",
      "        [ 141,  142,  143,  144,  145,  146,  147,  148,  149,  150],\n",
      "        [1801, 1802, 1803, 1804, 1805, 1806, 1807, 1808, 1809, 1810],\n",
      "        [1811, 1812, 1813, 1814, 1815, 1816, 1817, 1818, 1819, 1820],\n",
      "        [1821, 1822, 1823, 1824, 1825, 1826, 1827, 1828, 1829, 1830],\n",
      "        [1831, 1832, 1833, 1834, 1835, 1836, 1837, 1838, 1839, 1840],\n",
      "        [1841, 1842, 1843, 1844, 1845, 1846, 1847, 1848, 1849, 1850],\n",
      "        [1201, 1202, 1203, 1204, 1205, 1206, 1207, 1208, 1209, 1210],\n",
      "        [1211, 1212, 1213, 1214, 1215, 1216, 1217, 1218, 1219, 1220],\n",
      "        [1221, 1222, 1223, 1224, 1225, 1226, 1227, 1228, 1229, 1230],\n",
      "        [1231, 1232, 1233, 1234, 1235, 1236, 1237, 1238, 1239, 1240],\n",
      "        [1241, 1242, 1243, 1244, 1245, 1246, 1247, 1248, 1249, 1250],\n",
      "        [ 901,  902,  903,  904,  905,  906,  907,  908,  909,  910],\n",
      "        [ 911,  912,  913,  914,  915,  916,  917,  918,  919,  920],\n",
      "        [ 921,  922,  923,  924,  925,  926,  927,  928,  929,  930],\n",
      "        [ 931,  932,  933,  934,  935,  936,  937,  938,  939,  940],\n",
      "        [ 941,  942,  943,  944,  945,  946,  947,  948,  949,  950],\n",
      "        [1001, 1002, 1003, 1004, 1005, 1006, 1007, 1008, 1009, 1010],\n",
      "        [1011, 1012, 1013, 1014, 1015, 1016, 1017, 1018, 1019, 1020],\n",
      "        [1021, 1022, 1023, 1024, 1025, 1026, 1027, 1028, 1029, 1030],\n",
      "        [1031, 1032, 1033, 1034, 1035, 1036, 1037, 1038, 1039, 1040],\n",
      "        [1041, 1042, 1043, 1044, 1045, 1046, 1047, 1048, 1049, 1050],\n",
      "        [ 501,  502,  503,  504,  505,  506,  507,  508,  509,  510],\n",
      "        [ 511,  512,  513,  514,  515,  516,  517,  518,  519,  520],\n",
      "        [ 521,  522,  523,  524,  525,  526,  527,  528,  529,  530],\n",
      "        [ 531,  532,  533,  534,  535,  536,  537,  538,  539,  540],\n",
      "        [ 541,  542,  543,  544,  545,  546,  547,  548,  549,  550],\n",
      "        [ 301,  302,  303,  304,  305,  306,  307,  308,  309,  310],\n",
      "        [ 311,  312,  313,  314,  315,  316,  317,  318,  319,  320],\n",
      "        [ 321,  322,  323,  324,  325,  326,  327,  328,  329,  330],\n",
      "        [ 331,  332,  333,  334,  335,  336,  337,  338,  339,  340],\n",
      "        [ 341,  342,  343,  344,  345,  346,  347,  348,  349,  350]])\n"
     ]
    }
   ],
   "source": [
    "dataloader = torch.utils.data.DataLoader(CustomDataset(dataframe), batch_size=7,\n",
    "                                         shuffle=True, num_workers=0)\n",
    "for batch, (X, y) in enumerate(dataloader):\n",
    "    print(X.shape)\n",
    "    number_of_rows = X.shape[0]\n",
    "    print(X.view(number_of_rows * 5, 10))\n",
    "    break\n"
   ],
   "metadata": {
    "collapsed": false
   }
  },
  {
   "cell_type": "markdown",
   "source": [
    "# Output"
   ],
   "metadata": {
    "collapsed": false
   }
  },
  {
   "cell_type": "code",
   "execution_count": 50,
   "outputs": [
    {
     "name": "stdout",
     "output_type": "stream",
     "text": [
      "torch.Size([20, 10])\n"
     ]
    },
    {
     "data": {
      "text/plain": "tensor([[1101, 1102, 1103, 1104, 1105, 1106, 1107, 1108, 1109, 1110],\n        [1201, 1202, 1203, 1204, 1205, 1206, 1207, 1208, 1209, 1210],\n        [1301, 1302, 1303, 1304, 1305, 1306, 1307, 1308, 1309, 1310],\n        [1401, 1402, 1403, 1404, 1405, 1406, 1407, 1408, 1409, 1410],\n        [1501, 1502, 1503, 1504, 1505, 1506, 1507, 1508, 1509, 1510],\n        [2101, 2102, 2103, 2104, 2105, 2106, 2107, 2108, 2109, 2110],\n        [2201, 2202, 2203, 2204, 2205, 2206, 2207, 2208, 2209, 2210],\n        [2301, 2302, 2303, 2304, 2305, 2306, 2307, 2308, 2309, 2310],\n        [2401, 2402, 2403, 2404, 2405, 2406, 2407, 2408, 2409, 2410],\n        [2501, 2502, 2503, 2504, 2505, 2506, 2507, 2508, 2509, 2510],\n        [3101, 3102, 3103, 3104, 3105, 3106, 3107, 3108, 3109, 3110],\n        [3201, 3202, 3203, 3204, 3205, 3206, 3207, 3208, 3209, 3210],\n        [3301, 3302, 3303, 3304, 3305, 3306, 3307, 3308, 3309, 3310],\n        [3401, 3402, 3403, 3404, 3405, 3406, 3407, 3408, 3409, 3410],\n        [3501, 3502, 3503, 3504, 3505, 3506, 3507, 3508, 3509, 3510],\n        [4101, 4102, 4103, 4104, 4105, 4106, 4107, 4108, 4109, 4110],\n        [4201, 4202, 4203, 4204, 4205, 4206, 4207, 4208, 4209, 4210],\n        [4301, 4302, 4303, 4304, 4305, 4306, 4307, 4308, 4309, 4310],\n        [4401, 4402, 4403, 4404, 4405, 4406, 4407, 4408, 4409, 4410],\n        [4501, 4502, 4503, 4504, 4505, 4506, 4507, 4508, 4509, 4510]])"
     },
     "execution_count": 50,
     "metadata": {},
     "output_type": "execute_result"
    }
   ],
   "source": [
    "batch_features = torch.tensor(\n",
    "    [\n",
    "        [outfit_id * 1000 + clothing_item_id * 100 + x for x in range(1, 11)]  for outfit_id in range(1, 5) for clothing_item_id in range(1,6)\n",
    "    ]\n",
    ")\n",
    "\n",
    "print(batch_features.shape)\n",
    "batch_features\n"
   ],
   "metadata": {
    "collapsed": false
   }
  },
  {
   "cell_type": "code",
   "execution_count": 51,
   "outputs": [
    {
     "data": {
      "text/plain": "tensor([[1101, 1102, 1103, 1104, 1105, 1106, 1107, 1108, 1109, 1110, 1201, 1202,\n         1203, 1204, 1205, 1206, 1207, 1208, 1209, 1210, 1301, 1302, 1303, 1304,\n         1305, 1306, 1307, 1308, 1309, 1310, 1401, 1402, 1403, 1404, 1405, 1406,\n         1407, 1408, 1409, 1410, 1501, 1502, 1503, 1504, 1505, 1506, 1507, 1508,\n         1509, 1510],\n        [2101, 2102, 2103, 2104, 2105, 2106, 2107, 2108, 2109, 2110, 2201, 2202,\n         2203, 2204, 2205, 2206, 2207, 2208, 2209, 2210, 2301, 2302, 2303, 2304,\n         2305, 2306, 2307, 2308, 2309, 2310, 2401, 2402, 2403, 2404, 2405, 2406,\n         2407, 2408, 2409, 2410, 2501, 2502, 2503, 2504, 2505, 2506, 2507, 2508,\n         2509, 2510],\n        [3101, 3102, 3103, 3104, 3105, 3106, 3107, 3108, 3109, 3110, 3201, 3202,\n         3203, 3204, 3205, 3206, 3207, 3208, 3209, 3210, 3301, 3302, 3303, 3304,\n         3305, 3306, 3307, 3308, 3309, 3310, 3401, 3402, 3403, 3404, 3405, 3406,\n         3407, 3408, 3409, 3410, 3501, 3502, 3503, 3504, 3505, 3506, 3507, 3508,\n         3509, 3510],\n        [4101, 4102, 4103, 4104, 4105, 4106, 4107, 4108, 4109, 4110, 4201, 4202,\n         4203, 4204, 4205, 4206, 4207, 4208, 4209, 4210, 4301, 4302, 4303, 4304,\n         4305, 4306, 4307, 4308, 4309, 4310, 4401, 4402, 4403, 4404, 4405, 4406,\n         4407, 4408, 4409, 4410, 4501, 4502, 4503, 4504, 4505, 4506, 4507, 4508,\n         4509, 4510]])"
     },
     "execution_count": 51,
     "metadata": {},
     "output_type": "execute_result"
    }
   ],
   "source": [
    "batch_features =  torch.reshape(batch_features, (int(batch_features.shape[0] / 5), 50))\n",
    "batch_features"
   ],
   "metadata": {
    "collapsed": false
   }
  },
  {
   "cell_type": "code",
   "execution_count": 1,
   "outputs": [
    {
     "data": {
      "text/plain": "[[0.4, 0.6], [0.6, 0.4], [0.30000000000000004, 0.7]]"
     },
     "execution_count": 1,
     "metadata": {},
     "output_type": "execute_result"
    }
   ],
   "source": [
    "import torch\n",
    "import numpy as np\n",
    "\n",
    "\n",
    "a = np.array([0.6, 0.4, 0.7])\n",
    "\n",
    "\n",
    "\n",
    "\n",
    "a = list(map(lambda x: [1 - x, x] , a))\n",
    "a"
   ],
   "metadata": {
    "collapsed": false
   }
  },
  {
   "cell_type": "code",
   "execution_count": null,
   "outputs": [],
   "source": [],
   "metadata": {
    "collapsed": false
   }
  }
 ],
 "metadata": {
  "kernelspec": {
   "display_name": "Python 3",
   "language": "python",
   "name": "python3"
  },
  "language_info": {
   "codemirror_mode": {
    "name": "ipython",
    "version": 2
   },
   "file_extension": ".py",
   "mimetype": "text/x-python",
   "name": "python",
   "nbconvert_exporter": "python",
   "pygments_lexer": "ipython2",
   "version": "2.7.6"
  }
 },
 "nbformat": 4,
 "nbformat_minor": 0
}
