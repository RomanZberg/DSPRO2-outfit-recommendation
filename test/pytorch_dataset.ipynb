{
 "cells": [
  {
   "cell_type": "code",
   "execution_count": 39,
   "metadata": {
    "collapsed": true
   },
   "outputs": [],
   "source": [
    "import ssl\n",
    "import pandas as pd\n",
    "import wandb\n",
    "\n",
    "ssl._create_default_https_context = ssl._create_unverified_context\n",
    "import os\n",
    "from torch.utils.data import DataLoader\n",
    "from torch import nn\n",
    "from torchvision.io import read_image\n",
    "from torchvision.transforms import v2\n",
    "import torch\n",
    "import torchvision.transforms as T\n",
    "import json\n",
    "import urllib\n",
    "import requests\n",
    "from PIL import Image\n",
    "from io import BytesIO\n",
    "import numpy as np\n",
    "from sklearn.model_selection import train_test_split"
   ]
  },
  {
   "cell_type": "code",
   "execution_count": 40,
   "outputs": [
    {
     "data": {
      "text/plain": "            image1          image2          image3          image4  \\\n0    image 1 row 0   image 2 row 0   image 3 row 0   image 4 row 0   \n1    image 1 row 1   image 2 row 1   image 3 row 1   image 4 row 1   \n2    image 1 row 2   image 2 row 2   image 3 row 2   image 4 row 2   \n3    image 1 row 3   image 2 row 3   image 3 row 3   image 4 row 3   \n4    image 1 row 4   image 2 row 4   image 3 row 4   image 4 row 4   \n5    image 1 row 5   image 2 row 5   image 3 row 5   image 4 row 5   \n6    image 1 row 6   image 2 row 6   image 3 row 6   image 4 row 6   \n7    image 1 row 7   image 2 row 7   image 3 row 7   image 4 row 7   \n8    image 1 row 8   image 2 row 8   image 3 row 8   image 4 row 8   \n9    image 1 row 9   image 2 row 9   image 3 row 9   image 4 row 9   \n10  image 1 row 10  image 2 row 10  image 3 row 10  image 4 row 10   \n11  image 1 row 11  image 2 row 11  image 3 row 11  image 4 row 11   \n12  image 1 row 12  image 2 row 12  image 3 row 12  image 4 row 12   \n13  image 1 row 13  image 2 row 13  image 3 row 13  image 4 row 13   \n14  image 1 row 14  image 2 row 14  image 3 row 14  image 4 row 14   \n15  image 1 row 15  image 2 row 15  image 3 row 15  image 4 row 15   \n16  image 1 row 16  image 2 row 16  image 3 row 16  image 4 row 16   \n17  image 1 row 17  image 2 row 17  image 3 row 17  image 4 row 17   \n18  image 1 row 18  image 2 row 18  image 3 row 18  image 4 row 18   \n19  image 1 row 19  image 2 row 19  image 3 row 19  image 4 row 19   \n\n            image5           target  \n0    image 5 row 0   target 5 row 0  \n1    image 5 row 1   target 5 row 1  \n2    image 5 row 2   target 5 row 2  \n3    image 5 row 3   target 5 row 3  \n4    image 5 row 4   target 5 row 4  \n5    image 5 row 5   target 5 row 5  \n6    image 5 row 6   target 5 row 6  \n7    image 5 row 7   target 5 row 7  \n8    image 5 row 8   target 5 row 8  \n9    image 5 row 9   target 5 row 9  \n10  image 5 row 10  target 5 row 10  \n11  image 5 row 11  target 5 row 11  \n12  image 5 row 12  target 5 row 12  \n13  image 5 row 13  target 5 row 13  \n14  image 5 row 14  target 5 row 14  \n15  image 5 row 15  target 5 row 15  \n16  image 5 row 16  target 5 row 16  \n17  image 5 row 17  target 5 row 17  \n18  image 5 row 18  target 5 row 18  \n19  image 5 row 19  target 5 row 19  ",
      "text/html": "<div>\n<style scoped>\n    .dataframe tbody tr th:only-of-type {\n        vertical-align: middle;\n    }\n\n    .dataframe tbody tr th {\n        vertical-align: top;\n    }\n\n    .dataframe thead th {\n        text-align: right;\n    }\n</style>\n<table border=\"1\" class=\"dataframe\">\n  <thead>\n    <tr style=\"text-align: right;\">\n      <th></th>\n      <th>image1</th>\n      <th>image2</th>\n      <th>image3</th>\n      <th>image4</th>\n      <th>image5</th>\n      <th>target</th>\n    </tr>\n  </thead>\n  <tbody>\n    <tr>\n      <th>0</th>\n      <td>image 1 row 0</td>\n      <td>image 2 row 0</td>\n      <td>image 3 row 0</td>\n      <td>image 4 row 0</td>\n      <td>image 5 row 0</td>\n      <td>target 5 row 0</td>\n    </tr>\n    <tr>\n      <th>1</th>\n      <td>image 1 row 1</td>\n      <td>image 2 row 1</td>\n      <td>image 3 row 1</td>\n      <td>image 4 row 1</td>\n      <td>image 5 row 1</td>\n      <td>target 5 row 1</td>\n    </tr>\n    <tr>\n      <th>2</th>\n      <td>image 1 row 2</td>\n      <td>image 2 row 2</td>\n      <td>image 3 row 2</td>\n      <td>image 4 row 2</td>\n      <td>image 5 row 2</td>\n      <td>target 5 row 2</td>\n    </tr>\n    <tr>\n      <th>3</th>\n      <td>image 1 row 3</td>\n      <td>image 2 row 3</td>\n      <td>image 3 row 3</td>\n      <td>image 4 row 3</td>\n      <td>image 5 row 3</td>\n      <td>target 5 row 3</td>\n    </tr>\n    <tr>\n      <th>4</th>\n      <td>image 1 row 4</td>\n      <td>image 2 row 4</td>\n      <td>image 3 row 4</td>\n      <td>image 4 row 4</td>\n      <td>image 5 row 4</td>\n      <td>target 5 row 4</td>\n    </tr>\n    <tr>\n      <th>5</th>\n      <td>image 1 row 5</td>\n      <td>image 2 row 5</td>\n      <td>image 3 row 5</td>\n      <td>image 4 row 5</td>\n      <td>image 5 row 5</td>\n      <td>target 5 row 5</td>\n    </tr>\n    <tr>\n      <th>6</th>\n      <td>image 1 row 6</td>\n      <td>image 2 row 6</td>\n      <td>image 3 row 6</td>\n      <td>image 4 row 6</td>\n      <td>image 5 row 6</td>\n      <td>target 5 row 6</td>\n    </tr>\n    <tr>\n      <th>7</th>\n      <td>image 1 row 7</td>\n      <td>image 2 row 7</td>\n      <td>image 3 row 7</td>\n      <td>image 4 row 7</td>\n      <td>image 5 row 7</td>\n      <td>target 5 row 7</td>\n    </tr>\n    <tr>\n      <th>8</th>\n      <td>image 1 row 8</td>\n      <td>image 2 row 8</td>\n      <td>image 3 row 8</td>\n      <td>image 4 row 8</td>\n      <td>image 5 row 8</td>\n      <td>target 5 row 8</td>\n    </tr>\n    <tr>\n      <th>9</th>\n      <td>image 1 row 9</td>\n      <td>image 2 row 9</td>\n      <td>image 3 row 9</td>\n      <td>image 4 row 9</td>\n      <td>image 5 row 9</td>\n      <td>target 5 row 9</td>\n    </tr>\n    <tr>\n      <th>10</th>\n      <td>image 1 row 10</td>\n      <td>image 2 row 10</td>\n      <td>image 3 row 10</td>\n      <td>image 4 row 10</td>\n      <td>image 5 row 10</td>\n      <td>target 5 row 10</td>\n    </tr>\n    <tr>\n      <th>11</th>\n      <td>image 1 row 11</td>\n      <td>image 2 row 11</td>\n      <td>image 3 row 11</td>\n      <td>image 4 row 11</td>\n      <td>image 5 row 11</td>\n      <td>target 5 row 11</td>\n    </tr>\n    <tr>\n      <th>12</th>\n      <td>image 1 row 12</td>\n      <td>image 2 row 12</td>\n      <td>image 3 row 12</td>\n      <td>image 4 row 12</td>\n      <td>image 5 row 12</td>\n      <td>target 5 row 12</td>\n    </tr>\n    <tr>\n      <th>13</th>\n      <td>image 1 row 13</td>\n      <td>image 2 row 13</td>\n      <td>image 3 row 13</td>\n      <td>image 4 row 13</td>\n      <td>image 5 row 13</td>\n      <td>target 5 row 13</td>\n    </tr>\n    <tr>\n      <th>14</th>\n      <td>image 1 row 14</td>\n      <td>image 2 row 14</td>\n      <td>image 3 row 14</td>\n      <td>image 4 row 14</td>\n      <td>image 5 row 14</td>\n      <td>target 5 row 14</td>\n    </tr>\n    <tr>\n      <th>15</th>\n      <td>image 1 row 15</td>\n      <td>image 2 row 15</td>\n      <td>image 3 row 15</td>\n      <td>image 4 row 15</td>\n      <td>image 5 row 15</td>\n      <td>target 5 row 15</td>\n    </tr>\n    <tr>\n      <th>16</th>\n      <td>image 1 row 16</td>\n      <td>image 2 row 16</td>\n      <td>image 3 row 16</td>\n      <td>image 4 row 16</td>\n      <td>image 5 row 16</td>\n      <td>target 5 row 16</td>\n    </tr>\n    <tr>\n      <th>17</th>\n      <td>image 1 row 17</td>\n      <td>image 2 row 17</td>\n      <td>image 3 row 17</td>\n      <td>image 4 row 17</td>\n      <td>image 5 row 17</td>\n      <td>target 5 row 17</td>\n    </tr>\n    <tr>\n      <th>18</th>\n      <td>image 1 row 18</td>\n      <td>image 2 row 18</td>\n      <td>image 3 row 18</td>\n      <td>image 4 row 18</td>\n      <td>image 5 row 18</td>\n      <td>target 5 row 18</td>\n    </tr>\n    <tr>\n      <th>19</th>\n      <td>image 1 row 19</td>\n      <td>image 2 row 19</td>\n      <td>image 3 row 19</td>\n      <td>image 4 row 19</td>\n      <td>image 5 row 19</td>\n      <td>target 5 row 19</td>\n    </tr>\n  </tbody>\n</table>\n</div>"
     },
     "execution_count": 40,
     "metadata": {},
     "output_type": "execute_result"
    }
   ],
   "source": [
    "dataframe = pd.DataFrame()\n",
    "dataframe['image1'] = [f'image 1 row {i}' for i in range(20)]\n",
    "dataframe['image2'] = [f'image 2 row {i}' for i in range(20)]\n",
    "dataframe['image3'] = [f'image 3 row {i}' for i in range(20)]\n",
    "dataframe['image4'] = [f'image 4 row {i}' for i in range(20)]\n",
    "dataframe['image5'] = [f'image 5 row {i}' for i in range(20)]\n",
    "dataframe['target'] = [f'target 5 row {i}' for i in range(20)]\n",
    "dataframe"
   ],
   "metadata": {
    "collapsed": false
   }
  },
  {
   "cell_type": "code",
   "execution_count": 41,
   "outputs": [
    {
     "data": {
      "text/plain": "device(type='cpu')"
     },
     "execution_count": 41,
     "metadata": {},
     "output_type": "execute_result"
    }
   ],
   "source": [
    "device = torch.device(\"cuda\" if torch.cuda.is_available() else \"cpu\")\n",
    "device"
   ],
   "metadata": {
    "collapsed": false
   }
  },
  {
   "cell_type": "code",
   "execution_count": 42,
   "outputs": [],
   "source": [
    "class CustomDataset(torch.utils.data.Dataset):\n",
    "    def __init__(self, data_frame):\n",
    "        self.df = data_frame\n",
    "\n",
    "    def __getitem__(self, index):\n",
    "        outfit = self.df.iloc[index]\n",
    "        # print(f'accessoire shape: {img_accessoire.shape}; path={outfit[\"Accessoire_imagePath\"]}')\n",
    "        # print(f'innerwear shape: {img_innerwear.shape}; path={outfit[\"Innerwear_imagePath\"]}')\n",
    "        return (outfit['image1'],\n",
    "                outfit['image2'],\n",
    "                outfit['image3'],\n",
    "                outfit['image4'],\n",
    "                outfit['image5']), outfit['target']\n",
    "\n",
    "    def __len__(self):\n",
    "        return self.df.shape[0]"
   ],
   "metadata": {
    "collapsed": false
   }
  },
  {
   "cell_type": "code",
   "execution_count": 71,
   "outputs": [
    {
     "name": "stdout",
     "output_type": "stream",
     "text": [
      "('target 5 row 18', 'target 5 row 6', 'target 5 row 9', 'target 5 row 12', 'target 5 row 1', 'target 5 row 11', 'target 5 row 3')\n",
      "number of rows: 7\n",
      "input into model: image 1 row 18; image 2 row 18; image 3 row 18; image 4 row 18; image 5 row 18, should be predicted to: target 5 row 18\n",
      "input into model: image 1 row 6; image 2 row 6; image 3 row 6; image 4 row 6; image 5 row 6, should be predicted to: target 5 row 6\n",
      "input into model: image 1 row 9; image 2 row 9; image 3 row 9; image 4 row 9; image 5 row 9, should be predicted to: target 5 row 9\n",
      "input into model: image 1 row 12; image 2 row 12; image 3 row 12; image 4 row 12; image 5 row 12, should be predicted to: target 5 row 12\n",
      "input into model: image 1 row 1; image 2 row 1; image 3 row 1; image 4 row 1; image 5 row 1, should be predicted to: target 5 row 1\n",
      "input into model: image 1 row 11; image 2 row 11; image 3 row 11; image 4 row 11; image 5 row 11, should be predicted to: target 5 row 11\n",
      "input into model: image 1 row 3; image 2 row 3; image 3 row 3; image 4 row 3; image 5 row 3, should be predicted to: target 5 row 3\n"
     ]
    }
   ],
   "source": [
    "def proccess(X, y):\n",
    "    #number_of_rows = X[0].shape[0]\n",
    "    number_of_rows = len(X[0])\n",
    "    print(f'number of rows: {number_of_rows}')\n",
    "    for index in range(number_of_rows):\n",
    "        print(\n",
    "            f'input into model: {X[0][index]}; {X[1][index]}; {X[2][index]}; {X[3][index]}; {X[4][index]}, should be predicted to: {y[index]}')\n",
    "\n",
    "        # extracted_features = torch.cat(\n",
    "        #     (\n",
    "        #         create_linear_input(self._feature_extraction_model.forward(X[0][index]),\n",
    "        #                             model_config['use_n_blocks'],\n",
    "        #                             False),\n",
    "        #         create_linear_input(self._feature_extraction_model.forward(X[1][index]),\n",
    "        #                             model_config['use_n_blocks'],\n",
    "        #                             False),\n",
    "        #         create_linear_input(self._feature_extraction_model.forward(X[2][index]),\n",
    "        #                             model_config['use_n_blocks'],\n",
    "        #                             False),\n",
    "        #         create_linear_input(self._feature_extraction_model.forward(X[3][index]),\n",
    "        #                             model_config['use_n_blocks'],\n",
    "        #                             False),\n",
    "        #         create_linear_input(self._feature_extraction_model.forward(X[4][index]),\n",
    "        #                             model_config['use_n_blocks'], False)\n",
    "        # ),\n",
    "        # dim=1\n",
    "        # )\n",
    "\n",
    "\n",
    "dataloader = torch.utils.data.DataLoader(CustomDataset(dataframe), batch_size=7,\n",
    "                                         shuffle=True, num_workers=0)\n",
    "for batch, (X, y) in enumerate(dataloader):\n",
    "    print(y)\n",
    "    proccess(X, y)\n",
    "    break\n"
   ],
   "metadata": {
    "collapsed": false
   }
  },
  {
   "cell_type": "code",
   "execution_count": 70,
   "outputs": [
    {
     "data": {
      "text/plain": "tensor([1, 2])"
     },
     "execution_count": 70,
     "metadata": {},
     "output_type": "execute_result"
    }
   ],
   "source": [
    "torch.squeeze(torch.tensor([\n",
    "    [\n",
    "        [\n",
    "            [\n",
    "                [\n",
    "                    1\n",
    "                ]\n",
    "            ]\n",
    "        ]\n",
    "    ],\n",
    "    [\n",
    "        [\n",
    "            [\n",
    "                [\n",
    "                    2\n",
    "                ]\n",
    "            ]\n",
    "        ]\n",
    "    ]\n",
    "]))"
   ],
   "metadata": {
    "collapsed": false
   }
  },
  {
   "cell_type": "code",
   "execution_count": null,
   "outputs": [],
   "source": [],
   "metadata": {
    "collapsed": false
   }
  }
 ],
 "metadata": {
  "kernelspec": {
   "display_name": "Python 3",
   "language": "python",
   "name": "python3"
  },
  "language_info": {
   "codemirror_mode": {
    "name": "ipython",
    "version": 2
   },
   "file_extension": ".py",
   "mimetype": "text/x-python",
   "name": "python",
   "nbconvert_exporter": "python",
   "pygments_lexer": "ipython2",
   "version": "2.7.6"
  }
 },
 "nbformat": 4,
 "nbformat_minor": 0
}
