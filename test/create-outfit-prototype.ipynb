{
 "cells": [
  {
   "cell_type": "code",
   "execution_count": 1,
   "metadata": {
    "collapsed": true
   },
   "outputs": [
    {
     "data": {
      "text/plain": "                         Innerwear_imagePath    outfit_id  \\\n5Bay-ErCSwa  woman_outfits/5Bay-ErCSwa/1.jpg  5Bay-ErCSwa   \np_pBMObnSJC  woman_outfits/p_pBMObnSJC/6.jpg  p_pBMObnSJC   \nlqdPJ6bSSvi  woman_outfits/lqdPJ6bSSvi/4.jpg  lqdPJ6bSSvi   \nKVp2TJLCRKK  woman_outfits/KVp2TJLCRKK/1.jpg  KVp2TJLCRKK   \nRB46hJHCSPy  woman_outfits/RB46hJHCSPy/0.jpg  RB46hJHCSPy   \n...                                      ...          ...   \nJikHXNxmRmK  woman_outfits/JikHXNxmRmK/0.jpg  JikHXNxmRmK   \nJ2VGbVXHQqO  woman_outfits/J2VGbVXHQqO/0.jpg  J2VGbVXHQqO   \nLHJPBmKJSzC  woman_outfits/LHJPBmKJSzC/0.jpg  LHJPBmKJSzC   \nCfzKc2nlQPC  woman_outfits/CfzKc2nlQPC/1.jpg  CfzKc2nlQPC   \nHceZRZ9qSS2  woman_outfits/HceZRZ9qSS2/0.jpg  HceZRZ9qSS2   \n\n                        Bottomwear_imagePath                  Shoes_imagePath  \\\n5Bay-ErCSwa  woman_outfits/5Bay-ErCSwa/2.jpg  woman_outfits/5Bay-ErCSwa/3.jpg   \np_pBMObnSJC  woman_outfits/p_pBMObnSJC/7.jpg  woman_outfits/p_pBMObnSJC/8.jpg   \nlqdPJ6bSSvi  woman_outfits/lqdPJ6bSSvi/5.jpg  woman_outfits/lqdPJ6bSSvi/6.jpg   \nKVp2TJLCRKK  woman_outfits/KVp2TJLCRKK/2.jpg  woman_outfits/KVp2TJLCRKK/3.jpg   \nRB46hJHCSPy  woman_outfits/RB46hJHCSPy/1.jpg  woman_outfits/RB46hJHCSPy/2.jpg   \n...                                      ...                              ...   \nJikHXNxmRmK  woman_outfits/JikHXNxmRmK/1.jpg                             None   \nJ2VGbVXHQqO  woman_outfits/J2VGbVXHQqO/1.jpg                             None   \nLHJPBmKJSzC  woman_outfits/LHJPBmKJSzC/1.jpg  woman_outfits/LHJPBmKJSzC/2.jpg   \nCfzKc2nlQPC  woman_outfits/CfzKc2nlQPC/2.jpg  woman_outfits/CfzKc2nlQPC/3.jpg   \nHceZRZ9qSS2  woman_outfits/HceZRZ9qSS2/1.jpg                             None   \n\n                        Accessoire_imagePath              Outerwear_imagePath  \\\n5Bay-ErCSwa  woman_outfits/5Bay-ErCSwa/4.jpg                             None   \np_pBMObnSJC                             None                             None   \nlqdPJ6bSSvi                             None                             None   \nKVp2TJLCRKK                             None                             None   \nRB46hJHCSPy                             None                             None   \n...                                      ...                              ...   \nJikHXNxmRmK  woman_outfits/JikHXNxmRmK/2.jpg                             None   \nJ2VGbVXHQqO  woman_outfits/J2VGbVXHQqO/3.jpg                             None   \nLHJPBmKJSzC  woman_outfits/LHJPBmKJSzC/3.jpg                             None   \nCfzKc2nlQPC                             None  woman_outfits/CfzKc2nlQPC/0.jpg   \nHceZRZ9qSS2                             None                             None   \n\n             valid_outfit outfit_type  \n5Bay-ErCSwa             1      sporty  \np_pBMObnSJC             1      sporty  \nlqdPJ6bSSvi             1      sporty  \nKVp2TJLCRKK             1      sporty  \nRB46hJHCSPy             1      sporty  \n...                   ...         ...  \nJikHXNxmRmK             1     classic  \nJ2VGbVXHQqO             1     classic  \nLHJPBmKJSzC             1     classic  \nCfzKc2nlQPC             1     classic  \nHceZRZ9qSS2             1     classic  \n\n[1051 rows x 8 columns]",
      "text/html": "<div>\n<style scoped>\n    .dataframe tbody tr th:only-of-type {\n        vertical-align: middle;\n    }\n\n    .dataframe tbody tr th {\n        vertical-align: top;\n    }\n\n    .dataframe thead th {\n        text-align: right;\n    }\n</style>\n<table border=\"1\" class=\"dataframe\">\n  <thead>\n    <tr style=\"text-align: right;\">\n      <th></th>\n      <th>Innerwear_imagePath</th>\n      <th>outfit_id</th>\n      <th>Bottomwear_imagePath</th>\n      <th>Shoes_imagePath</th>\n      <th>Accessoire_imagePath</th>\n      <th>Outerwear_imagePath</th>\n      <th>valid_outfit</th>\n      <th>outfit_type</th>\n    </tr>\n  </thead>\n  <tbody>\n    <tr>\n      <th>5Bay-ErCSwa</th>\n      <td>woman_outfits/5Bay-ErCSwa/1.jpg</td>\n      <td>5Bay-ErCSwa</td>\n      <td>woman_outfits/5Bay-ErCSwa/2.jpg</td>\n      <td>woman_outfits/5Bay-ErCSwa/3.jpg</td>\n      <td>woman_outfits/5Bay-ErCSwa/4.jpg</td>\n      <td>None</td>\n      <td>1</td>\n      <td>sporty</td>\n    </tr>\n    <tr>\n      <th>p_pBMObnSJC</th>\n      <td>woman_outfits/p_pBMObnSJC/6.jpg</td>\n      <td>p_pBMObnSJC</td>\n      <td>woman_outfits/p_pBMObnSJC/7.jpg</td>\n      <td>woman_outfits/p_pBMObnSJC/8.jpg</td>\n      <td>None</td>\n      <td>None</td>\n      <td>1</td>\n      <td>sporty</td>\n    </tr>\n    <tr>\n      <th>lqdPJ6bSSvi</th>\n      <td>woman_outfits/lqdPJ6bSSvi/4.jpg</td>\n      <td>lqdPJ6bSSvi</td>\n      <td>woman_outfits/lqdPJ6bSSvi/5.jpg</td>\n      <td>woman_outfits/lqdPJ6bSSvi/6.jpg</td>\n      <td>None</td>\n      <td>None</td>\n      <td>1</td>\n      <td>sporty</td>\n    </tr>\n    <tr>\n      <th>KVp2TJLCRKK</th>\n      <td>woman_outfits/KVp2TJLCRKK/1.jpg</td>\n      <td>KVp2TJLCRKK</td>\n      <td>woman_outfits/KVp2TJLCRKK/2.jpg</td>\n      <td>woman_outfits/KVp2TJLCRKK/3.jpg</td>\n      <td>None</td>\n      <td>None</td>\n      <td>1</td>\n      <td>sporty</td>\n    </tr>\n    <tr>\n      <th>RB46hJHCSPy</th>\n      <td>woman_outfits/RB46hJHCSPy/0.jpg</td>\n      <td>RB46hJHCSPy</td>\n      <td>woman_outfits/RB46hJHCSPy/1.jpg</td>\n      <td>woman_outfits/RB46hJHCSPy/2.jpg</td>\n      <td>None</td>\n      <td>None</td>\n      <td>1</td>\n      <td>sporty</td>\n    </tr>\n    <tr>\n      <th>...</th>\n      <td>...</td>\n      <td>...</td>\n      <td>...</td>\n      <td>...</td>\n      <td>...</td>\n      <td>...</td>\n      <td>...</td>\n      <td>...</td>\n    </tr>\n    <tr>\n      <th>JikHXNxmRmK</th>\n      <td>woman_outfits/JikHXNxmRmK/0.jpg</td>\n      <td>JikHXNxmRmK</td>\n      <td>woman_outfits/JikHXNxmRmK/1.jpg</td>\n      <td>None</td>\n      <td>woman_outfits/JikHXNxmRmK/2.jpg</td>\n      <td>None</td>\n      <td>1</td>\n      <td>classic</td>\n    </tr>\n    <tr>\n      <th>J2VGbVXHQqO</th>\n      <td>woman_outfits/J2VGbVXHQqO/0.jpg</td>\n      <td>J2VGbVXHQqO</td>\n      <td>woman_outfits/J2VGbVXHQqO/1.jpg</td>\n      <td>None</td>\n      <td>woman_outfits/J2VGbVXHQqO/3.jpg</td>\n      <td>None</td>\n      <td>1</td>\n      <td>classic</td>\n    </tr>\n    <tr>\n      <th>LHJPBmKJSzC</th>\n      <td>woman_outfits/LHJPBmKJSzC/0.jpg</td>\n      <td>LHJPBmKJSzC</td>\n      <td>woman_outfits/LHJPBmKJSzC/1.jpg</td>\n      <td>woman_outfits/LHJPBmKJSzC/2.jpg</td>\n      <td>woman_outfits/LHJPBmKJSzC/3.jpg</td>\n      <td>None</td>\n      <td>1</td>\n      <td>classic</td>\n    </tr>\n    <tr>\n      <th>CfzKc2nlQPC</th>\n      <td>woman_outfits/CfzKc2nlQPC/1.jpg</td>\n      <td>CfzKc2nlQPC</td>\n      <td>woman_outfits/CfzKc2nlQPC/2.jpg</td>\n      <td>woman_outfits/CfzKc2nlQPC/3.jpg</td>\n      <td>None</td>\n      <td>woman_outfits/CfzKc2nlQPC/0.jpg</td>\n      <td>1</td>\n      <td>classic</td>\n    </tr>\n    <tr>\n      <th>HceZRZ9qSS2</th>\n      <td>woman_outfits/HceZRZ9qSS2/0.jpg</td>\n      <td>HceZRZ9qSS2</td>\n      <td>woman_outfits/HceZRZ9qSS2/1.jpg</td>\n      <td>None</td>\n      <td>None</td>\n      <td>None</td>\n      <td>1</td>\n      <td>classic</td>\n    </tr>\n  </tbody>\n</table>\n<p>1051 rows × 8 columns</p>\n</div>"
     },
     "execution_count": 1,
     "metadata": {},
     "output_type": "execute_result"
    }
   ],
   "source": [
    "import pandas as pd\n",
    "\n",
    "dataset_folder_root_path = '../datasets'\n",
    "\n",
    "zalando_dataset = '/imageBasedModel/zalando/zalando_ea4bf73acd0119c31a8a708bce2a2b302e72c1ecebc7c2265ee80cff3a15ed0a.parquet'\n",
    "\n",
    "zalando_dataset_df = pd.read_parquet(f'{dataset_folder_root_path}/{zalando_dataset}')\n",
    "zalando_dataset_df"
   ]
  },
  {
   "cell_type": "code",
   "execution_count": 2,
   "outputs": [
    {
     "data": {
      "text/plain": "                              img_src  outfit_type\n0     woman_outfits/5Bay-ErCSwa/1.jpg            2\n1     woman_outfits/5Bay-ErCSwa/2.jpg            4\n2     woman_outfits/5Bay-ErCSwa/3.jpg            5\n3     woman_outfits/5Bay-ErCSwa/4.jpg            1\n4                                None            3\n...                               ...          ...\n5250  woman_outfits/HceZRZ9qSS2/0.jpg            2\n5251  woman_outfits/HceZRZ9qSS2/1.jpg            4\n5252                             None            5\n5253                             None            1\n5254                             None            3\n\n[5255 rows x 2 columns]",
      "text/html": "<div>\n<style scoped>\n    .dataframe tbody tr th:only-of-type {\n        vertical-align: middle;\n    }\n\n    .dataframe tbody tr th {\n        vertical-align: top;\n    }\n\n    .dataframe thead th {\n        text-align: right;\n    }\n</style>\n<table border=\"1\" class=\"dataframe\">\n  <thead>\n    <tr style=\"text-align: right;\">\n      <th></th>\n      <th>img_src</th>\n      <th>outfit_type</th>\n    </tr>\n  </thead>\n  <tbody>\n    <tr>\n      <th>0</th>\n      <td>woman_outfits/5Bay-ErCSwa/1.jpg</td>\n      <td>2</td>\n    </tr>\n    <tr>\n      <th>1</th>\n      <td>woman_outfits/5Bay-ErCSwa/2.jpg</td>\n      <td>4</td>\n    </tr>\n    <tr>\n      <th>2</th>\n      <td>woman_outfits/5Bay-ErCSwa/3.jpg</td>\n      <td>5</td>\n    </tr>\n    <tr>\n      <th>3</th>\n      <td>woman_outfits/5Bay-ErCSwa/4.jpg</td>\n      <td>1</td>\n    </tr>\n    <tr>\n      <th>4</th>\n      <td>None</td>\n      <td>3</td>\n    </tr>\n    <tr>\n      <th>...</th>\n      <td>...</td>\n      <td>...</td>\n    </tr>\n    <tr>\n      <th>5250</th>\n      <td>woman_outfits/HceZRZ9qSS2/0.jpg</td>\n      <td>2</td>\n    </tr>\n    <tr>\n      <th>5251</th>\n      <td>woman_outfits/HceZRZ9qSS2/1.jpg</td>\n      <td>4</td>\n    </tr>\n    <tr>\n      <th>5252</th>\n      <td>None</td>\n      <td>5</td>\n    </tr>\n    <tr>\n      <th>5253</th>\n      <td>None</td>\n      <td>1</td>\n    </tr>\n    <tr>\n      <th>5254</th>\n      <td>None</td>\n      <td>3</td>\n    </tr>\n  </tbody>\n</table>\n<p>5255 rows × 2 columns</p>\n</div>"
     },
     "execution_count": 2,
     "metadata": {},
     "output_type": "execute_result"
    }
   ],
   "source": [
    "from src.outfit_recommendation.WearType import WearType\n",
    "\n",
    "\n",
    "def get_record(df_record, key_name, clothing_item_type: WearType):\n",
    "    return {\n",
    "        'img_src': df_record[key_name],\n",
    "        'outfit_type': clothing_item_type\n",
    "    }\n",
    "\n",
    "\n",
    "clothing_items = []\n",
    "for index, outfit in zalando_dataset_df.iterrows():\n",
    "    clothing_items.append(get_record(outfit, 'Innerwear_imagePath', WearType.innerWear))\n",
    "    clothing_items.append(get_record(outfit, 'Bottomwear_imagePath', WearType.bottomWear))\n",
    "    clothing_items.append(get_record(outfit, 'Shoes_imagePath', WearType.shoes))\n",
    "    clothing_items.append(get_record(outfit, 'Accessoire_imagePath', WearType.accessoire))\n",
    "    clothing_items.append(get_record(outfit, 'Outerwear_imagePath', WearType.outerWear))\n",
    "\n",
    "clothing_items_df = pd.DataFrame(clothing_items)\n",
    "clothing_items_df"
   ],
   "metadata": {
    "collapsed": false
   }
  },
  {
   "cell_type": "code",
   "execution_count": 3,
   "outputs": [
    {
     "data": {
      "text/plain": "                              img_src  outfit_type\n0     woman_outfits/5Bay-ErCSwa/1.jpg            2\n1     woman_outfits/5Bay-ErCSwa/2.jpg            4\n2     woman_outfits/5Bay-ErCSwa/3.jpg            5\n3     woman_outfits/5Bay-ErCSwa/4.jpg            1\n5     woman_outfits/p_pBMObnSJC/6.jpg            2\n...                               ...          ...\n5246  woman_outfits/CfzKc2nlQPC/2.jpg            4\n5247  woman_outfits/CfzKc2nlQPC/3.jpg            5\n5249  woman_outfits/CfzKc2nlQPC/0.jpg            3\n5250  woman_outfits/HceZRZ9qSS2/0.jpg            2\n5251  woman_outfits/HceZRZ9qSS2/1.jpg            4\n\n[3848 rows x 2 columns]",
      "text/html": "<div>\n<style scoped>\n    .dataframe tbody tr th:only-of-type {\n        vertical-align: middle;\n    }\n\n    .dataframe tbody tr th {\n        vertical-align: top;\n    }\n\n    .dataframe thead th {\n        text-align: right;\n    }\n</style>\n<table border=\"1\" class=\"dataframe\">\n  <thead>\n    <tr style=\"text-align: right;\">\n      <th></th>\n      <th>img_src</th>\n      <th>outfit_type</th>\n    </tr>\n  </thead>\n  <tbody>\n    <tr>\n      <th>0</th>\n      <td>woman_outfits/5Bay-ErCSwa/1.jpg</td>\n      <td>2</td>\n    </tr>\n    <tr>\n      <th>1</th>\n      <td>woman_outfits/5Bay-ErCSwa/2.jpg</td>\n      <td>4</td>\n    </tr>\n    <tr>\n      <th>2</th>\n      <td>woman_outfits/5Bay-ErCSwa/3.jpg</td>\n      <td>5</td>\n    </tr>\n    <tr>\n      <th>3</th>\n      <td>woman_outfits/5Bay-ErCSwa/4.jpg</td>\n      <td>1</td>\n    </tr>\n    <tr>\n      <th>5</th>\n      <td>woman_outfits/p_pBMObnSJC/6.jpg</td>\n      <td>2</td>\n    </tr>\n    <tr>\n      <th>...</th>\n      <td>...</td>\n      <td>...</td>\n    </tr>\n    <tr>\n      <th>5246</th>\n      <td>woman_outfits/CfzKc2nlQPC/2.jpg</td>\n      <td>4</td>\n    </tr>\n    <tr>\n      <th>5247</th>\n      <td>woman_outfits/CfzKc2nlQPC/3.jpg</td>\n      <td>5</td>\n    </tr>\n    <tr>\n      <th>5249</th>\n      <td>woman_outfits/CfzKc2nlQPC/0.jpg</td>\n      <td>3</td>\n    </tr>\n    <tr>\n      <th>5250</th>\n      <td>woman_outfits/HceZRZ9qSS2/0.jpg</td>\n      <td>2</td>\n    </tr>\n    <tr>\n      <th>5251</th>\n      <td>woman_outfits/HceZRZ9qSS2/1.jpg</td>\n      <td>4</td>\n    </tr>\n  </tbody>\n</table>\n<p>3848 rows × 2 columns</p>\n</div>"
     },
     "execution_count": 3,
     "metadata": {},
     "output_type": "execute_result"
    }
   ],
   "source": [
    "clothing_items_df = clothing_items_df[~clothing_items_df['img_src'].isnull()]\n",
    "clothing_items_df"
   ],
   "metadata": {
    "collapsed": false
   }
  },
  {
   "cell_type": "code",
   "execution_count": 4,
   "outputs": [
    {
     "data": {
      "text/plain": "                Innerwear_imagePath             Bottomwear_imagePath  \\\n0   woman_outfits/jJX5t7THQ1i/1.jpg  woman_outfits/jJX5t7THQ1i/2.jpg   \n1   woman_outfits/g0wfzn47Qfu/1.jpg  woman_outfits/g0wfzn47Qfu/2.jpg   \n2   woman_outfits/hXZB3j6BTLG/0.jpg  woman_outfits/hXZB3j6BTLG/1.jpg   \n3   woman_outfits/PsMYc-3pSLq/1.jpg  woman_outfits/PsMYc-3pSLq/2.jpg   \n4   woman_outfits/afBMHje0Q1O/0.jpg  woman_outfits/afBMHje0Q1O/2.jpg   \n5   woman_outfits/x90kMxzXSma/0.jpg  woman_outfits/x90kMxzXSma/1.jpg   \n6   woman_outfits/4AeNmv5-Q2u/0.jpg  woman_outfits/4AeNmv5-Q2u/1.jpg   \n7   woman_outfits/EjdPHI_gRSy/0.jpg  woman_outfits/EjdPHI_gRSy/1.jpg   \n8   woman_outfits/Ac97FhCETHy/1.jpg  woman_outfits/Ac97FhCETHy/2.jpg   \n9   woman_outfits/QIosKpWfQqe/0.jpg  woman_outfits/QIosKpWfQqe/1.jpg   \n10  woman_outfits/r5vhr4IfSuG/0.jpg  woman_outfits/r5vhr4IfSuG/3.jpg   \n11  woman_outfits/J5QTIf8nQzu/0.jpg  woman_outfits/J5QTIf8nQzu/1.jpg   \n12  woman_outfits/2Xv2J8O0TsC/0.jpg  woman_outfits/2Xv2J8O0TsC/1.jpg   \n13  woman_outfits/WMXELKByS36/1.jpg  woman_outfits/WMXELKByS36/2.jpg   \n14  woman_outfits/vpLmaapBQh6/0.jpg  woman_outfits/vpLmaapBQh6/1.jpg   \n15  woman_outfits/P1hy2PlwT1K/1.jpg  woman_outfits/P1hy2PlwT1K/2.jpg   \n16  woman_outfits/KMNnljRGRXW/0.jpg  woman_outfits/KMNnljRGRXW/1.jpg   \n17  woman_outfits/yWGL9pmoS0m/3.jpg  woman_outfits/yWGL9pmoS0m/1.jpg   \n18  woman_outfits/UcMy0vrKQXG/0.jpg  woman_outfits/UcMy0vrKQXG/1.jpg   \n19  woman_outfits/2Rr3TQDQTJ-/3.jpg  woman_outfits/2Rr3TQDQTJ-/0.jpg   \n20  woman_outfits/NSig3USrTKe/1.jpg  woman_outfits/NSig3USrTKe/0.jpg   \n21  woman_outfits/oSBbX4NwTzK/0.jpg  woman_outfits/oSBbX4NwTzK/1.jpg   \n22  woman_outfits/5J9vfmCiR8u/1.jpg  woman_outfits/5J9vfmCiR8u/2.jpg   \n23  woman_outfits/NU3eejh3Qqq/0.jpg  woman_outfits/NU3eejh3Qqq/1.jpg   \n24  woman_outfits/LHJPBmKJSzC/0.jpg  woman_outfits/LHJPBmKJSzC/1.jpg   \n25  woman_outfits/fR47b7jaTSm/0.jpg  woman_outfits/fR47b7jaTSm/1.jpg   \n26  woman_outfits/jC0hg0a_QTe/0.jpg  woman_outfits/jC0hg0a_QTe/1.jpg   \n27  woman_outfits/72n5hr_yR02/1.jpg  woman_outfits/72n5hr_yR02/2.jpg   \n28  woman_outfits/rA5rZfrVTS6/1.jpg  woman_outfits/rA5rZfrVTS6/2.jpg   \n29  woman_outfits/xs8oiaP5QF2/0.jpg  woman_outfits/xs8oiaP5QF2/1.jpg   \n30  woman_outfits/-Zq7z-iUQ6a/0.jpg  woman_outfits/-Zq7z-iUQ6a/1.jpg   \n31  woman_outfits/uauTdF-XTry/0.jpg  woman_outfits/uauTdF-XTry/1.jpg   \n32  woman_outfits/zrl3iJsXRte/0.jpg  woman_outfits/zrl3iJsXRte/1.jpg   \n33  woman_outfits/6wwIy0i5SFq/0.jpg  woman_outfits/6wwIy0i5SFq/2.jpg   \n34  woman_outfits/a99zxFSKT2m/1.jpg  woman_outfits/a99zxFSKT2m/3.jpg   \n35  woman_outfits/xKRfLt37RqS/0.jpg  woman_outfits/xKRfLt37RqS/1.jpg   \n36  woman_outfits/1vmh901xRmS/2.jpg  woman_outfits/1vmh901xRmS/3.jpg   \n37  woman_outfits/m0olOzvCQm-/1.jpg  woman_outfits/m0olOzvCQm-/2.jpg   \n38  woman_outfits/bbT2fsv9QmW/0.jpg  woman_outfits/bbT2fsv9QmW/1.jpg   \n39  woman_outfits/5kOe_PuoTz6/0.jpg  woman_outfits/5kOe_PuoTz6/2.jpg   \n40  woman_outfits/bhFj-ipZQC2/1.jpg  woman_outfits/bhFj-ipZQC2/2.jpg   \n41  woman_outfits/hJzZuElBSai/0.jpg  woman_outfits/hJzZuElBSai/1.jpg   \n42  woman_outfits/meqWkWl3RFm/0.jpg  woman_outfits/meqWkWl3RFm/3.jpg   \n43  woman_outfits/lUYA25QUT_O/0.jpg  woman_outfits/lUYA25QUT_O/2.jpg   \n44  woman_outfits/lNNmlFVZThW/1.jpg  woman_outfits/lNNmlFVZThW/2.jpg   \n45  woman_outfits/nwMgjnCUQia/0.jpg  woman_outfits/nwMgjnCUQia/2.jpg   \n46  woman_outfits/g8E1yg3CQUO/1.jpg  woman_outfits/g8E1yg3CQUO/2.jpg   \n47  woman_outfits/GmztgTLKQQW/0.jpg  woman_outfits/GmztgTLKQQW/1.jpg   \n48  woman_outfits/92mNOO3lQju/2.jpg  woman_outfits/92mNOO3lQju/3.jpg   \n49  woman_outfits/n-TTu0rsQ7G/0.jpg  woman_outfits/n-TTu0rsQ7G/1.jpg   \n\n                    Shoes_imagePath             Accessoire_imagePath  \\\n0   woman_outfits/TKhBMND9THi/2.jpg  woman_outfits/m02Jg7GTTLu/4.jpg   \n1   woman_outfits/Q0-EJFrZTBu/4.jpg  woman_outfits/lWxyjryaRo-/2.jpg   \n2   woman_outfits/ixg6EVRKQw2/2.jpg  woman_outfits/nGOcdx0ZRV6/3.jpg   \n3   woman_outfits/gwYSlyo1TSK/4.jpg  woman_outfits/6En0jJMjREi/4.jpg   \n4   woman_outfits/2Xv2J8O0TsC/2.jpg  woman_outfits/Bqz2ln2lQ3-/4.jpg   \n5   woman_outfits/1LmjMAs1RKW/3.jpg  woman_outfits/drc22zkRST-/3.jpg   \n6   woman_outfits/nT88q5IbTh6/3.jpg  woman_outfits/1k7M6sH-TiC/3.jpg   \n7   woman_outfits/NpbdlD6bSMO/4.jpg  woman_outfits/NshNrVxuSyq/4.jpg   \n8   woman_outfits/E01wD-xiQeW/3.jpg  woman_outfits/y3V8O7JlR0W/3.jpg   \n9   woman_outfits/DO9dWvX2TyC/3.jpg  woman_outfits/XgdTN2ZaSs-/2.jpg   \n10  woman_outfits/7bbS4OG2To6/3.jpg  woman_outfits/rfJZV_dJT6u/3.jpg   \n11  woman_outfits/5MW9j09ISJS/2.jpg  woman_outfits/AyAu31UwS9G/3.jpg   \n12  woman_outfits/DJ42PpHzSDy/3.jpg  woman_outfits/fjHha3vCSdO/3.jpg   \n13  woman_outfits/FB3rnggcSWC/2.jpg  woman_outfits/WaxfTqYDTVq/3.jpg   \n14  woman_outfits/2D8qAENdQqa/3.jpg  woman_outfits/9TTKXrBcSGS/4.jpg   \n15  woman_outfits/nDuqwqnfTQG/2.jpg  woman_outfits/uT-L0eYHQIe/4.jpg   \n16  woman_outfits/TmPHMd3sRGq/3.jpg  woman_outfits/efFVVoMYQCy/4.jpg   \n17  woman_outfits/abqNFaLCROO/2.jpg  woman_outfits/ceyXGfizRX2/3.jpg   \n18  woman_outfits/tKqksdjzR8q/2.jpg  woman_outfits/S98GqZOSQVa/3.jpg   \n19  woman_outfits/RB46hJHCSPy/2.jpg  woman_outfits/aBhMB9NFR4e/4.jpg   \n20  woman_outfits/GmztgTLKQQW/2.jpg  woman_outfits/_7PIdhaxSti/3.jpg   \n21  woman_outfits/KZ-cJEX8Sn6/2.jpg  woman_outfits/svZbquPiSUW/4.jpg   \n22  woman_outfits/CWvhGfxBScO/2.jpg  woman_outfits/dgX75B2AQ9a/3.jpg   \n23  woman_outfits/QWQiel8sQ-q/2.jpg  woman_outfits/_ScqeSHZSiO/4.jpg   \n24  woman_outfits/A2hZbvWpRxG/2.jpg  woman_outfits/mVyD2q0wQkm/3.jpg   \n25  woman_outfits/t1z5T0CwTRS/3.jpg  woman_outfits/NwNhaAyhQvi/2.jpg   \n26  woman_outfits/4w5NPrv_TVu/3.jpg  woman_outfits/P9QNNWOSTvS/2.jpg   \n27  woman_outfits/fR47b7jaTSm/2.jpg  woman_outfits/aKC0z1pKTpy/4.jpg   \n28  woman_outfits/7GhijfpIRMa/2.jpg  woman_outfits/yKhGFfpfQbC/2.jpg   \n29  woman_outfits/NshNrVxuSyq/3.jpg  woman_outfits/oOcpqp5eQP2/3.jpg   \n30  woman_outfits/omi2_K5QRxa/3.jpg  woman_outfits/fmfPyaHhRzC/3.jpg   \n31  woman_outfits/K5R9R_q5TTW/2.jpg  woman_outfits/DP0DNJxkRSu/3.jpg   \n32  woman_outfits/OA_EGM9VStC/6.jpg  woman_outfits/Pb9kXeJGSJ2/4.jpg   \n33  woman_outfits/OQ3el2LBTQ6/2.jpg  woman_outfits/seA-ee5WRja/3.jpg   \n34  woman_outfits/5NofHy71RQS/3.jpg  woman_outfits/xrPasMjTSAy/4.jpg   \n35  woman_outfits/g0wfzn47Qfu/3.jpg  woman_outfits/MJEvShqrQ-a/3.jpg   \n36  woman_outfits/xrPasMjTSAy/2.jpg  woman_outfits/9uFQa-GITk6/3.jpg   \n37  woman_outfits/Oei-3HLCRXG/2.jpg  woman_outfits/XNFw5qMmQpe/4.jpg   \n38  woman_outfits/n0iYLaxsRIu/3.jpg  woman_outfits/wN__TIFZSmu/3.jpg   \n39  woman_outfits/Zdwq0JUwTt-/2.jpg  woman_outfits/2SeGBcxfR9q/3.jpg   \n40  woman_outfits/fjHha3vCSdO/2.jpg  woman_outfits/oS1KknchRQi/2.jpg   \n41  woman_outfits/lNNmlFVZThW/3.jpg  woman_outfits/VfvlKVVRTJi/3.jpg   \n42  woman_outfits/AcvK9f3wSb2/7.jpg  woman_outfits/ddY-nBs2Qcy/2.jpg   \n43  woman_outfits/LecBWA_jSAS/2.jpg  woman_outfits/23qHFtY3TsK/3.jpg   \n44  woman_outfits/OZnIlBkJSFG/3.jpg  woman_outfits/4bV9em8IQK2/3.jpg   \n45  woman_outfits/3Xm1Dd2hQs-/2.jpg  woman_outfits/Dc4FpzOMSLe/3.jpg   \n46  woman_outfits/-x7Gjy6XTjy/2.jpg  woman_outfits/w86kL528TXe/3.jpg   \n47  woman_outfits/AC8wsgyGRlC/4.jpg  woman_outfits/QwL4IAkMTb6/4.jpg   \n48  woman_outfits/5DjS4TaKQWK/2.jpg  woman_outfits/0U9exnDhTvW/4.jpg   \n49  woman_outfits/TbduXpSRQGi/3.jpg  woman_outfits/-IeXQkM-QCe/4.jpg   \n\n                 Outerwear_imagePath  \n0    woman_outfits/dbRY3HQpTBm/0.jpg  \n1    woman_outfits/33hRLe7nQyC/2.jpg  \n2    woman_outfits/JAfXy0FPR0S/0.jpg  \n3    woman_outfits/NHyQrrTtRiG/0.jpg  \n4    woman_outfits/2KlDRuMWRIC/0.jpg  \n5    woman_outfits/aBhMB9NFR4e/0.jpg  \n6    woman_outfits/ELNibZUkSMu/0.jpg  \n7    woman_outfits/J1X7Gy47Tdq/0.jpg  \n8    woman_outfits/dHyLgTuARxO/0.jpg  \n9    woman_outfits/EUyDcZByQ16/0.jpg  \n10   woman_outfits/McEh8lqaSjC/0.jpg  \n11   woman_outfits/K66LEwacQKm/0.jpg  \n12   woman_outfits/nT88q5IbTh6/0.jpg  \n13   woman_outfits/bvxueo_dTxW/3.jpg  \n14   woman_outfits/xBfKuSwAQSa/0.jpg  \n15   woman_outfits/1LmjMAs1RKW/0.jpg  \n16   woman_outfits/51WtKq5dRNy/0.jpg  \n17   woman_outfits/ZWwFE7WCSD-/0.jpg  \n18   woman_outfits/g7qb9eNeRpe/0.jpg  \n19   woman_outfits/ei9NC4-DQQy/4.jpg  \n20   woman_outfits/W-Lj3YuDRXi/0.jpg  \n21   woman_outfits/svZbquPiSUW/0.jpg  \n22   woman_outfits/w0h8WjFWTiW/0.jpg  \n23   woman_outfits/ebHe47raTDa/0.jpg  \n24   woman_outfits/WbQ12pp6QEi/1.jpg  \n25   woman_outfits/ahb3_YrtQua/1.jpg  \n26   woman_outfits/sNN3-EgHTmi/0.jpg  \n27   woman_outfits/9qgtcJ7fQOi/0.jpg  \n28   woman_outfits/PpJgvM1AQT2/0.jpg  \n29   woman_outfits/dR4yJ7yQRBi/0.jpg  \n30   woman_outfits/g0wfzn47Qfu/0.jpg  \n31   woman_outfits/w3WruLRaS8q/0.jpg  \n32   woman_outfits/T0cI-23WTLK/6.jpg  \n33   woman_outfits/5NofHy71RQS/0.jpg  \n34   woman_outfits/l5YylvuFSC6/0.jpg  \n35   woman_outfits/h3tJ-HJrTlS/3.jpg  \n36   woman_outfits/c45Q6kZ1Smy/0.jpg  \n37   woman_outfits/5J9vfmCiR8u/0.jpg  \n38   woman_outfits/qscfzp7ETTa/0.jpg  \n39   woman_outfits/WimwVidoTOq/2.jpg  \n40   woman_outfits/uaA73OdaRe6/0.jpg  \n41   woman_outfits/Il0KawZwSYe/0.jpg  \n42   woman_outfits/MChqfnV2Q1u/0.jpg  \n43  woman_outfits/zTG6Q6lhQBS/12.jpg  \n44   woman_outfits/iGucIRzTRP-/0.jpg  \n45   woman_outfits/YzC-l-ZvRm-/0.jpg  \n46   woman_outfits/XHT8i0mgQg2/5.jpg  \n47   woman_outfits/OSh6ZFCJS0-/0.jpg  \n48   woman_outfits/wV_YDAF8S_W/0.jpg  \n49   woman_outfits/AcvK9f3wSb2/8.jpg  ",
      "text/html": "<div>\n<style scoped>\n    .dataframe tbody tr th:only-of-type {\n        vertical-align: middle;\n    }\n\n    .dataframe tbody tr th {\n        vertical-align: top;\n    }\n\n    .dataframe thead th {\n        text-align: right;\n    }\n</style>\n<table border=\"1\" class=\"dataframe\">\n  <thead>\n    <tr style=\"text-align: right;\">\n      <th></th>\n      <th>Innerwear_imagePath</th>\n      <th>Bottomwear_imagePath</th>\n      <th>Shoes_imagePath</th>\n      <th>Accessoire_imagePath</th>\n      <th>Outerwear_imagePath</th>\n    </tr>\n  </thead>\n  <tbody>\n    <tr>\n      <th>0</th>\n      <td>woman_outfits/jJX5t7THQ1i/1.jpg</td>\n      <td>woman_outfits/jJX5t7THQ1i/2.jpg</td>\n      <td>woman_outfits/TKhBMND9THi/2.jpg</td>\n      <td>woman_outfits/m02Jg7GTTLu/4.jpg</td>\n      <td>woman_outfits/dbRY3HQpTBm/0.jpg</td>\n    </tr>\n    <tr>\n      <th>1</th>\n      <td>woman_outfits/g0wfzn47Qfu/1.jpg</td>\n      <td>woman_outfits/g0wfzn47Qfu/2.jpg</td>\n      <td>woman_outfits/Q0-EJFrZTBu/4.jpg</td>\n      <td>woman_outfits/lWxyjryaRo-/2.jpg</td>\n      <td>woman_outfits/33hRLe7nQyC/2.jpg</td>\n    </tr>\n    <tr>\n      <th>2</th>\n      <td>woman_outfits/hXZB3j6BTLG/0.jpg</td>\n      <td>woman_outfits/hXZB3j6BTLG/1.jpg</td>\n      <td>woman_outfits/ixg6EVRKQw2/2.jpg</td>\n      <td>woman_outfits/nGOcdx0ZRV6/3.jpg</td>\n      <td>woman_outfits/JAfXy0FPR0S/0.jpg</td>\n    </tr>\n    <tr>\n      <th>3</th>\n      <td>woman_outfits/PsMYc-3pSLq/1.jpg</td>\n      <td>woman_outfits/PsMYc-3pSLq/2.jpg</td>\n      <td>woman_outfits/gwYSlyo1TSK/4.jpg</td>\n      <td>woman_outfits/6En0jJMjREi/4.jpg</td>\n      <td>woman_outfits/NHyQrrTtRiG/0.jpg</td>\n    </tr>\n    <tr>\n      <th>4</th>\n      <td>woman_outfits/afBMHje0Q1O/0.jpg</td>\n      <td>woman_outfits/afBMHje0Q1O/2.jpg</td>\n      <td>woman_outfits/2Xv2J8O0TsC/2.jpg</td>\n      <td>woman_outfits/Bqz2ln2lQ3-/4.jpg</td>\n      <td>woman_outfits/2KlDRuMWRIC/0.jpg</td>\n    </tr>\n    <tr>\n      <th>5</th>\n      <td>woman_outfits/x90kMxzXSma/0.jpg</td>\n      <td>woman_outfits/x90kMxzXSma/1.jpg</td>\n      <td>woman_outfits/1LmjMAs1RKW/3.jpg</td>\n      <td>woman_outfits/drc22zkRST-/3.jpg</td>\n      <td>woman_outfits/aBhMB9NFR4e/0.jpg</td>\n    </tr>\n    <tr>\n      <th>6</th>\n      <td>woman_outfits/4AeNmv5-Q2u/0.jpg</td>\n      <td>woman_outfits/4AeNmv5-Q2u/1.jpg</td>\n      <td>woman_outfits/nT88q5IbTh6/3.jpg</td>\n      <td>woman_outfits/1k7M6sH-TiC/3.jpg</td>\n      <td>woman_outfits/ELNibZUkSMu/0.jpg</td>\n    </tr>\n    <tr>\n      <th>7</th>\n      <td>woman_outfits/EjdPHI_gRSy/0.jpg</td>\n      <td>woman_outfits/EjdPHI_gRSy/1.jpg</td>\n      <td>woman_outfits/NpbdlD6bSMO/4.jpg</td>\n      <td>woman_outfits/NshNrVxuSyq/4.jpg</td>\n      <td>woman_outfits/J1X7Gy47Tdq/0.jpg</td>\n    </tr>\n    <tr>\n      <th>8</th>\n      <td>woman_outfits/Ac97FhCETHy/1.jpg</td>\n      <td>woman_outfits/Ac97FhCETHy/2.jpg</td>\n      <td>woman_outfits/E01wD-xiQeW/3.jpg</td>\n      <td>woman_outfits/y3V8O7JlR0W/3.jpg</td>\n      <td>woman_outfits/dHyLgTuARxO/0.jpg</td>\n    </tr>\n    <tr>\n      <th>9</th>\n      <td>woman_outfits/QIosKpWfQqe/0.jpg</td>\n      <td>woman_outfits/QIosKpWfQqe/1.jpg</td>\n      <td>woman_outfits/DO9dWvX2TyC/3.jpg</td>\n      <td>woman_outfits/XgdTN2ZaSs-/2.jpg</td>\n      <td>woman_outfits/EUyDcZByQ16/0.jpg</td>\n    </tr>\n    <tr>\n      <th>10</th>\n      <td>woman_outfits/r5vhr4IfSuG/0.jpg</td>\n      <td>woman_outfits/r5vhr4IfSuG/3.jpg</td>\n      <td>woman_outfits/7bbS4OG2To6/3.jpg</td>\n      <td>woman_outfits/rfJZV_dJT6u/3.jpg</td>\n      <td>woman_outfits/McEh8lqaSjC/0.jpg</td>\n    </tr>\n    <tr>\n      <th>11</th>\n      <td>woman_outfits/J5QTIf8nQzu/0.jpg</td>\n      <td>woman_outfits/J5QTIf8nQzu/1.jpg</td>\n      <td>woman_outfits/5MW9j09ISJS/2.jpg</td>\n      <td>woman_outfits/AyAu31UwS9G/3.jpg</td>\n      <td>woman_outfits/K66LEwacQKm/0.jpg</td>\n    </tr>\n    <tr>\n      <th>12</th>\n      <td>woman_outfits/2Xv2J8O0TsC/0.jpg</td>\n      <td>woman_outfits/2Xv2J8O0TsC/1.jpg</td>\n      <td>woman_outfits/DJ42PpHzSDy/3.jpg</td>\n      <td>woman_outfits/fjHha3vCSdO/3.jpg</td>\n      <td>woman_outfits/nT88q5IbTh6/0.jpg</td>\n    </tr>\n    <tr>\n      <th>13</th>\n      <td>woman_outfits/WMXELKByS36/1.jpg</td>\n      <td>woman_outfits/WMXELKByS36/2.jpg</td>\n      <td>woman_outfits/FB3rnggcSWC/2.jpg</td>\n      <td>woman_outfits/WaxfTqYDTVq/3.jpg</td>\n      <td>woman_outfits/bvxueo_dTxW/3.jpg</td>\n    </tr>\n    <tr>\n      <th>14</th>\n      <td>woman_outfits/vpLmaapBQh6/0.jpg</td>\n      <td>woman_outfits/vpLmaapBQh6/1.jpg</td>\n      <td>woman_outfits/2D8qAENdQqa/3.jpg</td>\n      <td>woman_outfits/9TTKXrBcSGS/4.jpg</td>\n      <td>woman_outfits/xBfKuSwAQSa/0.jpg</td>\n    </tr>\n    <tr>\n      <th>15</th>\n      <td>woman_outfits/P1hy2PlwT1K/1.jpg</td>\n      <td>woman_outfits/P1hy2PlwT1K/2.jpg</td>\n      <td>woman_outfits/nDuqwqnfTQG/2.jpg</td>\n      <td>woman_outfits/uT-L0eYHQIe/4.jpg</td>\n      <td>woman_outfits/1LmjMAs1RKW/0.jpg</td>\n    </tr>\n    <tr>\n      <th>16</th>\n      <td>woman_outfits/KMNnljRGRXW/0.jpg</td>\n      <td>woman_outfits/KMNnljRGRXW/1.jpg</td>\n      <td>woman_outfits/TmPHMd3sRGq/3.jpg</td>\n      <td>woman_outfits/efFVVoMYQCy/4.jpg</td>\n      <td>woman_outfits/51WtKq5dRNy/0.jpg</td>\n    </tr>\n    <tr>\n      <th>17</th>\n      <td>woman_outfits/yWGL9pmoS0m/3.jpg</td>\n      <td>woman_outfits/yWGL9pmoS0m/1.jpg</td>\n      <td>woman_outfits/abqNFaLCROO/2.jpg</td>\n      <td>woman_outfits/ceyXGfizRX2/3.jpg</td>\n      <td>woman_outfits/ZWwFE7WCSD-/0.jpg</td>\n    </tr>\n    <tr>\n      <th>18</th>\n      <td>woman_outfits/UcMy0vrKQXG/0.jpg</td>\n      <td>woman_outfits/UcMy0vrKQXG/1.jpg</td>\n      <td>woman_outfits/tKqksdjzR8q/2.jpg</td>\n      <td>woman_outfits/S98GqZOSQVa/3.jpg</td>\n      <td>woman_outfits/g7qb9eNeRpe/0.jpg</td>\n    </tr>\n    <tr>\n      <th>19</th>\n      <td>woman_outfits/2Rr3TQDQTJ-/3.jpg</td>\n      <td>woman_outfits/2Rr3TQDQTJ-/0.jpg</td>\n      <td>woman_outfits/RB46hJHCSPy/2.jpg</td>\n      <td>woman_outfits/aBhMB9NFR4e/4.jpg</td>\n      <td>woman_outfits/ei9NC4-DQQy/4.jpg</td>\n    </tr>\n    <tr>\n      <th>20</th>\n      <td>woman_outfits/NSig3USrTKe/1.jpg</td>\n      <td>woman_outfits/NSig3USrTKe/0.jpg</td>\n      <td>woman_outfits/GmztgTLKQQW/2.jpg</td>\n      <td>woman_outfits/_7PIdhaxSti/3.jpg</td>\n      <td>woman_outfits/W-Lj3YuDRXi/0.jpg</td>\n    </tr>\n    <tr>\n      <th>21</th>\n      <td>woman_outfits/oSBbX4NwTzK/0.jpg</td>\n      <td>woman_outfits/oSBbX4NwTzK/1.jpg</td>\n      <td>woman_outfits/KZ-cJEX8Sn6/2.jpg</td>\n      <td>woman_outfits/svZbquPiSUW/4.jpg</td>\n      <td>woman_outfits/svZbquPiSUW/0.jpg</td>\n    </tr>\n    <tr>\n      <th>22</th>\n      <td>woman_outfits/5J9vfmCiR8u/1.jpg</td>\n      <td>woman_outfits/5J9vfmCiR8u/2.jpg</td>\n      <td>woman_outfits/CWvhGfxBScO/2.jpg</td>\n      <td>woman_outfits/dgX75B2AQ9a/3.jpg</td>\n      <td>woman_outfits/w0h8WjFWTiW/0.jpg</td>\n    </tr>\n    <tr>\n      <th>23</th>\n      <td>woman_outfits/NU3eejh3Qqq/0.jpg</td>\n      <td>woman_outfits/NU3eejh3Qqq/1.jpg</td>\n      <td>woman_outfits/QWQiel8sQ-q/2.jpg</td>\n      <td>woman_outfits/_ScqeSHZSiO/4.jpg</td>\n      <td>woman_outfits/ebHe47raTDa/0.jpg</td>\n    </tr>\n    <tr>\n      <th>24</th>\n      <td>woman_outfits/LHJPBmKJSzC/0.jpg</td>\n      <td>woman_outfits/LHJPBmKJSzC/1.jpg</td>\n      <td>woman_outfits/A2hZbvWpRxG/2.jpg</td>\n      <td>woman_outfits/mVyD2q0wQkm/3.jpg</td>\n      <td>woman_outfits/WbQ12pp6QEi/1.jpg</td>\n    </tr>\n    <tr>\n      <th>25</th>\n      <td>woman_outfits/fR47b7jaTSm/0.jpg</td>\n      <td>woman_outfits/fR47b7jaTSm/1.jpg</td>\n      <td>woman_outfits/t1z5T0CwTRS/3.jpg</td>\n      <td>woman_outfits/NwNhaAyhQvi/2.jpg</td>\n      <td>woman_outfits/ahb3_YrtQua/1.jpg</td>\n    </tr>\n    <tr>\n      <th>26</th>\n      <td>woman_outfits/jC0hg0a_QTe/0.jpg</td>\n      <td>woman_outfits/jC0hg0a_QTe/1.jpg</td>\n      <td>woman_outfits/4w5NPrv_TVu/3.jpg</td>\n      <td>woman_outfits/P9QNNWOSTvS/2.jpg</td>\n      <td>woman_outfits/sNN3-EgHTmi/0.jpg</td>\n    </tr>\n    <tr>\n      <th>27</th>\n      <td>woman_outfits/72n5hr_yR02/1.jpg</td>\n      <td>woman_outfits/72n5hr_yR02/2.jpg</td>\n      <td>woman_outfits/fR47b7jaTSm/2.jpg</td>\n      <td>woman_outfits/aKC0z1pKTpy/4.jpg</td>\n      <td>woman_outfits/9qgtcJ7fQOi/0.jpg</td>\n    </tr>\n    <tr>\n      <th>28</th>\n      <td>woman_outfits/rA5rZfrVTS6/1.jpg</td>\n      <td>woman_outfits/rA5rZfrVTS6/2.jpg</td>\n      <td>woman_outfits/7GhijfpIRMa/2.jpg</td>\n      <td>woman_outfits/yKhGFfpfQbC/2.jpg</td>\n      <td>woman_outfits/PpJgvM1AQT2/0.jpg</td>\n    </tr>\n    <tr>\n      <th>29</th>\n      <td>woman_outfits/xs8oiaP5QF2/0.jpg</td>\n      <td>woman_outfits/xs8oiaP5QF2/1.jpg</td>\n      <td>woman_outfits/NshNrVxuSyq/3.jpg</td>\n      <td>woman_outfits/oOcpqp5eQP2/3.jpg</td>\n      <td>woman_outfits/dR4yJ7yQRBi/0.jpg</td>\n    </tr>\n    <tr>\n      <th>30</th>\n      <td>woman_outfits/-Zq7z-iUQ6a/0.jpg</td>\n      <td>woman_outfits/-Zq7z-iUQ6a/1.jpg</td>\n      <td>woman_outfits/omi2_K5QRxa/3.jpg</td>\n      <td>woman_outfits/fmfPyaHhRzC/3.jpg</td>\n      <td>woman_outfits/g0wfzn47Qfu/0.jpg</td>\n    </tr>\n    <tr>\n      <th>31</th>\n      <td>woman_outfits/uauTdF-XTry/0.jpg</td>\n      <td>woman_outfits/uauTdF-XTry/1.jpg</td>\n      <td>woman_outfits/K5R9R_q5TTW/2.jpg</td>\n      <td>woman_outfits/DP0DNJxkRSu/3.jpg</td>\n      <td>woman_outfits/w3WruLRaS8q/0.jpg</td>\n    </tr>\n    <tr>\n      <th>32</th>\n      <td>woman_outfits/zrl3iJsXRte/0.jpg</td>\n      <td>woman_outfits/zrl3iJsXRte/1.jpg</td>\n      <td>woman_outfits/OA_EGM9VStC/6.jpg</td>\n      <td>woman_outfits/Pb9kXeJGSJ2/4.jpg</td>\n      <td>woman_outfits/T0cI-23WTLK/6.jpg</td>\n    </tr>\n    <tr>\n      <th>33</th>\n      <td>woman_outfits/6wwIy0i5SFq/0.jpg</td>\n      <td>woman_outfits/6wwIy0i5SFq/2.jpg</td>\n      <td>woman_outfits/OQ3el2LBTQ6/2.jpg</td>\n      <td>woman_outfits/seA-ee5WRja/3.jpg</td>\n      <td>woman_outfits/5NofHy71RQS/0.jpg</td>\n    </tr>\n    <tr>\n      <th>34</th>\n      <td>woman_outfits/a99zxFSKT2m/1.jpg</td>\n      <td>woman_outfits/a99zxFSKT2m/3.jpg</td>\n      <td>woman_outfits/5NofHy71RQS/3.jpg</td>\n      <td>woman_outfits/xrPasMjTSAy/4.jpg</td>\n      <td>woman_outfits/l5YylvuFSC6/0.jpg</td>\n    </tr>\n    <tr>\n      <th>35</th>\n      <td>woman_outfits/xKRfLt37RqS/0.jpg</td>\n      <td>woman_outfits/xKRfLt37RqS/1.jpg</td>\n      <td>woman_outfits/g0wfzn47Qfu/3.jpg</td>\n      <td>woman_outfits/MJEvShqrQ-a/3.jpg</td>\n      <td>woman_outfits/h3tJ-HJrTlS/3.jpg</td>\n    </tr>\n    <tr>\n      <th>36</th>\n      <td>woman_outfits/1vmh901xRmS/2.jpg</td>\n      <td>woman_outfits/1vmh901xRmS/3.jpg</td>\n      <td>woman_outfits/xrPasMjTSAy/2.jpg</td>\n      <td>woman_outfits/9uFQa-GITk6/3.jpg</td>\n      <td>woman_outfits/c45Q6kZ1Smy/0.jpg</td>\n    </tr>\n    <tr>\n      <th>37</th>\n      <td>woman_outfits/m0olOzvCQm-/1.jpg</td>\n      <td>woman_outfits/m0olOzvCQm-/2.jpg</td>\n      <td>woman_outfits/Oei-3HLCRXG/2.jpg</td>\n      <td>woman_outfits/XNFw5qMmQpe/4.jpg</td>\n      <td>woman_outfits/5J9vfmCiR8u/0.jpg</td>\n    </tr>\n    <tr>\n      <th>38</th>\n      <td>woman_outfits/bbT2fsv9QmW/0.jpg</td>\n      <td>woman_outfits/bbT2fsv9QmW/1.jpg</td>\n      <td>woman_outfits/n0iYLaxsRIu/3.jpg</td>\n      <td>woman_outfits/wN__TIFZSmu/3.jpg</td>\n      <td>woman_outfits/qscfzp7ETTa/0.jpg</td>\n    </tr>\n    <tr>\n      <th>39</th>\n      <td>woman_outfits/5kOe_PuoTz6/0.jpg</td>\n      <td>woman_outfits/5kOe_PuoTz6/2.jpg</td>\n      <td>woman_outfits/Zdwq0JUwTt-/2.jpg</td>\n      <td>woman_outfits/2SeGBcxfR9q/3.jpg</td>\n      <td>woman_outfits/WimwVidoTOq/2.jpg</td>\n    </tr>\n    <tr>\n      <th>40</th>\n      <td>woman_outfits/bhFj-ipZQC2/1.jpg</td>\n      <td>woman_outfits/bhFj-ipZQC2/2.jpg</td>\n      <td>woman_outfits/fjHha3vCSdO/2.jpg</td>\n      <td>woman_outfits/oS1KknchRQi/2.jpg</td>\n      <td>woman_outfits/uaA73OdaRe6/0.jpg</td>\n    </tr>\n    <tr>\n      <th>41</th>\n      <td>woman_outfits/hJzZuElBSai/0.jpg</td>\n      <td>woman_outfits/hJzZuElBSai/1.jpg</td>\n      <td>woman_outfits/lNNmlFVZThW/3.jpg</td>\n      <td>woman_outfits/VfvlKVVRTJi/3.jpg</td>\n      <td>woman_outfits/Il0KawZwSYe/0.jpg</td>\n    </tr>\n    <tr>\n      <th>42</th>\n      <td>woman_outfits/meqWkWl3RFm/0.jpg</td>\n      <td>woman_outfits/meqWkWl3RFm/3.jpg</td>\n      <td>woman_outfits/AcvK9f3wSb2/7.jpg</td>\n      <td>woman_outfits/ddY-nBs2Qcy/2.jpg</td>\n      <td>woman_outfits/MChqfnV2Q1u/0.jpg</td>\n    </tr>\n    <tr>\n      <th>43</th>\n      <td>woman_outfits/lUYA25QUT_O/0.jpg</td>\n      <td>woman_outfits/lUYA25QUT_O/2.jpg</td>\n      <td>woman_outfits/LecBWA_jSAS/2.jpg</td>\n      <td>woman_outfits/23qHFtY3TsK/3.jpg</td>\n      <td>woman_outfits/zTG6Q6lhQBS/12.jpg</td>\n    </tr>\n    <tr>\n      <th>44</th>\n      <td>woman_outfits/lNNmlFVZThW/1.jpg</td>\n      <td>woman_outfits/lNNmlFVZThW/2.jpg</td>\n      <td>woman_outfits/OZnIlBkJSFG/3.jpg</td>\n      <td>woman_outfits/4bV9em8IQK2/3.jpg</td>\n      <td>woman_outfits/iGucIRzTRP-/0.jpg</td>\n    </tr>\n    <tr>\n      <th>45</th>\n      <td>woman_outfits/nwMgjnCUQia/0.jpg</td>\n      <td>woman_outfits/nwMgjnCUQia/2.jpg</td>\n      <td>woman_outfits/3Xm1Dd2hQs-/2.jpg</td>\n      <td>woman_outfits/Dc4FpzOMSLe/3.jpg</td>\n      <td>woman_outfits/YzC-l-ZvRm-/0.jpg</td>\n    </tr>\n    <tr>\n      <th>46</th>\n      <td>woman_outfits/g8E1yg3CQUO/1.jpg</td>\n      <td>woman_outfits/g8E1yg3CQUO/2.jpg</td>\n      <td>woman_outfits/-x7Gjy6XTjy/2.jpg</td>\n      <td>woman_outfits/w86kL528TXe/3.jpg</td>\n      <td>woman_outfits/XHT8i0mgQg2/5.jpg</td>\n    </tr>\n    <tr>\n      <th>47</th>\n      <td>woman_outfits/GmztgTLKQQW/0.jpg</td>\n      <td>woman_outfits/GmztgTLKQQW/1.jpg</td>\n      <td>woman_outfits/AC8wsgyGRlC/4.jpg</td>\n      <td>woman_outfits/QwL4IAkMTb6/4.jpg</td>\n      <td>woman_outfits/OSh6ZFCJS0-/0.jpg</td>\n    </tr>\n    <tr>\n      <th>48</th>\n      <td>woman_outfits/92mNOO3lQju/2.jpg</td>\n      <td>woman_outfits/92mNOO3lQju/3.jpg</td>\n      <td>woman_outfits/5DjS4TaKQWK/2.jpg</td>\n      <td>woman_outfits/0U9exnDhTvW/4.jpg</td>\n      <td>woman_outfits/wV_YDAF8S_W/0.jpg</td>\n    </tr>\n    <tr>\n      <th>49</th>\n      <td>woman_outfits/n-TTu0rsQ7G/0.jpg</td>\n      <td>woman_outfits/n-TTu0rsQ7G/1.jpg</td>\n      <td>woman_outfits/TbduXpSRQGi/3.jpg</td>\n      <td>woman_outfits/-IeXQkM-QCe/4.jpg</td>\n      <td>woman_outfits/AcvK9f3wSb2/8.jpg</td>\n    </tr>\n  </tbody>\n</table>\n</div>"
     },
     "execution_count": 4,
     "metadata": {},
     "output_type": "execute_result"
    }
   ],
   "source": [
    "\n",
    "def get_potential_outfits(clothing_items_df, number_of_potential_outfits, random_state=123):\n",
    "    inner_wear = clothing_items_df[clothing_items_df['outfit_type'] == WearType.innerWear]\n",
    "\n",
    "    bottom_wear = clothing_items_df[clothing_items_df['outfit_type'] == WearType.bottomWear]\n",
    "    shoes = clothing_items_df[clothing_items_df['outfit_type'] == WearType.shoes]\n",
    "    accessoires = clothing_items_df[clothing_items_df['outfit_type'] == WearType.accessoire]\n",
    "    outer_wear = clothing_items_df[clothing_items_df['outfit_type'] == WearType.outerWear]\n",
    "\n",
    "    potential_outfit_df = pd.DataFrame(data={\n",
    "        'Innerwear_imagePath': list(\n",
    "            inner_wear.sample(n=number_of_potential_outfits, random_state=random_state)['img_src']),\n",
    "        'Bottomwear_imagePath': list(\n",
    "            bottom_wear.sample(n=number_of_potential_outfits, random_state=random_state)['img_src']),\n",
    "        'Shoes_imagePath': list(shoes.sample(n=number_of_potential_outfits, random_state=random_state)['img_src']),\n",
    "        'Accessoire_imagePath': list(\n",
    "            accessoires.sample(n=number_of_potential_outfits, random_state=random_state)['img_src']),\n",
    "        'Outerwear_imagePath': list(\n",
    "            outer_wear.sample(n=number_of_potential_outfits, random_state=random_state)['img_src'])\n",
    "    })\n",
    "\n",
    "    return potential_outfit_df\n",
    "\n",
    "\n",
    "potential_outfits_df = get_potential_outfits(clothing_items_df, 50)\n",
    "potential_outfits_df"
   ],
   "metadata": {
    "collapsed": false
   }
  },
  {
   "cell_type": "code",
   "execution_count": 5,
   "outputs": [],
   "source": [
    "import torch\n",
    "device = torch.device(\"cuda\" if torch.cuda.is_available() else \"cpu\")"
   ],
   "metadata": {
    "collapsed": false
   }
  },
  {
   "cell_type": "code",
   "execution_count": 6,
   "outputs": [],
   "source": [
    "from src.outfit_recommendation.data_augmentation import get_data_augmentation_transforms\n",
    "from src.outfit_recommendation.datasets.image_based_datasets import PolyvoreOutfitDataset\n",
    "\n",
    "\n"
   ],
   "metadata": {
    "collapsed": false
   }
  },
  {
   "cell_type": "code",
   "execution_count": 23,
   "outputs": [
    {
     "name": "stderr",
     "output_type": "stream",
     "text": [
      "Using cache found in /Users/romanzberg/.cache/torch/hub/facebookresearch_dinov2_main\n"
     ]
    },
    {
     "ename": "KeyboardInterrupt",
     "evalue": "",
     "output_type": "error",
     "traceback": [
      "\u001B[0;31m---------------------------------------------------------------------------\u001B[0m",
      "\u001B[0;31mKeyboardInterrupt\u001B[0m                         Traceback (most recent call last)",
      "Cell \u001B[0;32mIn[23], line 17\u001B[0m\n\u001B[1;32m     10\u001B[0m outfit_recommendre \u001B[38;5;241m=\u001B[39m OutfitRecommender(\n\u001B[1;32m     11\u001B[0m     \u001B[38;5;124mf\u001B[39m\u001B[38;5;124m'\u001B[39m\u001B[38;5;132;01m{\u001B[39;00mdataset_folder_root_path\u001B[38;5;132;01m}\u001B[39;00m\u001B[38;5;124m/imageBasedModel/zalando\u001B[39m\u001B[38;5;124m'\u001B[39m,\n\u001B[1;32m     12\u001B[0m     device\n\u001B[1;32m     13\u001B[0m )\n\u001B[1;32m     15\u001B[0m \u001B[38;5;66;03m#classifications = outfit_recommendre.classify_outfits(potential_outfits_df, classifyer)\u001B[39;00m\n\u001B[0;32m---> 17\u001B[0m classifications \u001B[38;5;241m=\u001B[39m \u001B[43moutfit_recommendre\u001B[49m\u001B[38;5;241;43m.\u001B[39;49m\u001B[43mget_good_outfits\u001B[49m\u001B[43m(\u001B[49m\u001B[43m \u001B[49m\u001B[43mclassifyer\u001B[49m\u001B[43m,\u001B[49m\u001B[43m \u001B[49m\u001B[43mclothing_items_df\u001B[49m\u001B[43m,\u001B[49m\u001B[38;5;241;43m10\u001B[39;49m\u001B[43m,\u001B[49m\u001B[38;5;124;43m'\u001B[39;49m\u001B[38;5;124;43m./outfits\u001B[39;49m\u001B[38;5;124;43m'\u001B[39;49m\u001B[43m,\u001B[49m\u001B[43mrandom_state\u001B[49m\u001B[38;5;241;43m=\u001B[39;49m\u001B[38;5;241;43m123\u001B[39;49m\u001B[43m)\u001B[49m\n",
      "File \u001B[0;32m~/projects/DSPRO2-outfit-recommendation/src/outfit_recommendation/outfit_recommender.py:46\u001B[0m, in \u001B[0;36mOutfitRecommender.get_good_outfits\u001B[0;34m(self, model, clothing_items_df, n, save_outfits_to_folder_path, random_state)\u001B[0m\n\u001B[1;32m     43\u001B[0m \u001B[38;5;28;01mdef\u001B[39;00m \u001B[38;5;21mget_good_outfits\u001B[39m(\u001B[38;5;28mself\u001B[39m, model, clothing_items_df, n, save_outfits_to_folder_path\u001B[38;5;241m=\u001B[39m\u001B[38;5;28;01mNone\u001B[39;00m, random_state\u001B[38;5;241m=\u001B[39m\u001B[38;5;241m123\u001B[39m):\n\u001B[1;32m     44\u001B[0m     potential_outfits_df \u001B[38;5;241m=\u001B[39m \u001B[38;5;28mself\u001B[39m\u001B[38;5;241m.\u001B[39m_get_potential_outfits(clothing_items_df, n, random_state)\n\u001B[0;32m---> 46\u001B[0m     \u001B[38;5;28;43mself\u001B[39;49m\u001B[38;5;241;43m.\u001B[39;49m\u001B[43mclassify_outfits\u001B[49m\u001B[43m(\u001B[49m\n\u001B[1;32m     47\u001B[0m \u001B[43m        \u001B[49m\u001B[43mpotential_outfits_df\u001B[49m\u001B[43m,\u001B[49m\u001B[43m \u001B[49m\u001B[43mmodel\u001B[49m\u001B[43m,\u001B[49m\n\u001B[1;32m     48\u001B[0m \u001B[43m        \u001B[49m\u001B[43msave_classifications_to_folder_path\u001B[49m\u001B[38;5;241;43m=\u001B[39;49m\u001B[43msave_outfits_to_folder_path\u001B[49m\n\u001B[1;32m     49\u001B[0m \u001B[43m    \u001B[49m\u001B[43m)\u001B[49m\n\u001B[1;32m     51\u001B[0m     \u001B[38;5;28;01mpass\u001B[39;00m\n",
      "File \u001B[0;32m~/projects/DSPRO2-outfit-recommendation/src/outfit_recommendation/outfit_recommender.py:77\u001B[0m, in \u001B[0;36mOutfitRecommender.classify_outfits\u001B[0;34m(self, potential_outfit_dataframe, model, save_classifications_to_folder_path)\u001B[0m\n\u001B[1;32m     64\u001B[0m img_outerwear \u001B[38;5;241m=\u001B[39m \u001B[38;5;28mself\u001B[39m\u001B[38;5;241m.\u001B[39m_tfms(\u001B[38;5;28mself\u001B[39m\u001B[38;5;241m.\u001B[39m_get_image(outfit[\u001B[38;5;124m'\u001B[39m\u001B[38;5;124mOuterwear_imagePath\u001B[39m\u001B[38;5;124m'\u001B[39m])\u001B[38;5;241m.\u001B[39mto(\u001B[38;5;28mself\u001B[39m\u001B[38;5;241m.\u001B[39m_device))\n\u001B[1;32m     66\u001B[0m batch_outfits \u001B[38;5;241m=\u001B[39m torch\u001B[38;5;241m.\u001B[39mcat([\n\u001B[1;32m     67\u001B[0m     batch_outfits,\n\u001B[1;32m     68\u001B[0m     torch\u001B[38;5;241m.\u001B[39mcat([\n\u001B[0;32m   (...)\u001B[0m\n\u001B[1;32m     74\u001B[0m     ])\u001B[38;5;241m.\u001B[39munsqueeze(\u001B[38;5;241m0\u001B[39m)\n\u001B[1;32m     75\u001B[0m ])\n\u001B[0;32m---> 77\u001B[0m outfit_counter \u001B[38;5;241m+\u001B[39m\u001B[38;5;241m=\u001B[39m \u001B[38;5;241m1\u001B[39m\n\u001B[1;32m     79\u001B[0m \u001B[38;5;28;01mif\u001B[39;00m (\n\u001B[1;32m     80\u001B[0m         (outfit_counter \u001B[38;5;241m%\u001B[39m \u001B[38;5;28mself\u001B[39m\u001B[38;5;241m.\u001B[39m_batch_size) \u001B[38;5;241m==\u001B[39m \u001B[38;5;241m0\u001B[39m) \u001B[38;5;129;01mor\u001B[39;00m (\n\u001B[1;32m     81\u001B[0m         (\n\u001B[1;32m     82\u001B[0m                 outfit_counter \u001B[38;5;241m==\u001B[39m potential_outfit_dataframe\u001B[38;5;241m.\u001B[39mshape[\u001B[38;5;241m0\u001B[39m]\n\u001B[1;32m     83\u001B[0m         )\n\u001B[1;32m     84\u001B[0m ):\n\u001B[1;32m     85\u001B[0m     \u001B[38;5;28;01mwith\u001B[39;00m torch\u001B[38;5;241m.\u001B[39mno_grad():\n",
      "File \u001B[0;32m~/projects/DSPRO2-outfit-recommendation/src/outfit_recommendation/outfit_recommender.py:77\u001B[0m, in \u001B[0;36mOutfitRecommender.classify_outfits\u001B[0;34m(self, potential_outfit_dataframe, model, save_classifications_to_folder_path)\u001B[0m\n\u001B[1;32m     64\u001B[0m img_outerwear \u001B[38;5;241m=\u001B[39m \u001B[38;5;28mself\u001B[39m\u001B[38;5;241m.\u001B[39m_tfms(\u001B[38;5;28mself\u001B[39m\u001B[38;5;241m.\u001B[39m_get_image(outfit[\u001B[38;5;124m'\u001B[39m\u001B[38;5;124mOuterwear_imagePath\u001B[39m\u001B[38;5;124m'\u001B[39m])\u001B[38;5;241m.\u001B[39mto(\u001B[38;5;28mself\u001B[39m\u001B[38;5;241m.\u001B[39m_device))\n\u001B[1;32m     66\u001B[0m batch_outfits \u001B[38;5;241m=\u001B[39m torch\u001B[38;5;241m.\u001B[39mcat([\n\u001B[1;32m     67\u001B[0m     batch_outfits,\n\u001B[1;32m     68\u001B[0m     torch\u001B[38;5;241m.\u001B[39mcat([\n\u001B[0;32m   (...)\u001B[0m\n\u001B[1;32m     74\u001B[0m     ])\u001B[38;5;241m.\u001B[39munsqueeze(\u001B[38;5;241m0\u001B[39m)\n\u001B[1;32m     75\u001B[0m ])\n\u001B[0;32m---> 77\u001B[0m outfit_counter \u001B[38;5;241m+\u001B[39m\u001B[38;5;241m=\u001B[39m \u001B[38;5;241m1\u001B[39m\n\u001B[1;32m     79\u001B[0m \u001B[38;5;28;01mif\u001B[39;00m (\n\u001B[1;32m     80\u001B[0m         (outfit_counter \u001B[38;5;241m%\u001B[39m \u001B[38;5;28mself\u001B[39m\u001B[38;5;241m.\u001B[39m_batch_size) \u001B[38;5;241m==\u001B[39m \u001B[38;5;241m0\u001B[39m) \u001B[38;5;129;01mor\u001B[39;00m (\n\u001B[1;32m     81\u001B[0m         (\n\u001B[1;32m     82\u001B[0m                 outfit_counter \u001B[38;5;241m==\u001B[39m potential_outfit_dataframe\u001B[38;5;241m.\u001B[39mshape[\u001B[38;5;241m0\u001B[39m]\n\u001B[1;32m     83\u001B[0m         )\n\u001B[1;32m     84\u001B[0m ):\n\u001B[1;32m     85\u001B[0m     \u001B[38;5;28;01mwith\u001B[39;00m torch\u001B[38;5;241m.\u001B[39mno_grad():\n",
      "File \u001B[0;32m_pydevd_bundle/pydevd_cython_darwin_310_64.pyx:1179\u001B[0m, in \u001B[0;36m_pydevd_bundle.pydevd_cython_darwin_310_64.SafeCallWrapper.__call__\u001B[0;34m()\u001B[0m\n",
      "File \u001B[0;32m_pydevd_bundle/pydevd_cython_darwin_310_64.pyx:620\u001B[0m, in \u001B[0;36m_pydevd_bundle.pydevd_cython_darwin_310_64.PyDBFrame.trace_dispatch\u001B[0;34m()\u001B[0m\n",
      "File \u001B[0;32m_pydevd_bundle/pydevd_cython_darwin_310_64.pyx:929\u001B[0m, in \u001B[0;36m_pydevd_bundle.pydevd_cython_darwin_310_64.PyDBFrame.trace_dispatch\u001B[0;34m()\u001B[0m\n",
      "File \u001B[0;32m_pydevd_bundle/pydevd_cython_darwin_310_64.pyx:920\u001B[0m, in \u001B[0;36m_pydevd_bundle.pydevd_cython_darwin_310_64.PyDBFrame.trace_dispatch\u001B[0;34m()\u001B[0m\n",
      "File \u001B[0;32m_pydevd_bundle/pydevd_cython_darwin_310_64.pyx:317\u001B[0m, in \u001B[0;36m_pydevd_bundle.pydevd_cython_darwin_310_64.PyDBFrame.do_wait_suspend\u001B[0;34m()\u001B[0m\n",
      "File \u001B[0;32m/Applications/PyCharm.app/Contents/plugins/python/helpers/pydev/pydevd.py:1160\u001B[0m, in \u001B[0;36mPyDB.do_wait_suspend\u001B[0;34m(self, thread, frame, event, arg, send_suspend_message, is_unhandled_exception)\u001B[0m\n\u001B[1;32m   1157\u001B[0m         from_this_thread\u001B[38;5;241m.\u001B[39mappend(frame_id)\n\u001B[1;32m   1159\u001B[0m \u001B[38;5;28;01mwith\u001B[39;00m \u001B[38;5;28mself\u001B[39m\u001B[38;5;241m.\u001B[39m_threads_suspended_single_notification\u001B[38;5;241m.\u001B[39mnotify_thread_suspended(thread_id, stop_reason):\n\u001B[0;32m-> 1160\u001B[0m     \u001B[38;5;28;43mself\u001B[39;49m\u001B[38;5;241;43m.\u001B[39;49m\u001B[43m_do_wait_suspend\u001B[49m\u001B[43m(\u001B[49m\u001B[43mthread\u001B[49m\u001B[43m,\u001B[49m\u001B[43m \u001B[49m\u001B[43mframe\u001B[49m\u001B[43m,\u001B[49m\u001B[43m \u001B[49m\u001B[43mevent\u001B[49m\u001B[43m,\u001B[49m\u001B[43m \u001B[49m\u001B[43marg\u001B[49m\u001B[43m,\u001B[49m\u001B[43m \u001B[49m\u001B[43msuspend_type\u001B[49m\u001B[43m,\u001B[49m\u001B[43m \u001B[49m\u001B[43mfrom_this_thread\u001B[49m\u001B[43m)\u001B[49m\n",
      "File \u001B[0;32m/Applications/PyCharm.app/Contents/plugins/python/helpers/pydev/pydevd.py:1175\u001B[0m, in \u001B[0;36mPyDB._do_wait_suspend\u001B[0;34m(self, thread, frame, event, arg, suspend_type, from_this_thread)\u001B[0m\n\u001B[1;32m   1172\u001B[0m             \u001B[38;5;28mself\u001B[39m\u001B[38;5;241m.\u001B[39m_call_mpl_hook()\n\u001B[1;32m   1174\u001B[0m         \u001B[38;5;28mself\u001B[39m\u001B[38;5;241m.\u001B[39mprocess_internal_commands()\n\u001B[0;32m-> 1175\u001B[0m         \u001B[43mtime\u001B[49m\u001B[38;5;241;43m.\u001B[39;49m\u001B[43msleep\u001B[49m\u001B[43m(\u001B[49m\u001B[38;5;241;43m0.01\u001B[39;49m\u001B[43m)\u001B[49m\n\u001B[1;32m   1177\u001B[0m \u001B[38;5;28mself\u001B[39m\u001B[38;5;241m.\u001B[39mcancel_async_evaluation(get_current_thread_id(thread), \u001B[38;5;28mstr\u001B[39m(\u001B[38;5;28mid\u001B[39m(frame)))\n\u001B[1;32m   1179\u001B[0m \u001B[38;5;66;03m# process any stepping instructions\u001B[39;00m\n",
      "\u001B[0;31mKeyboardInterrupt\u001B[0m: "
     ]
    }
   ],
   "source": [
    "from src.outfit_recommendation.models.dino_v2_based import OutfitClassifier\n",
    "from src.outfit_recommendation.outfit_recommender import OutfitRecommender\n",
    "\n",
    "classifyer = OutfitClassifier.create_from_pth_file(\n",
    "    '../trained_models/best_model_median_threshold.pth', device\n",
    ")\n",
    "classifyer.eval()\n",
    "\n",
    "\n",
    "outfit_recommendre = OutfitRecommender(\n",
    "    f'{dataset_folder_root_path}/imageBasedModel/zalando',\n",
    "    device\n",
    ")\n",
    "\n",
    "#classifications = outfit_recommendre.classify_outfits(potential_outfits_df, classifyer)\n",
    "\n",
    "classifications = outfit_recommendre.get_good_outfits( classifyer, clothing_items_df,10,'./outfits',random_state=123)\n"
   ],
   "metadata": {
    "collapsed": false
   }
  },
  {
   "cell_type": "code",
   "execution_count": 8,
   "outputs": [],
   "source": [
    "classifications"
   ],
   "metadata": {
    "collapsed": false
   }
  },
  {
   "cell_type": "code",
   "execution_count": 9,
   "outputs": [
    {
     "ename": "TypeError",
     "evalue": "object of type 'NoneType' has no len()",
     "output_type": "error",
     "traceback": [
      "\u001B[0;31m---------------------------------------------------------------------------\u001B[0m",
      "\u001B[0;31mTypeError\u001B[0m                                 Traceback (most recent call last)",
      "Cell \u001B[0;32mIn[9], line 1\u001B[0m\n\u001B[0;32m----> 1\u001B[0m \u001B[38;5;28;43mlen\u001B[39;49m\u001B[43m(\u001B[49m\u001B[43mclassifications\u001B[49m\u001B[43m)\u001B[49m\n",
      "\u001B[0;31mTypeError\u001B[0m: object of type 'NoneType' has no len()"
     ]
    }
   ],
   "source": [
    "len(classifications)"
   ],
   "metadata": {
    "collapsed": false
   }
  },
  {
   "cell_type": "code",
   "execution_count": null,
   "outputs": [],
   "source": [],
   "metadata": {
    "collapsed": false
   }
  }
 ],
 "metadata": {
  "kernelspec": {
   "display_name": "Python 3",
   "language": "python",
   "name": "python3"
  },
  "language_info": {
   "codemirror_mode": {
    "name": "ipython",
    "version": 2
   },
   "file_extension": ".py",
   "mimetype": "text/x-python",
   "name": "python",
   "nbconvert_exporter": "python",
   "pygments_lexer": "ipython2",
   "version": "2.7.6"
  }
 },
 "nbformat": 4,
 "nbformat_minor": 0
}
