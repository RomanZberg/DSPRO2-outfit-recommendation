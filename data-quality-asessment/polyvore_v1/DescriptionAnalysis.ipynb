{
 "cells": [
  {
   "cell_type": "code",
   "execution_count": 20,
   "metadata": {
    "collapsed": true
   },
   "outputs": [
    {
     "name": "stderr",
     "output_type": "stream",
     "text": [
      "[nltk_data] Downloading package stopwords to\n",
      "[nltk_data]     /Users/romanzberg/nltk_data...\n",
      "[nltk_data]   Package stopwords is already up-to-date!\n",
      "[nltk_data] Downloading package wordnet to\n",
      "[nltk_data]     /Users/romanzberg/nltk_data...\n",
      "[nltk_data]   Package wordnet is already up-to-date!\n",
      "[nltk_data] Downloading package punkt to\n",
      "[nltk_data]     /Users/romanzberg/nltk_data...\n",
      "[nltk_data]   Package punkt is already up-to-date!\n",
      "[nltk_data] Downloading package omw-1.4 to\n",
      "[nltk_data]     /Users/romanzberg/nltk_data...\n",
      "[nltk_data]   Package omw-1.4 is already up-to-date!\n"
     ]
    },
    {
     "data": {
      "text/plain": "                                               outfitName  outfitViews  \\\n7       Being a Vans shoe model with Luke. Idk about t...          188   \n8       Being a Vans shoe model with Luke. Idk about t...          188   \n15                    These Chanel bags is a bad habit .x          562   \n17                    These Chanel bags is a bad habit .x          562   \n19                    These Chanel bags is a bad habit .x          562   \n...                                                   ...          ...   \n142460                                               Army          281   \n142461                                               Army          281   \n142462                                               Army          281   \n142463                                               Army          281   \n142464                                               Army          281   \n\n        wearType      type  outfitLikes       date     set_id  \\\n7              2       top            9  Two years  120161271   \n8              4     pants            9  Two years  120161271   \n15             2       top           32  Two years  143656996   \n17             4     pants           32  Two years  143656996   \n19             1       bag           32  Two years  143656996   \n...          ...       ...          ...        ...        ...   \n142460         3   outwear           30   One year  187953065   \n142461         4     skirt           30   One year  187953065   \n142462         5     shoes           30   One year  187953065   \n142463         1       bag           30   One year  187953065   \n142464         1  necklace           30   One year  187953065   \n\n                                               outfitDesc  clothingItemIndex  \\\n7       A fashion look from April 2014 featuring destr...                  1   \n8       A fashion look from April 2014 featuring destr...                  2   \n15                                               12.19.14                  1   \n17                                               12.19.14                  3   \n19                                               12.19.14                  5   \n...                                                   ...                ...   \n142460  A fashion look from January 2016 by catherine-...                  2   \n142461  A fashion look from January 2016 by catherine-...                  3   \n142462  A fashion look from January 2016 by catherine-...                  4   \n142463  A fashion look from January 2016 by catherine-...                  5   \n142464  A fashion look from January 2016 by catherine-...                  6   \n\n                                         clothingItemName  clothingItemPrice  \\\n7                              nirvana distressed t-shirt               10.0   \n8                     rag bone rock w/ black skinny jeans              235.0   \n15                                          monki singlet               16.0   \n17               topshop moto joni high rise skinny jeans               65.0   \n19                          pre-owned chanel shoulder bag             2450.0   \n...                                                   ...                ...   \n142460          yoins army green buttoned slit lapel coat               33.0   \n142461                    topshop wool blend a-line skirt               19.0   \n142462             ralph lauren collection canvas sandals              230.0   \n142463  alexander mcqueen hunter green black mini leat...             1010.0   \n142464   forever faux pearl rhinestone statement necklace               18.0   \n\n        clothingItemLikes  clothingItemCategoryId                   imagePath  \n7                    1290                      21  raw/images/120161271/1.jpg  \n8                   17406                     237  raw/images/120161271/2.jpg  \n15                  20094                     104  raw/images/143656996/1.jpg  \n17                  23324                     237  raw/images/143656996/3.jpg  \n19                   4489                      37  raw/images/143656996/5.jpg  \n...                   ...                     ...                         ...  \n142460                431                      24  raw/images/187953065/2.jpg  \n142461               1456                       9  raw/images/187953065/3.jpg  \n142462                831                      46  raw/images/187953065/4.jpg  \n142463                 16                      37  raw/images/187953065/5.jpg  \n142464                 66                      62  raw/images/187953065/6.jpg  \n\n[30370 rows x 14 columns]",
      "text/html": "<div>\n<style scoped>\n    .dataframe tbody tr th:only-of-type {\n        vertical-align: middle;\n    }\n\n    .dataframe tbody tr th {\n        vertical-align: top;\n    }\n\n    .dataframe thead th {\n        text-align: right;\n    }\n</style>\n<table border=\"1\" class=\"dataframe\">\n  <thead>\n    <tr style=\"text-align: right;\">\n      <th></th>\n      <th>outfitName</th>\n      <th>outfitViews</th>\n      <th>wearType</th>\n      <th>type</th>\n      <th>outfitLikes</th>\n      <th>date</th>\n      <th>set_id</th>\n      <th>outfitDesc</th>\n      <th>clothingItemIndex</th>\n      <th>clothingItemName</th>\n      <th>clothingItemPrice</th>\n      <th>clothingItemLikes</th>\n      <th>clothingItemCategoryId</th>\n      <th>imagePath</th>\n    </tr>\n  </thead>\n  <tbody>\n    <tr>\n      <th>7</th>\n      <td>Being a Vans shoe model with Luke. Idk about t...</td>\n      <td>188</td>\n      <td>2</td>\n      <td>top</td>\n      <td>9</td>\n      <td>Two years</td>\n      <td>120161271</td>\n      <td>A fashion look from April 2014 featuring destr...</td>\n      <td>1</td>\n      <td>nirvana distressed t-shirt</td>\n      <td>10.0</td>\n      <td>1290</td>\n      <td>21</td>\n      <td>raw/images/120161271/1.jpg</td>\n    </tr>\n    <tr>\n      <th>8</th>\n      <td>Being a Vans shoe model with Luke. Idk about t...</td>\n      <td>188</td>\n      <td>4</td>\n      <td>pants</td>\n      <td>9</td>\n      <td>Two years</td>\n      <td>120161271</td>\n      <td>A fashion look from April 2014 featuring destr...</td>\n      <td>2</td>\n      <td>rag bone rock w/ black skinny jeans</td>\n      <td>235.0</td>\n      <td>17406</td>\n      <td>237</td>\n      <td>raw/images/120161271/2.jpg</td>\n    </tr>\n    <tr>\n      <th>15</th>\n      <td>These Chanel bags is a bad habit .x</td>\n      <td>562</td>\n      <td>2</td>\n      <td>top</td>\n      <td>32</td>\n      <td>Two years</td>\n      <td>143656996</td>\n      <td>12.19.14</td>\n      <td>1</td>\n      <td>monki singlet</td>\n      <td>16.0</td>\n      <td>20094</td>\n      <td>104</td>\n      <td>raw/images/143656996/1.jpg</td>\n    </tr>\n    <tr>\n      <th>17</th>\n      <td>These Chanel bags is a bad habit .x</td>\n      <td>562</td>\n      <td>4</td>\n      <td>pants</td>\n      <td>32</td>\n      <td>Two years</td>\n      <td>143656996</td>\n      <td>12.19.14</td>\n      <td>3</td>\n      <td>topshop moto joni high rise skinny jeans</td>\n      <td>65.0</td>\n      <td>23324</td>\n      <td>237</td>\n      <td>raw/images/143656996/3.jpg</td>\n    </tr>\n    <tr>\n      <th>19</th>\n      <td>These Chanel bags is a bad habit .x</td>\n      <td>562</td>\n      <td>1</td>\n      <td>bag</td>\n      <td>32</td>\n      <td>Two years</td>\n      <td>143656996</td>\n      <td>12.19.14</td>\n      <td>5</td>\n      <td>pre-owned chanel shoulder bag</td>\n      <td>2450.0</td>\n      <td>4489</td>\n      <td>37</td>\n      <td>raw/images/143656996/5.jpg</td>\n    </tr>\n    <tr>\n      <th>...</th>\n      <td>...</td>\n      <td>...</td>\n      <td>...</td>\n      <td>...</td>\n      <td>...</td>\n      <td>...</td>\n      <td>...</td>\n      <td>...</td>\n      <td>...</td>\n      <td>...</td>\n      <td>...</td>\n      <td>...</td>\n      <td>...</td>\n      <td>...</td>\n    </tr>\n    <tr>\n      <th>142460</th>\n      <td>Army</td>\n      <td>281</td>\n      <td>3</td>\n      <td>outwear</td>\n      <td>30</td>\n      <td>One year</td>\n      <td>187953065</td>\n      <td>A fashion look from January 2016 by catherine-...</td>\n      <td>2</td>\n      <td>yoins army green buttoned slit lapel coat</td>\n      <td>33.0</td>\n      <td>431</td>\n      <td>24</td>\n      <td>raw/images/187953065/2.jpg</td>\n    </tr>\n    <tr>\n      <th>142461</th>\n      <td>Army</td>\n      <td>281</td>\n      <td>4</td>\n      <td>skirt</td>\n      <td>30</td>\n      <td>One year</td>\n      <td>187953065</td>\n      <td>A fashion look from January 2016 by catherine-...</td>\n      <td>3</td>\n      <td>topshop wool blend a-line skirt</td>\n      <td>19.0</td>\n      <td>1456</td>\n      <td>9</td>\n      <td>raw/images/187953065/3.jpg</td>\n    </tr>\n    <tr>\n      <th>142462</th>\n      <td>Army</td>\n      <td>281</td>\n      <td>5</td>\n      <td>shoes</td>\n      <td>30</td>\n      <td>One year</td>\n      <td>187953065</td>\n      <td>A fashion look from January 2016 by catherine-...</td>\n      <td>4</td>\n      <td>ralph lauren collection canvas sandals</td>\n      <td>230.0</td>\n      <td>831</td>\n      <td>46</td>\n      <td>raw/images/187953065/4.jpg</td>\n    </tr>\n    <tr>\n      <th>142463</th>\n      <td>Army</td>\n      <td>281</td>\n      <td>1</td>\n      <td>bag</td>\n      <td>30</td>\n      <td>One year</td>\n      <td>187953065</td>\n      <td>A fashion look from January 2016 by catherine-...</td>\n      <td>5</td>\n      <td>alexander mcqueen hunter green black mini leat...</td>\n      <td>1010.0</td>\n      <td>16</td>\n      <td>37</td>\n      <td>raw/images/187953065/5.jpg</td>\n    </tr>\n    <tr>\n      <th>142464</th>\n      <td>Army</td>\n      <td>281</td>\n      <td>1</td>\n      <td>necklace</td>\n      <td>30</td>\n      <td>One year</td>\n      <td>187953065</td>\n      <td>A fashion look from January 2016 by catherine-...</td>\n      <td>6</td>\n      <td>forever faux pearl rhinestone statement necklace</td>\n      <td>18.0</td>\n      <td>66</td>\n      <td>62</td>\n      <td>raw/images/187953065/6.jpg</td>\n    </tr>\n  </tbody>\n</table>\n<p>30370 rows × 14 columns</p>\n</div>"
     },
     "execution_count": 20,
     "metadata": {},
     "output_type": "execute_result"
    }
   ],
   "source": [
    "import pandas as pd\n",
    "\n",
    "\n",
    "import ssl\n",
    "\n",
    "from nltk.corpus import stopwords\n",
    "from nltk.stem import WordNetLemmatizer, SnowballStemmer\n",
    "import nltk\n",
    "from src.WearType import WearType\n",
    "\n",
    "try:\n",
    "    _create_unverified_https_context = ssl._create_unverified_context\n",
    "except AttributeError:\n",
    "    pass\n",
    "else:\n",
    "    ssl._create_default_https_context = _create_unverified_https_context\n",
    "\n",
    "#nltk.download()  # uncomment this line if you execute this notebook the first time, afterwards you can comment it again\n",
    "\n",
    "nltk.download('stopwords')\n",
    "nltk.download('wordnet')\n",
    "nltk.download('punkt')\n",
    "nltk.download('omw-1.4')\n",
    "\n",
    "df = pd.read_parquet('../../datasets/cleaned/polyvore_v1.parquet')\n",
    "df['wearType'] = df['wearType'].apply(lambda x: WearType(x))\n",
    "df"
   ]
  },
  {
   "cell_type": "code",
   "execution_count": 16,
   "outputs": [],
   "source": [
    "stemmer = SnowballStemmer(\"english\")\n",
    "stop_words = set(stopwords.words('english'))\n",
    "\n",
    "df_text_analisys = df[['set_id', 'outfitName', 'outfitDesc', 'outfitLikes']]\n",
    "df_text_analisys = df_text_analisys[['set_id', 'outfitName', 'outfitDesc', 'outfitLikes']].drop_duplicates()\n",
    "\n",
    "def lemmatize_stemming(text):\n",
    "    return stemmer.stem(WordNetLemmatizer().lemmatize(text, pos='v'))\n",
    "\n",
    "\n",
    "def normalize(text):\n",
    "    tokens = nltk.word_tokenize(text)\n",
    "    result = [lemmatize_stemming(token) for token in tokens\n",
    "              if token not in stop_words and len(token) > 3]\n",
    "    return result\n",
    "\n",
    "\n",
    "names = df_text_analisys[\"outfitName\"].apply(lambda x: normalize(x))\n",
    "desc = df_text_analisys['outfitDesc'].apply(lambda x: normalize(x))\n",
    "#df_only_valid_outfits"
   ],
   "metadata": {
    "collapsed": false
   }
  },
  {
   "cell_type": "code",
   "execution_count": 17,
   "outputs": [
    {
     "data": {
      "text/plain": "outfitName   \nstyle            685\nschool           364\nstreet           351\nskirt            309\ncasual           303\n                ... \nfiddlingabout      1\nfield              1\nfierc              1\nfifti              1\n😙😙😙😘😚😗             1\nName: count, Length: 3404, dtype: int64"
     },
     "execution_count": 17,
     "metadata": {},
     "output_type": "execute_result"
    }
   ],
   "source": [
    "names = pd.DataFrame(names)\n",
    "names.explode('outfitName').value_counts()"
   ],
   "metadata": {
    "collapsed": false
   }
  },
  {
   "cell_type": "code",
   "execution_count": 6,
   "outputs": [
    {
     "data": {
      "text/plain": "outfitDesc   \nlook             6792\nfeatur           5945\nfashion          5912\n2016             2659\n2017             1431\n                 ... \nhoschek             1\nhorsevespalov       1\nhorror-hotti        1\nhorizon             1\n😱😍❤️❤️❤️❤️          1\nName: count, Length: 9136, dtype: int64"
     },
     "execution_count": 6,
     "metadata": {},
     "output_type": "execute_result"
    }
   ],
   "source": [
    "desc = pd.DataFrame(desc)\n",
    "desc.explode('outfitDesc').value_counts()"
   ],
   "metadata": {
    "collapsed": false
   }
  },
  {
   "cell_type": "code",
   "execution_count": 7,
   "outputs": [
    {
     "data": {
      "text/plain": "           set_id                                         outfitName  \\\n7       120161271  Being a Vans shoe model with Luke. Idk about t...   \n15      143656996                These Chanel bags is a bad habit .x   \n43      216470135  the people i choose never choose me and my hea...   \n50      216220312                                          Be happy!   \n85      192203629                                        yellow grey   \n...           ...                                                ...   \n142396  201717504                         Denim Shorts (Outfit Only)   \n142406  216589548                                        winter coat   \n142418  216860218                                  Outfit of the Day   \n142432  211099953                                    park and coffee   \n142459  187953065                                               Army   \n\n                                               outfitDesc  outfitLikes  \n7       A fashion look from April 2014 featuring destr...            9  \n15                                               12.19.14           32  \n43      A fashion look from February 2017 by exco feat...          395  \n50      A fashion look from February 2017 by rasa-j fe...          233  \n85      A fashion look from February 2016 by lifestyle...          153  \n...                                                   ...          ...  \n142396  A fashion look from June 2016 featuring blue t...          367  \n142406  A fashion look from February 2017 by emcf3548 ...          116  \n142418  A fashion look from February 2017 by dressedby...          214  \n142432  A fashion look from November 2016 by dance-nat...           40  \n142459  A fashion look from January 2016 by catherine-...           30  \n\n[6793 rows x 4 columns]",
      "text/html": "<div>\n<style scoped>\n    .dataframe tbody tr th:only-of-type {\n        vertical-align: middle;\n    }\n\n    .dataframe tbody tr th {\n        vertical-align: top;\n    }\n\n    .dataframe thead th {\n        text-align: right;\n    }\n</style>\n<table border=\"1\" class=\"dataframe\">\n  <thead>\n    <tr style=\"text-align: right;\">\n      <th></th>\n      <th>set_id</th>\n      <th>outfitName</th>\n      <th>outfitDesc</th>\n      <th>outfitLikes</th>\n    </tr>\n  </thead>\n  <tbody>\n    <tr>\n      <th>7</th>\n      <td>120161271</td>\n      <td>Being a Vans shoe model with Luke. Idk about t...</td>\n      <td>A fashion look from April 2014 featuring destr...</td>\n      <td>9</td>\n    </tr>\n    <tr>\n      <th>15</th>\n      <td>143656996</td>\n      <td>These Chanel bags is a bad habit .x</td>\n      <td>12.19.14</td>\n      <td>32</td>\n    </tr>\n    <tr>\n      <th>43</th>\n      <td>216470135</td>\n      <td>the people i choose never choose me and my hea...</td>\n      <td>A fashion look from February 2017 by exco feat...</td>\n      <td>395</td>\n    </tr>\n    <tr>\n      <th>50</th>\n      <td>216220312</td>\n      <td>Be happy!</td>\n      <td>A fashion look from February 2017 by rasa-j fe...</td>\n      <td>233</td>\n    </tr>\n    <tr>\n      <th>85</th>\n      <td>192203629</td>\n      <td>yellow grey</td>\n      <td>A fashion look from February 2016 by lifestyle...</td>\n      <td>153</td>\n    </tr>\n    <tr>\n      <th>...</th>\n      <td>...</td>\n      <td>...</td>\n      <td>...</td>\n      <td>...</td>\n    </tr>\n    <tr>\n      <th>142396</th>\n      <td>201717504</td>\n      <td>Denim Shorts (Outfit Only)</td>\n      <td>A fashion look from June 2016 featuring blue t...</td>\n      <td>367</td>\n    </tr>\n    <tr>\n      <th>142406</th>\n      <td>216589548</td>\n      <td>winter coat</td>\n      <td>A fashion look from February 2017 by emcf3548 ...</td>\n      <td>116</td>\n    </tr>\n    <tr>\n      <th>142418</th>\n      <td>216860218</td>\n      <td>Outfit of the Day</td>\n      <td>A fashion look from February 2017 by dressedby...</td>\n      <td>214</td>\n    </tr>\n    <tr>\n      <th>142432</th>\n      <td>211099953</td>\n      <td>park and coffee</td>\n      <td>A fashion look from November 2016 by dance-nat...</td>\n      <td>40</td>\n    </tr>\n    <tr>\n      <th>142459</th>\n      <td>187953065</td>\n      <td>Army</td>\n      <td>A fashion look from January 2016 by catherine-...</td>\n      <td>30</td>\n    </tr>\n  </tbody>\n</table>\n<p>6793 rows × 4 columns</p>\n</div>"
     },
     "execution_count": 7,
     "metadata": {},
     "output_type": "execute_result"
    }
   ],
   "source": [
    "df_text_analisys"
   ],
   "metadata": {
    "collapsed": false
   }
  },
  {
   "cell_type": "code",
   "execution_count": 8,
   "outputs": [
    {
     "name": "stdout",
     "output_type": "stream",
     "text": [
      "6793\n",
      "6793\n"
     ]
    }
   ],
   "source": [
    "print(df_text_analisys['set_id'].unique().shape[0])\n",
    "print(df_text_analisys.shape[0])"
   ],
   "metadata": {
    "collapsed": false
   }
  },
  {
   "cell_type": "code",
   "execution_count": 9,
   "outputs": [
    {
     "data": {
      "text/plain": "count    6793.000000\nmean      354.551008\nstd       567.661429\nmin         2.000000\n25%        28.000000\n50%       134.000000\n75%       428.000000\nmax      7294.000000\nName: outfitLikes, dtype: float64"
     },
     "execution_count": 9,
     "metadata": {},
     "output_type": "execute_result"
    }
   ],
   "source": [
    "df_text_analisys['outfitLikes'].describe()"
   ],
   "metadata": {
    "collapsed": false
   }
  },
  {
   "cell_type": "code",
   "execution_count": null,
   "outputs": [],
   "source": [],
   "metadata": {
    "collapsed": false
   }
  }
 ],
 "metadata": {
  "kernelspec": {
   "display_name": "Python 3",
   "language": "python",
   "name": "python3"
  },
  "language_info": {
   "codemirror_mode": {
    "name": "ipython",
    "version": 2
   },
   "file_extension": ".py",
   "mimetype": "text/x-python",
   "name": "python",
   "nbconvert_exporter": "python",
   "pygments_lexer": "ipython2",
   "version": "2.7.6"
  }
 },
 "nbformat": 4,
 "nbformat_minor": 0
}
