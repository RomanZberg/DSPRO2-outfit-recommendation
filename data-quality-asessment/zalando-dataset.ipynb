{
 "cells": [
  {
   "cell_type": "code",
   "execution_count": 1,
   "metadata": {
    "collapsed": true
   },
   "outputs": [],
   "source": [
    "import pandas as pd\n",
    "\n",
    "df = pd.read_csv('../datasets/zalando-woman-outfit-dataset-raw/woman_outfit_clothes_with_img_file_path_and_color.csv')"
   ]
  },
  {
   "cell_type": "code",
   "execution_count": 2,
   "outputs": [
    {
     "data": {
      "text/plain": "Unnamed: 0.1                   False\nUnnamed: 0                     False\noutfit_url                     False\nclothingItemName               False\nclothingItemBrand              False\nclothingItemDetailUrl          False\nclothingItemPreviewImageUrl    False\nid                             False\nclothingItemColor              False\nimage_path                     False\ndtype: bool"
     },
     "execution_count": 2,
     "metadata": {},
     "output_type": "execute_result"
    }
   ],
   "source": [
    "df.isna().all()"
   ],
   "metadata": {
    "collapsed": false
   }
  },
  {
   "cell_type": "code",
   "execution_count": 9,
   "outputs": [
    {
     "data": {
      "text/plain": "       Unnamed: 0.1  Unnamed: 0                                   outfit_url  \\\n0                 0           0  https://www.zalando.ch/outfits/5Bay-ErCSwa/   \n1                 1           1  https://www.zalando.ch/outfits/5Bay-ErCSwa/   \n2                 2           2  https://www.zalando.ch/outfits/5Bay-ErCSwa/   \n3                 3           3  https://www.zalando.ch/outfits/5Bay-ErCSwa/   \n4                 4           4  https://www.zalando.ch/outfits/5Bay-ErCSwa/   \n...             ...         ...                                          ...   \n24546         24546       24546  https://www.zalando.ch/outfits/FOmLRaT0Rnu/   \n24547         24547       24547  https://www.zalando.ch/outfits/FOmLRaT0Rnu/   \n24548         24548       24548  https://www.zalando.ch/outfits/IMi9cMhhTSm/   \n24549         24549       24549  https://www.zalando.ch/outfits/tUljaAGSTG6/   \n24550         24550       24550  https://www.zalando.ch/outfits/tUljaAGSTG6/   \n\n                                        clothingItemName clothingItemBrand  \\\n0                            PADDED VEST - Weste - black              Puma   \n1      SLFMY PERFECT TEE BOX CUT - T-Shirt basic - br...    Selected Femme   \n2          MOM A LINE SHORT - Jeans Shorts - flash black           Levi's®   \n3                       530 UNISEX - Sneaker low - white       New Balance   \n4                                   Sonnenbrille - brown         Swarovski   \n...                                                  ...               ...   \n24546                  SLFEMMA LOAFER  - Slipper - black    Selected Femme   \n24547                TABBY SHOULDER - Handtasche - black             Coach   \n24548                            High Heel Pumps - black          Even&Odd   \n24549          BASIC HOODED JACKET - Daunenjacke - black       Tommy Jeans   \n24550                   WX452 - Sneaker low - white/grey       New Balance   \n\n                                   clothingItemDetailUrl  \\\n0      https://www.zalando.ch/puma-ess-trainingsjacke...   \n1      https://www.zalando.ch/selected-femme-sfmy-t-s...   \n2      https://www.zalando.ch/levisr-mom-a-line-short...   \n3      https://www.zalando.ch/new-balance-mr530-sneak...   \n4      https://www.zalando.ch/swarovski-sonnenbrille-...   \n...                                                  ...   \n24546  https://www.zalando.ch/selected-femme-schnuere...   \n24547  https://www.zalando.ch/coach-polished-pebble-s...   \n24548  https://www.zalando.ch/evenandodd-pumps-black-...   \n24549  https://www.zalando.ch/tommy-jeans-basic-hoode...   \n24550  https://www.zalando.ch/new-balance-wx452-sneak...   \n\n                             clothingItemPreviewImageUrl           id  \\\n0      https://img01.ztat.net/article/spp-media-p1/f0...  5Bay-ErCSwa   \n1      https://img01.ztat.net/article/spp-media-p1/3b...  5Bay-ErCSwa   \n2      https://img01.ztat.net/article/spp-media-p1/eb...  5Bay-ErCSwa   \n3      https://img01.ztat.net/article/spp-media-p1/7f...  5Bay-ErCSwa   \n4      https://img01.ztat.net/article/spp-media-p1/03...  5Bay-ErCSwa   \n...                                                  ...          ...   \n24546  https://img01.ztat.net/article/spp-media-p1/c4...  FOmLRaT0Rnu   \n24547  https://img01.ztat.net/article/spp-media-p1/89...  FOmLRaT0Rnu   \n24548  https://img01.ztat.net/article/spp-media-p1/f2...  IMi9cMhhTSm   \n24549  https://img01.ztat.net/article/spp-media-p1/0f...  tUljaAGSTG6   \n24550  https://img01.ztat.net/article/spp-media-p1/57...  tUljaAGSTG6   \n\n      clothingItemColor                       image_path  \n0                 black  woman_outfits\\5Bay-ErCSwa\\0.jpg  \n1                   NaN  woman_outfits\\5Bay-ErCSwa\\1.jpg  \n2           flash black  woman_outfits\\5Bay-ErCSwa\\2.jpg  \n3                 white  woman_outfits\\5Bay-ErCSwa\\3.jpg  \n4                 brown  woman_outfits\\5Bay-ErCSwa\\4.jpg  \n...                 ...                              ...  \n24546             black  woman_outfits\\FOmLRaT0Rnu\\0.jpg  \n24547             black  woman_outfits\\FOmLRaT0Rnu\\1.jpg  \n24548             black  woman_outfits\\IMi9cMhhTSm\\0.jpg  \n24549             black  woman_outfits\\tUljaAGSTG6\\2.jpg  \n24550        white/grey  woman_outfits\\tUljaAGSTG6\\3.jpg  \n\n[24551 rows x 10 columns]",
      "text/html": "<div>\n<style scoped>\n    .dataframe tbody tr th:only-of-type {\n        vertical-align: middle;\n    }\n\n    .dataframe tbody tr th {\n        vertical-align: top;\n    }\n\n    .dataframe thead th {\n        text-align: right;\n    }\n</style>\n<table border=\"1\" class=\"dataframe\">\n  <thead>\n    <tr style=\"text-align: right;\">\n      <th></th>\n      <th>Unnamed: 0.1</th>\n      <th>Unnamed: 0</th>\n      <th>outfit_url</th>\n      <th>clothingItemName</th>\n      <th>clothingItemBrand</th>\n      <th>clothingItemDetailUrl</th>\n      <th>clothingItemPreviewImageUrl</th>\n      <th>id</th>\n      <th>clothingItemColor</th>\n      <th>image_path</th>\n    </tr>\n  </thead>\n  <tbody>\n    <tr>\n      <th>0</th>\n      <td>0</td>\n      <td>0</td>\n      <td>https://www.zalando.ch/outfits/5Bay-ErCSwa/</td>\n      <td>PADDED VEST - Weste - black</td>\n      <td>Puma</td>\n      <td>https://www.zalando.ch/puma-ess-trainingsjacke...</td>\n      <td>https://img01.ztat.net/article/spp-media-p1/f0...</td>\n      <td>5Bay-ErCSwa</td>\n      <td>black</td>\n      <td>woman_outfits\\5Bay-ErCSwa\\0.jpg</td>\n    </tr>\n    <tr>\n      <th>1</th>\n      <td>1</td>\n      <td>1</td>\n      <td>https://www.zalando.ch/outfits/5Bay-ErCSwa/</td>\n      <td>SLFMY PERFECT TEE BOX CUT - T-Shirt basic - br...</td>\n      <td>Selected Femme</td>\n      <td>https://www.zalando.ch/selected-femme-sfmy-t-s...</td>\n      <td>https://img01.ztat.net/article/spp-media-p1/3b...</td>\n      <td>5Bay-ErCSwa</td>\n      <td>NaN</td>\n      <td>woman_outfits\\5Bay-ErCSwa\\1.jpg</td>\n    </tr>\n    <tr>\n      <th>2</th>\n      <td>2</td>\n      <td>2</td>\n      <td>https://www.zalando.ch/outfits/5Bay-ErCSwa/</td>\n      <td>MOM A LINE SHORT - Jeans Shorts - flash black</td>\n      <td>Levi's®</td>\n      <td>https://www.zalando.ch/levisr-mom-a-line-short...</td>\n      <td>https://img01.ztat.net/article/spp-media-p1/eb...</td>\n      <td>5Bay-ErCSwa</td>\n      <td>flash black</td>\n      <td>woman_outfits\\5Bay-ErCSwa\\2.jpg</td>\n    </tr>\n    <tr>\n      <th>3</th>\n      <td>3</td>\n      <td>3</td>\n      <td>https://www.zalando.ch/outfits/5Bay-ErCSwa/</td>\n      <td>530 UNISEX - Sneaker low - white</td>\n      <td>New Balance</td>\n      <td>https://www.zalando.ch/new-balance-mr530-sneak...</td>\n      <td>https://img01.ztat.net/article/spp-media-p1/7f...</td>\n      <td>5Bay-ErCSwa</td>\n      <td>white</td>\n      <td>woman_outfits\\5Bay-ErCSwa\\3.jpg</td>\n    </tr>\n    <tr>\n      <th>4</th>\n      <td>4</td>\n      <td>4</td>\n      <td>https://www.zalando.ch/outfits/5Bay-ErCSwa/</td>\n      <td>Sonnenbrille - brown</td>\n      <td>Swarovski</td>\n      <td>https://www.zalando.ch/swarovski-sonnenbrille-...</td>\n      <td>https://img01.ztat.net/article/spp-media-p1/03...</td>\n      <td>5Bay-ErCSwa</td>\n      <td>brown</td>\n      <td>woman_outfits\\5Bay-ErCSwa\\4.jpg</td>\n    </tr>\n    <tr>\n      <th>...</th>\n      <td>...</td>\n      <td>...</td>\n      <td>...</td>\n      <td>...</td>\n      <td>...</td>\n      <td>...</td>\n      <td>...</td>\n      <td>...</td>\n      <td>...</td>\n      <td>...</td>\n    </tr>\n    <tr>\n      <th>24546</th>\n      <td>24546</td>\n      <td>24546</td>\n      <td>https://www.zalando.ch/outfits/FOmLRaT0Rnu/</td>\n      <td>SLFEMMA LOAFER  - Slipper - black</td>\n      <td>Selected Femme</td>\n      <td>https://www.zalando.ch/selected-femme-schnuere...</td>\n      <td>https://img01.ztat.net/article/spp-media-p1/c4...</td>\n      <td>FOmLRaT0Rnu</td>\n      <td>black</td>\n      <td>woman_outfits\\FOmLRaT0Rnu\\0.jpg</td>\n    </tr>\n    <tr>\n      <th>24547</th>\n      <td>24547</td>\n      <td>24547</td>\n      <td>https://www.zalando.ch/outfits/FOmLRaT0Rnu/</td>\n      <td>TABBY SHOULDER - Handtasche - black</td>\n      <td>Coach</td>\n      <td>https://www.zalando.ch/coach-polished-pebble-s...</td>\n      <td>https://img01.ztat.net/article/spp-media-p1/89...</td>\n      <td>FOmLRaT0Rnu</td>\n      <td>black</td>\n      <td>woman_outfits\\FOmLRaT0Rnu\\1.jpg</td>\n    </tr>\n    <tr>\n      <th>24548</th>\n      <td>24548</td>\n      <td>24548</td>\n      <td>https://www.zalando.ch/outfits/IMi9cMhhTSm/</td>\n      <td>High Heel Pumps - black</td>\n      <td>Even&amp;Odd</td>\n      <td>https://www.zalando.ch/evenandodd-pumps-black-...</td>\n      <td>https://img01.ztat.net/article/spp-media-p1/f2...</td>\n      <td>IMi9cMhhTSm</td>\n      <td>black</td>\n      <td>woman_outfits\\IMi9cMhhTSm\\0.jpg</td>\n    </tr>\n    <tr>\n      <th>24549</th>\n      <td>24549</td>\n      <td>24549</td>\n      <td>https://www.zalando.ch/outfits/tUljaAGSTG6/</td>\n      <td>BASIC HOODED JACKET - Daunenjacke - black</td>\n      <td>Tommy Jeans</td>\n      <td>https://www.zalando.ch/tommy-jeans-basic-hoode...</td>\n      <td>https://img01.ztat.net/article/spp-media-p1/0f...</td>\n      <td>tUljaAGSTG6</td>\n      <td>black</td>\n      <td>woman_outfits\\tUljaAGSTG6\\2.jpg</td>\n    </tr>\n    <tr>\n      <th>24550</th>\n      <td>24550</td>\n      <td>24550</td>\n      <td>https://www.zalando.ch/outfits/tUljaAGSTG6/</td>\n      <td>WX452 - Sneaker low - white/grey</td>\n      <td>New Balance</td>\n      <td>https://www.zalando.ch/new-balance-wx452-sneak...</td>\n      <td>https://img01.ztat.net/article/spp-media-p1/57...</td>\n      <td>tUljaAGSTG6</td>\n      <td>white/grey</td>\n      <td>woman_outfits\\tUljaAGSTG6\\3.jpg</td>\n    </tr>\n  </tbody>\n</table>\n<p>24551 rows × 10 columns</p>\n</div>"
     },
     "execution_count": 9,
     "metadata": {},
     "output_type": "execute_result"
    }
   ],
   "source": [
    "df"
   ],
   "metadata": {
    "collapsed": false
   }
  },
  {
   "cell_type": "markdown",
   "source": [
    "## Number of Clothes"
   ],
   "metadata": {
    "collapsed": false
   }
  },
  {
   "cell_type": "code",
   "execution_count": 12,
   "outputs": [
    {
     "data": {
      "text/plain": "24551"
     },
     "execution_count": 12,
     "metadata": {},
     "output_type": "execute_result"
    }
   ],
   "source": [
    "df.shape[0]"
   ],
   "metadata": {
    "collapsed": false
   }
  },
  {
   "cell_type": "markdown",
   "source": [
    "## Number of Outfits"
   ],
   "metadata": {
    "collapsed": false
   }
  },
  {
   "cell_type": "code",
   "execution_count": 11,
   "outputs": [
    {
     "data": {
      "text/plain": "6746"
     },
     "execution_count": 11,
     "metadata": {},
     "output_type": "execute_result"
    }
   ],
   "source": [
    "len(list(set(df['id'])))"
   ],
   "metadata": {
    "collapsed": false
   }
  },
  {
   "cell_type": "code",
   "execution_count": 7,
   "outputs": [
    {
     "data": {
      "text/plain": "     Unnamed: 0.1  Unnamed: 0                                   outfit_url  \\\n204           204         204  https://www.zalando.ch/outfits/PIOI59fDRqK/   \n\n                                      clothingItemName clothingItemBrand  \\\n204  ZOOMX INVINCIBLE RUN FK 3 - Laufschuh Neutral ...  Nike Performance   \n\n                                 clothingItemDetailUrl  \\\n204  https://www.zalando.ch/nike-performance-zoomx-...   \n\n                           clothingItemPreviewImageUrl           id  \\\n204  https://img01.ztat.net/article/spp-media-p1/12...  PIOI59fDRqK   \n\n                                     clothingItemColor  \\\n204  fierce pink/fireberry/pink spell/pink blast/me...   \n\n                          image_path  \n204  woman_outfits\\PIOI59fDRqK\\9.jpg  ",
      "text/html": "<div>\n<style scoped>\n    .dataframe tbody tr th:only-of-type {\n        vertical-align: middle;\n    }\n\n    .dataframe tbody tr th {\n        vertical-align: top;\n    }\n\n    .dataframe thead th {\n        text-align: right;\n    }\n</style>\n<table border=\"1\" class=\"dataframe\">\n  <thead>\n    <tr style=\"text-align: right;\">\n      <th></th>\n      <th>Unnamed: 0.1</th>\n      <th>Unnamed: 0</th>\n      <th>outfit_url</th>\n      <th>clothingItemName</th>\n      <th>clothingItemBrand</th>\n      <th>clothingItemDetailUrl</th>\n      <th>clothingItemPreviewImageUrl</th>\n      <th>id</th>\n      <th>clothingItemColor</th>\n      <th>image_path</th>\n    </tr>\n  </thead>\n  <tbody>\n    <tr>\n      <th>204</th>\n      <td>204</td>\n      <td>204</td>\n      <td>https://www.zalando.ch/outfits/PIOI59fDRqK/</td>\n      <td>ZOOMX INVINCIBLE RUN FK 3 - Laufschuh Neutral ...</td>\n      <td>Nike Performance</td>\n      <td>https://www.zalando.ch/nike-performance-zoomx-...</td>\n      <td>https://img01.ztat.net/article/spp-media-p1/12...</td>\n      <td>PIOI59fDRqK</td>\n      <td>fierce pink/fireberry/pink spell/pink blast/me...</td>\n      <td>woman_outfits\\PIOI59fDRqK\\9.jpg</td>\n    </tr>\n  </tbody>\n</table>\n</div>"
     },
     "execution_count": 7,
     "metadata": {},
     "output_type": "execute_result"
    }
   ],
   "source": [
    "df[df['image_path'] == 'woman_outfits\\PIOI59fDRqK\\9.jpg']"
   ],
   "metadata": {
    "collapsed": false
   }
  },
  {
   "cell_type": "markdown",
   "source": [
    "## check if all images are present"
   ],
   "metadata": {
    "collapsed": false
   }
  },
  {
   "cell_type": "code",
   "execution_count": 6,
   "outputs": [
    {
     "name": "stdout",
     "output_type": "stream",
     "text": [
      "0\n"
     ]
    }
   ],
   "source": [
    "import os\n",
    "\n",
    "\n",
    "\n",
    "counter = 0\n",
    "for index, row in df.iterrows():\n",
    "    backshash = \"\\\\\"\n",
    "    if not os.path.exists(f'../datasets/zalando-woman-outfit-dataset-raw/{os.path.join(*row[\"image_path\"].split(backshash))}'):\n",
    "        print(row)\n",
    "        counter += 1\n",
    "\n",
    "print(counter)"
   ],
   "metadata": {
    "collapsed": false
   }
  },
  {
   "cell_type": "code",
   "execution_count": null,
   "outputs": [],
   "source": [],
   "metadata": {
    "collapsed": false
   }
  }
 ],
 "metadata": {
  "kernelspec": {
   "display_name": "Python 3",
   "language": "python",
   "name": "python3"
  },
  "language_info": {
   "codemirror_mode": {
    "name": "ipython",
    "version": 2
   },
   "file_extension": ".py",
   "mimetype": "text/x-python",
   "name": "python",
   "nbconvert_exporter": "python",
   "pygments_lexer": "ipython2",
   "version": "2.7.6"
  }
 },
 "nbformat": 4,
 "nbformat_minor": 0
}
