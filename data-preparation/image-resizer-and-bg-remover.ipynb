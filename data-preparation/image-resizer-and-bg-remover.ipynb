{
 "cells": [
  {
   "cell_type": "code",
   "execution_count": 89,
   "id": "initial_id",
   "metadata": {
    "collapsed": true,
    "ExecuteTime": {
     "end_time": "2024-03-24T15:16:18.583550Z",
     "start_time": "2024-03-24T15:16:18.576513Z"
    }
   },
   "outputs": [],
   "source": [
    "import pandas as pd\n",
    "from PIL import Image\n",
    "import numpy as np\n",
    "import os\n",
    "import cv2\n",
    "from tqdm import tqdm"
   ]
  },
  {
   "cell_type": "code",
   "execution_count": 66,
   "outputs": [
    {
     "data": {
      "text/plain": "                                               outfitName  outfitViews  \\\n7       Being a Vans shoe model with Luke. Idk about t...          188   \n8       Being a Vans shoe model with Luke. Idk about t...          188   \n15                    These Chanel bags is a bad habit .x          562   \n17                    These Chanel bags is a bad habit .x          562   \n19                    These Chanel bags is a bad habit .x          562   \n...                                                   ...          ...   \n142460                                               Army          281   \n142461                                               Army          281   \n142462                                               Army          281   \n142463                                               Army          281   \n142464                                               Army          281   \n\n        wearType      type  outfitLikes       date     set_id  \\\n7            2.0       top            9  Two years  120161271   \n8            4.0     pants            9  Two years  120161271   \n15           2.0       top           32  Two years  143656996   \n17           4.0     pants           32  Two years  143656996   \n19           1.0       bag           32  Two years  143656996   \n...          ...       ...          ...        ...        ...   \n142460       3.0   outwear           30   One year  187953065   \n142461       4.0     skirt           30   One year  187953065   \n142462       5.0     shoes           30   One year  187953065   \n142463       1.0       bag           30   One year  187953065   \n142464       1.0  necklace           30   One year  187953065   \n\n                                               outfitDesc  clothingItemIndex  \\\n7       A fashion look from April 2014 featuring destr...                  1   \n8       A fashion look from April 2014 featuring destr...                  2   \n15                                               12.19.14                  1   \n17                                               12.19.14                  3   \n19                                               12.19.14                  5   \n...                                                   ...                ...   \n142460  A fashion look from January 2016 by catherine-...                  2   \n142461  A fashion look from January 2016 by catherine-...                  3   \n142462  A fashion look from January 2016 by catherine-...                  4   \n142463  A fashion look from January 2016 by catherine-...                  5   \n142464  A fashion look from January 2016 by catherine-...                  6   \n\n                                         clothingItemName  clothingItemPrice  \\\n7                              nirvana distressed t-shirt               10.0   \n8                     rag bone rock w/ black skinny jeans              235.0   \n15                                          monki singlet               16.0   \n17               topshop moto joni high rise skinny jeans               65.0   \n19                          pre-owned chanel shoulder bag             2450.0   \n...                                                   ...                ...   \n142460          yoins army green buttoned slit lapel coat               33.0   \n142461                    topshop wool blend a-line skirt               19.0   \n142462             ralph lauren collection canvas sandals              230.0   \n142463  alexander mcqueen hunter green black mini leat...             1010.0   \n142464   forever faux pearl rhinestone statement necklace               18.0   \n\n        clothingItemLikes  clothingItemCategoryId                   imagePath  \n7                    1290                      21  raw/images/120161271/1.jpg  \n8                   17406                     237  raw/images/120161271/2.jpg  \n15                  20094                     104  raw/images/143656996/1.jpg  \n17                  23324                     237  raw/images/143656996/3.jpg  \n19                   4489                      37  raw/images/143656996/5.jpg  \n...                   ...                     ...                         ...  \n142460                431                      24  raw/images/187953065/2.jpg  \n142461               1456                       9  raw/images/187953065/3.jpg  \n142462                831                      46  raw/images/187953065/4.jpg  \n142463                 16                      37  raw/images/187953065/5.jpg  \n142464                 66                      62  raw/images/187953065/6.jpg  \n\n[30415 rows x 14 columns]",
      "text/html": "<div>\n<style scoped>\n    .dataframe tbody tr th:only-of-type {\n        vertical-align: middle;\n    }\n\n    .dataframe tbody tr th {\n        vertical-align: top;\n    }\n\n    .dataframe thead th {\n        text-align: right;\n    }\n</style>\n<table border=\"1\" class=\"dataframe\">\n  <thead>\n    <tr style=\"text-align: right;\">\n      <th></th>\n      <th>outfitName</th>\n      <th>outfitViews</th>\n      <th>wearType</th>\n      <th>type</th>\n      <th>outfitLikes</th>\n      <th>date</th>\n      <th>set_id</th>\n      <th>outfitDesc</th>\n      <th>clothingItemIndex</th>\n      <th>clothingItemName</th>\n      <th>clothingItemPrice</th>\n      <th>clothingItemLikes</th>\n      <th>clothingItemCategoryId</th>\n      <th>imagePath</th>\n    </tr>\n  </thead>\n  <tbody>\n    <tr>\n      <th>7</th>\n      <td>Being a Vans shoe model with Luke. Idk about t...</td>\n      <td>188</td>\n      <td>2.0</td>\n      <td>top</td>\n      <td>9</td>\n      <td>Two years</td>\n      <td>120161271</td>\n      <td>A fashion look from April 2014 featuring destr...</td>\n      <td>1</td>\n      <td>nirvana distressed t-shirt</td>\n      <td>10.0</td>\n      <td>1290</td>\n      <td>21</td>\n      <td>raw/images/120161271/1.jpg</td>\n    </tr>\n    <tr>\n      <th>8</th>\n      <td>Being a Vans shoe model with Luke. Idk about t...</td>\n      <td>188</td>\n      <td>4.0</td>\n      <td>pants</td>\n      <td>9</td>\n      <td>Two years</td>\n      <td>120161271</td>\n      <td>A fashion look from April 2014 featuring destr...</td>\n      <td>2</td>\n      <td>rag bone rock w/ black skinny jeans</td>\n      <td>235.0</td>\n      <td>17406</td>\n      <td>237</td>\n      <td>raw/images/120161271/2.jpg</td>\n    </tr>\n    <tr>\n      <th>15</th>\n      <td>These Chanel bags is a bad habit .x</td>\n      <td>562</td>\n      <td>2.0</td>\n      <td>top</td>\n      <td>32</td>\n      <td>Two years</td>\n      <td>143656996</td>\n      <td>12.19.14</td>\n      <td>1</td>\n      <td>monki singlet</td>\n      <td>16.0</td>\n      <td>20094</td>\n      <td>104</td>\n      <td>raw/images/143656996/1.jpg</td>\n    </tr>\n    <tr>\n      <th>17</th>\n      <td>These Chanel bags is a bad habit .x</td>\n      <td>562</td>\n      <td>4.0</td>\n      <td>pants</td>\n      <td>32</td>\n      <td>Two years</td>\n      <td>143656996</td>\n      <td>12.19.14</td>\n      <td>3</td>\n      <td>topshop moto joni high rise skinny jeans</td>\n      <td>65.0</td>\n      <td>23324</td>\n      <td>237</td>\n      <td>raw/images/143656996/3.jpg</td>\n    </tr>\n    <tr>\n      <th>19</th>\n      <td>These Chanel bags is a bad habit .x</td>\n      <td>562</td>\n      <td>1.0</td>\n      <td>bag</td>\n      <td>32</td>\n      <td>Two years</td>\n      <td>143656996</td>\n      <td>12.19.14</td>\n      <td>5</td>\n      <td>pre-owned chanel shoulder bag</td>\n      <td>2450.0</td>\n      <td>4489</td>\n      <td>37</td>\n      <td>raw/images/143656996/5.jpg</td>\n    </tr>\n    <tr>\n      <th>...</th>\n      <td>...</td>\n      <td>...</td>\n      <td>...</td>\n      <td>...</td>\n      <td>...</td>\n      <td>...</td>\n      <td>...</td>\n      <td>...</td>\n      <td>...</td>\n      <td>...</td>\n      <td>...</td>\n      <td>...</td>\n      <td>...</td>\n      <td>...</td>\n    </tr>\n    <tr>\n      <th>142460</th>\n      <td>Army</td>\n      <td>281</td>\n      <td>3.0</td>\n      <td>outwear</td>\n      <td>30</td>\n      <td>One year</td>\n      <td>187953065</td>\n      <td>A fashion look from January 2016 by catherine-...</td>\n      <td>2</td>\n      <td>yoins army green buttoned slit lapel coat</td>\n      <td>33.0</td>\n      <td>431</td>\n      <td>24</td>\n      <td>raw/images/187953065/2.jpg</td>\n    </tr>\n    <tr>\n      <th>142461</th>\n      <td>Army</td>\n      <td>281</td>\n      <td>4.0</td>\n      <td>skirt</td>\n      <td>30</td>\n      <td>One year</td>\n      <td>187953065</td>\n      <td>A fashion look from January 2016 by catherine-...</td>\n      <td>3</td>\n      <td>topshop wool blend a-line skirt</td>\n      <td>19.0</td>\n      <td>1456</td>\n      <td>9</td>\n      <td>raw/images/187953065/3.jpg</td>\n    </tr>\n    <tr>\n      <th>142462</th>\n      <td>Army</td>\n      <td>281</td>\n      <td>5.0</td>\n      <td>shoes</td>\n      <td>30</td>\n      <td>One year</td>\n      <td>187953065</td>\n      <td>A fashion look from January 2016 by catherine-...</td>\n      <td>4</td>\n      <td>ralph lauren collection canvas sandals</td>\n      <td>230.0</td>\n      <td>831</td>\n      <td>46</td>\n      <td>raw/images/187953065/4.jpg</td>\n    </tr>\n    <tr>\n      <th>142463</th>\n      <td>Army</td>\n      <td>281</td>\n      <td>1.0</td>\n      <td>bag</td>\n      <td>30</td>\n      <td>One year</td>\n      <td>187953065</td>\n      <td>A fashion look from January 2016 by catherine-...</td>\n      <td>5</td>\n      <td>alexander mcqueen hunter green black mini leat...</td>\n      <td>1010.0</td>\n      <td>16</td>\n      <td>37</td>\n      <td>raw/images/187953065/5.jpg</td>\n    </tr>\n    <tr>\n      <th>142464</th>\n      <td>Army</td>\n      <td>281</td>\n      <td>1.0</td>\n      <td>necklace</td>\n      <td>30</td>\n      <td>One year</td>\n      <td>187953065</td>\n      <td>A fashion look from January 2016 by catherine-...</td>\n      <td>6</td>\n      <td>forever faux pearl rhinestone statement necklace</td>\n      <td>18.0</td>\n      <td>66</td>\n      <td>62</td>\n      <td>raw/images/187953065/6.jpg</td>\n    </tr>\n  </tbody>\n</table>\n<p>30415 rows × 14 columns</p>\n</div>"
     },
     "execution_count": 66,
     "metadata": {},
     "output_type": "execute_result"
    }
   ],
   "source": [
    "df = pd.read_parquet('../datasets/cleaned/polyvore_v1.parquet')\n",
    "df"
   ],
   "metadata": {
    "collapsed": false,
    "ExecuteTime": {
     "end_time": "2024-03-22T15:20:10.088992Z",
     "start_time": "2024-03-22T15:20:10.068410Z"
    }
   },
   "id": "a979287626830f17"
  },
  {
   "cell_type": "code",
   "execution_count": 63,
   "outputs": [
    {
     "name": "stdout",
     "output_type": "stream",
     "text": [
      "Max width: 640 image_path: ../datasets/raw/images/36405576/0.jpg\n",
      "Max height: 640 image_path: ../datasets/raw/images/36405576/0.jpg\n"
     ]
    }
   ],
   "source": [
    "images_dir = \"../datasets/raw/images\"\n",
    "\n",
    "\"\"\"\n",
    "get the pixel values from biggest images in data\n",
    "maximum width and maximum height\n",
    "\"\"\"\n",
    "\n",
    "max_w = 0\n",
    "max_w_img_path = \"\"\n",
    "max_h = 0\n",
    "max_h_img_path = \"\"\n",
    "\n",
    "for root, dirs, files in os.walk(images_dir):\n",
    "    for file in files:\n",
    "        if file.endswith('.jpg'):\n",
    "            image_path = os.path.join(root, file)\n",
    "            \n",
    "            with Image.open(image_path) as image:\n",
    "                image_w, image_h = image.size\n",
    "                \n",
    "                if image_w > max_w:\n",
    "                    max_w = image_w\n",
    "                    max_w_img_path = image_path\n",
    "                    \n",
    "                if image_h > max_h:\n",
    "                    max_h = image_h\n",
    "                    max_h_img_path = image_path\n",
    "\n",
    "print(\"Max width:\", max_w, \"image_path:\", max_w_img_path)\n",
    "print(\"Max height:\", max_h, \"image_path:\", max_h_img_path)\n",
    "    "
   ],
   "metadata": {
    "collapsed": false,
    "ExecuteTime": {
     "end_time": "2024-03-22T15:05:19.434378Z",
     "start_time": "2024-03-22T15:04:24.043056Z"
    }
   },
   "id": "64a7cfc9ca284378"
  },
  {
   "cell_type": "code",
   "execution_count": 85,
   "outputs": [],
   "source": [
    "\n",
    "\"\"\"resize images to 256x256 pixels, keep the original aspect ratio of image and fill the void space with white\"\"\"\n",
    "def resize_images(image_path, output_dir, size):\n",
    "    # Load the image\n",
    "    image = cv2.imread(image_path)\n",
    "    \n",
    "    # Check if image is loaded successfully\n",
    "    if image is None:\n",
    "        print(f\"Error: Unable to load image from {image_path}\")\n",
    "        return\n",
    "    \n",
    "    # Get original dimensions\n",
    "    height, width, _ = image.shape\n",
    "    # Calculate aspect ratio\n",
    "    aspect_ratio = width / height\n",
    "    \n",
    "    # Determine new dimensions based on size and aspect ratio\n",
    "    if width > height:\n",
    "        new_width = size\n",
    "        new_height = int(size / aspect_ratio)\n",
    "    else:\n",
    "        new_height = size\n",
    "        new_width = int(size * aspect_ratio)\n",
    "    \n",
    "    # Resize the image while maintaining aspect ratio\n",
    "    resized_image = cv2.resize(image, (new_width, new_height))\n",
    "    # Create a white canvas of size x size\n",
    "    canvas = np.ones((size, size, 3), dtype=np.uint8) * 255\n",
    "    # Calculate where to place the resized image on the canvas\n",
    "    x_offset = (size - new_width) // 2\n",
    "    y_offset = (size - new_height) // 2\n",
    "    # Paste the resized image onto the canvas\n",
    "    canvas[y_offset:y_offset+new_height, x_offset:x_offset+new_width] = resized_image\n",
    "    # Create output directory if it doesn't exist\n",
    "    os.makedirs(output_dir, exist_ok=True)\n",
    "    # Get the image filename from the original path\n",
    "    filename = os.path.basename(image_path)\n",
    "    # Save image to output path\n",
    "    cv2.imwrite(os.path.join(output_dir, filename), canvas)\n",
    "    \n",
    "# Define the output directory\n",
    "output_dir_base = \"../datasets/resized/images/\"\n",
    "\n",
    "# Define the size for resizing\n",
    "size = 256\n",
    "\n",
    "# Apply the resizing function to each row in the DataFrame\n",
    "for index, row in df.iterrows():\n",
    "    set_id = row['set_id']\n",
    "    clothingItemIndex = row['clothingItemIndex']\n",
    "    output_dir = f\"{output_dir_base}/{set_id}\"\n",
    "    input_path = f\"../datasets/{row['imagePath']}\"  # Adjust the input path\n",
    "    resize_images(input_path, output_dir, size)"
   ],
   "metadata": {
    "collapsed": false,
    "ExecuteTime": {
     "end_time": "2024-03-22T15:44:52.997538Z",
     "start_time": "2024-03-22T15:44:15.719038Z"
    }
   },
   "id": "1fc2804109db321"
  },
  {
   "cell_type": "code",
   "execution_count": 86,
   "outputs": [
    {
     "name": "stdout",
     "output_type": "stream",
     "text": [
      "Total missing files: 0\n"
     ]
    }
   ],
   "source": [
    "\"\"\"check if all images from the dataframe are saved to the correct location in the new file system for resized images\"\"\"\n",
    "\n",
    "output_dir_base = \"../datasets/resized/images/\"\n",
    "missing_count = 0\n",
    "missing_files = []\n",
    "\n",
    "for index, row in df.iterrows():\n",
    "    set_id = row['set_id']\n",
    "    clothingItemIndex = row['clothingItemIndex']\n",
    "    output_dir = f\"{output_dir_base}/{set_id}\"\n",
    "    \n",
    "    # Check if the resized image file exists\n",
    "    if not os.path.exists(output_dir):\n",
    "        missing_count += 1\n",
    "        missing_files.append(output_dir)  # Store the path of missing file\n",
    "        print(f\"Resized image file is missing for {output_dir}\")\n",
    "\n",
    "# Print the total count of missing files\n",
    "print(f\"Total missing files: {missing_count}\")"
   ],
   "metadata": {
    "collapsed": false,
    "ExecuteTime": {
     "end_time": "2024-03-22T15:44:53.564664Z",
     "start_time": "2024-03-22T15:44:52.999299Z"
    }
   },
   "id": "b3177cfdae567fce"
  },
  {
   "cell_type": "code",
   "execution_count": 91,
   "outputs": [
    {
     "name": "stdout",
     "output_type": "stream",
     "text": [
      "Background removed successfully.\n",
      "Background removed successfully.\n",
      "Background removed successfully.\n"
     ]
    },
    {
     "ename": "KeyboardInterrupt",
     "evalue": "",
     "output_type": "error",
     "traceback": [
      "\u001B[0;31m---------------------------------------------------------------------------\u001B[0m",
      "\u001B[0;31mKeyboardInterrupt\u001B[0m                         Traceback (most recent call last)",
      "Cell \u001B[0;32mIn[91], line 51\u001B[0m\n\u001B[1;32m     48\u001B[0m os\u001B[38;5;241m.\u001B[39mmakedirs(output_dir, exist_ok\u001B[38;5;241m=\u001B[39m\u001B[38;5;28;01mTrue\u001B[39;00m)\n\u001B[1;32m     50\u001B[0m \u001B[38;5;66;03m# Perform background removal\u001B[39;00m\n\u001B[0;32m---> 51\u001B[0m \u001B[43mremovebg\u001B[49m\u001B[43m(\u001B[49m\u001B[43minput_path\u001B[49m\u001B[43m,\u001B[49m\u001B[43m \u001B[49m\u001B[43moutput_path\u001B[49m\u001B[43m)\u001B[49m\n",
      "Cell \u001B[0;32mIn[91], line 18\u001B[0m, in \u001B[0;36mremovebg\u001B[0;34m(inputPath, outputPath)\u001B[0m\n\u001B[1;32m     15\u001B[0m \u001B[38;5;28;01mtry\u001B[39;00m:\n\u001B[1;32m     16\u001B[0m     \u001B[38;5;66;03m# Open the image and remove its background\u001B[39;00m\n\u001B[1;32m     17\u001B[0m     originalImage \u001B[38;5;241m=\u001B[39m Image\u001B[38;5;241m.\u001B[39mopen(inputPath)\n\u001B[0;32m---> 18\u001B[0m     imageWithoutBg \u001B[38;5;241m=\u001B[39m \u001B[43mremove\u001B[49m\u001B[43m(\u001B[49m\u001B[43moriginalImage\u001B[49m\u001B[43m)\u001B[49m\n\u001B[1;32m     20\u001B[0m     \u001B[38;5;66;03m# Save the new image with a .png extension\u001B[39;00m\n\u001B[1;32m     21\u001B[0m     outputPath \u001B[38;5;241m=\u001B[39m outputPath \u001B[38;5;241m+\u001B[39m \u001B[38;5;124m'\u001B[39m\u001B[38;5;124m.png\u001B[39m\u001B[38;5;124m'\u001B[39m\n",
      "File \u001B[0;32m~/.local/share/virtualenvs/DSPRO2-outfit-recommendation-xej--8qX/lib/python3.10/site-packages/rembg/bg.py:260\u001B[0m, in \u001B[0;36mremove\u001B[0;34m(data, alpha_matting, alpha_matting_foreground_threshold, alpha_matting_background_threshold, alpha_matting_erode_size, session, only_mask, post_process_mask, bgcolor, *args, **kwargs)\u001B[0m\n\u001B[1;32m    257\u001B[0m \u001B[38;5;28;01mif\u001B[39;00m session \u001B[38;5;129;01mis\u001B[39;00m \u001B[38;5;28;01mNone\u001B[39;00m:\n\u001B[1;32m    258\u001B[0m     session \u001B[38;5;241m=\u001B[39m new_session(\u001B[38;5;124m\"\u001B[39m\u001B[38;5;124mu2net\u001B[39m\u001B[38;5;124m\"\u001B[39m, \u001B[38;5;241m*\u001B[39margs, \u001B[38;5;241m*\u001B[39m\u001B[38;5;241m*\u001B[39mkwargs)\n\u001B[0;32m--> 260\u001B[0m masks \u001B[38;5;241m=\u001B[39m \u001B[43msession\u001B[49m\u001B[38;5;241;43m.\u001B[39;49m\u001B[43mpredict\u001B[49m\u001B[43m(\u001B[49m\u001B[43mimg\u001B[49m\u001B[43m,\u001B[49m\u001B[43m \u001B[49m\u001B[38;5;241;43m*\u001B[39;49m\u001B[43margs\u001B[49m\u001B[43m,\u001B[49m\u001B[43m \u001B[49m\u001B[38;5;241;43m*\u001B[39;49m\u001B[38;5;241;43m*\u001B[39;49m\u001B[43mkwargs\u001B[49m\u001B[43m)\u001B[49m\n\u001B[1;32m    261\u001B[0m cutouts \u001B[38;5;241m=\u001B[39m []\n\u001B[1;32m    263\u001B[0m \u001B[38;5;28;01mfor\u001B[39;00m mask \u001B[38;5;129;01min\u001B[39;00m masks:\n",
      "File \u001B[0;32m~/.local/share/virtualenvs/DSPRO2-outfit-recommendation-xej--8qX/lib/python3.10/site-packages/rembg/sessions/u2net.py:29\u001B[0m, in \u001B[0;36mU2netSession.predict\u001B[0;34m(self, img, *args, **kwargs)\u001B[0m\n\u001B[1;32m     17\u001B[0m \u001B[38;5;28;01mdef\u001B[39;00m \u001B[38;5;21mpredict\u001B[39m(\u001B[38;5;28mself\u001B[39m, img: PILImage, \u001B[38;5;241m*\u001B[39margs, \u001B[38;5;241m*\u001B[39m\u001B[38;5;241m*\u001B[39mkwargs) \u001B[38;5;241m-\u001B[39m\u001B[38;5;241m>\u001B[39m List[PILImage]:\n\u001B[1;32m     18\u001B[0m \u001B[38;5;250m    \u001B[39m\u001B[38;5;124;03m\"\"\"\u001B[39;00m\n\u001B[1;32m     19\u001B[0m \u001B[38;5;124;03m    Predicts the output masks for the input image using the inner session.\u001B[39;00m\n\u001B[1;32m     20\u001B[0m \n\u001B[0;32m   (...)\u001B[0m\n\u001B[1;32m     27\u001B[0m \u001B[38;5;124;03m        List[PILImage]: The list of output masks.\u001B[39;00m\n\u001B[1;32m     28\u001B[0m \u001B[38;5;124;03m    \"\"\"\u001B[39;00m\n\u001B[0;32m---> 29\u001B[0m     ort_outs \u001B[38;5;241m=\u001B[39m \u001B[38;5;28;43mself\u001B[39;49m\u001B[38;5;241;43m.\u001B[39;49m\u001B[43minner_session\u001B[49m\u001B[38;5;241;43m.\u001B[39;49m\u001B[43mrun\u001B[49m\u001B[43m(\u001B[49m\n\u001B[1;32m     30\u001B[0m \u001B[43m        \u001B[49m\u001B[38;5;28;43;01mNone\u001B[39;49;00m\u001B[43m,\u001B[49m\n\u001B[1;32m     31\u001B[0m \u001B[43m        \u001B[49m\u001B[38;5;28;43mself\u001B[39;49m\u001B[38;5;241;43m.\u001B[39;49m\u001B[43mnormalize\u001B[49m\u001B[43m(\u001B[49m\n\u001B[1;32m     32\u001B[0m \u001B[43m            \u001B[49m\u001B[43mimg\u001B[49m\u001B[43m,\u001B[49m\u001B[43m \u001B[49m\u001B[43m(\u001B[49m\u001B[38;5;241;43m0.485\u001B[39;49m\u001B[43m,\u001B[49m\u001B[43m \u001B[49m\u001B[38;5;241;43m0.456\u001B[39;49m\u001B[43m,\u001B[49m\u001B[43m \u001B[49m\u001B[38;5;241;43m0.406\u001B[39;49m\u001B[43m)\u001B[49m\u001B[43m,\u001B[49m\u001B[43m \u001B[49m\u001B[43m(\u001B[49m\u001B[38;5;241;43m0.229\u001B[39;49m\u001B[43m,\u001B[49m\u001B[43m \u001B[49m\u001B[38;5;241;43m0.224\u001B[39;49m\u001B[43m,\u001B[49m\u001B[43m \u001B[49m\u001B[38;5;241;43m0.225\u001B[39;49m\u001B[43m)\u001B[49m\u001B[43m,\u001B[49m\u001B[43m \u001B[49m\u001B[43m(\u001B[49m\u001B[38;5;241;43m320\u001B[39;49m\u001B[43m,\u001B[49m\u001B[43m \u001B[49m\u001B[38;5;241;43m320\u001B[39;49m\u001B[43m)\u001B[49m\n\u001B[1;32m     33\u001B[0m \u001B[43m        \u001B[49m\u001B[43m)\u001B[49m\u001B[43m,\u001B[49m\n\u001B[1;32m     34\u001B[0m \u001B[43m    \u001B[49m\u001B[43m)\u001B[49m\n\u001B[1;32m     36\u001B[0m     pred \u001B[38;5;241m=\u001B[39m ort_outs[\u001B[38;5;241m0\u001B[39m][:, \u001B[38;5;241m0\u001B[39m, :, :]\n\u001B[1;32m     38\u001B[0m     ma \u001B[38;5;241m=\u001B[39m np\u001B[38;5;241m.\u001B[39mmax(pred)\n",
      "File \u001B[0;32m~/.local/share/virtualenvs/DSPRO2-outfit-recommendation-xej--8qX/lib/python3.10/site-packages/onnxruntime/capi/onnxruntime_inference_collection.py:220\u001B[0m, in \u001B[0;36mSession.run\u001B[0;34m(self, output_names, input_feed, run_options)\u001B[0m\n\u001B[1;32m    218\u001B[0m     output_names \u001B[38;5;241m=\u001B[39m [output\u001B[38;5;241m.\u001B[39mname \u001B[38;5;28;01mfor\u001B[39;00m output \u001B[38;5;129;01min\u001B[39;00m \u001B[38;5;28mself\u001B[39m\u001B[38;5;241m.\u001B[39m_outputs_meta]\n\u001B[1;32m    219\u001B[0m \u001B[38;5;28;01mtry\u001B[39;00m:\n\u001B[0;32m--> 220\u001B[0m     \u001B[38;5;28;01mreturn\u001B[39;00m \u001B[38;5;28;43mself\u001B[39;49m\u001B[38;5;241;43m.\u001B[39;49m\u001B[43m_sess\u001B[49m\u001B[38;5;241;43m.\u001B[39;49m\u001B[43mrun\u001B[49m\u001B[43m(\u001B[49m\u001B[43moutput_names\u001B[49m\u001B[43m,\u001B[49m\u001B[43m \u001B[49m\u001B[43minput_feed\u001B[49m\u001B[43m,\u001B[49m\u001B[43m \u001B[49m\u001B[43mrun_options\u001B[49m\u001B[43m)\u001B[49m\n\u001B[1;32m    221\u001B[0m \u001B[38;5;28;01mexcept\u001B[39;00m C\u001B[38;5;241m.\u001B[39mEPFail \u001B[38;5;28;01mas\u001B[39;00m err:\n\u001B[1;32m    222\u001B[0m     \u001B[38;5;28;01mif\u001B[39;00m \u001B[38;5;28mself\u001B[39m\u001B[38;5;241m.\u001B[39m_enable_fallback:\n",
      "\u001B[0;31mKeyboardInterrupt\u001B[0m: "
     ]
    }
   ],
   "source": [
    "\"\"\"\n",
    "take all the resized images from the last code and remove the background colour of the image.\n",
    "Background is now transparent.\n",
    "\"\"\"\n",
    "\n",
    "def removebg(inputPath, outputPath):\n",
    "    # Get the file extension\n",
    "    file_extension = os.path.splitext(inputPath)[1][1:].lower()\n",
    "\n",
    "    # Validate file type\n",
    "    if file_extension not in ['jpg', 'jpeg', 'png']:\n",
    "        print(f\"Warning: Unsupported file type '{file_extension}'. Supported file types are: jpg, jpeg, png.\")\n",
    "        sys.exit(1)\n",
    "    \n",
    "    try:\n",
    "        # Open the image and remove its background\n",
    "        originalImage = Image.open(inputPath)\n",
    "        imageWithoutBg = remove(originalImage)\n",
    "        \n",
    "        # Save the new image with a .png extension\n",
    "        outputPath = outputPath + '.png'\n",
    "        imageWithoutBg.save(outputPath)\n",
    "        \n",
    "        print(\"Background removed successfully.\")\n",
    "    except Exception as e:\n",
    "        print(f\"An error occurred: {e}\")\n",
    "        sys.exit(1)\n",
    "\n",
    "\n",
    "# Define the output directory\n",
    "output_dir_base = \"../datasets/resized/images-bg-removed/\"\n",
    "\n",
    "# Define the root directory to start traversal\n",
    "root_dir = \"../datasets/resized/images/\"\n",
    "\n",
    "# Recursively traverse through all folders and subfolders\n",
    "for root, dirs, files in os.walk(root_dir):\n",
    "    for file in files:\n",
    "        # Check if the file is an image\n",
    "        if file.lower().endswith(('.jpg', '.jpeg', '.png')):\n",
    "            # Construct the input and output paths\n",
    "            input_path = os.path.join(root, file)\n",
    "            relative_path = os.path.relpath(input_path, root_dir)\n",
    "            output_dir = os.path.join(output_dir_base, os.path.dirname(relative_path))\n",
    "            output_path = os.path.join(output_dir, os.path.splitext(file)[0])\n",
    "            \n",
    "            # Create the output directory if it doesn't exist\n",
    "            os.makedirs(output_dir, exist_ok=True)\n",
    "            \n",
    "            # Perform background removal\n",
    "            removebg(input_path, output_path)"
   ],
   "metadata": {
    "collapsed": false,
    "ExecuteTime": {
     "end_time": "2024-03-24T15:20:57.202147Z",
     "start_time": "2024-03-24T15:20:15.102709Z"
    }
   },
   "id": "77f6b5dc16af1508"
  },
  {
   "cell_type": "code",
   "execution_count": null,
   "outputs": [],
   "source": [],
   "metadata": {
    "collapsed": false
   },
   "id": "5d046397a4bc2e5b"
  }
 ],
 "metadata": {
  "kernelspec": {
   "display_name": "Python 3",
   "language": "python",
   "name": "python3"
  },
  "language_info": {
   "codemirror_mode": {
    "name": "ipython",
    "version": 2
   },
   "file_extension": ".py",
   "mimetype": "text/x-python",
   "name": "python",
   "nbconvert_exporter": "python",
   "pygments_lexer": "ipython2",
   "version": "2.7.6"
  }
 },
 "nbformat": 4,
 "nbformat_minor": 5
}
