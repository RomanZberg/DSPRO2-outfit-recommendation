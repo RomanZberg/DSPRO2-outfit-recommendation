{
 "cells": [
  {
   "cell_type": "code",
   "execution_count": 13,
   "outputs": [],
   "source": [
    "\n",
    "import ssl\n",
    "import pandas as pd\n",
    "import wandb\n",
    "\n",
    "ssl._create_default_https_context = ssl._create_unverified_context\n",
    "import os\n",
    "from torch.utils.data import DataLoader\n",
    "from torch import nn\n",
    "from torchvision.io import read_image\n",
    "from torchvision.transforms import v2\n",
    "import torch\n",
    "import torchvision.transforms as T\n",
    "import json\n",
    "import urllib\n",
    "import requests\n",
    "from PIL import Image\n",
    "from io import BytesIO\n",
    "import numpy as np\n",
    "from sklearn.model_selection import train_test_split\n",
    "import matplotlib.pyplot as plt\n",
    "from torchvision.io import read_image"
   ],
   "metadata": {
    "collapsed": false
   }
  },
  {
   "cell_type": "markdown",
   "source": [
    "# Configure notebook parameters"
   ],
   "metadata": {
    "collapsed": false
   }
  },
  {
   "cell_type": "code",
   "execution_count": 14,
   "outputs": [],
   "source": [
    "dataset_base_path = '../../datasets/imageBasedModel/zalando'"
   ],
   "metadata": {
    "collapsed": false
   }
  },
  {
   "cell_type": "code",
   "execution_count": 15,
   "outputs": [
    {
     "data": {
      "text/plain": "device(type='cpu')"
     },
     "execution_count": 15,
     "metadata": {},
     "output_type": "execute_result"
    }
   ],
   "source": [
    "# Set a device\n",
    "device = torch.device(\"cuda\" if torch.cuda.is_available() else \"cpu\")\n",
    "device"
   ],
   "metadata": {
    "collapsed": false
   }
  },
  {
   "cell_type": "code",
   "execution_count": 21,
   "metadata": {
    "collapsed": true
   },
   "outputs": [
    {
     "name": "stderr",
     "output_type": "stream",
     "text": [
      "Using cache found in /Users/romanzberg/.cache/torch/hub/facebookresearch_dinov2_main\n"
     ]
    }
   ],
   "source": [
    "# Get ImageNet labels\n",
    "imagenet_class_url = 'https://raw.githubusercontent.com/anishathalye/imagenet-simple-labels/master/imagenet-simple-labels.json'\n",
    "imagenet_classes = json.loads(urllib.request.urlopen(imagenet_class_url).read())\n",
    "\n",
    "\n",
    "# # Set a device\n",
    "# device = torch.device(\"cuda\" if torch.cuda.is_available() else \"cpu\")\n",
    "feature_extraction_model = torch.hub.load('facebookresearch/dinov2', 'dinov2_vitg14_lc').eval().to(device)\n",
    "\n"
   ]
  },
  {
   "cell_type": "code",
   "execution_count": 79,
   "outputs": [],
   "source": [
    "\n",
    "#https://www.modelbit.com/blog/deploying-dinov2-for-image-classification-with-modelbit#:~:text=To%20do%20this%2C%20simply%20use,machine%20to%20your%20Colab%20directory.&text=Next%2C%20you'll%20want%20to,ImageNet%20preprocessing%20on%20the%20image.&text=Now%2C%20we%20can%20pass%20the,a%20class%20ID%20and%20label.\n",
    "def dinov2_classifier(img_path):\n",
    "    image = read_image(img_path)\n",
    "\n",
    "    # Preprocess the image\n",
    "    transform = T.Compose([\n",
    "        v2.PILToTensor(),\n",
    "        T.Resize(224, interpolation=T.InterpolationMode.BICUBIC, antialias=True),\n",
    "        T.CenterCrop(224),\n",
    "\t\tv2.ConvertImageDtype(torch.float32),\n",
    "        T.Normalize(mean=(0.485, 0.456, 0.406), std=(0.229, 0.224, 0.225)),\n",
    "    ])\n",
    "\n",
    "    transform =  T.Compose([\n",
    "        v2.PILToTensor(),\n",
    "        T.CenterCrop(224),\n",
    "        v2.ConvertImageDtype(torch.float32),\n",
    "        T.Normalize(mean=(0.485, 0.456, 0.406), std=(0.229, 0.224, 0.225)),\n",
    "    ])\n",
    "\n",
    "\n",
    "    image = transform(image)\n",
    "\n",
    "\n",
    "\n",
    "\n",
    "    # Move the image to the GPU if available\n",
    "    image = image.to(device)\n",
    "\n",
    "    # Extract the features\n",
    "    with torch.no_grad():\n",
    "        features = torch.squeeze(feature_extraction_model(image.unsqueeze(0)))\n",
    "\n",
    "    # Print the features\n",
    "    return {'index': features.argmax(-1).item(),\n",
    "            'label': imagenet_classes[features.argmax(-1).item()]\n",
    "            }\n",
    "\n"
   ],
   "metadata": {
    "collapsed": false
   }
  },
  {
   "cell_type": "code",
   "execution_count": 86,
   "outputs": [
    {
     "data": {
      "text/plain": "{'index': 638, 'label': 'tights'}"
     },
     "execution_count": 86,
     "metadata": {},
     "output_type": "execute_result"
    }
   ],
   "source": [
    "dinov2_classifier(f'{dataset_base_path}/woman_outfits/-1mcVLVkQDm/0.jpg')"
   ],
   "metadata": {
    "collapsed": false
   }
  },
  {
   "cell_type": "code",
   "execution_count": null,
   "outputs": [],
   "source": [],
   "metadata": {
    "collapsed": false
   }
  }
 ],
 "metadata": {
  "kernelspec": {
   "display_name": "Python 3",
   "language": "python",
   "name": "python3"
  },
  "language_info": {
   "codemirror_mode": {
    "name": "ipython",
    "version": 2
   },
   "file_extension": ".py",
   "mimetype": "text/x-python",
   "name": "python",
   "nbconvert_exporter": "python",
   "pygments_lexer": "ipython2",
   "version": "2.7.6"
  }
 },
 "nbformat": 4,
 "nbformat_minor": 0
}
