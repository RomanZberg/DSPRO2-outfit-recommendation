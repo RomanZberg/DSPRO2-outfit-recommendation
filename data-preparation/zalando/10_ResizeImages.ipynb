{
 "cells": [
  {
   "cell_type": "code",
   "execution_count": 46,
   "id": "initial_id",
   "metadata": {
    "collapsed": true,
    "ExecuteTime": {
     "end_time": "2024-03-24T18:53:06.414591Z",
     "start_time": "2024-03-24T18:53:06.409043Z"
    }
   },
   "outputs": [],
   "source": [
    "import pandas as pd\n",
    "from PIL import Image\n",
    "import numpy as np\n",
    "import os\n",
    "import cv2\n",
    "from tqdm import tqdm\n",
    "from pathlib import Path"
   ]
  },
  {
   "cell_type": "markdown",
   "source": [
    "# Configure notebook parameters"
   ],
   "metadata": {
    "collapsed": false
   }
  },
  {
   "cell_type": "code",
   "execution_count": 47,
   "outputs": [],
   "source": [
    "size = 256\n",
    "dataset_base_path = '../../datasets'\n",
    "images_dir = f\"{dataset_base_path}/zalando-woman-outfit-dataset-raw\"\n",
    "output_dir_base = f'{dataset_base_path}/imageBasedModel/zalando/woman_outfits'"
   ],
   "metadata": {
    "collapsed": false
   }
  },
  {
   "cell_type": "code",
   "execution_count": 48,
   "outputs": [
    {
     "data": {
      "text/plain": "       Unnamed: 0.1  Unnamed: 0                                   outfit_url  \\\n0                 0           0  https://www.zalando.ch/outfits/5Bay-ErCSwa/   \n1                 1           1  https://www.zalando.ch/outfits/5Bay-ErCSwa/   \n2                 2           2  https://www.zalando.ch/outfits/5Bay-ErCSwa/   \n3                 3           3  https://www.zalando.ch/outfits/5Bay-ErCSwa/   \n4                 4           4  https://www.zalando.ch/outfits/5Bay-ErCSwa/   \n...             ...         ...                                          ...   \n24546         24546       24546  https://www.zalando.ch/outfits/FOmLRaT0Rnu/   \n24547         24547       24547  https://www.zalando.ch/outfits/FOmLRaT0Rnu/   \n24548         24548       24548  https://www.zalando.ch/outfits/IMi9cMhhTSm/   \n24549         24549       24549  https://www.zalando.ch/outfits/tUljaAGSTG6/   \n24550         24550       24550  https://www.zalando.ch/outfits/tUljaAGSTG6/   \n\n                                        clothingItemName clothingItemBrand  \\\n0                            PADDED VEST - Weste - black              Puma   \n1      SLFMY PERFECT TEE BOX CUT - T-Shirt basic - br...    Selected Femme   \n2          MOM A LINE SHORT - Jeans Shorts - flash black           Levi's®   \n3                       530 UNISEX - Sneaker low - white       New Balance   \n4                                   Sonnenbrille - brown         Swarovski   \n...                                                  ...               ...   \n24546                  SLFEMMA LOAFER  - Slipper - black    Selected Femme   \n24547                TABBY SHOULDER - Handtasche - black             Coach   \n24548                            High Heel Pumps - black          Even&Odd   \n24549          BASIC HOODED JACKET - Daunenjacke - black       Tommy Jeans   \n24550                   WX452 - Sneaker low - white/grey       New Balance   \n\n                                   clothingItemDetailUrl  \\\n0      https://www.zalando.ch/puma-ess-trainingsjacke...   \n1      https://www.zalando.ch/selected-femme-sfmy-t-s...   \n2      https://www.zalando.ch/levisr-mom-a-line-short...   \n3      https://www.zalando.ch/new-balance-mr530-sneak...   \n4      https://www.zalando.ch/swarovski-sonnenbrille-...   \n...                                                  ...   \n24546  https://www.zalando.ch/selected-femme-schnuere...   \n24547  https://www.zalando.ch/coach-polished-pebble-s...   \n24548  https://www.zalando.ch/evenandodd-pumps-black-...   \n24549  https://www.zalando.ch/tommy-jeans-basic-hoode...   \n24550  https://www.zalando.ch/new-balance-wx452-sneak...   \n\n                             clothingItemPreviewImageUrl           id  \\\n0      https://img01.ztat.net/article/spp-media-p1/f0...  5Bay-ErCSwa   \n1      https://img01.ztat.net/article/spp-media-p1/3b...  5Bay-ErCSwa   \n2      https://img01.ztat.net/article/spp-media-p1/eb...  5Bay-ErCSwa   \n3      https://img01.ztat.net/article/spp-media-p1/7f...  5Bay-ErCSwa   \n4      https://img01.ztat.net/article/spp-media-p1/03...  5Bay-ErCSwa   \n...                                                  ...          ...   \n24546  https://img01.ztat.net/article/spp-media-p1/c4...  FOmLRaT0Rnu   \n24547  https://img01.ztat.net/article/spp-media-p1/89...  FOmLRaT0Rnu   \n24548  https://img01.ztat.net/article/spp-media-p1/f2...  IMi9cMhhTSm   \n24549  https://img01.ztat.net/article/spp-media-p1/0f...  tUljaAGSTG6   \n24550  https://img01.ztat.net/article/spp-media-p1/57...  tUljaAGSTG6   \n\n      clothingItemColor                       image_path  \n0                 black  woman_outfits\\5Bay-ErCSwa\\0.jpg  \n1                   NaN  woman_outfits\\5Bay-ErCSwa\\1.jpg  \n2           flash black  woman_outfits\\5Bay-ErCSwa\\2.jpg  \n3                 white  woman_outfits\\5Bay-ErCSwa\\3.jpg  \n4                 brown  woman_outfits\\5Bay-ErCSwa\\4.jpg  \n...                 ...                              ...  \n24546             black  woman_outfits\\FOmLRaT0Rnu\\0.jpg  \n24547             black  woman_outfits\\FOmLRaT0Rnu\\1.jpg  \n24548             black  woman_outfits\\IMi9cMhhTSm\\0.jpg  \n24549             black  woman_outfits\\tUljaAGSTG6\\2.jpg  \n24550        white/grey  woman_outfits\\tUljaAGSTG6\\3.jpg  \n\n[24551 rows x 10 columns]",
      "text/html": "<div>\n<style scoped>\n    .dataframe tbody tr th:only-of-type {\n        vertical-align: middle;\n    }\n\n    .dataframe tbody tr th {\n        vertical-align: top;\n    }\n\n    .dataframe thead th {\n        text-align: right;\n    }\n</style>\n<table border=\"1\" class=\"dataframe\">\n  <thead>\n    <tr style=\"text-align: right;\">\n      <th></th>\n      <th>Unnamed: 0.1</th>\n      <th>Unnamed: 0</th>\n      <th>outfit_url</th>\n      <th>clothingItemName</th>\n      <th>clothingItemBrand</th>\n      <th>clothingItemDetailUrl</th>\n      <th>clothingItemPreviewImageUrl</th>\n      <th>id</th>\n      <th>clothingItemColor</th>\n      <th>image_path</th>\n    </tr>\n  </thead>\n  <tbody>\n    <tr>\n      <th>0</th>\n      <td>0</td>\n      <td>0</td>\n      <td>https://www.zalando.ch/outfits/5Bay-ErCSwa/</td>\n      <td>PADDED VEST - Weste - black</td>\n      <td>Puma</td>\n      <td>https://www.zalando.ch/puma-ess-trainingsjacke...</td>\n      <td>https://img01.ztat.net/article/spp-media-p1/f0...</td>\n      <td>5Bay-ErCSwa</td>\n      <td>black</td>\n      <td>woman_outfits\\5Bay-ErCSwa\\0.jpg</td>\n    </tr>\n    <tr>\n      <th>1</th>\n      <td>1</td>\n      <td>1</td>\n      <td>https://www.zalando.ch/outfits/5Bay-ErCSwa/</td>\n      <td>SLFMY PERFECT TEE BOX CUT - T-Shirt basic - br...</td>\n      <td>Selected Femme</td>\n      <td>https://www.zalando.ch/selected-femme-sfmy-t-s...</td>\n      <td>https://img01.ztat.net/article/spp-media-p1/3b...</td>\n      <td>5Bay-ErCSwa</td>\n      <td>NaN</td>\n      <td>woman_outfits\\5Bay-ErCSwa\\1.jpg</td>\n    </tr>\n    <tr>\n      <th>2</th>\n      <td>2</td>\n      <td>2</td>\n      <td>https://www.zalando.ch/outfits/5Bay-ErCSwa/</td>\n      <td>MOM A LINE SHORT - Jeans Shorts - flash black</td>\n      <td>Levi's®</td>\n      <td>https://www.zalando.ch/levisr-mom-a-line-short...</td>\n      <td>https://img01.ztat.net/article/spp-media-p1/eb...</td>\n      <td>5Bay-ErCSwa</td>\n      <td>flash black</td>\n      <td>woman_outfits\\5Bay-ErCSwa\\2.jpg</td>\n    </tr>\n    <tr>\n      <th>3</th>\n      <td>3</td>\n      <td>3</td>\n      <td>https://www.zalando.ch/outfits/5Bay-ErCSwa/</td>\n      <td>530 UNISEX - Sneaker low - white</td>\n      <td>New Balance</td>\n      <td>https://www.zalando.ch/new-balance-mr530-sneak...</td>\n      <td>https://img01.ztat.net/article/spp-media-p1/7f...</td>\n      <td>5Bay-ErCSwa</td>\n      <td>white</td>\n      <td>woman_outfits\\5Bay-ErCSwa\\3.jpg</td>\n    </tr>\n    <tr>\n      <th>4</th>\n      <td>4</td>\n      <td>4</td>\n      <td>https://www.zalando.ch/outfits/5Bay-ErCSwa/</td>\n      <td>Sonnenbrille - brown</td>\n      <td>Swarovski</td>\n      <td>https://www.zalando.ch/swarovski-sonnenbrille-...</td>\n      <td>https://img01.ztat.net/article/spp-media-p1/03...</td>\n      <td>5Bay-ErCSwa</td>\n      <td>brown</td>\n      <td>woman_outfits\\5Bay-ErCSwa\\4.jpg</td>\n    </tr>\n    <tr>\n      <th>...</th>\n      <td>...</td>\n      <td>...</td>\n      <td>...</td>\n      <td>...</td>\n      <td>...</td>\n      <td>...</td>\n      <td>...</td>\n      <td>...</td>\n      <td>...</td>\n      <td>...</td>\n    </tr>\n    <tr>\n      <th>24546</th>\n      <td>24546</td>\n      <td>24546</td>\n      <td>https://www.zalando.ch/outfits/FOmLRaT0Rnu/</td>\n      <td>SLFEMMA LOAFER  - Slipper - black</td>\n      <td>Selected Femme</td>\n      <td>https://www.zalando.ch/selected-femme-schnuere...</td>\n      <td>https://img01.ztat.net/article/spp-media-p1/c4...</td>\n      <td>FOmLRaT0Rnu</td>\n      <td>black</td>\n      <td>woman_outfits\\FOmLRaT0Rnu\\0.jpg</td>\n    </tr>\n    <tr>\n      <th>24547</th>\n      <td>24547</td>\n      <td>24547</td>\n      <td>https://www.zalando.ch/outfits/FOmLRaT0Rnu/</td>\n      <td>TABBY SHOULDER - Handtasche - black</td>\n      <td>Coach</td>\n      <td>https://www.zalando.ch/coach-polished-pebble-s...</td>\n      <td>https://img01.ztat.net/article/spp-media-p1/89...</td>\n      <td>FOmLRaT0Rnu</td>\n      <td>black</td>\n      <td>woman_outfits\\FOmLRaT0Rnu\\1.jpg</td>\n    </tr>\n    <tr>\n      <th>24548</th>\n      <td>24548</td>\n      <td>24548</td>\n      <td>https://www.zalando.ch/outfits/IMi9cMhhTSm/</td>\n      <td>High Heel Pumps - black</td>\n      <td>Even&amp;Odd</td>\n      <td>https://www.zalando.ch/evenandodd-pumps-black-...</td>\n      <td>https://img01.ztat.net/article/spp-media-p1/f2...</td>\n      <td>IMi9cMhhTSm</td>\n      <td>black</td>\n      <td>woman_outfits\\IMi9cMhhTSm\\0.jpg</td>\n    </tr>\n    <tr>\n      <th>24549</th>\n      <td>24549</td>\n      <td>24549</td>\n      <td>https://www.zalando.ch/outfits/tUljaAGSTG6/</td>\n      <td>BASIC HOODED JACKET - Daunenjacke - black</td>\n      <td>Tommy Jeans</td>\n      <td>https://www.zalando.ch/tommy-jeans-basic-hoode...</td>\n      <td>https://img01.ztat.net/article/spp-media-p1/0f...</td>\n      <td>tUljaAGSTG6</td>\n      <td>black</td>\n      <td>woman_outfits\\tUljaAGSTG6\\2.jpg</td>\n    </tr>\n    <tr>\n      <th>24550</th>\n      <td>24550</td>\n      <td>24550</td>\n      <td>https://www.zalando.ch/outfits/tUljaAGSTG6/</td>\n      <td>WX452 - Sneaker low - white/grey</td>\n      <td>New Balance</td>\n      <td>https://www.zalando.ch/new-balance-wx452-sneak...</td>\n      <td>https://img01.ztat.net/article/spp-media-p1/57...</td>\n      <td>tUljaAGSTG6</td>\n      <td>white/grey</td>\n      <td>woman_outfits\\tUljaAGSTG6\\3.jpg</td>\n    </tr>\n  </tbody>\n</table>\n<p>24551 rows × 10 columns</p>\n</div>"
     },
     "execution_count": 48,
     "metadata": {},
     "output_type": "execute_result"
    }
   ],
   "source": [
    "df = pd.read_csv(\n",
    "    f'{dataset_base_path}/zalando-woman-outfit-dataset-raw/woman_outfit_clothes_with_img_file_path_and_color.csv'\n",
    ")\n",
    "df"
   ],
   "metadata": {
    "collapsed": false,
    "ExecuteTime": {
     "end_time": "2024-03-24T18:53:06.933233Z",
     "start_time": "2024-03-24T18:53:06.862830Z"
    }
   },
   "id": "a979287626830f17"
  },
  {
   "cell_type": "markdown",
   "source": [
    "# Replace backslashes"
   ],
   "metadata": {
    "collapsed": false
   }
  },
  {
   "cell_type": "code",
   "execution_count": 49,
   "outputs": [
    {
     "data": {
      "text/plain": "       Unnamed: 0.1  Unnamed: 0                                   outfit_url  \\\n0                 0           0  https://www.zalando.ch/outfits/5Bay-ErCSwa/   \n1                 1           1  https://www.zalando.ch/outfits/5Bay-ErCSwa/   \n2                 2           2  https://www.zalando.ch/outfits/5Bay-ErCSwa/   \n3                 3           3  https://www.zalando.ch/outfits/5Bay-ErCSwa/   \n4                 4           4  https://www.zalando.ch/outfits/5Bay-ErCSwa/   \n...             ...         ...                                          ...   \n24546         24546       24546  https://www.zalando.ch/outfits/FOmLRaT0Rnu/   \n24547         24547       24547  https://www.zalando.ch/outfits/FOmLRaT0Rnu/   \n24548         24548       24548  https://www.zalando.ch/outfits/IMi9cMhhTSm/   \n24549         24549       24549  https://www.zalando.ch/outfits/tUljaAGSTG6/   \n24550         24550       24550  https://www.zalando.ch/outfits/tUljaAGSTG6/   \n\n                                        clothingItemName clothingItemBrand  \\\n0                            PADDED VEST - Weste - black              Puma   \n1      SLFMY PERFECT TEE BOX CUT - T-Shirt basic - br...    Selected Femme   \n2          MOM A LINE SHORT - Jeans Shorts - flash black           Levi's®   \n3                       530 UNISEX - Sneaker low - white       New Balance   \n4                                   Sonnenbrille - brown         Swarovski   \n...                                                  ...               ...   \n24546                  SLFEMMA LOAFER  - Slipper - black    Selected Femme   \n24547                TABBY SHOULDER - Handtasche - black             Coach   \n24548                            High Heel Pumps - black          Even&Odd   \n24549          BASIC HOODED JACKET - Daunenjacke - black       Tommy Jeans   \n24550                   WX452 - Sneaker low - white/grey       New Balance   \n\n                                   clothingItemDetailUrl  \\\n0      https://www.zalando.ch/puma-ess-trainingsjacke...   \n1      https://www.zalando.ch/selected-femme-sfmy-t-s...   \n2      https://www.zalando.ch/levisr-mom-a-line-short...   \n3      https://www.zalando.ch/new-balance-mr530-sneak...   \n4      https://www.zalando.ch/swarovski-sonnenbrille-...   \n...                                                  ...   \n24546  https://www.zalando.ch/selected-femme-schnuere...   \n24547  https://www.zalando.ch/coach-polished-pebble-s...   \n24548  https://www.zalando.ch/evenandodd-pumps-black-...   \n24549  https://www.zalando.ch/tommy-jeans-basic-hoode...   \n24550  https://www.zalando.ch/new-balance-wx452-sneak...   \n\n                             clothingItemPreviewImageUrl           id  \\\n0      https://img01.ztat.net/article/spp-media-p1/f0...  5Bay-ErCSwa   \n1      https://img01.ztat.net/article/spp-media-p1/3b...  5Bay-ErCSwa   \n2      https://img01.ztat.net/article/spp-media-p1/eb...  5Bay-ErCSwa   \n3      https://img01.ztat.net/article/spp-media-p1/7f...  5Bay-ErCSwa   \n4      https://img01.ztat.net/article/spp-media-p1/03...  5Bay-ErCSwa   \n...                                                  ...          ...   \n24546  https://img01.ztat.net/article/spp-media-p1/c4...  FOmLRaT0Rnu   \n24547  https://img01.ztat.net/article/spp-media-p1/89...  FOmLRaT0Rnu   \n24548  https://img01.ztat.net/article/spp-media-p1/f2...  IMi9cMhhTSm   \n24549  https://img01.ztat.net/article/spp-media-p1/0f...  tUljaAGSTG6   \n24550  https://img01.ztat.net/article/spp-media-p1/57...  tUljaAGSTG6   \n\n      clothingItemColor                       image_path  \n0                 black  woman_outfits/5Bay-ErCSwa/0.jpg  \n1                   NaN  woman_outfits/5Bay-ErCSwa/1.jpg  \n2           flash black  woman_outfits/5Bay-ErCSwa/2.jpg  \n3                 white  woman_outfits/5Bay-ErCSwa/3.jpg  \n4                 brown  woman_outfits/5Bay-ErCSwa/4.jpg  \n...                 ...                              ...  \n24546             black  woman_outfits/FOmLRaT0Rnu/0.jpg  \n24547             black  woman_outfits/FOmLRaT0Rnu/1.jpg  \n24548             black  woman_outfits/IMi9cMhhTSm/0.jpg  \n24549             black  woman_outfits/tUljaAGSTG6/2.jpg  \n24550        white/grey  woman_outfits/tUljaAGSTG6/3.jpg  \n\n[24551 rows x 10 columns]",
      "text/html": "<div>\n<style scoped>\n    .dataframe tbody tr th:only-of-type {\n        vertical-align: middle;\n    }\n\n    .dataframe tbody tr th {\n        vertical-align: top;\n    }\n\n    .dataframe thead th {\n        text-align: right;\n    }\n</style>\n<table border=\"1\" class=\"dataframe\">\n  <thead>\n    <tr style=\"text-align: right;\">\n      <th></th>\n      <th>Unnamed: 0.1</th>\n      <th>Unnamed: 0</th>\n      <th>outfit_url</th>\n      <th>clothingItemName</th>\n      <th>clothingItemBrand</th>\n      <th>clothingItemDetailUrl</th>\n      <th>clothingItemPreviewImageUrl</th>\n      <th>id</th>\n      <th>clothingItemColor</th>\n      <th>image_path</th>\n    </tr>\n  </thead>\n  <tbody>\n    <tr>\n      <th>0</th>\n      <td>0</td>\n      <td>0</td>\n      <td>https://www.zalando.ch/outfits/5Bay-ErCSwa/</td>\n      <td>PADDED VEST - Weste - black</td>\n      <td>Puma</td>\n      <td>https://www.zalando.ch/puma-ess-trainingsjacke...</td>\n      <td>https://img01.ztat.net/article/spp-media-p1/f0...</td>\n      <td>5Bay-ErCSwa</td>\n      <td>black</td>\n      <td>woman_outfits/5Bay-ErCSwa/0.jpg</td>\n    </tr>\n    <tr>\n      <th>1</th>\n      <td>1</td>\n      <td>1</td>\n      <td>https://www.zalando.ch/outfits/5Bay-ErCSwa/</td>\n      <td>SLFMY PERFECT TEE BOX CUT - T-Shirt basic - br...</td>\n      <td>Selected Femme</td>\n      <td>https://www.zalando.ch/selected-femme-sfmy-t-s...</td>\n      <td>https://img01.ztat.net/article/spp-media-p1/3b...</td>\n      <td>5Bay-ErCSwa</td>\n      <td>NaN</td>\n      <td>woman_outfits/5Bay-ErCSwa/1.jpg</td>\n    </tr>\n    <tr>\n      <th>2</th>\n      <td>2</td>\n      <td>2</td>\n      <td>https://www.zalando.ch/outfits/5Bay-ErCSwa/</td>\n      <td>MOM A LINE SHORT - Jeans Shorts - flash black</td>\n      <td>Levi's®</td>\n      <td>https://www.zalando.ch/levisr-mom-a-line-short...</td>\n      <td>https://img01.ztat.net/article/spp-media-p1/eb...</td>\n      <td>5Bay-ErCSwa</td>\n      <td>flash black</td>\n      <td>woman_outfits/5Bay-ErCSwa/2.jpg</td>\n    </tr>\n    <tr>\n      <th>3</th>\n      <td>3</td>\n      <td>3</td>\n      <td>https://www.zalando.ch/outfits/5Bay-ErCSwa/</td>\n      <td>530 UNISEX - Sneaker low - white</td>\n      <td>New Balance</td>\n      <td>https://www.zalando.ch/new-balance-mr530-sneak...</td>\n      <td>https://img01.ztat.net/article/spp-media-p1/7f...</td>\n      <td>5Bay-ErCSwa</td>\n      <td>white</td>\n      <td>woman_outfits/5Bay-ErCSwa/3.jpg</td>\n    </tr>\n    <tr>\n      <th>4</th>\n      <td>4</td>\n      <td>4</td>\n      <td>https://www.zalando.ch/outfits/5Bay-ErCSwa/</td>\n      <td>Sonnenbrille - brown</td>\n      <td>Swarovski</td>\n      <td>https://www.zalando.ch/swarovski-sonnenbrille-...</td>\n      <td>https://img01.ztat.net/article/spp-media-p1/03...</td>\n      <td>5Bay-ErCSwa</td>\n      <td>brown</td>\n      <td>woman_outfits/5Bay-ErCSwa/4.jpg</td>\n    </tr>\n    <tr>\n      <th>...</th>\n      <td>...</td>\n      <td>...</td>\n      <td>...</td>\n      <td>...</td>\n      <td>...</td>\n      <td>...</td>\n      <td>...</td>\n      <td>...</td>\n      <td>...</td>\n      <td>...</td>\n    </tr>\n    <tr>\n      <th>24546</th>\n      <td>24546</td>\n      <td>24546</td>\n      <td>https://www.zalando.ch/outfits/FOmLRaT0Rnu/</td>\n      <td>SLFEMMA LOAFER  - Slipper - black</td>\n      <td>Selected Femme</td>\n      <td>https://www.zalando.ch/selected-femme-schnuere...</td>\n      <td>https://img01.ztat.net/article/spp-media-p1/c4...</td>\n      <td>FOmLRaT0Rnu</td>\n      <td>black</td>\n      <td>woman_outfits/FOmLRaT0Rnu/0.jpg</td>\n    </tr>\n    <tr>\n      <th>24547</th>\n      <td>24547</td>\n      <td>24547</td>\n      <td>https://www.zalando.ch/outfits/FOmLRaT0Rnu/</td>\n      <td>TABBY SHOULDER - Handtasche - black</td>\n      <td>Coach</td>\n      <td>https://www.zalando.ch/coach-polished-pebble-s...</td>\n      <td>https://img01.ztat.net/article/spp-media-p1/89...</td>\n      <td>FOmLRaT0Rnu</td>\n      <td>black</td>\n      <td>woman_outfits/FOmLRaT0Rnu/1.jpg</td>\n    </tr>\n    <tr>\n      <th>24548</th>\n      <td>24548</td>\n      <td>24548</td>\n      <td>https://www.zalando.ch/outfits/IMi9cMhhTSm/</td>\n      <td>High Heel Pumps - black</td>\n      <td>Even&amp;Odd</td>\n      <td>https://www.zalando.ch/evenandodd-pumps-black-...</td>\n      <td>https://img01.ztat.net/article/spp-media-p1/f2...</td>\n      <td>IMi9cMhhTSm</td>\n      <td>black</td>\n      <td>woman_outfits/IMi9cMhhTSm/0.jpg</td>\n    </tr>\n    <tr>\n      <th>24549</th>\n      <td>24549</td>\n      <td>24549</td>\n      <td>https://www.zalando.ch/outfits/tUljaAGSTG6/</td>\n      <td>BASIC HOODED JACKET - Daunenjacke - black</td>\n      <td>Tommy Jeans</td>\n      <td>https://www.zalando.ch/tommy-jeans-basic-hoode...</td>\n      <td>https://img01.ztat.net/article/spp-media-p1/0f...</td>\n      <td>tUljaAGSTG6</td>\n      <td>black</td>\n      <td>woman_outfits/tUljaAGSTG6/2.jpg</td>\n    </tr>\n    <tr>\n      <th>24550</th>\n      <td>24550</td>\n      <td>24550</td>\n      <td>https://www.zalando.ch/outfits/tUljaAGSTG6/</td>\n      <td>WX452 - Sneaker low - white/grey</td>\n      <td>New Balance</td>\n      <td>https://www.zalando.ch/new-balance-wx452-sneak...</td>\n      <td>https://img01.ztat.net/article/spp-media-p1/57...</td>\n      <td>tUljaAGSTG6</td>\n      <td>white/grey</td>\n      <td>woman_outfits/tUljaAGSTG6/3.jpg</td>\n    </tr>\n  </tbody>\n</table>\n<p>24551 rows × 10 columns</p>\n</div>"
     },
     "execution_count": 49,
     "metadata": {},
     "output_type": "execute_result"
    }
   ],
   "source": [
    "df['image_path'] = df['image_path'].apply(lambda x: x.replace('\\\\', '/'))\n",
    "df"
   ],
   "metadata": {
    "collapsed": false
   }
  },
  {
   "cell_type": "markdown",
   "source": [
    "# add item index column"
   ],
   "metadata": {
    "collapsed": false
   }
  },
  {
   "cell_type": "code",
   "execution_count": 50,
   "outputs": [
    {
     "data": {
      "text/plain": "       Unnamed: 0.1  Unnamed: 0                                   outfit_url  \\\n0                 0           0  https://www.zalando.ch/outfits/5Bay-ErCSwa/   \n1                 1           1  https://www.zalando.ch/outfits/5Bay-ErCSwa/   \n2                 2           2  https://www.zalando.ch/outfits/5Bay-ErCSwa/   \n3                 3           3  https://www.zalando.ch/outfits/5Bay-ErCSwa/   \n4                 4           4  https://www.zalando.ch/outfits/5Bay-ErCSwa/   \n...             ...         ...                                          ...   \n24546         24546       24546  https://www.zalando.ch/outfits/FOmLRaT0Rnu/   \n24547         24547       24547  https://www.zalando.ch/outfits/FOmLRaT0Rnu/   \n24548         24548       24548  https://www.zalando.ch/outfits/IMi9cMhhTSm/   \n24549         24549       24549  https://www.zalando.ch/outfits/tUljaAGSTG6/   \n24550         24550       24550  https://www.zalando.ch/outfits/tUljaAGSTG6/   \n\n                                        clothingItemName clothingItemBrand  \\\n0                            PADDED VEST - Weste - black              Puma   \n1      SLFMY PERFECT TEE BOX CUT - T-Shirt basic - br...    Selected Femme   \n2          MOM A LINE SHORT - Jeans Shorts - flash black           Levi's®   \n3                       530 UNISEX - Sneaker low - white       New Balance   \n4                                   Sonnenbrille - brown         Swarovski   \n...                                                  ...               ...   \n24546                  SLFEMMA LOAFER  - Slipper - black    Selected Femme   \n24547                TABBY SHOULDER - Handtasche - black             Coach   \n24548                            High Heel Pumps - black          Even&Odd   \n24549          BASIC HOODED JACKET - Daunenjacke - black       Tommy Jeans   \n24550                   WX452 - Sneaker low - white/grey       New Balance   \n\n                                   clothingItemDetailUrl  \\\n0      https://www.zalando.ch/puma-ess-trainingsjacke...   \n1      https://www.zalando.ch/selected-femme-sfmy-t-s...   \n2      https://www.zalando.ch/levisr-mom-a-line-short...   \n3      https://www.zalando.ch/new-balance-mr530-sneak...   \n4      https://www.zalando.ch/swarovski-sonnenbrille-...   \n...                                                  ...   \n24546  https://www.zalando.ch/selected-femme-schnuere...   \n24547  https://www.zalando.ch/coach-polished-pebble-s...   \n24548  https://www.zalando.ch/evenandodd-pumps-black-...   \n24549  https://www.zalando.ch/tommy-jeans-basic-hoode...   \n24550  https://www.zalando.ch/new-balance-wx452-sneak...   \n\n                             clothingItemPreviewImageUrl           id  \\\n0      https://img01.ztat.net/article/spp-media-p1/f0...  5Bay-ErCSwa   \n1      https://img01.ztat.net/article/spp-media-p1/3b...  5Bay-ErCSwa   \n2      https://img01.ztat.net/article/spp-media-p1/eb...  5Bay-ErCSwa   \n3      https://img01.ztat.net/article/spp-media-p1/7f...  5Bay-ErCSwa   \n4      https://img01.ztat.net/article/spp-media-p1/03...  5Bay-ErCSwa   \n...                                                  ...          ...   \n24546  https://img01.ztat.net/article/spp-media-p1/c4...  FOmLRaT0Rnu   \n24547  https://img01.ztat.net/article/spp-media-p1/89...  FOmLRaT0Rnu   \n24548  https://img01.ztat.net/article/spp-media-p1/f2...  IMi9cMhhTSm   \n24549  https://img01.ztat.net/article/spp-media-p1/0f...  tUljaAGSTG6   \n24550  https://img01.ztat.net/article/spp-media-p1/57...  tUljaAGSTG6   \n\n      clothingItemColor                       image_path clothingItemIndex  \n0                 black  woman_outfits/5Bay-ErCSwa/0.jpg                 0  \n1                   NaN  woman_outfits/5Bay-ErCSwa/1.jpg                 1  \n2           flash black  woman_outfits/5Bay-ErCSwa/2.jpg                 2  \n3                 white  woman_outfits/5Bay-ErCSwa/3.jpg                 3  \n4                 brown  woman_outfits/5Bay-ErCSwa/4.jpg                 4  \n...                 ...                              ...               ...  \n24546             black  woman_outfits/FOmLRaT0Rnu/0.jpg                 0  \n24547             black  woman_outfits/FOmLRaT0Rnu/1.jpg                 1  \n24548             black  woman_outfits/IMi9cMhhTSm/0.jpg                 0  \n24549             black  woman_outfits/tUljaAGSTG6/2.jpg                 2  \n24550        white/grey  woman_outfits/tUljaAGSTG6/3.jpg                 3  \n\n[24551 rows x 11 columns]",
      "text/html": "<div>\n<style scoped>\n    .dataframe tbody tr th:only-of-type {\n        vertical-align: middle;\n    }\n\n    .dataframe tbody tr th {\n        vertical-align: top;\n    }\n\n    .dataframe thead th {\n        text-align: right;\n    }\n</style>\n<table border=\"1\" class=\"dataframe\">\n  <thead>\n    <tr style=\"text-align: right;\">\n      <th></th>\n      <th>Unnamed: 0.1</th>\n      <th>Unnamed: 0</th>\n      <th>outfit_url</th>\n      <th>clothingItemName</th>\n      <th>clothingItemBrand</th>\n      <th>clothingItemDetailUrl</th>\n      <th>clothingItemPreviewImageUrl</th>\n      <th>id</th>\n      <th>clothingItemColor</th>\n      <th>image_path</th>\n      <th>clothingItemIndex</th>\n    </tr>\n  </thead>\n  <tbody>\n    <tr>\n      <th>0</th>\n      <td>0</td>\n      <td>0</td>\n      <td>https://www.zalando.ch/outfits/5Bay-ErCSwa/</td>\n      <td>PADDED VEST - Weste - black</td>\n      <td>Puma</td>\n      <td>https://www.zalando.ch/puma-ess-trainingsjacke...</td>\n      <td>https://img01.ztat.net/article/spp-media-p1/f0...</td>\n      <td>5Bay-ErCSwa</td>\n      <td>black</td>\n      <td>woman_outfits/5Bay-ErCSwa/0.jpg</td>\n      <td>0</td>\n    </tr>\n    <tr>\n      <th>1</th>\n      <td>1</td>\n      <td>1</td>\n      <td>https://www.zalando.ch/outfits/5Bay-ErCSwa/</td>\n      <td>SLFMY PERFECT TEE BOX CUT - T-Shirt basic - br...</td>\n      <td>Selected Femme</td>\n      <td>https://www.zalando.ch/selected-femme-sfmy-t-s...</td>\n      <td>https://img01.ztat.net/article/spp-media-p1/3b...</td>\n      <td>5Bay-ErCSwa</td>\n      <td>NaN</td>\n      <td>woman_outfits/5Bay-ErCSwa/1.jpg</td>\n      <td>1</td>\n    </tr>\n    <tr>\n      <th>2</th>\n      <td>2</td>\n      <td>2</td>\n      <td>https://www.zalando.ch/outfits/5Bay-ErCSwa/</td>\n      <td>MOM A LINE SHORT - Jeans Shorts - flash black</td>\n      <td>Levi's®</td>\n      <td>https://www.zalando.ch/levisr-mom-a-line-short...</td>\n      <td>https://img01.ztat.net/article/spp-media-p1/eb...</td>\n      <td>5Bay-ErCSwa</td>\n      <td>flash black</td>\n      <td>woman_outfits/5Bay-ErCSwa/2.jpg</td>\n      <td>2</td>\n    </tr>\n    <tr>\n      <th>3</th>\n      <td>3</td>\n      <td>3</td>\n      <td>https://www.zalando.ch/outfits/5Bay-ErCSwa/</td>\n      <td>530 UNISEX - Sneaker low - white</td>\n      <td>New Balance</td>\n      <td>https://www.zalando.ch/new-balance-mr530-sneak...</td>\n      <td>https://img01.ztat.net/article/spp-media-p1/7f...</td>\n      <td>5Bay-ErCSwa</td>\n      <td>white</td>\n      <td>woman_outfits/5Bay-ErCSwa/3.jpg</td>\n      <td>3</td>\n    </tr>\n    <tr>\n      <th>4</th>\n      <td>4</td>\n      <td>4</td>\n      <td>https://www.zalando.ch/outfits/5Bay-ErCSwa/</td>\n      <td>Sonnenbrille - brown</td>\n      <td>Swarovski</td>\n      <td>https://www.zalando.ch/swarovski-sonnenbrille-...</td>\n      <td>https://img01.ztat.net/article/spp-media-p1/03...</td>\n      <td>5Bay-ErCSwa</td>\n      <td>brown</td>\n      <td>woman_outfits/5Bay-ErCSwa/4.jpg</td>\n      <td>4</td>\n    </tr>\n    <tr>\n      <th>...</th>\n      <td>...</td>\n      <td>...</td>\n      <td>...</td>\n      <td>...</td>\n      <td>...</td>\n      <td>...</td>\n      <td>...</td>\n      <td>...</td>\n      <td>...</td>\n      <td>...</td>\n      <td>...</td>\n    </tr>\n    <tr>\n      <th>24546</th>\n      <td>24546</td>\n      <td>24546</td>\n      <td>https://www.zalando.ch/outfits/FOmLRaT0Rnu/</td>\n      <td>SLFEMMA LOAFER  - Slipper - black</td>\n      <td>Selected Femme</td>\n      <td>https://www.zalando.ch/selected-femme-schnuere...</td>\n      <td>https://img01.ztat.net/article/spp-media-p1/c4...</td>\n      <td>FOmLRaT0Rnu</td>\n      <td>black</td>\n      <td>woman_outfits/FOmLRaT0Rnu/0.jpg</td>\n      <td>0</td>\n    </tr>\n    <tr>\n      <th>24547</th>\n      <td>24547</td>\n      <td>24547</td>\n      <td>https://www.zalando.ch/outfits/FOmLRaT0Rnu/</td>\n      <td>TABBY SHOULDER - Handtasche - black</td>\n      <td>Coach</td>\n      <td>https://www.zalando.ch/coach-polished-pebble-s...</td>\n      <td>https://img01.ztat.net/article/spp-media-p1/89...</td>\n      <td>FOmLRaT0Rnu</td>\n      <td>black</td>\n      <td>woman_outfits/FOmLRaT0Rnu/1.jpg</td>\n      <td>1</td>\n    </tr>\n    <tr>\n      <th>24548</th>\n      <td>24548</td>\n      <td>24548</td>\n      <td>https://www.zalando.ch/outfits/IMi9cMhhTSm/</td>\n      <td>High Heel Pumps - black</td>\n      <td>Even&amp;Odd</td>\n      <td>https://www.zalando.ch/evenandodd-pumps-black-...</td>\n      <td>https://img01.ztat.net/article/spp-media-p1/f2...</td>\n      <td>IMi9cMhhTSm</td>\n      <td>black</td>\n      <td>woman_outfits/IMi9cMhhTSm/0.jpg</td>\n      <td>0</td>\n    </tr>\n    <tr>\n      <th>24549</th>\n      <td>24549</td>\n      <td>24549</td>\n      <td>https://www.zalando.ch/outfits/tUljaAGSTG6/</td>\n      <td>BASIC HOODED JACKET - Daunenjacke - black</td>\n      <td>Tommy Jeans</td>\n      <td>https://www.zalando.ch/tommy-jeans-basic-hoode...</td>\n      <td>https://img01.ztat.net/article/spp-media-p1/0f...</td>\n      <td>tUljaAGSTG6</td>\n      <td>black</td>\n      <td>woman_outfits/tUljaAGSTG6/2.jpg</td>\n      <td>2</td>\n    </tr>\n    <tr>\n      <th>24550</th>\n      <td>24550</td>\n      <td>24550</td>\n      <td>https://www.zalando.ch/outfits/tUljaAGSTG6/</td>\n      <td>WX452 - Sneaker low - white/grey</td>\n      <td>New Balance</td>\n      <td>https://www.zalando.ch/new-balance-wx452-sneak...</td>\n      <td>https://img01.ztat.net/article/spp-media-p1/57...</td>\n      <td>tUljaAGSTG6</td>\n      <td>white/grey</td>\n      <td>woman_outfits/tUljaAGSTG6/3.jpg</td>\n      <td>3</td>\n    </tr>\n  </tbody>\n</table>\n<p>24551 rows × 11 columns</p>\n</div>"
     },
     "execution_count": 50,
     "metadata": {},
     "output_type": "execute_result"
    }
   ],
   "source": [
    "import re\n",
    "\n",
    "df['clothingItemIndex'] = df['image_path'].apply(lambda x: re.search(r'/(\\d+)\\.jpg$', x).group(1))\n",
    "df"
   ],
   "metadata": {
    "collapsed": false
   }
  },
  {
   "cell_type": "markdown",
   "source": [
    "# Create output directory"
   ],
   "metadata": {
    "collapsed": false
   }
  },
  {
   "cell_type": "code",
   "execution_count": 51,
   "outputs": [],
   "source": [
    "path = Path(output_dir_base)\n",
    "path.mkdir(parents=True, exist_ok=True)"
   ],
   "metadata": {
    "collapsed": false
   }
  },
  {
   "cell_type": "markdown",
   "source": [
    "# Get max width and max height of all images"
   ],
   "metadata": {
    "collapsed": false
   }
  },
  {
   "cell_type": "code",
   "execution_count": 52,
   "outputs": [
    {
     "name": "stderr",
     "output_type": "stream",
     "text": [
      "6748it [00:15, 436.32it/s]"
     ]
    },
    {
     "name": "stdout",
     "output_type": "stream",
     "text": [
      "Max width: 4800 image_path: ../../datasets/zalando-woman-outfit-dataset-raw/woman_outfits/9SY0L4DkQJK/4.jpg\n",
      "Max height: 6912 image_path: ../../datasets/zalando-woman-outfit-dataset-raw/woman_outfits/9SY0L4DkQJK/4.jpg\n",
      "images with problems: []\n"
     ]
    },
    {
     "name": "stderr",
     "output_type": "stream",
     "text": [
      "\n"
     ]
    }
   ],
   "source": [
    "from PIL import UnidentifiedImageError\n",
    "\n",
    "\"\"\"\n",
    "get the pixel values from biggest images in data\n",
    "maximum width and maximum height\n",
    "\"\"\"\n",
    "\n",
    "max_w = 0\n",
    "max_w_img_path = \"\"\n",
    "max_h = 0\n",
    "max_h_img_path = \"\"\n",
    "\n",
    "image_paths_with_errors = []\n",
    "\n",
    "for root, dirs, files in tqdm(os.walk(images_dir)):\n",
    "    for file in files:\n",
    "        if file.endswith('.jpg'):\n",
    "            image_path = os.path.join(root, file)\n",
    "\n",
    "            try:\n",
    "                with Image.open(image_path) as image:\n",
    "                    image_w, image_h = image.size\n",
    "\n",
    "                    if image_w > max_w:\n",
    "                        max_w = image_w\n",
    "                        max_w_img_path = image_path\n",
    "\n",
    "                    if image_h > max_h:\n",
    "                        max_h = image_h\n",
    "                        max_h_img_path = image_path\n",
    "            except UnidentifiedImageError:\n",
    "                image_paths_with_errors.append(image_path)\n",
    "\n",
    "print(\"Max width:\", max_w, \"image_path:\", max_w_img_path)\n",
    "print(\"Max height:\", max_h, \"image_path:\", max_h_img_path)\n",
    "print(f'images with problems: {image_paths_with_errors}')"
   ],
   "metadata": {
    "collapsed": false,
    "ExecuteTime": {
     "end_time": "2024-03-24T18:54:04.974831Z",
     "start_time": "2024-03-24T18:53:08.804271Z"
    }
   },
   "id": "64a7cfc9ca284378"
  },
  {
   "cell_type": "markdown",
   "source": [
    "# Resize images"
   ],
   "metadata": {
    "collapsed": false
   }
  },
  {
   "cell_type": "code",
   "execution_count": 53,
   "outputs": [
    {
     "name": "stderr",
     "output_type": "stream",
     "text": [
      "100%|██████████| 24551/24551 [10:06<00:00, 40.51it/s]\n"
     ]
    }
   ],
   "source": [
    "\n",
    "\"\"\"resize images to 256x256 pixels, keep the original aspect ratio of image and fill the void space with white\"\"\"\n",
    "\n",
    "\n",
    "def resize_images(image_path, output_dir, size):\n",
    "    # Load the image\n",
    "    image = cv2.imread(image_path)\n",
    "\n",
    "    # Check if image is loaded successfully\n",
    "    if image is None:\n",
    "        print(f\"Error: Unable to load image from {image_path}\")\n",
    "        return\n",
    "\n",
    "    # Get original dimensions\n",
    "    height, width, _ = image.shape\n",
    "    # Calculate aspect ratio\n",
    "    aspect_ratio = width / height\n",
    "\n",
    "    # Determine new dimensions based on size and aspect ratio\n",
    "    if width > height:\n",
    "        new_width = size\n",
    "        new_height = int(size / aspect_ratio)\n",
    "    else:\n",
    "        new_height = size\n",
    "        new_width = int(size * aspect_ratio)\n",
    "\n",
    "    # Resize the image while maintaining aspect ratio\n",
    "    resized_image = cv2.resize(image, (new_width, new_height))\n",
    "    # Create a white canvas of size x size\n",
    "    canvas = np.ones((size, size, 3), dtype=np.uint8) * 255\n",
    "    # Calculate where to place the resized image on the canvas\n",
    "    x_offset = (size - new_width) // 2\n",
    "    y_offset = (size - new_height) // 2\n",
    "    # Paste the resized image onto the canvas\n",
    "    canvas[y_offset:y_offset + new_height, x_offset:x_offset + new_width] = resized_image\n",
    "    # Create output directory if it doesn't exist\n",
    "    os.makedirs(output_dir, exist_ok=True)\n",
    "    # Get the image filename from the original path\n",
    "    filename = os.path.basename(image_path)\n",
    "    # Save image to output path\n",
    "    cv2.imwrite(os.path.join(output_dir, filename), canvas)\n",
    "\n",
    "\n",
    "# Apply the resizing function to each row in the DataFrame\n",
    "for index, row in tqdm(df.iterrows(), total=df.shape[0]):\n",
    "    set_id = row['id']\n",
    "    clothingItemIndex = row['clothingItemIndex']\n",
    "    output_dir = f\"{output_dir_base}/{set_id}\"\n",
    "    input_path = f\"{images_dir}/{row['image_path']}\"  # Adjust the input path\n",
    "    resize_images(input_path, output_dir, size)"
   ],
   "metadata": {
    "collapsed": false,
    "ExecuteTime": {
     "end_time": "2024-03-24T18:54:39.073268Z",
     "start_time": "2024-03-24T18:54:04.976807Z"
    }
   },
   "id": "1fc2804109db321"
  },
  {
   "cell_type": "markdown",
   "source": [
    "# Check if all Images are present in the output folder"
   ],
   "metadata": {
    "collapsed": false
   }
  },
  {
   "cell_type": "code",
   "execution_count": 56,
   "outputs": [
    {
     "name": "stderr",
     "output_type": "stream",
     "text": [
      "100%|██████████| 24551/24551 [00:01<00:00, 13603.04it/s]"
     ]
    },
    {
     "name": "stdout",
     "output_type": "stream",
     "text": [
      "Total missing files: 0\n"
     ]
    },
    {
     "name": "stderr",
     "output_type": "stream",
     "text": [
      "\n"
     ]
    }
   ],
   "source": [
    "\"\"\"check if all images from the dataframe are saved to the correct location in the new file system for resized images\"\"\"\n",
    "\n",
    "missing_count = 0\n",
    "missing_files = []\n",
    "\n",
    "for index, row in tqdm(df.iterrows(), total=df.shape[0]):\n",
    "    set_id = row['id']\n",
    "    clothingItemIndex = row['clothingItemIndex']\n",
    "    output_dir = f\"{output_dir_base}/{set_id}\"\n",
    "\n",
    "    # Check if the resized image file exists\n",
    "    if not os.path.exists(f'{output_dir}/{clothingItemIndex}.jpg'):\n",
    "        missing_count += 1\n",
    "        missing_files.append(output_dir)  # Store the path of missing file\n",
    "        print(f\"Resized image file is missing for {output_dir}\")\n",
    "\n",
    "# Print the total count of missing files\n",
    "print(f\"Total missing files: {missing_count}\")"
   ],
   "metadata": {
    "collapsed": false,
    "ExecuteTime": {
     "end_time": "2024-03-24T18:54:39.632177Z",
     "start_time": "2024-03-24T18:54:39.074564Z"
    }
   },
   "id": "b3177cfdae567fce"
  },
  {
   "cell_type": "code",
   "execution_count": null,
   "outputs": [],
   "source": [],
   "metadata": {
    "collapsed": false
   }
  }
 ],
 "metadata": {
  "kernelspec": {
   "display_name": "Python 3",
   "language": "python",
   "name": "python3"
  },
  "language_info": {
   "codemirror_mode": {
    "name": "ipython",
    "version": 2
   },
   "file_extension": ".py",
   "mimetype": "text/x-python",
   "name": "python",
   "nbconvert_exporter": "python",
   "pygments_lexer": "ipython2",
   "version": "2.7.6"
  }
 },
 "nbformat": 4,
 "nbformat_minor": 5
}
