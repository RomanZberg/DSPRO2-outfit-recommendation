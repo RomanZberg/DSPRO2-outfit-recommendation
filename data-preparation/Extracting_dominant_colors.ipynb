{
 "cells": [
  {
   "cell_type": "code",
   "execution_count": 180,
   "id": "initial_id",
   "metadata": {
    "collapsed": true,
    "ExecuteTime": {
     "end_time": "2024-04-26T17:31:04.545680Z",
     "start_time": "2024-04-26T17:31:04.525167Z"
    }
   },
   "outputs": [
    {
     "data": {
      "text/plain": "'\\n        :param quality: quality settings, 1 is the highest quality, the bigger\\n                        the number, the faster the palette generation, but the\\n                        greater the likelihood that colors will be missed.\\n                        '"
     },
     "execution_count": 180,
     "metadata": {},
     "output_type": "execute_result"
    }
   ],
   "source": [
    "from colorthief import ColorThief\n",
    "import seaborn as sns\n",
    "\"\"\"\n",
    "        :param quality: quality settings, 1 is the highest quality, the bigger\n",
    "                        the number, the faster the palette generation, but the\n",
    "                        greater the likelihood that colors will be missed.\n",
    "                        \"\"\"\n",
    "\n",
    "\n"
   ]
  },
  {
   "cell_type": "code",
   "execution_count": 181,
   "outputs": [
    {
     "data": {
      "text/plain": "<Figure size 400x100 with 1 Axes>",
      "image/png": "[encoded data removed]"
     },
     "metadata": {},
     "output_type": "display_data"
    }
   ],
   "source": [
    "test_img = \"../datasets/bg_removed/100099673/4.png\"\n",
    "\n",
    "test_thief = ColorThief(test_img)\n",
    "\n",
    "test_palette = test_thief.get_palette(color_count=3, quality=1)\n",
    "\n",
    "\n",
    "sns.palplot([tuple(i / 255 for i in j) for j in test_palette])\n"
   ],
   "metadata": {
    "collapsed": false,
    "ExecuteTime": {
     "end_time": "2024-04-26T17:31:04.635407Z",
     "start_time": "2024-04-26T17:31:04.532137Z"
    }
   },
   "id": "78ae1b1e2d1d7661"
  },
  {
   "cell_type": "code",
   "execution_count": 182,
   "outputs": [],
   "source": [
    "def get_palette(img_path, color_count=2, quality=1):\n",
    "    thief = ColorThief(img_path)\n",
    "    palette = thief.get_palette(color_count=color_count, quality=quality)\n",
    "    return palette\n",
    "\n",
    "def get_color(img_path, quality=1):\n",
    "    thief = ColorThief(img_path)\n",
    "    color = thief.get_color(quality=quality)\n",
    "    return color"
   ],
   "metadata": {
    "collapsed": false,
    "ExecuteTime": {
     "end_time": "2024-04-26T17:31:04.638140Z",
     "start_time": "2024-04-26T17:31:04.635007Z"
    }
   },
   "id": "1b02eba9db2da520"
  },
  {
   "cell_type": "code",
   "execution_count": 183,
   "outputs": [],
   "source": [
    "test_palette = get_palette(test_img, color_count=3, quality=5)"
   ],
   "metadata": {
    "collapsed": false,
    "ExecuteTime": {
     "end_time": "2024-04-26T17:31:04.687544Z",
     "start_time": "2024-04-26T17:31:04.638874Z"
    }
   },
   "id": "cc8c377661c329d3"
  },
  {
   "cell_type": "code",
   "execution_count": 184,
   "outputs": [
    {
     "data": {
      "text/plain": "[(59, 136, 224), (230, 103, 76), (101, 43, 37), (43, 65, 116)]"
     },
     "execution_count": 184,
     "metadata": {},
     "output_type": "execute_result"
    }
   ],
   "source": [
    "test_palette"
   ],
   "metadata": {
    "collapsed": false,
    "ExecuteTime": {
     "end_time": "2024-04-26T17:31:04.693095Z",
     "start_time": "2024-04-26T17:31:04.688662Z"
    }
   },
   "id": "f3cb595d515f3e18"
  },
  {
   "cell_type": "code",
   "execution_count": 185,
   "outputs": [
    {
     "data": {
      "text/plain": "<Figure size 400x100 with 1 Axes>",
      "image/png": "[encoded data removed]"
     },
     "metadata": {},
     "output_type": "display_data"
    }
   ],
   "source": [
    "sns.palplot([tuple(i / 255 for i in j) for j in test_palette])"
   ],
   "metadata": {
    "collapsed": false,
    "ExecuteTime": {
     "end_time": "2024-04-26T17:31:04.721344Z",
     "start_time": "2024-04-26T17:31:04.695653Z"
    }
   },
   "id": "d2e4eb1cc3fe418e"
  }
 ],
 "metadata": {
  "kernelspec": {
   "display_name": "Python 3",
   "language": "python",
   "name": "python3"
  },
  "language_info": {
   "codemirror_mode": {
    "name": "ipython",
    "version": 2
   },
   "file_extension": ".py",
   "mimetype": "text/x-python",
   "name": "python",
   "nbconvert_exporter": "python",
   "pygments_lexer": "ipython2",
   "version": "2.7.6"
  }
 },
 "nbformat": 4,
 "nbformat_minor": 5
}
