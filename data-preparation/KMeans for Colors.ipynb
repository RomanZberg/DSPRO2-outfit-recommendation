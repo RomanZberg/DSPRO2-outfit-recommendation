{
 "cells": [
  {
   "cell_type": "code",
   "execution_count": 103,
   "id": "initial_id",
   "metadata": {
    "collapsed": true,
    "ExecuteTime": {
     "end_time": "2024-05-09T12:07:02.143858Z",
     "start_time": "2024-05-09T12:07:02.073499Z"
    }
   },
   "outputs": [],
   "source": [
    "import pandas as pd\n",
    "import numpy as np\n",
    "import sklearn\n",
    "from sklearn.preprocessing import RobustScaler\n",
    "from sklearn.cluster import KMeans\n",
    "import matplotlib.pyplot as plt"
   ]
  },
  {
   "cell_type": "code",
   "execution_count": 104,
   "outputs": [],
   "source": [
    "df = pd.read_csv('../datasets/cleaned/Prepared_Dataframe.csv')"
   ],
   "metadata": {
    "collapsed": false,
    "ExecuteTime": {
     "end_time": "2024-05-09T12:07:02.230606Z",
     "start_time": "2024-05-09T12:07:02.077536Z"
    }
   },
   "id": "80ff6374087c6763"
  },
  {
   "cell_type": "code",
   "execution_count": 105,
   "outputs": [
    {
     "data": {
      "text/plain": "   Unnamed: 0                                         OutfitName  \\\n0   120161271  Being a Vans shoe model with Luke. Idk about t...   \n1   143656996                These Chanel bags is a bad habit .x   \n2   216470135  the people i choose never choose me and my hea...   \n3   216220312                                          Be happy!   \n4   192203629                                        yellow grey   \n\n                                          outfitDesc  outfitViews  \\\n0  A fashion look from April 2014 featuring destr...        188.0   \n1                                           12.19.14        562.0   \n2  A fashion look from February 2017 by exco feat...       1580.0   \n3  A fashion look from February 2017 by rasa-j fe...        591.0   \n4  A fashion look from February 2016 by lifestyle...       1122.0   \n\n   outfitLikes     Ratio                Innerwear ClothingItemName  \\\n0          9.0  0.047872                nirvana distressed t-shirt   \n1         32.0  0.056940                             monki singlet   \n2        395.0  0.250000         isabel marant alpaca blend jumper   \n3        233.0  0.394247               oasis shadow bird knit pink   \n4        153.0  0.136364  white cute animal printed ladies t-shirt   \n\n   Innerwear wearType         Innerwear ImagePath  \\\n0                 2.0  raw/images/120161271/1.jpg   \n1                 2.0  raw/images/143656996/1.jpg   \n2                 2.0  raw/images/216470135/1.jpg   \n3                 2.0  raw/images/216220312/1.jpg   \n4                 2.0  raw/images/192203629/2.jpg   \n\n              Innerwear ImagePath 256x256  ... Outerwear 2nd Dominant Color  \\\n0  datasets/images256x256/120161271/1.jpg  ...                          NaN   \n1  datasets/images256x256/143656996/1.jpg  ...                          NaN   \n2  datasets/images256x256/216470135/1.jpg  ...                          NaN   \n3  datasets/images256x256/216220312/1.jpg  ...                          NaN   \n4  datasets/images256x256/192203629/2.jpg  ...                 (80, 77, 74)   \n\n  Outerwear 2nd Dominant Hex Code Outerwear 2nd Dominant Color Name  \\\n0                             NaN                               NaN   \n1                             NaN                               NaN   \n2                             NaN                               NaN   \n3                             NaN                               NaN   \n4                         #4D4D4D                            gray30   \n\n  Outerwear 3rd Dominant Color Outerwear 3rd Dominant Hex Code  \\\n0                          NaN                             NaN   \n1                          NaN                             NaN   \n2                          NaN                             NaN   \n3                          NaN                             NaN   \n4                (100, 95, 91)                         #696158   \n\n  Outerwear 3rd Dominant Color Name Outerwear 4th Dominant Color  \\\n0                               NaN                          NaN   \n1                               NaN                          NaN   \n2                               NaN                          NaN   \n3                               NaN                          NaN   \n4                     Pantone 405 C              (106, 100, 100)   \n\n  Outerwear 4th Dominant Hex Code Outerwear 4th Dominant Color Name  \\\n0                             NaN                               NaN   \n1                             NaN                               NaN   \n2                             NaN                               NaN   \n3                             NaN                               NaN   \n4                         #696969                           DimGray   \n\n  Good_Outfit  \n0       False  \n1       False  \n2        True  \n3        True  \n4       False  \n\n[5 rows x 92 columns]",
      "text/html": "<div>\n<style scoped>\n    .dataframe tbody tr th:only-of-type {\n        vertical-align: middle;\n    }\n\n    .dataframe tbody tr th {\n        vertical-align: top;\n    }\n\n    .dataframe thead th {\n        text-align: right;\n    }\n</style>\n<table border=\"1\" class=\"dataframe\">\n  <thead>\n    <tr style=\"text-align: right;\">\n      <th></th>\n      <th>Unnamed: 0</th>\n      <th>OutfitName</th>\n      <th>outfitDesc</th>\n      <th>outfitViews</th>\n      <th>outfitLikes</th>\n      <th>Ratio</th>\n      <th>Innerwear ClothingItemName</th>\n      <th>Innerwear wearType</th>\n      <th>Innerwear ImagePath</th>\n      <th>Innerwear ImagePath 256x256</th>\n      <th>...</th>\n      <th>Outerwear 2nd Dominant Color</th>\n      <th>Outerwear 2nd Dominant Hex Code</th>\n      <th>Outerwear 2nd Dominant Color Name</th>\n      <th>Outerwear 3rd Dominant Color</th>\n      <th>Outerwear 3rd Dominant Hex Code</th>\n      <th>Outerwear 3rd Dominant Color Name</th>\n      <th>Outerwear 4th Dominant Color</th>\n      <th>Outerwear 4th Dominant Hex Code</th>\n      <th>Outerwear 4th Dominant Color Name</th>\n      <th>Good_Outfit</th>\n    </tr>\n  </thead>\n  <tbody>\n    <tr>\n      <th>0</th>\n      <td>120161271</td>\n      <td>Being a Vans shoe model with Luke. Idk about t...</td>\n      <td>A fashion look from April 2014 featuring destr...</td>\n      <td>188.0</td>\n      <td>9.0</td>\n      <td>0.047872</td>\n      <td>nirvana distressed t-shirt</td>\n      <td>2.0</td>\n      <td>raw/images/120161271/1.jpg</td>\n      <td>datasets/images256x256/120161271/1.jpg</td>\n      <td>...</td>\n      <td>NaN</td>\n      <td>NaN</td>\n      <td>NaN</td>\n      <td>NaN</td>\n      <td>NaN</td>\n      <td>NaN</td>\n      <td>NaN</td>\n      <td>NaN</td>\n      <td>NaN</td>\n      <td>False</td>\n    </tr>\n    <tr>\n      <th>1</th>\n      <td>143656996</td>\n      <td>These Chanel bags is a bad habit .x</td>\n      <td>12.19.14</td>\n      <td>562.0</td>\n      <td>32.0</td>\n      <td>0.056940</td>\n      <td>monki singlet</td>\n      <td>2.0</td>\n      <td>raw/images/143656996/1.jpg</td>\n      <td>datasets/images256x256/143656996/1.jpg</td>\n      <td>...</td>\n      <td>NaN</td>\n      <td>NaN</td>\n      <td>NaN</td>\n      <td>NaN</td>\n      <td>NaN</td>\n      <td>NaN</td>\n      <td>NaN</td>\n      <td>NaN</td>\n      <td>NaN</td>\n      <td>False</td>\n    </tr>\n    <tr>\n      <th>2</th>\n      <td>216470135</td>\n      <td>the people i choose never choose me and my hea...</td>\n      <td>A fashion look from February 2017 by exco feat...</td>\n      <td>1580.0</td>\n      <td>395.0</td>\n      <td>0.250000</td>\n      <td>isabel marant alpaca blend jumper</td>\n      <td>2.0</td>\n      <td>raw/images/216470135/1.jpg</td>\n      <td>datasets/images256x256/216470135/1.jpg</td>\n      <td>...</td>\n      <td>NaN</td>\n      <td>NaN</td>\n      <td>NaN</td>\n      <td>NaN</td>\n      <td>NaN</td>\n      <td>NaN</td>\n      <td>NaN</td>\n      <td>NaN</td>\n      <td>NaN</td>\n      <td>True</td>\n    </tr>\n    <tr>\n      <th>3</th>\n      <td>216220312</td>\n      <td>Be happy!</td>\n      <td>A fashion look from February 2017 by rasa-j fe...</td>\n      <td>591.0</td>\n      <td>233.0</td>\n      <td>0.394247</td>\n      <td>oasis shadow bird knit pink</td>\n      <td>2.0</td>\n      <td>raw/images/216220312/1.jpg</td>\n      <td>datasets/images256x256/216220312/1.jpg</td>\n      <td>...</td>\n      <td>NaN</td>\n      <td>NaN</td>\n      <td>NaN</td>\n      <td>NaN</td>\n      <td>NaN</td>\n      <td>NaN</td>\n      <td>NaN</td>\n      <td>NaN</td>\n      <td>NaN</td>\n      <td>True</td>\n    </tr>\n    <tr>\n      <th>4</th>\n      <td>192203629</td>\n      <td>yellow grey</td>\n      <td>A fashion look from February 2016 by lifestyle...</td>\n      <td>1122.0</td>\n      <td>153.0</td>\n      <td>0.136364</td>\n      <td>white cute animal printed ladies t-shirt</td>\n      <td>2.0</td>\n      <td>raw/images/192203629/2.jpg</td>\n      <td>datasets/images256x256/192203629/2.jpg</td>\n      <td>...</td>\n      <td>(80, 77, 74)</td>\n      <td>#4D4D4D</td>\n      <td>gray30</td>\n      <td>(100, 95, 91)</td>\n      <td>#696158</td>\n      <td>Pantone 405 C</td>\n      <td>(106, 100, 100)</td>\n      <td>#696969</td>\n      <td>DimGray</td>\n      <td>False</td>\n    </tr>\n  </tbody>\n</table>\n<p>5 rows × 92 columns</p>\n</div>"
     },
     "execution_count": 105,
     "metadata": {},
     "output_type": "execute_result"
    }
   ],
   "source": [
    "df.head()"
   ],
   "metadata": {
    "collapsed": false,
    "ExecuteTime": {
     "end_time": "2024-05-09T12:07:02.231004Z",
     "start_time": "2024-05-09T12:07:02.225509Z"
    }
   },
   "id": "848fa8ec05a8c4d9"
  },
  {
   "cell_type": "code",
   "execution_count": 106,
   "outputs": [],
   "source": [
    "#Rename the first column to setID\n",
    "df.rename(columns={'Unnamed: 0':'setID'}, inplace=True)"
   ],
   "metadata": {
    "collapsed": false,
    "ExecuteTime": {
     "end_time": "2024-05-09T12:07:02.231055Z",
     "start_time": "2024-05-09T12:07:02.227921Z"
    }
   },
   "id": "720e8b2f30061dab"
  },
  {
   "cell_type": "code",
   "execution_count": 107,
   "outputs": [
    {
     "data": {
      "text/plain": "       setID                                         OutfitName  \\\n0  120161271  Being a Vans shoe model with Luke. Idk about t...   \n1  143656996                These Chanel bags is a bad habit .x   \n2  216470135  the people i choose never choose me and my hea...   \n3  216220312                                          Be happy!   \n4  192203629                                        yellow grey   \n\n                                          outfitDesc  outfitViews  \\\n0  A fashion look from April 2014 featuring destr...        188.0   \n1                                           12.19.14        562.0   \n2  A fashion look from February 2017 by exco feat...       1580.0   \n3  A fashion look from February 2017 by rasa-j fe...        591.0   \n4  A fashion look from February 2016 by lifestyle...       1122.0   \n\n   outfitLikes     Ratio                Innerwear ClothingItemName  \\\n0          9.0  0.047872                nirvana distressed t-shirt   \n1         32.0  0.056940                             monki singlet   \n2        395.0  0.250000         isabel marant alpaca blend jumper   \n3        233.0  0.394247               oasis shadow bird knit pink   \n4        153.0  0.136364  white cute animal printed ladies t-shirt   \n\n   Innerwear wearType         Innerwear ImagePath  \\\n0                 2.0  raw/images/120161271/1.jpg   \n1                 2.0  raw/images/143656996/1.jpg   \n2                 2.0  raw/images/216470135/1.jpg   \n3                 2.0  raw/images/216220312/1.jpg   \n4                 2.0  raw/images/192203629/2.jpg   \n\n              Innerwear ImagePath 256x256  ... Outerwear 2nd Dominant Color  \\\n0  datasets/images256x256/120161271/1.jpg  ...                          NaN   \n1  datasets/images256x256/143656996/1.jpg  ...                          NaN   \n2  datasets/images256x256/216470135/1.jpg  ...                          NaN   \n3  datasets/images256x256/216220312/1.jpg  ...                          NaN   \n4  datasets/images256x256/192203629/2.jpg  ...                 (80, 77, 74)   \n\n  Outerwear 2nd Dominant Hex Code Outerwear 2nd Dominant Color Name  \\\n0                             NaN                               NaN   \n1                             NaN                               NaN   \n2                             NaN                               NaN   \n3                             NaN                               NaN   \n4                         #4D4D4D                            gray30   \n\n  Outerwear 3rd Dominant Color Outerwear 3rd Dominant Hex Code  \\\n0                          NaN                             NaN   \n1                          NaN                             NaN   \n2                          NaN                             NaN   \n3                          NaN                             NaN   \n4                (100, 95, 91)                         #696158   \n\n  Outerwear 3rd Dominant Color Name Outerwear 4th Dominant Color  \\\n0                               NaN                          NaN   \n1                               NaN                          NaN   \n2                               NaN                          NaN   \n3                               NaN                          NaN   \n4                     Pantone 405 C              (106, 100, 100)   \n\n  Outerwear 4th Dominant Hex Code Outerwear 4th Dominant Color Name  \\\n0                             NaN                               NaN   \n1                             NaN                               NaN   \n2                             NaN                               NaN   \n3                             NaN                               NaN   \n4                         #696969                           DimGray   \n\n  Good_Outfit  \n0       False  \n1       False  \n2        True  \n3        True  \n4       False  \n\n[5 rows x 92 columns]",
      "text/html": "<div>\n<style scoped>\n    .dataframe tbody tr th:only-of-type {\n        vertical-align: middle;\n    }\n\n    .dataframe tbody tr th {\n        vertical-align: top;\n    }\n\n    .dataframe thead th {\n        text-align: right;\n    }\n</style>\n<table border=\"1\" class=\"dataframe\">\n  <thead>\n    <tr style=\"text-align: right;\">\n      <th></th>\n      <th>setID</th>\n      <th>OutfitName</th>\n      <th>outfitDesc</th>\n      <th>outfitViews</th>\n      <th>outfitLikes</th>\n      <th>Ratio</th>\n      <th>Innerwear ClothingItemName</th>\n      <th>Innerwear wearType</th>\n      <th>Innerwear ImagePath</th>\n      <th>Innerwear ImagePath 256x256</th>\n      <th>...</th>\n      <th>Outerwear 2nd Dominant Color</th>\n      <th>Outerwear 2nd Dominant Hex Code</th>\n      <th>Outerwear 2nd Dominant Color Name</th>\n      <th>Outerwear 3rd Dominant Color</th>\n      <th>Outerwear 3rd Dominant Hex Code</th>\n      <th>Outerwear 3rd Dominant Color Name</th>\n      <th>Outerwear 4th Dominant Color</th>\n      <th>Outerwear 4th Dominant Hex Code</th>\n      <th>Outerwear 4th Dominant Color Name</th>\n      <th>Good_Outfit</th>\n    </tr>\n  </thead>\n  <tbody>\n    <tr>\n      <th>0</th>\n      <td>120161271</td>\n      <td>Being a Vans shoe model with Luke. Idk about t...</td>\n      <td>A fashion look from April 2014 featuring destr...</td>\n      <td>188.0</td>\n      <td>9.0</td>\n      <td>0.047872</td>\n      <td>nirvana distressed t-shirt</td>\n      <td>2.0</td>\n      <td>raw/images/120161271/1.jpg</td>\n      <td>datasets/images256x256/120161271/1.jpg</td>\n      <td>...</td>\n      <td>NaN</td>\n      <td>NaN</td>\n      <td>NaN</td>\n      <td>NaN</td>\n      <td>NaN</td>\n      <td>NaN</td>\n      <td>NaN</td>\n      <td>NaN</td>\n      <td>NaN</td>\n      <td>False</td>\n    </tr>\n    <tr>\n      <th>1</th>\n      <td>143656996</td>\n      <td>These Chanel bags is a bad habit .x</td>\n      <td>12.19.14</td>\n      <td>562.0</td>\n      <td>32.0</td>\n      <td>0.056940</td>\n      <td>monki singlet</td>\n      <td>2.0</td>\n      <td>raw/images/143656996/1.jpg</td>\n      <td>datasets/images256x256/143656996/1.jpg</td>\n      <td>...</td>\n      <td>NaN</td>\n      <td>NaN</td>\n      <td>NaN</td>\n      <td>NaN</td>\n      <td>NaN</td>\n      <td>NaN</td>\n      <td>NaN</td>\n      <td>NaN</td>\n      <td>NaN</td>\n      <td>False</td>\n    </tr>\n    <tr>\n      <th>2</th>\n      <td>216470135</td>\n      <td>the people i choose never choose me and my hea...</td>\n      <td>A fashion look from February 2017 by exco feat...</td>\n      <td>1580.0</td>\n      <td>395.0</td>\n      <td>0.250000</td>\n      <td>isabel marant alpaca blend jumper</td>\n      <td>2.0</td>\n      <td>raw/images/216470135/1.jpg</td>\n      <td>datasets/images256x256/216470135/1.jpg</td>\n      <td>...</td>\n      <td>NaN</td>\n      <td>NaN</td>\n      <td>NaN</td>\n      <td>NaN</td>\n      <td>NaN</td>\n      <td>NaN</td>\n      <td>NaN</td>\n      <td>NaN</td>\n      <td>NaN</td>\n      <td>True</td>\n    </tr>\n    <tr>\n      <th>3</th>\n      <td>216220312</td>\n      <td>Be happy!</td>\n      <td>A fashion look from February 2017 by rasa-j fe...</td>\n      <td>591.0</td>\n      <td>233.0</td>\n      <td>0.394247</td>\n      <td>oasis shadow bird knit pink</td>\n      <td>2.0</td>\n      <td>raw/images/216220312/1.jpg</td>\n      <td>datasets/images256x256/216220312/1.jpg</td>\n      <td>...</td>\n      <td>NaN</td>\n      <td>NaN</td>\n      <td>NaN</td>\n      <td>NaN</td>\n      <td>NaN</td>\n      <td>NaN</td>\n      <td>NaN</td>\n      <td>NaN</td>\n      <td>NaN</td>\n      <td>True</td>\n    </tr>\n    <tr>\n      <th>4</th>\n      <td>192203629</td>\n      <td>yellow grey</td>\n      <td>A fashion look from February 2016 by lifestyle...</td>\n      <td>1122.0</td>\n      <td>153.0</td>\n      <td>0.136364</td>\n      <td>white cute animal printed ladies t-shirt</td>\n      <td>2.0</td>\n      <td>raw/images/192203629/2.jpg</td>\n      <td>datasets/images256x256/192203629/2.jpg</td>\n      <td>...</td>\n      <td>(80, 77, 74)</td>\n      <td>#4D4D4D</td>\n      <td>gray30</td>\n      <td>(100, 95, 91)</td>\n      <td>#696158</td>\n      <td>Pantone 405 C</td>\n      <td>(106, 100, 100)</td>\n      <td>#696969</td>\n      <td>DimGray</td>\n      <td>False</td>\n    </tr>\n  </tbody>\n</table>\n<p>5 rows × 92 columns</p>\n</div>"
     },
     "execution_count": 107,
     "metadata": {},
     "output_type": "execute_result"
    }
   ],
   "source": [
    "df.head()"
   ],
   "metadata": {
    "collapsed": false,
    "ExecuteTime": {
     "end_time": "2024-05-09T12:07:02.242356Z",
     "start_time": "2024-05-09T12:07:02.236433Z"
    }
   },
   "id": "d456aada58b322b1"
  },
  {
   "cell_type": "code",
   "execution_count": 108,
   "outputs": [
    {
     "data": {
      "text/plain": "Index(['setID', 'OutfitName', 'outfitDesc', 'outfitViews', 'outfitLikes',\n       'Ratio', 'Innerwear ClothingItemName', 'Innerwear wearType',\n       'Innerwear ImagePath', 'Innerwear ImagePath 256x256',\n       'Innerwear ImagePath BG Removed', 'Innerwear 1st Dominant Color',\n       'Innerwear 1st Dominant Hex Code', 'Innerwear 1st Dominant Color Name',\n       'Innerwear 2nd Dominant Color', 'Innerwear 2nd Dominant Hex Code',\n       'Innerwear 2nd Dominant Color Name', 'Innerwear 3rd Dominant Color',\n       'Innerwear 3rd Dominant Hex Code', 'Innerwear 3rd Dominant Color Name',\n       'Innerwear 4th Dominant Color', 'Innerwear 4th Dominant Hex Code',\n       'Innerwear 4th Dominant Color Name', 'Bottomwear ClothingItemName',\n       'Bottomwear wearType', 'Bottomwear ImagePath',\n       'Bottomwear ImagePath 256x256', 'Bottomwear ImagePath BG Removed',\n       'Bottomwear 1st Dominant Color', 'Bottomwear 1st Dominant Hex Code',\n       'Bottomwear 1st Dominant Color Name', 'Bottomwear 2nd Dominant Color',\n       'Bottomwear 2nd Dominant Hex Code',\n       'Bottomwear 2nd Dominant Color Name', 'Bottomwear 3rd Dominant Color',\n       'Bottomwear 3rd Dominant Hex Code',\n       'Bottomwear 3rd Dominant Color Name', 'Bottomwear 4th Dominant Color',\n       'Bottomwear 4th Dominant Hex Code',\n       'Bottomwear 4th Dominant Color Name', 'Accessoire ClothingItemName',\n       'Accessoire wearType', 'Accessoire ImagePath',\n       'Accessoire ImagePath 256x256', 'Accessoire ImagePath BG Removed',\n       'Accessoire 1st Dominant Color', 'Accessoire 1st Dominant Hex Code',\n       'Accessoire 1st Dominant Color Name', 'Accessoire 2nd Dominant Color',\n       'Accessoire 2nd Dominant Hex Code',\n       'Accessoire 2nd Dominant Color Name', 'Accessoire 3rd Dominant Color',\n       'Accessoire 3rd Dominant Hex Code',\n       'Accessoire 3rd Dominant Color Name', 'Accessoire 4th Dominant Color',\n       'Accessoire 4th Dominant Hex Code',\n       'Accessoire 4th Dominant Color Name', 'Shoes ClothingItemName',\n       'Shoes wearType', 'Shoes ImagePath', 'Shoes ImagePath 256x256',\n       'Shoes ImagePath BG Removed', 'Shoes 1st Dominant Color',\n       'Shoes 1st Dominant Hex Code', 'Shoes 1st Dominant Color Name',\n       'Shoes 2nd Dominant Color', 'Shoes 2nd Dominant Hex Code',\n       'Shoes 2nd Dominant Color Name', 'Shoes 3rd Dominant Color',\n       'Shoes 3rd Dominant Hex Code', 'Shoes 3rd Dominant Color Name',\n       'Shoes 4th Dominant Color', 'Shoes 4th Dominant Hex Code',\n       'Shoes 4th Dominant Color Name', 'Outerwear ClothingItemName',\n       'Outerwear wearType', 'Outerwear ImagePath',\n       'Outerwear ImagePath 256x256', 'Outerwear ImagePath BG Removed',\n       'Outerwear 1st Dominant Color', 'Outerwear 1st Dominant Hex Code',\n       'Outerwear 1st Dominant Color Name', 'Outerwear 2nd Dominant Color',\n       'Outerwear 2nd Dominant Hex Code', 'Outerwear 2nd Dominant Color Name',\n       'Outerwear 3rd Dominant Color', 'Outerwear 3rd Dominant Hex Code',\n       'Outerwear 3rd Dominant Color Name', 'Outerwear 4th Dominant Color',\n       'Outerwear 4th Dominant Hex Code', 'Outerwear 4th Dominant Color Name',\n       'Good_Outfit'],\n      dtype='object')"
     },
     "execution_count": 108,
     "metadata": {},
     "output_type": "execute_result"
    }
   ],
   "source": [
    "df.columns"
   ],
   "metadata": {
    "collapsed": false,
    "ExecuteTime": {
     "end_time": "2024-05-09T12:07:02.242612Z",
     "start_time": "2024-05-09T12:07:02.239249Z"
    }
   },
   "id": "17f81e3b94b8e463"
  },
  {
   "cell_type": "code",
   "execution_count": 109,
   "outputs": [],
   "source": [
    "dfcolor = df[[\"Innerwear 1st Dominant Color\", \"Innerwear 2nd Dominant Color\", \"Innerwear 3rd Dominant Color\", \"Innerwear 4th Dominant Color\", \"Bottomwear 1st Dominant Color\", \"Bottomwear 2nd Dominant Color\", \"Bottomwear 3rd Dominant Color\", \"Bottomwear 4th Dominant Color\", \"Accessoire 1st Dominant Color\", \"Accessoire 2nd Dominant Color\", \"Accessoire 3rd Dominant Color\", \"Accessoire 4th Dominant Color\", \"Shoes 1st Dominant Color\", \"Shoes 2nd Dominant Color\", \"Shoes 3rd Dominant Color\", \"Shoes 4th Dominant Color\", \"Outerwear 1st Dominant Color\", \"Outerwear 2nd Dominant Color\", \"Outerwear 3rd Dominant Color\", \"Outerwear 4th Dominant Color\"]] "
   ],
   "metadata": {
    "collapsed": false,
    "ExecuteTime": {
     "end_time": "2024-05-09T12:07:02.245725Z",
     "start_time": "2024-05-09T12:07:02.242030Z"
    }
   },
   "id": "ff7b7580388d3f5a"
  },
  {
   "cell_type": "code",
   "execution_count": 110,
   "outputs": [
    {
     "data": {
      "text/plain": "     Innerwear 1st Dominant Color Innerwear 2nd Dominant Color  \\\n0                    (30, 29, 28)               (185, 175, 70)   \n1                    (26, 26, 26)              (116, 116, 116)   \n2                 (222, 215, 200)              (148, 146, 141)   \n3                 (228, 212, 207)                 (70, 51, 56)   \n4                 (224, 221, 216)                 (69, 68, 64)   \n...                           ...                          ...   \n6718               (33, 139, 129)              (132, 232, 226)   \n6719                 (28, 24, 24)                 (84, 83, 83)   \n6720                 (55, 51, 45)               (198, 154, 33)   \n6721               (158, 102, 47)              (145, 125, 103)   \n6722              (219, 215, 205)                 (37, 32, 29)   \n\n     Innerwear 3rd Dominant Color Innerwear 4th Dominant Color  \\\n0                    (93, 93, 93)               (124, 124, 56)   \n1                 (100, 100, 100)                 (92, 92, 92)   \n2                 (177, 166, 147)              (172, 156, 138)   \n3                 (129, 127, 127)              (147, 117, 107)   \n4                  (125, 125, 93)              (116, 108, 105)   \n...                           ...                          ...   \n6718                  (7, 54, 47)              (129, 185, 182)   \n6719                 (68, 68, 67)                 (76, 69, 68)   \n6720              (132, 136, 113)              (124, 123, 124)   \n6721                (105, 66, 33)                  (91, 42, 8)   \n6722              (116, 108, 108)              (116, 116, 108)   \n\n     Bottomwear 1st Dominant Color Bottomwear 2nd Dominant Color  \\\n0                     (43, 40, 37)               (174, 169, 159)   \n1                     (23, 21, 20)               (199, 198, 194)   \n2                  (120, 129, 163)               (197, 202, 212)   \n3                  (176, 165, 154)               (125, 119, 114)   \n4                  (171, 173, 169)                  (59, 61, 59)   \n...                            ...                           ...   \n6718               (113, 128, 144)               (199, 201, 202)   \n6719               (173, 166, 152)                  (63, 54, 42)   \n6720                  (31, 29, 31)                  (98, 97, 97)   \n6721                  (25, 24, 32)               (196, 196, 198)   \n6722                  (65, 68, 48)               (195, 198, 186)   \n\n     Bottomwear 3rd Dominant Color Bottomwear 4th Dominant Color  \\\n0                  (130, 132, 127)               (125, 124, 124)   \n1                  (132, 132, 132)               (124, 124, 124)   \n2                  (179, 188, 204)                  (55, 60, 86)   \n3                  (132, 132, 126)               (141, 132, 116)   \n4                   (100, 100, 97)               (104, 108, 100)   \n...                            ...                           ...   \n6718               (180, 196, 201)               (177, 188, 204)   \n6719                  (92, 84, 67)                  (84, 84, 67)   \n6720                  (76, 76, 76)                  (74, 68, 76)   \n6721               (132, 132, 132)               (124, 124, 132)   \n6722               (154, 156, 148)               (156, 164, 148)   \n\n     Accessoire 1st Dominant Color Accessoire 2nd Dominant Color  \\\n0                              NaN                           NaN   \n1                  (228, 226, 221)                  (68, 62, 55)   \n2                              NaN                           NaN   \n3                  (214, 188, 178)                  (75, 61, 57)   \n4                  (231, 218, 156)                 (116, 92, 52)   \n...                            ...                           ...   \n6718                (49, 145, 133)                  (15, 48, 42)   \n6719               (216, 207, 176)                  (31, 25, 12)   \n6720               (222, 199, 173)                (143, 111, 67)   \n6721                           NaN                           NaN   \n6722                  (62, 58, 49)               (209, 203, 194)   \n\n     Accessoire 3rd Dominant Color Accessoire 4th Dominant Color  \\\n0                              NaN                           NaN   \n1                  (117, 107, 100)               (122, 117, 107)   \n2                              NaN                           NaN   \n3                   (117, 100, 92)                 (116, 91, 87)   \n4                  (121, 120, 107)                (154, 126, 61)   \n...                            ...                           ...   \n6718               (162, 175, 170)                  (23, 76, 60)   \n6719                (134, 122, 77)                (118, 100, 60)   \n6720               (127, 121, 111)                (149, 116, 93)   \n6721                           NaN                           NaN   \n6722               (156, 156, 147)               (154, 148, 148)   \n\n     Shoes 1st Dominant Color Shoes 2nd Dominant Color  \\\n0                         NaN                      NaN   \n1                         NaN                      NaN   \n2             (166, 163, 161)             (91, 68, 58)   \n3             (218, 190, 170)           (152, 113, 79)   \n4                         NaN                      NaN   \n...                       ...                      ...   \n6718           (53, 147, 134)             (57, 58, 32)   \n6719                      NaN                      NaN   \n6720                      NaN                      NaN   \n6721            (145, 93, 59)             (60, 43, 32)   \n6722            (104, 90, 68)          (230, 226, 221)   \n\n     Shoes 3rd Dominant Color Shoes 4th Dominant Color  \\\n0                         NaN                      NaN   \n1                         NaN                      NaN   \n2                (62, 54, 52)            (110, 88, 73)   \n3                (81, 61, 47)           (110, 105, 97)   \n4                         NaN                      NaN   \n...                       ...                      ...   \n6718             (77, 80, 42)          (188, 238, 227)   \n6719                      NaN                      NaN   \n6720                      NaN                      NaN   \n6721          (201, 184, 161)          (175, 162, 149)   \n6722          (190, 143, 103)          (175, 168, 166)   \n\n     Outerwear 1st Dominant Color Outerwear 2nd Dominant Color  \\\n0                             NaN                          NaN   \n1                             NaN                          NaN   \n2                             NaN                          NaN   \n3                             NaN                          NaN   \n4                 (164, 161, 159)                 (80, 77, 74)   \n...                           ...                          ...   \n6718                          NaN                          NaN   \n6719              (239, 224, 188)              (141, 134, 119)   \n6720               (190, 154, 48)              (212, 192, 164)   \n6721                          NaN                          NaN   \n6722                 (69, 78, 47)              (189, 193, 178)   \n\n     Outerwear 3rd Dominant Color Outerwear 4th Dominant Color  \n0                             NaN                          NaN  \n1                             NaN                          NaN  \n2                             NaN                          NaN  \n3                             NaN                          NaN  \n4                   (100, 95, 91)              (106, 100, 100)  \n...                           ...                          ...  \n6718                          NaN                          NaN  \n6719              (184, 156, 106)               (166, 137, 95)  \n6720                (115, 68, 32)                (120, 97, 70)  \n6721                          NaN                          NaN  \n6722              (148, 156, 137)              (146, 146, 141)  \n\n[6723 rows x 20 columns]",
      "text/html": "<div>\n<style scoped>\n    .dataframe tbody tr th:only-of-type {\n        vertical-align: middle;\n    }\n\n    .dataframe tbody tr th {\n        vertical-align: top;\n    }\n\n    .dataframe thead th {\n        text-align: right;\n    }\n</style>\n<table border=\"1\" class=\"dataframe\">\n  <thead>\n    <tr style=\"text-align: right;\">\n      <th></th>\n      <th>Innerwear 1st Dominant Color</th>\n      <th>Innerwear 2nd Dominant Color</th>\n      <th>Innerwear 3rd Dominant Color</th>\n      <th>Innerwear 4th Dominant Color</th>\n      <th>Bottomwear 1st Dominant Color</th>\n      <th>Bottomwear 2nd Dominant Color</th>\n      <th>Bottomwear 3rd Dominant Color</th>\n      <th>Bottomwear 4th Dominant Color</th>\n      <th>Accessoire 1st Dominant Color</th>\n      <th>Accessoire 2nd Dominant Color</th>\n      <th>Accessoire 3rd Dominant Color</th>\n      <th>Accessoire 4th Dominant Color</th>\n      <th>Shoes 1st Dominant Color</th>\n      <th>Shoes 2nd Dominant Color</th>\n      <th>Shoes 3rd Dominant Color</th>\n      <th>Shoes 4th Dominant Color</th>\n      <th>Outerwear 1st Dominant Color</th>\n      <th>Outerwear 2nd Dominant Color</th>\n      <th>Outerwear 3rd Dominant Color</th>\n      <th>Outerwear 4th Dominant Color</th>\n    </tr>\n  </thead>\n  <tbody>\n    <tr>\n      <th>0</th>\n      <td>(30, 29, 28)</td>\n      <td>(185, 175, 70)</td>\n      <td>(93, 93, 93)</td>\n      <td>(124, 124, 56)</td>\n      <td>(43, 40, 37)</td>\n      <td>(174, 169, 159)</td>\n      <td>(130, 132, 127)</td>\n      <td>(125, 124, 124)</td>\n      <td>NaN</td>\n      <td>NaN</td>\n      <td>NaN</td>\n      <td>NaN</td>\n      <td>NaN</td>\n      <td>NaN</td>\n      <td>NaN</td>\n      <td>NaN</td>\n      <td>NaN</td>\n      <td>NaN</td>\n      <td>NaN</td>\n      <td>NaN</td>\n    </tr>\n    <tr>\n      <th>1</th>\n      <td>(26, 26, 26)</td>\n      <td>(116, 116, 116)</td>\n      <td>(100, 100, 100)</td>\n      <td>(92, 92, 92)</td>\n      <td>(23, 21, 20)</td>\n      <td>(199, 198, 194)</td>\n      <td>(132, 132, 132)</td>\n      <td>(124, 124, 124)</td>\n      <td>(228, 226, 221)</td>\n      <td>(68, 62, 55)</td>\n      <td>(117, 107, 100)</td>\n      <td>(122, 117, 107)</td>\n      <td>NaN</td>\n      <td>NaN</td>\n      <td>NaN</td>\n      <td>NaN</td>\n      <td>NaN</td>\n      <td>NaN</td>\n      <td>NaN</td>\n      <td>NaN</td>\n    </tr>\n    <tr>\n      <th>2</th>\n      <td>(222, 215, 200)</td>\n      <td>(148, 146, 141)</td>\n      <td>(177, 166, 147)</td>\n      <td>(172, 156, 138)</td>\n      <td>(120, 129, 163)</td>\n      <td>(197, 202, 212)</td>\n      <td>(179, 188, 204)</td>\n      <td>(55, 60, 86)</td>\n      <td>NaN</td>\n      <td>NaN</td>\n      <td>NaN</td>\n      <td>NaN</td>\n      <td>(166, 163, 161)</td>\n      <td>(91, 68, 58)</td>\n      <td>(62, 54, 52)</td>\n      <td>(110, 88, 73)</td>\n      <td>NaN</td>\n      <td>NaN</td>\n      <td>NaN</td>\n      <td>NaN</td>\n    </tr>\n    <tr>\n      <th>3</th>\n      <td>(228, 212, 207)</td>\n      <td>(70, 51, 56)</td>\n      <td>(129, 127, 127)</td>\n      <td>(147, 117, 107)</td>\n      <td>(176, 165, 154)</td>\n      <td>(125, 119, 114)</td>\n      <td>(132, 132, 126)</td>\n      <td>(141, 132, 116)</td>\n      <td>(214, 188, 178)</td>\n      <td>(75, 61, 57)</td>\n      <td>(117, 100, 92)</td>\n      <td>(116, 91, 87)</td>\n      <td>(218, 190, 170)</td>\n      <td>(152, 113, 79)</td>\n      <td>(81, 61, 47)</td>\n      <td>(110, 105, 97)</td>\n      <td>NaN</td>\n      <td>NaN</td>\n      <td>NaN</td>\n      <td>NaN</td>\n    </tr>\n    <tr>\n      <th>4</th>\n      <td>(224, 221, 216)</td>\n      <td>(69, 68, 64)</td>\n      <td>(125, 125, 93)</td>\n      <td>(116, 108, 105)</td>\n      <td>(171, 173, 169)</td>\n      <td>(59, 61, 59)</td>\n      <td>(100, 100, 97)</td>\n      <td>(104, 108, 100)</td>\n      <td>(231, 218, 156)</td>\n      <td>(116, 92, 52)</td>\n      <td>(121, 120, 107)</td>\n      <td>(154, 126, 61)</td>\n      <td>NaN</td>\n      <td>NaN</td>\n      <td>NaN</td>\n      <td>NaN</td>\n      <td>(164, 161, 159)</td>\n      <td>(80, 77, 74)</td>\n      <td>(100, 95, 91)</td>\n      <td>(106, 100, 100)</td>\n    </tr>\n    <tr>\n      <th>...</th>\n      <td>...</td>\n      <td>...</td>\n      <td>...</td>\n      <td>...</td>\n      <td>...</td>\n      <td>...</td>\n      <td>...</td>\n      <td>...</td>\n      <td>...</td>\n      <td>...</td>\n      <td>...</td>\n      <td>...</td>\n      <td>...</td>\n      <td>...</td>\n      <td>...</td>\n      <td>...</td>\n      <td>...</td>\n      <td>...</td>\n      <td>...</td>\n      <td>...</td>\n    </tr>\n    <tr>\n      <th>6718</th>\n      <td>(33, 139, 129)</td>\n      <td>(132, 232, 226)</td>\n      <td>(7, 54, 47)</td>\n      <td>(129, 185, 182)</td>\n      <td>(113, 128, 144)</td>\n      <td>(199, 201, 202)</td>\n      <td>(180, 196, 201)</td>\n      <td>(177, 188, 204)</td>\n      <td>(49, 145, 133)</td>\n      <td>(15, 48, 42)</td>\n      <td>(162, 175, 170)</td>\n      <td>(23, 76, 60)</td>\n      <td>(53, 147, 134)</td>\n      <td>(57, 58, 32)</td>\n      <td>(77, 80, 42)</td>\n      <td>(188, 238, 227)</td>\n      <td>NaN</td>\n      <td>NaN</td>\n      <td>NaN</td>\n      <td>NaN</td>\n    </tr>\n    <tr>\n      <th>6719</th>\n      <td>(28, 24, 24)</td>\n      <td>(84, 83, 83)</td>\n      <td>(68, 68, 67)</td>\n      <td>(76, 69, 68)</td>\n      <td>(173, 166, 152)</td>\n      <td>(63, 54, 42)</td>\n      <td>(92, 84, 67)</td>\n      <td>(84, 84, 67)</td>\n      <td>(216, 207, 176)</td>\n      <td>(31, 25, 12)</td>\n      <td>(134, 122, 77)</td>\n      <td>(118, 100, 60)</td>\n      <td>NaN</td>\n      <td>NaN</td>\n      <td>NaN</td>\n      <td>NaN</td>\n      <td>(239, 224, 188)</td>\n      <td>(141, 134, 119)</td>\n      <td>(184, 156, 106)</td>\n      <td>(166, 137, 95)</td>\n    </tr>\n    <tr>\n      <th>6720</th>\n      <td>(55, 51, 45)</td>\n      <td>(198, 154, 33)</td>\n      <td>(132, 136, 113)</td>\n      <td>(124, 123, 124)</td>\n      <td>(31, 29, 31)</td>\n      <td>(98, 97, 97)</td>\n      <td>(76, 76, 76)</td>\n      <td>(74, 68, 76)</td>\n      <td>(222, 199, 173)</td>\n      <td>(143, 111, 67)</td>\n      <td>(127, 121, 111)</td>\n      <td>(149, 116, 93)</td>\n      <td>NaN</td>\n      <td>NaN</td>\n      <td>NaN</td>\n      <td>NaN</td>\n      <td>(190, 154, 48)</td>\n      <td>(212, 192, 164)</td>\n      <td>(115, 68, 32)</td>\n      <td>(120, 97, 70)</td>\n    </tr>\n    <tr>\n      <th>6721</th>\n      <td>(158, 102, 47)</td>\n      <td>(145, 125, 103)</td>\n      <td>(105, 66, 33)</td>\n      <td>(91, 42, 8)</td>\n      <td>(25, 24, 32)</td>\n      <td>(196, 196, 198)</td>\n      <td>(132, 132, 132)</td>\n      <td>(124, 124, 132)</td>\n      <td>NaN</td>\n      <td>NaN</td>\n      <td>NaN</td>\n      <td>NaN</td>\n      <td>(145, 93, 59)</td>\n      <td>(60, 43, 32)</td>\n      <td>(201, 184, 161)</td>\n      <td>(175, 162, 149)</td>\n      <td>NaN</td>\n      <td>NaN</td>\n      <td>NaN</td>\n      <td>NaN</td>\n    </tr>\n    <tr>\n      <th>6722</th>\n      <td>(219, 215, 205)</td>\n      <td>(37, 32, 29)</td>\n      <td>(116, 108, 108)</td>\n      <td>(116, 116, 108)</td>\n      <td>(65, 68, 48)</td>\n      <td>(195, 198, 186)</td>\n      <td>(154, 156, 148)</td>\n      <td>(156, 164, 148)</td>\n      <td>(62, 58, 49)</td>\n      <td>(209, 203, 194)</td>\n      <td>(156, 156, 147)</td>\n      <td>(154, 148, 148)</td>\n      <td>(104, 90, 68)</td>\n      <td>(230, 226, 221)</td>\n      <td>(190, 143, 103)</td>\n      <td>(175, 168, 166)</td>\n      <td>(69, 78, 47)</td>\n      <td>(189, 193, 178)</td>\n      <td>(148, 156, 137)</td>\n      <td>(146, 146, 141)</td>\n    </tr>\n  </tbody>\n</table>\n<p>6723 rows × 20 columns</p>\n</div>"
     },
     "execution_count": 110,
     "metadata": {},
     "output_type": "execute_result"
    }
   ],
   "source": [
    "dfcolor"
   ],
   "metadata": {
    "collapsed": false,
    "ExecuteTime": {
     "end_time": "2024-05-09T12:07:02.252090Z",
     "start_time": "2024-05-09T12:07:02.249261Z"
    }
   },
   "id": "3cef3199dbed1a6c"
  },
  {
   "cell_type": "code",
   "execution_count": 111,
   "outputs": [],
   "source": [
    "#How to merge all the columns into one column\n",
    "df['Merged Colors'] = dfcolor.apply(lambda x: ', '.join(x.dropna().astype(str)), axis=1)"
   ],
   "metadata": {
    "collapsed": false,
    "ExecuteTime": {
     "end_time": "2024-05-09T12:07:02.494465Z",
     "start_time": "2024-05-09T12:07:02.292788Z"
    }
   },
   "id": "a500cabe959a3908"
  },
  {
   "cell_type": "code",
   "execution_count": 112,
   "outputs": [],
   "source": [
    "all_colors = pd.concat([dfcolor[col] for col in dfcolor.columns])\n",
    "\n",
    "all_colors.reset_index(drop=True, inplace=True)\n"
   ],
   "metadata": {
    "collapsed": false,
    "ExecuteTime": {
     "end_time": "2024-05-09T12:07:02.500992Z",
     "start_time": "2024-05-09T12:07:02.495244Z"
    }
   },
   "id": "1c3e8e85e3fb1fde"
  },
  {
   "cell_type": "code",
   "execution_count": 113,
   "outputs": [],
   "source": [
    "#Make unique values only\n",
    "all_colors = pd.DataFrame(all_colors , columns=['Colors'])"
   ],
   "metadata": {
    "collapsed": false,
    "ExecuteTime": {
     "end_time": "2024-05-09T12:07:02.501140Z",
     "start_time": "2024-05-09T12:07:02.498699Z"
    }
   },
   "id": "b4d7995a3b050939"
  },
  {
   "cell_type": "code",
   "execution_count": 114,
   "outputs": [],
   "source": [
    "all_colors.dropna(axis=0, inplace=True)"
   ],
   "metadata": {
    "collapsed": false,
    "ExecuteTime": {
     "end_time": "2024-05-09T12:07:02.507314Z",
     "start_time": "2024-05-09T12:07:02.503206Z"
    }
   },
   "id": "ce30f900d56caa0d"
  },
  {
   "cell_type": "code",
   "execution_count": 115,
   "outputs": [],
   "source": [
    "all_colors = all_colors.drop_duplicates()"
   ],
   "metadata": {
    "collapsed": false,
    "ExecuteTime": {
     "end_time": "2024-05-09T12:07:02.513672Z",
     "start_time": "2024-05-09T12:07:02.511121Z"
    }
   },
   "id": "40cfbcc524490921"
  },
  {
   "cell_type": "code",
   "execution_count": 116,
   "outputs": [
    {
     "data": {
      "text/plain": "            Colors\n0     (30, 29, 28)\n1     (26, 26, 26)\n2  (222, 215, 200)\n3  (228, 212, 207)\n4  (224, 221, 216)",
      "text/html": "<div>\n<style scoped>\n    .dataframe tbody tr th:only-of-type {\n        vertical-align: middle;\n    }\n\n    .dataframe tbody tr th {\n        vertical-align: top;\n    }\n\n    .dataframe thead th {\n        text-align: right;\n    }\n</style>\n<table border=\"1\" class=\"dataframe\">\n  <thead>\n    <tr style=\"text-align: right;\">\n      <th></th>\n      <th>Colors</th>\n    </tr>\n  </thead>\n  <tbody>\n    <tr>\n      <th>0</th>\n      <td>(30, 29, 28)</td>\n    </tr>\n    <tr>\n      <th>1</th>\n      <td>(26, 26, 26)</td>\n    </tr>\n    <tr>\n      <th>2</th>\n      <td>(222, 215, 200)</td>\n    </tr>\n    <tr>\n      <th>3</th>\n      <td>(228, 212, 207)</td>\n    </tr>\n    <tr>\n      <th>4</th>\n      <td>(224, 221, 216)</td>\n    </tr>\n  </tbody>\n</table>\n</div>"
     },
     "execution_count": 116,
     "metadata": {},
     "output_type": "execute_result"
    }
   ],
   "source": [
    "all_colors.head()"
   ],
   "metadata": {
    "collapsed": false,
    "ExecuteTime": {
     "end_time": "2024-05-09T12:07:02.519633Z",
     "start_time": "2024-05-09T12:07:02.517236Z"
    }
   },
   "id": "4ced5de38a48a1e6"
  },
  {
   "cell_type": "code",
   "execution_count": 117,
   "outputs": [],
   "source": [
    "all_colors['List'] = all_colors['Colors'].apply(lambda x: list(map(int, x.strip('()').split(','))))"
   ],
   "metadata": {
    "collapsed": false,
    "ExecuteTime": {
     "end_time": "2024-05-09T12:07:02.615634Z",
     "start_time": "2024-05-09T12:07:02.614362Z"
    }
   },
   "id": "493bcf819329b174"
  },
  {
   "cell_type": "code",
   "execution_count": 118,
   "outputs": [],
   "source": [
    "X = all_colors['List'].to_list()"
   ],
   "metadata": {
    "collapsed": false,
    "ExecuteTime": {
     "end_time": "2024-05-09T12:07:02.621384Z",
     "start_time": "2024-05-09T12:07:02.617030Z"
    }
   },
   "id": "1e3e83df11d4c1ba"
  },
  {
   "cell_type": "code",
   "execution_count": 119,
   "outputs": [
    {
     "data": {
      "text/plain": "[[30, 29, 28],\n [26, 26, 26],\n [222, 215, 200],\n [228, 212, 207],\n [224, 221, 216],\n [16, 12, 12],\n [30, 30, 30],\n [239, 239, 241],\n [166, 11, 30],\n [24, 48, 38],\n [185, 184, 185],\n [148, 149, 152],\n [109, 101, 68],\n [88, 122, 159],\n [208, 5, 11],\n [209, 221, 231],\n [80, 167, 203],\n [215, 33, 37],\n [96, 171, 210],\n [105, 83, 79],\n [234, 200, 196],\n [235, 233, 226],\n [33, 29, 26],\n [126, 120, 110],\n [229, 229, 232],\n [37, 45, 99],\n [20, 21, 23],\n [216, 216, 214],\n [214, 197, 166],\n [218, 218, 216],\n [12, 74, 129],\n [218, 190, 52],\n [249, 172, 212],\n [232, 49, 54],\n [247, 206, 46],\n [23, 24, 33],\n [211, 191, 178],\n [27, 25, 27],\n [214, 214, 216],\n [226, 227, 224],\n [74, 23, 31],\n [19, 18, 21],\n [16, 15, 19],\n [50, 50, 50],\n [241, 171, 163],\n [236, 103, 79],\n [19, 19, 19],\n [29, 27, 27],\n [132, 166, 191],\n [191, 186, 176],\n [118, 59, 65],\n [241, 241, 243],\n [168, 167, 169],\n [224, 223, 229],\n [37, 37, 36],\n [242, 227, 225],\n [15, 15, 15],\n [209, 207, 202],\n [170, 130, 168],\n [234, 232, 233],\n [40, 45, 77],\n [104, 96, 98],\n [246, 160, 148],\n [200, 197, 184],\n [176, 201, 221],\n [156, 131, 80],\n [25, 25, 29],\n [198, 197, 193],\n [241, 232, 209],\n [236, 238, 240],\n [225, 225, 224],\n [234, 235, 232],\n [23, 22, 24],\n [73, 18, 14],\n [238, 84, 57],\n [235, 203, 178],\n [149, 172, 184],\n [220, 219, 210],\n [215, 212, 214],\n [124, 153, 177],\n [219, 219, 219],\n [69, 80, 58],\n [227, 225, 220],\n [240, 240, 241],\n [207, 201, 188],\n [44, 72, 75],\n [77, 70, 75],\n [5, 95, 102],\n [149, 149, 151],\n [226, 226, 223],\n [152, 172, 202],\n [238, 214, 67],\n [80, 80, 83],\n [50, 48, 56],\n [25, 25, 25],\n [28, 28, 27],\n [244, 227, 92],\n [238, 216, 90],\n [208, 195, 177],\n [40, 39, 37],\n [212, 198, 180],\n [245, 85, 20],\n [39, 32, 32],\n [221, 213, 198],\n [240, 55, 55],\n [32, 27, 23],\n [237, 92, 105],\n [214, 213, 216],\n [235, 192, 44],\n [228, 229, 229],\n [240, 240, 238],\n [221, 221, 225],\n [251, 226, 57],\n [25, 26, 27],\n [140, 150, 172],\n [74, 77, 59],\n [170, 187, 203],\n [225, 225, 225],\n [176, 169, 162],\n [143, 144, 139],\n [204, 190, 167],\n [187, 187, 187],\n [13, 12, 12],\n [51, 6, 8],\n [21, 21, 21],\n [45, 42, 41],\n [61, 60, 61],\n [233, 225, 221],\n [219, 215, 201],\n [214, 213, 206],\n [240, 235, 228],\n [231, 232, 237],\n [193, 201, 221],\n [227, 211, 194],\n [238, 239, 239],\n [226, 209, 203],\n [195, 188, 180],\n [7, 132, 173],\n [190, 139, 121],\n [81, 122, 166],\n [222, 201, 99],\n [156, 156, 158],\n [242, 168, 77],\n [239, 213, 203],\n [150, 148, 143],\n [229, 230, 235],\n [12, 10, 11],\n [231, 211, 213],\n [43, 47, 49],\n [41, 41, 46],\n [224, 225, 229],\n [241, 243, 246],\n [223, 218, 203],\n [23, 23, 27],\n [66, 54, 48],\n [19, 18, 18],\n [227, 214, 198],\n [178, 37, 37],\n [232, 190, 188],\n [249, 140, 116],\n [216, 183, 177],\n [224, 190, 181],\n [234, 143, 172],\n [41, 59, 129],\n [138, 138, 138],\n [35, 33, 27],\n [232, 232, 232],\n [165, 165, 169],\n [236, 235, 239],\n [33, 26, 34],\n [223, 203, 188],\n [76, 30, 34],\n [48, 45, 49],\n [27, 27, 31],\n [242, 236, 226],\n [237, 234, 229],\n [151, 31, 31],\n [40, 35, 37],\n [196, 193, 191],\n [221, 195, 175],\n [225, 226, 232],\n [212, 205, 197],\n [126, 116, 87],\n [39, 39, 37],\n [192, 168, 161],\n [233, 233, 233],\n [24, 24, 24],\n [221, 223, 225],\n [225, 218, 207],\n [192, 207, 207],\n [20, 15, 12],\n [236, 229, 217],\n [228, 214, 211],\n [22, 19, 17],\n [68, 78, 88],\n [235, 231, 226],\n [221, 218, 216],\n [175, 200, 220],\n [188, 178, 177],\n [218, 209, 198],\n [242, 242, 242],\n [43, 39, 42],\n [71, 81, 97],\n [231, 231, 232],\n [224, 223, 221],\n [72, 42, 46],\n [26, 28, 29],\n [20, 20, 23],\n [219, 189, 175],\n [234, 200, 210],\n [238, 207, 221],\n [32, 30, 30],\n [99, 148, 98],\n [235, 237, 236],\n [243, 228, 219],\n [226, 220, 218],\n [217, 217, 217],\n [20, 18, 18],\n [231, 162, 150],\n [44, 104, 139],\n [192, 201, 194],\n [167, 166, 160],\n [226, 212, 195],\n [70, 65, 64],\n [168, 166, 170],\n [168, 173, 185],\n [217, 177, 79],\n [203, 200, 200],\n [30, 51, 130],\n [234, 234, 236],\n [238, 239, 235],\n [234, 234, 234],\n [210, 173, 159],\n [238, 195, 200],\n [200, 168, 154],\n [211, 204, 192],\n [235, 234, 231],\n [100, 104, 105],\n [219, 217, 217],\n [202, 222, 188],\n [90, 36, 43],\n [224, 222, 224],\n [138, 113, 181],\n [31, 31, 31],\n [243, 238, 228],\n [36, 34, 37],\n [236, 235, 240],\n [11, 11, 11],\n [116, 122, 109],\n [56, 50, 52],\n [213, 199, 194],\n [44, 41, 38],\n [176, 58, 102],\n [206, 196, 187],\n [219, 220, 223],\n [120, 168, 232],\n [226, 225, 224],\n [234, 231, 235],\n [215, 215, 215],\n [233, 233, 237],\n [220, 207, 199],\n [220, 195, 188],\n [29, 37, 99],\n [221, 218, 217],\n [170, 121, 88],\n [208, 186, 190],\n [61, 58, 65],\n [170, 218, 214],\n [242, 233, 217],\n [28, 28, 32],\n [233, 226, 218],\n [207, 198, 184],\n [209, 206, 192],\n [239, 234, 226],\n [238, 236, 237],\n [197, 197, 194],\n [227, 181, 66],\n [224, 225, 226],\n [230, 209, 196],\n [32, 41, 121],\n [27, 26, 30],\n [219, 199, 180],\n [234, 234, 235],\n [217, 207, 200],\n [144, 25, 37],\n [51, 49, 48],\n [35, 31, 32],\n [236, 234, 229],\n [70, 76, 98],\n [196, 199, 200],\n [222, 200, 170],\n [129, 23, 53],\n [215, 200, 78],\n [74, 67, 71],\n [86, 33, 43],\n [233, 151, 43],\n [112, 38, 55],\n [220, 208, 194],\n [237, 235, 227],\n [236, 218, 195],\n [249, 215, 197],\n [248, 177, 140],\n [59, 54, 55],\n [211, 213, 218],\n [110, 117, 142],\n [235, 231, 236],\n [185, 172, 179],\n [202, 167, 181],\n [222, 217, 217],\n [183, 198, 198],\n [218, 200, 191],\n [186, 135, 105],\n [219, 215, 220],\n [232, 201, 197],\n [37, 36, 37],\n [231, 231, 231],\n [194, 173, 188],\n [240, 234, 224],\n [236, 236, 236],\n [225, 106, 54],\n [230, 230, 230],\n [234, 177, 126],\n [92, 70, 58],\n [216, 212, 207],\n [211, 174, 169],\n [234, 235, 240],\n [215, 214, 222],\n [163, 181, 229],\n [38, 39, 35],\n [63, 62, 65],\n [127, 82, 79],\n [43, 43, 43],\n [40, 39, 38],\n [182, 152, 140],\n [18, 18, 18],\n [172, 90, 50],\n [240, 236, 230],\n [96, 128, 170],\n [219, 212, 192],\n [223, 226, 232],\n [181, 195, 211],\n [148, 178, 228],\n [45, 44, 41],\n [36, 32, 27],\n [23, 17, 17],\n [76, 42, 23],\n [46, 49, 50],\n [238, 194, 83],\n [197, 169, 159],\n [221, 201, 187],\n [23, 22, 22],\n [26, 166, 151],\n [32, 46, 113],\n [174, 182, 219],\n [32, 32, 32],\n [216, 212, 206],\n [190, 154, 154],\n [216, 224, 223],\n [99, 200, 207],\n [109, 93, 79],\n [240, 57, 47],\n [156, 28, 34],\n [248, 190, 45],\n [25, 25, 24],\n [17, 16, 13],\n [235, 240, 112],\n [242, 234, 222],\n [206, 183, 161],\n [251, 162, 55],\n [225, 213, 198],\n [46, 46, 46],\n [238, 234, 225],\n [223, 165, 166],\n [222, 210, 203],\n [191, 192, 194],\n [237, 237, 237],\n [70, 75, 62],\n [180, 92, 48],\n [68, 84, 108],\n [30, 29, 30],\n [127, 24, 38],\n [53, 53, 53],\n [231, 208, 210],\n [206, 197, 180],\n [239, 235, 229],\n [183, 180, 182],\n [225, 221, 217],\n [227, 210, 210],\n [185, 189, 199],\n [214, 212, 203],\n [37, 38, 39],\n [60, 56, 57],\n [243, 241, 238],\n [224, 223, 214],\n [81, 23, 27],\n [248, 107, 88],\n [213, 180, 200],\n [39, 38, 40],\n [19, 17, 19],\n [126, 223, 215],\n [230, 230, 233],\n [64, 60, 59],\n [227, 226, 236],\n [241, 237, 229],\n [227, 226, 222],\n [239, 238, 240],\n [20, 17, 15],\n [66, 48, 48],\n [99, 99, 65],\n [65, 95, 126],\n [203, 201, 206],\n [221, 206, 190],\n [231, 219, 208],\n [226, 223, 215],\n [79, 45, 56],\n [226, 214, 214],\n [98, 97, 90],\n [92, 90, 89],\n [227, 220, 210],\n [173, 172, 168],\n [139, 130, 127],\n [102, 66, 14],\n [243, 181, 90],\n [185, 184, 192],\n [27, 26, 29],\n [111, 154, 185],\n [185, 151, 133],\n [240, 239, 237],\n [162, 162, 162],\n [212, 212, 213],\n [172, 176, 183],\n [227, 227, 229],\n [209, 226, 227],\n [236, 236, 239],\n [191, 183, 179],\n [158, 21, 28],\n [32, 26, 32],\n [224, 198, 176],\n [226, 217, 199],\n [191, 191, 189],\n [228, 220, 205],\n [218, 218, 218],\n [186, 177, 162],\n [44, 43, 41],\n [231, 228, 225],\n [220, 180, 178],\n [235, 235, 230],\n [50, 50, 54],\n [23, 18, 20],\n [69, 45, 36],\n [199, 193, 190],\n [240, 240, 242],\n [198, 178, 153],\n [147, 161, 153],\n [234, 231, 227],\n [234, 230, 226],\n [210, 59, 117],\n [34, 70, 73],\n [194, 191, 190],\n [41, 46, 134],\n [236, 237, 236],\n [235, 231, 230],\n [215, 5, 15],\n [226, 222, 214],\n [78, 97, 61],\n [33, 33, 30],\n [238, 239, 241],\n [236, 219, 205],\n [31, 112, 64],\n [21, 22, 24],\n [223, 219, 210],\n [166, 226, 187],\n [51, 51, 51],\n [207, 185, 180],\n [239, 233, 224],\n [153, 124, 102],\n [28, 24, 26],\n [233, 235, 241],\n [32, 35, 39],\n [233, 43, 129],\n [225, 224, 221],\n [198, 157, 122],\n [57, 52, 51],\n [53, 43, 44],\n [241, 241, 242],\n [26, 21, 20],\n [192, 209, 231],\n [162, 6, 37],\n [20, 20, 19],\n [223, 224, 225],\n [188, 179, 170],\n [50, 48, 68],\n [68, 24, 34],\n [194, 190, 189],\n [12, 12, 11],\n [217, 218, 214],\n [204, 183, 73],\n [225, 215, 198],\n [237, 236, 238],\n [168, 170, 189],\n [177, 21, 24],\n [227, 222, 217],\n [161, 160, 158],\n [203, 203, 204],\n [203, 193, 189],\n [186, 174, 170],\n [169, 191, 221],\n [246, 231, 63],\n [85, 56, 88],\n [28, 24, 24],\n [18, 20, 21],\n [237, 231, 226],\n [148, 143, 115],\n [48, 48, 52],\n [33, 31, 37],\n [194, 193, 193],\n [197, 197, 192],\n [37, 33, 34],\n [214, 210, 213],\n [192, 190, 194],\n [191, 161, 143],\n [166, 113, 69],\n [238, 235, 229],\n [244, 211, 202],\n [29, 29, 29],\n [49, 52, 100],\n [19, 16, 17],\n [178, 174, 178],\n [167, 108, 74],\n [46, 46, 52],\n [200, 196, 146],\n [169, 186, 200],\n [86, 62, 76],\n [125, 28, 36],\n [233, 229, 216],\n [156, 160, 163],\n [93, 117, 149],\n [69, 42, 95],\n [197, 179, 169],\n [222, 222, 217],\n [182, 147, 114],\n [240, 239, 239],\n [39, 43, 56],\n [219, 135, 18],\n [233, 227, 219],\n [197, 199, 199],\n [184, 184, 190],\n [135, 85, 85],\n [46, 44, 65],\n [189, 184, 189],\n [176, 87, 12],\n [64, 17, 18],\n [86, 80, 83],\n [107, 39, 42],\n [7, 7, 7],\n [7, 142, 209],\n [31, 31, 33],\n [33, 31, 34],\n [232, 193, 181],\n [18, 17, 17],\n [200, 184, 162],\n [104, 74, 70],\n [140, 139, 143],\n [62, 54, 58],\n [223, 218, 208],\n [147, 147, 145],\n [22, 21, 24],\n [221, 220, 216],\n [211, 7, 40],\n [164, 164, 168],\n [214, 205, 189],\n [233, 231, 234],\n [236, 236, 235],\n [101, 117, 92],\n [169, 149, 146],\n [193, 189, 184],\n [14, 14, 14],\n [239, 236, 226],\n [235, 235, 235],\n [190, 154, 151],\n [70, 71, 83],\n [131, 131, 133],\n [30, 28, 30],\n [237, 235, 229],\n [235, 222, 215],\n [236, 124, 43],\n [31, 30, 35],\n [146, 28, 49],\n [226, 227, 232],\n [81, 81, 85],\n [223, 191, 192],\n [29, 25, 30],\n [184, 72, 51],\n [92, 49, 51],\n [48, 46, 46],\n [235, 235, 239],\n [181, 181, 182],\n [42, 42, 42],\n [31, 27, 29],\n [204, 190, 172],\n [25, 23, 18],\n [29, 30, 32],\n [22, 22, 22],\n [148, 178, 177],\n [30, 30, 32],\n [162, 188, 216],\n [228, 225, 222],\n [63, 67, 83],\n [204, 199, 192],\n [238, 238, 240],\n [214, 214, 209],\n [134, 134, 134],\n [133, 133, 132],\n [226, 228, 233],\n [23, 23, 23],\n [51, 52, 55],\n [24, 23, 28],\n [95, 83, 65],\n [200, 10, 44],\n [184, 181, 184],\n [45, 41, 44],\n [210, 190, 189],\n [234, 227, 217],\n [237, 237, 239],\n [202, 148, 80],\n [236, 232, 227],\n [29, 28, 27],\n [222, 221, 224],\n [160, 151, 128],\n [229, 225, 228],\n [35, 40, 73],\n [35, 35, 37],\n [204, 209, 226],\n [41, 93, 79],\n [97, 12, 29],\n [173, 173, 173],\n [80, 60, 55],\n [20, 19, 28],\n [74, 71, 76],\n [231, 231, 235],\n [35, 32, 26],\n [237, 233, 214],\n [229, 232, 234],\n [201, 201, 204],\n [213, 211, 206],\n [158, 157, 161],\n [14, 14, 12],\n [205, 186, 173],\n [131, 159, 189],\n [244, 237, 222],\n [27, 27, 27],\n [241, 239, 234],\n [195, 195, 195],\n [57, 58, 84],\n [25, 24, 29],\n [241, 220, 213],\n [157, 159, 161],\n [63, 53, 57],\n [233, 201, 133],\n [234, 152, 168],\n [148, 215, 185],\n [142, 102, 75],\n [174, 150, 139],\n [219, 218, 214],\n [33, 90, 52],\n [179, 146, 117],\n [229, 225, 215],\n [239, 237, 225],\n [20, 20, 27],\n [235, 233, 232],\n [200, 122, 71],\n [220, 204, 179],\n [82, 83, 92],\n [225, 220, 211],\n [66, 60, 56],\n [236, 235, 235],\n [223, 215, 192],\n [73, 82, 60],\n [229, 227, 233],\n [217, 217, 212],\n [227, 225, 213],\n [76, 83, 54],\n [195, 167, 149],\n [226, 222, 215],\n [249, 217, 11],\n [200, 214, 216],\n [28, 28, 28],\n [229, 231, 231],\n [234, 199, 198],\n [215, 213, 213],\n [139, 139, 139],\n [170, 170, 170],\n [156, 156, 156],\n [93, 74, 55],\n [199, 179, 156],\n [63, 64, 70],\n [177, 160, 147],\n [246, 106, 82],\n [215, 215, 216],\n [21, 21, 20],\n [217, 217, 220],\n [163, 100, 102],\n [51, 51, 196],\n [34, 34, 35],\n [226, 221, 216],\n [218, 208, 200],\n [111, 97, 76],\n [178, 165, 150],\n [200, 180, 155],\n [26, 19, 24],\n [110, 52, 57],\n [137, 89, 49],\n [55, 55, 55],\n [200, 224, 201],\n [202, 212, 228],\n [151, 151, 148],\n [58, 64, 72],\n [51, 52, 58],\n [32, 32, 35],\n [210, 150, 18],\n [19, 20, 22],\n [229, 230, 231],\n [224, 217, 215],\n [56, 55, 60],\n [220, 219, 234],\n [189, 189, 189],\n [156, 148, 140],\n [217, 218, 215],\n [112, 112, 117],\n [104, 126, 150],\n [24, 20, 22],\n [58, 58, 60],\n [32, 27, 31],\n [228, 220, 208],\n [116, 112, 119],\n [54, 54, 56],\n [206, 183, 154],\n [233, 228, 211],\n [225, 224, 224],\n [27, 27, 29],\n [242, 226, 219],\n [34, 34, 34],\n [38, 38, 38],\n [27, 25, 24],\n [236, 236, 238],\n [188, 188, 187],\n [63, 178, 199],\n [80, 24, 23],\n [168, 192, 190],\n [37, 37, 48],\n [237, 236, 230],\n [209, 210, 188],\n [223, 215, 207],\n [226, 208, 189],\n [57, 54, 50],\n [52, 45, 45],\n [171, 129, 98],\n [237, 235, 225],\n [226, 226, 228],\n [223, 190, 172],\n [125, 188, 232],\n [181, 181, 180],\n [151, 152, 149],\n [230, 227, 232],\n [22, 20, 20],\n [228, 227, 222],\n [244, 244, 244],\n [36, 36, 36],\n [20, 20, 20],\n [227, 201, 172],\n [148, 179, 205],\n [85, 29, 40],\n [39, 39, 40],\n [170, 168, 166],\n [235, 235, 237],\n [6, 6, 6],\n [76, 78, 59],\n [181, 169, 160],\n [207, 206, 203],\n [239, 238, 241],\n [211, 211, 210],\n [232, 232, 229],\n [18, 16, 17],\n [235, 205, 200],\n [225, 202, 210],\n [247, 24, 125],\n [60, 59, 63],\n [249, 193, 55],\n [230, 230, 232],\n [230, 230, 234],\n [190, 190, 200],\n [62, 62, 66],\n [248, 196, 216],\n [243, 223, 214],\n [220, 212, 200],\n [81, 40, 59],\n [245, 208, 206],\n [218, 212, 208],\n [46, 32, 16],\n [84, 86, 60],\n [106, 57, 49],\n [234, 218, 194],\n [238, 235, 235],\n [229, 228, 229],\n [192, 192, 192],\n [192, 16, 15],\n [228, 228, 231],\n [235, 233, 227],\n [20, 18, 19],\n [152, 110, 113],\n [16, 144, 127],\n [39, 34, 32],\n [235, 237, 239],\n [93, 54, 53],\n [235, 234, 236],\n [22, 21, 23],\n [38, 69, 83],\n [92, 110, 118],\n [199, 176, 159],\n [42, 42, 43],\n [81, 76, 82],\n [74, 75, 91],\n [200, 171, 145],\n [194, 183, 183],\n [93, 111, 120],\n [70, 97, 155],\n [40, 38, 63],\n [238, 237, 240],\n [241, 193, 189],\n [223, 184, 169],\n [187, 186, 185],\n [212, 211, 205],\n [97, 102, 87],\n [64, 65, 74],\n [89, 14, 30],\n [42, 66, 106],\n [141, 60, 58],\n [86, 154, 149],\n [185, 190, 192],\n [217, 141, 124],\n [210, 209, 210],\n [225, 147, 49],\n [164, 166, 169],\n [189, 181, 110],\n [198, 129, 120],\n [235, 158, 22],\n [228, 224, 217],\n [233, 231, 227],\n [235, 235, 241],\n [77, 76, 104],\n [197, 194, 194],\n [162, 105, 131],\n [226, 226, 226],\n [25, 27, 25],\n [91, 27, 45],\n [225, 69, 27],\n [155, 154, 154],\n [8, 6, 12],\n [185, 175, 161],\n [167, 167, 167],\n [15, 35, 155],\n [241, 241, 245],\n [227, 226, 227],\n [235, 234, 229],\n [232, 227, 217],\n [155, 15, 69],\n [226, 225, 223],\n [246, 166, 168],\n [39, 38, 38],\n [179, 178, 177],\n [26, 26, 28],\n [33, 32, 30],\n [30, 29, 34],\n [41, 39, 41],\n [19, 19, 24],\n [79, 82, 93],\n [18, 20, 18],\n [141, 141, 141],\n [190, 191, 221],\n [35, 29, 45],\n [96, 124, 163],\n [229, 72, 61],\n [193, 192, 191],\n [222, 187, 89],\n [179, 170, 170],\n [236, 237, 246],\n [81, 31, 30],\n [30, 29, 33],\n [97, 89, 73],\n [198, 160, 156],\n [201, 141, 67],\n [8, 160, 184],\n [213, 199, 191],\n [235, 227, 217],\n [80, 137, 112],\n [86, 61, 44],\n [178, 185, 206],\n [147, 105, 114],\n [225, 201, 177],\n [222, 214, 209],\n [229, 229, 228],\n [227, 226, 226],\n [61, 91, 116],\n [224, 224, 222],\n [70, 69, 74],\n [115, 114, 128],\n [13, 13, 13],\n [220, 162, 62],\n [229, 230, 233],\n [26, 69, 152],\n [45, 38, 37],\n [129, 129, 129],\n [234, 232, 225],\n [57, 48, 46],\n [233, 230, 218],\n [225, 215, 206],\n [80, 46, 35],\n [74, 42, 116],\n [201, 141, 95],\n [240, 116, 140],\n [163, 135, 138],\n [84, 52, 46],\n [35, 35, 35],\n [174, 175, 174],\n [186, 125, 45],\n [211, 220, 234],\n [228, 185, 41],\n [230, 229, 232],\n [227, 168, 150],\n [231, 235, 235],\n [199, 199, 199],\n [136, 136, 136],\n [238, 238, 241],\n [236, 235, 238],\n [99, 86, 90],\n [149, 35, 54],\n [199, 198, 195],\n [76, 72, 43],\n [138, 99, 66],\n [209, 183, 160],\n [189, 182, 162],\n [132, 117, 142],\n [167, 193, 223],\n [16, 16, 16],\n [238, 74, 56],\n [228, 222, 212],\n [233, 231, 232],\n [231, 231, 224],\n [235, 234, 240],\n [116, 113, 109],\n [84, 117, 131],\n [178, 180, 152],\n [201, 186, 102],\n [175, 175, 173],\n [51, 51, 52],\n [23, 22, 27],\n [239, 222, 202],\n [237, 235, 230],\n [22, 22, 26],\n [213, 199, 186],\n [40, 38, 36],\n [201, 200, 204],\n [58, 18, 25],\n [214, 233, 60],\n [221, 216, 212],\n [234, 220, 202],\n [199, 173, 180],\n [229, 223, 214],\n [27, 22, 29],\n [128, 33, 45],\n [242, 151, 169],\n [205, 195, 190],\n [17, 16, 16],\n [187, 153, 145],\n [182, 200, 216],\n [229, 229, 229],\n [238, 192, 172],\n [188, 188, 199],\n [234, 233, 231],\n [212, 155, 138],\n [232, 226, 217],\n [217, 217, 216],\n [231, 230, 235],\n [15, 14, 13],\n [168, 118, 93],\n [152, 140, 143],\n [237, 236, 228],\n [205, 214, 226],\n [65, 24, 32],\n [23, 22, 23],\n [209, 200, 186],\n [26, 35, 54],\n [243, 74, 6],\n [171, 121, 74],\n [108, 107, 105],\n [243, 196, 11],\n [197, 196, 201],\n [235, 236, 240],\n [236, 113, 71],\n [229, 215, 114],\n ...]"
     },
     "execution_count": 119,
     "metadata": {},
     "output_type": "execute_result"
    }
   ],
   "source": [
    "X"
   ],
   "metadata": {
    "collapsed": false,
    "ExecuteTime": {
     "end_time": "2024-05-09T12:07:02.639532Z",
     "start_time": "2024-05-09T12:07:02.635464Z"
    }
   },
   "id": "39d517f8a6d9e80c"
  },
  {
   "cell_type": "markdown",
   "source": [
    "# Not scaled Data"
   ],
   "metadata": {
    "collapsed": false
   },
   "id": "728f91fae370ef87"
  },
  {
   "cell_type": "code",
   "execution_count": 120,
   "outputs": [],
   "source": [
    "number_of_clusters = 10\n",
    "est = KMeans(n_clusters=number_of_clusters, random_state=42).fit(X)"
   ],
   "metadata": {
    "collapsed": false,
    "ExecuteTime": {
     "end_time": "2024-05-09T12:07:02.745586Z",
     "start_time": "2024-05-09T12:07:02.647844Z"
    }
   },
   "id": "391a25df1292bd02"
  },
  {
   "cell_type": "code",
   "execution_count": 121,
   "outputs": [
    {
     "name": "stdout",
     "output_type": "stream",
     "text": [
      "Cluster centroids:\n",
      "[[221.56485485 215.58585547 210.38665843]\n",
      " [116.84112472  77.56615491  59.01397274]\n",
      " [131.09516692 117.02416542 108.35450922]\n",
      " [195.40890919 181.31970303 172.13934894]\n",
      " [ 43.15335401  31.25649477  30.91663435]\n",
      " [197.64561487 149.82650143 111.39775977]\n",
      " [ 81.80699795  94.88553881 106.67094733]\n",
      " [144.82028625 150.86123211 155.77212197]\n",
      " [190.7012488   66.72910663  55.87127762]\n",
      " [ 66.03563907  59.59047465  59.58642475]]\n",
      "Cluster labels:\n",
      "[4 4 0 ... 6 5 1]\n"
     ]
    }
   ],
   "source": [
    "\n",
    "# Get cluster centroids\n",
    "centroids = est.cluster_centers_\n",
    "\n",
    "# Get cluster labels for each data point\n",
    "labels = est.labels_\n",
    "\n",
    "# Print cluster centroids and labels\n",
    "print(\"Cluster centroids:\")\n",
    "print(centroids)\n",
    "print(\"Cluster labels:\")\n",
    "print(labels)\n"
   ],
   "metadata": {
    "collapsed": false,
    "ExecuteTime": {
     "end_time": "2024-05-09T12:07:02.751891Z",
     "start_time": "2024-05-09T12:07:02.747002Z"
    }
   },
   "id": "b4751c200fb577de"
  },
  {
   "cell_type": "code",
   "execution_count": 122,
   "outputs": [],
   "source": [
    "center = np.around(centroids, decimals=0, out=None)"
   ],
   "metadata": {
    "collapsed": false,
    "ExecuteTime": {
     "end_time": "2024-05-09T12:07:02.757807Z",
     "start_time": "2024-05-09T12:07:02.752179Z"
    }
   },
   "id": "1c64df764a85655f"
  },
  {
   "cell_type": "code",
   "execution_count": 123,
   "outputs": [
    {
     "data": {
      "text/plain": "array([[221.56485485, 215.58585547, 210.38665843],\n       [116.84112472,  77.56615491,  59.01397274],\n       [131.09516692, 117.02416542, 108.35450922],\n       [195.40890919, 181.31970303, 172.13934894],\n       [ 43.15335401,  31.25649477,  30.91663435],\n       [197.64561487, 149.82650143, 111.39775977],\n       [ 81.80699795,  94.88553881, 106.67094733],\n       [144.82028625, 150.86123211, 155.77212197],\n       [190.7012488 ,  66.72910663,  55.87127762],\n       [ 66.03563907,  59.59047465,  59.58642475]])"
     },
     "execution_count": 123,
     "metadata": {},
     "output_type": "execute_result"
    }
   ],
   "source": [
    "centroids"
   ],
   "metadata": {
    "collapsed": false,
    "ExecuteTime": {
     "end_time": "2024-05-09T12:07:02.760207Z",
     "start_time": "2024-05-09T12:07:02.756934Z"
    }
   },
   "id": "14b9c496a21c328a"
  },
  {
   "cell_type": "code",
   "execution_count": 124,
   "outputs": [
    {
     "data": {
      "text/plain": "array([[222., 216., 210.],\n       [117.,  78.,  59.],\n       [131., 117., 108.],\n       [195., 181., 172.],\n       [ 43.,  31.,  31.],\n       [198., 150., 111.],\n       [ 82.,  95., 107.],\n       [145., 151., 156.],\n       [191.,  67.,  56.],\n       [ 66.,  60.,  60.]])"
     },
     "execution_count": 124,
     "metadata": {},
     "output_type": "execute_result"
    }
   ],
   "source": [
    "center"
   ],
   "metadata": {
    "collapsed": false,
    "ExecuteTime": {
     "end_time": "2024-05-09T12:07:02.765904Z",
     "start_time": "2024-05-09T12:07:02.762626Z"
    }
   },
   "id": "5feff0c6e4ea81b5"
  },
  {
   "cell_type": "code",
   "execution_count": 125,
   "outputs": [
    {
     "data": {
      "text/plain": "<Figure size 1500x100 with 10 Axes>",
      "image/png": "[encoded data removed]"
     },
     "metadata": {},
     "output_type": "display_data"
    }
   ],
   "source": [
    "\n",
    "fig, ax = plt.subplots(1, len(center), figsize=(15, 1))\n",
    "\n",
    "# Plot each color\n",
    "for i, color in enumerate(center):\n",
    "    ax[i].imshow([[color/255]])\n",
    "    ax[i].axis('off')\n",
    "\n",
    "plt.show()\n"
   ],
   "metadata": {
    "collapsed": false,
    "ExecuteTime": {
     "end_time": "2024-05-09T12:07:03.007158Z",
     "start_time": "2024-05-09T12:07:02.770814Z"
    }
   },
   "id": "c715324c69c292a5"
  },
  {
   "cell_type": "markdown",
   "source": [
    "# Same for scaled data"
   ],
   "metadata": {
    "collapsed": false
   },
   "id": "5bdd3a87db69cb30"
  },
  {
   "cell_type": "code",
   "execution_count": 126,
   "outputs": [],
   "source": [
    "scaler = RobustScaler()"
   ],
   "metadata": {
    "collapsed": false,
    "ExecuteTime": {
     "end_time": "2024-05-09T12:07:03.008975Z",
     "start_time": "2024-05-09T12:07:03.005801Z"
    }
   },
   "id": "a5a009126541ebe"
  },
  {
   "cell_type": "code",
   "execution_count": 127,
   "outputs": [],
   "source": [
    "X_scaled = scaler.fit_transform(X)"
   ],
   "metadata": {
    "collapsed": false,
    "ExecuteTime": {
     "end_time": "2024-05-09T12:07:03.050046Z",
     "start_time": "2024-05-09T12:07:03.019216Z"
    }
   },
   "id": "abbf7694318bacf"
  },
  {
   "cell_type": "code",
   "execution_count": 128,
   "outputs": [],
   "source": [
    "est = KMeans(n_clusters=number_of_clusters, random_state=42).fit(X_scaled)"
   ],
   "metadata": {
    "collapsed": false,
    "ExecuteTime": {
     "end_time": "2024-05-09T12:07:03.208865Z",
     "start_time": "2024-05-09T12:07:03.052363Z"
    }
   },
   "id": "7f8b85d5e62c2cf0"
  },
  {
   "cell_type": "code",
   "execution_count": 129,
   "outputs": [],
   "source": [
    "# Get cluster centroids\n",
    "centroids_scaled = est.cluster_centers_"
   ],
   "metadata": {
    "collapsed": false,
    "ExecuteTime": {
     "end_time": "2024-05-09T12:07:03.215473Z",
     "start_time": "2024-05-09T12:07:03.209085Z"
    }
   },
   "id": "891e069547f37f14"
  },
  {
   "cell_type": "code",
   "execution_count": 130,
   "outputs": [
    {
     "data": {
      "text/plain": "array([[ 0.66412338,  0.65649801,  0.58606466],\n       [-0.16507439, -0.21670675, -0.28834527],\n       [-0.98394284, -0.90657963, -0.81895761],\n       [-0.15208189,  0.06513174,  0.17748842],\n       [ 0.56473853,  0.25666875, -0.06291315],\n       [-0.39325896, -0.65030425, -0.72766947],\n       [-0.71899299, -0.4503672 , -0.26520764],\n       [ 0.52120033, -0.60710178, -0.63460171],\n       [ 0.8464461 ,  0.99756157,  1.01865044],\n       [ 0.17561762,  0.40674367,  0.51397541]])"
     },
     "execution_count": 130,
     "metadata": {},
     "output_type": "execute_result"
    }
   ],
   "source": [
    "centroids_scaled"
   ],
   "metadata": {
    "collapsed": false,
    "ExecuteTime": {
     "end_time": "2024-05-09T12:07:03.221246Z",
     "start_time": "2024-05-09T12:07:03.214659Z"
    }
   },
   "id": "a36ebfc810c6796d"
  },
  {
   "cell_type": "code",
   "execution_count": 131,
   "outputs": [],
   "source": [
    "center_scaled = scaler.inverse_transform(centroids_scaled)"
   ],
   "metadata": {
    "collapsed": false,
    "ExecuteTime": {
     "end_time": "2024-05-09T12:07:03.222300Z",
     "start_time": "2024-05-09T12:07:03.217979Z"
    }
   },
   "id": "49c1aacecfcb2939"
  },
  {
   "cell_type": "code",
   "execution_count": 132,
   "outputs": [
    {
     "data": {
      "text/plain": "array([[203.75584485, 184.71081296, 171.6761424 ],\n       [124.15285866, 102.62956591,  88.60719958],\n       [ 45.54148714,  37.78151494,  38.1990271 ],\n       [125.4001386 , 129.12238392, 132.86139986],\n       [194.21489842, 147.1268623 , 110.02325056],\n       [102.24714004,  61.87140039,  46.87140039],\n       [ 70.97667343,  80.66548343,  90.80527383],\n       [190.03523166,  65.93243243,  55.71283784],\n       [221.2588255 , 216.77078802, 212.77179187],\n       [156.85929154, 161.23390498, 164.82766376]])"
     },
     "execution_count": 132,
     "metadata": {},
     "output_type": "execute_result"
    }
   ],
   "source": [
    "center_scaled"
   ],
   "metadata": {
    "collapsed": false,
    "ExecuteTime": {
     "end_time": "2024-05-09T12:07:03.228727Z",
     "start_time": "2024-05-09T12:07:03.224463Z"
    }
   },
   "id": "476bc13a4db17485"
  },
  {
   "cell_type": "code",
   "execution_count": 133,
   "outputs": [
    {
     "data": {
      "text/plain": "<Figure size 1500x100 with 10 Axes>",
      "image/png": "[encoded data removed]"
     },
     "metadata": {},
     "output_type": "display_data"
    }
   ],
   "source": [
    "fig, ax = plt.subplots(1, len(center), figsize=(15, 1))\n",
    "\n",
    "# Plot each color\n",
    "for i, color in enumerate(center):\n",
    "    ax[i].imshow([[color/255]])\n",
    "    ax[i].axis('off')\n",
    "\n",
    "plt.show()\n",
    "\n"
   ],
   "metadata": {
    "collapsed": false,
    "ExecuteTime": {
     "end_time": "2024-05-09T12:07:03.468678Z",
     "start_time": "2024-05-09T12:07:03.229577Z"
    }
   },
   "id": "becefc283681025e"
  },
  {
   "cell_type": "code",
   "execution_count": 133,
   "outputs": [],
   "source": [],
   "metadata": {
    "collapsed": false,
    "ExecuteTime": {
     "end_time": "2024-05-09T12:07:03.468860Z",
     "start_time": "2024-05-09T12:07:03.466441Z"
    }
   },
   "id": "a6eaea526d07f78d"
  }
 ],
 "metadata": {
  "kernelspec": {
   "display_name": "Python 3",
   "language": "python",
   "name": "python3"
  },
  "language_info": {
   "codemirror_mode": {
    "name": "ipython",
    "version": 2
   },
   "file_extension": ".py",
   "mimetype": "text/x-python",
   "name": "python",
   "nbconvert_exporter": "python",
   "pygments_lexer": "ipython2",
   "version": "2.7.6"
  }
 },
 "nbformat": 4,
 "nbformat_minor": 5
}
