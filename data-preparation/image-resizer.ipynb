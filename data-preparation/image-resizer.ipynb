{
 "cells": [
  {
   "cell_type": "code",
   "execution_count": 65,
   "id": "initial_id",
   "metadata": {
    "collapsed": true,
    "ExecuteTime": {
     "end_time": "2024-03-22T15:20:09.313995Z",
     "start_time": "2024-03-22T15:20:09.307688Z"
    }
   },
   "outputs": [],
   "source": [
    "import pandas as pd\n",
    "from PIL import Image\n",
    "import numpy as np\n",
    "import os\n",
    "import cv2"
   ]
  },
  {
   "cell_type": "code",
   "execution_count": 66,
   "outputs": [
    {
     "data": {
      "text/plain": "                                               outfitName  outfitViews  \\\n7       Being a Vans shoe model with Luke. Idk about t...          188   \n8       Being a Vans shoe model with Luke. Idk about t...          188   \n15                    These Chanel bags is a bad habit .x          562   \n17                    These Chanel bags is a bad habit .x          562   \n19                    These Chanel bags is a bad habit .x          562   \n...                                                   ...          ...   \n142460                                               Army          281   \n142461                                               Army          281   \n142462                                               Army          281   \n142463                                               Army          281   \n142464                                               Army          281   \n\n        wearType      type  outfitLikes       date     set_id  \\\n7            2.0       top            9  Two years  120161271   \n8            4.0     pants            9  Two years  120161271   \n15           2.0       top           32  Two years  143656996   \n17           4.0     pants           32  Two years  143656996   \n19           1.0       bag           32  Two years  143656996   \n...          ...       ...          ...        ...        ...   \n142460       3.0   outwear           30   One year  187953065   \n142461       4.0     skirt           30   One year  187953065   \n142462       5.0     shoes           30   One year  187953065   \n142463       1.0       bag           30   One year  187953065   \n142464       1.0  necklace           30   One year  187953065   \n\n                                               outfitDesc  clothingItemIndex  \\\n7       A fashion look from April 2014 featuring destr...                  1   \n8       A fashion look from April 2014 featuring destr...                  2   \n15                                               12.19.14                  1   \n17                                               12.19.14                  3   \n19                                               12.19.14                  5   \n...                                                   ...                ...   \n142460  A fashion look from January 2016 by catherine-...                  2   \n142461  A fashion look from January 2016 by catherine-...                  3   \n142462  A fashion look from January 2016 by catherine-...                  4   \n142463  A fashion look from January 2016 by catherine-...                  5   \n142464  A fashion look from January 2016 by catherine-...                  6   \n\n                                         clothingItemName  clothingItemPrice  \\\n7                              nirvana distressed t-shirt               10.0   \n8                     rag bone rock w/ black skinny jeans              235.0   \n15                                          monki singlet               16.0   \n17               topshop moto joni high rise skinny jeans               65.0   \n19                          pre-owned chanel shoulder bag             2450.0   \n...                                                   ...                ...   \n142460          yoins army green buttoned slit lapel coat               33.0   \n142461                    topshop wool blend a-line skirt               19.0   \n142462             ralph lauren collection canvas sandals              230.0   \n142463  alexander mcqueen hunter green black mini leat...             1010.0   \n142464   forever faux pearl rhinestone statement necklace               18.0   \n\n        clothingItemLikes  clothingItemCategoryId                   imagePath  \n7                    1290                      21  raw/images/120161271/1.jpg  \n8                   17406                     237  raw/images/120161271/2.jpg  \n15                  20094                     104  raw/images/143656996/1.jpg  \n17                  23324                     237  raw/images/143656996/3.jpg  \n19                   4489                      37  raw/images/143656996/5.jpg  \n...                   ...                     ...                         ...  \n142460                431                      24  raw/images/187953065/2.jpg  \n142461               1456                       9  raw/images/187953065/3.jpg  \n142462                831                      46  raw/images/187953065/4.jpg  \n142463                 16                      37  raw/images/187953065/5.jpg  \n142464                 66                      62  raw/images/187953065/6.jpg  \n\n[30415 rows x 14 columns]",
      "text/html": "<div>\n<style scoped>\n    .dataframe tbody tr th:only-of-type {\n        vertical-align: middle;\n    }\n\n    .dataframe tbody tr th {\n        vertical-align: top;\n    }\n\n    .dataframe thead th {\n        text-align: right;\n    }\n</style>\n<table border=\"1\" class=\"dataframe\">\n  <thead>\n    <tr style=\"text-align: right;\">\n      <th></th>\n      <th>outfitName</th>\n      <th>outfitViews</th>\n      <th>wearType</th>\n      <th>type</th>\n      <th>outfitLikes</th>\n      <th>date</th>\n      <th>set_id</th>\n      <th>outfitDesc</th>\n      <th>clothingItemIndex</th>\n      <th>clothingItemName</th>\n      <th>clothingItemPrice</th>\n      <th>clothingItemLikes</th>\n      <th>clothingItemCategoryId</th>\n      <th>imagePath</th>\n    </tr>\n  </thead>\n  <tbody>\n    <tr>\n      <th>7</th>\n      <td>Being a Vans shoe model with Luke. Idk about t...</td>\n      <td>188</td>\n      <td>2.0</td>\n      <td>top</td>\n      <td>9</td>\n      <td>Two years</td>\n      <td>120161271</td>\n      <td>A fashion look from April 2014 featuring destr...</td>\n      <td>1</td>\n      <td>nirvana distressed t-shirt</td>\n      <td>10.0</td>\n      <td>1290</td>\n      <td>21</td>\n      <td>raw/images/120161271/1.jpg</td>\n    </tr>\n    <tr>\n      <th>8</th>\n      <td>Being a Vans shoe model with Luke. Idk about t...</td>\n      <td>188</td>\n      <td>4.0</td>\n      <td>pants</td>\n      <td>9</td>\n      <td>Two years</td>\n      <td>120161271</td>\n      <td>A fashion look from April 2014 featuring destr...</td>\n      <td>2</td>\n      <td>rag bone rock w/ black skinny jeans</td>\n      <td>235.0</td>\n      <td>17406</td>\n      <td>237</td>\n      <td>raw/images/120161271/2.jpg</td>\n    </tr>\n    <tr>\n      <th>15</th>\n      <td>These Chanel bags is a bad habit .x</td>\n      <td>562</td>\n      <td>2.0</td>\n      <td>top</td>\n      <td>32</td>\n      <td>Two years</td>\n      <td>143656996</td>\n      <td>12.19.14</td>\n      <td>1</td>\n      <td>monki singlet</td>\n      <td>16.0</td>\n      <td>20094</td>\n      <td>104</td>\n      <td>raw/images/143656996/1.jpg</td>\n    </tr>\n    <tr>\n      <th>17</th>\n      <td>These Chanel bags is a bad habit .x</td>\n      <td>562</td>\n      <td>4.0</td>\n      <td>pants</td>\n      <td>32</td>\n      <td>Two years</td>\n      <td>143656996</td>\n      <td>12.19.14</td>\n      <td>3</td>\n      <td>topshop moto joni high rise skinny jeans</td>\n      <td>65.0</td>\n      <td>23324</td>\n      <td>237</td>\n      <td>raw/images/143656996/3.jpg</td>\n    </tr>\n    <tr>\n      <th>19</th>\n      <td>These Chanel bags is a bad habit .x</td>\n      <td>562</td>\n      <td>1.0</td>\n      <td>bag</td>\n      <td>32</td>\n      <td>Two years</td>\n      <td>143656996</td>\n      <td>12.19.14</td>\n      <td>5</td>\n      <td>pre-owned chanel shoulder bag</td>\n      <td>2450.0</td>\n      <td>4489</td>\n      <td>37</td>\n      <td>raw/images/143656996/5.jpg</td>\n    </tr>\n    <tr>\n      <th>...</th>\n      <td>...</td>\n      <td>...</td>\n      <td>...</td>\n      <td>...</td>\n      <td>...</td>\n      <td>...</td>\n      <td>...</td>\n      <td>...</td>\n      <td>...</td>\n      <td>...</td>\n      <td>...</td>\n      <td>...</td>\n      <td>...</td>\n      <td>...</td>\n    </tr>\n    <tr>\n      <th>142460</th>\n      <td>Army</td>\n      <td>281</td>\n      <td>3.0</td>\n      <td>outwear</td>\n      <td>30</td>\n      <td>One year</td>\n      <td>187953065</td>\n      <td>A fashion look from January 2016 by catherine-...</td>\n      <td>2</td>\n      <td>yoins army green buttoned slit lapel coat</td>\n      <td>33.0</td>\n      <td>431</td>\n      <td>24</td>\n      <td>raw/images/187953065/2.jpg</td>\n    </tr>\n    <tr>\n      <th>142461</th>\n      <td>Army</td>\n      <td>281</td>\n      <td>4.0</td>\n      <td>skirt</td>\n      <td>30</td>\n      <td>One year</td>\n      <td>187953065</td>\n      <td>A fashion look from January 2016 by catherine-...</td>\n      <td>3</td>\n      <td>topshop wool blend a-line skirt</td>\n      <td>19.0</td>\n      <td>1456</td>\n      <td>9</td>\n      <td>raw/images/187953065/3.jpg</td>\n    </tr>\n    <tr>\n      <th>142462</th>\n      <td>Army</td>\n      <td>281</td>\n      <td>5.0</td>\n      <td>shoes</td>\n      <td>30</td>\n      <td>One year</td>\n      <td>187953065</td>\n      <td>A fashion look from January 2016 by catherine-...</td>\n      <td>4</td>\n      <td>ralph lauren collection canvas sandals</td>\n      <td>230.0</td>\n      <td>831</td>\n      <td>46</td>\n      <td>raw/images/187953065/4.jpg</td>\n    </tr>\n    <tr>\n      <th>142463</th>\n      <td>Army</td>\n      <td>281</td>\n      <td>1.0</td>\n      <td>bag</td>\n      <td>30</td>\n      <td>One year</td>\n      <td>187953065</td>\n      <td>A fashion look from January 2016 by catherine-...</td>\n      <td>5</td>\n      <td>alexander mcqueen hunter green black mini leat...</td>\n      <td>1010.0</td>\n      <td>16</td>\n      <td>37</td>\n      <td>raw/images/187953065/5.jpg</td>\n    </tr>\n    <tr>\n      <th>142464</th>\n      <td>Army</td>\n      <td>281</td>\n      <td>1.0</td>\n      <td>necklace</td>\n      <td>30</td>\n      <td>One year</td>\n      <td>187953065</td>\n      <td>A fashion look from January 2016 by catherine-...</td>\n      <td>6</td>\n      <td>forever faux pearl rhinestone statement necklace</td>\n      <td>18.0</td>\n      <td>66</td>\n      <td>62</td>\n      <td>raw/images/187953065/6.jpg</td>\n    </tr>\n  </tbody>\n</table>\n<p>30415 rows × 14 columns</p>\n</div>"
     },
     "execution_count": 66,
     "metadata": {},
     "output_type": "execute_result"
    }
   ],
   "source": [
    "df = pd.read_parquet('../datasets/cleaned/polyvore_v1.parquet')\n",
    "df"
   ],
   "metadata": {
    "collapsed": false,
    "ExecuteTime": {
     "end_time": "2024-03-22T15:20:10.088992Z",
     "start_time": "2024-03-22T15:20:10.068410Z"
    }
   },
   "id": "a979287626830f17"
  },
  {
   "cell_type": "code",
   "execution_count": 63,
   "outputs": [
    {
     "name": "stdout",
     "output_type": "stream",
     "text": [
      "Max width: 640 image_path: ../datasets/raw/images/36405576/0.jpg\n",
      "Max height: 640 image_path: ../datasets/raw/images/36405576/0.jpg\n"
     ]
    }
   ],
   "source": [
    "images_dir = \"../datasets/raw/images\"\n",
    "\n",
    "\"\"\"\n",
    "get the pixel values from biggest images in data\n",
    "maximum width and maximum height\n",
    "\"\"\"\n",
    "\n",
    "max_w = 0\n",
    "max_w_img_path = \"\"\n",
    "max_h = 0\n",
    "max_h_img_path = \"\"\n",
    "\n",
    "for root, dirs, files in os.walk(images_dir):\n",
    "    for file in files:\n",
    "        if file.endswith('.jpg'):\n",
    "            image_path = os.path.join(root, file)\n",
    "            \n",
    "            with Image.open(image_path) as image:\n",
    "                image_w, image_h = image.size\n",
    "                \n",
    "                if image_w > max_w:\n",
    "                    max_w = image_w\n",
    "                    max_w_img_path = image_path\n",
    "                    \n",
    "                if image_h > max_h:\n",
    "                    max_h = image_h\n",
    "                    max_h_img_path = image_path\n",
    "\n",
    "print(\"Max width:\", max_w, \"image_path:\", max_w_img_path)\n",
    "print(\"Max height:\", max_h, \"image_path:\", max_h_img_path)\n",
    "    "
   ],
   "metadata": {
    "collapsed": false,
    "ExecuteTime": {
     "end_time": "2024-03-22T15:05:19.434378Z",
     "start_time": "2024-03-22T15:04:24.043056Z"
    }
   },
   "id": "64a7cfc9ca284378"
  },
  {
   "cell_type": "code",
   "execution_count": 85,
   "outputs": [],
   "source": [
    "\n",
    "\"\"\"resize images to 256x256 pixels, keep the original aspect ratio of image and fill the void space with white\"\"\"\n",
    "def resize_images(image_path, output_dir, size):\n",
    "    # Load the image\n",
    "    image = cv2.imread(image_path)\n",
    "    \n",
    "    # Check if image is loaded successfully\n",
    "    if image is None:\n",
    "        print(f\"Error: Unable to load image from {image_path}\")\n",
    "        return\n",
    "    \n",
    "    # Get original dimensions\n",
    "    height, width, _ = image.shape\n",
    "    # Calculate aspect ratio\n",
    "    aspect_ratio = width / height\n",
    "    \n",
    "    # Determine new dimensions based on size and aspect ratio\n",
    "    if width > height:\n",
    "        new_width = size\n",
    "        new_height = int(size / aspect_ratio)\n",
    "    else:\n",
    "        new_height = size\n",
    "        new_width = int(size * aspect_ratio)\n",
    "    \n",
    "    # Resize the image while maintaining aspect ratio\n",
    "    resized_image = cv2.resize(image, (new_width, new_height))\n",
    "    # Create a white canvas of size x size\n",
    "    canvas = np.ones((size, size, 3), dtype=np.uint8) * 255\n",
    "    # Calculate where to place the resized image on the canvas\n",
    "    x_offset = (size - new_width) // 2\n",
    "    y_offset = (size - new_height) // 2\n",
    "    # Paste the resized image onto the canvas\n",
    "    canvas[y_offset:y_offset+new_height, x_offset:x_offset+new_width] = resized_image\n",
    "    # Create output directory if it doesn't exist\n",
    "    os.makedirs(output_dir, exist_ok=True)\n",
    "    # Get the image filename from the original path\n",
    "    filename = os.path.basename(image_path)\n",
    "    # Save image to output path\n",
    "    cv2.imwrite(os.path.join(output_dir, filename), canvas)\n",
    "    \n",
    "# Define the output directory\n",
    "output_dir_base = \"../datasets/resized/images/\"\n",
    "\n",
    "# Define the size for resizing\n",
    "size = 256\n",
    "\n",
    "# Apply the resizing function to each row in the DataFrame\n",
    "for index, row in df.iterrows():\n",
    "    set_id = row['set_id']\n",
    "    clothingItemIndex = row['clothingItemIndex']\n",
    "    output_dir = f\"{output_dir_base}/{set_id}\"\n",
    "    input_path = f\"../datasets/{row['imagePath']}\"  # Adjust the input path\n",
    "    resize_images(input_path, output_dir, size)"
   ],
   "metadata": {
    "collapsed": false,
    "ExecuteTime": {
     "end_time": "2024-03-22T15:44:52.997538Z",
     "start_time": "2024-03-22T15:44:15.719038Z"
    }
   },
   "id": "1fc2804109db321"
  },
  {
   "cell_type": "code",
   "execution_count": 86,
   "outputs": [
    {
     "name": "stdout",
     "output_type": "stream",
     "text": [
      "Total missing files: 0\n"
     ]
    }
   ],
   "source": [
    "\"\"\"check if all images from the dataframe are saved to the correct location in the new file system for resized images\"\"\"\n",
    "\n",
    "output_dir_base = \"../datasets/resized/images/\"\n",
    "missing_count = 0\n",
    "missing_files = []\n",
    "\n",
    "for index, row in df.iterrows():\n",
    "    set_id = row['set_id']\n",
    "    clothingItemIndex = row['clothingItemIndex']\n",
    "    output_dir = f\"{output_dir_base}/{set_id}\"\n",
    "    \n",
    "    # Check if the resized image file exists\n",
    "    if not os.path.exists(output_dir):\n",
    "        missing_count += 1\n",
    "        missing_files.append(output_dir)  # Store the path of missing file\n",
    "        print(f\"Resized image file is missing for {output_dir}\")\n",
    "\n",
    "# Print the total count of missing files\n",
    "print(f\"Total missing files: {missing_count}\")"
   ],
   "metadata": {
    "collapsed": false,
    "ExecuteTime": {
     "end_time": "2024-03-22T15:44:53.564664Z",
     "start_time": "2024-03-22T15:44:52.999299Z"
    }
   },
   "id": "b3177cfdae567fce"
  },
  {
   "cell_type": "code",
   "execution_count": null,
   "outputs": [],
   "source": [],
   "metadata": {
    "collapsed": false
   },
   "id": "77f6b5dc16af1508"
  }
 ],
 "metadata": {
  "kernelspec": {
   "display_name": "Python 3",
   "language": "python",
   "name": "python3"
  },
  "language_info": {
   "codemirror_mode": {
    "name": "ipython",
    "version": 2
   },
   "file_extension": ".py",
   "mimetype": "text/x-python",
   "name": "python",
   "nbconvert_exporter": "python",
   "pygments_lexer": "ipython2",
   "version": "2.7.6"
  }
 },
 "nbformat": 4,
 "nbformat_minor": 5
}
