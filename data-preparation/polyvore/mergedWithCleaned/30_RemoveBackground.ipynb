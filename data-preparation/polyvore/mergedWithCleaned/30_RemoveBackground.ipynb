{
 "cells": [
  {
   "cell_type": "code",
   "execution_count": 62,
   "id": "initial_id",
   "metadata": {
    "collapsed": true,
    "ExecuteTime": {
     "end_time": "2024-04-19T12:59:33.783680Z",
     "start_time": "2024-04-19T12:59:33.781133Z"
    }
   },
   "outputs": [],
   "source": [
    "from rembg import remove\n",
    "from PIL import Image\n",
    "import sys\n",
    "import os\n",
    "import tqdm\n",
    "\n",
    "def removebg(inputPath, outputPath, file):\n",
    "    # Get the file extension\n",
    "    file_extension = os.path.splitext(inputPath)[1][1:].lower()\n",
    "    if file_extension not in ['jpg', 'jpeg', 'png']:\n",
    "        print(f\"Warning: Unsupported file type '{file_extension}'. Supported file types are: jpg, jpeg, png.\")\n",
    "        sys.exit(1)\n",
    "    try:\n",
    "        originalImage = Image.open(inputPath)\n",
    "        imageWithoutBg = remove(originalImage)\n",
    "        existing = os.path.splitext(inputPath)[0] + '.png'\n",
    "        imageWithoutBg.save(existing)\n",
    "        number, extension = file.split('.')\n",
    "        path = outputPath + \"/\" + number + \".png\"\n",
    "        print(path)\n",
    "        imageWithoutBg.save(path)\n",
    "        imageWithoutBg.close()\n",
    "        print(\"Background removed successfully.\")\n",
    "    except Exception as e:\n",
    "        print(f\"An error occurred: {e}\")\n",
    "        sys.exit(1)\n"
   ]
  },
  {
   "cell_type": "code",
   "execution_count": 63,
   "outputs": [],
   "source": [
    "input_path = \"../datasets/images_256x256\"\n",
    "output_path = \"../datasets/bg_removed\""
   ],
   "metadata": {
    "collapsed": false,
    "ExecuteTime": {
     "end_time": "2024-04-19T12:59:33.788095Z",
     "start_time": "2024-04-19T12:59:33.785499Z"
    }
   },
   "id": "fa7ccc477b5c0b76"
  },
  {
   "cell_type": "code",
   "execution_count": 64,
   "outputs": [
    {
     "name": "stdout",
     "output_type": "stream",
     "text": [
      "../datasets/images_256x256/190142193\n",
      "../datasets/bg_removed/190142193\n"
     ]
    },
    {
     "name": "stderr",
     "output_type": "stream",
     "text": [
      "Context leak detected, msgtracer returned -1\n",
      "Context leak detected, msgtracer returned -1\n",
      "Context leak detected, msgtracer returned -1\n",
      "Context leak detected, msgtracer returned -1\n",
      "Context leak detected, msgtracer returned -1\n",
      "Context leak detected, msgtracer returned -1\n"
     ]
    },
    {
     "name": "stdout",
     "output_type": "stream",
     "text": [
      "../datasets/bg_removed/190142193/4.png\n",
      "Background removed successfully.\n",
      "../datasets/images_256x256/190142193\n",
      "../datasets/bg_removed/190142193\n"
     ]
    },
    {
     "name": "stderr",
     "output_type": "stream",
     "text": [
      "Context leak detected, msgtracer returned -1\n",
      "Context leak detected, msgtracer returned -1\n",
      "Context leak detected, msgtracer returned -1\n",
      "Context leak detected, msgtracer returned -1\n",
      "Context leak detected, msgtracer returned -1\n",
      "Context leak detected, msgtracer returned -1\n"
     ]
    },
    {
     "name": "stdout",
     "output_type": "stream",
     "text": [
      "../datasets/bg_removed/190142193/4.png\n",
      "Background removed successfully.\n",
      "../datasets/images_256x256/190142193\n",
      "../datasets/bg_removed/190142193\n"
     ]
    },
    {
     "name": "stderr",
     "output_type": "stream",
     "text": [
      "Context leak detected, msgtracer returned -1\n",
      "Context leak detected, msgtracer returned -1\n",
      "Context leak detected, msgtracer returned -1\n",
      "Context leak detected, msgtracer returned -1\n",
      "Context leak detected, msgtracer returned -1\n",
      "Context leak detected, msgtracer returned -1\n"
     ]
    },
    {
     "name": "stdout",
     "output_type": "stream",
     "text": [
      "../datasets/bg_removed/190142193/5.png\n",
      "Background removed successfully.\n",
      "../datasets/images_256x256/190142193\n",
      "../datasets/bg_removed/190142193\n"
     ]
    },
    {
     "name": "stderr",
     "output_type": "stream",
     "text": [
      "Context leak detected, msgtracer returned -1\n",
      "Context leak detected, msgtracer returned -1\n",
      "Context leak detected, msgtracer returned -1\n",
      "Context leak detected, msgtracer returned -1\n",
      "Context leak detected, msgtracer returned -1\n",
      "Context leak detected, msgtracer returned -1\n"
     ]
    },
    {
     "name": "stdout",
     "output_type": "stream",
     "text": [
      "../datasets/bg_removed/190142193/5.png\n",
      "Background removed successfully.\n",
      "../datasets/images_256x256/190142193\n",
      "../datasets/bg_removed/190142193\n"
     ]
    },
    {
     "name": "stderr",
     "output_type": "stream",
     "text": [
      "Context leak detected, msgtracer returned -1\n",
      "Context leak detected, msgtracer returned -1\n",
      "Context leak detected, msgtracer returned -1\n",
      "Context leak detected, msgtracer returned -1\n",
      "Context leak detected, msgtracer returned -1\n",
      "Context leak detected, msgtracer returned -1\n"
     ]
    },
    {
     "name": "stdout",
     "output_type": "stream",
     "text": [
      "../datasets/bg_removed/190142193/6.png\n",
      "Background removed successfully.\n",
      "../datasets/images_256x256/190142193\n",
      "../datasets/bg_removed/190142193\n"
     ]
    },
    {
     "name": "stderr",
     "output_type": "stream",
     "text": [
      "Context leak detected, msgtracer returned -1\n",
      "Context leak detected, msgtracer returned -1\n",
      "Context leak detected, msgtracer returned -1\n",
      "Context leak detected, msgtracer returned -1\n",
      "Context leak detected, msgtracer returned -1\n",
      "Context leak detected, msgtracer returned -1\n"
     ]
    },
    {
     "ename": "KeyboardInterrupt",
     "evalue": "",
     "output_type": "error",
     "traceback": [
      "\u001B[0;31m---------------------------------------------------------------------------\u001B[0m",
      "\u001B[0;31mKeyboardInterrupt\u001B[0m                         Traceback (most recent call last)",
      "Cell \u001B[0;32mIn[64], line 10\u001B[0m\n\u001B[1;32m      8\u001B[0m os\u001B[38;5;241m.\u001B[39mmakedirs(final_output_path, exist_ok\u001B[38;5;241m=\u001B[39m\u001B[38;5;28;01mTrue\u001B[39;00m)\n\u001B[1;32m      9\u001B[0m \u001B[38;5;28mprint\u001B[39m(final_output_path)\n\u001B[0;32m---> 10\u001B[0m \u001B[43mremovebg\u001B[49m\u001B[43m(\u001B[49m\u001B[43mordnerpfad\u001B[49m\u001B[43m \u001B[49m\u001B[38;5;241;43m+\u001B[39;49m\u001B[43m \u001B[49m\u001B[38;5;124;43m'\u001B[39;49m\u001B[38;5;124;43m/\u001B[39;49m\u001B[38;5;124;43m'\u001B[39;49m\u001B[43m \u001B[49m\u001B[38;5;241;43m+\u001B[39;49m\u001B[43m \u001B[49m\u001B[43mdatei\u001B[49m\u001B[43m,\u001B[49m\u001B[43m \u001B[49m\u001B[43mfinal_output_path\u001B[49m\u001B[43m,\u001B[49m\u001B[43m \u001B[49m\u001B[43mdatei\u001B[49m\u001B[43m)\u001B[49m\n",
      "Cell \u001B[0;32mIn[62], line 15\u001B[0m, in \u001B[0;36mremovebg\u001B[0;34m(inputPath, outputPath, file)\u001B[0m\n\u001B[1;32m     13\u001B[0m \u001B[38;5;28;01mtry\u001B[39;00m:\n\u001B[1;32m     14\u001B[0m     originalImage \u001B[38;5;241m=\u001B[39m Image\u001B[38;5;241m.\u001B[39mopen(inputPath)\n\u001B[0;32m---> 15\u001B[0m     imageWithoutBg \u001B[38;5;241m=\u001B[39m \u001B[43mremove\u001B[49m\u001B[43m(\u001B[49m\u001B[43moriginalImage\u001B[49m\u001B[43m)\u001B[49m\n\u001B[1;32m     16\u001B[0m     existing \u001B[38;5;241m=\u001B[39m os\u001B[38;5;241m.\u001B[39mpath\u001B[38;5;241m.\u001B[39msplitext(inputPath)[\u001B[38;5;241m0\u001B[39m] \u001B[38;5;241m+\u001B[39m \u001B[38;5;124m'\u001B[39m\u001B[38;5;124m.png\u001B[39m\u001B[38;5;124m'\u001B[39m\n\u001B[1;32m     17\u001B[0m     imageWithoutBg\u001B[38;5;241m.\u001B[39msave(existing)\n",
      "File \u001B[0;32m~/.local/share/virtualenvs/DSPRO2-outfit-recommendation-etrui0aa/lib/python3.10/site-packages/rembg/bg.py:258\u001B[0m, in \u001B[0;36mremove\u001B[0;34m(data, alpha_matting, alpha_matting_foreground_threshold, alpha_matting_background_threshold, alpha_matting_erode_size, session, only_mask, post_process_mask, bgcolor, *args, **kwargs)\u001B[0m\n\u001B[1;32m    255\u001B[0m img \u001B[38;5;241m=\u001B[39m fix_image_orientation(img)\n\u001B[1;32m    257\u001B[0m \u001B[38;5;28;01mif\u001B[39;00m session \u001B[38;5;129;01mis\u001B[39;00m \u001B[38;5;28;01mNone\u001B[39;00m:\n\u001B[0;32m--> 258\u001B[0m     session \u001B[38;5;241m=\u001B[39m \u001B[43mnew_session\u001B[49m\u001B[43m(\u001B[49m\u001B[38;5;124;43m\"\u001B[39;49m\u001B[38;5;124;43mu2net\u001B[39;49m\u001B[38;5;124;43m\"\u001B[39;49m\u001B[43m,\u001B[49m\u001B[43m \u001B[49m\u001B[38;5;241;43m*\u001B[39;49m\u001B[43margs\u001B[49m\u001B[43m,\u001B[49m\u001B[43m \u001B[49m\u001B[38;5;241;43m*\u001B[39;49m\u001B[38;5;241;43m*\u001B[39;49m\u001B[43mkwargs\u001B[49m\u001B[43m)\u001B[49m\n\u001B[1;32m    260\u001B[0m masks \u001B[38;5;241m=\u001B[39m session\u001B[38;5;241m.\u001B[39mpredict(img, \u001B[38;5;241m*\u001B[39margs, \u001B[38;5;241m*\u001B[39m\u001B[38;5;241m*\u001B[39mkwargs)\n\u001B[1;32m    261\u001B[0m cutouts \u001B[38;5;241m=\u001B[39m []\n",
      "File \u001B[0;32m~/.local/share/virtualenvs/DSPRO2-outfit-recommendation-etrui0aa/lib/python3.10/site-packages/rembg/session_factory.py:44\u001B[0m, in \u001B[0;36mnew_session\u001B[0;34m(model_name, providers, *args, **kwargs)\u001B[0m\n\u001B[1;32m     41\u001B[0m     sess_opts\u001B[38;5;241m.\u001B[39minter_op_num_threads \u001B[38;5;241m=\u001B[39m \u001B[38;5;28mint\u001B[39m(os\u001B[38;5;241m.\u001B[39menviron[\u001B[38;5;124m\"\u001B[39m\u001B[38;5;124mOMP_NUM_THREADS\u001B[39m\u001B[38;5;124m\"\u001B[39m])\n\u001B[1;32m     42\u001B[0m     sess_opts\u001B[38;5;241m.\u001B[39mintra_op_num_threads \u001B[38;5;241m=\u001B[39m \u001B[38;5;28mint\u001B[39m(os\u001B[38;5;241m.\u001B[39menviron[\u001B[38;5;124m\"\u001B[39m\u001B[38;5;124mOMP_NUM_THREADS\u001B[39m\u001B[38;5;124m\"\u001B[39m])\n\u001B[0;32m---> 44\u001B[0m \u001B[38;5;28;01mreturn\u001B[39;00m \u001B[43msession_class\u001B[49m\u001B[43m(\u001B[49m\u001B[43mmodel_name\u001B[49m\u001B[43m,\u001B[49m\u001B[43m \u001B[49m\u001B[43msess_opts\u001B[49m\u001B[43m,\u001B[49m\u001B[43m \u001B[49m\u001B[43mproviders\u001B[49m\u001B[43m,\u001B[49m\u001B[43m \u001B[49m\u001B[38;5;241;43m*\u001B[39;49m\u001B[43margs\u001B[49m\u001B[43m,\u001B[49m\u001B[43m \u001B[49m\u001B[38;5;241;43m*\u001B[39;49m\u001B[38;5;241;43m*\u001B[39;49m\u001B[43mkwargs\u001B[49m\u001B[43m)\u001B[49m\n",
      "File \u001B[0;32m~/.local/share/virtualenvs/DSPRO2-outfit-recommendation-etrui0aa/lib/python3.10/site-packages/rembg/sessions/base.py:34\u001B[0m, in \u001B[0;36mBaseSession.__init__\u001B[0;34m(self, model_name, sess_opts, providers, *args, **kwargs)\u001B[0m\n\u001B[1;32m     31\u001B[0m \u001B[38;5;28;01melse\u001B[39;00m:\n\u001B[1;32m     32\u001B[0m     \u001B[38;5;28mself\u001B[39m\u001B[38;5;241m.\u001B[39mproviders\u001B[38;5;241m.\u001B[39mextend(_providers)\n\u001B[0;32m---> 34\u001B[0m \u001B[38;5;28mself\u001B[39m\u001B[38;5;241m.\u001B[39minner_session \u001B[38;5;241m=\u001B[39m \u001B[43mort\u001B[49m\u001B[38;5;241;43m.\u001B[39;49m\u001B[43mInferenceSession\u001B[49m\u001B[43m(\u001B[49m\n\u001B[1;32m     35\u001B[0m \u001B[43m    \u001B[49m\u001B[38;5;28;43mstr\u001B[39;49m\u001B[43m(\u001B[49m\u001B[38;5;28;43mself\u001B[39;49m\u001B[38;5;241;43m.\u001B[39;49m\u001B[38;5;18;43m__class__\u001B[39;49m\u001B[38;5;241;43m.\u001B[39;49m\u001B[43mdownload_models\u001B[49m\u001B[43m(\u001B[49m\u001B[38;5;241;43m*\u001B[39;49m\u001B[43margs\u001B[49m\u001B[43m,\u001B[49m\u001B[43m \u001B[49m\u001B[38;5;241;43m*\u001B[39;49m\u001B[38;5;241;43m*\u001B[39;49m\u001B[43mkwargs\u001B[49m\u001B[43m)\u001B[49m\u001B[43m)\u001B[49m\u001B[43m,\u001B[49m\n\u001B[1;32m     36\u001B[0m \u001B[43m    \u001B[49m\u001B[43mproviders\u001B[49m\u001B[38;5;241;43m=\u001B[39;49m\u001B[38;5;28;43mself\u001B[39;49m\u001B[38;5;241;43m.\u001B[39;49m\u001B[43mproviders\u001B[49m\u001B[43m,\u001B[49m\n\u001B[1;32m     37\u001B[0m \u001B[43m    \u001B[49m\u001B[43msess_options\u001B[49m\u001B[38;5;241;43m=\u001B[39;49m\u001B[43msess_opts\u001B[49m\u001B[43m,\u001B[49m\n\u001B[1;32m     38\u001B[0m \u001B[43m\u001B[49m\u001B[43m)\u001B[49m\n",
      "File \u001B[0;32m~/.local/share/virtualenvs/DSPRO2-outfit-recommendation-etrui0aa/lib/python3.10/site-packages/onnxruntime/capi/onnxruntime_inference_collection.py:419\u001B[0m, in \u001B[0;36mInferenceSession.__init__\u001B[0;34m(self, path_or_bytes, sess_options, providers, provider_options, **kwargs)\u001B[0m\n\u001B[1;32m    416\u001B[0m disabled_optimizers \u001B[38;5;241m=\u001B[39m kwargs[\u001B[38;5;124m\"\u001B[39m\u001B[38;5;124mdisabled_optimizers\u001B[39m\u001B[38;5;124m\"\u001B[39m] \u001B[38;5;28;01mif\u001B[39;00m \u001B[38;5;124m\"\u001B[39m\u001B[38;5;124mdisabled_optimizers\u001B[39m\u001B[38;5;124m\"\u001B[39m \u001B[38;5;129;01min\u001B[39;00m kwargs \u001B[38;5;28;01melse\u001B[39;00m \u001B[38;5;28;01mNone\u001B[39;00m\n\u001B[1;32m    418\u001B[0m \u001B[38;5;28;01mtry\u001B[39;00m:\n\u001B[0;32m--> 419\u001B[0m     \u001B[38;5;28;43mself\u001B[39;49m\u001B[38;5;241;43m.\u001B[39;49m\u001B[43m_create_inference_session\u001B[49m\u001B[43m(\u001B[49m\u001B[43mproviders\u001B[49m\u001B[43m,\u001B[49m\u001B[43m \u001B[49m\u001B[43mprovider_options\u001B[49m\u001B[43m,\u001B[49m\u001B[43m \u001B[49m\u001B[43mdisabled_optimizers\u001B[49m\u001B[43m)\u001B[49m\n\u001B[1;32m    420\u001B[0m \u001B[38;5;28;01mexcept\u001B[39;00m (\u001B[38;5;167;01mValueError\u001B[39;00m, \u001B[38;5;167;01mRuntimeError\u001B[39;00m) \u001B[38;5;28;01mas\u001B[39;00m e:\n\u001B[1;32m    421\u001B[0m     \u001B[38;5;28;01mif\u001B[39;00m \u001B[38;5;28mself\u001B[39m\u001B[38;5;241m.\u001B[39m_enable_fallback:\n",
      "File \u001B[0;32m~/.local/share/virtualenvs/DSPRO2-outfit-recommendation-etrui0aa/lib/python3.10/site-packages/onnxruntime/capi/onnxruntime_inference_collection.py:483\u001B[0m, in \u001B[0;36mInferenceSession._create_inference_session\u001B[0;34m(self, providers, provider_options, disabled_optimizers)\u001B[0m\n\u001B[1;32m    480\u001B[0m     disabled_optimizers \u001B[38;5;241m=\u001B[39m \u001B[38;5;28mset\u001B[39m(disabled_optimizers)\n\u001B[1;32m    482\u001B[0m \u001B[38;5;66;03m# initialize the C++ InferenceSession\u001B[39;00m\n\u001B[0;32m--> 483\u001B[0m \u001B[43msess\u001B[49m\u001B[38;5;241;43m.\u001B[39;49m\u001B[43minitialize_session\u001B[49m\u001B[43m(\u001B[49m\u001B[43mproviders\u001B[49m\u001B[43m,\u001B[49m\u001B[43m \u001B[49m\u001B[43mprovider_options\u001B[49m\u001B[43m,\u001B[49m\u001B[43m \u001B[49m\u001B[43mdisabled_optimizers\u001B[49m\u001B[43m)\u001B[49m\n\u001B[1;32m    485\u001B[0m \u001B[38;5;28mself\u001B[39m\u001B[38;5;241m.\u001B[39m_sess \u001B[38;5;241m=\u001B[39m sess\n\u001B[1;32m    486\u001B[0m \u001B[38;5;28mself\u001B[39m\u001B[38;5;241m.\u001B[39m_sess_options \u001B[38;5;241m=\u001B[39m \u001B[38;5;28mself\u001B[39m\u001B[38;5;241m.\u001B[39m_sess\u001B[38;5;241m.\u001B[39msession_options\n",
      "\u001B[0;31mKeyboardInterrupt\u001B[0m: "
     ]
    }
   ],
   "source": [
    "for ordnerpfad, _, dateien in os.walk(input_path):\n",
    "    for datei in dateien:\n",
    "        if datei.lower().endswith(('.jpg', '.jpeg', '.png')):\n",
    "            # Construct the input and output paths\n",
    "            print(ordnerpfad)\n",
    "            last_part = os.path.basename(ordnerpfad)\n",
    "            final_output_path = output_path + \"/\" +last_part\n",
    "            os.makedirs(final_output_path, exist_ok=True)\n",
    "            print(final_output_path)\n",
    "            removebg(ordnerpfad + '/' + datei, final_output_path, datei)"
   ],
   "metadata": {
    "collapsed": false,
    "ExecuteTime": {
     "end_time": "2024-04-19T13:00:31.490343Z",
     "start_time": "2024-04-19T12:59:33.790091Z"
    }
   },
   "id": "dc97fac120c51750"
  },
  {
   "cell_type": "code",
   "execution_count": null,
   "outputs": [],
   "source": [],
   "metadata": {
    "collapsed": false,
    "ExecuteTime": {
     "start_time": "2024-04-19T13:00:31.489197Z"
    }
   },
   "id": "2f91685e29ab540c"
  }
 ],
 "metadata": {
  "kernelspec": {
   "display_name": "Python 3",
   "language": "python",
   "name": "python3"
  },
  "language_info": {
   "codemirror_mode": {
    "name": "ipython",
    "version": 2
   },
   "file_extension": ".py",
   "mimetype": "text/x-python",
   "name": "python",
   "nbconvert_exporter": "python",
   "pygments_lexer": "ipython2",
   "version": "2.7.6"
  }
 },
 "nbformat": 4,
 "nbformat_minor": 5
}
