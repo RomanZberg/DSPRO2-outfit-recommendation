{
 "cells": [
  {
   "cell_type": "code",
   "execution_count": 60,
   "metadata": {
    "collapsed": true,
    "ExecuteTime": {
     "end_time": "2024-05-30T17:34:44.411466Z",
     "start_time": "2024-05-30T17:34:44.337160Z"
    }
   },
   "outputs": [],
   "source": [
    "import numpy as np\n",
    "import pandas as pd\n",
    "import seaborn as sns\n",
    "from enum import IntEnum\n",
    "from dataclasses import dataclass\n",
    "from enum import Enum\n",
    "import copy\n",
    "from colorthief import ColorThief\n",
    "import os\n",
    "from tqdm import tqdm\n",
    "from pathlib import Path\n",
    "from pandas.util import hash_pandas_object\n",
    "import hashlib\n"
   ]
  },
  {
   "cell_type": "code",
   "execution_count": 61,
   "outputs": [],
   "source": [
    "df = pd.read_parquet('../../../datasets/cleaned/polyvore_v1.parquet')"
   ],
   "metadata": {
    "collapsed": false,
    "ExecuteTime": {
     "end_time": "2024-05-30T17:34:44.610486Z",
     "start_time": "2024-05-30T17:34:44.343560Z"
    }
   }
  },
  {
   "cell_type": "markdown",
   "source": [
    "# Calculating like / view ratio"
   ],
   "metadata": {
    "collapsed": false
   }
  },
  {
   "cell_type": "code",
   "execution_count": 62,
   "outputs": [],
   "source": [
    "df[\"Ratio\"] = df[\"outfitLikes\"] / df[\"outfitViews\"]"
   ],
   "metadata": {
    "collapsed": false,
    "ExecuteTime": {
     "end_time": "2024-05-30T17:34:44.632445Z",
     "start_time": "2024-05-30T17:34:44.370492Z"
    }
   }
  },
  {
   "cell_type": "code",
   "execution_count": 63,
   "outputs": [
    {
     "data": {
      "text/plain": "count    30370.000000\nmean         0.281321\nstd          1.311706\nmin          0.000662\n25%          0.090909\n50%          0.189711\n75%          0.314286\nmax         54.750000\nName: Ratio, dtype: float64"
     },
     "execution_count": 63,
     "metadata": {},
     "output_type": "execute_result"
    }
   ],
   "source": [
    "df[\"Ratio\"].describe()"
   ],
   "metadata": {
    "collapsed": false,
    "ExecuteTime": {
     "end_time": "2024-05-30T17:34:44.650586Z",
     "start_time": "2024-05-30T17:34:44.375116Z"
    }
   }
  },
  {
   "cell_type": "code",
   "execution_count": 64,
   "outputs": [
    {
     "data": {
      "text/plain": "                  outfitName  outfitViews  wearType     type  outfitLikes  \\\n287                      bts            7       3.0  outwear            8   \n288                      bts            7       4.0    pants            8   \n289                      bts            7       2.0      top            8   \n423      Embellished Sleeves           59       2.0      top           79   \n424      Embellished Sleeves           59       4.0    skirt           79   \n...                      ...          ...       ...      ...          ...   \n135612  Boho Babyliscious...            5       5.0    shoes          136   \n135613  Boho Babyliscious...            5       1.0      bag          136   \n137151           Untitled #2           11       2.0      top           13   \n137152           Untitled #2           11       4.0    skirt           13   \n137153           Untitled #2           11       5.0    shoes           13   \n\n             date     set_id  \\\n287      6 months  205802546   \n288      6 months  205802546   \n289      6 months  205802546   \n423      21 hours  217006074   \n424      21 hours  217006074   \n...           ...        ...   \n135612   18 hours  217010399   \n135613   18 hours  217010399   \n137151  11 months  193585667   \n137152  11 months  193585667   \n137153  11 months  193585667   \n\n                                               outfitDesc  clothingItemIndex  \\\n287     A fashion look from August 2016 by roffy-1999 ...                  1   \n288     A fashion look from August 2016 by roffy-1999 ...                  2   \n289     A fashion look from August 2016 by roffy-1999 ...                  3   \n423     A fashion look from February 2017 by emcf3548 ...                  1   \n424     A fashion look from February 2017 by emcf3548 ...                  2   \n...                                                   ...                ...   \n135612  A fashion look from February 2017 by hattie4pa...                  3   \n135613  A fashion look from February 2017 by hattie4pa...                  4   \n137151  A fashion look from March 2016 by martats feat...                  1   \n137152  A fashion look from March 2016 by martats feat...                  2   \n137153  A fashion look from March 2016 by martats feat...                  3   \n\n                                         clothingItemName  clothingItemPrice  \\\n287     zizzi pink plus size zip collar leather biker ...              57.00   \n288                          lizzie black distressed jean              57.00   \n289            river island black cut-out bikini tank top               9.93   \n423                     emilio pucci silk tie neck blouse             542.00   \n424                   warehouse ribbed sparkle tube skirt              12.00   \n...                                                   ...                ...   \n135612             chloé harper lace-up suede ankle boots            1050.00   \n135613   christian louboutin small leather cross-body bag            1650.00   \n137151                                                row            1175.00   \n137152                              red jersey line skirt              61.00   \n137153                                         jil sander             451.00   \n\n        clothingItemLikes  clothingItemCategoryId                   imagePath  \\\n287                 18680                      25  raw/images/205802546/1.jpg   \n288                  8138                     237  raw/images/205802546/2.jpg   \n289                  1105                       2  raw/images/205802546/3.jpg   \n423                   152                      17  raw/images/217006074/1.jpg   \n424                  5268                       7  raw/images/217006074/2.jpg   \n...                   ...                     ...                         ...   \n135612                  5                     261  raw/images/217010399/3.jpg   \n135613                  4                      37  raw/images/217010399/4.jpg   \n137151               1914                      19  raw/images/193585667/1.jpg   \n137152               1541                       9  raw/images/193585667/2.jpg   \n137153                320                      41  raw/images/193585667/3.jpg   \n\n            Ratio  \n287      1.142857  \n288      1.142857  \n289      1.142857  \n423      1.338983  \n424      1.338983  \n...           ...  \n135612  27.200000  \n135613  27.200000  \n137151   1.181818  \n137152   1.181818  \n137153   1.181818  \n\n[289 rows x 15 columns]",
      "text/html": "<div>\n<style scoped>\n    .dataframe tbody tr th:only-of-type {\n        vertical-align: middle;\n    }\n\n    .dataframe tbody tr th {\n        vertical-align: top;\n    }\n\n    .dataframe thead th {\n        text-align: right;\n    }\n</style>\n<table border=\"1\" class=\"dataframe\">\n  <thead>\n    <tr style=\"text-align: right;\">\n      <th></th>\n      <th>outfitName</th>\n      <th>outfitViews</th>\n      <th>wearType</th>\n      <th>type</th>\n      <th>outfitLikes</th>\n      <th>date</th>\n      <th>set_id</th>\n      <th>outfitDesc</th>\n      <th>clothingItemIndex</th>\n      <th>clothingItemName</th>\n      <th>clothingItemPrice</th>\n      <th>clothingItemLikes</th>\n      <th>clothingItemCategoryId</th>\n      <th>imagePath</th>\n      <th>Ratio</th>\n    </tr>\n  </thead>\n  <tbody>\n    <tr>\n      <th>287</th>\n      <td>bts</td>\n      <td>7</td>\n      <td>3.0</td>\n      <td>outwear</td>\n      <td>8</td>\n      <td>6 months</td>\n      <td>205802546</td>\n      <td>A fashion look from August 2016 by roffy-1999 ...</td>\n      <td>1</td>\n      <td>zizzi pink plus size zip collar leather biker ...</td>\n      <td>57.00</td>\n      <td>18680</td>\n      <td>25</td>\n      <td>raw/images/205802546/1.jpg</td>\n      <td>1.142857</td>\n    </tr>\n    <tr>\n      <th>288</th>\n      <td>bts</td>\n      <td>7</td>\n      <td>4.0</td>\n      <td>pants</td>\n      <td>8</td>\n      <td>6 months</td>\n      <td>205802546</td>\n      <td>A fashion look from August 2016 by roffy-1999 ...</td>\n      <td>2</td>\n      <td>lizzie black distressed jean</td>\n      <td>57.00</td>\n      <td>8138</td>\n      <td>237</td>\n      <td>raw/images/205802546/2.jpg</td>\n      <td>1.142857</td>\n    </tr>\n    <tr>\n      <th>289</th>\n      <td>bts</td>\n      <td>7</td>\n      <td>2.0</td>\n      <td>top</td>\n      <td>8</td>\n      <td>6 months</td>\n      <td>205802546</td>\n      <td>A fashion look from August 2016 by roffy-1999 ...</td>\n      <td>3</td>\n      <td>river island black cut-out bikini tank top</td>\n      <td>9.93</td>\n      <td>1105</td>\n      <td>2</td>\n      <td>raw/images/205802546/3.jpg</td>\n      <td>1.142857</td>\n    </tr>\n    <tr>\n      <th>423</th>\n      <td>Embellished Sleeves</td>\n      <td>59</td>\n      <td>2.0</td>\n      <td>top</td>\n      <td>79</td>\n      <td>21 hours</td>\n      <td>217006074</td>\n      <td>A fashion look from February 2017 by emcf3548 ...</td>\n      <td>1</td>\n      <td>emilio pucci silk tie neck blouse</td>\n      <td>542.00</td>\n      <td>152</td>\n      <td>17</td>\n      <td>raw/images/217006074/1.jpg</td>\n      <td>1.338983</td>\n    </tr>\n    <tr>\n      <th>424</th>\n      <td>Embellished Sleeves</td>\n      <td>59</td>\n      <td>4.0</td>\n      <td>skirt</td>\n      <td>79</td>\n      <td>21 hours</td>\n      <td>217006074</td>\n      <td>A fashion look from February 2017 by emcf3548 ...</td>\n      <td>2</td>\n      <td>warehouse ribbed sparkle tube skirt</td>\n      <td>12.00</td>\n      <td>5268</td>\n      <td>7</td>\n      <td>raw/images/217006074/2.jpg</td>\n      <td>1.338983</td>\n    </tr>\n    <tr>\n      <th>...</th>\n      <td>...</td>\n      <td>...</td>\n      <td>...</td>\n      <td>...</td>\n      <td>...</td>\n      <td>...</td>\n      <td>...</td>\n      <td>...</td>\n      <td>...</td>\n      <td>...</td>\n      <td>...</td>\n      <td>...</td>\n      <td>...</td>\n      <td>...</td>\n      <td>...</td>\n    </tr>\n    <tr>\n      <th>135612</th>\n      <td>Boho Babyliscious...</td>\n      <td>5</td>\n      <td>5.0</td>\n      <td>shoes</td>\n      <td>136</td>\n      <td>18 hours</td>\n      <td>217010399</td>\n      <td>A fashion look from February 2017 by hattie4pa...</td>\n      <td>3</td>\n      <td>chloé harper lace-up suede ankle boots</td>\n      <td>1050.00</td>\n      <td>5</td>\n      <td>261</td>\n      <td>raw/images/217010399/3.jpg</td>\n      <td>27.200000</td>\n    </tr>\n    <tr>\n      <th>135613</th>\n      <td>Boho Babyliscious...</td>\n      <td>5</td>\n      <td>1.0</td>\n      <td>bag</td>\n      <td>136</td>\n      <td>18 hours</td>\n      <td>217010399</td>\n      <td>A fashion look from February 2017 by hattie4pa...</td>\n      <td>4</td>\n      <td>christian louboutin small leather cross-body bag</td>\n      <td>1650.00</td>\n      <td>4</td>\n      <td>37</td>\n      <td>raw/images/217010399/4.jpg</td>\n      <td>27.200000</td>\n    </tr>\n    <tr>\n      <th>137151</th>\n      <td>Untitled #2</td>\n      <td>11</td>\n      <td>2.0</td>\n      <td>top</td>\n      <td>13</td>\n      <td>11 months</td>\n      <td>193585667</td>\n      <td>A fashion look from March 2016 by martats feat...</td>\n      <td>1</td>\n      <td>row</td>\n      <td>1175.00</td>\n      <td>1914</td>\n      <td>19</td>\n      <td>raw/images/193585667/1.jpg</td>\n      <td>1.181818</td>\n    </tr>\n    <tr>\n      <th>137152</th>\n      <td>Untitled #2</td>\n      <td>11</td>\n      <td>4.0</td>\n      <td>skirt</td>\n      <td>13</td>\n      <td>11 months</td>\n      <td>193585667</td>\n      <td>A fashion look from March 2016 by martats feat...</td>\n      <td>2</td>\n      <td>red jersey line skirt</td>\n      <td>61.00</td>\n      <td>1541</td>\n      <td>9</td>\n      <td>raw/images/193585667/2.jpg</td>\n      <td>1.181818</td>\n    </tr>\n    <tr>\n      <th>137153</th>\n      <td>Untitled #2</td>\n      <td>11</td>\n      <td>5.0</td>\n      <td>shoes</td>\n      <td>13</td>\n      <td>11 months</td>\n      <td>193585667</td>\n      <td>A fashion look from March 2016 by martats feat...</td>\n      <td>3</td>\n      <td>jil sander</td>\n      <td>451.00</td>\n      <td>320</td>\n      <td>41</td>\n      <td>raw/images/193585667/3.jpg</td>\n      <td>1.181818</td>\n    </tr>\n  </tbody>\n</table>\n<p>289 rows × 15 columns</p>\n</div>"
     },
     "execution_count": 64,
     "metadata": {},
     "output_type": "execute_result"
    }
   ],
   "source": [
    "df[df[\"Ratio\"] > 1]"
   ],
   "metadata": {
    "collapsed": false
   }
  },
  {
   "cell_type": "markdown",
   "source": [
    "## Visualize Distribution"
   ],
   "metadata": {
    "collapsed": false
   }
  },
  {
   "cell_type": "code",
   "execution_count": 5,
   "outputs": [
    {
     "data": {
      "text/plain": "<Axes: >"
     },
     "execution_count": 5,
     "metadata": {},
     "output_type": "execute_result"
    },
    {
     "data": {
      "text/plain": "<Figure size 640x480 with 1 Axes>",
      "image/png": "[encoded data removed]"
     },
     "metadata": {},
     "output_type": "display_data"
    }
   ],
   "source": [
    "df['Ratio'].hist()"
   ],
   "metadata": {
    "collapsed": false,
    "ExecuteTime": {
     "end_time": "2024-05-30T17:34:44.653927Z",
     "start_time": "2024-05-30T17:34:44.391102Z"
    }
   }
  },
  {
   "cell_type": "code",
   "execution_count": 6,
   "outputs": [
    {
     "data": {
      "text/plain": "<Axes: >"
     },
     "execution_count": 6,
     "metadata": {},
     "output_type": "execute_result"
    },
    {
     "data": {
      "text/plain": "<Figure size 640x480 with 1 Axes>",
      "image/png": "[encoded data removed]"
     },
     "metadata": {},
     "output_type": "display_data"
    }
   ],
   "source": [
    "df[df['Ratio'] < 2]['Ratio'].hist()"
   ],
   "metadata": {
    "collapsed": false,
    "ExecuteTime": {
     "end_time": "2024-05-30T17:34:44.806770Z",
     "start_time": "2024-05-30T17:34:44.583495Z"
    }
   }
  },
  {
   "cell_type": "code",
   "execution_count": 7,
   "outputs": [],
   "source": [
    "df = df.drop(df[df[\"Ratio\"] > 1.0].index)"
   ],
   "metadata": {
    "collapsed": false,
    "ExecuteTime": {
     "end_time": "2024-05-30T17:34:44.813208Z",
     "start_time": "2024-05-30T17:34:44.802312Z"
    }
   }
  },
  {
   "cell_type": "markdown",
   "source": [
    "## optimize distribution by taking the logarithm of the ratio"
   ],
   "metadata": {
    "collapsed": false
   }
  },
  {
   "cell_type": "code",
   "execution_count": 8,
   "outputs": [],
   "source": [
    "df[\"Ratio_Log\"] = np.log10(df[\"outfitLikes\"] / df[\"outfitViews\"])"
   ],
   "metadata": {
    "collapsed": false,
    "ExecuteTime": {
     "end_time": "2024-05-30T17:34:44.825914Z",
     "start_time": "2024-05-30T17:34:44.815315Z"
    }
   }
  },
  {
   "cell_type": "code",
   "execution_count": 9,
   "outputs": [
    {
     "data": {
      "text/plain": "<Axes: >"
     },
     "execution_count": 9,
     "metadata": {},
     "output_type": "execute_result"
    },
    {
     "data": {
      "text/plain": "<Figure size 640x480 with 1 Axes>",
      "image/png": "[encoded data removed]"
     },
     "metadata": {},
     "output_type": "display_data"
    }
   ],
   "source": [
    "df['Ratio_Log'].hist()"
   ],
   "metadata": {
    "collapsed": false,
    "ExecuteTime": {
     "end_time": "2024-05-30T17:34:44.992972Z",
     "start_time": "2024-05-30T17:34:44.832784Z"
    }
   }
  },
  {
   "cell_type": "code",
   "execution_count": 10,
   "outputs": [],
   "source": [
    "# I want to create a new dataframe with the unique indexes of the setID. So every setID should only appear once.\n",
    "df_copy = copy.deepcopy(df)\n",
    "setIDs = df_copy[\"set_id\"].unique()"
   ],
   "metadata": {
    "collapsed": false,
    "ExecuteTime": {
     "end_time": "2024-05-30T17:34:45.002378Z",
     "start_time": "2024-05-30T17:34:44.993542Z"
    }
   }
  },
  {
   "cell_type": "code",
   "execution_count": 11,
   "outputs": [
    {
     "data": {
      "text/plain": "                                           outfitName  outfitViews  wearType  \\\n7   Being a Vans shoe model with Luke. Idk about t...          188       2.0   \n8   Being a Vans shoe model with Luke. Idk about t...          188       4.0   \n15                These Chanel bags is a bad habit .x          562       2.0   \n17                These Chanel bags is a bad habit .x          562       4.0   \n19                These Chanel bags is a bad habit .x          562       1.0   \n\n     type  outfitLikes       date     set_id  \\\n7     top            9  Two years  120161271   \n8   pants            9  Two years  120161271   \n15    top           32  Two years  143656996   \n17  pants           32  Two years  143656996   \n19    bag           32  Two years  143656996   \n\n                                           outfitDesc  clothingItemIndex  \\\n7   A fashion look from April 2014 featuring destr...                  1   \n8   A fashion look from April 2014 featuring destr...                  2   \n15                                           12.19.14                  1   \n17                                           12.19.14                  3   \n19                                           12.19.14                  5   \n\n                            clothingItemName  clothingItemPrice  \\\n7                 nirvana distressed t-shirt               10.0   \n8        rag bone rock w/ black skinny jeans              235.0   \n15                             monki singlet               16.0   \n17  topshop moto joni high rise skinny jeans               65.0   \n19             pre-owned chanel shoulder bag             2450.0   \n\n    clothingItemLikes  clothingItemCategoryId                   imagePath  \\\n7                1290                      21  raw/images/120161271/1.jpg   \n8               17406                     237  raw/images/120161271/2.jpg   \n15              20094                     104  raw/images/143656996/1.jpg   \n17              23324                     237  raw/images/143656996/3.jpg   \n19               4489                      37  raw/images/143656996/5.jpg   \n\n       Ratio  Ratio_Log  \n7   0.047872  -1.319915  \n8   0.047872  -1.319915  \n15  0.056940  -1.244586  \n17  0.056940  -1.244586  \n19  0.056940  -1.244586  ",
      "text/html": "<div>\n<style scoped>\n    .dataframe tbody tr th:only-of-type {\n        vertical-align: middle;\n    }\n\n    .dataframe tbody tr th {\n        vertical-align: top;\n    }\n\n    .dataframe thead th {\n        text-align: right;\n    }\n</style>\n<table border=\"1\" class=\"dataframe\">\n  <thead>\n    <tr style=\"text-align: right;\">\n      <th></th>\n      <th>outfitName</th>\n      <th>outfitViews</th>\n      <th>wearType</th>\n      <th>type</th>\n      <th>outfitLikes</th>\n      <th>date</th>\n      <th>set_id</th>\n      <th>outfitDesc</th>\n      <th>clothingItemIndex</th>\n      <th>clothingItemName</th>\n      <th>clothingItemPrice</th>\n      <th>clothingItemLikes</th>\n      <th>clothingItemCategoryId</th>\n      <th>imagePath</th>\n      <th>Ratio</th>\n      <th>Ratio_Log</th>\n    </tr>\n  </thead>\n  <tbody>\n    <tr>\n      <th>7</th>\n      <td>Being a Vans shoe model with Luke. Idk about t...</td>\n      <td>188</td>\n      <td>2.0</td>\n      <td>top</td>\n      <td>9</td>\n      <td>Two years</td>\n      <td>120161271</td>\n      <td>A fashion look from April 2014 featuring destr...</td>\n      <td>1</td>\n      <td>nirvana distressed t-shirt</td>\n      <td>10.0</td>\n      <td>1290</td>\n      <td>21</td>\n      <td>raw/images/120161271/1.jpg</td>\n      <td>0.047872</td>\n      <td>-1.319915</td>\n    </tr>\n    <tr>\n      <th>8</th>\n      <td>Being a Vans shoe model with Luke. Idk about t...</td>\n      <td>188</td>\n      <td>4.0</td>\n      <td>pants</td>\n      <td>9</td>\n      <td>Two years</td>\n      <td>120161271</td>\n      <td>A fashion look from April 2014 featuring destr...</td>\n      <td>2</td>\n      <td>rag bone rock w/ black skinny jeans</td>\n      <td>235.0</td>\n      <td>17406</td>\n      <td>237</td>\n      <td>raw/images/120161271/2.jpg</td>\n      <td>0.047872</td>\n      <td>-1.319915</td>\n    </tr>\n    <tr>\n      <th>15</th>\n      <td>These Chanel bags is a bad habit .x</td>\n      <td>562</td>\n      <td>2.0</td>\n      <td>top</td>\n      <td>32</td>\n      <td>Two years</td>\n      <td>143656996</td>\n      <td>12.19.14</td>\n      <td>1</td>\n      <td>monki singlet</td>\n      <td>16.0</td>\n      <td>20094</td>\n      <td>104</td>\n      <td>raw/images/143656996/1.jpg</td>\n      <td>0.056940</td>\n      <td>-1.244586</td>\n    </tr>\n    <tr>\n      <th>17</th>\n      <td>These Chanel bags is a bad habit .x</td>\n      <td>562</td>\n      <td>4.0</td>\n      <td>pants</td>\n      <td>32</td>\n      <td>Two years</td>\n      <td>143656996</td>\n      <td>12.19.14</td>\n      <td>3</td>\n      <td>topshop moto joni high rise skinny jeans</td>\n      <td>65.0</td>\n      <td>23324</td>\n      <td>237</td>\n      <td>raw/images/143656996/3.jpg</td>\n      <td>0.056940</td>\n      <td>-1.244586</td>\n    </tr>\n    <tr>\n      <th>19</th>\n      <td>These Chanel bags is a bad habit .x</td>\n      <td>562</td>\n      <td>1.0</td>\n      <td>bag</td>\n      <td>32</td>\n      <td>Two years</td>\n      <td>143656996</td>\n      <td>12.19.14</td>\n      <td>5</td>\n      <td>pre-owned chanel shoulder bag</td>\n      <td>2450.0</td>\n      <td>4489</td>\n      <td>37</td>\n      <td>raw/images/143656996/5.jpg</td>\n      <td>0.056940</td>\n      <td>-1.244586</td>\n    </tr>\n  </tbody>\n</table>\n</div>"
     },
     "execution_count": 11,
     "metadata": {},
     "output_type": "execute_result"
    }
   ],
   "source": [
    "df.head()"
   ],
   "metadata": {
    "collapsed": false,
    "ExecuteTime": {
     "end_time": "2024-05-30T17:34:45.050333Z",
     "start_time": "2024-05-30T17:34:45.011117Z"
    }
   }
  },
  {
   "cell_type": "markdown",
   "source": [
    "# Create new dataframe with one row per outfit and items of that outfit as columns"
   ],
   "metadata": {
    "collapsed": false
   }
  },
  {
   "cell_type": "code",
   "execution_count": 12,
   "outputs": [],
   "source": [
    "def add_item_to_setID(setID, item, wearType):\n",
    "    df_setID.loc[setID, f\"{wearType} ClothingItemName\"] = item[\"clothingItemName\"]\n",
    "    df_setID.loc[setID, f\"{wearType} wearType\"] = item[\"wearType\"]\n",
    "    df_setID.loc[setID, f\"{wearType}_imagePath\"] = item[\"imagePath\"]\n",
    "\n",
    "\n",
    "def add_bg_removed_path_to_df(imagePath):\n",
    "    raw, images, number, file = imagePath.split(\"/\")\n",
    "    endnumber, end = file.split(\".\")\n",
    "\n",
    "    return f\"datasets/bg_removed/{number}/{endnumber}.png\"\n",
    "\n",
    "\n",
    "def add_images256x256_path_to_df(imagePath):\n",
    "    if type(imagePath) != str:\n",
    "        return None\n",
    "    raw, images, number, file = imagePath.split(\"/\")\n",
    "\n",
    "    return f\"datasets/images_256x256/{number}/{file}\""
   ],
   "metadata": {
    "collapsed": false,
    "ExecuteTime": {
     "end_time": "2024-05-30T17:34:45.050582Z",
     "start_time": "2024-05-30T17:34:45.018484Z"
    }
   }
  },
  {
   "cell_type": "code",
   "execution_count": 13,
   "outputs": [
    {
     "name": "stderr",
     "output_type": "stream",
     "text": [
      "100%|██████████| 6723/6723 [00:55<00:00, 121.71it/s]\n"
     ]
    }
   ],
   "source": [
    "df_setID = pd.DataFrame()\n",
    "for set_id in tqdm(setIDs):\n",
    "    #Initialisatio\n",
    "    items = df[df[\"set_id\"] == set_id]\n",
    "    df_items = pd.DataFrame(items)\n",
    "    added_accessoire = False\n",
    "\n",
    "    #Adding the basic information about the SetID\n",
    "    df_setID.loc[set_id, \"OutfitName\"] = df[df[\"set_id\"] == set_id][\"outfitName\"].values[0]\n",
    "    df_setID.loc[set_id, \"outfitDesc\"] = df[df[\"set_id\"] == set_id][\"outfitDesc\"].values[0]\n",
    "    df_setID.loc[set_id, \"outfitViews\"] = df[df[\"set_id\"] == set_id][\"outfitViews\"].values[0]\n",
    "    df_setID.loc[set_id, \"outfitLikes\"] = df[df[\"set_id\"] == set_id][\"outfitLikes\"].values[0]\n",
    "    df_setID.loc[set_id, \"Ratio\"] = df[df[\"set_id\"] == set_id][\"Ratio_Log\"].values[0]\n",
    "\n",
    "    #Adding the items to the setID\n",
    "    for index, item in df_items.iterrows():\n",
    "        if (item[\"wearType\"] == 1.0) and added_accessoire:\n",
    "            #print(\"Sorry, es wurde bereits ein Accessoirces hinzugefügt\")\n",
    "            continue\n",
    "        if (item[\"wearType\"] == 5.0):\n",
    "            add_item_to_setID(set_id, item, \"Shoes\")\n",
    "        elif (item[\"wearType\"] == 4.0):\n",
    "            add_item_to_setID(set_id, item, \"Bottomwear\")\n",
    "        elif (item[\"wearType\"] == 2.0):\n",
    "            add_item_to_setID(set_id, item, \"Innerwear\")\n",
    "        elif (item[\"wearType\"] == 3.0):\n",
    "            add_item_to_setID(set_id, item, \"Outerwear\")\n",
    "        elif (item[\"wearType\"] == 1.0):\n",
    "            add_item_to_setID(set_id, item, \"Accessoire\")\n",
    "            added_accessoire = True\n",
    "        else:\n",
    "            #print(item[\"wearType\"])\n",
    "            raise ValueError(\"WearType not found\")"
   ],
   "metadata": {
    "collapsed": false,
    "ExecuteTime": {
     "end_time": "2024-05-30T17:35:18.963746Z",
     "start_time": "2024-05-30T17:34:45.031777Z"
    }
   }
  },
  {
   "cell_type": "code",
   "execution_count": 14,
   "outputs": [],
   "source": [
    "df_setID['Innerwear_imagePath 256x256'] = df_setID['Innerwear_imagePath'].apply(add_images256x256_path_to_df)\n",
    "df_setID['Bottomwear_imagePath 256x256'] = df_setID['Bottomwear_imagePath'].apply(add_images256x256_path_to_df)\n",
    "df_setID['Accessoire_imagePath 256x256'] = df_setID['Accessoire_imagePath'].apply(add_images256x256_path_to_df)\n",
    "df_setID['Shoes_imagePath 256x256'] = df_setID['Shoes_imagePath'].apply(add_images256x256_path_to_df)\n",
    "df_setID['Outerwear_imagePath 256x256'] = df_setID['Outerwear_imagePath'].apply(add_images256x256_path_to_df)\n",
    "#df_setID['imagePath BG-Removed'] = df['imagePath'].apply(add_bg_removed_path_to_df)"
   ],
   "metadata": {
    "collapsed": false,
    "ExecuteTime": {
     "end_time": "2024-05-30T17:35:19.010607Z",
     "start_time": "2024-05-30T17:35:18.964661Z"
    }
   }
  },
  {
   "cell_type": "markdown",
   "source": [
    "# Remove unneeded columns"
   ],
   "metadata": {
    "collapsed": false
   }
  },
  {
   "cell_type": "code",
   "execution_count": 15,
   "outputs": [],
   "source": [
    "df_setID.drop(\"OutfitName\", inplace=True, axis=1)\n",
    "df_setID.drop(\"outfitDesc\", inplace=True, axis=1)\n",
    "df_setID.drop(\"outfitLikes\", inplace=True, axis=1)\n",
    "df_setID.drop(\"outfitViews\", inplace=True, axis=1)\n",
    "df_setID.drop(\"Innerwear wearType\", inplace=True, axis=1)\n",
    "df_setID.drop(\"Bottomwear ClothingItemName\", inplace=True, axis=1)\n",
    "df_setID.drop(\"Innerwear ClothingItemName\", inplace=True, axis=1)\n",
    "df_setID.drop(\"Bottomwear wearType\", inplace=True, axis=1)\n",
    "df_setID.drop(\"Accessoire ClothingItemName\", inplace=True, axis=1)\n",
    "df_setID.drop(\"Accessoire wearType\", inplace=True, axis=1)\n",
    "df_setID.drop(\"Shoes ClothingItemName\", inplace=True, axis=1)\n",
    "df_setID.drop(\"Shoes wearType\", inplace=True, axis=1)\n",
    "df_setID.drop(\"Outerwear ClothingItemName\", inplace=True, axis=1)\n",
    "df_setID.drop(\"Outerwear wearType\", inplace=True, axis=1)"
   ],
   "metadata": {
    "collapsed": false,
    "ExecuteTime": {
     "end_time": "2024-05-30T17:35:19.011724Z",
     "start_time": "2024-05-30T17:35:18.969267Z"
    }
   }
  },
  {
   "cell_type": "code",
   "execution_count": 16,
   "outputs": [
    {
     "data": {
      "text/plain": "175397423    raw/images/175397423/5.jpg\n116409150    raw/images/116409150/5.jpg\n152918179                           NaN\n141127437    raw/images/141127437/4.jpg\n135861922    raw/images/135861922/5.jpg\n205966052    raw/images/205966052/3.jpg\n197071129    raw/images/197071129/6.jpg\n148270835                           NaN\n176526633    raw/images/176526633/5.jpg\n136842582    raw/images/136842582/4.jpg\nName: Accessoire_imagePath, dtype: object"
     },
     "execution_count": 16,
     "metadata": {},
     "output_type": "execute_result"
    }
   ],
   "source": [
    "df_setID['Accessoire_imagePath'].sample(10)"
   ],
   "metadata": {
    "collapsed": false,
    "ExecuteTime": {
     "end_time": "2024-05-30T17:35:19.013545Z",
     "start_time": "2024-05-30T17:35:18.990703Z"
    }
   }
  },
  {
   "cell_type": "markdown",
   "source": [
    "# Split Dataset"
   ],
   "metadata": {
    "collapsed": false
   }
  },
  {
   "cell_type": "code",
   "execution_count": 44,
   "outputs": [],
   "source": [
    "import pandas as pd\n",
    "from sklearn.model_selection import train_test_split\n",
    "from imblearn.over_sampling import RandomOverSampler\n",
    "\n",
    "\n",
    "def save_dataframe_to_parquet(df_to_save: pd.DataFrame, directory_path, file_name):\n",
    "    dataset_path = Path(\n",
    "        f'{directory_path}'\n",
    "    )\n",
    "\n",
    "    dataset_path.mkdir(parents=True, exist_ok=True)\n",
    "\n",
    "    file_path = f'{dataset_path}/{file_name}_{hashlib.sha256(df_to_save.to_string().encode()).hexdigest()}.parquet'\n",
    "\n",
    "    if not os.path.exists(file_path):\n",
    "        df_to_save.to_parquet(\n",
    "            file_path\n",
    "        )\n",
    "\n",
    "\n",
    "def create_train_test_and_validation_datasets_for_threshold(\n",
    "        whole_df: pd.DataFrame,\n",
    "        dataset_name,\n",
    "        threshold,\n",
    "        oversampling\n",
    "):\n",
    "    whole_df['valid_outfit'] = whole_df['Ratio'].apply(lambda x: 1 if x > threshold else 0)\n",
    "    whole_df.drop(\"Ratio\", inplace=True, axis=1)\n",
    "\n",
    "    # Aufteilen des Datensatzes in Merkmale (X) und Zielvariable (y)\n",
    "    X = whole_df.drop(columns=[\"valid_outfit\"])\n",
    "    y = whole_df[\"valid_outfit\"]\n",
    "\n",
    "    # Aufteilen des Datensatzes in Trainings- und Testdaten\n",
    "\n",
    "    X_train, X_test, y_train, y_test = train_test_split(X, y, test_size=0.2, random_state=42, stratify=y)\n",
    "\n",
    "    # split training dataset in train and test => training dataset 80% of all data 25% of 80% = 20\n",
    "    # therefore the validation set is 20% and the training set is 60& of the whole dataset\n",
    "    X_train, X_validate, y_train, y_validate = train_test_split(\n",
    "        X_train, y_train, test_size=0.25, random_state=42,\n",
    "        stratify=y_train\n",
    "    )\n",
    "\n",
    "    if oversampling:\n",
    "        # Führen Sie das Oversampling der Klasse 0 im Trainingsdatensatz durch\n",
    "        ros = RandomOverSampler(random_state=42)\n",
    "        X_train, y_train = ros.fit_resample(X_train, y_train)\n",
    "\n",
    "    # Zusammenfügen der resampleten Daten zu einem DataFrame\n",
    "    df_train = pd.concat([X_train, y_train], axis=1)\n",
    "    df_validate = pd.concat([X_validate, y_validate], axis=1)\n",
    "    df_test = pd.concat([X_test, y_test], axis=1)\n",
    "\n",
    "    directory_path = f'../../../datasets/imageBasedModel/polyvore/{dataset_name}_{hashlib.sha256(whole_df.to_string().encode()).hexdigest()}'\n",
    "\n",
    "    save_dataframe_to_parquet(\n",
    "        df_to_save=df_train,\n",
    "        directory_path=directory_path,\n",
    "        file_name='polyvore_train'\n",
    "    )\n",
    "\n",
    "    save_dataframe_to_parquet(\n",
    "        df_to_save=df_validate,\n",
    "        directory_path=directory_path,\n",
    "        file_name='polyvore_validate'\n",
    "    )\n",
    "\n",
    "    save_dataframe_to_parquet(\n",
    "        df_to_save=df_test,\n",
    "        directory_path=directory_path,\n",
    "        file_name='polyvore_test'\n",
    "    )\n",
    "\n",
    "    return df_train, df_validate, df_test\n"
   ],
   "metadata": {
    "collapsed": false
   }
  },
  {
   "cell_type": "code",
   "execution_count": 45,
   "outputs": [],
   "source": [
    "q2 = df_setID['Ratio'].describe().loc[\"50%\"]\n",
    "q1 = df_setID['Ratio'].describe().loc[\"25%\"]\n",
    "\n",
    "df_train_median, df_validate_median, df_test_median = create_train_test_and_validation_datasets_for_threshold(\n",
    "    df_setID.copy(),\n",
    "    'median_threshold',\n",
    "    q2,\n",
    "    False\n",
    ")\n",
    "\n",
    "df_train_q1_oversampled, df_validate_q1, df_test_q1 = create_train_test_and_validation_datasets_for_threshold(\n",
    "    df_setID.copy(),\n",
    "    'q1_threshold_oversampled',\n",
    "    q1,\n",
    "    True\n",
    ")"
   ],
   "metadata": {
    "collapsed": false
   }
  },
  {
   "cell_type": "markdown",
   "source": [],
   "metadata": {
    "collapsed": false
   }
  },
  {
   "cell_type": "markdown",
   "source": [
    "# Plot distribution median threshold training dataset"
   ],
   "metadata": {
    "collapsed": false
   }
  },
  {
   "cell_type": "code",
   "execution_count": 48,
   "outputs": [
    {
     "data": {
      "text/plain": "array([[<Axes: title={'center': 'valid_outfit'}>]], dtype=object)"
     },
     "execution_count": 48,
     "metadata": {},
     "output_type": "execute_result"
    },
    {
     "data": {
      "text/plain": "<Figure size 640x480 with 1 Axes>",
      "image/png": "[encoded data removed]"
     },
     "metadata": {},
     "output_type": "display_data"
    }
   ],
   "source": [
    "df_train_median.hist()"
   ],
   "metadata": {
    "collapsed": false
   }
  },
  {
   "cell_type": "markdown",
   "source": [
    "# Plot distribution q1 threshold oversampled training dataset"
   ],
   "metadata": {
    "collapsed": false
   }
  },
  {
   "cell_type": "code",
   "execution_count": 49,
   "outputs": [
    {
     "data": {
      "text/plain": "array([[<Axes: title={'center': 'valid_outfit'}>]], dtype=object)"
     },
     "execution_count": 49,
     "metadata": {},
     "output_type": "execute_result"
    },
    {
     "data": {
      "text/plain": "<Figure size 640x480 with 1 Axes>",
      "image/png": "[encoded data removed]"
     },
     "metadata": {},
     "output_type": "display_data"
    }
   ],
   "source": [
    "df_train_q1_oversampled.hist()"
   ],
   "metadata": {
    "collapsed": false
   }
  },
  {
   "cell_type": "markdown",
   "source": [
    "# Distribution of target labels in training datasets"
   ],
   "metadata": {
    "collapsed": false
   }
  },
  {
   "cell_type": "code",
   "execution_count": 58,
   "outputs": [
    {
     "name": "stdout",
     "output_type": "stream",
     "text": [
      "---------- Median training dataset ----------\n",
      "valid_outfit\n",
      "1    0.500124\n",
      "0    0.499876\n",
      "Name: proportion, dtype: float64\n",
      "\n",
      "---------- Q1 training dataset ----------\n",
      "valid_outfit\n",
      "1    0.5\n",
      "0    0.5\n",
      "Name: proportion, dtype: float64\n"
     ]
    }
   ],
   "source": [
    "print('-' *10 + ' Median training dataset ' + '-' *10)\n",
    "print(df_train_median[\"valid_outfit\"].value_counts(normalize=True))\n",
    "print()\n",
    "print('-' *10 + ' Q1 training dataset ' + '-' *10)\n",
    "print(df_train_q1_oversampled[\"valid_outfit\"].value_counts(normalize=True))"
   ],
   "metadata": {
    "collapsed": false,
    "ExecuteTime": {
     "end_time": "2024-05-30T20:39:41.113073Z",
     "start_time": "2024-05-30T20:39:41.098039Z"
    }
   }
  }
 ],
 "metadata": {
  "kernelspec": {
   "display_name": "Python 3",
   "language": "python",
   "name": "python3"
  },
  "language_info": {
   "codemirror_mode": {
    "name": "ipython",
    "version": 2
   },
   "file_extension": ".py",
   "mimetype": "text/x-python",
   "name": "python",
   "nbconvert_exporter": "python",
   "pygments_lexer": "ipython2",
   "version": "2.7.6"
  }
 },
 "nbformat": 4,
 "nbformat_minor": 0
}
