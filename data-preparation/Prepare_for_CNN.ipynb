{
 "cells": [
  {
   "cell_type": "code",
   "execution_count": 1,
   "id": "initial_id",
   "metadata": {
    "collapsed": true,
    "ExecuteTime": {
     "end_time": "2024-04-27T22:29:49.438998Z",
     "start_time": "2024-04-27T22:29:49.434221Z"
    }
   },
   "outputs": [],
   "source": [
    "import numpy as np\n",
    "import pandas as pd\n",
    "import seaborn as sns\n",
    "from enum import IntEnum\n",
    "from dataclasses import dataclass\n",
    "from enum import Enum\n",
    "import copy\n",
    "from colorthief import ColorThief\n",
    "import os"
   ]
  },
  {
   "cell_type": "code",
   "execution_count": 2,
   "outputs": [],
   "source": [
    "df = pd.read_parquet('../datasets/cleaned/polyvore_v1.parquet 3')"
   ],
   "metadata": {
    "collapsed": false,
    "ExecuteTime": {
     "end_time": "2024-04-27T22:29:49.885799Z",
     "start_time": "2024-04-27T22:29:49.842419Z"
    }
   },
   "id": "2f587a90cd092680"
  },
  {
   "cell_type": "code",
   "execution_count": 3,
   "outputs": [],
   "source": [
    "@dataclass\n",
    "class WearType(Enum):\n",
    "    accessoire = 1.0\n",
    "    innerWear = 2.0\n",
    "    outerWear = 3.0\n",
    "    bottomWear = 4.0\n",
    "    shoes = 5.0"
   ],
   "metadata": {
    "collapsed": false,
    "ExecuteTime": {
     "end_time": "2024-04-27T22:29:50.327880Z",
     "start_time": "2024-04-27T22:29:50.326006Z"
    }
   },
   "id": "33c8b34c48ab325b"
  },
  {
   "cell_type": "code",
   "execution_count": 4,
   "outputs": [],
   "source": [
    "def add_bg_removed_path_to_df(imagePath):\n",
    "    raw, images, number, file = imagePath.split(\"/\")\n",
    "    endnumber, end = file.split(\".\")\n",
    "    \n",
    "    return f\"datasets/bg_removed/{number}/{endnumber}.png\"\n",
    "\n",
    "def add_images256x256_path_to_df(imagePath):\n",
    "    raw, images, number, file = imagePath.split(\"/\")\n",
    "    \n",
    "    return f\"datasets/images256x256/{number}/{file}\""
   ],
   "metadata": {
    "collapsed": false,
    "ExecuteTime": {
     "end_time": "2024-04-27T22:29:50.766142Z",
     "start_time": "2024-04-27T22:29:50.760790Z"
    }
   },
   "id": "29e3f1dfd026d8eb"
  },
  {
   "cell_type": "markdown",
   "source": [
    "## Add the Path to the BG-Removed and 256x256 Images to the DataFrame"
   ],
   "metadata": {
    "collapsed": false
   },
   "id": "6f02660b7ceff58b"
  },
  {
   "cell_type": "code",
   "execution_count": 5,
   "outputs": [],
   "source": [
    "df['imagePath 256x256'] = df['imagePath'].apply(add_images256x256_path_to_df)\n",
    "df['imagePath BG-Removed'] = df['imagePath'].apply(add_bg_removed_path_to_df)"
   ],
   "metadata": {
    "collapsed": false,
    "ExecuteTime": {
     "end_time": "2024-04-27T22:29:51.593427Z",
     "start_time": "2024-04-27T22:29:51.582316Z"
    }
   },
   "id": "c7034a173f42ff87"
  },
  {
   "cell_type": "markdown",
   "source": [
    "# Extract most dominant color"
   ],
   "metadata": {
    "collapsed": false
   },
   "id": "37dcaa8187afbd71"
  },
  {
   "cell_type": "code",
   "execution_count": 6,
   "outputs": [],
   "source": [
    "def get_palette(img_path, color_count, quality):\n",
    "    parent_directory = os.path.dirname(os.getcwd())\n",
    "    full_path = parent_directory + \"/\" + img_path\n",
    "    print(full_path)\n",
    "    thief = ColorThief(full_path)\n",
    "    palette = thief.get_palette(color_count=color_count, quality=quality)\n",
    "    return palette"
   ],
   "metadata": {
    "collapsed": false,
    "ExecuteTime": {
     "end_time": "2024-04-27T22:29:52.474112Z",
     "start_time": "2024-04-27T22:29:52.466256Z"
    }
   },
   "id": "4cbfea1bd87fc939"
  },
  {
   "cell_type": "code",
   "execution_count": 7,
   "outputs": [],
   "source": [
    "small_df = df.head(10)"
   ],
   "metadata": {
    "collapsed": false,
    "ExecuteTime": {
     "end_time": "2024-04-27T22:29:52.953360Z",
     "start_time": "2024-04-27T22:29:52.948660Z"
    }
   },
   "id": "7678c139d226160"
  },
  {
   "cell_type": "code",
   "execution_count": 8,
   "outputs": [
    {
     "name": "stdout",
     "output_type": "stream",
     "text": [
      "/Users/luca/Documents/HSLU/Repository/DSPRO2-outfit-recommendation/datasets/bg_removed/120161271/1.png\n",
      "/Users/luca/Documents/HSLU/Repository/DSPRO2-outfit-recommendation/datasets/bg_removed/120161271/2.png\n",
      "/Users/luca/Documents/HSLU/Repository/DSPRO2-outfit-recommendation/datasets/bg_removed/143656996/1.png\n",
      "/Users/luca/Documents/HSLU/Repository/DSPRO2-outfit-recommendation/datasets/bg_removed/143656996/3.png\n",
      "/Users/luca/Documents/HSLU/Repository/DSPRO2-outfit-recommendation/datasets/bg_removed/143656996/5.png\n",
      "/Users/luca/Documents/HSLU/Repository/DSPRO2-outfit-recommendation/datasets/bg_removed/143656996/6.png\n",
      "/Users/luca/Documents/HSLU/Repository/DSPRO2-outfit-recommendation/datasets/bg_removed/216470135/1.png\n",
      "/Users/luca/Documents/HSLU/Repository/DSPRO2-outfit-recommendation/datasets/bg_removed/216470135/2.png\n",
      "/Users/luca/Documents/HSLU/Repository/DSPRO2-outfit-recommendation/datasets/bg_removed/216470135/3.png\n",
      "/Users/luca/Documents/HSLU/Repository/DSPRO2-outfit-recommendation/datasets/bg_removed/216220312/1.png\n"
     ]
    },
    {
     "name": "stderr",
     "output_type": "stream",
     "text": [
      "/var/folders/m7/5s5bxk114536vng3qz49rmdh0000gn/T/ipykernel_2995/1375924508.py:1: SettingWithCopyWarning: \n",
      "A value is trying to be set on a copy of a slice from a DataFrame.\n",
      "Try using .loc[row_indexer,col_indexer] = value instead\n",
      "\n",
      "See the caveats in the documentation: https://pandas.pydata.org/pandas-docs/stable/user_guide/indexing.html#returning-a-view-versus-a-copy\n",
      "  small_df[\"Dominant Color\"] = small_df[\"imagePath BG-Removed\"].apply(lambda x: get_palette(x, 3, 1))\n"
     ]
    }
   ],
   "source": [
    "small_df[\"Dominant Color\"] = small_df[\"imagePath BG-Removed\"].apply(lambda x: get_palette(x, 3, 1))"
   ],
   "metadata": {
    "collapsed": false,
    "ExecuteTime": {
     "end_time": "2024-04-27T22:29:54.086899Z",
     "start_time": "2024-04-27T22:29:53.450930Z"
    }
   },
   "id": "1da4ee1e426c9a9b"
  },
  {
   "cell_type": "code",
   "execution_count": 10,
   "outputs": [
    {
     "data": {
      "text/plain": "  1st Dominant Color 2nd Dominant Color 3rd Dominant Color 4th Dominant Color\n0       (30, 29, 28)     (185, 175, 70)       (93, 93, 93)     (124, 124, 56)\n1       (43, 40, 37)    (174, 169, 159)    (130, 132, 127)    (125, 124, 124)\n2       (26, 26, 26)    (116, 116, 116)    (100, 100, 100)       (92, 92, 92)\n3       (23, 21, 20)    (199, 198, 194)    (132, 132, 132)    (124, 124, 124)\n4    (228, 226, 221)       (68, 62, 55)    (117, 107, 100)    (122, 117, 107)\n5    (191, 167, 163)       (57, 52, 53)     (141, 116, 64)      (108, 84, 84)\n6    (222, 215, 200)    (148, 146, 141)    (177, 166, 147)    (172, 156, 138)\n7    (120, 129, 163)    (197, 202, 212)    (179, 188, 204)       (55, 60, 86)\n8    (166, 163, 161)       (91, 68, 58)       (62, 54, 52)      (110, 88, 73)\n9    (228, 212, 207)       (70, 51, 56)    (129, 127, 127)    (147, 117, 107)",
      "text/html": "<div>\n<style scoped>\n    .dataframe tbody tr th:only-of-type {\n        vertical-align: middle;\n    }\n\n    .dataframe tbody tr th {\n        vertical-align: top;\n    }\n\n    .dataframe thead th {\n        text-align: right;\n    }\n</style>\n<table border=\"1\" class=\"dataframe\">\n  <thead>\n    <tr style=\"text-align: right;\">\n      <th></th>\n      <th>1st Dominant Color</th>\n      <th>2nd Dominant Color</th>\n      <th>3rd Dominant Color</th>\n      <th>4th Dominant Color</th>\n    </tr>\n  </thead>\n  <tbody>\n    <tr>\n      <th>0</th>\n      <td>(30, 29, 28)</td>\n      <td>(185, 175, 70)</td>\n      <td>(93, 93, 93)</td>\n      <td>(124, 124, 56)</td>\n    </tr>\n    <tr>\n      <th>1</th>\n      <td>(43, 40, 37)</td>\n      <td>(174, 169, 159)</td>\n      <td>(130, 132, 127)</td>\n      <td>(125, 124, 124)</td>\n    </tr>\n    <tr>\n      <th>2</th>\n      <td>(26, 26, 26)</td>\n      <td>(116, 116, 116)</td>\n      <td>(100, 100, 100)</td>\n      <td>(92, 92, 92)</td>\n    </tr>\n    <tr>\n      <th>3</th>\n      <td>(23, 21, 20)</td>\n      <td>(199, 198, 194)</td>\n      <td>(132, 132, 132)</td>\n      <td>(124, 124, 124)</td>\n    </tr>\n    <tr>\n      <th>4</th>\n      <td>(228, 226, 221)</td>\n      <td>(68, 62, 55)</td>\n      <td>(117, 107, 100)</td>\n      <td>(122, 117, 107)</td>\n    </tr>\n    <tr>\n      <th>5</th>\n      <td>(191, 167, 163)</td>\n      <td>(57, 52, 53)</td>\n      <td>(141, 116, 64)</td>\n      <td>(108, 84, 84)</td>\n    </tr>\n    <tr>\n      <th>6</th>\n      <td>(222, 215, 200)</td>\n      <td>(148, 146, 141)</td>\n      <td>(177, 166, 147)</td>\n      <td>(172, 156, 138)</td>\n    </tr>\n    <tr>\n      <th>7</th>\n      <td>(120, 129, 163)</td>\n      <td>(197, 202, 212)</td>\n      <td>(179, 188, 204)</td>\n      <td>(55, 60, 86)</td>\n    </tr>\n    <tr>\n      <th>8</th>\n      <td>(166, 163, 161)</td>\n      <td>(91, 68, 58)</td>\n      <td>(62, 54, 52)</td>\n      <td>(110, 88, 73)</td>\n    </tr>\n    <tr>\n      <th>9</th>\n      <td>(228, 212, 207)</td>\n      <td>(70, 51, 56)</td>\n      <td>(129, 127, 127)</td>\n      <td>(147, 117, 107)</td>\n    </tr>\n  </tbody>\n</table>\n</div>"
     },
     "execution_count": 10,
     "metadata": {},
     "output_type": "execute_result"
    }
   ],
   "source": [
    "split = pd.DataFrame(small_df['Dominant Color'].to_list(), columns= ['1st Dominant Color', '2nd Dominant Color', '3rd Dominant Color', '4th Dominant Color'])"
   ],
   "metadata": {
    "collapsed": false,
    "ExecuteTime": {
     "end_time": "2024-04-27T22:30:03.098066Z",
     "start_time": "2024-04-27T22:30:03.093233Z"
    }
   },
   "id": "87d0129379713a48"
  },
  {
   "cell_type": "code",
   "execution_count": 11,
   "outputs": [
    {
     "name": "stdout",
     "output_type": "stream",
     "text": [
      "                                           outfitName  outfitViews  wearType  \\\n",
      "7   Being a Vans shoe model with Luke. Idk about t...          188       2.0   \n",
      "8   Being a Vans shoe model with Luke. Idk about t...          188       4.0   \n",
      "15                These Chanel bags is a bad habit .x          562       2.0   \n",
      "17                These Chanel bags is a bad habit .x          562       4.0   \n",
      "19                These Chanel bags is a bad habit .x          562       1.0   \n",
      "20                These Chanel bags is a bad habit .x          562       1.0   \n",
      "43  the people i choose never choose me and my hea...         1580       2.0   \n",
      "44  the people i choose never choose me and my hea...         1580       4.0   \n",
      "45  the people i choose never choose me and my hea...         1580       5.0   \n",
      "50                                          Be happy!          591       2.0   \n",
      "\n",
      "     type  outfitLikes       date     set_id  \\\n",
      "7     top            9  Two years  120161271   \n",
      "8   pants            9  Two years  120161271   \n",
      "15    top           32  Two years  143656996   \n",
      "17  pants           32  Two years  143656996   \n",
      "19    bag           32  Two years  143656996   \n",
      "20   hats           32  Two years  143656996   \n",
      "43    top          395     9 days  216470135   \n",
      "44  skirt          395     9 days  216470135   \n",
      "45  shoes          395     9 days  216470135   \n",
      "50    top          233    14 days  216220312   \n",
      "\n",
      "                                           outfitDesc  clothingItemIndex  \\\n",
      "7   A fashion look from April 2014 featuring destr...                  1   \n",
      "8   A fashion look from April 2014 featuring destr...                  2   \n",
      "15                                           12.19.14                  1   \n",
      "17                                           12.19.14                  3   \n",
      "19                                           12.19.14                  5   \n",
      "20                                           12.19.14                  6   \n",
      "43  A fashion look from February 2017 by exco feat...                  1   \n",
      "44  A fashion look from February 2017 by exco feat...                  2   \n",
      "45  A fashion look from February 2017 by exco feat...                  3   \n",
      "50  A fashion look from February 2017 by rasa-j fe...                  1   \n",
      "\n",
      "                                    clothingItemName  clothingItemPrice  \\\n",
      "7                         nirvana distressed t-shirt               10.0   \n",
      "8                rag bone rock w/ black skinny jeans              235.0   \n",
      "15                                     monki singlet               16.0   \n",
      "17          topshop moto joni high rise skinny jeans               65.0   \n",
      "19                     pre-owned chanel shoulder bag             2450.0   \n",
      "20                       rag bone floppy brim fedora              195.0   \n",
      "43                 isabel marant alpaca blend jumper              615.0   \n",
      "44  yoins light blue gradient color hole denim skirt               22.0   \n",
      "45      alice light blue shoes flats leather sandals              189.0   \n",
      "50                       oasis shadow bird knit pink               47.0   \n",
      "\n",
      "    clothingItemLikes  clothingItemCategoryId                   imagePath  \\\n",
      "7                1290                      21  raw/images/120161271/1.jpg   \n",
      "8               17406                     237  raw/images/120161271/2.jpg   \n",
      "15              20094                     104  raw/images/143656996/1.jpg   \n",
      "17              23324                     237  raw/images/143656996/3.jpg   \n",
      "19               4489                      37  raw/images/143656996/5.jpg   \n",
      "20               1833                      55  raw/images/143656996/6.jpg   \n",
      "43                268                      19  raw/images/216470135/1.jpg   \n",
      "44                331                       9  raw/images/216470135/2.jpg   \n",
      "45               2634                      41  raw/images/216470135/3.jpg   \n",
      "50               4874                      19  raw/images/216220312/1.jpg   \n",
      "\n",
      "                         imagePath 256x256  \\\n",
      "7   datasets/images256x256/120161271/1.jpg   \n",
      "8   datasets/images256x256/120161271/2.jpg   \n",
      "15  datasets/images256x256/143656996/1.jpg   \n",
      "17  datasets/images256x256/143656996/3.jpg   \n",
      "19  datasets/images256x256/143656996/5.jpg   \n",
      "20  datasets/images256x256/143656996/6.jpg   \n",
      "43  datasets/images256x256/216470135/1.jpg   \n",
      "44  datasets/images256x256/216470135/2.jpg   \n",
      "45  datasets/images256x256/216470135/3.jpg   \n",
      "50  datasets/images256x256/216220312/1.jpg   \n",
      "\n",
      "                   imagePath BG-Removed  \\\n",
      "7   datasets/bg_removed/120161271/1.png   \n",
      "8   datasets/bg_removed/120161271/2.png   \n",
      "15  datasets/bg_removed/143656996/1.png   \n",
      "17  datasets/bg_removed/143656996/3.png   \n",
      "19  datasets/bg_removed/143656996/5.png   \n",
      "20  datasets/bg_removed/143656996/6.png   \n",
      "43  datasets/bg_removed/216470135/1.png   \n",
      "44  datasets/bg_removed/216470135/2.png   \n",
      "45  datasets/bg_removed/216470135/3.png   \n",
      "50  datasets/bg_removed/216220312/1.png   \n",
      "\n",
      "                                       Dominant Color  \n",
      "7   [(30, 29, 28), (185, 175, 70), (93, 93, 93), (...  \n",
      "8   [(43, 40, 37), (174, 169, 159), (130, 132, 127...  \n",
      "15  [(26, 26, 26), (116, 116, 116), (100, 100, 100...  \n",
      "17  [(23, 21, 20), (199, 198, 194), (132, 132, 132...  \n",
      "19  [(228, 226, 221), (68, 62, 55), (117, 107, 100...  \n",
      "20  [(191, 167, 163), (57, 52, 53), (141, 116, 64)...  \n",
      "43  [(222, 215, 200), (148, 146, 141), (177, 166, ...  \n",
      "44  [(120, 129, 163), (197, 202, 212), (179, 188, ...  \n",
      "45  [(166, 163, 161), (91, 68, 58), (62, 54, 52), ...  \n",
      "50  [(228, 212, 207), (70, 51, 56), (129, 127, 127...  \n"
     ]
    }
   ],
   "source": [
    "small_df.reset_index(drop=True, inplace=True)\n",
    "split.reset_index(drop=True, inplace=True)\n",
    "small_df = pd.concat([small_df, split], axis=1)"
   ],
   "metadata": {
    "collapsed": false,
    "ExecuteTime": {
     "end_time": "2024-04-27T22:30:05.372004Z",
     "start_time": "2024-04-27T22:30:05.362764Z"
    }
   },
   "id": "5893bbf8c5385661"
  },
  {
   "cell_type": "code",
   "execution_count": 12,
   "outputs": [
    {
     "data": {
      "text/plain": "                                          outfitName  outfitViews  wearType  \\\n0  Being a Vans shoe model with Luke. Idk about t...          188       2.0   \n1  Being a Vans shoe model with Luke. Idk about t...          188       4.0   \n2                These Chanel bags is a bad habit .x          562       2.0   \n3                These Chanel bags is a bad habit .x          562       4.0   \n4                These Chanel bags is a bad habit .x          562       1.0   \n5                These Chanel bags is a bad habit .x          562       1.0   \n6  the people i choose never choose me and my hea...         1580       2.0   \n7  the people i choose never choose me and my hea...         1580       4.0   \n8  the people i choose never choose me and my hea...         1580       5.0   \n9                                          Be happy!          591       2.0   \n\n    type  outfitLikes       date     set_id  \\\n0    top            9  Two years  120161271   \n1  pants            9  Two years  120161271   \n2    top           32  Two years  143656996   \n3  pants           32  Two years  143656996   \n4    bag           32  Two years  143656996   \n5   hats           32  Two years  143656996   \n6    top          395     9 days  216470135   \n7  skirt          395     9 days  216470135   \n8  shoes          395     9 days  216470135   \n9    top          233    14 days  216220312   \n\n                                          outfitDesc  clothingItemIndex  \\\n0  A fashion look from April 2014 featuring destr...                  1   \n1  A fashion look from April 2014 featuring destr...                  2   \n2                                           12.19.14                  1   \n3                                           12.19.14                  3   \n4                                           12.19.14                  5   \n5                                           12.19.14                  6   \n6  A fashion look from February 2017 by exco feat...                  1   \n7  A fashion look from February 2017 by exco feat...                  2   \n8  A fashion look from February 2017 by exco feat...                  3   \n9  A fashion look from February 2017 by rasa-j fe...                  1   \n\n                                   clothingItemName  ...  clothingItemLikes  \\\n0                        nirvana distressed t-shirt  ...               1290   \n1               rag bone rock w/ black skinny jeans  ...              17406   \n2                                     monki singlet  ...              20094   \n3          topshop moto joni high rise skinny jeans  ...              23324   \n4                     pre-owned chanel shoulder bag  ...               4489   \n5                       rag bone floppy brim fedora  ...               1833   \n6                 isabel marant alpaca blend jumper  ...                268   \n7  yoins light blue gradient color hole denim skirt  ...                331   \n8      alice light blue shoes flats leather sandals  ...               2634   \n9                       oasis shadow bird knit pink  ...               4874   \n\n   clothingItemCategoryId                   imagePath  \\\n0                      21  raw/images/120161271/1.jpg   \n1                     237  raw/images/120161271/2.jpg   \n2                     104  raw/images/143656996/1.jpg   \n3                     237  raw/images/143656996/3.jpg   \n4                      37  raw/images/143656996/5.jpg   \n5                      55  raw/images/143656996/6.jpg   \n6                      19  raw/images/216470135/1.jpg   \n7                       9  raw/images/216470135/2.jpg   \n8                      41  raw/images/216470135/3.jpg   \n9                      19  raw/images/216220312/1.jpg   \n\n                        imagePath 256x256  \\\n0  datasets/images256x256/120161271/1.jpg   \n1  datasets/images256x256/120161271/2.jpg   \n2  datasets/images256x256/143656996/1.jpg   \n3  datasets/images256x256/143656996/3.jpg   \n4  datasets/images256x256/143656996/5.jpg   \n5  datasets/images256x256/143656996/6.jpg   \n6  datasets/images256x256/216470135/1.jpg   \n7  datasets/images256x256/216470135/2.jpg   \n8  datasets/images256x256/216470135/3.jpg   \n9  datasets/images256x256/216220312/1.jpg   \n\n                  imagePath BG-Removed  \\\n0  datasets/bg_removed/120161271/1.png   \n1  datasets/bg_removed/120161271/2.png   \n2  datasets/bg_removed/143656996/1.png   \n3  datasets/bg_removed/143656996/3.png   \n4  datasets/bg_removed/143656996/5.png   \n5  datasets/bg_removed/143656996/6.png   \n6  datasets/bg_removed/216470135/1.png   \n7  datasets/bg_removed/216470135/2.png   \n8  datasets/bg_removed/216470135/3.png   \n9  datasets/bg_removed/216220312/1.png   \n\n                                      Dominant Color 1st Dominant Color  \\\n0  [(30, 29, 28), (185, 175, 70), (93, 93, 93), (...       (30, 29, 28)   \n1  [(43, 40, 37), (174, 169, 159), (130, 132, 127...       (43, 40, 37)   \n2  [(26, 26, 26), (116, 116, 116), (100, 100, 100...       (26, 26, 26)   \n3  [(23, 21, 20), (199, 198, 194), (132, 132, 132...       (23, 21, 20)   \n4  [(228, 226, 221), (68, 62, 55), (117, 107, 100...    (228, 226, 221)   \n5  [(191, 167, 163), (57, 52, 53), (141, 116, 64)...    (191, 167, 163)   \n6  [(222, 215, 200), (148, 146, 141), (177, 166, ...    (222, 215, 200)   \n7  [(120, 129, 163), (197, 202, 212), (179, 188, ...    (120, 129, 163)   \n8  [(166, 163, 161), (91, 68, 58), (62, 54, 52), ...    (166, 163, 161)   \n9  [(228, 212, 207), (70, 51, 56), (129, 127, 127...    (228, 212, 207)   \n\n  2nd Dominant Color 3rd Dominant Color 4th Dominant Color  \n0     (185, 175, 70)       (93, 93, 93)     (124, 124, 56)  \n1    (174, 169, 159)    (130, 132, 127)    (125, 124, 124)  \n2    (116, 116, 116)    (100, 100, 100)       (92, 92, 92)  \n3    (199, 198, 194)    (132, 132, 132)    (124, 124, 124)  \n4       (68, 62, 55)    (117, 107, 100)    (122, 117, 107)  \n5       (57, 52, 53)     (141, 116, 64)      (108, 84, 84)  \n6    (148, 146, 141)    (177, 166, 147)    (172, 156, 138)  \n7    (197, 202, 212)    (179, 188, 204)       (55, 60, 86)  \n8       (91, 68, 58)       (62, 54, 52)      (110, 88, 73)  \n9       (70, 51, 56)    (129, 127, 127)    (147, 117, 107)  \n\n[10 rows x 21 columns]",
      "text/html": "<div>\n<style scoped>\n    .dataframe tbody tr th:only-of-type {\n        vertical-align: middle;\n    }\n\n    .dataframe tbody tr th {\n        vertical-align: top;\n    }\n\n    .dataframe thead th {\n        text-align: right;\n    }\n</style>\n<table border=\"1\" class=\"dataframe\">\n  <thead>\n    <tr style=\"text-align: right;\">\n      <th></th>\n      <th>outfitName</th>\n      <th>outfitViews</th>\n      <th>wearType</th>\n      <th>type</th>\n      <th>outfitLikes</th>\n      <th>date</th>\n      <th>set_id</th>\n      <th>outfitDesc</th>\n      <th>clothingItemIndex</th>\n      <th>clothingItemName</th>\n      <th>...</th>\n      <th>clothingItemLikes</th>\n      <th>clothingItemCategoryId</th>\n      <th>imagePath</th>\n      <th>imagePath 256x256</th>\n      <th>imagePath BG-Removed</th>\n      <th>Dominant Color</th>\n      <th>1st Dominant Color</th>\n      <th>2nd Dominant Color</th>\n      <th>3rd Dominant Color</th>\n      <th>4th Dominant Color</th>\n    </tr>\n  </thead>\n  <tbody>\n    <tr>\n      <th>0</th>\n      <td>Being a Vans shoe model with Luke. Idk about t...</td>\n      <td>188</td>\n      <td>2.0</td>\n      <td>top</td>\n      <td>9</td>\n      <td>Two years</td>\n      <td>120161271</td>\n      <td>A fashion look from April 2014 featuring destr...</td>\n      <td>1</td>\n      <td>nirvana distressed t-shirt</td>\n      <td>...</td>\n      <td>1290</td>\n      <td>21</td>\n      <td>raw/images/120161271/1.jpg</td>\n      <td>datasets/images256x256/120161271/1.jpg</td>\n      <td>datasets/bg_removed/120161271/1.png</td>\n      <td>[(30, 29, 28), (185, 175, 70), (93, 93, 93), (...</td>\n      <td>(30, 29, 28)</td>\n      <td>(185, 175, 70)</td>\n      <td>(93, 93, 93)</td>\n      <td>(124, 124, 56)</td>\n    </tr>\n    <tr>\n      <th>1</th>\n      <td>Being a Vans shoe model with Luke. Idk about t...</td>\n      <td>188</td>\n      <td>4.0</td>\n      <td>pants</td>\n      <td>9</td>\n      <td>Two years</td>\n      <td>120161271</td>\n      <td>A fashion look from April 2014 featuring destr...</td>\n      <td>2</td>\n      <td>rag bone rock w/ black skinny jeans</td>\n      <td>...</td>\n      <td>17406</td>\n      <td>237</td>\n      <td>raw/images/120161271/2.jpg</td>\n      <td>datasets/images256x256/120161271/2.jpg</td>\n      <td>datasets/bg_removed/120161271/2.png</td>\n      <td>[(43, 40, 37), (174, 169, 159), (130, 132, 127...</td>\n      <td>(43, 40, 37)</td>\n      <td>(174, 169, 159)</td>\n      <td>(130, 132, 127)</td>\n      <td>(125, 124, 124)</td>\n    </tr>\n    <tr>\n      <th>2</th>\n      <td>These Chanel bags is a bad habit .x</td>\n      <td>562</td>\n      <td>2.0</td>\n      <td>top</td>\n      <td>32</td>\n      <td>Two years</td>\n      <td>143656996</td>\n      <td>12.19.14</td>\n      <td>1</td>\n      <td>monki singlet</td>\n      <td>...</td>\n      <td>20094</td>\n      <td>104</td>\n      <td>raw/images/143656996/1.jpg</td>\n      <td>datasets/images256x256/143656996/1.jpg</td>\n      <td>datasets/bg_removed/143656996/1.png</td>\n      <td>[(26, 26, 26), (116, 116, 116), (100, 100, 100...</td>\n      <td>(26, 26, 26)</td>\n      <td>(116, 116, 116)</td>\n      <td>(100, 100, 100)</td>\n      <td>(92, 92, 92)</td>\n    </tr>\n    <tr>\n      <th>3</th>\n      <td>These Chanel bags is a bad habit .x</td>\n      <td>562</td>\n      <td>4.0</td>\n      <td>pants</td>\n      <td>32</td>\n      <td>Two years</td>\n      <td>143656996</td>\n      <td>12.19.14</td>\n      <td>3</td>\n      <td>topshop moto joni high rise skinny jeans</td>\n      <td>...</td>\n      <td>23324</td>\n      <td>237</td>\n      <td>raw/images/143656996/3.jpg</td>\n      <td>datasets/images256x256/143656996/3.jpg</td>\n      <td>datasets/bg_removed/143656996/3.png</td>\n      <td>[(23, 21, 20), (199, 198, 194), (132, 132, 132...</td>\n      <td>(23, 21, 20)</td>\n      <td>(199, 198, 194)</td>\n      <td>(132, 132, 132)</td>\n      <td>(124, 124, 124)</td>\n    </tr>\n    <tr>\n      <th>4</th>\n      <td>These Chanel bags is a bad habit .x</td>\n      <td>562</td>\n      <td>1.0</td>\n      <td>bag</td>\n      <td>32</td>\n      <td>Two years</td>\n      <td>143656996</td>\n      <td>12.19.14</td>\n      <td>5</td>\n      <td>pre-owned chanel shoulder bag</td>\n      <td>...</td>\n      <td>4489</td>\n      <td>37</td>\n      <td>raw/images/143656996/5.jpg</td>\n      <td>datasets/images256x256/143656996/5.jpg</td>\n      <td>datasets/bg_removed/143656996/5.png</td>\n      <td>[(228, 226, 221), (68, 62, 55), (117, 107, 100...</td>\n      <td>(228, 226, 221)</td>\n      <td>(68, 62, 55)</td>\n      <td>(117, 107, 100)</td>\n      <td>(122, 117, 107)</td>\n    </tr>\n    <tr>\n      <th>5</th>\n      <td>These Chanel bags is a bad habit .x</td>\n      <td>562</td>\n      <td>1.0</td>\n      <td>hats</td>\n      <td>32</td>\n      <td>Two years</td>\n      <td>143656996</td>\n      <td>12.19.14</td>\n      <td>6</td>\n      <td>rag bone floppy brim fedora</td>\n      <td>...</td>\n      <td>1833</td>\n      <td>55</td>\n      <td>raw/images/143656996/6.jpg</td>\n      <td>datasets/images256x256/143656996/6.jpg</td>\n      <td>datasets/bg_removed/143656996/6.png</td>\n      <td>[(191, 167, 163), (57, 52, 53), (141, 116, 64)...</td>\n      <td>(191, 167, 163)</td>\n      <td>(57, 52, 53)</td>\n      <td>(141, 116, 64)</td>\n      <td>(108, 84, 84)</td>\n    </tr>\n    <tr>\n      <th>6</th>\n      <td>the people i choose never choose me and my hea...</td>\n      <td>1580</td>\n      <td>2.0</td>\n      <td>top</td>\n      <td>395</td>\n      <td>9 days</td>\n      <td>216470135</td>\n      <td>A fashion look from February 2017 by exco feat...</td>\n      <td>1</td>\n      <td>isabel marant alpaca blend jumper</td>\n      <td>...</td>\n      <td>268</td>\n      <td>19</td>\n      <td>raw/images/216470135/1.jpg</td>\n      <td>datasets/images256x256/216470135/1.jpg</td>\n      <td>datasets/bg_removed/216470135/1.png</td>\n      <td>[(222, 215, 200), (148, 146, 141), (177, 166, ...</td>\n      <td>(222, 215, 200)</td>\n      <td>(148, 146, 141)</td>\n      <td>(177, 166, 147)</td>\n      <td>(172, 156, 138)</td>\n    </tr>\n    <tr>\n      <th>7</th>\n      <td>the people i choose never choose me and my hea...</td>\n      <td>1580</td>\n      <td>4.0</td>\n      <td>skirt</td>\n      <td>395</td>\n      <td>9 days</td>\n      <td>216470135</td>\n      <td>A fashion look from February 2017 by exco feat...</td>\n      <td>2</td>\n      <td>yoins light blue gradient color hole denim skirt</td>\n      <td>...</td>\n      <td>331</td>\n      <td>9</td>\n      <td>raw/images/216470135/2.jpg</td>\n      <td>datasets/images256x256/216470135/2.jpg</td>\n      <td>datasets/bg_removed/216470135/2.png</td>\n      <td>[(120, 129, 163), (197, 202, 212), (179, 188, ...</td>\n      <td>(120, 129, 163)</td>\n      <td>(197, 202, 212)</td>\n      <td>(179, 188, 204)</td>\n      <td>(55, 60, 86)</td>\n    </tr>\n    <tr>\n      <th>8</th>\n      <td>the people i choose never choose me and my hea...</td>\n      <td>1580</td>\n      <td>5.0</td>\n      <td>shoes</td>\n      <td>395</td>\n      <td>9 days</td>\n      <td>216470135</td>\n      <td>A fashion look from February 2017 by exco feat...</td>\n      <td>3</td>\n      <td>alice light blue shoes flats leather sandals</td>\n      <td>...</td>\n      <td>2634</td>\n      <td>41</td>\n      <td>raw/images/216470135/3.jpg</td>\n      <td>datasets/images256x256/216470135/3.jpg</td>\n      <td>datasets/bg_removed/216470135/3.png</td>\n      <td>[(166, 163, 161), (91, 68, 58), (62, 54, 52), ...</td>\n      <td>(166, 163, 161)</td>\n      <td>(91, 68, 58)</td>\n      <td>(62, 54, 52)</td>\n      <td>(110, 88, 73)</td>\n    </tr>\n    <tr>\n      <th>9</th>\n      <td>Be happy!</td>\n      <td>591</td>\n      <td>2.0</td>\n      <td>top</td>\n      <td>233</td>\n      <td>14 days</td>\n      <td>216220312</td>\n      <td>A fashion look from February 2017 by rasa-j fe...</td>\n      <td>1</td>\n      <td>oasis shadow bird knit pink</td>\n      <td>...</td>\n      <td>4874</td>\n      <td>19</td>\n      <td>raw/images/216220312/1.jpg</td>\n      <td>datasets/images256x256/216220312/1.jpg</td>\n      <td>datasets/bg_removed/216220312/1.png</td>\n      <td>[(228, 212, 207), (70, 51, 56), (129, 127, 127...</td>\n      <td>(228, 212, 207)</td>\n      <td>(70, 51, 56)</td>\n      <td>(129, 127, 127)</td>\n      <td>(147, 117, 107)</td>\n    </tr>\n  </tbody>\n</table>\n<p>10 rows × 21 columns</p>\n</div>"
     },
     "execution_count": 12,
     "metadata": {},
     "output_type": "execute_result"
    }
   ],
   "source": [
    "small_df"
   ],
   "metadata": {
    "collapsed": false,
    "ExecuteTime": {
     "end_time": "2024-04-27T22:30:13.753438Z",
     "start_time": "2024-04-27T22:30:13.749425Z"
    }
   },
   "id": "ea2061931d6539e0"
  },
  {
   "cell_type": "markdown",
   "source": [
    "## Add the Colorname based on the RGB Value"
   ],
   "metadata": {
    "collapsed": false
   },
   "id": "f6c22855d628d065"
  },
  {
   "cell_type": "code",
   "execution_count": 17,
   "outputs": [
    {
     "ename": "ImportError",
     "evalue": "cannot import name 'css3_hex_to_names' from 'webcolors' (/Users/luca/.local/share/virtualenvs/DSPRO2-outfit-recommendation-etrui0aa/lib/python3.10/site-packages/webcolors/__init__.py)",
     "output_type": "error",
     "traceback": [
      "\u001B[0;31m---------------------------------------------------------------------------\u001B[0m",
      "\u001B[0;31mImportError\u001B[0m                               Traceback (most recent call last)",
      "Cell \u001B[0;32mIn[17], line 2\u001B[0m\n\u001B[1;32m      1\u001B[0m \u001B[38;5;28;01mfrom\u001B[39;00m \u001B[38;5;21;01mscipy\u001B[39;00m\u001B[38;5;21;01m.\u001B[39;00m\u001B[38;5;21;01mspatial\u001B[39;00m \u001B[38;5;28;01mimport\u001B[39;00m KDTree\n\u001B[0;32m----> 2\u001B[0m \u001B[38;5;28;01mfrom\u001B[39;00m \u001B[38;5;21;01mwebcolors\u001B[39;00m \u001B[38;5;28;01mimport\u001B[39;00m css3_hex_to_names, hex_to_rgb\n\u001B[1;32m      4\u001B[0m \u001B[38;5;28;01mdef\u001B[39;00m \u001B[38;5;21mconvert_rgb_to_names\u001B[39m(rgb_tuple):\n\u001B[1;32m      5\u001B[0m     \n\u001B[1;32m      6\u001B[0m     \u001B[38;5;66;03m# a dictionary of all the hex and their respective names in css3\u001B[39;00m\n\u001B[1;32m      7\u001B[0m     css3_db \u001B[38;5;241m=\u001B[39m css3_hex_to_names\n",
      "\u001B[0;31mImportError\u001B[0m: cannot import name 'css3_hex_to_names' from 'webcolors' (/Users/luca/.local/share/virtualenvs/DSPRO2-outfit-recommendation-etrui0aa/lib/python3.10/site-packages/webcolors/__init__.py)"
     ]
    }
   ],
   "source": [
    "from scipy.spatial import KDTree\n",
    "from webcolors import css3_hex_to_names, hex_to_rgb\n",
    "\n",
    "def convert_rgb_to_names(rgb_tuple):\n",
    "    \n",
    "    # a dictionary of all the hex and their respective names in css3\n",
    "    css3_db = css3_hex_to_names\n",
    "    names = []\n",
    "    rgb_values = []\n",
    "    for color_hex, color_name in css3_db.items():\n",
    "        names.append(color_name)\n",
    "        rgb_values.append(hex_to_rgb(color_hex))\n",
    "    \n",
    "    kdt_db = KDTree(rgb_values)\n",
    "    distance, index = kdt_db.query(rgb_tuple)\n",
    "    return f'closest match: {names[index]}'\n",
    "print(convert_rgb_to_names((30, 29, 28)))"
   ],
   "metadata": {
    "collapsed": false,
    "ExecuteTime": {
     "end_time": "2024-04-27T22:40:32.209320Z",
     "start_time": "2024-04-27T22:40:32.198178Z"
    }
   },
   "id": "92e97effbfd28b51"
  },
  {
   "cell_type": "code",
   "execution_count": 16,
   "outputs": [],
   "source": [
    "from scipy.spatial import KDTree\n",
    "import webcolors\n",
    "def convert_rgb_to_names(rgb_tuple):\n",
    "    css3_db = webcolors.CSS3_HEX_TO_NAMES\n",
    "    names = []\n",
    "    rgb_values = []\n",
    "    for color_hex, color_name in css3_db.items():\n",
    "        names.append(color_name)\n",
    "        rgb_values.append(webcolors.hex_to_rgb(color_hex))\n",
    "    kdt_db = KDTree(rgb_values)\n",
    "    distance, index = kdt_db.query(rgb_tuple)\n",
    "    return f'closest match: {names[index]}'"
   ],
   "metadata": {
    "collapsed": false,
    "ExecuteTime": {
     "end_time": "2024-04-27T22:39:22.676671Z",
     "start_time": "2024-04-27T22:39:22.660891Z"
    }
   },
   "id": "e20b7b5460fb4a56"
  },
  {
   "cell_type": "code",
   "execution_count": 19,
   "outputs": [
    {
     "ename": "ValueError",
     "evalue": "\"(30, 29, 28)\" is not a valid hexadecimal color value.",
     "output_type": "error",
     "traceback": [
      "\u001B[0;31m---------------------------------------------------------------------------\u001B[0m",
      "\u001B[0;31mValueError\u001B[0m                                Traceback (most recent call last)",
      "Cell \u001B[0;32mIn[19], line 2\u001B[0m\n\u001B[1;32m      1\u001B[0m \u001B[38;5;28;01mimport\u001B[39;00m \u001B[38;5;21;01mwebcolors\u001B[39;00m\n\u001B[0;32m----> 2\u001B[0m \u001B[43mwebcolors\u001B[49m\u001B[38;5;241;43m.\u001B[39;49m\u001B[43mhex_to_name\u001B[49m\u001B[43m(\u001B[49m\u001B[38;5;124;43m'\u001B[39;49m\u001B[38;5;124;43m(30, 29, 28)\u001B[39;49m\u001B[38;5;124;43m'\u001B[39;49m\u001B[43m)\u001B[49m\n",
      "File \u001B[0;32m~/.local/share/virtualenvs/DSPRO2-outfit-recommendation-etrui0aa/lib/python3.10/site-packages/webcolors/conversion.py:149\u001B[0m, in \u001B[0;36mhex_to_name\u001B[0;34m(hex_value, spec)\u001B[0m\n\u001B[1;32m    146\u001B[0m \u001B[38;5;28;01mif\u001B[39;00m spec \u001B[38;5;129;01mnot\u001B[39;00m \u001B[38;5;129;01min\u001B[39;00m constants\u001B[38;5;241m.\u001B[39mSUPPORTED_SPECIFICATIONS:\n\u001B[1;32m    147\u001B[0m     \u001B[38;5;28;01mraise\u001B[39;00m \u001B[38;5;167;01mValueError\u001B[39;00m(constants\u001B[38;5;241m.\u001B[39mSPECIFICATION_ERROR_TEMPLATE\u001B[38;5;241m.\u001B[39mformat(spec\u001B[38;5;241m=\u001B[39mspec))\n\u001B[1;32m    148\u001B[0m name \u001B[38;5;241m=\u001B[39m \u001B[38;5;28mgetattr\u001B[39m(constants, \u001B[38;5;124mf\u001B[39m\u001B[38;5;124m\"\u001B[39m\u001B[38;5;132;01m{\u001B[39;00mspec\u001B[38;5;241m.\u001B[39mupper()\u001B[38;5;132;01m}\u001B[39;00m\u001B[38;5;124m_HEX_TO_NAMES\u001B[39m\u001B[38;5;124m\"\u001B[39m)\u001B[38;5;241m.\u001B[39mget(\n\u001B[0;32m--> 149\u001B[0m     \u001B[43mnormalization\u001B[49m\u001B[38;5;241;43m.\u001B[39;49m\u001B[43mnormalize_hex\u001B[49m\u001B[43m(\u001B[49m\u001B[43mhex_value\u001B[49m\u001B[43m)\u001B[49m\n\u001B[1;32m    150\u001B[0m )\n\u001B[1;32m    151\u001B[0m \u001B[38;5;28;01mif\u001B[39;00m name \u001B[38;5;129;01mis\u001B[39;00m \u001B[38;5;28;01mNone\u001B[39;00m:\n\u001B[1;32m    152\u001B[0m     \u001B[38;5;28;01mraise\u001B[39;00m \u001B[38;5;167;01mValueError\u001B[39;00m(\u001B[38;5;124mf\u001B[39m\u001B[38;5;124m'\u001B[39m\u001B[38;5;124m\"\u001B[39m\u001B[38;5;132;01m{\u001B[39;00mhex_value\u001B[38;5;132;01m}\u001B[39;00m\u001B[38;5;124m\"\u001B[39m\u001B[38;5;124m has no defined color name in \u001B[39m\u001B[38;5;132;01m{\u001B[39;00mspec\u001B[38;5;132;01m}\u001B[39;00m\u001B[38;5;124m.\u001B[39m\u001B[38;5;124m'\u001B[39m)\n",
      "File \u001B[0;32m~/.local/share/virtualenvs/DSPRO2-outfit-recommendation-etrui0aa/lib/python3.10/site-packages/webcolors/normalization.py:46\u001B[0m, in \u001B[0;36mnormalize_hex\u001B[0;34m(hex_value)\u001B[0m\n\u001B[1;32m     44\u001B[0m match \u001B[38;5;241m=\u001B[39m constants\u001B[38;5;241m.\u001B[39mHEX_COLOR_RE\u001B[38;5;241m.\u001B[39mmatch(hex_value)\n\u001B[1;32m     45\u001B[0m \u001B[38;5;28;01mif\u001B[39;00m match \u001B[38;5;129;01mis\u001B[39;00m \u001B[38;5;28;01mNone\u001B[39;00m:\n\u001B[0;32m---> 46\u001B[0m     \u001B[38;5;28;01mraise\u001B[39;00m \u001B[38;5;167;01mValueError\u001B[39;00m(\u001B[38;5;124mf\u001B[39m\u001B[38;5;124m'\u001B[39m\u001B[38;5;124m\"\u001B[39m\u001B[38;5;132;01m{\u001B[39;00mhex_value\u001B[38;5;132;01m}\u001B[39;00m\u001B[38;5;124m\"\u001B[39m\u001B[38;5;124m is not a valid hexadecimal color value.\u001B[39m\u001B[38;5;124m'\u001B[39m)\n\u001B[1;32m     47\u001B[0m hex_digits \u001B[38;5;241m=\u001B[39m match\u001B[38;5;241m.\u001B[39mgroup(\u001B[38;5;241m1\u001B[39m)\n\u001B[1;32m     48\u001B[0m \u001B[38;5;28;01mif\u001B[39;00m \u001B[38;5;28mlen\u001B[39m(hex_digits) \u001B[38;5;241m==\u001B[39m \u001B[38;5;241m3\u001B[39m:\n",
      "\u001B[0;31mValueError\u001B[0m: \"(30, 29, 28)\" is not a valid hexadecimal color value."
     ]
    }
   ],
   "source": [
    "import webcolors\n",
    "webcolors.hex_to_name('(30, 29, 28)')"
   ],
   "metadata": {
    "collapsed": false,
    "ExecuteTime": {
     "end_time": "2024-04-27T22:43:09.341124Z",
     "start_time": "2024-04-27T22:43:09.324153Z"
    }
   },
   "id": "c75ccf9268770fdc"
  },
  {
   "cell_type": "markdown",
   "source": [
    "# REAL CODE"
   ],
   "metadata": {
    "collapsed": false
   },
   "id": "3721cd80112a25e"
  },
  {
   "cell_type": "code",
   "execution_count": null,
   "outputs": [],
   "source": [
    "df[\"Dominant Color\"] = df[\"imagePath BG-Removed\"].apply(lambda x: get_palette(x, 3, 1))"
   ],
   "metadata": {
    "collapsed": false
   },
   "id": "867c3579ed413156"
  },
  {
   "cell_type": "code",
   "execution_count": null,
   "outputs": [],
   "source": [
    "df.head()"
   ],
   "metadata": {
    "collapsed": false
   },
   "id": "1edf7c1a4c50e205"
  },
  {
   "cell_type": "code",
   "execution_count": null,
   "outputs": [],
   "source": [
    "df[\"Ratio\"] =  df[\"outfitLikes\"] / df[\"outfitViews\"]"
   ],
   "metadata": {
    "collapsed": false
   },
   "id": "2cbc655b7507d4bc"
  },
  {
   "cell_type": "code",
   "execution_count": null,
   "outputs": [],
   "source": [
    "df[\"Ratio\"].describe()"
   ],
   "metadata": {
    "collapsed": false
   },
   "id": "3f360d3cbbf0d809"
  },
  {
   "cell_type": "code",
   "execution_count": null,
   "outputs": [],
   "source": [
    "df = df.drop(df[df[\"Ratio\"] > 1.0].index)"
   ],
   "metadata": {
    "collapsed": false
   },
   "id": "4728b297288d72b3"
  },
  {
   "cell_type": "code",
   "execution_count": null,
   "outputs": [],
   "source": [
    "df[\"Ratio_Log\"] =  np.log10(df[\"outfitLikes\"] / df[\"outfitViews\"])"
   ],
   "metadata": {
    "collapsed": false
   },
   "id": "4c95a3cc15923b95"
  },
  {
   "cell_type": "code",
   "execution_count": null,
   "outputs": [],
   "source": [
    "# I want to create a new dataframe with the unique indexes of the setID. So every setID should only appear once.\n",
    "\n",
    "df_copy = copy.deepcopy(df)\n",
    "setIDs = df_copy[\"set_id\"].unique()"
   ],
   "metadata": {
    "collapsed": false
   },
   "id": "a832b676d2e36b52"
  },
  {
   "cell_type": "code",
   "execution_count": null,
   "outputs": [],
   "source": [
    "df.head()"
   ],
   "metadata": {
    "collapsed": false
   },
   "id": "38fca1dbae11fcb1"
  },
  {
   "cell_type": "code",
   "execution_count": null,
   "outputs": [],
   "source": [
    "def add_item_to_setID(setID, item, wearType):\n",
    "    df_setID.loc[setID, f\"{wearType} ClothingItemName\"] = item[\"clothingItemName\"]\n",
    "    df_setID.loc[setID, f\"{wearType} wearType\"] = item[\"wearType\"]\n",
    "    df_setID.loc[setID, f\"{wearType} ImagePath\"] = item[\"imagePath\"]\n",
    "    df_setID.loc[setID, f\"{wearType} ImagePath 256x256\"] = item[\"imagePath 256x256\"]\n",
    "    df_setID.loc[setID, f\"{wearType} ImagePath BG Removed\"] = item[\"imagePath BG-Removed\"]\n"
   ],
   "metadata": {
    "collapsed": false
   },
   "id": "ecf94e0b6b5713dd"
  },
  {
   "cell_type": "code",
   "execution_count": null,
   "outputs": [],
   "source": [
    "df_setID = pd.DataFrame()\n",
    "for set_id in setIDs:\n",
    "    #Initialisatio\n",
    "    items = df[df[\"set_id\"] == set_id]\n",
    "    df_items = pd.DataFrame(items)\n",
    "    added_accessoire = False\n",
    "    \n",
    "    #Adding the basic information about the SetID\n",
    "    df_setID.loc[set_id, \"OutfitName\"] = df[df[\"set_id\"] == set_id][\"outfitName\"].values[0]\n",
    "    df_setID.loc[set_id, \"outfitDesc\"] = df[df[\"set_id\"] == set_id][\"outfitDesc\"].values[0]\n",
    "    df_setID.loc[set_id, \"outfitViews\"] = df[df[\"set_id\"] == set_id][\"outfitViews\"].values[0]\n",
    "    df_setID.loc[set_id, \"outfitLikes\"] = df[df[\"set_id\"] == set_id][\"outfitLikes\"].values[0]\n",
    "    df_setID.loc[set_id, \"Ratio\"] = df[df[\"set_id\"] == set_id][\"Ratio\"].values[0]\n",
    "    \n",
    "    #Adding the items to the setID\n",
    "    for index, item in df_items.iterrows():\n",
    "        if (item[\"wearType\"] == 1.0) and added_accessoire:\n",
    "            print(\"Sorry, es wurde bereits ein Accessoirces hinzugefügt\")\n",
    "            continue\n",
    "        if (item[\"wearType\"] == 5.0):\n",
    "            add_item_to_setID(set_id, item, \"Shoes\")\n",
    "        elif (item[\"wearType\"] == 4.0):\n",
    "            add_item_to_setID(set_id, item, \"Bottomwear\")\n",
    "        elif (item[\"wearType\"] == 2.0):\n",
    "            add_item_to_setID(set_id, item, \"Innerwear\")   \n",
    "        elif (item[\"wearType\"] == 3.0):\n",
    "            add_item_to_setID(set_id, item, \"Outerwear\")\n",
    "        elif (item[\"wearType\"] == 1.0):\n",
    "            add_item_to_setID(set_id, item, \"Accessoire\")\n",
    "            added_accessoire = True\n",
    "        else:\n",
    "            print(item[\"wearType\"])\n",
    "            raise ValueError(\"WearType not found\")"
   ],
   "metadata": {
    "collapsed": false
   },
   "id": "ce02f37f69d7b5b6"
  },
  {
   "cell_type": "markdown",
   "source": [
    "# Data Quality Assessment"
   ],
   "metadata": {
    "collapsed": false
   },
   "id": "42d6cfdcb6d09dad"
  },
  {
   "cell_type": "code",
   "execution_count": null,
   "outputs": [],
   "source": [
    "df[df[\"wearType\"].isna() == True]"
   ],
   "metadata": {
    "collapsed": false
   },
   "id": "8004583151bfa9ef"
  },
  {
   "cell_type": "markdown",
   "source": [
    "### Drop the Rows the a Ratio over 1.0. This is not possible"
   ],
   "metadata": {
    "collapsed": false
   },
   "id": "747beadb05dca695"
  },
  {
   "cell_type": "code",
   "execution_count": null,
   "outputs": [],
   "source": [
    "df_setID = df_setID.drop(df_setID[df_setID[\"Ratio\"] > 1.0].index)"
   ],
   "metadata": {
    "collapsed": false
   },
   "id": "2d4828b083a0681f"
  },
  {
   "cell_type": "code",
   "execution_count": null,
   "outputs": [],
   "source": [
    "sns.histplot(df_setID[\"Ratio\"])"
   ],
   "metadata": {
    "collapsed": false
   },
   "id": "d14c91aa81c75d62"
  },
  {
   "cell_type": "code",
   "execution_count": null,
   "outputs": [],
   "source": [
    "sns.boxplot(x=df_setID[\"Ratio\"])\n"
   ],
   "metadata": {
    "collapsed": false
   },
   "id": "a30c7d9af731e7f1"
  },
  {
   "cell_type": "code",
   "execution_count": null,
   "outputs": [],
   "source": [
    "df_setID[\"Ratio_Log\"] =  abs(np.log(df_setID[\"Ratio\"]))\n",
    "df_setID[\"Ratio_Log10\"] =  abs(np.log10(df_setID[\"Ratio\"]))\n",
    "print(df_setID[\"Ratio_Log\"].skew())\n",
    "print(df_setID[\"Ratio_Log10\"].skew())"
   ],
   "metadata": {
    "collapsed": false
   },
   "id": "2efaa48d1f1fb5c5"
  },
  {
   "cell_type": "code",
   "execution_count": null,
   "outputs": [],
   "source": [
    "#Normalize this from 0 to 1 --> df_setID[\"Ratio_Log\"] \n",
    "import sklearn.preprocessing\n",
    "\n",
    "scaler = sklearn.preprocessing.MinMaxScaler()\n",
    "df_setID[\"Ratio_Log_Normalized\"] = scaler.fit_transform(df_setID[[\"Ratio_Log\"]])"
   ],
   "metadata": {
    "collapsed": false
   },
   "id": "2ec02427a31caf5b"
  },
  {
   "cell_type": "code",
   "execution_count": null,
   "outputs": [],
   "source": [
    "sns.histplot(df_setID[\"Ratio_Log_Normalized\"])"
   ],
   "metadata": {
    "collapsed": false
   },
   "id": "88d1a950107b06a6"
  },
  {
   "cell_type": "markdown",
   "source": [
    "# Add the three most dominant colors to the dataframe"
   ],
   "metadata": {
    "collapsed": false
   },
   "id": "9c69f07b35b83860"
  },
  {
   "cell_type": "markdown",
   "source": [
    "### Add the path to the BG-Removed to the dataframe"
   ],
   "metadata": {
    "collapsed": false
   },
   "id": "3c297808c7e410b9"
  },
  {
   "cell_type": "code",
   "execution_count": null,
   "outputs": [],
   "source": [
    "df_setID.head()"
   ],
   "metadata": {
    "collapsed": false
   },
   "id": "62443eeb61a161c6"
  },
  {
   "cell_type": "code",
   "execution_count": null,
   "outputs": [],
   "source": [],
   "metadata": {
    "collapsed": false
   },
   "id": "75810e590f32d9ae"
  }
 ],
 "metadata": {
  "kernelspec": {
   "display_name": "Python 3",
   "language": "python",
   "name": "python3"
  },
  "language_info": {
   "codemirror_mode": {
    "name": "ipython",
    "version": 2
   },
   "file_extension": ".py",
   "mimetype": "text/x-python",
   "name": "python",
   "nbconvert_exporter": "python",
   "pygments_lexer": "ipython2",
   "version": "2.7.6"
  }
 },
 "nbformat": 4,
 "nbformat_minor": 5
}
