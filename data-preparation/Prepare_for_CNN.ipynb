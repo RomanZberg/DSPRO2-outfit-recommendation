{
 "cells": [
  {
   "cell_type": "code",
   "execution_count": 2,
   "id": "initial_id",
   "metadata": {
    "collapsed": true,
    "ExecuteTime": {
     "end_time": "2024-05-17T13:28:49.364540Z",
     "start_time": "2024-05-17T13:28:49.353058Z"
    }
   },
   "outputs": [],
   "source": [
    "import numpy as np\n",
    "import pandas as pd\n",
    "import seaborn as sns\n",
    "from enum import IntEnum\n",
    "from dataclasses import dataclass\n",
    "from enum import Enum\n",
    "import copy\n",
    "from colorthief import ColorThief\n",
    "import os"
   ]
  },
  {
   "cell_type": "code",
   "execution_count": 3,
   "outputs": [],
   "source": [
    "df = pd.read_parquet('../datasets/cleaned/polyvore_v1.parquet')"
   ],
   "metadata": {
    "collapsed": false,
    "ExecuteTime": {
     "end_time": "2024-05-17T13:28:50.019706Z",
     "start_time": "2024-05-17T13:28:49.940519Z"
    }
   },
   "id": "2f587a90cd092680"
  },
  {
   "cell_type": "code",
   "execution_count": 4,
   "outputs": [],
   "source": [
    "@dataclass\n",
    "class WearType(Enum):\n",
    "    accessoire = 1.0\n",
    "    innerWear = 2.0\n",
    "    outerWear = 3.0\n",
    "    bottomWear = 4.0\n",
    "    shoes = 5.0"
   ],
   "metadata": {
    "collapsed": false,
    "ExecuteTime": {
     "end_time": "2024-05-17T13:28:50.672334Z",
     "start_time": "2024-05-17T13:28:50.627277Z"
    }
   },
   "id": "33c8b34c48ab325b"
  },
  {
   "cell_type": "code",
   "execution_count": 5,
   "outputs": [],
   "source": [
    "def add_bg_removed_path_to_df(imagePath):\n",
    "    raw, images, number, file = imagePath.split(\"/\")\n",
    "    endnumber, end = file.split(\".\")\n",
    "    \n",
    "    return f\"datasets/bg_removed/{number}/{endnumber}.png\"\n",
    "\n",
    "def add_images256x256_path_to_df(imagePath):\n",
    "    raw, images, number, file = imagePath.split(\"/\")\n",
    "    \n",
    "    return f\"datasets/images256x256/{number}/{file}\""
   ],
   "metadata": {
    "collapsed": false,
    "ExecuteTime": {
     "end_time": "2024-05-17T13:28:52.026908Z",
     "start_time": "2024-05-17T13:28:52.017561Z"
    }
   },
   "id": "29e3f1dfd026d8eb"
  },
  {
   "cell_type": "markdown",
   "source": [
    "## Add the Path to the BG-Removed and 256x256 Images to the DataFrame"
   ],
   "metadata": {
    "collapsed": false
   },
   "id": "6f02660b7ceff58b"
  },
  {
   "cell_type": "code",
   "execution_count": 17,
   "outputs": [],
   "source": [
    "df['imagePath 256x256'] = df['imagePath'].apply(add_images256x256_path_to_df)\n",
    "df['imagePath BG-Removed'] = df['imagePath'].apply(add_bg_removed_path_to_df)"
   ],
   "metadata": {
    "collapsed": false,
    "ExecuteTime": {
     "end_time": "2024-04-27T22:29:51.593427Z",
     "start_time": "2024-04-27T22:29:51.582316Z"
    }
   },
   "id": "c7034a173f42ff87"
  },
  {
   "cell_type": "markdown",
   "source": [
    "# Extract most dominant color"
   ],
   "metadata": {
    "collapsed": false
   },
   "id": "37dcaa8187afbd71"
  },
  {
   "cell_type": "code",
   "execution_count": 7,
   "outputs": [],
   "source": [
    "def get_palette(img_path, color_count, quality):\n",
    "    parent_directory = os.path.dirname(os.getcwd())\n",
    "    full_path = parent_directory + \"/\" + img_path\n",
    "    print(full_path)\n",
    "    thief = ColorThief(full_path)\n",
    "    palette = thief.get_palette(color_count=color_count, quality=quality)\n",
    "    return palette"
   ],
   "metadata": {
    "collapsed": false,
    "ExecuteTime": {
     "end_time": "2024-04-27T22:29:52.474112Z",
     "start_time": "2024-04-27T22:29:52.466256Z"
    }
   },
   "id": "4cbfea1bd87fc939"
  },
  {
   "cell_type": "code",
   "execution_count": 8,
   "outputs": [],
   "source": [
    "small_df = df.head(10)"
   ],
   "metadata": {
    "collapsed": false,
    "ExecuteTime": {
     "end_time": "2024-04-27T22:29:52.953360Z",
     "start_time": "2024-04-27T22:29:52.948660Z"
    }
   },
   "id": "7678c139d226160"
  },
  {
   "cell_type": "code",
   "execution_count": 9,
   "outputs": [
    {
     "name": "stdout",
     "output_type": "stream",
     "text": [
      "/Users/romanzberg/projects/DSPRO2-outfit-recommendation/datasets/bg_removed/120161271/1.png\n"
     ]
    },
    {
     "ename": "FileNotFoundError",
     "evalue": "[Errno 2] No such file or directory: '/Users/romanzberg/projects/DSPRO2-outfit-recommendation/datasets/bg_removed/120161271/1.png'",
     "output_type": "error",
     "traceback": [
      "\u001B[0;31m---------------------------------------------------------------------------\u001B[0m",
      "\u001B[0;31mFileNotFoundError\u001B[0m                         Traceback (most recent call last)",
      "Cell \u001B[0;32mIn[9], line 1\u001B[0m\n\u001B[0;32m----> 1\u001B[0m small_df[\u001B[38;5;124m\"\u001B[39m\u001B[38;5;124mDominant Color\u001B[39m\u001B[38;5;124m\"\u001B[39m] \u001B[38;5;241m=\u001B[39m \u001B[43msmall_df\u001B[49m\u001B[43m[\u001B[49m\u001B[38;5;124;43m\"\u001B[39;49m\u001B[38;5;124;43mimagePath BG-Removed\u001B[39;49m\u001B[38;5;124;43m\"\u001B[39;49m\u001B[43m]\u001B[49m\u001B[38;5;241;43m.\u001B[39;49m\u001B[43mapply\u001B[49m\u001B[43m(\u001B[49m\u001B[38;5;28;43;01mlambda\u001B[39;49;00m\u001B[43m \u001B[49m\u001B[43mx\u001B[49m\u001B[43m:\u001B[49m\u001B[43m \u001B[49m\u001B[43mget_palette\u001B[49m\u001B[43m(\u001B[49m\u001B[43mx\u001B[49m\u001B[43m,\u001B[49m\u001B[43m \u001B[49m\u001B[38;5;241;43m3\u001B[39;49m\u001B[43m,\u001B[49m\u001B[43m \u001B[49m\u001B[38;5;241;43m1\u001B[39;49m\u001B[43m)\u001B[49m\u001B[43m)\u001B[49m\n",
      "File \u001B[0;32m~/.local/share/virtualenvs/DSPRO2-outfit-recommendation-QOdjBNZs/lib/python3.10/site-packages/pandas/core/series.py:4924\u001B[0m, in \u001B[0;36mSeries.apply\u001B[0;34m(self, func, convert_dtype, args, by_row, **kwargs)\u001B[0m\n\u001B[1;32m   4789\u001B[0m \u001B[38;5;28;01mdef\u001B[39;00m \u001B[38;5;21mapply\u001B[39m(\n\u001B[1;32m   4790\u001B[0m     \u001B[38;5;28mself\u001B[39m,\n\u001B[1;32m   4791\u001B[0m     func: AggFuncType,\n\u001B[0;32m   (...)\u001B[0m\n\u001B[1;32m   4796\u001B[0m     \u001B[38;5;241m*\u001B[39m\u001B[38;5;241m*\u001B[39mkwargs,\n\u001B[1;32m   4797\u001B[0m ) \u001B[38;5;241m-\u001B[39m\u001B[38;5;241m>\u001B[39m DataFrame \u001B[38;5;241m|\u001B[39m Series:\n\u001B[1;32m   4798\u001B[0m \u001B[38;5;250m    \u001B[39m\u001B[38;5;124;03m\"\"\"\u001B[39;00m\n\u001B[1;32m   4799\u001B[0m \u001B[38;5;124;03m    Invoke function on values of Series.\u001B[39;00m\n\u001B[1;32m   4800\u001B[0m \n\u001B[0;32m   (...)\u001B[0m\n\u001B[1;32m   4915\u001B[0m \u001B[38;5;124;03m    dtype: float64\u001B[39;00m\n\u001B[1;32m   4916\u001B[0m \u001B[38;5;124;03m    \"\"\"\u001B[39;00m\n\u001B[1;32m   4917\u001B[0m     \u001B[38;5;28;01mreturn\u001B[39;00m \u001B[43mSeriesApply\u001B[49m\u001B[43m(\u001B[49m\n\u001B[1;32m   4918\u001B[0m \u001B[43m        \u001B[49m\u001B[38;5;28;43mself\u001B[39;49m\u001B[43m,\u001B[49m\n\u001B[1;32m   4919\u001B[0m \u001B[43m        \u001B[49m\u001B[43mfunc\u001B[49m\u001B[43m,\u001B[49m\n\u001B[1;32m   4920\u001B[0m \u001B[43m        \u001B[49m\u001B[43mconvert_dtype\u001B[49m\u001B[38;5;241;43m=\u001B[39;49m\u001B[43mconvert_dtype\u001B[49m\u001B[43m,\u001B[49m\n\u001B[1;32m   4921\u001B[0m \u001B[43m        \u001B[49m\u001B[43mby_row\u001B[49m\u001B[38;5;241;43m=\u001B[39;49m\u001B[43mby_row\u001B[49m\u001B[43m,\u001B[49m\n\u001B[1;32m   4922\u001B[0m \u001B[43m        \u001B[49m\u001B[43margs\u001B[49m\u001B[38;5;241;43m=\u001B[39;49m\u001B[43margs\u001B[49m\u001B[43m,\u001B[49m\n\u001B[1;32m   4923\u001B[0m \u001B[43m        \u001B[49m\u001B[43mkwargs\u001B[49m\u001B[38;5;241;43m=\u001B[39;49m\u001B[43mkwargs\u001B[49m\u001B[43m,\u001B[49m\n\u001B[0;32m-> 4924\u001B[0m \u001B[43m    \u001B[49m\u001B[43m)\u001B[49m\u001B[38;5;241;43m.\u001B[39;49m\u001B[43mapply\u001B[49m\u001B[43m(\u001B[49m\u001B[43m)\u001B[49m\n",
      "File \u001B[0;32m~/.local/share/virtualenvs/DSPRO2-outfit-recommendation-QOdjBNZs/lib/python3.10/site-packages/pandas/core/apply.py:1427\u001B[0m, in \u001B[0;36mSeriesApply.apply\u001B[0;34m(self)\u001B[0m\n\u001B[1;32m   1424\u001B[0m     \u001B[38;5;28;01mreturn\u001B[39;00m \u001B[38;5;28mself\u001B[39m\u001B[38;5;241m.\u001B[39mapply_compat()\n\u001B[1;32m   1426\u001B[0m \u001B[38;5;66;03m# self.func is Callable\u001B[39;00m\n\u001B[0;32m-> 1427\u001B[0m \u001B[38;5;28;01mreturn\u001B[39;00m \u001B[38;5;28;43mself\u001B[39;49m\u001B[38;5;241;43m.\u001B[39;49m\u001B[43mapply_standard\u001B[49m\u001B[43m(\u001B[49m\u001B[43m)\u001B[49m\n",
      "File \u001B[0;32m~/.local/share/virtualenvs/DSPRO2-outfit-recommendation-QOdjBNZs/lib/python3.10/site-packages/pandas/core/apply.py:1507\u001B[0m, in \u001B[0;36mSeriesApply.apply_standard\u001B[0;34m(self)\u001B[0m\n\u001B[1;32m   1501\u001B[0m \u001B[38;5;66;03m# row-wise access\u001B[39;00m\n\u001B[1;32m   1502\u001B[0m \u001B[38;5;66;03m# apply doesn't have a `na_action` keyword and for backward compat reasons\u001B[39;00m\n\u001B[1;32m   1503\u001B[0m \u001B[38;5;66;03m# we need to give `na_action=\"ignore\"` for categorical data.\u001B[39;00m\n\u001B[1;32m   1504\u001B[0m \u001B[38;5;66;03m# TODO: remove the `na_action=\"ignore\"` when that default has been changed in\u001B[39;00m\n\u001B[1;32m   1505\u001B[0m \u001B[38;5;66;03m#  Categorical (GH51645).\u001B[39;00m\n\u001B[1;32m   1506\u001B[0m action \u001B[38;5;241m=\u001B[39m \u001B[38;5;124m\"\u001B[39m\u001B[38;5;124mignore\u001B[39m\u001B[38;5;124m\"\u001B[39m \u001B[38;5;28;01mif\u001B[39;00m \u001B[38;5;28misinstance\u001B[39m(obj\u001B[38;5;241m.\u001B[39mdtype, CategoricalDtype) \u001B[38;5;28;01melse\u001B[39;00m \u001B[38;5;28;01mNone\u001B[39;00m\n\u001B[0;32m-> 1507\u001B[0m mapped \u001B[38;5;241m=\u001B[39m \u001B[43mobj\u001B[49m\u001B[38;5;241;43m.\u001B[39;49m\u001B[43m_map_values\u001B[49m\u001B[43m(\u001B[49m\n\u001B[1;32m   1508\u001B[0m \u001B[43m    \u001B[49m\u001B[43mmapper\u001B[49m\u001B[38;5;241;43m=\u001B[39;49m\u001B[43mcurried\u001B[49m\u001B[43m,\u001B[49m\u001B[43m \u001B[49m\u001B[43mna_action\u001B[49m\u001B[38;5;241;43m=\u001B[39;49m\u001B[43maction\u001B[49m\u001B[43m,\u001B[49m\u001B[43m \u001B[49m\u001B[43mconvert\u001B[49m\u001B[38;5;241;43m=\u001B[39;49m\u001B[38;5;28;43mself\u001B[39;49m\u001B[38;5;241;43m.\u001B[39;49m\u001B[43mconvert_dtype\u001B[49m\n\u001B[1;32m   1509\u001B[0m \u001B[43m\u001B[49m\u001B[43m)\u001B[49m\n\u001B[1;32m   1511\u001B[0m \u001B[38;5;28;01mif\u001B[39;00m \u001B[38;5;28mlen\u001B[39m(mapped) \u001B[38;5;129;01mand\u001B[39;00m \u001B[38;5;28misinstance\u001B[39m(mapped[\u001B[38;5;241m0\u001B[39m], ABCSeries):\n\u001B[1;32m   1512\u001B[0m     \u001B[38;5;66;03m# GH#43986 Need to do list(mapped) in order to get treated as nested\u001B[39;00m\n\u001B[1;32m   1513\u001B[0m     \u001B[38;5;66;03m#  See also GH#25959 regarding EA support\u001B[39;00m\n\u001B[1;32m   1514\u001B[0m     \u001B[38;5;28;01mreturn\u001B[39;00m obj\u001B[38;5;241m.\u001B[39m_constructor_expanddim(\u001B[38;5;28mlist\u001B[39m(mapped), index\u001B[38;5;241m=\u001B[39mobj\u001B[38;5;241m.\u001B[39mindex)\n",
      "File \u001B[0;32m~/.local/share/virtualenvs/DSPRO2-outfit-recommendation-QOdjBNZs/lib/python3.10/site-packages/pandas/core/base.py:921\u001B[0m, in \u001B[0;36mIndexOpsMixin._map_values\u001B[0;34m(self, mapper, na_action, convert)\u001B[0m\n\u001B[1;32m    918\u001B[0m \u001B[38;5;28;01mif\u001B[39;00m \u001B[38;5;28misinstance\u001B[39m(arr, ExtensionArray):\n\u001B[1;32m    919\u001B[0m     \u001B[38;5;28;01mreturn\u001B[39;00m arr\u001B[38;5;241m.\u001B[39mmap(mapper, na_action\u001B[38;5;241m=\u001B[39mna_action)\n\u001B[0;32m--> 921\u001B[0m \u001B[38;5;28;01mreturn\u001B[39;00m \u001B[43malgorithms\u001B[49m\u001B[38;5;241;43m.\u001B[39;49m\u001B[43mmap_array\u001B[49m\u001B[43m(\u001B[49m\u001B[43marr\u001B[49m\u001B[43m,\u001B[49m\u001B[43m \u001B[49m\u001B[43mmapper\u001B[49m\u001B[43m,\u001B[49m\u001B[43m \u001B[49m\u001B[43mna_action\u001B[49m\u001B[38;5;241;43m=\u001B[39;49m\u001B[43mna_action\u001B[49m\u001B[43m,\u001B[49m\u001B[43m \u001B[49m\u001B[43mconvert\u001B[49m\u001B[38;5;241;43m=\u001B[39;49m\u001B[43mconvert\u001B[49m\u001B[43m)\u001B[49m\n",
      "File \u001B[0;32m~/.local/share/virtualenvs/DSPRO2-outfit-recommendation-QOdjBNZs/lib/python3.10/site-packages/pandas/core/algorithms.py:1743\u001B[0m, in \u001B[0;36mmap_array\u001B[0;34m(arr, mapper, na_action, convert)\u001B[0m\n\u001B[1;32m   1741\u001B[0m values \u001B[38;5;241m=\u001B[39m arr\u001B[38;5;241m.\u001B[39mastype(\u001B[38;5;28mobject\u001B[39m, copy\u001B[38;5;241m=\u001B[39m\u001B[38;5;28;01mFalse\u001B[39;00m)\n\u001B[1;32m   1742\u001B[0m \u001B[38;5;28;01mif\u001B[39;00m na_action \u001B[38;5;129;01mis\u001B[39;00m \u001B[38;5;28;01mNone\u001B[39;00m:\n\u001B[0;32m-> 1743\u001B[0m     \u001B[38;5;28;01mreturn\u001B[39;00m \u001B[43mlib\u001B[49m\u001B[38;5;241;43m.\u001B[39;49m\u001B[43mmap_infer\u001B[49m\u001B[43m(\u001B[49m\u001B[43mvalues\u001B[49m\u001B[43m,\u001B[49m\u001B[43m \u001B[49m\u001B[43mmapper\u001B[49m\u001B[43m,\u001B[49m\u001B[43m \u001B[49m\u001B[43mconvert\u001B[49m\u001B[38;5;241;43m=\u001B[39;49m\u001B[43mconvert\u001B[49m\u001B[43m)\u001B[49m\n\u001B[1;32m   1744\u001B[0m \u001B[38;5;28;01melse\u001B[39;00m:\n\u001B[1;32m   1745\u001B[0m     \u001B[38;5;28;01mreturn\u001B[39;00m lib\u001B[38;5;241m.\u001B[39mmap_infer_mask(\n\u001B[1;32m   1746\u001B[0m         values, mapper, mask\u001B[38;5;241m=\u001B[39misna(values)\u001B[38;5;241m.\u001B[39mview(np\u001B[38;5;241m.\u001B[39muint8), convert\u001B[38;5;241m=\u001B[39mconvert\n\u001B[1;32m   1747\u001B[0m     )\n",
      "File \u001B[0;32mlib.pyx:2972\u001B[0m, in \u001B[0;36mpandas._libs.lib.map_infer\u001B[0;34m()\u001B[0m\n",
      "Cell \u001B[0;32mIn[9], line 1\u001B[0m, in \u001B[0;36m<lambda>\u001B[0;34m(x)\u001B[0m\n\u001B[0;32m----> 1\u001B[0m small_df[\u001B[38;5;124m\"\u001B[39m\u001B[38;5;124mDominant Color\u001B[39m\u001B[38;5;124m\"\u001B[39m] \u001B[38;5;241m=\u001B[39m small_df[\u001B[38;5;124m\"\u001B[39m\u001B[38;5;124mimagePath BG-Removed\u001B[39m\u001B[38;5;124m\"\u001B[39m]\u001B[38;5;241m.\u001B[39mapply(\u001B[38;5;28;01mlambda\u001B[39;00m x: \u001B[43mget_palette\u001B[49m\u001B[43m(\u001B[49m\u001B[43mx\u001B[49m\u001B[43m,\u001B[49m\u001B[43m \u001B[49m\u001B[38;5;241;43m3\u001B[39;49m\u001B[43m,\u001B[49m\u001B[43m \u001B[49m\u001B[38;5;241;43m1\u001B[39;49m\u001B[43m)\u001B[49m)\n",
      "Cell \u001B[0;32mIn[7], line 5\u001B[0m, in \u001B[0;36mget_palette\u001B[0;34m(img_path, color_count, quality)\u001B[0m\n\u001B[1;32m      3\u001B[0m full_path \u001B[38;5;241m=\u001B[39m parent_directory \u001B[38;5;241m+\u001B[39m \u001B[38;5;124m\"\u001B[39m\u001B[38;5;124m/\u001B[39m\u001B[38;5;124m\"\u001B[39m \u001B[38;5;241m+\u001B[39m img_path\n\u001B[1;32m      4\u001B[0m \u001B[38;5;28mprint\u001B[39m(full_path)\n\u001B[0;32m----> 5\u001B[0m thief \u001B[38;5;241m=\u001B[39m \u001B[43mColorThief\u001B[49m\u001B[43m(\u001B[49m\u001B[43mfull_path\u001B[49m\u001B[43m)\u001B[49m\n\u001B[1;32m      6\u001B[0m palette \u001B[38;5;241m=\u001B[39m thief\u001B[38;5;241m.\u001B[39mget_palette(color_count\u001B[38;5;241m=\u001B[39mcolor_count, quality\u001B[38;5;241m=\u001B[39mquality)\n\u001B[1;32m      7\u001B[0m \u001B[38;5;28;01mreturn\u001B[39;00m palette\n",
      "File \u001B[0;32m~/.local/share/virtualenvs/DSPRO2-outfit-recommendation-QOdjBNZs/lib/python3.10/site-packages/colorthief.py:39\u001B[0m, in \u001B[0;36mColorThief.__init__\u001B[0;34m(self, file)\u001B[0m\n\u001B[1;32m     32\u001B[0m \u001B[38;5;28;01mdef\u001B[39;00m \u001B[38;5;21m__init__\u001B[39m(\u001B[38;5;28mself\u001B[39m, file):\n\u001B[1;32m     33\u001B[0m \u001B[38;5;250m    \u001B[39m\u001B[38;5;124;03m\"\"\"Create one color thief for one image.\u001B[39;00m\n\u001B[1;32m     34\u001B[0m \n\u001B[1;32m     35\u001B[0m \u001B[38;5;124;03m    :param file: A filename (string) or a file object. The file object\u001B[39;00m\n\u001B[1;32m     36\u001B[0m \u001B[38;5;124;03m                 must implement `read()`, `seek()`, and `tell()` methods,\u001B[39;00m\n\u001B[1;32m     37\u001B[0m \u001B[38;5;124;03m                 and be opened in binary mode.\u001B[39;00m\n\u001B[1;32m     38\u001B[0m \u001B[38;5;124;03m    \"\"\"\u001B[39;00m\n\u001B[0;32m---> 39\u001B[0m     \u001B[38;5;28mself\u001B[39m\u001B[38;5;241m.\u001B[39mimage \u001B[38;5;241m=\u001B[39m \u001B[43mImage\u001B[49m\u001B[38;5;241;43m.\u001B[39;49m\u001B[43mopen\u001B[49m\u001B[43m(\u001B[49m\u001B[43mfile\u001B[49m\u001B[43m)\u001B[49m\n",
      "File \u001B[0;32m~/.local/share/virtualenvs/DSPRO2-outfit-recommendation-QOdjBNZs/lib/python3.10/site-packages/PIL/Image.py:3236\u001B[0m, in \u001B[0;36mopen\u001B[0;34m(fp, mode, formats)\u001B[0m\n\u001B[1;32m   3233\u001B[0m     filename \u001B[38;5;241m=\u001B[39m fp\n\u001B[1;32m   3235\u001B[0m \u001B[38;5;28;01mif\u001B[39;00m filename:\n\u001B[0;32m-> 3236\u001B[0m     fp \u001B[38;5;241m=\u001B[39m \u001B[43mbuiltins\u001B[49m\u001B[38;5;241;43m.\u001B[39;49m\u001B[43mopen\u001B[49m\u001B[43m(\u001B[49m\u001B[43mfilename\u001B[49m\u001B[43m,\u001B[49m\u001B[43m \u001B[49m\u001B[38;5;124;43m\"\u001B[39;49m\u001B[38;5;124;43mrb\u001B[39;49m\u001B[38;5;124;43m\"\u001B[39;49m\u001B[43m)\u001B[49m\n\u001B[1;32m   3237\u001B[0m     exclusive_fp \u001B[38;5;241m=\u001B[39m \u001B[38;5;28;01mTrue\u001B[39;00m\n\u001B[1;32m   3239\u001B[0m \u001B[38;5;28;01mtry\u001B[39;00m:\n",
      "\u001B[0;31mFileNotFoundError\u001B[0m: [Errno 2] No such file or directory: '/Users/romanzberg/projects/DSPRO2-outfit-recommendation/datasets/bg_removed/120161271/1.png'"
     ]
    }
   ],
   "source": [
    "small_df[\"Dominant Color\"] = small_df[\"imagePath BG-Removed\"].apply(lambda x: get_palette(x, 3, 1))"
   ],
   "metadata": {
    "collapsed": false,
    "ExecuteTime": {
     "end_time": "2024-04-27T22:29:54.086899Z",
     "start_time": "2024-04-27T22:29:53.450930Z"
    }
   },
   "id": "1da4ee1e426c9a9b"
  },
  {
   "cell_type": "code",
   "execution_count": 10,
   "outputs": [
    {
     "ename": "KeyError",
     "evalue": "'Dominant Color'",
     "output_type": "error",
     "traceback": [
      "\u001B[0;31m---------------------------------------------------------------------------\u001B[0m",
      "\u001B[0;31mKeyError\u001B[0m                                  Traceback (most recent call last)",
      "File \u001B[0;32m~/.local/share/virtualenvs/DSPRO2-outfit-recommendation-QOdjBNZs/lib/python3.10/site-packages/pandas/core/indexes/base.py:3805\u001B[0m, in \u001B[0;36mIndex.get_loc\u001B[0;34m(self, key)\u001B[0m\n\u001B[1;32m   3804\u001B[0m \u001B[38;5;28;01mtry\u001B[39;00m:\n\u001B[0;32m-> 3805\u001B[0m     \u001B[38;5;28;01mreturn\u001B[39;00m \u001B[38;5;28;43mself\u001B[39;49m\u001B[38;5;241;43m.\u001B[39;49m\u001B[43m_engine\u001B[49m\u001B[38;5;241;43m.\u001B[39;49m\u001B[43mget_loc\u001B[49m\u001B[43m(\u001B[49m\u001B[43mcasted_key\u001B[49m\u001B[43m)\u001B[49m\n\u001B[1;32m   3806\u001B[0m \u001B[38;5;28;01mexcept\u001B[39;00m \u001B[38;5;167;01mKeyError\u001B[39;00m \u001B[38;5;28;01mas\u001B[39;00m err:\n",
      "File \u001B[0;32mindex.pyx:167\u001B[0m, in \u001B[0;36mpandas._libs.index.IndexEngine.get_loc\u001B[0;34m()\u001B[0m\n",
      "File \u001B[0;32mindex.pyx:196\u001B[0m, in \u001B[0;36mpandas._libs.index.IndexEngine.get_loc\u001B[0;34m()\u001B[0m\n",
      "File \u001B[0;32mpandas/_libs/hashtable_class_helper.pxi:7081\u001B[0m, in \u001B[0;36mpandas._libs.hashtable.PyObjectHashTable.get_item\u001B[0;34m()\u001B[0m\n",
      "File \u001B[0;32mpandas/_libs/hashtable_class_helper.pxi:7089\u001B[0m, in \u001B[0;36mpandas._libs.hashtable.PyObjectHashTable.get_item\u001B[0;34m()\u001B[0m\n",
      "\u001B[0;31mKeyError\u001B[0m: 'Dominant Color'",
      "\nThe above exception was the direct cause of the following exception:\n",
      "\u001B[0;31mKeyError\u001B[0m                                  Traceback (most recent call last)",
      "Cell \u001B[0;32mIn[10], line 1\u001B[0m\n\u001B[0;32m----> 1\u001B[0m split \u001B[38;5;241m=\u001B[39m pd\u001B[38;5;241m.\u001B[39mDataFrame(\u001B[43msmall_df\u001B[49m\u001B[43m[\u001B[49m\u001B[38;5;124;43m'\u001B[39;49m\u001B[38;5;124;43mDominant Color\u001B[39;49m\u001B[38;5;124;43m'\u001B[39;49m\u001B[43m]\u001B[49m\u001B[38;5;241m.\u001B[39mto_list(), columns\u001B[38;5;241m=\u001B[39m [\u001B[38;5;124m'\u001B[39m\u001B[38;5;124m1st Dominant Color\u001B[39m\u001B[38;5;124m'\u001B[39m, \u001B[38;5;124m'\u001B[39m\u001B[38;5;124m2nd Dominant Color\u001B[39m\u001B[38;5;124m'\u001B[39m, \u001B[38;5;124m'\u001B[39m\u001B[38;5;124m3rd Dominant Color\u001B[39m\u001B[38;5;124m'\u001B[39m, \u001B[38;5;124m'\u001B[39m\u001B[38;5;124m4th Dominant Color\u001B[39m\u001B[38;5;124m'\u001B[39m])\n",
      "File \u001B[0;32m~/.local/share/virtualenvs/DSPRO2-outfit-recommendation-QOdjBNZs/lib/python3.10/site-packages/pandas/core/frame.py:4102\u001B[0m, in \u001B[0;36mDataFrame.__getitem__\u001B[0;34m(self, key)\u001B[0m\n\u001B[1;32m   4100\u001B[0m \u001B[38;5;28;01mif\u001B[39;00m \u001B[38;5;28mself\u001B[39m\u001B[38;5;241m.\u001B[39mcolumns\u001B[38;5;241m.\u001B[39mnlevels \u001B[38;5;241m>\u001B[39m \u001B[38;5;241m1\u001B[39m:\n\u001B[1;32m   4101\u001B[0m     \u001B[38;5;28;01mreturn\u001B[39;00m \u001B[38;5;28mself\u001B[39m\u001B[38;5;241m.\u001B[39m_getitem_multilevel(key)\n\u001B[0;32m-> 4102\u001B[0m indexer \u001B[38;5;241m=\u001B[39m \u001B[38;5;28;43mself\u001B[39;49m\u001B[38;5;241;43m.\u001B[39;49m\u001B[43mcolumns\u001B[49m\u001B[38;5;241;43m.\u001B[39;49m\u001B[43mget_loc\u001B[49m\u001B[43m(\u001B[49m\u001B[43mkey\u001B[49m\u001B[43m)\u001B[49m\n\u001B[1;32m   4103\u001B[0m \u001B[38;5;28;01mif\u001B[39;00m is_integer(indexer):\n\u001B[1;32m   4104\u001B[0m     indexer \u001B[38;5;241m=\u001B[39m [indexer]\n",
      "File \u001B[0;32m~/.local/share/virtualenvs/DSPRO2-outfit-recommendation-QOdjBNZs/lib/python3.10/site-packages/pandas/core/indexes/base.py:3812\u001B[0m, in \u001B[0;36mIndex.get_loc\u001B[0;34m(self, key)\u001B[0m\n\u001B[1;32m   3807\u001B[0m     \u001B[38;5;28;01mif\u001B[39;00m \u001B[38;5;28misinstance\u001B[39m(casted_key, \u001B[38;5;28mslice\u001B[39m) \u001B[38;5;129;01mor\u001B[39;00m (\n\u001B[1;32m   3808\u001B[0m         \u001B[38;5;28misinstance\u001B[39m(casted_key, abc\u001B[38;5;241m.\u001B[39mIterable)\n\u001B[1;32m   3809\u001B[0m         \u001B[38;5;129;01mand\u001B[39;00m \u001B[38;5;28many\u001B[39m(\u001B[38;5;28misinstance\u001B[39m(x, \u001B[38;5;28mslice\u001B[39m) \u001B[38;5;28;01mfor\u001B[39;00m x \u001B[38;5;129;01min\u001B[39;00m casted_key)\n\u001B[1;32m   3810\u001B[0m     ):\n\u001B[1;32m   3811\u001B[0m         \u001B[38;5;28;01mraise\u001B[39;00m InvalidIndexError(key)\n\u001B[0;32m-> 3812\u001B[0m     \u001B[38;5;28;01mraise\u001B[39;00m \u001B[38;5;167;01mKeyError\u001B[39;00m(key) \u001B[38;5;28;01mfrom\u001B[39;00m \u001B[38;5;21;01merr\u001B[39;00m\n\u001B[1;32m   3813\u001B[0m \u001B[38;5;28;01mexcept\u001B[39;00m \u001B[38;5;167;01mTypeError\u001B[39;00m:\n\u001B[1;32m   3814\u001B[0m     \u001B[38;5;66;03m# If we have a listlike key, _check_indexing_error will raise\u001B[39;00m\n\u001B[1;32m   3815\u001B[0m     \u001B[38;5;66;03m#  InvalidIndexError. Otherwise we fall through and re-raise\u001B[39;00m\n\u001B[1;32m   3816\u001B[0m     \u001B[38;5;66;03m#  the TypeError.\u001B[39;00m\n\u001B[1;32m   3817\u001B[0m     \u001B[38;5;28mself\u001B[39m\u001B[38;5;241m.\u001B[39m_check_indexing_error(key)\n",
      "\u001B[0;31mKeyError\u001B[0m: 'Dominant Color'"
     ]
    }
   ],
   "source": [
    "split = pd.DataFrame(small_df['Dominant Color'].to_list(), columns= ['1st Dominant Color', '2nd Dominant Color', '3rd Dominant Color', '4th Dominant Color'])"
   ],
   "metadata": {
    "collapsed": false,
    "ExecuteTime": {
     "end_time": "2024-04-27T22:30:03.098066Z",
     "start_time": "2024-04-27T22:30:03.093233Z"
    }
   },
   "id": "87d0129379713a48"
  },
  {
   "cell_type": "code",
   "execution_count": 11,
   "outputs": [
    {
     "ename": "NameError",
     "evalue": "name 'split' is not defined",
     "output_type": "error",
     "traceback": [
      "\u001B[0;31m---------------------------------------------------------------------------\u001B[0m",
      "\u001B[0;31mNameError\u001B[0m                                 Traceback (most recent call last)",
      "Cell \u001B[0;32mIn[11], line 2\u001B[0m\n\u001B[1;32m      1\u001B[0m small_df\u001B[38;5;241m.\u001B[39mreset_index(drop\u001B[38;5;241m=\u001B[39m\u001B[38;5;28;01mTrue\u001B[39;00m, inplace\u001B[38;5;241m=\u001B[39m\u001B[38;5;28;01mTrue\u001B[39;00m)\n\u001B[0;32m----> 2\u001B[0m \u001B[43msplit\u001B[49m\u001B[38;5;241m.\u001B[39mreset_index(drop\u001B[38;5;241m=\u001B[39m\u001B[38;5;28;01mTrue\u001B[39;00m, inplace\u001B[38;5;241m=\u001B[39m\u001B[38;5;28;01mTrue\u001B[39;00m)\n\u001B[1;32m      3\u001B[0m small_df \u001B[38;5;241m=\u001B[39m pd\u001B[38;5;241m.\u001B[39mconcat([small_df, split], axis\u001B[38;5;241m=\u001B[39m\u001B[38;5;241m1\u001B[39m)\n",
      "\u001B[0;31mNameError\u001B[0m: name 'split' is not defined"
     ]
    }
   ],
   "source": [
    "small_df.reset_index(drop=True, inplace=True)\n",
    "split.reset_index(drop=True, inplace=True)\n",
    "small_df = pd.concat([small_df, split], axis=1)"
   ],
   "metadata": {
    "collapsed": false,
    "ExecuteTime": {
     "end_time": "2024-04-27T22:30:05.372004Z",
     "start_time": "2024-04-27T22:30:05.362764Z"
    }
   },
   "id": "5893bbf8c5385661"
  },
  {
   "cell_type": "code",
   "execution_count": 12,
   "outputs": [
    {
     "data": {
      "text/plain": "                                          outfitName  outfitViews  wearType  \\\n0  Being a Vans shoe model with Luke. Idk about t...          188       2.0   \n1  Being a Vans shoe model with Luke. Idk about t...          188       4.0   \n2                These Chanel bags is a bad habit .x          562       2.0   \n3                These Chanel bags is a bad habit .x          562       4.0   \n4                These Chanel bags is a bad habit .x          562       1.0   \n5                These Chanel bags is a bad habit .x          562       1.0   \n6  the people i choose never choose me and my hea...         1580       2.0   \n7  the people i choose never choose me and my hea...         1580       4.0   \n8  the people i choose never choose me and my hea...         1580       5.0   \n9                                          Be happy!          591       2.0   \n\n    type  outfitLikes       date     set_id  \\\n0    top            9  Two years  120161271   \n1  pants            9  Two years  120161271   \n2    top           32  Two years  143656996   \n3  pants           32  Two years  143656996   \n4    bag           32  Two years  143656996   \n5   hats           32  Two years  143656996   \n6    top          395     9 days  216470135   \n7  skirt          395     9 days  216470135   \n8  shoes          395     9 days  216470135   \n9    top          233    14 days  216220312   \n\n                                          outfitDesc  clothingItemIndex  \\\n0  A fashion look from April 2014 featuring destr...                  1   \n1  A fashion look from April 2014 featuring destr...                  2   \n2                                           12.19.14                  1   \n3                                           12.19.14                  3   \n4                                           12.19.14                  5   \n5                                           12.19.14                  6   \n6  A fashion look from February 2017 by exco feat...                  1   \n7  A fashion look from February 2017 by exco feat...                  2   \n8  A fashion look from February 2017 by exco feat...                  3   \n9  A fashion look from February 2017 by rasa-j fe...                  1   \n\n                                   clothingItemName  clothingItemPrice  \\\n0                        nirvana distressed t-shirt               10.0   \n1               rag bone rock w/ black skinny jeans              235.0   \n2                                     monki singlet               16.0   \n3          topshop moto joni high rise skinny jeans               65.0   \n4                     pre-owned chanel shoulder bag             2450.0   \n5                       rag bone floppy brim fedora              195.0   \n6                 isabel marant alpaca blend jumper              615.0   \n7  yoins light blue gradient color hole denim skirt               22.0   \n8      alice light blue shoes flats leather sandals              189.0   \n9                       oasis shadow bird knit pink               47.0   \n\n   clothingItemLikes  clothingItemCategoryId                   imagePath  \\\n0               1290                      21  raw/images/120161271/1.jpg   \n1              17406                     237  raw/images/120161271/2.jpg   \n2              20094                     104  raw/images/143656996/1.jpg   \n3              23324                     237  raw/images/143656996/3.jpg   \n4               4489                      37  raw/images/143656996/5.jpg   \n5               1833                      55  raw/images/143656996/6.jpg   \n6                268                      19  raw/images/216470135/1.jpg   \n7                331                       9  raw/images/216470135/2.jpg   \n8               2634                      41  raw/images/216470135/3.jpg   \n9               4874                      19  raw/images/216220312/1.jpg   \n\n                        imagePath 256x256                 imagePath BG-Removed  \n0  datasets/images256x256/120161271/1.jpg  datasets/bg_removed/120161271/1.png  \n1  datasets/images256x256/120161271/2.jpg  datasets/bg_removed/120161271/2.png  \n2  datasets/images256x256/143656996/1.jpg  datasets/bg_removed/143656996/1.png  \n3  datasets/images256x256/143656996/3.jpg  datasets/bg_removed/143656996/3.png  \n4  datasets/images256x256/143656996/5.jpg  datasets/bg_removed/143656996/5.png  \n5  datasets/images256x256/143656996/6.jpg  datasets/bg_removed/143656996/6.png  \n6  datasets/images256x256/216470135/1.jpg  datasets/bg_removed/216470135/1.png  \n7  datasets/images256x256/216470135/2.jpg  datasets/bg_removed/216470135/2.png  \n8  datasets/images256x256/216470135/3.jpg  datasets/bg_removed/216470135/3.png  \n9  datasets/images256x256/216220312/1.jpg  datasets/bg_removed/216220312/1.png  ",
      "text/html": "<div>\n<style scoped>\n    .dataframe tbody tr th:only-of-type {\n        vertical-align: middle;\n    }\n\n    .dataframe tbody tr th {\n        vertical-align: top;\n    }\n\n    .dataframe thead th {\n        text-align: right;\n    }\n</style>\n<table border=\"1\" class=\"dataframe\">\n  <thead>\n    <tr style=\"text-align: right;\">\n      <th></th>\n      <th>outfitName</th>\n      <th>outfitViews</th>\n      <th>wearType</th>\n      <th>type</th>\n      <th>outfitLikes</th>\n      <th>date</th>\n      <th>set_id</th>\n      <th>outfitDesc</th>\n      <th>clothingItemIndex</th>\n      <th>clothingItemName</th>\n      <th>clothingItemPrice</th>\n      <th>clothingItemLikes</th>\n      <th>clothingItemCategoryId</th>\n      <th>imagePath</th>\n      <th>imagePath 256x256</th>\n      <th>imagePath BG-Removed</th>\n    </tr>\n  </thead>\n  <tbody>\n    <tr>\n      <th>0</th>\n      <td>Being a Vans shoe model with Luke. Idk about t...</td>\n      <td>188</td>\n      <td>2.0</td>\n      <td>top</td>\n      <td>9</td>\n      <td>Two years</td>\n      <td>120161271</td>\n      <td>A fashion look from April 2014 featuring destr...</td>\n      <td>1</td>\n      <td>nirvana distressed t-shirt</td>\n      <td>10.0</td>\n      <td>1290</td>\n      <td>21</td>\n      <td>raw/images/120161271/1.jpg</td>\n      <td>datasets/images256x256/120161271/1.jpg</td>\n      <td>datasets/bg_removed/120161271/1.png</td>\n    </tr>\n    <tr>\n      <th>1</th>\n      <td>Being a Vans shoe model with Luke. Idk about t...</td>\n      <td>188</td>\n      <td>4.0</td>\n      <td>pants</td>\n      <td>9</td>\n      <td>Two years</td>\n      <td>120161271</td>\n      <td>A fashion look from April 2014 featuring destr...</td>\n      <td>2</td>\n      <td>rag bone rock w/ black skinny jeans</td>\n      <td>235.0</td>\n      <td>17406</td>\n      <td>237</td>\n      <td>raw/images/120161271/2.jpg</td>\n      <td>datasets/images256x256/120161271/2.jpg</td>\n      <td>datasets/bg_removed/120161271/2.png</td>\n    </tr>\n    <tr>\n      <th>2</th>\n      <td>These Chanel bags is a bad habit .x</td>\n      <td>562</td>\n      <td>2.0</td>\n      <td>top</td>\n      <td>32</td>\n      <td>Two years</td>\n      <td>143656996</td>\n      <td>12.19.14</td>\n      <td>1</td>\n      <td>monki singlet</td>\n      <td>16.0</td>\n      <td>20094</td>\n      <td>104</td>\n      <td>raw/images/143656996/1.jpg</td>\n      <td>datasets/images256x256/143656996/1.jpg</td>\n      <td>datasets/bg_removed/143656996/1.png</td>\n    </tr>\n    <tr>\n      <th>3</th>\n      <td>These Chanel bags is a bad habit .x</td>\n      <td>562</td>\n      <td>4.0</td>\n      <td>pants</td>\n      <td>32</td>\n      <td>Two years</td>\n      <td>143656996</td>\n      <td>12.19.14</td>\n      <td>3</td>\n      <td>topshop moto joni high rise skinny jeans</td>\n      <td>65.0</td>\n      <td>23324</td>\n      <td>237</td>\n      <td>raw/images/143656996/3.jpg</td>\n      <td>datasets/images256x256/143656996/3.jpg</td>\n      <td>datasets/bg_removed/143656996/3.png</td>\n    </tr>\n    <tr>\n      <th>4</th>\n      <td>These Chanel bags is a bad habit .x</td>\n      <td>562</td>\n      <td>1.0</td>\n      <td>bag</td>\n      <td>32</td>\n      <td>Two years</td>\n      <td>143656996</td>\n      <td>12.19.14</td>\n      <td>5</td>\n      <td>pre-owned chanel shoulder bag</td>\n      <td>2450.0</td>\n      <td>4489</td>\n      <td>37</td>\n      <td>raw/images/143656996/5.jpg</td>\n      <td>datasets/images256x256/143656996/5.jpg</td>\n      <td>datasets/bg_removed/143656996/5.png</td>\n    </tr>\n    <tr>\n      <th>5</th>\n      <td>These Chanel bags is a bad habit .x</td>\n      <td>562</td>\n      <td>1.0</td>\n      <td>hats</td>\n      <td>32</td>\n      <td>Two years</td>\n      <td>143656996</td>\n      <td>12.19.14</td>\n      <td>6</td>\n      <td>rag bone floppy brim fedora</td>\n      <td>195.0</td>\n      <td>1833</td>\n      <td>55</td>\n      <td>raw/images/143656996/6.jpg</td>\n      <td>datasets/images256x256/143656996/6.jpg</td>\n      <td>datasets/bg_removed/143656996/6.png</td>\n    </tr>\n    <tr>\n      <th>6</th>\n      <td>the people i choose never choose me and my hea...</td>\n      <td>1580</td>\n      <td>2.0</td>\n      <td>top</td>\n      <td>395</td>\n      <td>9 days</td>\n      <td>216470135</td>\n      <td>A fashion look from February 2017 by exco feat...</td>\n      <td>1</td>\n      <td>isabel marant alpaca blend jumper</td>\n      <td>615.0</td>\n      <td>268</td>\n      <td>19</td>\n      <td>raw/images/216470135/1.jpg</td>\n      <td>datasets/images256x256/216470135/1.jpg</td>\n      <td>datasets/bg_removed/216470135/1.png</td>\n    </tr>\n    <tr>\n      <th>7</th>\n      <td>the people i choose never choose me and my hea...</td>\n      <td>1580</td>\n      <td>4.0</td>\n      <td>skirt</td>\n      <td>395</td>\n      <td>9 days</td>\n      <td>216470135</td>\n      <td>A fashion look from February 2017 by exco feat...</td>\n      <td>2</td>\n      <td>yoins light blue gradient color hole denim skirt</td>\n      <td>22.0</td>\n      <td>331</td>\n      <td>9</td>\n      <td>raw/images/216470135/2.jpg</td>\n      <td>datasets/images256x256/216470135/2.jpg</td>\n      <td>datasets/bg_removed/216470135/2.png</td>\n    </tr>\n    <tr>\n      <th>8</th>\n      <td>the people i choose never choose me and my hea...</td>\n      <td>1580</td>\n      <td>5.0</td>\n      <td>shoes</td>\n      <td>395</td>\n      <td>9 days</td>\n      <td>216470135</td>\n      <td>A fashion look from February 2017 by exco feat...</td>\n      <td>3</td>\n      <td>alice light blue shoes flats leather sandals</td>\n      <td>189.0</td>\n      <td>2634</td>\n      <td>41</td>\n      <td>raw/images/216470135/3.jpg</td>\n      <td>datasets/images256x256/216470135/3.jpg</td>\n      <td>datasets/bg_removed/216470135/3.png</td>\n    </tr>\n    <tr>\n      <th>9</th>\n      <td>Be happy!</td>\n      <td>591</td>\n      <td>2.0</td>\n      <td>top</td>\n      <td>233</td>\n      <td>14 days</td>\n      <td>216220312</td>\n      <td>A fashion look from February 2017 by rasa-j fe...</td>\n      <td>1</td>\n      <td>oasis shadow bird knit pink</td>\n      <td>47.0</td>\n      <td>4874</td>\n      <td>19</td>\n      <td>raw/images/216220312/1.jpg</td>\n      <td>datasets/images256x256/216220312/1.jpg</td>\n      <td>datasets/bg_removed/216220312/1.png</td>\n    </tr>\n  </tbody>\n</table>\n</div>"
     },
     "execution_count": 12,
     "metadata": {},
     "output_type": "execute_result"
    }
   ],
   "source": [
    "small_df"
   ],
   "metadata": {
    "collapsed": false,
    "ExecuteTime": {
     "end_time": "2024-04-27T22:30:13.753438Z",
     "start_time": "2024-04-27T22:30:13.749425Z"
    }
   },
   "id": "ea2061931d6539e0"
  },
  {
   "cell_type": "markdown",
   "source": [
    "## Add the Colorname based on the RGB Value"
   ],
   "metadata": {
    "collapsed": false
   },
   "id": "f6c22855d628d065"
  },
  {
   "cell_type": "code",
   "execution_count": 17,
   "outputs": [
    {
     "ename": "ImportError",
     "evalue": "cannot import name 'css3_hex_to_names' from 'webcolors' (/Users/luca/.local/share/virtualenvs/DSPRO2-outfit-recommendation-etrui0aa/lib/python3.10/site-packages/webcolors/__init__.py)",
     "output_type": "error",
     "traceback": [
      "\u001B[0;31m---------------------------------------------------------------------------\u001B[0m",
      "\u001B[0;31mImportError\u001B[0m                               Traceback (most recent call last)",
      "Cell \u001B[0;32mIn[17], line 2\u001B[0m\n\u001B[1;32m      1\u001B[0m \u001B[38;5;28;01mfrom\u001B[39;00m \u001B[38;5;21;01mscipy\u001B[39;00m\u001B[38;5;21;01m.\u001B[39;00m\u001B[38;5;21;01mspatial\u001B[39;00m \u001B[38;5;28;01mimport\u001B[39;00m KDTree\n\u001B[0;32m----> 2\u001B[0m \u001B[38;5;28;01mfrom\u001B[39;00m \u001B[38;5;21;01mwebcolors\u001B[39;00m \u001B[38;5;28;01mimport\u001B[39;00m css3_hex_to_names, hex_to_rgb\n\u001B[1;32m      4\u001B[0m \u001B[38;5;28;01mdef\u001B[39;00m \u001B[38;5;21mconvert_rgb_to_names\u001B[39m(rgb_tuple):\n\u001B[1;32m      5\u001B[0m     \n\u001B[1;32m      6\u001B[0m     \u001B[38;5;66;03m# a dictionary of all the hex and their respective names in css3\u001B[39;00m\n\u001B[1;32m      7\u001B[0m     css3_db \u001B[38;5;241m=\u001B[39m css3_hex_to_names\n",
      "\u001B[0;31mImportError\u001B[0m: cannot import name 'css3_hex_to_names' from 'webcolors' (/Users/luca/.local/share/virtualenvs/DSPRO2-outfit-recommendation-etrui0aa/lib/python3.10/site-packages/webcolors/__init__.py)"
     ]
    }
   ],
   "source": [
    "from scipy.spatial import KDTree\n",
    "from webcolors import css3_hex_to_names, hex_to_rgb\n",
    "\n",
    "def convert_rgb_to_names(rgb_tuple):\n",
    "    \n",
    "    # a dictionary of all the hex and their respective names in css3\n",
    "    css3_db = css3_hex_to_names\n",
    "    names = []\n",
    "    rgb_values = []\n",
    "    for color_hex, color_name in css3_db.items():\n",
    "        names.append(color_name)\n",
    "        rgb_values.append(hex_to_rgb(color_hex))\n",
    "    \n",
    "    kdt_db = KDTree(rgb_values)\n",
    "    distance, index = kdt_db.query(rgb_tuple)\n",
    "    return f'closest match: {names[index]}'\n",
    "print(convert_rgb_to_names((30, 29, 28)))"
   ],
   "metadata": {
    "collapsed": false,
    "ExecuteTime": {
     "end_time": "2024-04-27T22:40:32.209320Z",
     "start_time": "2024-04-27T22:40:32.198178Z"
    }
   },
   "id": "92e97effbfd28b51"
  },
  {
   "cell_type": "code",
   "execution_count": 16,
   "outputs": [],
   "source": [
    "from scipy.spatial import KDTree\n",
    "import webcolors\n",
    "def convert_rgb_to_names(rgb_tuple):\n",
    "    css3_db = webcolors.CSS3_HEX_TO_NAMES\n",
    "    names = []\n",
    "    rgb_values = []\n",
    "    for color_hex, color_name in css3_db.items():\n",
    "        names.append(color_name)\n",
    "        rgb_values.append(webcolors.hex_to_rgb(color_hex))\n",
    "    kdt_db = KDTree(rgb_values)\n",
    "    distance, index = kdt_db.query(rgb_tuple)\n",
    "    return f'closest match: {names[index]}'"
   ],
   "metadata": {
    "collapsed": false,
    "ExecuteTime": {
     "end_time": "2024-04-27T22:39:22.676671Z",
     "start_time": "2024-04-27T22:39:22.660891Z"
    }
   },
   "id": "e20b7b5460fb4a56"
  },
  {
   "cell_type": "code",
   "execution_count": 19,
   "outputs": [
    {
     "ename": "ValueError",
     "evalue": "\"(30, 29, 28)\" is not a valid hexadecimal color value.",
     "output_type": "error",
     "traceback": [
      "\u001B[0;31m---------------------------------------------------------------------------\u001B[0m",
      "\u001B[0;31mValueError\u001B[0m                                Traceback (most recent call last)",
      "Cell \u001B[0;32mIn[19], line 2\u001B[0m\n\u001B[1;32m      1\u001B[0m \u001B[38;5;28;01mimport\u001B[39;00m \u001B[38;5;21;01mwebcolors\u001B[39;00m\n\u001B[0;32m----> 2\u001B[0m \u001B[43mwebcolors\u001B[49m\u001B[38;5;241;43m.\u001B[39;49m\u001B[43mhex_to_name\u001B[49m\u001B[43m(\u001B[49m\u001B[38;5;124;43m'\u001B[39;49m\u001B[38;5;124;43m(30, 29, 28)\u001B[39;49m\u001B[38;5;124;43m'\u001B[39;49m\u001B[43m)\u001B[49m\n",
      "File \u001B[0;32m~/.local/share/virtualenvs/DSPRO2-outfit-recommendation-etrui0aa/lib/python3.10/site-packages/webcolors/conversion.py:149\u001B[0m, in \u001B[0;36mhex_to_name\u001B[0;34m(hex_value, spec)\u001B[0m\n\u001B[1;32m    146\u001B[0m \u001B[38;5;28;01mif\u001B[39;00m spec \u001B[38;5;129;01mnot\u001B[39;00m \u001B[38;5;129;01min\u001B[39;00m constants\u001B[38;5;241m.\u001B[39mSUPPORTED_SPECIFICATIONS:\n\u001B[1;32m    147\u001B[0m     \u001B[38;5;28;01mraise\u001B[39;00m \u001B[38;5;167;01mValueError\u001B[39;00m(constants\u001B[38;5;241m.\u001B[39mSPECIFICATION_ERROR_TEMPLATE\u001B[38;5;241m.\u001B[39mformat(spec\u001B[38;5;241m=\u001B[39mspec))\n\u001B[1;32m    148\u001B[0m name \u001B[38;5;241m=\u001B[39m \u001B[38;5;28mgetattr\u001B[39m(constants, \u001B[38;5;124mf\u001B[39m\u001B[38;5;124m\"\u001B[39m\u001B[38;5;132;01m{\u001B[39;00mspec\u001B[38;5;241m.\u001B[39mupper()\u001B[38;5;132;01m}\u001B[39;00m\u001B[38;5;124m_HEX_TO_NAMES\u001B[39m\u001B[38;5;124m\"\u001B[39m)\u001B[38;5;241m.\u001B[39mget(\n\u001B[0;32m--> 149\u001B[0m     \u001B[43mnormalization\u001B[49m\u001B[38;5;241;43m.\u001B[39;49m\u001B[43mnormalize_hex\u001B[49m\u001B[43m(\u001B[49m\u001B[43mhex_value\u001B[49m\u001B[43m)\u001B[49m\n\u001B[1;32m    150\u001B[0m )\n\u001B[1;32m    151\u001B[0m \u001B[38;5;28;01mif\u001B[39;00m name \u001B[38;5;129;01mis\u001B[39;00m \u001B[38;5;28;01mNone\u001B[39;00m:\n\u001B[1;32m    152\u001B[0m     \u001B[38;5;28;01mraise\u001B[39;00m \u001B[38;5;167;01mValueError\u001B[39;00m(\u001B[38;5;124mf\u001B[39m\u001B[38;5;124m'\u001B[39m\u001B[38;5;124m\"\u001B[39m\u001B[38;5;132;01m{\u001B[39;00mhex_value\u001B[38;5;132;01m}\u001B[39;00m\u001B[38;5;124m\"\u001B[39m\u001B[38;5;124m has no defined color name in \u001B[39m\u001B[38;5;132;01m{\u001B[39;00mspec\u001B[38;5;132;01m}\u001B[39;00m\u001B[38;5;124m.\u001B[39m\u001B[38;5;124m'\u001B[39m)\n",
      "File \u001B[0;32m~/.local/share/virtualenvs/DSPRO2-outfit-recommendation-etrui0aa/lib/python3.10/site-packages/webcolors/normalization.py:46\u001B[0m, in \u001B[0;36mnormalize_hex\u001B[0;34m(hex_value)\u001B[0m\n\u001B[1;32m     44\u001B[0m match \u001B[38;5;241m=\u001B[39m constants\u001B[38;5;241m.\u001B[39mHEX_COLOR_RE\u001B[38;5;241m.\u001B[39mmatch(hex_value)\n\u001B[1;32m     45\u001B[0m \u001B[38;5;28;01mif\u001B[39;00m match \u001B[38;5;129;01mis\u001B[39;00m \u001B[38;5;28;01mNone\u001B[39;00m:\n\u001B[0;32m---> 46\u001B[0m     \u001B[38;5;28;01mraise\u001B[39;00m \u001B[38;5;167;01mValueError\u001B[39;00m(\u001B[38;5;124mf\u001B[39m\u001B[38;5;124m'\u001B[39m\u001B[38;5;124m\"\u001B[39m\u001B[38;5;132;01m{\u001B[39;00mhex_value\u001B[38;5;132;01m}\u001B[39;00m\u001B[38;5;124m\"\u001B[39m\u001B[38;5;124m is not a valid hexadecimal color value.\u001B[39m\u001B[38;5;124m'\u001B[39m)\n\u001B[1;32m     47\u001B[0m hex_digits \u001B[38;5;241m=\u001B[39m match\u001B[38;5;241m.\u001B[39mgroup(\u001B[38;5;241m1\u001B[39m)\n\u001B[1;32m     48\u001B[0m \u001B[38;5;28;01mif\u001B[39;00m \u001B[38;5;28mlen\u001B[39m(hex_digits) \u001B[38;5;241m==\u001B[39m \u001B[38;5;241m3\u001B[39m:\n",
      "\u001B[0;31mValueError\u001B[0m: \"(30, 29, 28)\" is not a valid hexadecimal color value."
     ]
    }
   ],
   "source": [
    "import webcolors\n",
    "webcolors.hex_to_name('(30, 29, 28)')"
   ],
   "metadata": {
    "collapsed": false,
    "ExecuteTime": {
     "end_time": "2024-04-27T22:43:09.341124Z",
     "start_time": "2024-04-27T22:43:09.324153Z"
    }
   },
   "id": "c75ccf9268770fdc"
  },
  {
   "cell_type": "markdown",
   "source": [
    "# REAL CODE"
   ],
   "metadata": {
    "collapsed": false
   },
   "id": "3721cd80112a25e"
  },
  {
   "cell_type": "code",
   "execution_count": 18,
   "outputs": [
    {
     "name": "stdout",
     "output_type": "stream",
     "text": [
      "/Users/romanzberg/projects/DSPRO2-outfit-recommendation/datasets/bg_removed/120161271/1.png\n"
     ]
    },
    {
     "ename": "FileNotFoundError",
     "evalue": "[Errno 2] No such file or directory: '/Users/romanzberg/projects/DSPRO2-outfit-recommendation/datasets/bg_removed/120161271/1.png'",
     "output_type": "error",
     "traceback": [
      "\u001B[0;31m---------------------------------------------------------------------------\u001B[0m",
      "\u001B[0;31mFileNotFoundError\u001B[0m                         Traceback (most recent call last)",
      "Cell \u001B[0;32mIn[18], line 1\u001B[0m\n\u001B[0;32m----> 1\u001B[0m df[\u001B[38;5;124m\"\u001B[39m\u001B[38;5;124mDominant Color\u001B[39m\u001B[38;5;124m\"\u001B[39m] \u001B[38;5;241m=\u001B[39m \u001B[43mdf\u001B[49m\u001B[43m[\u001B[49m\u001B[38;5;124;43m\"\u001B[39;49m\u001B[38;5;124;43mimagePath BG-Removed\u001B[39;49m\u001B[38;5;124;43m\"\u001B[39;49m\u001B[43m]\u001B[49m\u001B[38;5;241;43m.\u001B[39;49m\u001B[43mapply\u001B[49m\u001B[43m(\u001B[49m\u001B[38;5;28;43;01mlambda\u001B[39;49;00m\u001B[43m \u001B[49m\u001B[43mx\u001B[49m\u001B[43m:\u001B[49m\u001B[43m \u001B[49m\u001B[43mget_palette\u001B[49m\u001B[43m(\u001B[49m\u001B[43mx\u001B[49m\u001B[43m,\u001B[49m\u001B[43m \u001B[49m\u001B[38;5;241;43m3\u001B[39;49m\u001B[43m,\u001B[49m\u001B[43m \u001B[49m\u001B[38;5;241;43m1\u001B[39;49m\u001B[43m)\u001B[49m\u001B[43m)\u001B[49m\n",
      "File \u001B[0;32m~/.local/share/virtualenvs/DSPRO2-outfit-recommendation-QOdjBNZs/lib/python3.10/site-packages/pandas/core/series.py:4924\u001B[0m, in \u001B[0;36mSeries.apply\u001B[0;34m(self, func, convert_dtype, args, by_row, **kwargs)\u001B[0m\n\u001B[1;32m   4789\u001B[0m \u001B[38;5;28;01mdef\u001B[39;00m \u001B[38;5;21mapply\u001B[39m(\n\u001B[1;32m   4790\u001B[0m     \u001B[38;5;28mself\u001B[39m,\n\u001B[1;32m   4791\u001B[0m     func: AggFuncType,\n\u001B[0;32m   (...)\u001B[0m\n\u001B[1;32m   4796\u001B[0m     \u001B[38;5;241m*\u001B[39m\u001B[38;5;241m*\u001B[39mkwargs,\n\u001B[1;32m   4797\u001B[0m ) \u001B[38;5;241m-\u001B[39m\u001B[38;5;241m>\u001B[39m DataFrame \u001B[38;5;241m|\u001B[39m Series:\n\u001B[1;32m   4798\u001B[0m \u001B[38;5;250m    \u001B[39m\u001B[38;5;124;03m\"\"\"\u001B[39;00m\n\u001B[1;32m   4799\u001B[0m \u001B[38;5;124;03m    Invoke function on values of Series.\u001B[39;00m\n\u001B[1;32m   4800\u001B[0m \n\u001B[0;32m   (...)\u001B[0m\n\u001B[1;32m   4915\u001B[0m \u001B[38;5;124;03m    dtype: float64\u001B[39;00m\n\u001B[1;32m   4916\u001B[0m \u001B[38;5;124;03m    \"\"\"\u001B[39;00m\n\u001B[1;32m   4917\u001B[0m     \u001B[38;5;28;01mreturn\u001B[39;00m \u001B[43mSeriesApply\u001B[49m\u001B[43m(\u001B[49m\n\u001B[1;32m   4918\u001B[0m \u001B[43m        \u001B[49m\u001B[38;5;28;43mself\u001B[39;49m\u001B[43m,\u001B[49m\n\u001B[1;32m   4919\u001B[0m \u001B[43m        \u001B[49m\u001B[43mfunc\u001B[49m\u001B[43m,\u001B[49m\n\u001B[1;32m   4920\u001B[0m \u001B[43m        \u001B[49m\u001B[43mconvert_dtype\u001B[49m\u001B[38;5;241;43m=\u001B[39;49m\u001B[43mconvert_dtype\u001B[49m\u001B[43m,\u001B[49m\n\u001B[1;32m   4921\u001B[0m \u001B[43m        \u001B[49m\u001B[43mby_row\u001B[49m\u001B[38;5;241;43m=\u001B[39;49m\u001B[43mby_row\u001B[49m\u001B[43m,\u001B[49m\n\u001B[1;32m   4922\u001B[0m \u001B[43m        \u001B[49m\u001B[43margs\u001B[49m\u001B[38;5;241;43m=\u001B[39;49m\u001B[43margs\u001B[49m\u001B[43m,\u001B[49m\n\u001B[1;32m   4923\u001B[0m \u001B[43m        \u001B[49m\u001B[43mkwargs\u001B[49m\u001B[38;5;241;43m=\u001B[39;49m\u001B[43mkwargs\u001B[49m\u001B[43m,\u001B[49m\n\u001B[0;32m-> 4924\u001B[0m \u001B[43m    \u001B[49m\u001B[43m)\u001B[49m\u001B[38;5;241;43m.\u001B[39;49m\u001B[43mapply\u001B[49m\u001B[43m(\u001B[49m\u001B[43m)\u001B[49m\n",
      "File \u001B[0;32m~/.local/share/virtualenvs/DSPRO2-outfit-recommendation-QOdjBNZs/lib/python3.10/site-packages/pandas/core/apply.py:1427\u001B[0m, in \u001B[0;36mSeriesApply.apply\u001B[0;34m(self)\u001B[0m\n\u001B[1;32m   1424\u001B[0m     \u001B[38;5;28;01mreturn\u001B[39;00m \u001B[38;5;28mself\u001B[39m\u001B[38;5;241m.\u001B[39mapply_compat()\n\u001B[1;32m   1426\u001B[0m \u001B[38;5;66;03m# self.func is Callable\u001B[39;00m\n\u001B[0;32m-> 1427\u001B[0m \u001B[38;5;28;01mreturn\u001B[39;00m \u001B[38;5;28;43mself\u001B[39;49m\u001B[38;5;241;43m.\u001B[39;49m\u001B[43mapply_standard\u001B[49m\u001B[43m(\u001B[49m\u001B[43m)\u001B[49m\n",
      "File \u001B[0;32m~/.local/share/virtualenvs/DSPRO2-outfit-recommendation-QOdjBNZs/lib/python3.10/site-packages/pandas/core/apply.py:1507\u001B[0m, in \u001B[0;36mSeriesApply.apply_standard\u001B[0;34m(self)\u001B[0m\n\u001B[1;32m   1501\u001B[0m \u001B[38;5;66;03m# row-wise access\u001B[39;00m\n\u001B[1;32m   1502\u001B[0m \u001B[38;5;66;03m# apply doesn't have a `na_action` keyword and for backward compat reasons\u001B[39;00m\n\u001B[1;32m   1503\u001B[0m \u001B[38;5;66;03m# we need to give `na_action=\"ignore\"` for categorical data.\u001B[39;00m\n\u001B[1;32m   1504\u001B[0m \u001B[38;5;66;03m# TODO: remove the `na_action=\"ignore\"` when that default has been changed in\u001B[39;00m\n\u001B[1;32m   1505\u001B[0m \u001B[38;5;66;03m#  Categorical (GH51645).\u001B[39;00m\n\u001B[1;32m   1506\u001B[0m action \u001B[38;5;241m=\u001B[39m \u001B[38;5;124m\"\u001B[39m\u001B[38;5;124mignore\u001B[39m\u001B[38;5;124m\"\u001B[39m \u001B[38;5;28;01mif\u001B[39;00m \u001B[38;5;28misinstance\u001B[39m(obj\u001B[38;5;241m.\u001B[39mdtype, CategoricalDtype) \u001B[38;5;28;01melse\u001B[39;00m \u001B[38;5;28;01mNone\u001B[39;00m\n\u001B[0;32m-> 1507\u001B[0m mapped \u001B[38;5;241m=\u001B[39m \u001B[43mobj\u001B[49m\u001B[38;5;241;43m.\u001B[39;49m\u001B[43m_map_values\u001B[49m\u001B[43m(\u001B[49m\n\u001B[1;32m   1508\u001B[0m \u001B[43m    \u001B[49m\u001B[43mmapper\u001B[49m\u001B[38;5;241;43m=\u001B[39;49m\u001B[43mcurried\u001B[49m\u001B[43m,\u001B[49m\u001B[43m \u001B[49m\u001B[43mna_action\u001B[49m\u001B[38;5;241;43m=\u001B[39;49m\u001B[43maction\u001B[49m\u001B[43m,\u001B[49m\u001B[43m \u001B[49m\u001B[43mconvert\u001B[49m\u001B[38;5;241;43m=\u001B[39;49m\u001B[38;5;28;43mself\u001B[39;49m\u001B[38;5;241;43m.\u001B[39;49m\u001B[43mconvert_dtype\u001B[49m\n\u001B[1;32m   1509\u001B[0m \u001B[43m\u001B[49m\u001B[43m)\u001B[49m\n\u001B[1;32m   1511\u001B[0m \u001B[38;5;28;01mif\u001B[39;00m \u001B[38;5;28mlen\u001B[39m(mapped) \u001B[38;5;129;01mand\u001B[39;00m \u001B[38;5;28misinstance\u001B[39m(mapped[\u001B[38;5;241m0\u001B[39m], ABCSeries):\n\u001B[1;32m   1512\u001B[0m     \u001B[38;5;66;03m# GH#43986 Need to do list(mapped) in order to get treated as nested\u001B[39;00m\n\u001B[1;32m   1513\u001B[0m     \u001B[38;5;66;03m#  See also GH#25959 regarding EA support\u001B[39;00m\n\u001B[1;32m   1514\u001B[0m     \u001B[38;5;28;01mreturn\u001B[39;00m obj\u001B[38;5;241m.\u001B[39m_constructor_expanddim(\u001B[38;5;28mlist\u001B[39m(mapped), index\u001B[38;5;241m=\u001B[39mobj\u001B[38;5;241m.\u001B[39mindex)\n",
      "File \u001B[0;32m~/.local/share/virtualenvs/DSPRO2-outfit-recommendation-QOdjBNZs/lib/python3.10/site-packages/pandas/core/base.py:921\u001B[0m, in \u001B[0;36mIndexOpsMixin._map_values\u001B[0;34m(self, mapper, na_action, convert)\u001B[0m\n\u001B[1;32m    918\u001B[0m \u001B[38;5;28;01mif\u001B[39;00m \u001B[38;5;28misinstance\u001B[39m(arr, ExtensionArray):\n\u001B[1;32m    919\u001B[0m     \u001B[38;5;28;01mreturn\u001B[39;00m arr\u001B[38;5;241m.\u001B[39mmap(mapper, na_action\u001B[38;5;241m=\u001B[39mna_action)\n\u001B[0;32m--> 921\u001B[0m \u001B[38;5;28;01mreturn\u001B[39;00m \u001B[43malgorithms\u001B[49m\u001B[38;5;241;43m.\u001B[39;49m\u001B[43mmap_array\u001B[49m\u001B[43m(\u001B[49m\u001B[43marr\u001B[49m\u001B[43m,\u001B[49m\u001B[43m \u001B[49m\u001B[43mmapper\u001B[49m\u001B[43m,\u001B[49m\u001B[43m \u001B[49m\u001B[43mna_action\u001B[49m\u001B[38;5;241;43m=\u001B[39;49m\u001B[43mna_action\u001B[49m\u001B[43m,\u001B[49m\u001B[43m \u001B[49m\u001B[43mconvert\u001B[49m\u001B[38;5;241;43m=\u001B[39;49m\u001B[43mconvert\u001B[49m\u001B[43m)\u001B[49m\n",
      "File \u001B[0;32m~/.local/share/virtualenvs/DSPRO2-outfit-recommendation-QOdjBNZs/lib/python3.10/site-packages/pandas/core/algorithms.py:1743\u001B[0m, in \u001B[0;36mmap_array\u001B[0;34m(arr, mapper, na_action, convert)\u001B[0m\n\u001B[1;32m   1741\u001B[0m values \u001B[38;5;241m=\u001B[39m arr\u001B[38;5;241m.\u001B[39mastype(\u001B[38;5;28mobject\u001B[39m, copy\u001B[38;5;241m=\u001B[39m\u001B[38;5;28;01mFalse\u001B[39;00m)\n\u001B[1;32m   1742\u001B[0m \u001B[38;5;28;01mif\u001B[39;00m na_action \u001B[38;5;129;01mis\u001B[39;00m \u001B[38;5;28;01mNone\u001B[39;00m:\n\u001B[0;32m-> 1743\u001B[0m     \u001B[38;5;28;01mreturn\u001B[39;00m \u001B[43mlib\u001B[49m\u001B[38;5;241;43m.\u001B[39;49m\u001B[43mmap_infer\u001B[49m\u001B[43m(\u001B[49m\u001B[43mvalues\u001B[49m\u001B[43m,\u001B[49m\u001B[43m \u001B[49m\u001B[43mmapper\u001B[49m\u001B[43m,\u001B[49m\u001B[43m \u001B[49m\u001B[43mconvert\u001B[49m\u001B[38;5;241;43m=\u001B[39;49m\u001B[43mconvert\u001B[49m\u001B[43m)\u001B[49m\n\u001B[1;32m   1744\u001B[0m \u001B[38;5;28;01melse\u001B[39;00m:\n\u001B[1;32m   1745\u001B[0m     \u001B[38;5;28;01mreturn\u001B[39;00m lib\u001B[38;5;241m.\u001B[39mmap_infer_mask(\n\u001B[1;32m   1746\u001B[0m         values, mapper, mask\u001B[38;5;241m=\u001B[39misna(values)\u001B[38;5;241m.\u001B[39mview(np\u001B[38;5;241m.\u001B[39muint8), convert\u001B[38;5;241m=\u001B[39mconvert\n\u001B[1;32m   1747\u001B[0m     )\n",
      "File \u001B[0;32mlib.pyx:2972\u001B[0m, in \u001B[0;36mpandas._libs.lib.map_infer\u001B[0;34m()\u001B[0m\n",
      "Cell \u001B[0;32mIn[18], line 1\u001B[0m, in \u001B[0;36m<lambda>\u001B[0;34m(x)\u001B[0m\n\u001B[0;32m----> 1\u001B[0m df[\u001B[38;5;124m\"\u001B[39m\u001B[38;5;124mDominant Color\u001B[39m\u001B[38;5;124m\"\u001B[39m] \u001B[38;5;241m=\u001B[39m df[\u001B[38;5;124m\"\u001B[39m\u001B[38;5;124mimagePath BG-Removed\u001B[39m\u001B[38;5;124m\"\u001B[39m]\u001B[38;5;241m.\u001B[39mapply(\u001B[38;5;28;01mlambda\u001B[39;00m x: \u001B[43mget_palette\u001B[49m\u001B[43m(\u001B[49m\u001B[43mx\u001B[49m\u001B[43m,\u001B[49m\u001B[43m \u001B[49m\u001B[38;5;241;43m3\u001B[39;49m\u001B[43m,\u001B[49m\u001B[43m \u001B[49m\u001B[38;5;241;43m1\u001B[39;49m\u001B[43m)\u001B[49m)\n",
      "Cell \u001B[0;32mIn[7], line 5\u001B[0m, in \u001B[0;36mget_palette\u001B[0;34m(img_path, color_count, quality)\u001B[0m\n\u001B[1;32m      3\u001B[0m full_path \u001B[38;5;241m=\u001B[39m parent_directory \u001B[38;5;241m+\u001B[39m \u001B[38;5;124m\"\u001B[39m\u001B[38;5;124m/\u001B[39m\u001B[38;5;124m\"\u001B[39m \u001B[38;5;241m+\u001B[39m img_path\n\u001B[1;32m      4\u001B[0m \u001B[38;5;28mprint\u001B[39m(full_path)\n\u001B[0;32m----> 5\u001B[0m thief \u001B[38;5;241m=\u001B[39m \u001B[43mColorThief\u001B[49m\u001B[43m(\u001B[49m\u001B[43mfull_path\u001B[49m\u001B[43m)\u001B[49m\n\u001B[1;32m      6\u001B[0m palette \u001B[38;5;241m=\u001B[39m thief\u001B[38;5;241m.\u001B[39mget_palette(color_count\u001B[38;5;241m=\u001B[39mcolor_count, quality\u001B[38;5;241m=\u001B[39mquality)\n\u001B[1;32m      7\u001B[0m \u001B[38;5;28;01mreturn\u001B[39;00m palette\n",
      "File \u001B[0;32m~/.local/share/virtualenvs/DSPRO2-outfit-recommendation-QOdjBNZs/lib/python3.10/site-packages/colorthief.py:39\u001B[0m, in \u001B[0;36mColorThief.__init__\u001B[0;34m(self, file)\u001B[0m\n\u001B[1;32m     32\u001B[0m \u001B[38;5;28;01mdef\u001B[39;00m \u001B[38;5;21m__init__\u001B[39m(\u001B[38;5;28mself\u001B[39m, file):\n\u001B[1;32m     33\u001B[0m \u001B[38;5;250m    \u001B[39m\u001B[38;5;124;03m\"\"\"Create one color thief for one image.\u001B[39;00m\n\u001B[1;32m     34\u001B[0m \n\u001B[1;32m     35\u001B[0m \u001B[38;5;124;03m    :param file: A filename (string) or a file object. The file object\u001B[39;00m\n\u001B[1;32m     36\u001B[0m \u001B[38;5;124;03m                 must implement `read()`, `seek()`, and `tell()` methods,\u001B[39;00m\n\u001B[1;32m     37\u001B[0m \u001B[38;5;124;03m                 and be opened in binary mode.\u001B[39;00m\n\u001B[1;32m     38\u001B[0m \u001B[38;5;124;03m    \"\"\"\u001B[39;00m\n\u001B[0;32m---> 39\u001B[0m     \u001B[38;5;28mself\u001B[39m\u001B[38;5;241m.\u001B[39mimage \u001B[38;5;241m=\u001B[39m \u001B[43mImage\u001B[49m\u001B[38;5;241;43m.\u001B[39;49m\u001B[43mopen\u001B[49m\u001B[43m(\u001B[49m\u001B[43mfile\u001B[49m\u001B[43m)\u001B[49m\n",
      "File \u001B[0;32m~/.local/share/virtualenvs/DSPRO2-outfit-recommendation-QOdjBNZs/lib/python3.10/site-packages/PIL/Image.py:3236\u001B[0m, in \u001B[0;36mopen\u001B[0;34m(fp, mode, formats)\u001B[0m\n\u001B[1;32m   3233\u001B[0m     filename \u001B[38;5;241m=\u001B[39m fp\n\u001B[1;32m   3235\u001B[0m \u001B[38;5;28;01mif\u001B[39;00m filename:\n\u001B[0;32m-> 3236\u001B[0m     fp \u001B[38;5;241m=\u001B[39m \u001B[43mbuiltins\u001B[49m\u001B[38;5;241;43m.\u001B[39;49m\u001B[43mopen\u001B[49m\u001B[43m(\u001B[49m\u001B[43mfilename\u001B[49m\u001B[43m,\u001B[49m\u001B[43m \u001B[49m\u001B[38;5;124;43m\"\u001B[39;49m\u001B[38;5;124;43mrb\u001B[39;49m\u001B[38;5;124;43m\"\u001B[39;49m\u001B[43m)\u001B[49m\n\u001B[1;32m   3237\u001B[0m     exclusive_fp \u001B[38;5;241m=\u001B[39m \u001B[38;5;28;01mTrue\u001B[39;00m\n\u001B[1;32m   3239\u001B[0m \u001B[38;5;28;01mtry\u001B[39;00m:\n",
      "\u001B[0;31mFileNotFoundError\u001B[0m: [Errno 2] No such file or directory: '/Users/romanzberg/projects/DSPRO2-outfit-recommendation/datasets/bg_removed/120161271/1.png'"
     ]
    }
   ],
   "source": [
    "df[\"Dominant Color\"] = df[\"imagePath BG-Removed\"].apply(lambda x: get_palette(x, 3, 1))"
   ],
   "metadata": {
    "collapsed": false
   },
   "id": "867c3579ed413156"
  },
  {
   "cell_type": "code",
   "execution_count": null,
   "outputs": [],
   "source": [
    "df.head()"
   ],
   "metadata": {
    "collapsed": false
   },
   "id": "1edf7c1a4c50e205"
  },
  {
   "cell_type": "code",
   "execution_count": null,
   "outputs": [],
   "source": [
    "df[\"Ratio\"] =  df[\"outfitLikes\"] / df[\"outfitViews\"]"
   ],
   "metadata": {
    "collapsed": false
   },
   "id": "2cbc655b7507d4bc"
  },
  {
   "cell_type": "code",
   "execution_count": null,
   "outputs": [],
   "source": [
    "df[\"Ratio\"].describe()"
   ],
   "metadata": {
    "collapsed": false
   },
   "id": "3f360d3cbbf0d809"
  },
  {
   "cell_type": "code",
   "execution_count": null,
   "outputs": [],
   "source": [
    "df = df.drop(df[df[\"Ratio\"] > 1.0].index)"
   ],
   "metadata": {
    "collapsed": false
   },
   "id": "4728b297288d72b3"
  },
  {
   "cell_type": "code",
   "execution_count": null,
   "outputs": [],
   "source": [
    "df[\"Ratio_Log\"] =  np.log10(df[\"outfitLikes\"] / df[\"outfitViews\"])"
   ],
   "metadata": {
    "collapsed": false
   },
   "id": "4c95a3cc15923b95"
  },
  {
   "cell_type": "code",
   "execution_count": null,
   "outputs": [],
   "source": [
    "# I want to create a new dataframe with the unique indexes of the setID. So every setID should only appear once.\n",
    "\n",
    "df_copy = copy.deepcopy(df)\n",
    "setIDs = df_copy[\"set_id\"].unique()"
   ],
   "metadata": {
    "collapsed": false
   },
   "id": "a832b676d2e36b52"
  },
  {
   "cell_type": "code",
   "execution_count": null,
   "outputs": [],
   "source": [
    "df.head()"
   ],
   "metadata": {
    "collapsed": false
   },
   "id": "38fca1dbae11fcb1"
  },
  {
   "cell_type": "code",
   "execution_count": null,
   "outputs": [],
   "source": [
    "def add_item_to_setID(setID, item, wearType):\n",
    "    df_setID.loc[setID, f\"{wearType} ClothingItemName\"] = item[\"clothingItemName\"]\n",
    "    df_setID.loc[setID, f\"{wearType} wearType\"] = item[\"wearType\"]\n",
    "    df_setID.loc[setID, f\"{wearType} ImagePath\"] = item[\"imagePath\"]\n",
    "    df_setID.loc[setID, f\"{wearType} ImagePath 256x256\"] = item[\"imagePath 256x256\"]\n",
    "    df_setID.loc[setID, f\"{wearType} ImagePath BG Removed\"] = item[\"imagePath BG-Removed\"]\n"
   ],
   "metadata": {
    "collapsed": false
   },
   "id": "ecf94e0b6b5713dd"
  },
  {
   "cell_type": "code",
   "execution_count": null,
   "outputs": [],
   "source": [
    "df_setID = pd.DataFrame()\n",
    "for set_id in setIDs:\n",
    "    #Initialisatio\n",
    "    items = df[df[\"set_id\"] == set_id]\n",
    "    df_items = pd.DataFrame(items)\n",
    "    added_accessoire = False\n",
    "    \n",
    "    #Adding the basic information about the SetID\n",
    "    df_setID.loc[set_id, \"OutfitName\"] = df[df[\"set_id\"] == set_id][\"outfitName\"].values[0]\n",
    "    df_setID.loc[set_id, \"outfitDesc\"] = df[df[\"set_id\"] == set_id][\"outfitDesc\"].values[0]\n",
    "    df_setID.loc[set_id, \"outfitViews\"] = df[df[\"set_id\"] == set_id][\"outfitViews\"].values[0]\n",
    "    df_setID.loc[set_id, \"outfitLikes\"] = df[df[\"set_id\"] == set_id][\"outfitLikes\"].values[0]\n",
    "    df_setID.loc[set_id, \"Ratio\"] = df[df[\"set_id\"] == set_id][\"Ratio\"].values[0]\n",
    "    \n",
    "    #Adding the items to the setID\n",
    "    for index, item in df_items.iterrows():\n",
    "        if (item[\"wearType\"] == 1.0) and added_accessoire:\n",
    "            print(\"Sorry, es wurde bereits ein Accessoirces hinzugefügt\")\n",
    "            continue\n",
    "        if (item[\"wearType\"] == 5.0):\n",
    "            add_item_to_setID(set_id, item, \"Shoes\")\n",
    "        elif (item[\"wearType\"] == 4.0):\n",
    "            add_item_to_setID(set_id, item, \"Bottomwear\")\n",
    "        elif (item[\"wearType\"] == 2.0):\n",
    "            add_item_to_setID(set_id, item, \"Innerwear\")   \n",
    "        elif (item[\"wearType\"] == 3.0):\n",
    "            add_item_to_setID(set_id, item, \"Outerwear\")\n",
    "        elif (item[\"wearType\"] == 1.0):\n",
    "            add_item_to_setID(set_id, item, \"Accessoire\")\n",
    "            added_accessoire = True\n",
    "        else:\n",
    "            print(item[\"wearType\"])\n",
    "            raise ValueError(\"WearType not found\")"
   ],
   "metadata": {
    "collapsed": false
   },
   "id": "ce02f37f69d7b5b6"
  },
  {
   "cell_type": "markdown",
   "source": [
    "# Data Quality Assessment"
   ],
   "metadata": {
    "collapsed": false
   },
   "id": "42d6cfdcb6d09dad"
  },
  {
   "cell_type": "code",
   "execution_count": null,
   "outputs": [],
   "source": [
    "df[df[\"wearType\"].isna() == True]"
   ],
   "metadata": {
    "collapsed": false
   },
   "id": "8004583151bfa9ef"
  },
  {
   "cell_type": "markdown",
   "source": [
    "### Drop the Rows the a Ratio over 1.0. This is not possible"
   ],
   "metadata": {
    "collapsed": false
   },
   "id": "747beadb05dca695"
  },
  {
   "cell_type": "code",
   "execution_count": null,
   "outputs": [],
   "source": [
    "df_setID = df_setID.drop(df_setID[df_setID[\"Ratio\"] > 1.0].index)"
   ],
   "metadata": {
    "collapsed": false
   },
   "id": "2d4828b083a0681f"
  },
  {
   "cell_type": "code",
   "execution_count": null,
   "outputs": [],
   "source": [
    "sns.histplot(df_setID[\"Ratio\"])"
   ],
   "metadata": {
    "collapsed": false
   },
   "id": "d14c91aa81c75d62"
  },
  {
   "cell_type": "code",
   "execution_count": null,
   "outputs": [],
   "source": [
    "sns.boxplot(x=df_setID[\"Ratio\"])\n"
   ],
   "metadata": {
    "collapsed": false
   },
   "id": "a30c7d9af731e7f1"
  },
  {
   "cell_type": "code",
   "execution_count": null,
   "outputs": [],
   "source": [
    "df_setID[\"Ratio_Log\"] =  abs(np.log(df_setID[\"Ratio\"]))\n",
    "df_setID[\"Ratio_Log10\"] =  abs(np.log10(df_setID[\"Ratio\"]))\n",
    "print(df_setID[\"Ratio_Log\"].skew())\n",
    "print(df_setID[\"Ratio_Log10\"].skew())"
   ],
   "metadata": {
    "collapsed": false
   },
   "id": "2efaa48d1f1fb5c5"
  },
  {
   "cell_type": "code",
   "execution_count": null,
   "outputs": [],
   "source": [
    "#Normalize this from 0 to 1 --> df_setID[\"Ratio_Log\"] \n",
    "import sklearn.preprocessing\n",
    "\n",
    "scaler = sklearn.preprocessing.MinMaxScaler()\n",
    "df_setID[\"Ratio_Log_Normalized\"] = scaler.fit_transform(df_setID[[\"Ratio_Log\"]])"
   ],
   "metadata": {
    "collapsed": false
   },
   "id": "2ec02427a31caf5b"
  },
  {
   "cell_type": "code",
   "execution_count": null,
   "outputs": [],
   "source": [
    "sns.histplot(df_setID[\"Ratio_Log_Normalized\"])"
   ],
   "metadata": {
    "collapsed": false
   },
   "id": "88d1a950107b06a6"
  },
  {
   "cell_type": "markdown",
   "source": [
    "# Add the three most dominant colors to the dataframe"
   ],
   "metadata": {
    "collapsed": false
   },
   "id": "9c69f07b35b83860"
  },
  {
   "cell_type": "markdown",
   "source": [
    "### Add the path to the BG-Removed to the dataframe"
   ],
   "metadata": {
    "collapsed": false
   },
   "id": "3c297808c7e410b9"
  },
  {
   "cell_type": "code",
   "execution_count": 1,
   "outputs": [
    {
     "ename": "NameError",
     "evalue": "name 'df_setID' is not defined",
     "output_type": "error",
     "traceback": [
      "\u001B[0;31m---------------------------------------------------------------------------\u001B[0m",
      "\u001B[0;31mNameError\u001B[0m                                 Traceback (most recent call last)",
      "Cell \u001B[0;32mIn[1], line 1\u001B[0m\n\u001B[0;32m----> 1\u001B[0m \u001B[43mdf_setID\u001B[49m\u001B[38;5;241m.\u001B[39mhead()\n",
      "\u001B[0;31mNameError\u001B[0m: name 'df_setID' is not defined"
     ]
    }
   ],
   "source": [
    "df_setID.head()"
   ],
   "metadata": {
    "collapsed": false,
    "ExecuteTime": {
     "end_time": "2024-05-09T18:03:29.605600Z",
     "start_time": "2024-05-09T18:03:29.451689Z"
    }
   },
   "id": "62443eeb61a161c6"
  },
  {
   "cell_type": "code",
   "execution_count": null,
   "outputs": [],
   "source": [],
   "metadata": {
    "collapsed": false
   },
   "id": "75810e590f32d9ae"
  }
 ],
 "metadata": {
  "kernelspec": {
   "display_name": "Python 3",
   "language": "python",
   "name": "python3"
  },
  "language_info": {
   "codemirror_mode": {
    "name": "ipython",
    "version": 2
   },
   "file_extension": ".py",
   "mimetype": "text/x-python",
   "name": "python",
   "nbconvert_exporter": "python",
   "pygments_lexer": "ipython2",
   "version": "2.7.6"
  }
 },
 "nbformat": 4,
 "nbformat_minor": 5
}
