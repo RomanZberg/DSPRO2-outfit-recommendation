{
 "cells": [
  {
   "cell_type": "code",
   "execution_count": 3,
   "id": "initial_id",
   "metadata": {
    "collapsed": true,
    "ExecuteTime": {
     "end_time": "2024-03-15T13:05:30.282950Z",
     "start_time": "2024-03-15T13:05:30.275153Z"
    }
   },
   "outputs": [],
   "source": [
    "import pandas as pd\n",
    "import numpy as np\n",
    "import json\n"
   ]
  },
  {
   "cell_type": "code",
   "execution_count": 7,
   "outputs": [],
   "source": [
    "path = \"../datasets/raw/polyvore-dataset-master/polyvore/\""
   ],
   "metadata": {
    "collapsed": false,
    "ExecuteTime": {
     "end_time": "2024-03-15T13:06:46.849988Z",
     "start_time": "2024-03-15T13:06:46.841590Z"
    }
   },
   "id": "273c5268a2ba8215"
  },
  {
   "cell_type": "code",
   "execution_count": 28,
   "outputs": [
    {
     "name": "stdout",
     "output_type": "stream",
     "text": [
      "18604\n",
      "18169\n"
     ]
    }
   ],
   "source": [
    "\n",
    "with open(path + \"test_no_dup.json\", 'r') as file:\n",
    "    # Load JSON data from file\n",
    "    data = json.load(file)\n",
    "\n",
    "image_list = []\n",
    "\n",
    "for outfit in range(len(data)):\n",
    "    for image_item in range(len(data[outfit].get(\"items\"))):\n",
    "        #print(data[outfit].get(\"items\")[image_item].get(\"image\"))\n",
    "        image_list.append(data[outfit].get(\"items\")[image_item].get(\"image\"))\n",
    "print(len(image_list))\n",
    "\n",
    "\n",
    "\n",
    "set_images = set(image_list)\n",
    "\n",
    "print(len(set_images))\n"
   ],
   "metadata": {
    "collapsed": false,
    "ExecuteTime": {
     "end_time": "2024-03-15T13:24:35.016539Z",
     "start_time": "2024-03-15T13:24:34.953276Z"
    }
   },
   "id": "7208e09272b52450"
  },
  {
   "cell_type": "code",
   "execution_count": 29,
   "outputs": [],
   "source": [
    "df = pd.DataFrame(image_list, columns=[\"image\"])"
   ],
   "metadata": {
    "collapsed": false,
    "ExecuteTime": {
     "end_time": "2024-03-15T13:46:18.924502Z",
     "start_time": "2024-03-15T13:46:18.913176Z"
    }
   },
   "id": "8cd27c4749ac642"
  },
  {
   "cell_type": "code",
   "execution_count": 33,
   "outputs": [
    {
     "data": {
      "text/plain": "image                                                                  \nhttp://img1.polyvoreimg.com/cgi/img-thing?.out=jpg&size=m&tid=158550365    21\nhttp://img1.polyvoreimg.com/cgi/img-thing?.out=jpg&size=m&tid=30068935     21\nhttp://img2.polyvoreimg.com/cgi/img-thing?.out=jpg&size=m&tid=168798831    21\nhttp://img2.polyvoreimg.com/cgi/img-thing?.out=jpg&size=m&tid=57635065      4\nhttp://img1.polyvoreimg.com/cgi/img-thing?.out=jpg&size=m&tid=90220607      3\n                                                                           ..\nhttp://img1.polyvoreimg.com/cgi/img-thing?.out=jpg&size=m&tid=188579057     1\nhttp://img1.polyvoreimg.com/cgi/img-thing?.out=jpg&size=m&tid=188580686     1\nhttp://img1.polyvoreimg.com/cgi/img-thing?.out=jpg&size=m&tid=188582921     1\nhttp://img1.polyvoreimg.com/cgi/img-thing?.out=jpg&size=m&tid=188586277     1\nhttp://img2.polyvoreimg.com/cgi/img-thing?.out=jpg&size=m&tid=99993206      1\nName: count, Length: 18169, dtype: int64"
     },
     "execution_count": 33,
     "metadata": {},
     "output_type": "execute_result"
    }
   ],
   "source": [
    "df.value_counts()"
   ],
   "metadata": {
    "collapsed": false,
    "ExecuteTime": {
     "end_time": "2024-03-15T13:47:08.137251Z",
     "start_time": "2024-03-15T13:47:08.098994Z"
    }
   },
   "id": "2821ff1485aba392"
  },
  {
   "cell_type": "code",
   "execution_count": null,
   "outputs": [],
   "source": [],
   "metadata": {
    "collapsed": false
   },
   "id": "cce033c6ce82fba7"
  }
 ],
 "metadata": {
  "kernelspec": {
   "display_name": "Python 3",
   "language": "python",
   "name": "python3"
  },
  "language_info": {
   "codemirror_mode": {
    "name": "ipython",
    "version": 2
   },
   "file_extension": ".py",
   "mimetype": "text/x-python",
   "name": "python",
   "nbconvert_exporter": "python",
   "pygments_lexer": "ipython2",
   "version": "2.7.6"
  }
 },
 "nbformat": 4,
 "nbformat_minor": 5
}
